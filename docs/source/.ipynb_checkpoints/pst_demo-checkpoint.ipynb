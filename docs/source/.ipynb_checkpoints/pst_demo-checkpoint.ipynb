{
 "cells": [
  {
   "cell_type": "markdown",
   "metadata": {},
   "source": [
    "# The Pst class\n",
    "\n",
    "The `pst_handler` module contains the `Pst` class for dealing with pest control files.  It relies heavily on `pandas` to deal with tabular sections, such as parameters, observations, and prior information.  "
   ]
  },
  {
   "cell_type": "code",
   "execution_count": 3,
   "metadata": {
    "collapsed": true
   },
   "outputs": [],
   "source": [
    "from __future__ import print_function\n",
    "import os\n",
    "import numpy as np\n",
    "import pyemu\n",
    "from pyemu import Pst"
   ]
  },
  {
   "cell_type": "markdown",
   "metadata": {},
   "source": [
    "We need to pass the name of a pest control file to instantiate the class.  The class instance (or object)\n",
    "is assigned to the variable *p*."
   ]
  },
  {
   "cell_type": "code",
   "execution_count": 4,
   "metadata": {
    "collapsed": true
   },
   "outputs": [],
   "source": [
    "pst_name = os.path.join(\"..\", \"..\", \"examples\", \"henry\",\"pest.pst\")\n",
    "p = Pst(pst_name)"
   ]
  },
  {
   "cell_type": "markdown",
   "metadata": {},
   "source": [
    "Now all of the relevant parts of the pest control file are attributes of the object.\n",
    "For example, the parameter_data, observation data, and prior information are available as pandas dataframes.\n"
   ]
  },
  {
   "cell_type": "code",
   "execution_count": 5,
   "metadata": {},
   "outputs": [
    {
     "data": {
      "text/html": [
       "<div>\n",
       "<style>\n",
       "    .dataframe thead tr:only-child th {\n",
       "        text-align: right;\n",
       "    }\n",
       "\n",
       "    .dataframe thead th {\n",
       "        text-align: left;\n",
       "    }\n",
       "\n",
       "    .dataframe tbody tr th {\n",
       "        vertical-align: top;\n",
       "    }\n",
       "</style>\n",
       "<table border=\"1\" class=\"dataframe\">\n",
       "  <thead>\n",
       "    <tr style=\"text-align: right;\">\n",
       "      <th></th>\n",
       "      <th>parnme</th>\n",
       "      <th>partrans</th>\n",
       "      <th>parchglim</th>\n",
       "      <th>parval1</th>\n",
       "      <th>parlbnd</th>\n",
       "      <th>parubnd</th>\n",
       "      <th>pargp</th>\n",
       "      <th>scale</th>\n",
       "      <th>offset</th>\n",
       "      <th>dercom</th>\n",
       "      <th>extra</th>\n",
       "    </tr>\n",
       "    <tr>\n",
       "      <th>parnme</th>\n",
       "      <th></th>\n",
       "      <th></th>\n",
       "      <th></th>\n",
       "      <th></th>\n",
       "      <th></th>\n",
       "      <th></th>\n",
       "      <th></th>\n",
       "      <th></th>\n",
       "      <th></th>\n",
       "      <th></th>\n",
       "      <th></th>\n",
       "    </tr>\n",
       "  </thead>\n",
       "  <tbody>\n",
       "    <tr>\n",
       "      <th>global_k</th>\n",
       "      <td>global_k</td>\n",
       "      <td>log</td>\n",
       "      <td>factor</td>\n",
       "      <td>200.0</td>\n",
       "      <td>150.00</td>\n",
       "      <td>250.00</td>\n",
       "      <td>m</td>\n",
       "      <td>1.0</td>\n",
       "      <td>0.0</td>\n",
       "      <td>1</td>\n",
       "      <td>NaN</td>\n",
       "    </tr>\n",
       "    <tr>\n",
       "      <th>mult1</th>\n",
       "      <td>mult1</td>\n",
       "      <td>log</td>\n",
       "      <td>factor</td>\n",
       "      <td>1.0</td>\n",
       "      <td>0.75</td>\n",
       "      <td>1.25</td>\n",
       "      <td>m</td>\n",
       "      <td>1.0</td>\n",
       "      <td>0.0</td>\n",
       "      <td>1</td>\n",
       "      <td>NaN</td>\n",
       "    </tr>\n",
       "    <tr>\n",
       "      <th>mult2</th>\n",
       "      <td>mult2</td>\n",
       "      <td>log</td>\n",
       "      <td>factor</td>\n",
       "      <td>1.0</td>\n",
       "      <td>0.50</td>\n",
       "      <td>2.00</td>\n",
       "      <td>m</td>\n",
       "      <td>1.0</td>\n",
       "      <td>0.0</td>\n",
       "      <td>1</td>\n",
       "      <td>NaN</td>\n",
       "    </tr>\n",
       "    <tr>\n",
       "      <th>kr01c01</th>\n",
       "      <td>kr01c01</td>\n",
       "      <td>log</td>\n",
       "      <td>factor</td>\n",
       "      <td>1.0</td>\n",
       "      <td>0.10</td>\n",
       "      <td>10.00</td>\n",
       "      <td>p</td>\n",
       "      <td>1.0</td>\n",
       "      <td>0.0</td>\n",
       "      <td>1</td>\n",
       "      <td>NaN</td>\n",
       "    </tr>\n",
       "    <tr>\n",
       "      <th>kr01c02</th>\n",
       "      <td>kr01c02</td>\n",
       "      <td>log</td>\n",
       "      <td>factor</td>\n",
       "      <td>1.0</td>\n",
       "      <td>0.10</td>\n",
       "      <td>10.00</td>\n",
       "      <td>p</td>\n",
       "      <td>1.0</td>\n",
       "      <td>0.0</td>\n",
       "      <td>1</td>\n",
       "      <td>NaN</td>\n",
       "    </tr>\n",
       "  </tbody>\n",
       "</table>\n",
       "</div>"
      ],
      "text/plain": [
       "            parnme partrans parchglim  parval1  parlbnd  parubnd pargp  scale  \\\n",
       "parnme                                                                          \n",
       "global_k  global_k      log    factor    200.0   150.00   250.00     m    1.0   \n",
       "mult1        mult1      log    factor      1.0     0.75     1.25     m    1.0   \n",
       "mult2        mult2      log    factor      1.0     0.50     2.00     m    1.0   \n",
       "kr01c01    kr01c01      log    factor      1.0     0.10    10.00     p    1.0   \n",
       "kr01c02    kr01c02      log    factor      1.0     0.10    10.00     p    1.0   \n",
       "\n",
       "          offset  dercom  extra  \n",
       "parnme                           \n",
       "global_k     0.0       1    NaN  \n",
       "mult1        0.0       1    NaN  \n",
       "mult2        0.0       1    NaN  \n",
       "kr01c01      0.0       1    NaN  \n",
       "kr01c02      0.0       1    NaN  "
      ]
     },
     "execution_count": 5,
     "metadata": {},
     "output_type": "execute_result"
    }
   ],
   "source": [
    "p.parameter_data.head()"
   ]
  },
  {
   "cell_type": "code",
   "execution_count": 6,
   "metadata": {},
   "outputs": [
    {
     "data": {
      "text/html": [
       "<div>\n",
       "<style>\n",
       "    .dataframe thead tr:only-child th {\n",
       "        text-align: right;\n",
       "    }\n",
       "\n",
       "    .dataframe thead th {\n",
       "        text-align: left;\n",
       "    }\n",
       "\n",
       "    .dataframe tbody tr th {\n",
       "        vertical-align: top;\n",
       "    }\n",
       "</style>\n",
       "<table border=\"1\" class=\"dataframe\">\n",
       "  <thead>\n",
       "    <tr style=\"text-align: right;\">\n",
       "      <th></th>\n",
       "      <th>obsnme</th>\n",
       "      <th>obsval</th>\n",
       "      <th>weight</th>\n",
       "      <th>obgnme</th>\n",
       "      <th>extra</th>\n",
       "    </tr>\n",
       "    <tr>\n",
       "      <th>obsnme</th>\n",
       "      <th></th>\n",
       "      <th></th>\n",
       "      <th></th>\n",
       "      <th></th>\n",
       "      <th></th>\n",
       "    </tr>\n",
       "  </thead>\n",
       "  <tbody>\n",
       "    <tr>\n",
       "      <th>h_obs01_1</th>\n",
       "      <td>h_obs01_1</td>\n",
       "      <td>0.051396</td>\n",
       "      <td>152.1458</td>\n",
       "      <td>head</td>\n",
       "      <td>NaN</td>\n",
       "    </tr>\n",
       "    <tr>\n",
       "      <th>h_obs01_2</th>\n",
       "      <td>h_obs01_2</td>\n",
       "      <td>0.022156</td>\n",
       "      <td>0.0000</td>\n",
       "      <td>head</td>\n",
       "      <td>NaN</td>\n",
       "    </tr>\n",
       "    <tr>\n",
       "      <th>h_obs02_1</th>\n",
       "      <td>h_obs02_1</td>\n",
       "      <td>0.046879</td>\n",
       "      <td>152.1458</td>\n",
       "      <td>head</td>\n",
       "      <td>NaN</td>\n",
       "    </tr>\n",
       "    <tr>\n",
       "      <th>h_obs02_2</th>\n",
       "      <td>h_obs02_2</td>\n",
       "      <td>0.020853</td>\n",
       "      <td>0.0000</td>\n",
       "      <td>head</td>\n",
       "      <td>NaN</td>\n",
       "    </tr>\n",
       "    <tr>\n",
       "      <th>h_obs03_1</th>\n",
       "      <td>h_obs03_1</td>\n",
       "      <td>0.036584</td>\n",
       "      <td>152.1458</td>\n",
       "      <td>head</td>\n",
       "      <td>NaN</td>\n",
       "    </tr>\n",
       "  </tbody>\n",
       "</table>\n",
       "</div>"
      ],
      "text/plain": [
       "              obsnme    obsval    weight obgnme  extra\n",
       "obsnme                                                \n",
       "h_obs01_1  h_obs01_1  0.051396  152.1458   head    NaN\n",
       "h_obs01_2  h_obs01_2  0.022156    0.0000   head    NaN\n",
       "h_obs02_1  h_obs02_1  0.046879  152.1458   head    NaN\n",
       "h_obs02_2  h_obs02_2  0.020853    0.0000   head    NaN\n",
       "h_obs03_1  h_obs03_1  0.036584  152.1458   head    NaN"
      ]
     },
     "execution_count": 6,
     "metadata": {},
     "output_type": "execute_result"
    }
   ],
   "source": [
    "p.observation_data.head()"
   ]
  },
  {
   "cell_type": "code",
   "execution_count": 7,
   "metadata": {},
   "outputs": [
    {
     "data": {
      "text/html": [
       "<div>\n",
       "<style>\n",
       "    .dataframe thead tr:only-child th {\n",
       "        text-align: right;\n",
       "    }\n",
       "\n",
       "    .dataframe thead th {\n",
       "        text-align: left;\n",
       "    }\n",
       "\n",
       "    .dataframe tbody tr th {\n",
       "        vertical-align: top;\n",
       "    }\n",
       "</style>\n",
       "<table border=\"1\" class=\"dataframe\">\n",
       "  <thead>\n",
       "    <tr style=\"text-align: right;\">\n",
       "      <th></th>\n",
       "      <th>equation</th>\n",
       "      <th>obgnme</th>\n",
       "      <th>pilbl</th>\n",
       "      <th>weight</th>\n",
       "    </tr>\n",
       "    <tr>\n",
       "      <th>pilbl</th>\n",
       "      <th></th>\n",
       "      <th></th>\n",
       "      <th></th>\n",
       "      <th></th>\n",
       "    </tr>\n",
       "  </thead>\n",
       "  <tbody>\n",
       "    <tr>\n",
       "      <th>mult1</th>\n",
       "      <td>1.0 * log(mult1) = 0.000000</td>\n",
       "      <td>regul_m</td>\n",
       "      <td>mult1</td>\n",
       "      <td>1.0</td>\n",
       "    </tr>\n",
       "    <tr>\n",
       "      <th>kr01c01</th>\n",
       "      <td>1.0 * log(kr01c01) = 0.0</td>\n",
       "      <td>regul_p</td>\n",
       "      <td>kr01c01</td>\n",
       "      <td>1.0</td>\n",
       "    </tr>\n",
       "    <tr>\n",
       "      <th>kr01c02</th>\n",
       "      <td>1.0 * log(kr01c02) = 0.0</td>\n",
       "      <td>regul_p</td>\n",
       "      <td>kr01c02</td>\n",
       "      <td>1.0</td>\n",
       "    </tr>\n",
       "    <tr>\n",
       "      <th>kr01c03</th>\n",
       "      <td>1.0 * log(kr01c03) = 0.0</td>\n",
       "      <td>regul_p</td>\n",
       "      <td>kr01c03</td>\n",
       "      <td>1.0</td>\n",
       "    </tr>\n",
       "    <tr>\n",
       "      <th>kr01c04</th>\n",
       "      <td>1.0 * log(kr01c04) = 0.0</td>\n",
       "      <td>regul_p</td>\n",
       "      <td>kr01c04</td>\n",
       "      <td>1.0</td>\n",
       "    </tr>\n",
       "  </tbody>\n",
       "</table>\n",
       "</div>"
      ],
      "text/plain": [
       "                            equation   obgnme    pilbl  weight\n",
       "pilbl                                                         \n",
       "mult1    1.0 * log(mult1) = 0.000000  regul_m    mult1     1.0\n",
       "kr01c01     1.0 * log(kr01c01) = 0.0  regul_p  kr01c01     1.0\n",
       "kr01c02     1.0 * log(kr01c02) = 0.0  regul_p  kr01c02     1.0\n",
       "kr01c03     1.0 * log(kr01c03) = 0.0  regul_p  kr01c03     1.0\n",
       "kr01c04     1.0 * log(kr01c04) = 0.0  regul_p  kr01c04     1.0"
      ]
     },
     "execution_count": 7,
     "metadata": {},
     "output_type": "execute_result"
    }
   ],
   "source": [
    "p.prior_information.head()"
   ]
  },
  {
   "cell_type": "markdown",
   "metadata": {},
   "source": [
    "A residual file (`.rei` or `res`) can also be passed to the `resfile` argument at instantiation to enable some simple residual analysis and weight adjustments.  If the residual file is in the same directory as the pest control file and has the same base name, it will be accessed automatically:\n"
   ]
  },
  {
   "cell_type": "code",
   "execution_count": 8,
   "metadata": {},
   "outputs": [
    {
     "data": {
      "text/html": [
       "<div>\n",
       "<style>\n",
       "    .dataframe thead tr:only-child th {\n",
       "        text-align: right;\n",
       "    }\n",
       "\n",
       "    .dataframe thead th {\n",
       "        text-align: left;\n",
       "    }\n",
       "\n",
       "    .dataframe tbody tr th {\n",
       "        vertical-align: top;\n",
       "    }\n",
       "</style>\n",
       "<table border=\"1\" class=\"dataframe\">\n",
       "  <thead>\n",
       "    <tr style=\"text-align: right;\">\n",
       "      <th></th>\n",
       "      <th>name</th>\n",
       "      <th>group</th>\n",
       "      <th>measured</th>\n",
       "      <th>modelled</th>\n",
       "      <th>residual</th>\n",
       "      <th>weight</th>\n",
       "    </tr>\n",
       "    <tr>\n",
       "      <th>name</th>\n",
       "      <th></th>\n",
       "      <th></th>\n",
       "      <th></th>\n",
       "      <th></th>\n",
       "      <th></th>\n",
       "      <th></th>\n",
       "    </tr>\n",
       "  </thead>\n",
       "  <tbody>\n",
       "    <tr>\n",
       "      <th>h_obs01_1</th>\n",
       "      <td>h_obs01_1</td>\n",
       "      <td>head</td>\n",
       "      <td>0.051396</td>\n",
       "      <td>0.080402</td>\n",
       "      <td>-0.029006</td>\n",
       "      <td>152.1458</td>\n",
       "    </tr>\n",
       "    <tr>\n",
       "      <th>h_obs01_2</th>\n",
       "      <td>h_obs01_2</td>\n",
       "      <td>head</td>\n",
       "      <td>0.022156</td>\n",
       "      <td>0.036898</td>\n",
       "      <td>-0.014742</td>\n",
       "      <td>0.0000</td>\n",
       "    </tr>\n",
       "    <tr>\n",
       "      <th>h_obs02_1</th>\n",
       "      <td>h_obs02_1</td>\n",
       "      <td>head</td>\n",
       "      <td>0.046879</td>\n",
       "      <td>0.069121</td>\n",
       "      <td>-0.022241</td>\n",
       "      <td>152.1458</td>\n",
       "    </tr>\n",
       "    <tr>\n",
       "      <th>h_obs02_2</th>\n",
       "      <td>h_obs02_2</td>\n",
       "      <td>head</td>\n",
       "      <td>0.020853</td>\n",
       "      <td>0.034311</td>\n",
       "      <td>-0.013458</td>\n",
       "      <td>0.0000</td>\n",
       "    </tr>\n",
       "    <tr>\n",
       "      <th>h_obs03_1</th>\n",
       "      <td>h_obs03_1</td>\n",
       "      <td>head</td>\n",
       "      <td>0.036584</td>\n",
       "      <td>0.057722</td>\n",
       "      <td>-0.021138</td>\n",
       "      <td>152.1458</td>\n",
       "    </tr>\n",
       "  </tbody>\n",
       "</table>\n",
       "</div>"
      ],
      "text/plain": [
       "                name group  measured  modelled  residual    weight\n",
       "name                                                              \n",
       "h_obs01_1  h_obs01_1  head  0.051396  0.080402 -0.029006  152.1458\n",
       "h_obs01_2  h_obs01_2  head  0.022156  0.036898 -0.014742    0.0000\n",
       "h_obs02_1  h_obs02_1  head  0.046879  0.069121 -0.022241  152.1458\n",
       "h_obs02_2  h_obs02_2  head  0.020853  0.034311 -0.013458    0.0000\n",
       "h_obs03_1  h_obs03_1  head  0.036584  0.057722 -0.021138  152.1458"
      ]
     },
     "execution_count": 8,
     "metadata": {},
     "output_type": "execute_result"
    }
   ],
   "source": [
    "p.res.head()"
   ]
  },
  {
   "cell_type": "markdown",
   "metadata": {},
   "source": [
    "The `pst` class has some `@decorated` convience methods related to the residuals allowing the user\n",
    "to access the values and print in a straightforward way."
   ]
  },
  {
   "cell_type": "code",
   "execution_count": 9,
   "metadata": {},
   "outputs": [
    {
     "name": "stdout",
     "output_type": "stream",
     "text": [
      "1855.6874378297073 {'conc': 197.05822096106502, 'head': 1658.6292168686423, 'regul_m': 0.0, 'regul_p': 0.0}\n"
     ]
    }
   ],
   "source": [
    "print(p.phi,p.phi_components)"
   ]
  },
  {
   "cell_type": "markdown",
   "metadata": {},
   "source": [
    "Some additional `@decorated` convience methods:"
   ]
  },
  {
   "cell_type": "code",
   "execution_count": 10,
   "metadata": {},
   "outputs": [
    {
     "name": "stdout",
     "output_type": "stream",
     "text": [
      "603 75 601\n"
     ]
    }
   ],
   "source": [
    "print(p.npar,p.nobs,p.nprior)"
   ]
  },
  {
   "cell_type": "code",
   "execution_count": 11,
   "metadata": {},
   "outputs": [
    {
     "name": "stdout",
     "output_type": "stream",
     "text": [
      "['m', 'p'] ['conc', 'head']\n"
     ]
    }
   ],
   "source": [
    "print(p.par_groups,p.obs_groups)"
   ]
  },
  {
   "cell_type": "markdown",
   "metadata": {},
   "source": [
    "Printing the attribue type shows that some are returned as lists and others single values."
   ]
  },
  {
   "cell_type": "code",
   "execution_count": 14,
   "metadata": {},
   "outputs": [
    {
     "name": "stdout",
     "output_type": "stream",
     "text": [
      "<class 'list'>\n",
      "<class 'list'>\n",
      "<class 'list'>\n",
      "<class 'list'>\n",
      "<class 'float'>\n"
     ]
    }
   ],
   "source": [
    "print(type(p.par_names)) # all parameter names\n",
    "print(type(p.adj_par_names)) # adjustable parameter names\n",
    "print(type(p.obs_names)) # all observation names\n",
    "print(type(p.nnz_obs_names)) # non-zero weight observations\n",
    "print(type(p.phi))  # float value that is the weighted total objective function"
   ]
  },
  {
   "cell_type": "markdown",
   "metadata": {},
   "source": [
    "The \"control_data\" section of the pest control file is accessible in the `Pst.control_data` attribute:"
   ]
  },
  {
   "cell_type": "code",
   "execution_count": 15,
   "metadata": {},
   "outputs": [
    {
     "name": "stdout",
     "output_type": "stream",
     "text": [
      "jacupdate = 999\n",
      "numlam = 10\n",
      "numlam has been changed to --> 100\n"
     ]
    }
   ],
   "source": [
    "print('jacupdate = {0}'.format(p.control_data.jacupdate))\n",
    "print('numlam = {0}'.format(p.control_data.numlam))\n",
    "p.control_data.numlam = 100\n",
    "print('numlam has been changed to --> {0}'.format(p.control_data.numlam))"
   ]
  },
  {
   "cell_type": "markdown",
   "metadata": {},
   "source": [
    "The `Pst` class also exposes a method to get a new `Pst` instance with a subset of parameters and or obseravtions.  Note this method does not propogate prior information to the new instance:"
   ]
  },
  {
   "cell_type": "code",
   "execution_count": 16,
   "metadata": {},
   "outputs": [
    {
     "name": "stdout",
     "output_type": "stream",
     "text": [
      "                            equation   obgnme    pilbl  weight      names\n",
      "pilbl                                                                    \n",
      "mult1    1.0 * log(mult1) = 0.000000  regul_m    mult1     1.0    [mult1]\n",
      "kr01c01     1.0 * log(kr01c01) = 0.0  regul_p  kr01c01     1.0  [kr01c01]\n",
      "kr01c02     1.0 * log(kr01c02) = 0.0  regul_p  kr01c02     1.0  [kr01c02]\n",
      "kr01c03     1.0 * log(kr01c03) = 0.0  regul_p  kr01c03     1.0  [kr01c03]\n",
      "kr01c04     1.0 * log(kr01c04) = 0.0  regul_p  kr01c04     1.0  [kr01c04]\n",
      "kr01c05     1.0 * log(kr01c05) = 0.0  regul_p  kr01c05     1.0  [kr01c05]\n",
      "kr01c06     1.0 * log(kr01c06) = 0.0  regul_p  kr01c06     1.0  [kr01c06]\n",
      "kr01c07     1.0 * log(kr01c07) = 0.0  regul_p  kr01c07     1.0  [kr01c07]\n"
     ]
    }
   ],
   "source": [
    "pnew = p.get(p.par_names[:10],p.obs_names[-10:])\n",
    "print(pnew.prior_information)"
   ]
  },
  {
   "cell_type": "markdown",
   "metadata": {},
   "source": [
    "You can also write a pest control file with altered parameters, observations, and/or prior information:"
   ]
  },
  {
   "cell_type": "code",
   "execution_count": 17,
   "metadata": {},
   "outputs": [
    {
     "name": "stderr",
     "output_type": "stream",
     "text": [
      "C:\\Python27\\Anaconda\\envs\\py36\\lib\\site-packages\\pandas\\core\\indexing.py:337: SettingWithCopyWarning: \n",
      "A value is trying to be set on a copy of a slice from a DataFrame.\n",
      "Try using .loc[row_indexer,col_indexer] = value instead\n",
      "\n",
      "See the caveats in the documentation: http://pandas.pydata.org/pandas-docs/stable/indexing.html#indexing-view-versus-copy\n",
      "  self.obj[key] = _infer_fill_value(value)\n",
      "C:\\Python27\\Anaconda\\envs\\py36\\lib\\site-packages\\pandas\\core\\indexing.py:517: SettingWithCopyWarning: \n",
      "A value is trying to be set on a copy of a slice from a DataFrame.\n",
      "Try using .loc[row_indexer,col_indexer] = value instead\n",
      "\n",
      "See the caveats in the documentation: http://pandas.pydata.org/pandas-docs/stable/indexing.html#indexing-view-versus-copy\n",
      "  self.obj[item] = s\n"
     ]
    }
   ],
   "source": [
    "pnew.write(\"test.pst\")"
   ]
  },
  {
   "cell_type": "markdown",
   "metadata": {},
   "source": [
    "Some other methods in `Pst` include:"
   ]
  },
  {
   "cell_type": "code",
   "execution_count": 18,
   "metadata": {},
   "outputs": [
    {
     "data": {
      "text/html": [
       "<div>\n",
       "<style>\n",
       "    .dataframe thead tr:only-child th {\n",
       "        text-align: right;\n",
       "    }\n",
       "\n",
       "    .dataframe thead th {\n",
       "        text-align: left;\n",
       "    }\n",
       "\n",
       "    .dataframe tbody tr th {\n",
       "        vertical-align: top;\n",
       "    }\n",
       "</style>\n",
       "<table border=\"1\" class=\"dataframe\">\n",
       "  <thead>\n",
       "    <tr style=\"text-align: right;\">\n",
       "      <th></th>\n",
       "      <th>equation</th>\n",
       "      <th>obgnme</th>\n",
       "      <th>pilbl</th>\n",
       "      <th>weight</th>\n",
       "    </tr>\n",
       "    <tr>\n",
       "      <th>pilbl</th>\n",
       "      <th></th>\n",
       "      <th></th>\n",
       "      <th></th>\n",
       "      <th></th>\n",
       "    </tr>\n",
       "  </thead>\n",
       "  <tbody>\n",
       "    <tr>\n",
       "      <th>global_k</th>\n",
       "      <td>1.0 * log(global_k) =   2.301030E+00</td>\n",
       "      <td>regulm</td>\n",
       "      <td>global_k</td>\n",
       "      <td>4.507576</td>\n",
       "    </tr>\n",
       "    <tr>\n",
       "      <th>mult1</th>\n",
       "      <td>1.0 * log(mult1) =   0.000000E+00</td>\n",
       "      <td>regulm</td>\n",
       "      <td>mult1</td>\n",
       "      <td>4.507576</td>\n",
       "    </tr>\n",
       "    <tr>\n",
       "      <th>mult2</th>\n",
       "      <td>1.0 * log(mult2) =   0.000000E+00</td>\n",
       "      <td>regulm</td>\n",
       "      <td>mult2</td>\n",
       "      <td>1.660964</td>\n",
       "    </tr>\n",
       "    <tr>\n",
       "      <th>kr01c01</th>\n",
       "      <td>1.0 * log(kr01c01) =   0.000000E+00</td>\n",
       "      <td>regulp</td>\n",
       "      <td>kr01c01</td>\n",
       "      <td>0.500000</td>\n",
       "    </tr>\n",
       "    <tr>\n",
       "      <th>kr01c02</th>\n",
       "      <td>1.0 * log(kr01c02) =   0.000000E+00</td>\n",
       "      <td>regulp</td>\n",
       "      <td>kr01c02</td>\n",
       "      <td>0.500000</td>\n",
       "    </tr>\n",
       "  </tbody>\n",
       "</table>\n",
       "</div>"
      ],
      "text/plain": [
       "                                      equation  obgnme     pilbl    weight\n",
       "pilbl                                                                     \n",
       "global_k  1.0 * log(global_k) =   2.301030E+00  regulm  global_k  4.507576\n",
       "mult1        1.0 * log(mult1) =   0.000000E+00  regulm     mult1  4.507576\n",
       "mult2        1.0 * log(mult2) =   0.000000E+00  regulm     mult2  1.660964\n",
       "kr01c01    1.0 * log(kr01c01) =   0.000000E+00  regulp   kr01c01  0.500000\n",
       "kr01c02    1.0 * log(kr01c02) =   0.000000E+00  regulp   kr01c02  0.500000"
      ]
     },
     "execution_count": 18,
     "metadata": {},
     "output_type": "execute_result"
    }
   ],
   "source": [
    "# add preferred value regularization with weights proportional to parameter bounds\n",
    "pyemu.utils.helpers.zero_order_tikhonov(pnew)\n",
    "pnew.prior_information.head()"
   ]
  },
  {
   "cell_type": "code",
   "execution_count": 19,
   "metadata": {},
   "outputs": [
    {
     "data": {
      "text/html": [
       "<div>\n",
       "<style>\n",
       "    .dataframe thead tr:only-child th {\n",
       "        text-align: right;\n",
       "    }\n",
       "\n",
       "    .dataframe thead th {\n",
       "        text-align: left;\n",
       "    }\n",
       "\n",
       "    .dataframe tbody tr th {\n",
       "        vertical-align: top;\n",
       "    }\n",
       "</style>\n",
       "<table border=\"1\" class=\"dataframe\">\n",
       "  <thead>\n",
       "    <tr style=\"text-align: right;\">\n",
       "      <th></th>\n",
       "      <th>equation</th>\n",
       "      <th>obgnme</th>\n",
       "      <th>pilbl</th>\n",
       "      <th>weight</th>\n",
       "    </tr>\n",
       "  </thead>\n",
       "  <tbody>\n",
       "    <tr>\n",
       "      <th>0</th>\n",
       "      <td>1.0 * log(global_k) =   2.301030E+00</td>\n",
       "      <td>regulm</td>\n",
       "      <td>global_k</td>\n",
       "      <td>1.0</td>\n",
       "    </tr>\n",
       "    <tr>\n",
       "      <th>1</th>\n",
       "      <td>1.0 * log(mult1) =   0.000000E+00</td>\n",
       "      <td>regulm</td>\n",
       "      <td>mult1</td>\n",
       "      <td>1.0</td>\n",
       "    </tr>\n",
       "    <tr>\n",
       "      <th>2</th>\n",
       "      <td>1.0 * log(mult2) =   0.000000E+00</td>\n",
       "      <td>regulm</td>\n",
       "      <td>mult2</td>\n",
       "      <td>1.0</td>\n",
       "    </tr>\n",
       "    <tr>\n",
       "      <th>3</th>\n",
       "      <td>1.0 * log(kr01c01) =   0.000000E+00</td>\n",
       "      <td>regulp</td>\n",
       "      <td>kr01c01</td>\n",
       "      <td>1.0</td>\n",
       "    </tr>\n",
       "    <tr>\n",
       "      <th>4</th>\n",
       "      <td>1.0 * log(kr01c02) =   0.000000E+00</td>\n",
       "      <td>regulp</td>\n",
       "      <td>kr01c02</td>\n",
       "      <td>1.0</td>\n",
       "    </tr>\n",
       "  </tbody>\n",
       "</table>\n",
       "</div>"
      ],
      "text/plain": [
       "                               equation  obgnme     pilbl  weight\n",
       "0  1.0 * log(global_k) =   2.301030E+00  regulm  global_k     1.0\n",
       "1     1.0 * log(mult1) =   0.000000E+00  regulm     mult1     1.0\n",
       "2     1.0 * log(mult2) =   0.000000E+00  regulm     mult2     1.0\n",
       "3   1.0 * log(kr01c01) =   0.000000E+00  regulp   kr01c01     1.0\n",
       "4   1.0 * log(kr01c02) =   0.000000E+00  regulp   kr01c02     1.0"
      ]
     },
     "execution_count": 19,
     "metadata": {},
     "output_type": "execute_result"
    }
   ],
   "source": [
    "# add preferred value regularization with unity weights\n",
    "pyemu.utils.helpers.zero_order_tikhonov(pnew,parbounds=False)\n",
    "pnew.prior_information.head()"
   ]
  },
  {
   "cell_type": "markdown",
   "metadata": {},
   "source": [
    "Some more `res` functionality"
   ]
  },
  {
   "cell_type": "code",
   "execution_count": 20,
   "metadata": {},
   "outputs": [
    {
     "name": "stdout",
     "output_type": "stream",
     "text": [
      "1855.6874378297073 36 {'conc': 197.05822096106502, 'head': 1658.6292168686423}\n",
      "36.0 36 {'conc': 15.000000000000004, 'head': 21.0}\n"
     ]
    }
   ],
   "source": [
    "# adjust observation weights to account for residual phi components\n",
    "#pnew = p.get()\n",
    "print(p.phi, p.nnz_obs, p.phi_components)\n",
    "p.adjust_weights_resfile()\n",
    "print(p.phi, p.nnz_obs, p.phi_components)"
   ]
  },
  {
   "cell_type": "markdown",
   "metadata": {},
   "source": [
    "adjust observation weights by an arbitrary amount by groups:"
   ]
  },
  {
   "cell_type": "code",
   "execution_count": 21,
   "metadata": {},
   "outputs": [
    {
     "name": "stdout",
     "output_type": "stream",
     "text": [
      "36.0 36 {'conc': 15.000000000000004, 'head': 21.0}\n",
      "114.99999999999997 36 {'conc': 15.000000000000004, 'head': 99.99999999999997}\n"
     ]
    }
   ],
   "source": [
    "print(p.phi, p.nnz_obs, p.phi_components)\n",
    "grp_dict = {\"head\":100}\n",
    "p.adjust_weights(obsgrp_dict=grp_dict)\n",
    "print(p.phi, p.nnz_obs, p.phi_components)"
   ]
  },
  {
   "cell_type": "markdown",
   "metadata": {},
   "source": [
    "adjust observation weights by an arbitrary amount by individual observations:"
   ]
  },
  {
   "cell_type": "code",
   "execution_count": 22,
   "metadata": {},
   "outputs": [
    {
     "name": "stdout",
     "output_type": "stream",
     "text": [
      "114.99999999999997 36 {'conc': 15.000000000000004, 'head': 99.99999999999997}\n",
      "138.82580701146588 36 {'conc': 15.000000000000004, 'head': 123.82580701146588}\n"
     ]
    },
    {
     "name": "stderr",
     "output_type": "stream",
     "text": [
      "C:\\Python27\\Anaconda\\envs\\py36\\lib\\site-packages\\pyemu-0.4-py3.6.egg\\pyemu\\pst\\pst_handler.py:1586: FutureWarning: 'name' is both a column name and an index level.\n",
      "Defaulting to column but this will raise an ambiguity error in a future version\n",
      "C:\\Python27\\Anaconda\\envs\\py36\\lib\\site-packages\\pyemu-0.4-py3.6.egg\\pyemu\\pst\\pst_handler.py:1587: FutureWarning: 'obsnme' is both a column name and an index level.\n",
      "Defaulting to column but this will raise an ambiguity error in a future version\n"
     ]
    }
   ],
   "source": [
    "print(p.phi, p.nnz_obs, p.phi_components)\n",
    "obs_dict = {\"h_obs01_1\":25}\n",
    "p.adjust_weights(obs_dict=obs_dict)\n",
    "print(p.phi, p.nnz_obs, p.phi_components)"
   ]
  },
  {
   "cell_type": "markdown",
   "metadata": {},
   "source": [
    "setup weights inversely proportional to the observation values"
   ]
  },
  {
   "cell_type": "code",
   "execution_count": 23,
   "metadata": {},
   "outputs": [
    {
     "name": "stdout",
     "output_type": "stream",
     "text": [
      "36.0 36 {'conc': 14.999999999999998, 'head': 21.0}\n",
      "222.96996562151 36 {'conc': 194.30909581453392, 'head': 28.66086980697609}\n"
     ]
    }
   ],
   "source": [
    "p.adjust_weights_resfile()\n",
    "print(p.phi, p.nnz_obs, p.phi_components)\n",
    "p.proportional_weights(fraction_stdev=0.1,wmax=20.0)\n",
    "print(p.phi, p.nnz_obs, p.phi_components)"
   ]
  }
 ],
 "metadata": {
  "kernelspec": {
   "display_name": "Python 3",
   "language": "python",
   "name": "python3"
  },
  "language_info": {
   "codemirror_mode": {
    "name": "ipython",
    "version": 3
   },
   "file_extension": ".py",
   "mimetype": "text/x-python",
   "name": "python",
   "nbconvert_exporter": "python",
   "pygments_lexer": "ipython3",
   "version": "3.6.1"
  }
 },
 "nbformat": 4,
 "nbformat_minor": 1
}
