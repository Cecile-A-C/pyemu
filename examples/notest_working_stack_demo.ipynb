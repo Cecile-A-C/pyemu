{
 "cells": [
  {
   "cell_type": "markdown",
   "metadata": {},
   "source": [
    "# Current working stack for setting up PEST interface"
   ]
  },
  {
   "cell_type": "code",
   "execution_count": 1,
   "metadata": {},
   "outputs": [],
   "source": [
    "%matplotlib inline\n",
    "import os\n",
    "import numpy as np\n",
    "import pandas as pd\n",
    "import matplotlib.pyplot as plt\n",
    "import flopy\n",
    "import pyemu"
   ]
  },
  {
   "cell_type": "markdown",
   "metadata": {},
   "source": [
    "### load the existing model just to see what is going on"
   ]
  },
  {
   "cell_type": "code",
   "execution_count": 2,
   "metadata": {},
   "outputs": [],
   "source": [
    "nam_file = \"freyberg.nam\"\n",
    "org_model_ws = \"freyberg_sfr_update\"\n",
    "m = flopy.modflow.Modflow.load(nam_file,model_ws=org_model_ws,check=False)"
   ]
  },
  {
   "cell_type": "code",
   "execution_count": 3,
   "metadata": {},
   "outputs": [
    {
     "data": {
      "text/plain": [
       "3"
      ]
     },
     "execution_count": 3,
     "metadata": {},
     "output_type": "execute_result"
    }
   ],
   "source": [
    "m.dis.nper #stress periods"
   ]
  },
  {
   "cell_type": "code",
   "execution_count": 4,
   "metadata": {},
   "outputs": [
    {
     "data": {
      "text/plain": [
       "<matplotlib.axes._subplots.AxesSubplot at 0x19fa3c7ceb8>"
      ]
     },
     "execution_count": 4,
     "metadata": {},
     "output_type": "execute_result"
    },
    {
     "data": {
      "image/png": "[encoded data removed]",
      "text/plain": [
       "<matplotlib.figure.Figure at 0x19fa3c5ac18>"
      ]
     },
     "metadata": {},
     "output_type": "display_data"
    }
   ],
   "source": [
    "m.dis.botm[2].plot()"
   ]
  },
  {
   "cell_type": "markdown",
   "metadata": {},
   "source": [
    "### change the working dir and write a new copy of model files to keep the others safe"
   ]
  },
  {
   "cell_type": "code",
   "execution_count": 5,
   "metadata": {},
   "outputs": [
    {
     "name": "stdout",
     "output_type": "stream",
     "text": [
      "\n",
      "changing model workspace...\n",
      "   temp\n",
      "Util2d:delr: resetting 'how' to external\n",
      "Util2d:delc: resetting 'how' to external\n",
      "Util2d:model_top: resetting 'how' to external\n",
      "Util2d:botm_layer_0: resetting 'how' to external\n",
      "Util2d:botm_layer_1: resetting 'how' to external\n",
      "Util2d:botm_layer_2: resetting 'how' to external\n",
      "Util2d:ibound_layer_0: resetting 'how' to external\n",
      "Util2d:ibound_layer_1: resetting 'how' to external\n",
      "Util2d:ibound_layer_2: resetting 'how' to external\n",
      "Util2d:strt_layer_0: resetting 'how' to external\n",
      "Util2d:strt_layer_1: resetting 'how' to external\n",
      "Util2d:strt_layer_2: resetting 'how' to external\n",
      "Util2d:hk: resetting 'how' to external\n",
      "Util2d:vka: resetting 'how' to external\n",
      "Util2d:ss: resetting 'how' to external\n",
      "Util2d:hk: resetting 'how' to external\n",
      "Util2d:vka: resetting 'how' to external\n",
      "Util2d:ss: resetting 'how' to external\n",
      "Util2d:hk: resetting 'how' to external\n",
      "Util2d:vka: resetting 'how' to external\n",
      "Util2d:ss: resetting 'how' to external\n",
      "Util2d:rech_1: resetting 'how' to external\n",
      "Util2d:rech_2: resetting 'how' to external\n",
      "Util2d:rech_3: resetting 'how' to external\n",
      "FloPy is using the following executable to run the model: C:\\bin\\mfnwt.exe\n",
      "\n",
      "                                  MODFLOW-NWT-SWR1 \n",
      "    U.S. GEOLOGICAL SURVEY MODULAR FINITE-DIFFERENCE GROUNDWATER-FLOW MODEL\n",
      "                             WITH NEWTON FORMULATION\n",
      "                             Version 1.1.3, 8/01/2017                        \n",
      "                    BASED ON MODFLOW-2005 Version 1.11.0 08/08/2013                       \n",
      "\n",
      "                    SWR1 Version 1.04.0 09/15/2016                       \n",
      "\n",
      " Using NAME file: freyberg.nam \n",
      " Run start date and time (yyyy/mm/dd hh:mm:ss): 2018/03/20 14:39:43\n",
      "\n",
      " Solving:  Stress period:     1    Time step:     1    Groundwater-Flow Eqn.\n",
      " Solving:  Stress period:     2    Time step:     1    Groundwater-Flow Eqn.\n",
      " Solving:  Stress period:     3    Time step:     1    Groundwater-Flow Eqn.\n",
      " Run end date and time (yyyy/mm/dd hh:mm:ss): 2018/03/20 14:39:43\n",
      " Elapsed run time:  0.159 Seconds\n",
      "\n",
      "  Normal termination of simulation\n"
     ]
    },
    {
     "data": {
      "text/plain": [
       "(True, [])"
      ]
     },
     "execution_count": 5,
     "metadata": {},
     "output_type": "execute_result"
    }
   ],
   "source": [
    "m.change_model_ws(\"temp\",reset_external=True)\n",
    "m.external_path = '.'\n",
    "m.exe_name=\"mfnwt\"\n",
    "m.write_input()\n",
    "m.run_model()"
   ]
  },
  {
   "cell_type": "markdown",
   "metadata": {},
   "source": [
    "### build up args for which properties and outputs we want to include in the interface"
   ]
  },
  {
   "cell_type": "code",
   "execution_count": 6,
   "metadata": {},
   "outputs": [],
   "source": [
    "props,hds = [],[]\n",
    "for k in range(m.nlay):\n",
    "    #props.append([\"upw.hk\",k])\n",
    "    #props.append([\"upw.vka\",k])\n",
    "    for kper in range(m.nper):\n",
    "        hds.append([kper,k])\n",
    "    \n",
    "#props.append([\"rch.rech\",0])\n",
    "#props.append([\"rch.rech\",1])\n",
    "props.append([\"upw.hk\",0])"
   ]
  },
  {
   "cell_type": "markdown",
   "metadata": {},
   "source": [
    "### Here's where the cool stuff happens: this call will build a pest interace entirely using mulitplier parameters - a mixture of uniform (constant) and grid-scale parameters for all props listed above, plus multipliers for all wells in all stress periods and SFR components.  \n",
    "\n",
    "### For observations, we will get the MODFLOW list file budget values, sfr outputs and headsave file array values (all of them!).  All observations will be given simulated outputs - this is very useful for error checking...\n",
    "\n",
    "### The interface package will be written to \"template\" and includes a python forward run script - \"template\" is the whole package...."
   ]
  },
  {
   "cell_type": "code",
   "execution_count": 7,
   "metadata": {},
   "outputs": [
    {
     "name": "stdout",
     "output_type": "stream",
     "text": [
      "2018-03-20 14:39:43.864463 starting: loading flopy model\n",
      "\n",
      "Creating new model with name: freyberg\n",
      "--------------------------------------------------\n",
      "\n",
      "Parsing the namefile --> temp\\freyberg.nam\n",
      "Setting filehandles:\n",
      "\n",
      "--------------------------------------------------\n",
      "External unit dictionary:\n",
      "{2: filename:temp\\freyberg.list, filetype:LIST, 11: filename:temp\\freyberg.dis, filetype:DIS, 13: filename:temp\\freyberg.bas, filetype:BAS6, 31: filename:temp\\freyberg.upw, filetype:UPW, 19: filename:temp\\freyberg.rch, filetype:RCH, 32: filename:temp\\freyberg.nwt, filetype:NWT, 14: filename:temp\\freyberg.oc, filetype:OC, 30: filename:temp\\freyberg.lmt6, filetype:LMT6, 20: filename:temp\\freyberg.wel, filetype:WEL, 17: filename:temp\\freyberg.sfr, filetype:SFR, 50: filename:temp\\freyberg.cbc, filetype:DATA(BINARY), 51: filename:temp\\freyberg.hds, filetype:DATA(BINARY), 60: filename:temp\\freyberg.sfr.out, filetype:DATA}\n",
      "--------------------------------------------------\n",
      "\n",
      "ModflowBas6 free format:True\n",
      "\n",
      "loading dis package file...\n",
      "   Loading dis package with:\n",
      "      3 layers, 40 rows, 20 columns, and 3 stress periods\n",
      "   loading laycbd...\n",
      "   loading delr...\n",
      "   loading delc...\n",
      "   loading top...\n",
      "   loading botm...\n",
      "      for 3 layers and 0 confining beds\n",
      "   loading stress period data...\n",
      "       for 3 stress periods\n",
      "adding Package:  DIS\n",
      "   DIS  package load...success\n",
      "loading bas6 package file...\n",
      "adding Package:  BAS6\n",
      "   LIST package load...skipped\n",
      "loading bas6 package file...\n",
      "WARNING: unit 13 of package BAS6 already in use\n",
      "****Warning -- two packages of the same type:  <class 'flopy.modflow.mfbas.ModflowBas'> <class 'flopy.modflow.mfbas.ModflowBas'>\n",
      "replacing existing Package...\n",
      "   BAS6 package load...success\n",
      "loading upw package file...\n",
      "   loading ipakcb, HDRY, NPUPW, IPHDRY...\n",
      "   loading LAYTYP...\n",
      "   loading LAYAVG...\n",
      "   loading CHANI...\n",
      "   loading LAYVKA...\n",
      "   loading LAYWET...\n",
      "   loading hk layer   1...\n",
      "   loading vka layer   1...\n",
      "   loading ss layer   1...\n",
      "   loading hk layer   2...\n",
      "   loading vka layer   2...\n",
      "   loading ss layer   2...\n",
      "   loading hk layer   3...\n",
      "   loading vka layer   3...\n",
      "   loading ss layer   3...\n",
      "Adding freyberg.cbc (unit=50) to the output list.\n",
      "adding Package:  UPW\n",
      "   UPW  package load...success\n",
      "loading rch package file...\n",
      "   loading rech stress period   1...\n",
      "   loading rech stress period   2...\n",
      "   loading rech stress period   3...\n",
      "adding Package:  RCH\n",
      "   RCH  package load...success\n",
      "loading nwt package file...\n",
      "adding Package:  NWT\n",
      "   NWT  package load...success\n",
      "loading oc package file...\n",
      "Adding freyberg.hds (unit=51) to the output list.\n",
      "adding Package:  OC\n",
      "   OC   package load...success\n",
      "loading lmt package file...\n",
      "adding Package:  LMT6\n",
      "   LMT6 package load...success\n",
      "loading wel package file...\n",
      "   loading <class 'flopy.modflow.mfwel.ModflowWel'> for kper     1\n",
      "   loading <class 'flopy.modflow.mfwel.ModflowWel'> for kper     2\n",
      "   loading <class 'flopy.modflow.mfwel.ModflowWel'> for kper     3\n",
      "adding Package:  WEL\n",
      "   WEL  package load...success\n",
      "loading sfr2 package file...\n",
      "Adding freyberg.sfr.out (unit=60) to the output list.\n",
      "adding Package:  SFR\n",
      "   SFR  package load...success\n",
      "   DATA(BINARY) file load...skipped\n",
      "      freyberg.cbc\n",
      "   DATA(BINARY) file load...skipped\n",
      "      freyberg.hds\n",
      "   DATA file load...skipped\n",
      "      freyberg.sfr.out\n",
      "Warning: external file unit \" +                        \"11 does not exist in ext_unit_dict.\n",
      "Warning: external file unit \" +                        \"0 does not exist in ext_unit_dict.\n",
      "\n",
      "\n",
      "   The following 10 packages were successfully loaded.\n",
      "      freyberg.dis\n",
      "      freyberg.bas\n",
      "      freyberg.bas\n",
      "      freyberg.upw\n",
      "      freyberg.rch\n",
      "      freyberg.nwt\n",
      "      freyberg.oc\n",
      "      freyberg.lmt6\n",
      "      freyberg.wel\n",
      "      freyberg.sfr\n",
      "   The following 1 packages were not loaded.\n",
      "      freyberg.list\n",
      "\n",
      "\n",
      "2018-03-20 14:39:43.945485 finished: loading flopy model took: 0:00:00.081022\n",
      "2018-03-20 14:39:43.945485 starting: updating model attributes\n",
      "2018-03-20 14:39:43.945485 finished: updating model attributes took: 0:00:00\n",
      "2018-03-20 14:39:43.945485 WARNING: removing existing 'new_model_ws\n",
      "\n",
      "creating model workspace...\n",
      "   template\n",
      "\n",
      "changing model workspace...\n",
      "   template\n",
      "2018-03-20 14:39:44.046566 starting: writing new modflow input files\n",
      "\n",
      "Writing packages:\n",
      "   Package:  DIS\n",
      "Util2d:delr: resetting 'how' to external\n",
      "Util2d:delc: resetting 'how' to external\n",
      "Util2d:model_top: resetting 'how' to external\n",
      "Util2d:botm_layer_0: resetting 'how' to external\n",
      "Util2d:botm_layer_1: resetting 'how' to external\n",
      "Util2d:botm_layer_2: resetting 'how' to external\n",
      "   Package:  BAS6\n",
      "Util2d:ibound_layer_0: resetting 'how' to external\n",
      "Util2d:ibound_layer_1: resetting 'how' to external\n",
      "Util2d:ibound_layer_2: resetting 'how' to external\n",
      "Util2d:strt_layer_0: resetting 'how' to external\n",
      "Util2d:strt_layer_1: resetting 'how' to external\n",
      "Util2d:strt_layer_2: resetting 'how' to external\n",
      "   Package:  UPW\n",
      "Util2d:hk: resetting 'how' to external\n",
      "Util2d:vka: resetting 'how' to external\n",
      "Util2d:ss: resetting 'how' to external\n",
      "Util2d:hk: resetting 'how' to external\n",
      "Util2d:vka: resetting 'how' to external\n",
      "Util2d:ss: resetting 'how' to external\n",
      "Util2d:hk: resetting 'how' to external\n",
      "Util2d:vka: resetting 'how' to external\n",
      "Util2d:ss: resetting 'how' to external\n",
      "   Package:  RCH\n",
      "Util2d:rech_1: resetting 'how' to external\n",
      "Util2d:rech_2: resetting 'how' to external\n",
      "Util2d:rech_3: resetting 'how' to external\n",
      "   Package:  NWT\n",
      "   Package:  OC\n",
      "   Package:  LMT6\n",
      "   Package:  WEL\n",
      "   Package:  SFR\n",
      " \n",
      "2018-03-20 14:39:44.404857 finished: writing new modflow input files took: 0:00:00.358291\n",
      "2018-03-20 14:39:44.405857 forward_run line:pyemu.helpers.run('mfnwt freyberg.nam 1>freyberg.nam.stdout 2>freyberg.nam.stderr')\n",
      "2018-03-20 14:39:44.405857 starting: setting up 'template\\arr_org' dir\n",
      "2018-03-20 14:39:44.406858 finished: setting up 'template\\arr_org' dir took: 0:00:00.001001\n",
      "2018-03-20 14:39:44.406858 starting: setting up 'template\\arr_mlt' dir\n",
      "2018-03-20 14:39:44.408860 finished: setting up 'template\\arr_mlt' dir took: 0:00:00.002002\n",
      "2018-03-20 14:39:44.408860 starting: setting up 'template\\bc_org' dir\n",
      "2018-03-20 14:39:44.409860 finished: setting up 'template\\bc_org' dir took: 0:00:00.001000\n",
      "2018-03-20 14:39:44.444931 starting: setting up pilot point process\n",
      "2018-03-20 14:39:44.445932 WARNING: pp_geostruct is None, using ExpVario with contribution=1 and a=(pp_space*max(delr,delc))\n",
      "2018-03-20 14:39:44.447934 pp_dict: {0: ['hk0']}\n",
      "2018-03-20 14:39:44.448934 starting: calling setup_pilot_point_grid()\n"
     ]
    },
    {
     "ename": "ValueError",
     "evalue": "dictionary update sequence element #0 has length 1; 2 is required",
     "output_type": "error",
     "traceback": [
      "\u001b[1;31m---------------------------------------------------------------------------\u001b[0m",
      "\u001b[1;31mValueError\u001b[0m                                Traceback (most recent call last)",
      "\u001b[1;32m<ipython-input-7-1bcfeb4c2f51>\u001b[0m in \u001b[0;36m<module>\u001b[1;34m()\u001b[0m\n\u001b[0;32m      4\u001b[0m                                     \u001b[0msfr_pars\u001b[0m\u001b[1;33m=\u001b[0m\u001b[1;32mFalse\u001b[0m\u001b[1;33m,\u001b[0m\u001b[0mhds_kperk\u001b[0m\u001b[1;33m=\u001b[0m\u001b[0mhds\u001b[0m\u001b[1;33m,\u001b[0m\u001b[1;33m\u001b[0m\u001b[0m\n\u001b[0;32m      5\u001b[0m                                     \u001b[0mremove_existing\u001b[0m\u001b[1;33m=\u001b[0m\u001b[1;32mTrue\u001b[0m\u001b[1;33m,\u001b[0m \u001b[0msfr_obs\u001b[0m\u001b[1;33m=\u001b[0m\u001b[1;32mTrue\u001b[0m\u001b[1;33m,\u001b[0m\u001b[1;33m\u001b[0m\u001b[0m\n\u001b[1;32m----> 6\u001b[1;33m                                     model_exe_name=\"mfnwt\",build_prior=False)\n\u001b[0m",
      "\u001b[1;32mC:\\Dev\\pyemu\\pyemu\\utils\\helpers.py\u001b[0m in \u001b[0;36m__init__\u001b[1;34m(self, model, new_model_ws, org_model_ws, pp_props, const_props, bc_props, grid_props, grid_geostruct, pp_space, zone_props, pp_geostruct, par_bounds_dict, sfr_pars, bc_geostruct, remove_existing, k_zone_dict, mflist_waterbudget, mfhyd, hds_kperk, use_pp_zones, obssim_smp_pairs, external_tpl_in_pairs, external_ins_out_pairs, extra_pre_cmds, extra_model_cmds, extra_post_cmds, tmp_files, model_exe_name, build_prior, sfr_obs, all_wells)\u001b[0m\n\u001b[0;32m   1196\u001b[0m             \u001b[0mself\u001b[0m\u001b[1;33m.\u001b[0m\u001b[0msetup_all_wells\u001b[0m\u001b[1;33m(\u001b[0m\u001b[1;33m)\u001b[0m\u001b[1;33m\u001b[0m\u001b[0m\n\u001b[0;32m   1197\u001b[0m         \u001b[0mself\u001b[0m\u001b[1;33m.\u001b[0m\u001b[0msetup_bc_pars\u001b[0m\u001b[1;33m(\u001b[0m\u001b[1;33m)\u001b[0m\u001b[1;33m\u001b[0m\u001b[0m\n\u001b[1;32m-> 1198\u001b[1;33m         \u001b[0mself\u001b[0m\u001b[1;33m.\u001b[0m\u001b[0msetup_array_pars\u001b[0m\u001b[1;33m(\u001b[0m\u001b[1;33m)\u001b[0m\u001b[1;33m\u001b[0m\u001b[0m\n\u001b[0m\u001b[0;32m   1199\u001b[0m \u001b[1;33m\u001b[0m\u001b[0m\n\u001b[0;32m   1200\u001b[0m         \u001b[1;32mif\u001b[0m \u001b[0msfr_pars\u001b[0m\u001b[1;33m:\u001b[0m\u001b[1;33m\u001b[0m\u001b[0m\n",
      "\u001b[1;32mC:\\Dev\\pyemu\\pyemu\\utils\\helpers.py\u001b[0m in \u001b[0;36msetup_array_pars\u001b[1;34m(self)\u001b[0m\n\u001b[0;32m   1819\u001b[0m         \u001b[1;32mif\u001b[0m \u001b[0mself\u001b[0m\u001b[1;33m.\u001b[0m\u001b[0mpp_suffix\u001b[0m \u001b[1;32min\u001b[0m \u001b[0mmlt_df\u001b[0m\u001b[1;33m.\u001b[0m\u001b[0msuffix\u001b[0m\u001b[1;33m.\u001b[0m\u001b[0mvalues\u001b[0m\u001b[1;33m:\u001b[0m\u001b[1;33m\u001b[0m\u001b[0m\n\u001b[0;32m   1820\u001b[0m             \u001b[0mself\u001b[0m\u001b[1;33m.\u001b[0m\u001b[0mlog\u001b[0m\u001b[1;33m(\u001b[0m\u001b[1;34m\"setting up pilot point process\"\u001b[0m\u001b[1;33m)\u001b[0m\u001b[1;33m\u001b[0m\u001b[0m\n\u001b[1;32m-> 1821\u001b[1;33m             \u001b[0mself\u001b[0m\u001b[1;33m.\u001b[0m\u001b[0mpp_prep\u001b[0m\u001b[1;33m(\u001b[0m\u001b[0mmlt_df\u001b[0m\u001b[1;33m)\u001b[0m\u001b[1;33m\u001b[0m\u001b[0m\n\u001b[0m\u001b[0;32m   1822\u001b[0m             \u001b[0mself\u001b[0m\u001b[1;33m.\u001b[0m\u001b[0mlog\u001b[0m\u001b[1;33m(\u001b[0m\u001b[1;34m\"setting up pilot point process\"\u001b[0m\u001b[1;33m)\u001b[0m\u001b[1;33m\u001b[0m\u001b[0m\n\u001b[0;32m   1823\u001b[0m \u001b[1;33m\u001b[0m\u001b[0m\n",
      "\u001b[1;32mC:\\Dev\\pyemu\\pyemu\\utils\\helpers.py\u001b[0m in \u001b[0;36mpp_prep\u001b[1;34m(self, mlt_df)\u001b[0m\n\u001b[0;32m   1648\u001b[0m             \u001b[1;32mfor\u001b[0m \u001b[0mk\u001b[0m\u001b[1;33m,\u001b[0m\u001b[0mi\u001b[0m \u001b[1;32min\u001b[0m \u001b[0mib\u001b[0m\u001b[1;33m.\u001b[0m\u001b[0mitems\u001b[0m\u001b[1;33m(\u001b[0m\u001b[1;33m)\u001b[0m\u001b[1;33m:\u001b[0m\u001b[1;33m\u001b[0m\u001b[0m\n\u001b[0;32m   1649\u001b[0m                 \u001b[1;32mif\u001b[0m \u001b[0mnp\u001b[0m\u001b[1;33m.\u001b[0m\u001b[0many\u001b[0m\u001b[1;33m(\u001b[0m\u001b[0mi\u001b[0m\u001b[1;33m<\u001b[0m\u001b[1;36m0\u001b[0m\u001b[1;33m)\u001b[0m\u001b[1;33m:\u001b[0m\u001b[1;33m\u001b[0m\u001b[0m\n\u001b[1;32m-> 1650\u001b[1;33m                     \u001b[0mcounts\u001b[0m \u001b[1;33m=\u001b[0m \u001b[0mdict\u001b[0m\u001b[1;33m(\u001b[0m\u001b[0mzip\u001b[0m\u001b[1;33m(\u001b[0m\u001b[0mnp\u001b[0m\u001b[1;33m.\u001b[0m\u001b[0munique\u001b[0m\u001b[1;33m(\u001b[0m\u001b[0mi\u001b[0m\u001b[1;33m,\u001b[0m \u001b[0mreturn_counts\u001b[0m\u001b[1;33m=\u001b[0m\u001b[1;32mTrue\u001b[0m\u001b[1;33m)\u001b[0m\u001b[1;33m)\u001b[0m\u001b[1;33m)\u001b[0m\u001b[1;33m\u001b[0m\u001b[0m\n\u001b[0m\u001b[0;32m   1651\u001b[0m                     \u001b[0mmx\u001b[0m \u001b[1;33m=\u001b[0m \u001b[1;33m-\u001b[0m\u001b[1;36m1.0e+10\u001b[0m\u001b[1;33m\u001b[0m\u001b[0m\n\u001b[0;32m   1652\u001b[0m                     \u001b[0mimx\u001b[0m \u001b[1;33m=\u001b[0m \u001b[1;32mNone\u001b[0m\u001b[1;33m\u001b[0m\u001b[0m\n",
      "\u001b[1;31mValueError\u001b[0m: dictionary update sequence element #0 has length 1; 2 is required"
     ]
    }
   ],
   "source": [
    "ph = pyemu.helpers.PstFromFlopyModel(nam_file,org_model_ws=\"temp\",\n",
    "                                     new_model_ws=\"template\",pp_props=props,pp_space=3,\n",
    "                                    const_props=None,all_wells=False,\n",
    "                                    sfr_pars=False,hds_kperk=hds,\n",
    "                                    remove_existing=True, sfr_obs=True,\n",
    "                                    model_exe_name=\"mfnwt\",build_prior=False)"
   ]
  },
  {
   "cell_type": "markdown",
   "metadata": {},
   "source": [
    "### let's inspect what just happened..."
   ]
  },
  {
   "cell_type": "code",
   "execution_count": null,
   "metadata": {},
   "outputs": [],
   "source": [
    "pst = ph.pst"
   ]
  },
  {
   "cell_type": "code",
   "execution_count": null,
   "metadata": {},
   "outputs": [],
   "source": [
    "pst.npar,pst.nobs"
   ]
  },
  {
   "cell_type": "markdown",
   "metadata": {},
   "source": [
    "# WAT!"
   ]
  },
  {
   "cell_type": "code",
   "execution_count": null,
   "metadata": {},
   "outputs": [],
   "source": [
    "pst.parameter_data.head()"
   ]
  },
  {
   "cell_type": "code",
   "execution_count": null,
   "metadata": {},
   "outputs": [],
   "source": [
    "pst.observation_data.tail() # the last few observations"
   ]
  },
  {
   "cell_type": "markdown",
   "metadata": {},
   "source": [
    "### write parameter and observtion summary LaTeX tables"
   ]
  },
  {
   "cell_type": "code",
   "execution_count": null,
   "metadata": {},
   "outputs": [],
   "source": [
    "pst.write_par_summary_table()\n",
    "pst.write_obs_summary_table()"
   ]
  },
  {
   "cell_type": "markdown",
   "metadata": {},
   "source": [
    "### plot the prior distribution of the parameter implied by the parameter bounds (assuming bounds represent 95% credible limits)"
   ]
  },
  {
   "cell_type": "code",
   "execution_count": null,
   "metadata": {},
   "outputs": [],
   "source": [
    "figs = pst.plot(kind=\"prior\",unique_only=True,echo=False)"
   ]
  },
  {
   "cell_type": "markdown",
   "metadata": {},
   "source": [
    "### but we can do better! We can use geostatistics to build a prior parameter covariance matrix for spatially distributed parameters..."
   ]
  },
  {
   "cell_type": "code",
   "execution_count": null,
   "metadata": {},
   "outputs": [],
   "source": [
    "cov = ph.build_prior(fmt=\"none\")"
   ]
  },
  {
   "cell_type": "code",
   "execution_count": null,
   "metadata": {},
   "outputs": [],
   "source": [
    "plt.imshow(np.ma.masked_where(cov.x==0,cov.x))\n",
    "plt.show()"
   ]
  },
  {
   "cell_type": "markdown",
   "metadata": {},
   "source": [
    "### Let's run pestpp once to get residuals...which should be *nearly* zero since all observations are set to current simulated outputs and all parameters are multipliers - this is a good check!"
   ]
  },
  {
   "cell_type": "code",
   "execution_count": null,
   "metadata": {},
   "outputs": [],
   "source": [
    "pyemu.helpers.run(\"pestpp freyberg.pst\",cwd=\"template\")"
   ]
  },
  {
   "cell_type": "markdown",
   "metadata": {},
   "source": [
    "Reload the pst instance to update the residuals"
   ]
  },
  {
   "cell_type": "code",
   "execution_count": null,
   "metadata": {},
   "outputs": [],
   "source": [
    "pst = pyemu.Pst(os.path.join(\"template\",\"freyberg.pst\"))"
   ]
  },
  {
   "cell_type": "code",
   "execution_count": null,
   "metadata": {},
   "outputs": [],
   "source": [
    "pst.phi_components"
   ]
  },
  {
   "cell_type": "markdown",
   "metadata": {},
   "source": [
    "### all residuals are *nearly* zero - this is good!"
   ]
  },
  {
   "cell_type": "code",
   "execution_count": null,
   "metadata": {},
   "outputs": [],
   "source": [
    "pst.plot(kind='phi_pie')"
   ]
  },
  {
   "cell_type": "markdown",
   "metadata": {},
   "source": [
    "### Let's do some Monte Carlo!\n",
    "\n",
    "Generate a parameter ensemble and run it in parallel"
   ]
  },
  {
   "cell_type": "code",
   "execution_count": null,
   "metadata": {},
   "outputs": [],
   "source": [
    "pe = pyemu.ParameterEnsemble.from_gaussian_draw(pst=ph.pst,num_reals=100,\n",
    "                                               cov=cov,use_homegrown=True,\n",
    "                                                group_chunks=True)"
   ]
  },
  {
   "cell_type": "code",
   "execution_count": null,
   "metadata": {},
   "outputs": [],
   "source": [
    "# save to a csv file\n",
    "pe.to_csv(os.path.join(\"template\",\"sweep_in.csv\"))"
   ]
  },
  {
   "cell_type": "code",
   "execution_count": null,
   "metadata": {},
   "outputs": [],
   "source": [
    "# run with sweep using 20 workers\n",
    "pyemu.helpers.start_slaves(\"template\",\"sweep\",\"freyberg.pst\",num_slaves=20,\n",
    "                          master_dir=\"sweep_master\")"
   ]
  },
  {
   "cell_type": "markdown",
   "metadata": {},
   "source": [
    "### more eye candy using the plot helpers...\n",
    "\n",
    "Every 50th parameters"
   ]
  },
  {
   "cell_type": "code",
   "execution_count": null,
   "metadata": {},
   "outputs": [],
   "source": [
    "pyemu.plot_utils.ensemble_helper(pe.iloc[:,::50],facecolor='b',\n",
    "                                 deter_vals=pst.parameter_data.parval1.to_dict(),\n",
    "                                 filename=None) # you can also pass pdf filename"
   ]
  },
  {
   "cell_type": "markdown",
   "metadata": {},
   "source": [
    "### load the output csv file...."
   ]
  },
  {
   "cell_type": "code",
   "execution_count": null,
   "metadata": {},
   "outputs": [],
   "source": [
    "df = pd.read_csv(os.path.join(\"sweep_master\",\"sweep_out.csv\"))\n",
    "df.columns = df.columns.map(str.lower)\n",
    "df = df.loc[:,[o for o in pst.obs_names if \"hds_00\" in o ]]"
   ]
  },
  {
   "cell_type": "markdown",
   "metadata": {},
   "source": [
    "### and plot..."
   ]
  },
  {
   "cell_type": "code",
   "execution_count": null,
   "metadata": {},
   "outputs": [],
   "source": [
    "pyemu.plot_utils.ensemble_helper(df.iloc[:,:20],filename=None)"
   ]
  },
  {
   "cell_type": "code",
   "execution_count": null,
   "metadata": {},
   "outputs": [],
   "source": []
  }
 ],
 "metadata": {
  "kernelspec": {
   "display_name": "Python 3",
   "language": "python",
   "name": "python3"
  },
  "language_info": {
   "codemirror_mode": {
    "name": "ipython",
    "version": 3
   },
   "file_extension": ".py",
   "mimetype": "text/x-python",
   "name": "python",
   "nbconvert_exporter": "python",
   "pygments_lexer": "ipython3",
   "version": "3.6.3"
  }
 },
 "nbformat": 4,
 "nbformat_minor": 2
}
