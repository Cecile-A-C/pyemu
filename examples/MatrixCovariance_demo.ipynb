{
 "cells": [
  {
   "cell_type": "markdown",
   "metadata": {},
   "source": [
    "#Matrix and Covariance\n",
    "\n",
    "The `mat_handler.py` module contains `matrix` class, which is the backbone of `pyemu`.  The `matrix` class overloads all common mathematical operators and also uses an \"auto-align\" functionality to line up matrix objects for multiplication, addition, etc. \n",
    "\n"
   ]
  },
  {
   "cell_type": "code",
   "execution_count": 1,
   "metadata": {
    "collapsed": false
   },
   "outputs": [],
   "source": [
    "from __future__ import print_function\n",
    "import os\n",
    "import numpy as np\n",
    "from pyemu import Matrix, Cov"
   ]
  },
  {
   "cell_type": "markdown",
   "metadata": {},
   "source": [
    "Here is the most basic instantiation of the `matrix` class:"
   ]
  },
  {
   "cell_type": "code",
   "execution_count": 2,
   "metadata": {
    "collapsed": false
   },
   "outputs": [],
   "source": [
    "m = Matrix()"
   ]
  },
  {
   "cell_type": "markdown",
   "metadata": {},
   "source": [
    "Here we will generate a `matrix` object with a random ndarray"
   ]
  },
  {
   "cell_type": "code",
   "execution_count": 3,
   "metadata": {
    "collapsed": false
   },
   "outputs": [
    {
     "name": "stdout",
     "output_type": "stream",
     "text": [
      "row names: ['row_00', 'row_01', 'row_02', 'row_03', 'row_04']\n",
      "col names: ['col_00', 'col_01', 'col_02', 'col_03', 'col_04']\n",
      "[[ 0.66369095  0.72103958  0.01834535  0.86447659  0.06158706]\n",
      " [ 0.58838725  0.83583326  0.92311355  0.65205233  0.21823867]\n",
      " [ 0.36925743  0.83478583  0.92683265  0.69077832  0.02634063]\n",
      " [ 0.79415036  0.14491413  0.759354    0.31046653  0.92000216]\n",
      " [ 0.46282043  0.94008384  0.36848832  0.6562321   0.00725252]]\n"
     ]
    }
   ],
   "source": [
    "a = np.random.random((5, 5))\n",
    "row_names = []\n",
    "[row_names.append(\"row_{0:02d}\".format(i)) for i in range(5)]\n",
    "col_names = []\n",
    "[col_names.append(\"col_{0:02d}\".format(i)) for i in range(5)]\n",
    "m = Matrix(x=a, row_names=row_names, col_names=col_names)\n",
    "print(m)"
   ]
  },
  {
   "cell_type": "markdown",
   "metadata": {},
   "source": [
    "#File I/O with `matrix`\n",
    "`matrix` supports several PEST-compatible I/O routines as well as some others:"
   ]
  },
  {
   "cell_type": "code",
   "execution_count": 4,
   "metadata": {
    "collapsed": false
   },
   "outputs": [
    {
     "name": "stdout",
     "output_type": "stream",
     "text": [
      "row names: ['row_00', 'row_01', 'row_02', 'row_03', 'row_04']\n",
      "col names: ['col_00', 'col_01', 'col_02', 'col_03', 'col_04']\n",
      "[[ 0.66369095  0.72103958  0.01834535  0.86447659  0.06158706]\n",
      " [ 0.58838725  0.83583326  0.92311355  0.65205233  0.21823867]\n",
      " [ 0.36925743  0.83478583  0.92683265  0.69077832  0.02634063]\n",
      " [ 0.79415036  0.14491413  0.759354    0.31046653  0.92000216]\n",
      " [ 0.46282043  0.94008384  0.36848832  0.6562321   0.00725252]]\n"
     ]
    }
   ],
   "source": [
    "ascii_name = \"mat_test.mat\"\n",
    "m.to_ascii(ascii_name)\n",
    "m2 = Matrix.from_ascii(ascii_name)\n",
    "print(m2)"
   ]
  },
  {
   "cell_type": "code",
   "execution_count": 5,
   "metadata": {
    "collapsed": false
   },
   "outputs": [
    {
     "name": "stdout",
     "output_type": "stream",
     "text": [
      "row names: ['row_00', 'row_01', 'row_02', 'row_03', 'row_04']\n",
      "col names: ['col_00', 'col_01', 'col_02', 'col_03', 'col_04']\n",
      "[[ 0.66369095  0.72103958  0.01834535  0.86447659  0.06158706]\n",
      " [ 0.58838725  0.83583326  0.92311355  0.65205233  0.21823867]\n",
      " [ 0.36925743  0.83478583  0.92683265  0.69077832  0.02634063]\n",
      " [ 0.79415036  0.14491413  0.759354    0.31046653  0.92000216]\n",
      " [ 0.46282043  0.94008384  0.36848832  0.6562321   0.00725252]]\n"
     ]
    }
   ],
   "source": [
    "bin_name = \"mat_test.bin\"\n",
    "m.to_binary(bin_name)\n",
    "m3 = Matrix.from_binary(bin_name)\n",
    "print(m3)"
   ]
  },
  {
   "cell_type": "markdown",
   "metadata": {},
   "source": [
    "`Matrix` also implements a `to_dataframe()` and a `to_sparse`, which return `pandas dataframe` and a `scipy.sparse` (compressed sparse row) objects, respectively:"
   ]
  },
  {
   "cell_type": "code",
   "execution_count": 6,
   "metadata": {
    "collapsed": false
   },
   "outputs": [
    {
     "name": "stdout",
     "output_type": "stream",
     "text": [
      "<class 'pandas.core.frame.DataFrame'>\n",
      "<class 'scipy.sparse.csr.csr_matrix'>\n"
     ]
    },
    {
     "data": {
      "text/html": [
       "<div>\n",
       "<table border=\"1\" class=\"dataframe\">\n",
       "  <thead>\n",
       "    <tr style=\"text-align: right;\">\n",
       "      <th></th>\n",
       "      <th>col_00</th>\n",
       "      <th>col_01</th>\n",
       "      <th>col_02</th>\n",
       "      <th>col_03</th>\n",
       "      <th>col_04</th>\n",
       "    </tr>\n",
       "  </thead>\n",
       "  <tbody>\n",
       "    <tr>\n",
       "      <th>row_00</th>\n",
       "      <td>0.663691</td>\n",
       "      <td>0.721040</td>\n",
       "      <td>0.018345</td>\n",
       "      <td>0.864477</td>\n",
       "      <td>0.061587</td>\n",
       "    </tr>\n",
       "    <tr>\n",
       "      <th>row_01</th>\n",
       "      <td>0.588387</td>\n",
       "      <td>0.835833</td>\n",
       "      <td>0.923114</td>\n",
       "      <td>0.652052</td>\n",
       "      <td>0.218239</td>\n",
       "    </tr>\n",
       "    <tr>\n",
       "      <th>row_02</th>\n",
       "      <td>0.369257</td>\n",
       "      <td>0.834786</td>\n",
       "      <td>0.926833</td>\n",
       "      <td>0.690778</td>\n",
       "      <td>0.026341</td>\n",
       "    </tr>\n",
       "    <tr>\n",
       "      <th>row_03</th>\n",
       "      <td>0.794150</td>\n",
       "      <td>0.144914</td>\n",
       "      <td>0.759354</td>\n",
       "      <td>0.310467</td>\n",
       "      <td>0.920002</td>\n",
       "    </tr>\n",
       "    <tr>\n",
       "      <th>row_04</th>\n",
       "      <td>0.462820</td>\n",
       "      <td>0.940084</td>\n",
       "      <td>0.368488</td>\n",
       "      <td>0.656232</td>\n",
       "      <td>0.007253</td>\n",
       "    </tr>\n",
       "  </tbody>\n",
       "</table>\n",
       "</div>"
      ],
      "text/plain": [
       "          col_00    col_01    col_02    col_03    col_04\n",
       "row_00  0.663691  0.721040  0.018345  0.864477  0.061587\n",
       "row_01  0.588387  0.835833  0.923114  0.652052  0.218239\n",
       "row_02  0.369257  0.834786  0.926833  0.690778  0.026341\n",
       "row_03  0.794150  0.144914  0.759354  0.310467  0.920002\n",
       "row_04  0.462820  0.940084  0.368488  0.656232  0.007253"
      ]
     },
     "execution_count": 6,
     "metadata": {},
     "output_type": "execute_result"
    }
   ],
   "source": [
    "print(type(m.to_dataframe()))\n",
    "print(type(m.to_sparse()))\n",
    "m.to_dataframe() #looks really nice in the notebook!"
   ]
  },
  {
   "cell_type": "markdown",
   "metadata": {},
   "source": [
    "#Convience methods of `Matrix`\n",
    "\n",
    "several cool things are implemented in `Matrix` and accessed through `@property` decorated methods.  For example, the SVD components of a `Matrix` object are simply accessed by name.  The SVD routine is called on demand and the components are cast to `Matrix` objects, all opaque to the user:"
   ]
  },
  {
   "cell_type": "code",
   "execution_count": 7,
   "metadata": {
    "collapsed": false
   },
   "outputs": [
    {
     "name": "stdout",
     "output_type": "stream",
     "text": [
      "row names: ['sing_val_1', 'sing_val_2', 'sing_val_3', 'sing_val_4', 'sing_val_5']\n",
      "col names: ['sing_val_1', 'sing_val_2', 'sing_val_3', 'sing_val_4', 'sing_val_5']\n",
      "[[ 2.88341807]\n",
      " [ 1.11456419]\n",
      " [ 0.70868147]\n",
      " [ 0.16253913]\n",
      " [ 0.04708595]]\n"
     ]
    }
   ],
   "source": [
    "print(m.s) #the singular values of m cast into a matrix object.  the SVD() is called on demand\n",
    "m.s.to_ascii(\"test_sv.mat\") #save the singular values to a PEST-compatible ASCII file"
   ]
  },
  {
   "cell_type": "code",
   "execution_count": 8,
   "metadata": {
    "collapsed": false
   },
   "outputs": [
    {
     "data": {
      "text/html": [
       "<div>\n",
       "<table border=\"1\" class=\"dataframe\">\n",
       "  <thead>\n",
       "    <tr style=\"text-align: right;\">\n",
       "      <th></th>\n",
       "      <th>left_sing_vec_1</th>\n",
       "      <th>left_sing_vec_2</th>\n",
       "      <th>left_sing_vec_3</th>\n",
       "      <th>left_sing_vec_4</th>\n",
       "      <th>left_sing_vec_5</th>\n",
       "    </tr>\n",
       "  </thead>\n",
       "  <tbody>\n",
       "    <tr>\n",
       "      <th>row_00</th>\n",
       "      <td>-0.392105</td>\n",
       "      <td>-0.361768</td>\n",
       "      <td>0.728094</td>\n",
       "      <td>0.423196</td>\n",
       "      <td>-0.078494</td>\n",
       "    </tr>\n",
       "    <tr>\n",
       "      <th>row_01</th>\n",
       "      <td>-0.528011</td>\n",
       "      <td>0.046383</td>\n",
       "      <td>-0.308041</td>\n",
       "      <td>-0.065625</td>\n",
       "      <td>-0.787310</td>\n",
       "    </tr>\n",
       "    <tr>\n",
       "      <th>row_02</th>\n",
       "      <td>-0.490273</td>\n",
       "      <td>-0.125866</td>\n",
       "      <td>-0.539030</td>\n",
       "      <td>0.457192</td>\n",
       "      <td>0.494179</td>\n",
       "    </tr>\n",
       "    <tr>\n",
       "      <th>row_03</th>\n",
       "      <td>-0.384254</td>\n",
       "      <td>0.853126</td>\n",
       "      <td>0.279164</td>\n",
       "      <td>-0.069094</td>\n",
       "      <td>0.204495</td>\n",
       "    </tr>\n",
       "    <tr>\n",
       "      <th>row_04</th>\n",
       "      <td>-0.423602</td>\n",
       "      <td>-0.351150</td>\n",
       "      <td>0.080645</td>\n",
       "      <td>-0.776402</td>\n",
       "      <td>0.296565</td>\n",
       "    </tr>\n",
       "  </tbody>\n",
       "</table>\n",
       "</div>"
      ],
      "text/plain": [
       "        left_sing_vec_1  left_sing_vec_2  left_sing_vec_3  left_sing_vec_4  \\\n",
       "row_00        -0.392105        -0.361768         0.728094         0.423196   \n",
       "row_01        -0.528011         0.046383        -0.308041        -0.065625   \n",
       "row_02        -0.490273        -0.125866        -0.539030         0.457192   \n",
       "row_03        -0.384254         0.853126         0.279164        -0.069094   \n",
       "row_04        -0.423602        -0.351150         0.080645        -0.776402   \n",
       "\n",
       "        left_sing_vec_5  \n",
       "row_00        -0.078494  \n",
       "row_01        -0.787310  \n",
       "row_02         0.494179  \n",
       "row_03         0.204495  \n",
       "row_04         0.296565  "
      ]
     },
     "execution_count": 8,
     "metadata": {},
     "output_type": "execute_result"
    }
   ],
   "source": [
    "m.v.to_ascii(\"test_v.mat\") #the right singular vectors of m.\n",
    "m.u.to_dataframe()# a data frame of the left singular vectors of m"
   ]
  },
  {
   "cell_type": "markdown",
   "metadata": {},
   "source": [
    "The `Matrix` inverse operation is accessed the same way, but requires a square matrix:"
   ]
  },
  {
   "cell_type": "code",
   "execution_count": 9,
   "metadata": {
    "collapsed": false
   },
   "outputs": [
    {
     "data": {
      "text/html": [
       "<div>\n",
       "<table border=\"1\" class=\"dataframe\">\n",
       "  <thead>\n",
       "    <tr style=\"text-align: right;\">\n",
       "      <th></th>\n",
       "      <th>col_00</th>\n",
       "      <th>col_01</th>\n",
       "      <th>col_02</th>\n",
       "      <th>col_03</th>\n",
       "      <th>col_04</th>\n",
       "    </tr>\n",
       "  </thead>\n",
       "  <tbody>\n",
       "    <tr>\n",
       "      <th>row_00</th>\n",
       "      <td>1.634827</td>\n",
       "      <td>11.665531</td>\n",
       "      <td>-7.795345</td>\n",
       "      <td>-2.619598</td>\n",
       "      <td>-4.299779</td>\n",
       "    </tr>\n",
       "    <tr>\n",
       "      <th>row_01</th>\n",
       "      <td>-1.818211</td>\n",
       "      <td>-1.850260</td>\n",
       "      <td>-0.243465</td>\n",
       "      <td>0.534193</td>\n",
       "      <td>4.237218</td>\n",
       "    </tr>\n",
       "    <tr>\n",
       "      <th>row_02</th>\n",
       "      <td>-0.110676</td>\n",
       "      <td>2.348272</td>\n",
       "      <td>-0.089164</td>\n",
       "      <td>-0.532566</td>\n",
       "      <td>-1.841701</td>\n",
       "    </tr>\n",
       "    <tr>\n",
       "      <th>row_03</th>\n",
       "      <td>1.530958</td>\n",
       "      <td>-6.791201</td>\n",
       "      <td>5.842848</td>\n",
       "      <td>1.345398</td>\n",
       "      <td>-0.531936</td>\n",
       "    </tr>\n",
       "    <tr>\n",
       "      <th>row_04</th>\n",
       "      <td>-1.550087</td>\n",
       "      <td>-9.424745</td>\n",
       "      <td>4.869180</td>\n",
       "      <td>3.249609</td>\n",
       "      <td>4.743782</td>\n",
       "    </tr>\n",
       "  </tbody>\n",
       "</table>\n",
       "</div>"
      ],
      "text/plain": [
       "          col_00     col_01    col_02    col_03    col_04\n",
       "row_00  1.634827  11.665531 -7.795345 -2.619598 -4.299779\n",
       "row_01 -1.818211  -1.850260 -0.243465  0.534193  4.237218\n",
       "row_02 -0.110676   2.348272 -0.089164 -0.532566 -1.841701\n",
       "row_03  1.530958  -6.791201  5.842848  1.345398 -0.531936\n",
       "row_04 -1.550087  -9.424745  4.869180  3.249609  4.743782"
      ]
     },
     "execution_count": 9,
     "metadata": {},
     "output_type": "execute_result"
    }
   ],
   "source": [
    "m.inv.to_dataframe()"
   ]
  },
  {
   "cell_type": "markdown",
   "metadata": {},
   "source": [
    "#Manipulating `Matrix` shape\n",
    "`Matrix` has lots of functionality to support getting submatrices by row and col names:"
   ]
  },
  {
   "cell_type": "code",
   "execution_count": 10,
   "metadata": {
    "collapsed": false
   },
   "outputs": [
    {
     "name": "stdout",
     "output_type": "stream",
     "text": [
      "row names: ['row_00']\n",
      "col names: ['col_01', 'col_03']\n",
      "[[ 0.72103958  0.86447659]]\n"
     ]
    }
   ],
   "source": [
    "\n",
    "print(m.get(row_names=\"row_00\",col_names=[\"col_01\",\"col_03\"]))"
   ]
  },
  {
   "cell_type": "markdown",
   "metadata": {},
   "source": [
    "`extract()` calls `get()` then `drop()`:"
   ]
  },
  {
   "cell_type": "code",
   "execution_count": 11,
   "metadata": {
    "collapsed": false
   },
   "outputs": [
    {
     "data": {
      "text/html": [
       "<div>\n",
       "<table border=\"1\" class=\"dataframe\">\n",
       "  <thead>\n",
       "    <tr style=\"text-align: right;\">\n",
       "      <th></th>\n",
       "      <th>col_01</th>\n",
       "      <th>col_03</th>\n",
       "    </tr>\n",
       "  </thead>\n",
       "  <tbody>\n",
       "    <tr>\n",
       "      <th>row_00</th>\n",
       "      <td>0.72104</td>\n",
       "      <td>0.864477</td>\n",
       "    </tr>\n",
       "  </tbody>\n",
       "</table>\n",
       "</div>"
      ],
      "text/plain": [
       "         col_01    col_03\n",
       "row_00  0.72104  0.864477"
      ]
     },
     "execution_count": 11,
     "metadata": {},
     "output_type": "execute_result"
    }
   ],
   "source": [
    "from copy import deepcopy\n",
    "m_copy = deepcopy(m)\n",
    "sub_m = m_copy.extract(row_names=\"row_00\",col_names=[\"col_01\",\"col_03\"])\n",
    "m_copy.to_dataframe()\n",
    "sub_m.to_dataframe()"
   ]
  },
  {
   "cell_type": "markdown",
   "metadata": {},
   "source": [
    "#Operator overloading\n",
    "The operator overloading uses the auto-align functionality as well as the `isdiagonal` flag for super easy linear algebra.  The \"inner join\" of the two objects is found and the rows and cols are aligned appropriately:"
   ]
  },
  {
   "cell_type": "code",
   "execution_count": 12,
   "metadata": {
    "collapsed": false
   },
   "outputs": [
    {
     "data": {
      "text/html": [
       "<div>\n",
       "<table border=\"1\" class=\"dataframe\">\n",
       "  <thead>\n",
       "    <tr style=\"text-align: right;\">\n",
       "      <th></th>\n",
       "      <th>col_01</th>\n",
       "      <th>col_10</th>\n",
       "      <th>col_100</th>\n",
       "    </tr>\n",
       "  </thead>\n",
       "  <tbody>\n",
       "    <tr>\n",
       "      <th>row_03</th>\n",
       "      <td>0.366383</td>\n",
       "      <td>0.894417</td>\n",
       "      <td>0.620734</td>\n",
       "    </tr>\n",
       "    <tr>\n",
       "      <th>row_02</th>\n",
       "      <td>0.331217</td>\n",
       "      <td>0.418396</td>\n",
       "      <td>0.622148</td>\n",
       "    </tr>\n",
       "    <tr>\n",
       "      <th>row_00</th>\n",
       "      <td>0.216129</td>\n",
       "      <td>0.268350</td>\n",
       "      <td>0.583555</td>\n",
       "    </tr>\n",
       "  </tbody>\n",
       "</table>\n",
       "</div>"
      ],
      "text/plain": [
       "          col_01    col_10   col_100\n",
       "row_03  0.366383  0.894417  0.620734\n",
       "row_02  0.331217  0.418396  0.622148\n",
       "row_00  0.216129  0.268350  0.583555"
      ]
     },
     "execution_count": 12,
     "metadata": {},
     "output_type": "execute_result"
    }
   ],
   "source": [
    "#a new matrix object that is not \"aligned\" with m\n",
    "row_names = [\"row_03\",\"row_02\",\"row_00\"]\n",
    "col_names = [\"col_01\",\"col_10\",\"col_100\"]\n",
    "m_mix = Matrix(x=np.random.random((3,3)),row_names=row_names,col_names=col_names)\n",
    "m_mix.to_dataframe()\n"
   ]
  },
  {
   "cell_type": "code",
   "execution_count": 13,
   "metadata": {
    "collapsed": false
   },
   "outputs": [
    {
     "data": {
      "text/html": [
       "<div>\n",
       "<table border=\"1\" class=\"dataframe\">\n",
       "  <thead>\n",
       "    <tr style=\"text-align: right;\">\n",
       "      <th></th>\n",
       "      <th>col_00</th>\n",
       "      <th>col_01</th>\n",
       "      <th>col_02</th>\n",
       "      <th>col_03</th>\n",
       "      <th>col_04</th>\n",
       "    </tr>\n",
       "  </thead>\n",
       "  <tbody>\n",
       "    <tr>\n",
       "      <th>row_00</th>\n",
       "      <td>0.663691</td>\n",
       "      <td>0.721040</td>\n",
       "      <td>0.018345</td>\n",
       "      <td>0.864477</td>\n",
       "      <td>0.061587</td>\n",
       "    </tr>\n",
       "    <tr>\n",
       "      <th>row_01</th>\n",
       "      <td>0.588387</td>\n",
       "      <td>0.835833</td>\n",
       "      <td>0.923114</td>\n",
       "      <td>0.652052</td>\n",
       "      <td>0.218239</td>\n",
       "    </tr>\n",
       "    <tr>\n",
       "      <th>row_02</th>\n",
       "      <td>0.369257</td>\n",
       "      <td>0.834786</td>\n",
       "      <td>0.926833</td>\n",
       "      <td>0.690778</td>\n",
       "      <td>0.026341</td>\n",
       "    </tr>\n",
       "    <tr>\n",
       "      <th>row_03</th>\n",
       "      <td>0.794150</td>\n",
       "      <td>0.144914</td>\n",
       "      <td>0.759354</td>\n",
       "      <td>0.310467</td>\n",
       "      <td>0.920002</td>\n",
       "    </tr>\n",
       "    <tr>\n",
       "      <th>row_04</th>\n",
       "      <td>0.462820</td>\n",
       "      <td>0.940084</td>\n",
       "      <td>0.368488</td>\n",
       "      <td>0.656232</td>\n",
       "      <td>0.007253</td>\n",
       "    </tr>\n",
       "  </tbody>\n",
       "</table>\n",
       "</div>"
      ],
      "text/plain": [
       "          col_00    col_01    col_02    col_03    col_04\n",
       "row_00  0.663691  0.721040  0.018345  0.864477  0.061587\n",
       "row_01  0.588387  0.835833  0.923114  0.652052  0.218239\n",
       "row_02  0.369257  0.834786  0.926833  0.690778  0.026341\n",
       "row_03  0.794150  0.144914  0.759354  0.310467  0.920002\n",
       "row_04  0.462820  0.940084  0.368488  0.656232  0.007253"
      ]
     },
     "execution_count": 13,
     "metadata": {},
     "output_type": "execute_result"
    }
   ],
   "source": [
    "m.to_dataframe()"
   ]
  },
  {
   "cell_type": "code",
   "execution_count": 14,
   "metadata": {
    "collapsed": false
   },
   "outputs": [
    {
     "data": {
      "text/html": [
       "<div>\n",
       "<table border=\"1\" class=\"dataframe\">\n",
       "  <thead>\n",
       "    <tr style=\"text-align: right;\">\n",
       "      <th></th>\n",
       "      <th>row_03</th>\n",
       "      <th>row_02</th>\n",
       "      <th>row_00</th>\n",
       "    </tr>\n",
       "  </thead>\n",
       "  <tbody>\n",
       "    <tr>\n",
       "      <th>row_00</th>\n",
       "      <td>0.264177</td>\n",
       "      <td>0.238821</td>\n",
       "      <td>0.155837</td>\n",
       "    </tr>\n",
       "    <tr>\n",
       "      <th>row_01</th>\n",
       "      <td>0.306235</td>\n",
       "      <td>0.276842</td>\n",
       "      <td>0.180648</td>\n",
       "    </tr>\n",
       "    <tr>\n",
       "      <th>row_02</th>\n",
       "      <td>0.305851</td>\n",
       "      <td>0.276495</td>\n",
       "      <td>0.180421</td>\n",
       "    </tr>\n",
       "    <tr>\n",
       "      <th>row_03</th>\n",
       "      <td>0.053094</td>\n",
       "      <td>0.047998</td>\n",
       "      <td>0.031320</td>\n",
       "    </tr>\n",
       "    <tr>\n",
       "      <th>row_04</th>\n",
       "      <td>0.344431</td>\n",
       "      <td>0.311372</td>\n",
       "      <td>0.203179</td>\n",
       "    </tr>\n",
       "  </tbody>\n",
       "</table>\n",
       "</div>"
      ],
      "text/plain": [
       "          row_03    row_02    row_00\n",
       "row_00  0.264177  0.238821  0.155837\n",
       "row_01  0.306235  0.276842  0.180648\n",
       "row_02  0.305851  0.276495  0.180421\n",
       "row_03  0.053094  0.047998  0.031320\n",
       "row_04  0.344431  0.311372  0.203179"
      ]
     },
     "execution_count": 14,
     "metadata": {},
     "output_type": "execute_result"
    }
   ],
   "source": [
    "prod = m * m_mix.T\n",
    "prod.to_dataframe()"
   ]
  },
  {
   "cell_type": "code",
   "execution_count": 15,
   "metadata": {
    "collapsed": false
   },
   "outputs": [
    {
     "data": {
      "text/html": [
       "<div>\n",
       "<table border=\"1\" class=\"dataframe\">\n",
       "  <thead>\n",
       "    <tr style=\"text-align: right;\">\n",
       "      <th></th>\n",
       "      <th>col_00</th>\n",
       "      <th>col_01</th>\n",
       "      <th>col_02</th>\n",
       "      <th>col_03</th>\n",
       "      <th>col_04</th>\n",
       "    </tr>\n",
       "  </thead>\n",
       "  <tbody>\n",
       "    <tr>\n",
       "      <th>col_01</th>\n",
       "      <td>0.556710</td>\n",
       "      <td>0.485427</td>\n",
       "      <td>0.589162</td>\n",
       "      <td>0.529385</td>\n",
       "      <td>0.359108</td>\n",
       "    </tr>\n",
       "    <tr>\n",
       "      <th>col_10</th>\n",
       "      <td>1.042899</td>\n",
       "      <td>0.672376</td>\n",
       "      <td>1.071886</td>\n",
       "      <td>0.798688</td>\n",
       "      <td>0.850414</td>\n",
       "    </tr>\n",
       "    <tr>\n",
       "      <th>col_100</th>\n",
       "      <td>1.109989</td>\n",
       "      <td>1.030080</td>\n",
       "      <td>1.058690</td>\n",
       "      <td>1.126953</td>\n",
       "      <td>0.623404</td>\n",
       "    </tr>\n",
       "  </tbody>\n",
       "</table>\n",
       "</div>"
      ],
      "text/plain": [
       "           col_00    col_01    col_02    col_03    col_04\n",
       "col_01   0.556710  0.485427  0.589162  0.529385  0.359108\n",
       "col_10   1.042899  0.672376  1.071886  0.798688  0.850414\n",
       "col_100  1.109989  1.030080  1.058690  1.126953  0.623404"
      ]
     },
     "execution_count": 15,
     "metadata": {},
     "output_type": "execute_result"
    }
   ],
   "source": [
    "prod2 = m_mix.T * m\n",
    "prod2.to_dataframe()"
   ]
  },
  {
   "cell_type": "code",
   "execution_count": 16,
   "metadata": {
    "collapsed": false
   },
   "outputs": [
    {
     "data": {
      "text/html": [
       "<div>\n",
       "<table border=\"1\" class=\"dataframe\">\n",
       "  <thead>\n",
       "    <tr style=\"text-align: right;\">\n",
       "      <th></th>\n",
       "      <th>col_01</th>\n",
       "    </tr>\n",
       "  </thead>\n",
       "  <tbody>\n",
       "    <tr>\n",
       "      <th>row_02</th>\n",
       "      <td>1.166003</td>\n",
       "    </tr>\n",
       "    <tr>\n",
       "      <th>row_03</th>\n",
       "      <td>0.511297</td>\n",
       "    </tr>\n",
       "    <tr>\n",
       "      <th>row_00</th>\n",
       "      <td>0.937168</td>\n",
       "    </tr>\n",
       "  </tbody>\n",
       "</table>\n",
       "</div>"
      ],
      "text/plain": [
       "          col_01\n",
       "row_02  1.166003\n",
       "row_03  0.511297\n",
       "row_00  0.937168"
      ]
     },
     "execution_count": 16,
     "metadata": {},
     "output_type": "execute_result"
    }
   ],
   "source": [
    "(m_mix + m).to_dataframe()"
   ]
  },
  {
   "cell_type": "markdown",
   "metadata": {},
   "source": [
    "#The `Cov` derived type\n",
    "The `Cov` type is designed specifically to handle covariance matrices.  It makes some assumptions, such as the symmetry (and accordingly that row_names == col_names). "
   ]
  },
  {
   "cell_type": "code",
   "execution_count": 17,
   "metadata": {
    "collapsed": false
   },
   "outputs": [],
   "source": [
    "c = Cov(m.newx,m.row_names)"
   ]
  },
  {
   "cell_type": "markdown",
   "metadata": {},
   "source": [
    "The `Cov` class supports several additional I/O routines, including the PEST uncertainty file (.unc):"
   ]
  },
  {
   "cell_type": "code",
   "execution_count": 18,
   "metadata": {
    "collapsed": false
   },
   "outputs": [],
   "source": [
    "c.to_uncfile(\"test.unc\")"
   ]
  },
  {
   "cell_type": "code",
   "execution_count": 19,
   "metadata": {
    "collapsed": false,
    "scrolled": true
   },
   "outputs": [
    {
     "name": "stdout",
     "output_type": "stream",
     "text": [
      "row names: ['row_00', 'row_01', 'row_02', 'row_03', 'row_04']\n",
      "col names: ['row_00', 'row_01', 'row_02', 'row_03', 'row_04']\n",
      "[[ 0.66369095  0.72103958  0.01834535  0.86447659  0.06158706]\n",
      " [ 0.58838725  0.83583326  0.92311355  0.65205233  0.21823867]\n",
      " [ 0.36925743  0.83478583  0.92683265  0.69077832  0.02634063]\n",
      " [ 0.79415036  0.14491413  0.759354    0.31046653  0.92000216]\n",
      " [ 0.46282043  0.94008384  0.36848832  0.6562321   0.00725252]]\n"
     ]
    }
   ],
   "source": [
    "c1 = Cov.from_uncfile(\"test.unc\")\n",
    "print(c1)"
   ]
  },
  {
   "cell_type": "markdown",
   "metadata": {},
   "source": [
    "We can also build `cov` objects implied by pest control file parameter bounds or observation weights:"
   ]
  },
  {
   "cell_type": "code",
   "execution_count": 20,
   "metadata": {
    "collapsed": false
   },
   "outputs": [],
   "source": [
    "parcov = Cov.from_parbounds(os.path.join(\"henry\",\"pest.pst\"))\n",
    "obscov = Cov.from_obsweights(os.path.join(\"henry\",\"pest.pst\"))"
   ]
  },
  {
   "cell_type": "code",
   "execution_count": 21,
   "metadata": {
    "collapsed": false
   },
   "outputs": [
    {
     "data": {
      "text/html": [
       "<div>\n",
       "<table border=\"1\" class=\"dataframe\">\n",
       "  <thead>\n",
       "    <tr style=\"text-align: right;\">\n",
       "      <th></th>\n",
       "      <th>global_k</th>\n",
       "      <th>mult1</th>\n",
       "      <th>mult2</th>\n",
       "      <th>kr01c01</th>\n",
       "      <th>kr01c02</th>\n",
       "      <th>kr01c03</th>\n",
       "      <th>kr01c04</th>\n",
       "      <th>kr01c05</th>\n",
       "      <th>kr01c06</th>\n",
       "      <th>kr01c07</th>\n",
       "      <th>...</th>\n",
       "      <th>kr10c51</th>\n",
       "      <th>kr10c52</th>\n",
       "      <th>kr10c53</th>\n",
       "      <th>kr10c54</th>\n",
       "      <th>kr10c55</th>\n",
       "      <th>kr10c56</th>\n",
       "      <th>kr10c57</th>\n",
       "      <th>kr10c58</th>\n",
       "      <th>kr10c59</th>\n",
       "      <th>kr10c60</th>\n",
       "    </tr>\n",
       "  </thead>\n",
       "  <tbody>\n",
       "    <tr>\n",
       "      <th>global_k</th>\n",
       "      <td>0.003076</td>\n",
       "      <td>0.000000</td>\n",
       "      <td>0.000000</td>\n",
       "      <td>0.00</td>\n",
       "      <td>0.00</td>\n",
       "      <td>0.0</td>\n",
       "      <td>0.0</td>\n",
       "      <td>0.0</td>\n",
       "      <td>0.0</td>\n",
       "      <td>0.0</td>\n",
       "      <td>...</td>\n",
       "      <td>0.0</td>\n",
       "      <td>0.0</td>\n",
       "      <td>0.0</td>\n",
       "      <td>0.0</td>\n",
       "      <td>0.0</td>\n",
       "      <td>0.0</td>\n",
       "      <td>0.0</td>\n",
       "      <td>0.0</td>\n",
       "      <td>0.0</td>\n",
       "      <td>0.0</td>\n",
       "    </tr>\n",
       "    <tr>\n",
       "      <th>mult1</th>\n",
       "      <td>0.000000</td>\n",
       "      <td>0.003076</td>\n",
       "      <td>0.000000</td>\n",
       "      <td>0.00</td>\n",
       "      <td>0.00</td>\n",
       "      <td>0.0</td>\n",
       "      <td>0.0</td>\n",
       "      <td>0.0</td>\n",
       "      <td>0.0</td>\n",
       "      <td>0.0</td>\n",
       "      <td>...</td>\n",
       "      <td>0.0</td>\n",
       "      <td>0.0</td>\n",
       "      <td>0.0</td>\n",
       "      <td>0.0</td>\n",
       "      <td>0.0</td>\n",
       "      <td>0.0</td>\n",
       "      <td>0.0</td>\n",
       "      <td>0.0</td>\n",
       "      <td>0.0</td>\n",
       "      <td>0.0</td>\n",
       "    </tr>\n",
       "    <tr>\n",
       "      <th>mult2</th>\n",
       "      <td>0.000000</td>\n",
       "      <td>0.000000</td>\n",
       "      <td>0.022655</td>\n",
       "      <td>0.00</td>\n",
       "      <td>0.00</td>\n",
       "      <td>0.0</td>\n",
       "      <td>0.0</td>\n",
       "      <td>0.0</td>\n",
       "      <td>0.0</td>\n",
       "      <td>0.0</td>\n",
       "      <td>...</td>\n",
       "      <td>0.0</td>\n",
       "      <td>0.0</td>\n",
       "      <td>0.0</td>\n",
       "      <td>0.0</td>\n",
       "      <td>0.0</td>\n",
       "      <td>0.0</td>\n",
       "      <td>0.0</td>\n",
       "      <td>0.0</td>\n",
       "      <td>0.0</td>\n",
       "      <td>0.0</td>\n",
       "    </tr>\n",
       "    <tr>\n",
       "      <th>kr01c01</th>\n",
       "      <td>0.000000</td>\n",
       "      <td>0.000000</td>\n",
       "      <td>0.000000</td>\n",
       "      <td>0.25</td>\n",
       "      <td>0.00</td>\n",
       "      <td>0.0</td>\n",
       "      <td>0.0</td>\n",
       "      <td>0.0</td>\n",
       "      <td>0.0</td>\n",
       "      <td>0.0</td>\n",
       "      <td>...</td>\n",
       "      <td>0.0</td>\n",
       "      <td>0.0</td>\n",
       "      <td>0.0</td>\n",
       "      <td>0.0</td>\n",
       "      <td>0.0</td>\n",
       "      <td>0.0</td>\n",
       "      <td>0.0</td>\n",
       "      <td>0.0</td>\n",
       "      <td>0.0</td>\n",
       "      <td>0.0</td>\n",
       "    </tr>\n",
       "    <tr>\n",
       "      <th>kr01c02</th>\n",
       "      <td>0.000000</td>\n",
       "      <td>0.000000</td>\n",
       "      <td>0.000000</td>\n",
       "      <td>0.00</td>\n",
       "      <td>0.25</td>\n",
       "      <td>0.0</td>\n",
       "      <td>0.0</td>\n",
       "      <td>0.0</td>\n",
       "      <td>0.0</td>\n",
       "      <td>0.0</td>\n",
       "      <td>...</td>\n",
       "      <td>0.0</td>\n",
       "      <td>0.0</td>\n",
       "      <td>0.0</td>\n",
       "      <td>0.0</td>\n",
       "      <td>0.0</td>\n",
       "      <td>0.0</td>\n",
       "      <td>0.0</td>\n",
       "      <td>0.0</td>\n",
       "      <td>0.0</td>\n",
       "      <td>0.0</td>\n",
       "    </tr>\n",
       "  </tbody>\n",
       "</table>\n",
       "<p>5 rows × 603 columns</p>\n",
       "</div>"
      ],
      "text/plain": [
       "          global_k     mult1     mult2  kr01c01  kr01c02  kr01c03  kr01c04  \\\n",
       "global_k  0.003076  0.000000  0.000000     0.00     0.00      0.0      0.0   \n",
       "mult1     0.000000  0.003076  0.000000     0.00     0.00      0.0      0.0   \n",
       "mult2     0.000000  0.000000  0.022655     0.00     0.00      0.0      0.0   \n",
       "kr01c01   0.000000  0.000000  0.000000     0.25     0.00      0.0      0.0   \n",
       "kr01c02   0.000000  0.000000  0.000000     0.00     0.25      0.0      0.0   \n",
       "\n",
       "          kr01c05  kr01c06  kr01c07   ...     kr10c51  kr10c52  kr10c53  \\\n",
       "global_k      0.0      0.0      0.0   ...         0.0      0.0      0.0   \n",
       "mult1         0.0      0.0      0.0   ...         0.0      0.0      0.0   \n",
       "mult2         0.0      0.0      0.0   ...         0.0      0.0      0.0   \n",
       "kr01c01       0.0      0.0      0.0   ...         0.0      0.0      0.0   \n",
       "kr01c02       0.0      0.0      0.0   ...         0.0      0.0      0.0   \n",
       "\n",
       "          kr10c54  kr10c55  kr10c56  kr10c57  kr10c58  kr10c59  kr10c60  \n",
       "global_k      0.0      0.0      0.0      0.0      0.0      0.0      0.0  \n",
       "mult1         0.0      0.0      0.0      0.0      0.0      0.0      0.0  \n",
       "mult2         0.0      0.0      0.0      0.0      0.0      0.0      0.0  \n",
       "kr01c01       0.0      0.0      0.0      0.0      0.0      0.0      0.0  \n",
       "kr01c02       0.0      0.0      0.0      0.0      0.0      0.0      0.0  \n",
       "\n",
       "[5 rows x 603 columns]"
      ]
     },
     "execution_count": 21,
     "metadata": {},
     "output_type": "execute_result"
    }
   ],
   "source": [
    "#to_dataframe for diagonal types builds a full matrix dataframe - can be costly\n",
    "parcov.to_dataframe().head() "
   ]
  },
  {
   "cell_type": "code",
   "execution_count": 22,
   "metadata": {
    "collapsed": false
   },
   "outputs": [
    {
     "data": {
      "text/html": [
       "<div>\n",
       "<table border=\"1\" class=\"dataframe\">\n",
       "  <thead>\n",
       "    <tr style=\"text-align: right;\">\n",
       "      <th></th>\n",
       "      <th>h_obs01_1</th>\n",
       "      <th>h_obs01_2</th>\n",
       "      <th>h_obs02_1</th>\n",
       "      <th>h_obs02_2</th>\n",
       "      <th>h_obs03_1</th>\n",
       "      <th>h_obs03_2</th>\n",
       "      <th>h_obs04_1</th>\n",
       "      <th>h_obs04_2</th>\n",
       "      <th>h_obs05_1</th>\n",
       "      <th>h_obs05_2</th>\n",
       "      <th>...</th>\n",
       "      <th>c_obs12_2</th>\n",
       "      <th>c_obs13_1</th>\n",
       "      <th>c_obs13_2</th>\n",
       "      <th>c_obs14_1</th>\n",
       "      <th>c_obs14_2</th>\n",
       "      <th>c_obs15_1</th>\n",
       "      <th>c_obs15_2</th>\n",
       "      <th>pd_one</th>\n",
       "      <th>pd_ten</th>\n",
       "      <th>pd_half</th>\n",
       "    </tr>\n",
       "  </thead>\n",
       "  <tbody>\n",
       "    <tr>\n",
       "      <th>h_obs01_1</th>\n",
       "      <td>0.000043</td>\n",
       "      <td>0.000000e+00</td>\n",
       "      <td>0.000000</td>\n",
       "      <td>0.000000e+00</td>\n",
       "      <td>0.000000</td>\n",
       "      <td>0.0</td>\n",
       "      <td>0.0</td>\n",
       "      <td>0.0</td>\n",
       "      <td>0.0</td>\n",
       "      <td>0.0</td>\n",
       "      <td>...</td>\n",
       "      <td>0.0</td>\n",
       "      <td>0.0</td>\n",
       "      <td>0.0</td>\n",
       "      <td>0.0</td>\n",
       "      <td>0.0</td>\n",
       "      <td>0.0</td>\n",
       "      <td>0.0</td>\n",
       "      <td>0.0</td>\n",
       "      <td>0.0</td>\n",
       "      <td>0.0</td>\n",
       "    </tr>\n",
       "    <tr>\n",
       "      <th>h_obs01_2</th>\n",
       "      <td>0.000000</td>\n",
       "      <td>1.000000e+60</td>\n",
       "      <td>0.000000</td>\n",
       "      <td>0.000000e+00</td>\n",
       "      <td>0.000000</td>\n",
       "      <td>0.0</td>\n",
       "      <td>0.0</td>\n",
       "      <td>0.0</td>\n",
       "      <td>0.0</td>\n",
       "      <td>0.0</td>\n",
       "      <td>...</td>\n",
       "      <td>0.0</td>\n",
       "      <td>0.0</td>\n",
       "      <td>0.0</td>\n",
       "      <td>0.0</td>\n",
       "      <td>0.0</td>\n",
       "      <td>0.0</td>\n",
       "      <td>0.0</td>\n",
       "      <td>0.0</td>\n",
       "      <td>0.0</td>\n",
       "      <td>0.0</td>\n",
       "    </tr>\n",
       "    <tr>\n",
       "      <th>h_obs02_1</th>\n",
       "      <td>0.000000</td>\n",
       "      <td>0.000000e+00</td>\n",
       "      <td>0.000043</td>\n",
       "      <td>0.000000e+00</td>\n",
       "      <td>0.000000</td>\n",
       "      <td>0.0</td>\n",
       "      <td>0.0</td>\n",
       "      <td>0.0</td>\n",
       "      <td>0.0</td>\n",
       "      <td>0.0</td>\n",
       "      <td>...</td>\n",
       "      <td>0.0</td>\n",
       "      <td>0.0</td>\n",
       "      <td>0.0</td>\n",
       "      <td>0.0</td>\n",
       "      <td>0.0</td>\n",
       "      <td>0.0</td>\n",
       "      <td>0.0</td>\n",
       "      <td>0.0</td>\n",
       "      <td>0.0</td>\n",
       "      <td>0.0</td>\n",
       "    </tr>\n",
       "    <tr>\n",
       "      <th>h_obs02_2</th>\n",
       "      <td>0.000000</td>\n",
       "      <td>0.000000e+00</td>\n",
       "      <td>0.000000</td>\n",
       "      <td>1.000000e+60</td>\n",
       "      <td>0.000000</td>\n",
       "      <td>0.0</td>\n",
       "      <td>0.0</td>\n",
       "      <td>0.0</td>\n",
       "      <td>0.0</td>\n",
       "      <td>0.0</td>\n",
       "      <td>...</td>\n",
       "      <td>0.0</td>\n",
       "      <td>0.0</td>\n",
       "      <td>0.0</td>\n",
       "      <td>0.0</td>\n",
       "      <td>0.0</td>\n",
       "      <td>0.0</td>\n",
       "      <td>0.0</td>\n",
       "      <td>0.0</td>\n",
       "      <td>0.0</td>\n",
       "      <td>0.0</td>\n",
       "    </tr>\n",
       "    <tr>\n",
       "      <th>h_obs03_1</th>\n",
       "      <td>0.000000</td>\n",
       "      <td>0.000000e+00</td>\n",
       "      <td>0.000000</td>\n",
       "      <td>0.000000e+00</td>\n",
       "      <td>0.000043</td>\n",
       "      <td>0.0</td>\n",
       "      <td>0.0</td>\n",
       "      <td>0.0</td>\n",
       "      <td>0.0</td>\n",
       "      <td>0.0</td>\n",
       "      <td>...</td>\n",
       "      <td>0.0</td>\n",
       "      <td>0.0</td>\n",
       "      <td>0.0</td>\n",
       "      <td>0.0</td>\n",
       "      <td>0.0</td>\n",
       "      <td>0.0</td>\n",
       "      <td>0.0</td>\n",
       "      <td>0.0</td>\n",
       "      <td>0.0</td>\n",
       "      <td>0.0</td>\n",
       "    </tr>\n",
       "  </tbody>\n",
       "</table>\n",
       "<p>5 rows × 75 columns</p>\n",
       "</div>"
      ],
      "text/plain": [
       "           h_obs01_1     h_obs01_2  h_obs02_1     h_obs02_2  h_obs03_1  \\\n",
       "h_obs01_1   0.000043  0.000000e+00   0.000000  0.000000e+00   0.000000   \n",
       "h_obs01_2   0.000000  1.000000e+60   0.000000  0.000000e+00   0.000000   \n",
       "h_obs02_1   0.000000  0.000000e+00   0.000043  0.000000e+00   0.000000   \n",
       "h_obs02_2   0.000000  0.000000e+00   0.000000  1.000000e+60   0.000000   \n",
       "h_obs03_1   0.000000  0.000000e+00   0.000000  0.000000e+00   0.000043   \n",
       "\n",
       "           h_obs03_2  h_obs04_1  h_obs04_2  h_obs05_1  h_obs05_2   ...     \\\n",
       "h_obs01_1        0.0        0.0        0.0        0.0        0.0   ...      \n",
       "h_obs01_2        0.0        0.0        0.0        0.0        0.0   ...      \n",
       "h_obs02_1        0.0        0.0        0.0        0.0        0.0   ...      \n",
       "h_obs02_2        0.0        0.0        0.0        0.0        0.0   ...      \n",
       "h_obs03_1        0.0        0.0        0.0        0.0        0.0   ...      \n",
       "\n",
       "           c_obs12_2  c_obs13_1  c_obs13_2  c_obs14_1  c_obs14_2  c_obs15_1  \\\n",
       "h_obs01_1        0.0        0.0        0.0        0.0        0.0        0.0   \n",
       "h_obs01_2        0.0        0.0        0.0        0.0        0.0        0.0   \n",
       "h_obs02_1        0.0        0.0        0.0        0.0        0.0        0.0   \n",
       "h_obs02_2        0.0        0.0        0.0        0.0        0.0        0.0   \n",
       "h_obs03_1        0.0        0.0        0.0        0.0        0.0        0.0   \n",
       "\n",
       "           c_obs15_2  pd_one  pd_ten  pd_half  \n",
       "h_obs01_1        0.0     0.0     0.0      0.0  \n",
       "h_obs01_2        0.0     0.0     0.0      0.0  \n",
       "h_obs02_1        0.0     0.0     0.0      0.0  \n",
       "h_obs02_2        0.0     0.0     0.0      0.0  \n",
       "h_obs03_1        0.0     0.0     0.0      0.0  \n",
       "\n",
       "[5 rows x 75 columns]"
      ]
     },
     "execution_count": 22,
     "metadata": {},
     "output_type": "execute_result"
    }
   ],
   "source": [
    "# notice the zero-weight obs have been assigned a really large uncertainty\n",
    "obscov.to_dataframe().head()"
   ]
  }
 ],
 "metadata": {
  "anaconda-cloud": {},
  "kernelspec": {
   "display_name": "Python [Root]",
   "language": "python",
   "name": "Python [Root]"
  },
  "language_info": {
   "codemirror_mode": {
    "name": "ipython",
    "version": 3
   },
   "file_extension": ".py",
   "mimetype": "text/x-python",
   "name": "python",
   "nbconvert_exporter": "python",
   "pygments_lexer": "ipython3",
   "version": "3.5.2"
  }
 },
 "nbformat": 4,
 "nbformat_minor": 0
}
