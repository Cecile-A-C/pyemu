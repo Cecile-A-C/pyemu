{
 "cells": [
  {
   "cell_type": "markdown",
   "metadata": {},
   "source": [
    "#Matrix and Covariance\n",
    "\n",
    "The `mat_handler.py` module contains `matrix` class, which is the backbone of `pyemu`.  The `matrix` class overloads all common mathematical operators and also uses an \"auto-align\" functionality to line up matrix objects for multiplication, addition, etc. \n",
    "\n"
   ]
  },
  {
   "cell_type": "code",
   "execution_count": 47,
   "metadata": {
    "collapsed": false
   },
   "outputs": [],
   "source": [
    "from __future__ import print_function\n",
    "import os\n",
    "import numpy as np\n",
    "from pyemu import Matrix, Cov"
   ]
  },
  {
   "cell_type": "markdown",
   "metadata": {},
   "source": [
    "Here is the most basic instantiation of the `matrix` class:"
   ]
  },
  {
   "cell_type": "code",
   "execution_count": 48,
   "metadata": {
    "collapsed": false
   },
   "outputs": [],
   "source": [
    "m = Matrix()"
   ]
  },
  {
   "cell_type": "markdown",
   "metadata": {},
   "source": [
    "Here we will generate a `matrix` object with a random ndarray"
   ]
  },
  {
   "cell_type": "code",
   "execution_count": 49,
   "metadata": {
    "collapsed": false
   },
   "outputs": [
    {
     "name": "stdout",
     "output_type": "stream",
     "text": [
      "row names: ['row_00', 'row_01', 'row_02', 'row_03', 'row_04']\n",
      "col names: ['col_00', 'col_01', 'col_02', 'col_03', 'col_04']\n",
      "[[ 0.25147415  0.5847474   0.83208816  0.04700621  0.61856291]\n",
      " [ 0.5354256   0.17844495  0.89679782  0.0147489   0.05251886]\n",
      " [ 0.13800263  0.70606961  0.61471933  0.55675189  0.94697765]\n",
      " [ 0.95557179  0.31426416  0.27775357  0.41331219  0.7056998 ]\n",
      " [ 0.80117973  0.30115119  0.46469282  0.92263795  0.86697007]]\n"
     ]
    }
   ],
   "source": [
    "a = np.random.random((5, 5))\n",
    "row_names = []\n",
    "[row_names.append(\"row_{0:02d}\".format(i)) for i in range(5)]\n",
    "col_names = []\n",
    "[col_names.append(\"col_{0:02d}\".format(i)) for i in range(5)]\n",
    "m = Matrix(x=a, row_names=row_names, col_names=col_names)\n",
    "print(m)"
   ]
  },
  {
   "cell_type": "markdown",
   "metadata": {},
   "source": [
    "#File I/O with `matrix`\n",
    "`matrix` supports several PEST-compatible I/O routines as well as some others:"
   ]
  },
  {
   "cell_type": "code",
   "execution_count": 50,
   "metadata": {
    "collapsed": false
   },
   "outputs": [
    {
     "name": "stdout",
     "output_type": "stream",
     "text": [
      "row names: ['row_00', 'row_01', 'row_02', 'row_03', 'row_04']\n",
      "col names: ['col_00', 'col_01', 'col_02', 'col_03', 'col_04']\n",
      "[[ 0.25147415  0.5847474   0.83208816  0.04700621  0.61856291]\n",
      " [ 0.5354256   0.17844495  0.89679782  0.0147489   0.05251886]\n",
      " [ 0.13800263  0.70606961  0.61471933  0.55675189  0.94697765]\n",
      " [ 0.95557179  0.31426416  0.27775357  0.41331219  0.7056998 ]\n",
      " [ 0.80117973  0.30115119  0.46469282  0.92263795  0.86697007]]\n"
     ]
    }
   ],
   "source": [
    "ascii_name = \"mat_test.mat\"\n",
    "m.to_ascii(ascii_name)\n",
    "m2 = Matrix.from_ascii(ascii_name)\n",
    "print(m2)"
   ]
  },
  {
   "cell_type": "code",
   "execution_count": 51,
   "metadata": {
    "collapsed": false
   },
   "outputs": [
    {
     "name": "stdout",
     "output_type": "stream",
     "text": [
      "row names: [u'row_00', u'row_01', u'row_02', u'row_03', u'row_04']\n",
      "col names: [u'col_00', u'col_01', u'col_02', u'col_03', u'col_04']\n",
      "[[ 0.25147415  0.5847474   0.83208816  0.04700621  0.61856291]\n",
      " [ 0.5354256   0.17844495  0.89679782  0.0147489   0.05251886]\n",
      " [ 0.13800263  0.70606961  0.61471933  0.55675189  0.94697765]\n",
      " [ 0.95557179  0.31426416  0.27775357  0.41331219  0.7056998 ]\n",
      " [ 0.80117973  0.30115119  0.46469282  0.92263795  0.86697007]]\n"
     ]
    }
   ],
   "source": [
    "bin_name = \"mat_test.bin\"\n",
    "m.to_binary(bin_name)\n",
    "m3 = Matrix.from_binary(bin_name)\n",
    "print(m3)"
   ]
  },
  {
   "cell_type": "markdown",
   "metadata": {},
   "source": [
    "`Matrix` also implements a `to_dataframe()` and a `to_sparse`, which return `pandas dataframe` and a `scipy.sparse` (compressed sparse row) objects, respectively:"
   ]
  },
  {
   "cell_type": "code",
   "execution_count": 52,
   "metadata": {
    "collapsed": false
   },
   "outputs": [
    {
     "name": "stdout",
     "output_type": "stream",
     "text": [
      "<class 'pandas.core.frame.DataFrame'>\n",
      "<class 'scipy.sparse.csr.csr_matrix'>\n"
     ]
    },
    {
     "data": {
      "text/html": [
       "<div>\n",
       "<table border=\"1\" class=\"dataframe\">\n",
       "  <thead>\n",
       "    <tr style=\"text-align: right;\">\n",
       "      <th></th>\n",
       "      <th>col_00</th>\n",
       "      <th>col_01</th>\n",
       "      <th>col_02</th>\n",
       "      <th>col_03</th>\n",
       "      <th>col_04</th>\n",
       "    </tr>\n",
       "  </thead>\n",
       "  <tbody>\n",
       "    <tr>\n",
       "      <th>row_00</th>\n",
       "      <td>0.251474</td>\n",
       "      <td>0.584747</td>\n",
       "      <td>0.832088</td>\n",
       "      <td>0.047006</td>\n",
       "      <td>0.618563</td>\n",
       "    </tr>\n",
       "    <tr>\n",
       "      <th>row_01</th>\n",
       "      <td>0.535426</td>\n",
       "      <td>0.178445</td>\n",
       "      <td>0.896798</td>\n",
       "      <td>0.014749</td>\n",
       "      <td>0.052519</td>\n",
       "    </tr>\n",
       "    <tr>\n",
       "      <th>row_02</th>\n",
       "      <td>0.138003</td>\n",
       "      <td>0.706070</td>\n",
       "      <td>0.614719</td>\n",
       "      <td>0.556752</td>\n",
       "      <td>0.946978</td>\n",
       "    </tr>\n",
       "    <tr>\n",
       "      <th>row_03</th>\n",
       "      <td>0.955572</td>\n",
       "      <td>0.314264</td>\n",
       "      <td>0.277754</td>\n",
       "      <td>0.413312</td>\n",
       "      <td>0.705700</td>\n",
       "    </tr>\n",
       "    <tr>\n",
       "      <th>row_04</th>\n",
       "      <td>0.801180</td>\n",
       "      <td>0.301151</td>\n",
       "      <td>0.464693</td>\n",
       "      <td>0.922638</td>\n",
       "      <td>0.866970</td>\n",
       "    </tr>\n",
       "  </tbody>\n",
       "</table>\n",
       "</div>"
      ],
      "text/plain": [
       "          col_00    col_01    col_02    col_03    col_04\n",
       "row_00  0.251474  0.584747  0.832088  0.047006  0.618563\n",
       "row_01  0.535426  0.178445  0.896798  0.014749  0.052519\n",
       "row_02  0.138003  0.706070  0.614719  0.556752  0.946978\n",
       "row_03  0.955572  0.314264  0.277754  0.413312  0.705700\n",
       "row_04  0.801180  0.301151  0.464693  0.922638  0.866970"
      ]
     },
     "execution_count": 52,
     "metadata": {},
     "output_type": "execute_result"
    }
   ],
   "source": [
    "print(type(m.to_dataframe()))\n",
    "print(type(m.to_sparse()))\n",
    "m.to_dataframe() #looks really nice in the notebook!"
   ]
  },
  {
   "cell_type": "markdown",
   "metadata": {},
   "source": [
    "#Convience methods of `Matrix`\n",
    "\n",
    "several cool things are implemented in `Matrix` and accessed through `@property` decorated methods.  For example, the SVD components of a `Matrix` object are simply accessed by name.  The SVD routine is called on demand and the components are cast to `Matrix` objects, all opaque to the user:"
   ]
  },
  {
   "cell_type": "code",
   "execution_count": 53,
   "metadata": {
    "collapsed": false
   },
   "outputs": [
    {
     "name": "stdout",
     "output_type": "stream",
     "text": [
      "row names: ['sing_val_1', 'sing_val_2', 'sing_val_3', 'sing_val_4', 'sing_val_5']\n",
      "col names: ['sing_val_1', 'sing_val_2', 'sing_val_3', 'sing_val_4', 'sing_val_5']\n",
      "[[ 2.70270211]\n",
      " [ 0.96251141]\n",
      " [ 0.81169598]\n",
      " [ 0.35718263]\n",
      " [ 0.04625848]]\n"
     ]
    }
   ],
   "source": [
    "print(m.s) #the singular values of m cast into a matrix object.  the SVD() is called on demand\n",
    "m.s.to_ascii(\"test_sv.mat\") #save the singular values to a PEST-compatible ASCII file"
   ]
  },
  {
   "cell_type": "code",
   "execution_count": 54,
   "metadata": {
    "collapsed": false
   },
   "outputs": [
    {
     "data": {
      "text/html": [
       "<div>\n",
       "<table border=\"1\" class=\"dataframe\">\n",
       "  <thead>\n",
       "    <tr style=\"text-align: right;\">\n",
       "      <th></th>\n",
       "      <th>left_sing_vec_1</th>\n",
       "      <th>left_sing_vec_2</th>\n",
       "      <th>left_sing_vec_3</th>\n",
       "      <th>left_sing_vec_4</th>\n",
       "      <th>left_sing_vec_5</th>\n",
       "    </tr>\n",
       "  </thead>\n",
       "  <tbody>\n",
       "    <tr>\n",
       "      <th>row_00</th>\n",
       "      <td>-0.398177</td>\n",
       "      <td>0.562895</td>\n",
       "      <td>-0.151057</td>\n",
       "      <td>-0.341352</td>\n",
       "      <td>0.620697</td>\n",
       "    </tr>\n",
       "    <tr>\n",
       "      <th>row_01</th>\n",
       "      <td>-0.280207</td>\n",
       "      <td>0.540946</td>\n",
       "      <td>0.634938</td>\n",
       "      <td>0.346112</td>\n",
       "      <td>-0.325456</td>\n",
       "    </tr>\n",
       "    <tr>\n",
       "      <th>row_02</th>\n",
       "      <td>-0.496273</td>\n",
       "      <td>0.128383</td>\n",
       "      <td>-0.658943</td>\n",
       "      <td>0.096846</td>\n",
       "      <td>-0.541891</td>\n",
       "    </tr>\n",
       "    <tr>\n",
       "      <th>row_03</th>\n",
       "      <td>-0.450653</td>\n",
       "      <td>-0.369583</td>\n",
       "      <td>0.365356</td>\n",
       "      <td>-0.684497</td>\n",
       "      <td>-0.241452</td>\n",
       "    </tr>\n",
       "    <tr>\n",
       "      <th>row_04</th>\n",
       "      <td>-0.559968</td>\n",
       "      <td>-0.487292</td>\n",
       "      <td>0.079648</td>\n",
       "      <td>0.534574</td>\n",
       "      <td>0.396067</td>\n",
       "    </tr>\n",
       "  </tbody>\n",
       "</table>\n",
       "</div>"
      ],
      "text/plain": [
       "        left_sing_vec_1  left_sing_vec_2  left_sing_vec_3  left_sing_vec_4  \\\n",
       "row_00        -0.398177         0.562895        -0.151057        -0.341352   \n",
       "row_01        -0.280207         0.540946         0.634938         0.346112   \n",
       "row_02        -0.496273         0.128383        -0.658943         0.096846   \n",
       "row_03        -0.450653        -0.369583         0.365356        -0.684497   \n",
       "row_04        -0.559968        -0.487292         0.079648         0.534574   \n",
       "\n",
       "        left_sing_vec_5  \n",
       "row_00         0.620697  \n",
       "row_01        -0.325456  \n",
       "row_02        -0.541891  \n",
       "row_03        -0.241452  \n",
       "row_04         0.396067  "
      ]
     },
     "execution_count": 54,
     "metadata": {},
     "output_type": "execute_result"
    }
   ],
   "source": [
    "m.v.to_ascii(\"test_v.mat\") #the right singular vectors of m.\n",
    "m.u.to_dataframe()# a data frame of the left singular vectors of m"
   ]
  },
  {
   "cell_type": "markdown",
   "metadata": {},
   "source": [
    "The `Matrix` inverse operation is accessed the same way, but requires a square matrix:"
   ]
  },
  {
   "cell_type": "code",
   "execution_count": 55,
   "metadata": {
    "collapsed": false
   },
   "outputs": [
    {
     "data": {
      "text/html": [
       "<div>\n",
       "<table border=\"1\" class=\"dataframe\">\n",
       "  <thead>\n",
       "    <tr style=\"text-align: right;\">\n",
       "      <th></th>\n",
       "      <th>col_00</th>\n",
       "      <th>col_01</th>\n",
       "      <th>col_02</th>\n",
       "      <th>col_03</th>\n",
       "      <th>col_04</th>\n",
       "    </tr>\n",
       "  </thead>\n",
       "  <tbody>\n",
       "    <tr>\n",
       "      <th>row_00</th>\n",
       "      <td>-1.797852</td>\n",
       "      <td>1.135291</td>\n",
       "      <td>0.939991</td>\n",
       "      <td>1.860548</td>\n",
       "      <td>-1.327241</td>\n",
       "    </tr>\n",
       "    <tr>\n",
       "      <th>row_01</th>\n",
       "      <td>-9.356031</td>\n",
       "      <td>4.781424</td>\n",
       "      <td>9.003453</td>\n",
       "      <td>4.327946</td>\n",
       "      <td>-6.971545</td>\n",
       "    </tr>\n",
       "    <tr>\n",
       "      <th>row_02</th>\n",
       "      <td>2.530339</td>\n",
       "      <td>-0.268500</td>\n",
       "      <td>-2.031426</td>\n",
       "      <td>-1.834315</td>\n",
       "      <td>1.922925</td>\n",
       "    </tr>\n",
       "    <tr>\n",
       "      <th>row_03</th>\n",
       "      <td>-4.283705</td>\n",
       "      <td>2.078789</td>\n",
       "      <td>3.292263</td>\n",
       "      <td>0.142379</td>\n",
       "      <td>-0.781584</td>\n",
       "    </tr>\n",
       "    <tr>\n",
       "      <th>row_04</th>\n",
       "      <td>8.113845</td>\n",
       "      <td>-4.778369</td>\n",
       "      <td>-6.410924</td>\n",
       "      <td>-2.391052</td>\n",
       "      <td>4.602693</td>\n",
       "    </tr>\n",
       "  </tbody>\n",
       "</table>\n",
       "</div>"
      ],
      "text/plain": [
       "          col_00    col_01    col_02    col_03    col_04\n",
       "row_00 -1.797852  1.135291  0.939991  1.860548 -1.327241\n",
       "row_01 -9.356031  4.781424  9.003453  4.327946 -6.971545\n",
       "row_02  2.530339 -0.268500 -2.031426 -1.834315  1.922925\n",
       "row_03 -4.283705  2.078789  3.292263  0.142379 -0.781584\n",
       "row_04  8.113845 -4.778369 -6.410924 -2.391052  4.602693"
      ]
     },
     "execution_count": 55,
     "metadata": {},
     "output_type": "execute_result"
    }
   ],
   "source": [
    "m.inv.to_dataframe()"
   ]
  },
  {
   "cell_type": "markdown",
   "metadata": {},
   "source": [
    "#Manipulating `Matrix` shape\n",
    "`Matrix` has lots of functionality to support getting submatrices by row and col names:"
   ]
  },
  {
   "cell_type": "code",
   "execution_count": 56,
   "metadata": {
    "collapsed": false
   },
   "outputs": [
    {
     "name": "stdout",
     "output_type": "stream",
     "text": [
      "row names: ['row_00']\n",
      "col names: ['col_01', 'col_03']\n",
      "[[ 0.5847474   0.04700621]]\n"
     ]
    }
   ],
   "source": [
    "\n",
    "print(m.get(row_names=\"row_00\",col_names=[\"col_01\",\"col_03\"]))"
   ]
  },
  {
   "cell_type": "markdown",
   "metadata": {},
   "source": [
    "`extract()` calls `get()` then `drop()`:"
   ]
  },
  {
   "cell_type": "code",
   "execution_count": 57,
   "metadata": {
    "collapsed": false
   },
   "outputs": [
    {
     "data": {
      "text/html": [
       "<div>\n",
       "<table border=\"1\" class=\"dataframe\">\n",
       "  <thead>\n",
       "    <tr style=\"text-align: right;\">\n",
       "      <th></th>\n",
       "      <th>col_01</th>\n",
       "      <th>col_03</th>\n",
       "    </tr>\n",
       "  </thead>\n",
       "  <tbody>\n",
       "    <tr>\n",
       "      <th>row_00</th>\n",
       "      <td>0.584747</td>\n",
       "      <td>0.047006</td>\n",
       "    </tr>\n",
       "  </tbody>\n",
       "</table>\n",
       "</div>"
      ],
      "text/plain": [
       "          col_01    col_03\n",
       "row_00  0.584747  0.047006"
      ]
     },
     "execution_count": 57,
     "metadata": {},
     "output_type": "execute_result"
    }
   ],
   "source": [
    "from copy import deepcopy\n",
    "m_copy = deepcopy(m)\n",
    "sub_m = m_copy.extract(row_names=\"row_00\",col_names=[\"col_01\",\"col_03\"])\n",
    "m_copy.to_dataframe()\n",
    "sub_m.to_dataframe()"
   ]
  },
  {
   "cell_type": "markdown",
   "metadata": {},
   "source": [
    "#Operator overloading\n",
    "The operator overloading uses the auto-align functionality as well as the `isdiagonal` flag for super easy linear algebra.  The \"inner join\" of the two objects is found and the rows and cols are aligned appropriately:"
   ]
  },
  {
   "cell_type": "code",
   "execution_count": 58,
   "metadata": {
    "collapsed": false
   },
   "outputs": [
    {
     "data": {
      "text/html": [
       "<div>\n",
       "<table border=\"1\" class=\"dataframe\">\n",
       "  <thead>\n",
       "    <tr style=\"text-align: right;\">\n",
       "      <th></th>\n",
       "      <th>col_01</th>\n",
       "      <th>col_10</th>\n",
       "      <th>col_100</th>\n",
       "    </tr>\n",
       "  </thead>\n",
       "  <tbody>\n",
       "    <tr>\n",
       "      <th>row_03</th>\n",
       "      <td>0.457715</td>\n",
       "      <td>0.915726</td>\n",
       "      <td>0.724446</td>\n",
       "    </tr>\n",
       "    <tr>\n",
       "      <th>row_02</th>\n",
       "      <td>0.719642</td>\n",
       "      <td>0.362283</td>\n",
       "      <td>0.736331</td>\n",
       "    </tr>\n",
       "    <tr>\n",
       "      <th>row_00</th>\n",
       "      <td>0.539345</td>\n",
       "      <td>0.729431</td>\n",
       "      <td>0.975270</td>\n",
       "    </tr>\n",
       "  </tbody>\n",
       "</table>\n",
       "</div>"
      ],
      "text/plain": [
       "          col_01    col_10   col_100\n",
       "row_03  0.457715  0.915726  0.724446\n",
       "row_02  0.719642  0.362283  0.736331\n",
       "row_00  0.539345  0.729431  0.975270"
      ]
     },
     "execution_count": 58,
     "metadata": {},
     "output_type": "execute_result"
    }
   ],
   "source": [
    "#a new matrix object that is not \"aligned\" with m\n",
    "row_names = [\"row_03\",\"row_02\",\"row_00\"]\n",
    "col_names = [\"col_01\",\"col_10\",\"col_100\"]\n",
    "m_mix = Matrix(x=np.random.random((3,3)),row_names=row_names,col_names=col_names)\n",
    "m_mix.to_dataframe()\n"
   ]
  },
  {
   "cell_type": "code",
   "execution_count": 59,
   "metadata": {
    "collapsed": false
   },
   "outputs": [
    {
     "data": {
      "text/html": [
       "<div>\n",
       "<table border=\"1\" class=\"dataframe\">\n",
       "  <thead>\n",
       "    <tr style=\"text-align: right;\">\n",
       "      <th></th>\n",
       "      <th>col_00</th>\n",
       "      <th>col_01</th>\n",
       "      <th>col_02</th>\n",
       "      <th>col_03</th>\n",
       "      <th>col_04</th>\n",
       "    </tr>\n",
       "  </thead>\n",
       "  <tbody>\n",
       "    <tr>\n",
       "      <th>row_00</th>\n",
       "      <td>0.251474</td>\n",
       "      <td>0.584747</td>\n",
       "      <td>0.832088</td>\n",
       "      <td>0.047006</td>\n",
       "      <td>0.618563</td>\n",
       "    </tr>\n",
       "    <tr>\n",
       "      <th>row_01</th>\n",
       "      <td>0.535426</td>\n",
       "      <td>0.178445</td>\n",
       "      <td>0.896798</td>\n",
       "      <td>0.014749</td>\n",
       "      <td>0.052519</td>\n",
       "    </tr>\n",
       "    <tr>\n",
       "      <th>row_02</th>\n",
       "      <td>0.138003</td>\n",
       "      <td>0.706070</td>\n",
       "      <td>0.614719</td>\n",
       "      <td>0.556752</td>\n",
       "      <td>0.946978</td>\n",
       "    </tr>\n",
       "    <tr>\n",
       "      <th>row_03</th>\n",
       "      <td>0.955572</td>\n",
       "      <td>0.314264</td>\n",
       "      <td>0.277754</td>\n",
       "      <td>0.413312</td>\n",
       "      <td>0.705700</td>\n",
       "    </tr>\n",
       "    <tr>\n",
       "      <th>row_04</th>\n",
       "      <td>0.801180</td>\n",
       "      <td>0.301151</td>\n",
       "      <td>0.464693</td>\n",
       "      <td>0.922638</td>\n",
       "      <td>0.866970</td>\n",
       "    </tr>\n",
       "  </tbody>\n",
       "</table>\n",
       "</div>"
      ],
      "text/plain": [
       "          col_00    col_01    col_02    col_03    col_04\n",
       "row_00  0.251474  0.584747  0.832088  0.047006  0.618563\n",
       "row_01  0.535426  0.178445  0.896798  0.014749  0.052519\n",
       "row_02  0.138003  0.706070  0.614719  0.556752  0.946978\n",
       "row_03  0.955572  0.314264  0.277754  0.413312  0.705700\n",
       "row_04  0.801180  0.301151  0.464693  0.922638  0.866970"
      ]
     },
     "execution_count": 59,
     "metadata": {},
     "output_type": "execute_result"
    }
   ],
   "source": [
    "m.to_dataframe()"
   ]
  },
  {
   "cell_type": "code",
   "execution_count": 60,
   "metadata": {
    "collapsed": false
   },
   "outputs": [
    {
     "data": {
      "text/html": [
       "<div>\n",
       "<table border=\"1\" class=\"dataframe\">\n",
       "  <thead>\n",
       "    <tr style=\"text-align: right;\">\n",
       "      <th></th>\n",
       "      <th>row_03</th>\n",
       "      <th>row_02</th>\n",
       "      <th>row_00</th>\n",
       "    </tr>\n",
       "  </thead>\n",
       "  <tbody>\n",
       "    <tr>\n",
       "      <th>row_00</th>\n",
       "      <td>0.267648</td>\n",
       "      <td>0.420809</td>\n",
       "      <td>0.315381</td>\n",
       "    </tr>\n",
       "    <tr>\n",
       "      <th>row_01</th>\n",
       "      <td>0.081677</td>\n",
       "      <td>0.128416</td>\n",
       "      <td>0.096243</td>\n",
       "    </tr>\n",
       "    <tr>\n",
       "      <th>row_02</th>\n",
       "      <td>0.323179</td>\n",
       "      <td>0.508117</td>\n",
       "      <td>0.380815</td>\n",
       "    </tr>\n",
       "    <tr>\n",
       "      <th>row_03</th>\n",
       "      <td>0.143844</td>\n",
       "      <td>0.226158</td>\n",
       "      <td>0.169497</td>\n",
       "    </tr>\n",
       "    <tr>\n",
       "      <th>row_04</th>\n",
       "      <td>0.137842</td>\n",
       "      <td>0.216721</td>\n",
       "      <td>0.162424</td>\n",
       "    </tr>\n",
       "  </tbody>\n",
       "</table>\n",
       "</div>"
      ],
      "text/plain": [
       "          row_03    row_02    row_00\n",
       "row_00  0.267648  0.420809  0.315381\n",
       "row_01  0.081677  0.128416  0.096243\n",
       "row_02  0.323179  0.508117  0.380815\n",
       "row_03  0.143844  0.226158  0.169497\n",
       "row_04  0.137842  0.216721  0.162424"
      ]
     },
     "execution_count": 60,
     "metadata": {},
     "output_type": "execute_result"
    }
   ],
   "source": [
    "prod = m * m_mix.T\n",
    "prod.to_dataframe()"
   ]
  },
  {
   "cell_type": "code",
   "execution_count": 61,
   "metadata": {
    "collapsed": false
   },
   "outputs": [
    {
     "data": {
      "text/html": [
       "<div>\n",
       "<table border=\"1\" class=\"dataframe\">\n",
       "  <thead>\n",
       "    <tr style=\"text-align: right;\">\n",
       "      <th></th>\n",
       "      <th>col_00</th>\n",
       "      <th>col_01</th>\n",
       "      <th>col_02</th>\n",
       "      <th>col_03</th>\n",
       "      <th>col_04</th>\n",
       "    </tr>\n",
       "  </thead>\n",
       "  <tbody>\n",
       "    <tr>\n",
       "      <th>col_01</th>\n",
       "      <td>0.672324</td>\n",
       "      <td>0.967341</td>\n",
       "      <td>1.018292</td>\n",
       "      <td>0.615194</td>\n",
       "      <td>1.338113</td>\n",
       "    </tr>\n",
       "    <tr>\n",
       "      <th>col_10</th>\n",
       "      <td>1.108471</td>\n",
       "      <td>0.970110</td>\n",
       "      <td>1.083999</td>\n",
       "      <td>0.614470</td>\n",
       "      <td>1.440500</td>\n",
       "    </tr>\n",
       "    <tr>\n",
       "      <th>col_100</th>\n",
       "      <td>1.039131</td>\n",
       "      <td>1.317855</td>\n",
       "      <td>1.465365</td>\n",
       "      <td>0.755220</td>\n",
       "      <td>1.811796</td>\n",
       "    </tr>\n",
       "  </tbody>\n",
       "</table>\n",
       "</div>"
      ],
      "text/plain": [
       "           col_00    col_01    col_02    col_03    col_04\n",
       "col_01   0.672324  0.967341  1.018292  0.615194  1.338113\n",
       "col_10   1.108471  0.970110  1.083999  0.614470  1.440500\n",
       "col_100  1.039131  1.317855  1.465365  0.755220  1.811796"
      ]
     },
     "execution_count": 61,
     "metadata": {},
     "output_type": "execute_result"
    }
   ],
   "source": [
    "prod2 = m_mix.T * m\n",
    "prod2.to_dataframe()"
   ]
  },
  {
   "cell_type": "code",
   "execution_count": 62,
   "metadata": {
    "collapsed": false
   },
   "outputs": [
    {
     "data": {
      "text/html": [
       "<div>\n",
       "<table border=\"1\" class=\"dataframe\">\n",
       "  <thead>\n",
       "    <tr style=\"text-align: right;\">\n",
       "      <th></th>\n",
       "      <th>col_01</th>\n",
       "    </tr>\n",
       "  </thead>\n",
       "  <tbody>\n",
       "    <tr>\n",
       "      <th>row_03</th>\n",
       "      <td>0.771980</td>\n",
       "    </tr>\n",
       "    <tr>\n",
       "      <th>row_02</th>\n",
       "      <td>1.425712</td>\n",
       "    </tr>\n",
       "    <tr>\n",
       "      <th>row_00</th>\n",
       "      <td>1.124092</td>\n",
       "    </tr>\n",
       "  </tbody>\n",
       "</table>\n",
       "</div>"
      ],
      "text/plain": [
       "          col_01\n",
       "row_03  0.771980\n",
       "row_02  1.425712\n",
       "row_00  1.124092"
      ]
     },
     "execution_count": 62,
     "metadata": {},
     "output_type": "execute_result"
    }
   ],
   "source": [
    "(m_mix + m).to_dataframe()"
   ]
  },
  {
   "cell_type": "markdown",
   "metadata": {},
   "source": [
    "#The `Cov` derived type\n",
    "The `Cov` type is designed specifically to handle covariance matrices.  It makes some assumptions, such as the symmetry (and accordingly that row_names == col_names). "
   ]
  },
  {
   "cell_type": "code",
   "execution_count": 63,
   "metadata": {
    "collapsed": false
   },
   "outputs": [],
   "source": [
    "c = Cov(m.newx,m.row_names)"
   ]
  },
  {
   "cell_type": "markdown",
   "metadata": {},
   "source": [
    "The `Cov` class supports several additional I/O routines, including the PEST uncertainty file (.unc):"
   ]
  },
  {
   "cell_type": "code",
   "execution_count": 64,
   "metadata": {
    "collapsed": false
   },
   "outputs": [],
   "source": [
    "c.to_uncfile(\"test.unc\")"
   ]
  },
  {
   "cell_type": "code",
   "execution_count": 65,
   "metadata": {
    "collapsed": false,
    "scrolled": true
   },
   "outputs": [
    {
     "name": "stdout",
     "output_type": "stream",
     "text": [
      "row names: ['row_00', 'row_01', 'row_02', 'row_03', 'row_04']\n",
      "col names: ['row_00', 'row_01', 'row_02', 'row_03', 'row_04']\n",
      "[[ 0.25147415  0.5847474   0.83208816  0.04700621  0.61856291]\n",
      " [ 0.5354256   0.17844495  0.89679782  0.0147489   0.05251886]\n",
      " [ 0.13800263  0.70606961  0.61471933  0.55675189  0.94697765]\n",
      " [ 0.95557179  0.31426416  0.27775357  0.41331219  0.7056998 ]\n",
      " [ 0.80117973  0.30115119  0.46469282  0.92263795  0.86697007]]\n"
     ]
    }
   ],
   "source": [
    "c1 = Cov.from_uncfile(\"test.unc\")\n",
    "print(c1)"
   ]
  },
  {
   "cell_type": "markdown",
   "metadata": {},
   "source": [
    "We can also build `cov` objects implied by pest control file parameter bounds or observation weights:"
   ]
  },
  {
   "cell_type": "code",
   "execution_count": 66,
   "metadata": {
    "collapsed": false
   },
   "outputs": [],
   "source": [
    "parcov = Cov.from_parbounds(os.path.join(\"henry\",\"pest.pst\"))\n",
    "obscov = Cov.from_obsweights(os.path.join(\"henry\",\"pest.pst\"))"
   ]
  },
  {
   "cell_type": "code",
   "execution_count": 67,
   "metadata": {
    "collapsed": false
   },
   "outputs": [
    {
     "data": {
      "text/html": [
       "<div>\n",
       "<table border=\"1\" class=\"dataframe\">\n",
       "  <thead>\n",
       "    <tr style=\"text-align: right;\">\n",
       "      <th></th>\n",
       "      <th>global_k</th>\n",
       "      <th>mult1</th>\n",
       "      <th>mult2</th>\n",
       "      <th>kr01c01</th>\n",
       "      <th>kr01c02</th>\n",
       "      <th>kr01c03</th>\n",
       "      <th>kr01c04</th>\n",
       "      <th>kr01c05</th>\n",
       "      <th>kr01c06</th>\n",
       "      <th>kr01c07</th>\n",
       "      <th>...</th>\n",
       "      <th>kr10c51</th>\n",
       "      <th>kr10c52</th>\n",
       "      <th>kr10c53</th>\n",
       "      <th>kr10c54</th>\n",
       "      <th>kr10c55</th>\n",
       "      <th>kr10c56</th>\n",
       "      <th>kr10c57</th>\n",
       "      <th>kr10c58</th>\n",
       "      <th>kr10c59</th>\n",
       "      <th>kr10c60</th>\n",
       "    </tr>\n",
       "  </thead>\n",
       "  <tbody>\n",
       "    <tr>\n",
       "      <th>global_k</th>\n",
       "      <td>0.003076</td>\n",
       "      <td>0.000000</td>\n",
       "      <td>0.000000</td>\n",
       "      <td>0.00</td>\n",
       "      <td>0.00</td>\n",
       "      <td>0</td>\n",
       "      <td>0</td>\n",
       "      <td>0</td>\n",
       "      <td>0</td>\n",
       "      <td>0</td>\n",
       "      <td>...</td>\n",
       "      <td>0</td>\n",
       "      <td>0</td>\n",
       "      <td>0</td>\n",
       "      <td>0</td>\n",
       "      <td>0</td>\n",
       "      <td>0</td>\n",
       "      <td>0</td>\n",
       "      <td>0</td>\n",
       "      <td>0</td>\n",
       "      <td>0</td>\n",
       "    </tr>\n",
       "    <tr>\n",
       "      <th>mult1</th>\n",
       "      <td>0.000000</td>\n",
       "      <td>0.003076</td>\n",
       "      <td>0.000000</td>\n",
       "      <td>0.00</td>\n",
       "      <td>0.00</td>\n",
       "      <td>0</td>\n",
       "      <td>0</td>\n",
       "      <td>0</td>\n",
       "      <td>0</td>\n",
       "      <td>0</td>\n",
       "      <td>...</td>\n",
       "      <td>0</td>\n",
       "      <td>0</td>\n",
       "      <td>0</td>\n",
       "      <td>0</td>\n",
       "      <td>0</td>\n",
       "      <td>0</td>\n",
       "      <td>0</td>\n",
       "      <td>0</td>\n",
       "      <td>0</td>\n",
       "      <td>0</td>\n",
       "    </tr>\n",
       "    <tr>\n",
       "      <th>mult2</th>\n",
       "      <td>0.000000</td>\n",
       "      <td>0.000000</td>\n",
       "      <td>0.022655</td>\n",
       "      <td>0.00</td>\n",
       "      <td>0.00</td>\n",
       "      <td>0</td>\n",
       "      <td>0</td>\n",
       "      <td>0</td>\n",
       "      <td>0</td>\n",
       "      <td>0</td>\n",
       "      <td>...</td>\n",
       "      <td>0</td>\n",
       "      <td>0</td>\n",
       "      <td>0</td>\n",
       "      <td>0</td>\n",
       "      <td>0</td>\n",
       "      <td>0</td>\n",
       "      <td>0</td>\n",
       "      <td>0</td>\n",
       "      <td>0</td>\n",
       "      <td>0</td>\n",
       "    </tr>\n",
       "    <tr>\n",
       "      <th>kr01c01</th>\n",
       "      <td>0.000000</td>\n",
       "      <td>0.000000</td>\n",
       "      <td>0.000000</td>\n",
       "      <td>0.25</td>\n",
       "      <td>0.00</td>\n",
       "      <td>0</td>\n",
       "      <td>0</td>\n",
       "      <td>0</td>\n",
       "      <td>0</td>\n",
       "      <td>0</td>\n",
       "      <td>...</td>\n",
       "      <td>0</td>\n",
       "      <td>0</td>\n",
       "      <td>0</td>\n",
       "      <td>0</td>\n",
       "      <td>0</td>\n",
       "      <td>0</td>\n",
       "      <td>0</td>\n",
       "      <td>0</td>\n",
       "      <td>0</td>\n",
       "      <td>0</td>\n",
       "    </tr>\n",
       "    <tr>\n",
       "      <th>kr01c02</th>\n",
       "      <td>0.000000</td>\n",
       "      <td>0.000000</td>\n",
       "      <td>0.000000</td>\n",
       "      <td>0.00</td>\n",
       "      <td>0.25</td>\n",
       "      <td>0</td>\n",
       "      <td>0</td>\n",
       "      <td>0</td>\n",
       "      <td>0</td>\n",
       "      <td>0</td>\n",
       "      <td>...</td>\n",
       "      <td>0</td>\n",
       "      <td>0</td>\n",
       "      <td>0</td>\n",
       "      <td>0</td>\n",
       "      <td>0</td>\n",
       "      <td>0</td>\n",
       "      <td>0</td>\n",
       "      <td>0</td>\n",
       "      <td>0</td>\n",
       "      <td>0</td>\n",
       "    </tr>\n",
       "  </tbody>\n",
       "</table>\n",
       "<p>5 rows × 603 columns</p>\n",
       "</div>"
      ],
      "text/plain": [
       "          global_k     mult1     mult2  kr01c01  kr01c02  kr01c03  kr01c04  \\\n",
       "global_k  0.003076  0.000000  0.000000     0.00     0.00        0        0   \n",
       "mult1     0.000000  0.003076  0.000000     0.00     0.00        0        0   \n",
       "mult2     0.000000  0.000000  0.022655     0.00     0.00        0        0   \n",
       "kr01c01   0.000000  0.000000  0.000000     0.25     0.00        0        0   \n",
       "kr01c02   0.000000  0.000000  0.000000     0.00     0.25        0        0   \n",
       "\n",
       "          kr01c05  kr01c06  kr01c07   ...     kr10c51  kr10c52  kr10c53  \\\n",
       "global_k        0        0        0   ...           0        0        0   \n",
       "mult1           0        0        0   ...           0        0        0   \n",
       "mult2           0        0        0   ...           0        0        0   \n",
       "kr01c01         0        0        0   ...           0        0        0   \n",
       "kr01c02         0        0        0   ...           0        0        0   \n",
       "\n",
       "          kr10c54  kr10c55  kr10c56  kr10c57  kr10c58  kr10c59  kr10c60  \n",
       "global_k        0        0        0        0        0        0        0  \n",
       "mult1           0        0        0        0        0        0        0  \n",
       "mult2           0        0        0        0        0        0        0  \n",
       "kr01c01         0        0        0        0        0        0        0  \n",
       "kr01c02         0        0        0        0        0        0        0  \n",
       "\n",
       "[5 rows x 603 columns]"
      ]
     },
     "execution_count": 67,
     "metadata": {},
     "output_type": "execute_result"
    }
   ],
   "source": [
    "#to_dataframe for diagonal types builds a full matrix dataframe - can be costly\n",
    "parcov.to_dataframe().head() "
   ]
  },
  {
   "cell_type": "code",
   "execution_count": 68,
   "metadata": {
    "collapsed": false
   },
   "outputs": [
    {
     "data": {
      "text/html": [
       "<div>\n",
       "<table border=\"1\" class=\"dataframe\">\n",
       "  <thead>\n",
       "    <tr style=\"text-align: right;\">\n",
       "      <th></th>\n",
       "      <th>h_obs01_1</th>\n",
       "      <th>h_obs01_2</th>\n",
       "      <th>h_obs02_1</th>\n",
       "      <th>h_obs02_2</th>\n",
       "      <th>h_obs03_1</th>\n",
       "      <th>h_obs03_2</th>\n",
       "      <th>h_obs04_1</th>\n",
       "      <th>h_obs04_2</th>\n",
       "      <th>h_obs05_1</th>\n",
       "      <th>h_obs05_2</th>\n",
       "      <th>...</th>\n",
       "      <th>c_obs12_2</th>\n",
       "      <th>c_obs13_1</th>\n",
       "      <th>c_obs13_2</th>\n",
       "      <th>c_obs14_1</th>\n",
       "      <th>c_obs14_2</th>\n",
       "      <th>c_obs15_1</th>\n",
       "      <th>c_obs15_2</th>\n",
       "      <th>pd_one</th>\n",
       "      <th>pd_ten</th>\n",
       "      <th>pd_half</th>\n",
       "    </tr>\n",
       "  </thead>\n",
       "  <tbody>\n",
       "    <tr>\n",
       "      <th>h_obs01_1</th>\n",
       "      <td>0.000043</td>\n",
       "      <td>0.000000e+00</td>\n",
       "      <td>0.000000</td>\n",
       "      <td>0.000000e+00</td>\n",
       "      <td>0.000000</td>\n",
       "      <td>0</td>\n",
       "      <td>0</td>\n",
       "      <td>0</td>\n",
       "      <td>0</td>\n",
       "      <td>0</td>\n",
       "      <td>...</td>\n",
       "      <td>0</td>\n",
       "      <td>0</td>\n",
       "      <td>0</td>\n",
       "      <td>0</td>\n",
       "      <td>0</td>\n",
       "      <td>0</td>\n",
       "      <td>0</td>\n",
       "      <td>0</td>\n",
       "      <td>0</td>\n",
       "      <td>0</td>\n",
       "    </tr>\n",
       "    <tr>\n",
       "      <th>h_obs01_2</th>\n",
       "      <td>0.000000</td>\n",
       "      <td>1.000000e+60</td>\n",
       "      <td>0.000000</td>\n",
       "      <td>0.000000e+00</td>\n",
       "      <td>0.000000</td>\n",
       "      <td>0</td>\n",
       "      <td>0</td>\n",
       "      <td>0</td>\n",
       "      <td>0</td>\n",
       "      <td>0</td>\n",
       "      <td>...</td>\n",
       "      <td>0</td>\n",
       "      <td>0</td>\n",
       "      <td>0</td>\n",
       "      <td>0</td>\n",
       "      <td>0</td>\n",
       "      <td>0</td>\n",
       "      <td>0</td>\n",
       "      <td>0</td>\n",
       "      <td>0</td>\n",
       "      <td>0</td>\n",
       "    </tr>\n",
       "    <tr>\n",
       "      <th>h_obs02_1</th>\n",
       "      <td>0.000000</td>\n",
       "      <td>0.000000e+00</td>\n",
       "      <td>0.000043</td>\n",
       "      <td>0.000000e+00</td>\n",
       "      <td>0.000000</td>\n",
       "      <td>0</td>\n",
       "      <td>0</td>\n",
       "      <td>0</td>\n",
       "      <td>0</td>\n",
       "      <td>0</td>\n",
       "      <td>...</td>\n",
       "      <td>0</td>\n",
       "      <td>0</td>\n",
       "      <td>0</td>\n",
       "      <td>0</td>\n",
       "      <td>0</td>\n",
       "      <td>0</td>\n",
       "      <td>0</td>\n",
       "      <td>0</td>\n",
       "      <td>0</td>\n",
       "      <td>0</td>\n",
       "    </tr>\n",
       "    <tr>\n",
       "      <th>h_obs02_2</th>\n",
       "      <td>0.000000</td>\n",
       "      <td>0.000000e+00</td>\n",
       "      <td>0.000000</td>\n",
       "      <td>1.000000e+60</td>\n",
       "      <td>0.000000</td>\n",
       "      <td>0</td>\n",
       "      <td>0</td>\n",
       "      <td>0</td>\n",
       "      <td>0</td>\n",
       "      <td>0</td>\n",
       "      <td>...</td>\n",
       "      <td>0</td>\n",
       "      <td>0</td>\n",
       "      <td>0</td>\n",
       "      <td>0</td>\n",
       "      <td>0</td>\n",
       "      <td>0</td>\n",
       "      <td>0</td>\n",
       "      <td>0</td>\n",
       "      <td>0</td>\n",
       "      <td>0</td>\n",
       "    </tr>\n",
       "    <tr>\n",
       "      <th>h_obs03_1</th>\n",
       "      <td>0.000000</td>\n",
       "      <td>0.000000e+00</td>\n",
       "      <td>0.000000</td>\n",
       "      <td>0.000000e+00</td>\n",
       "      <td>0.000043</td>\n",
       "      <td>0</td>\n",
       "      <td>0</td>\n",
       "      <td>0</td>\n",
       "      <td>0</td>\n",
       "      <td>0</td>\n",
       "      <td>...</td>\n",
       "      <td>0</td>\n",
       "      <td>0</td>\n",
       "      <td>0</td>\n",
       "      <td>0</td>\n",
       "      <td>0</td>\n",
       "      <td>0</td>\n",
       "      <td>0</td>\n",
       "      <td>0</td>\n",
       "      <td>0</td>\n",
       "      <td>0</td>\n",
       "    </tr>\n",
       "  </tbody>\n",
       "</table>\n",
       "<p>5 rows × 75 columns</p>\n",
       "</div>"
      ],
      "text/plain": [
       "           h_obs01_1     h_obs01_2  h_obs02_1     h_obs02_2  h_obs03_1  \\\n",
       "h_obs01_1   0.000043  0.000000e+00   0.000000  0.000000e+00   0.000000   \n",
       "h_obs01_2   0.000000  1.000000e+60   0.000000  0.000000e+00   0.000000   \n",
       "h_obs02_1   0.000000  0.000000e+00   0.000043  0.000000e+00   0.000000   \n",
       "h_obs02_2   0.000000  0.000000e+00   0.000000  1.000000e+60   0.000000   \n",
       "h_obs03_1   0.000000  0.000000e+00   0.000000  0.000000e+00   0.000043   \n",
       "\n",
       "           h_obs03_2  h_obs04_1  h_obs04_2  h_obs05_1  h_obs05_2   ...     \\\n",
       "h_obs01_1          0          0          0          0          0   ...      \n",
       "h_obs01_2          0          0          0          0          0   ...      \n",
       "h_obs02_1          0          0          0          0          0   ...      \n",
       "h_obs02_2          0          0          0          0          0   ...      \n",
       "h_obs03_1          0          0          0          0          0   ...      \n",
       "\n",
       "           c_obs12_2  c_obs13_1  c_obs13_2  c_obs14_1  c_obs14_2  c_obs15_1  \\\n",
       "h_obs01_1          0          0          0          0          0          0   \n",
       "h_obs01_2          0          0          0          0          0          0   \n",
       "h_obs02_1          0          0          0          0          0          0   \n",
       "h_obs02_2          0          0          0          0          0          0   \n",
       "h_obs03_1          0          0          0          0          0          0   \n",
       "\n",
       "           c_obs15_2  pd_one  pd_ten  pd_half  \n",
       "h_obs01_1          0       0       0        0  \n",
       "h_obs01_2          0       0       0        0  \n",
       "h_obs02_1          0       0       0        0  \n",
       "h_obs02_2          0       0       0        0  \n",
       "h_obs03_1          0       0       0        0  \n",
       "\n",
       "[5 rows x 75 columns]"
      ]
     },
     "execution_count": 68,
     "metadata": {},
     "output_type": "execute_result"
    }
   ],
   "source": [
    "# notice the zero-weight obs have been assigned a really large uncertainty\n",
    "obscov.to_dataframe().head()"
   ]
  },
  {
   "cell_type": "code",
   "execution_count": null,
   "metadata": {
    "collapsed": true
   },
   "outputs": [],
   "source": []
  }
 ],
 "metadata": {
  "kernelspec": {
   "display_name": "Python 2",
   "language": "python",
   "name": "python2"
  },
  "language_info": {
   "codemirror_mode": {
    "name": "ipython",
    "version": 2
   },
   "file_extension": ".py",
   "mimetype": "text/x-python",
   "name": "python",
   "nbconvert_exporter": "python",
   "pygments_lexer": "ipython2",
   "version": "2.7.11"
  }
 },
 "nbformat": 4,
 "nbformat_minor": 0
}
