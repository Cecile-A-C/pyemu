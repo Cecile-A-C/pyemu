{
 "cells": [
  {
   "cell_type": "markdown",
   "metadata": {},
   "source": [
    "### \"What just happened???\"\n",
    "\n",
    "Here we take an existing modflow model and setup a very complex parameterization system for arrays and boundary conditions.  All parameters are setup as multpliers: the original inputs from the modflow model are saved in separate files and during the forward run, they are multplied by the parameters to form new model inputs.  the forward run script (\"forward_run.py\") is also written.  And somewhat meaningful prior covariance matrix is constructed from geostatistical structures with out any additional arguements...oh yeah!"
   ]
  },
  {
   "cell_type": "code",
   "execution_count": 1,
   "metadata": {},
   "outputs": [],
   "source": [
    "%matplotlib inline\n",
    "import os\n",
    "import numpy as np\n",
    "import pandas as pd\n",
    "import matplotlib.pyplot as plt\n",
    "import flopy\n",
    "import pyemu\n"
   ]
  },
  {
   "cell_type": "code",
   "execution_count": 11,
   "metadata": {},
   "outputs": [
    {
     "name": "stdout",
     "output_type": "stream",
     "text": [
      "\n",
      "Creating new model with name: freyberg\n",
      "--------------------------------------------------\n",
      "\n",
      "Parsing the namefile --> Freyberg_sfr_update/freyberg.nam\n",
      "Setting filehandles:\n",
      "\n",
      "--------------------------------------------------\n",
      "External unit dictionary:\n",
      "{32: filename:Freyberg_sfr_update/freyberg.nwt, filetype:NWT, 51: filename:Freyberg_sfr_update/freyberg.hds, filetype:DATA(BINARY), 2: filename:Freyberg_sfr_update/freyberg.list, filetype:LIST, 11: filename:Freyberg_sfr_update/freyberg.dis, filetype:DIS, 13: filename:Freyberg_sfr_update/freyberg.bas, filetype:BAS6, 14: filename:Freyberg_sfr_update/freyberg.oc, filetype:OC, 17: filename:Freyberg_sfr_update/freyberg.sfr, filetype:SFR, 50: filename:Freyberg_sfr_update/freyberg.cbc, filetype:DATA(BINARY), 19: filename:Freyberg_sfr_update/freyberg.rch, filetype:RCH, 20: filename:Freyberg_sfr_update/freyberg.wel, filetype:WEL, 60: filename:Freyberg_sfr_update/freyberg.sfr.out, filetype:DATA, 30: filename:Freyberg_sfr_update/freyberg.lmt6, filetype:LMT6, 31: filename:Freyberg_sfr_update/freyberg.upw, filetype:UPW}\n",
      "--------------------------------------------------\n",
      "\n",
      "ModflowBas6 free format:True\n",
      "\n",
      "loading dis package file...\n",
      "   Loading dis package with:\n",
      "      3 layers, 40 rows, 20 columns, and 3 stress periods\n",
      "   loading laycbd...\n",
      "   loading delr...\n",
      "   loading delc...\n",
      "   loading top...\n",
      "   loading botm...\n",
      "      for 3 layers and 0 confining beds\n",
      "   loading stress period data...\n",
      "       for 3 stress periods\n",
      "adding Package:  DIS\n",
      "   DIS  package load...success\n",
      "loading bas6 package file...\n",
      "adding Package:  BAS6\n",
      "loading nwt package file...\n",
      "adding Package:  NWT\n",
      "   NWT  package load...success\n",
      "   DATA(BINARY) file load...skipped\n",
      "      freyberg.hds\n",
      "   LIST package load...skipped\n",
      "loading bas6 package file...\n",
      "WARNING: unit 13 of package BAS6 already in use\n",
      "****Warning -- two packages of the same type:  <class 'flopy.modflow.mfbas.ModflowBas'> <class 'flopy.modflow.mfbas.ModflowBas'>\n",
      "replacing existing Package...\n",
      "   BAS6 package load...success\n",
      "loading oc package file...\n",
      "Adding freyberg.hds (unit=51) to the output list.\n",
      "adding Package:  OC\n",
      "   OC   package load...success\n",
      "loading sfr2 package file...\n",
      "Adding freyberg.cbc (unit=50) to the output list.\n",
      "Adding freyberg.sfr.out (unit=60) to the output list.\n"
     ]
    },
    {
     "ename": "KeyError",
     "evalue": "40",
     "output_type": "error",
     "traceback": [
      "\u001b[0;31m---------------------------------------------------------------------------\u001b[0m",
      "\u001b[0;31mKeyError\u001b[0m                                  Traceback (most recent call last)",
      "\u001b[0;32m<ipython-input-11-072ac05901c2>\u001b[0m in \u001b[0;36m<module>\u001b[0;34m()\u001b[0m\n\u001b[1;32m      5\u001b[0m \u001b[0;31m# load the model, change dir and run once just to make sure everthing is working\u001b[0m\u001b[0;34m\u001b[0m\u001b[0;34m\u001b[0m\u001b[0m\n\u001b[1;32m      6\u001b[0m m = flopy.modflow.Modflow.load(nam_file,model_ws=org_model_ws,check=False, exe_name=\"mfnwt\",\n\u001b[0;32m----> 7\u001b[0;31m                               forgive=False,verbose=True)\n\u001b[0m\u001b[1;32m      8\u001b[0m \u001b[0mm\u001b[0m\u001b[0;34m.\u001b[0m\u001b[0mchange_model_ws\u001b[0m\u001b[0;34m(\u001b[0m\u001b[0mtemp_model_ws\u001b[0m\u001b[0;34m,\u001b[0m\u001b[0mreset_external\u001b[0m\u001b[0;34m=\u001b[0m\u001b[0;32mTrue\u001b[0m\u001b[0;34m)\u001b[0m\u001b[0;34m\u001b[0m\u001b[0m\n\u001b[1;32m      9\u001b[0m \u001b[0mm\u001b[0m\u001b[0;34m.\u001b[0m\u001b[0mwrite_input\u001b[0m\u001b[0;34m(\u001b[0m\u001b[0;34m)\u001b[0m\u001b[0;34m\u001b[0m\u001b[0m\n",
      "\u001b[0;32m~/Dev/flopy/flopy/modflow/mf.py\u001b[0m in \u001b[0;36mload\u001b[0;34m(f, version, exe_name, verbose, model_ws, load_only, forgive, check)\u001b[0m\n\u001b[1;32m    722\u001b[0m                         \u001b[0;32melse\u001b[0m\u001b[0;34m:\u001b[0m\u001b[0;34m\u001b[0m\u001b[0m\n\u001b[1;32m    723\u001b[0m                             pck = item.package.load(item.filename, ml,\n\u001b[0;32m--> 724\u001b[0;31m                                                     ext_unit_dict=ext_unit_dict)\n\u001b[0m\u001b[1;32m    725\u001b[0m                         \u001b[0mfiles_succesfully_loaded\u001b[0m\u001b[0;34m.\u001b[0m\u001b[0mappend\u001b[0m\u001b[0;34m(\u001b[0m\u001b[0mitem\u001b[0m\u001b[0;34m.\u001b[0m\u001b[0mfilename\u001b[0m\u001b[0;34m)\u001b[0m\u001b[0;34m\u001b[0m\u001b[0m\n\u001b[1;32m    726\u001b[0m                         \u001b[0;32mif\u001b[0m \u001b[0mml\u001b[0m\u001b[0;34m.\u001b[0m\u001b[0mverbose\u001b[0m\u001b[0;34m:\u001b[0m\u001b[0;34m\u001b[0m\u001b[0m\n",
      "\u001b[0;32m~/Dev/flopy/flopy/modflow/mfsfr2.py\u001b[0m in \u001b[0;36mload\u001b[0;34m(f, model, nper, gwt, nsol, ext_unit_dict)\u001b[0m\n\u001b[1;32m    790\u001b[0m                            \u001b[0mreachinput\u001b[0m\u001b[0;34m=\u001b[0m\u001b[0mreachinput\u001b[0m\u001b[0;34m,\u001b[0m \u001b[0mtransroute\u001b[0m\u001b[0;34m=\u001b[0m\u001b[0mtransroute\u001b[0m\u001b[0;34m,\u001b[0m\u001b[0;34m\u001b[0m\u001b[0m\n\u001b[1;32m    791\u001b[0m                            \u001b[0mtabfiles\u001b[0m\u001b[0;34m=\u001b[0m\u001b[0mtabfiles\u001b[0m\u001b[0;34m,\u001b[0m \u001b[0mtabfiles_dict\u001b[0m\u001b[0;34m=\u001b[0m\u001b[0mtabfiles_dict\u001b[0m\u001b[0;34m,\u001b[0m\u001b[0;34m\u001b[0m\u001b[0m\n\u001b[0;32m--> 792\u001b[0;31m                            unit_number=unitnumber, filenames=filenames)\n\u001b[0m\u001b[1;32m    793\u001b[0m \u001b[0;34m\u001b[0m\u001b[0m\n\u001b[1;32m    794\u001b[0m     \u001b[0;32mdef\u001b[0m \u001b[0mcheck\u001b[0m\u001b[0;34m(\u001b[0m\u001b[0mself\u001b[0m\u001b[0;34m,\u001b[0m \u001b[0mf\u001b[0m\u001b[0;34m=\u001b[0m\u001b[0;32mNone\u001b[0m\u001b[0;34m,\u001b[0m \u001b[0mverbose\u001b[0m\u001b[0;34m=\u001b[0m\u001b[0;32mTrue\u001b[0m\u001b[0;34m,\u001b[0m \u001b[0mlevel\u001b[0m\u001b[0;34m=\u001b[0m\u001b[0;36m1\u001b[0m\u001b[0;34m)\u001b[0m\u001b[0;34m:\u001b[0m\u001b[0;34m\u001b[0m\u001b[0m\n",
      "\u001b[0;32m~/Dev/flopy/flopy/modflow/mfsfr2.py\u001b[0m in \u001b[0;36m__init__\u001b[0;34m(self, model, nstrm, nss, nsfrpar, nparseg, const, dleak, ipakcb, istcb2, isfropt, nstrail, isuzn, nsfrsets, irtflg, numtim, weight, flwtol, reach_data, segment_data, channel_geometry_data, channel_flow_data, dataset_5, irdflag, iptflag, reachinput, transroute, tabfiles, tabfiles_dict, extension, unit_number, filenames)\u001b[0m\n\u001b[1;32m    391\u001b[0m                 self.segment_data[0].outseg[\n\u001b[1;32m    392\u001b[0m                     self.segment_data[0].outseg == v] = 0\n\u001b[0;32m--> 393\u001b[0;31m             \u001b[0mself\u001b[0m\u001b[0;34m.\u001b[0m\u001b[0mset_outreaches\u001b[0m\u001b[0;34m(\u001b[0m\u001b[0;34m)\u001b[0m\u001b[0;34m\u001b[0m\u001b[0m\n\u001b[0m\u001b[1;32m    394\u001b[0m         \u001b[0mself\u001b[0m\u001b[0;34m.\u001b[0m\u001b[0mchannel_geometry_data\u001b[0m \u001b[0;34m=\u001b[0m \u001b[0mchannel_geometry_data\u001b[0m\u001b[0;34m\u001b[0m\u001b[0m\n\u001b[1;32m    395\u001b[0m         \u001b[0mself\u001b[0m\u001b[0;34m.\u001b[0m\u001b[0mchannel_flow_data\u001b[0m \u001b[0;34m=\u001b[0m \u001b[0mchannel_flow_data\u001b[0m\u001b[0;34m\u001b[0m\u001b[0m\n",
      "\u001b[0;32m~/Dev/flopy/flopy/modflow/mfsfr2.py\u001b[0m in \u001b[0;36mset_outreaches\u001b[0;34m(self)\u001b[0m\n\u001b[1;32m   1016\u001b[0m         \"\"\"\n\u001b[1;32m   1017\u001b[0m         \u001b[0mself\u001b[0m\u001b[0;34m.\u001b[0m\u001b[0mreach_data\u001b[0m\u001b[0;34m.\u001b[0m\u001b[0msort\u001b[0m\u001b[0;34m(\u001b[0m\u001b[0morder\u001b[0m\u001b[0;34m=\u001b[0m\u001b[0;34m[\u001b[0m\u001b[0;34m'iseg'\u001b[0m\u001b[0;34m,\u001b[0m \u001b[0;34m'ireach'\u001b[0m\u001b[0;34m]\u001b[0m\u001b[0;34m)\u001b[0m\u001b[0;34m\u001b[0m\u001b[0m\n\u001b[0;32m-> 1018\u001b[0;31m         \u001b[0mself\u001b[0m\u001b[0;34m.\u001b[0m\u001b[0mreset_reaches\u001b[0m\u001b[0;34m(\u001b[0m\u001b[0;34m)\u001b[0m  \u001b[0;31m# ensure that each segment starts with reach 1\u001b[0m\u001b[0;34m\u001b[0m\u001b[0m\n\u001b[0m\u001b[1;32m   1019\u001b[0m         \u001b[0mself\u001b[0m\u001b[0;34m.\u001b[0m\u001b[0mrepair_outsegs\u001b[0m\u001b[0;34m(\u001b[0m\u001b[0;34m)\u001b[0m  \u001b[0;31m# ensure that all outsegs are segments, outlets, or negative (lakes)\u001b[0m\u001b[0;34m\u001b[0m\u001b[0m\n\u001b[1;32m   1020\u001b[0m         \u001b[0mrd\u001b[0m \u001b[0;34m=\u001b[0m \u001b[0mself\u001b[0m\u001b[0;34m.\u001b[0m\u001b[0mreach_data\u001b[0m\u001b[0;34m\u001b[0m\u001b[0m\n",
      "\u001b[0;32m~/Dev/flopy/flopy/modflow/mfsfr2.py\u001b[0m in \u001b[0;36mreset_reaches\u001b[0;34m(self)\u001b[0m\n\u001b[1;32m   1007\u001b[0m                                 np.bincount(reach_data.iseg)))\n\u001b[1;32m   1008\u001b[0m         ireach = [list(range(1, reach_counts[s] + 1))\n\u001b[0;32m-> 1009\u001b[0;31m                   for s in segment_data.nseg]\n\u001b[0m\u001b[1;32m   1010\u001b[0m         \u001b[0mireach\u001b[0m \u001b[0;34m=\u001b[0m \u001b[0mnp\u001b[0m\u001b[0;34m.\u001b[0m\u001b[0mconcatenate\u001b[0m\u001b[0;34m(\u001b[0m\u001b[0mireach\u001b[0m\u001b[0;34m)\u001b[0m\u001b[0;34m\u001b[0m\u001b[0m\n\u001b[1;32m   1011\u001b[0m         \u001b[0mself\u001b[0m\u001b[0;34m.\u001b[0m\u001b[0mreach_data\u001b[0m\u001b[0;34m[\u001b[0m\u001b[0;34m'ireach'\u001b[0m\u001b[0;34m]\u001b[0m \u001b[0;34m=\u001b[0m \u001b[0mireach\u001b[0m\u001b[0;34m\u001b[0m\u001b[0m\n",
      "\u001b[0;32m~/Dev/flopy/flopy/modflow/mfsfr2.py\u001b[0m in \u001b[0;36m<listcomp>\u001b[0;34m(.0)\u001b[0m\n\u001b[1;32m   1007\u001b[0m                                 np.bincount(reach_data.iseg)))\n\u001b[1;32m   1008\u001b[0m         ireach = [list(range(1, reach_counts[s] + 1))\n\u001b[0;32m-> 1009\u001b[0;31m                   for s in segment_data.nseg]\n\u001b[0m\u001b[1;32m   1010\u001b[0m         \u001b[0mireach\u001b[0m \u001b[0;34m=\u001b[0m \u001b[0mnp\u001b[0m\u001b[0;34m.\u001b[0m\u001b[0mconcatenate\u001b[0m\u001b[0;34m(\u001b[0m\u001b[0mireach\u001b[0m\u001b[0;34m)\u001b[0m\u001b[0;34m\u001b[0m\u001b[0m\n\u001b[1;32m   1011\u001b[0m         \u001b[0mself\u001b[0m\u001b[0;34m.\u001b[0m\u001b[0mreach_data\u001b[0m\u001b[0;34m[\u001b[0m\u001b[0;34m'ireach'\u001b[0m\u001b[0;34m]\u001b[0m \u001b[0;34m=\u001b[0m \u001b[0mireach\u001b[0m\u001b[0;34m\u001b[0m\u001b[0m\n",
      "\u001b[0;31mKeyError\u001b[0m: 40"
     ]
    }
   ],
   "source": [
    "nam_file = \"freyberg.nam\"\n",
    "org_model_ws = \"Freyberg_sfr_update\"\n",
    "temp_model_ws = \"temp\"\n",
    "new_model_ws = \"template\"\n",
    "# load the model, change dir and run once just to make sure everthing is working\n",
    "m = flopy.modflow.Modflow.load(nam_file,model_ws=org_model_ws,check=False, exe_name=\"mfnwt\",\n",
    "                              forgive=False,verbose=True)\n",
    "m.change_model_ws(temp_model_ws,reset_external=True)\n",
    "m.write_input()\n",
    "try:\n",
    "    m.run_model()\n",
    "except():\n",
    "    pass"
   ]
  },
  {
   "cell_type": "markdown",
   "metadata": {},
   "source": [
    "You want some pilot points? We got that...how about one set of recharge multiplier pilot points applied to all stress periods? and sy in layer 1?"
   ]
  },
  {
   "cell_type": "markdown",
   "metadata": {},
   "source": [
    "## Parameterization"
   ]
  },
  {
   "cell_type": "code",
   "execution_count": 3,
   "metadata": {},
   "outputs": [],
   "source": [
    "pp_props = [[\"upw.sy\",0], [\"rch.rech\",None]]"
   ]
  },
  {
   "cell_type": "markdown",
   "metadata": {},
   "source": [
    "You want some constants (uniform value multipliers)?  We got that too...."
   ]
  },
  {
   "cell_type": "code",
   "execution_count": 4,
   "metadata": {},
   "outputs": [],
   "source": [
    "const_props = []\n",
    "for iper in range(m.nper): # recharge for past and future\n",
    "    const_props.append([\"rch.rech\",iper])\n",
    "for k in range(m.nlay):\n",
    "    const_props.append([\"upw.hk\",k])\n",
    "    const_props.append([\"upw.ss\",k])\n"
   ]
  },
  {
   "cell_type": "markdown",
   "metadata": {},
   "source": [
    "You want grid-scale parameter flexibility for hk in all layers? We got that too...and how about sy in layer 1 and vka in layer 2 while we are at it"
   ]
  },
  {
   "cell_type": "code",
   "execution_count": 5,
   "metadata": {},
   "outputs": [],
   "source": [
    "grid_props = [[\"upw.sy\",0],[\"upw.vka\",1]]\n",
    "for k in range(m.nlay):\n",
    "    grid_props.append([\"upw.hk\",k])\n",
    "    "
   ]
  },
  {
   "cell_type": "markdown",
   "metadata": {},
   "source": [
    "Some people like using zones...so we have those too"
   ]
  },
  {
   "cell_type": "code",
   "execution_count": 6,
   "metadata": {},
   "outputs": [
    {
     "data": {
      "text/plain": [
       "<matplotlib.image.AxesImage at 0x10ba76438>"
      ]
     },
     "execution_count": 6,
     "metadata": {},
     "output_type": "execute_result"
    },
    {
     "data": {
      "image/png": "[encoded data removed]",
      "text/plain": [
       "<matplotlib.figure.Figure at 0x108630a90>"
      ]
     },
     "metadata": {},
     "output_type": "display_data"
    }
   ],
   "source": [
    "zn_array = np.loadtxt(os.path.join(\"Freyberg_truth\",\"hk.zones\"))\n",
    "plt.imshow(zn_array)"
   ]
  },
  {
   "cell_type": "code",
   "execution_count": 7,
   "metadata": {},
   "outputs": [],
   "source": [
    "zone_props = [[\"upw.ss\",0], [\"rch.rech\",0],[\"rch.rech\",1]]\n",
    "k_zone_dict = {k:zn_array for k in range(m.nlay)}\n"
   ]
  },
  {
   "cell_type": "markdown",
   "metadata": {},
   "source": [
    "But wait, boundary conditions are uncertain too...Can we add some parameter to represent that uncertainty?  You know it!"
   ]
  },
  {
   "cell_type": "code",
   "execution_count": 8,
   "metadata": {},
   "outputs": [],
   "source": [
    "bc_props = []\n",
    "for iper in range(m.nper):\n",
    "    bc_props.append([\"wel.flux\",iper])"
   ]
  },
  {
   "cell_type": "code",
   "execution_count": null,
   "metadata": {},
   "outputs": [],
   "source": []
  },
  {
   "cell_type": "markdown",
   "metadata": {},
   "source": [
    "## Observations\n",
    "\n",
    "Since observations are \"free\", we can carry lots of them around..."
   ]
  },
  {
   "cell_type": "code",
   "execution_count": 9,
   "metadata": {},
   "outputs": [],
   "source": [
    "# here were are building a list of stress period, layer pairs (zero-based) that we will use\n",
    "# to setup obserations from every active model cell for a given pair\n",
    "hds_kperk = []\n",
    "for iper in range(m.nper):\n",
    "    for k in range(m.nlay):\n",
    "        hds_kperk.append([iper,k])"
   ]
  },
  {
   "cell_type": "markdown",
   "metadata": {},
   "source": [
    "## Here it goes...\n",
    "Now we will use all these args to construct a complete PEST interface - template files, instruction files, control file and even the forward run script!  All parameters are setup as multiplers against the existing inputs in the modflow model - the existing inputs are extracted (with flopy) and saved in a sub directory for safe keep and for multiplying against during a forward model run.  The constructor will also write a full (covariates included) prior parameter covariance matrix, which is needed for all sorts of important analyses.|"
   ]
  },
  {
   "cell_type": "code",
   "execution_count": 10,
   "metadata": {},
   "outputs": [
    {
     "name": "stdout",
     "output_type": "stream",
     "text": [
      "2018-03-07 08:45:48.134393 starting: loading flopy model\n",
      "\n",
      "Creating new model with name: freyberg\n",
      "--------------------------------------------------\n",
      "\n",
      "Parsing the namefile --> temp/freyberg.nam\n",
      "Setting filehandles:\n",
      "\n",
      "--------------------------------------------------\n",
      "External unit dictionary:\n",
      "{32: filename:temp/freyberg.nwt, filetype:NWT, 19: filename:temp/freyberg.rch, filetype:RCH, 2: filename:temp/freyberg.list, filetype:LIST, 11: filename:temp/freyberg.dis, filetype:DIS, 13: filename:temp/freyberg.bas, filetype:BAS6, 14: filename:temp/freyberg.oc, filetype:OC, 50: filename:temp/freyberg.cbc, filetype:DATA(BINARY), 51: filename:temp/freyberg.hds, filetype:DATA(BINARY), 20: filename:temp/freyberg.wel, filetype:WEL, 60: filename:temp/freyberg.sfr.out, filetype:DATA, 30: filename:temp/freyberg.lmt6, filetype:LMT6, 31: filename:temp/freyberg.upw, filetype:UPW}\n",
      "--------------------------------------------------\n",
      "\n",
      "ModflowBas6 free format:True\n",
      "\n",
      "loading dis package file...\n",
      "   Loading dis package with:\n",
      "      3 layers, 40 rows, 20 columns, and 3 stress periods\n",
      "   loading laycbd...\n",
      "   loading delr...\n",
      "   loading delc...\n",
      "   loading top...\n",
      "   loading botm...\n",
      "      for 3 layers and 0 confining beds\n",
      "   loading stress period data...\n",
      "       for 3 stress periods\n",
      "adding Package:  DIS\n",
      "   DIS  package load...success\n",
      "loading bas6 package file...\n",
      "adding Package:  BAS6\n",
      "loading nwt package file...\n",
      "adding Package:  NWT\n",
      "   NWT  package load...success\n",
      "loading rch package file...\n",
      "   loading rech stress period   1...\n",
      "   loading rech stress period   2...\n",
      "   loading rech stress period   3...\n",
      "Adding freyberg.cbc (unit=50) to the output list.\n",
      "adding Package:  RCH\n",
      "   RCH  package load...success\n",
      "   LIST package load...skipped\n",
      "loading bas6 package file...\n",
      "WARNING: unit 13 of package BAS6 already in use\n",
      "****Warning -- two packages of the same type:  <class 'flopy.modflow.mfbas.ModflowBas'> <class 'flopy.modflow.mfbas.ModflowBas'>\n",
      "replacing existing Package...\n",
      "   BAS6 package load...success\n",
      "loading oc package file...\n",
      "Adding freyberg.hds (unit=51) to the output list.\n",
      "adding Package:  OC\n",
      "   OC   package load...success\n",
      "   DATA(BINARY) file load...skipped\n",
      "      freyberg.cbc\n",
      "   DATA(BINARY) file load...skipped\n",
      "      freyberg.hds\n",
      "loading wel package file...\n",
      "   loading <class 'flopy.modflow.mfwel.ModflowWel'> for kper     1\n",
      "   loading <class 'flopy.modflow.mfwel.ModflowWel'> for kper     2\n",
      "   loading <class 'flopy.modflow.mfwel.ModflowWel'> for kper     3\n",
      "adding Package:  WEL\n",
      "   WEL  package load...success\n",
      "   DATA file load...skipped\n",
      "      freyberg.sfr.out\n",
      "loading lmt package file...\n",
      "adding Package:  LMT6\n",
      "   LMT6 package load...success\n",
      "loading upw package file...\n",
      "   loading ipakcb, HDRY, NPUPW, IPHDRY...\n",
      "   loading LAYTYP...\n",
      "   loading LAYAVG...\n",
      "   loading CHANI...\n",
      "   loading LAYVKA...\n",
      "   loading LAYWET...\n",
      "   loading hk layer   1...\n",
      "   loading vka layer   1...\n",
      "   loading ss layer   1...\n",
      "   loading hk layer   2...\n",
      "   loading vka layer   2...\n",
      "   loading ss layer   2...\n",
      "   loading hk layer   3...\n",
      "   loading vka layer   3...\n",
      "   loading ss layer   3...\n",
      "adding Package:  UPW\n",
      "   UPW  package load...success\n",
      "Warning: external file unit \" +                        \"11 does not exist in ext_unit_dict.\n",
      "Warning: external file unit \" +                        \"0 does not exist in ext_unit_dict.\n",
      "\n",
      "\n",
      "   The following 9 packages were successfully loaded.\n",
      "      freyberg.dis\n",
      "      freyberg.bas\n",
      "      freyberg.nwt\n",
      "      freyberg.rch\n",
      "      freyberg.bas\n",
      "      freyberg.oc\n",
      "      freyberg.wel\n",
      "      freyberg.lmt6\n",
      "      freyberg.upw\n",
      "   The following 1 packages were not loaded.\n",
      "      freyberg.list\n",
      "\n",
      "\n",
      "2018-03-07 08:45:48.177256 finished: loading flopy model took: 0:00:00.042863\n",
      "2018-03-07 08:45:48.177311 starting: updating model attributes\n",
      "2018-03-07 08:45:48.177366 finished: updating model attributes took: 0:00:00.000055\n",
      "2018-03-07 08:45:48.177414 WARNING: removing existing 'new_model_ws\n",
      "\n",
      "creating model workspace...\n",
      "   template\n",
      "\n",
      "changing model workspace...\n",
      "   template\n",
      "2018-03-07 08:45:48.199598 starting: writing new modflow input files\n",
      "\n",
      "Writing packages:\n",
      "   Package:  DIS\n",
      "Util2d:delr: resetting 'how' to external\n",
      "Util2d:delc: resetting 'how' to external\n",
      "Util2d:model_top: resetting 'how' to external\n",
      "Util2d:botm_layer_0: resetting 'how' to external\n",
      "Util2d:botm_layer_1: resetting 'how' to external\n",
      "Util2d:botm_layer_2: resetting 'how' to external\n",
      "   Package:  BAS6\n",
      "Util2d:ibound_layer_0: resetting 'how' to external\n",
      "Util2d:ibound_layer_1: resetting 'how' to external\n",
      "Util2d:ibound_layer_2: resetting 'how' to external\n",
      "Util2d:strt_layer_0: resetting 'how' to external\n",
      "Util2d:strt_layer_1: resetting 'how' to external\n",
      "Util2d:strt_layer_2: resetting 'how' to external\n",
      "   Package:  NWT\n",
      "   Package:  RCH\n",
      "Util2d:rech_1: resetting 'how' to external\n",
      "Util2d:rech_2: resetting 'how' to external\n",
      "Util2d:rech_3: resetting 'how' to external\n",
      "   Package:  OC\n",
      "   Package:  WEL\n",
      "   Package:  LMT6\n",
      "   Package:  UPW\n",
      "Util2d:hk: resetting 'how' to external\n",
      "Util2d:vka: resetting 'how' to external\n",
      "Util2d:ss: resetting 'how' to external\n",
      "Util2d:hk: resetting 'how' to external\n",
      "Util2d:vka: resetting 'how' to external\n",
      "Util2d:ss: resetting 'how' to external\n",
      "Util2d:hk: resetting 'how' to external\n",
      "Util2d:vka: resetting 'how' to external\n",
      "Util2d:ss: resetting 'how' to external\n",
      " \n",
      "2018-03-07 08:45:48.291664 finished: writing new modflow input files took: 0:00:00.092066\n",
      "2018-03-07 08:45:48.291889 WARNING: using flopy binary to execute the model:freyberg.nam\n",
      "2018-03-07 08:45:48.291943 forward_run line:pyemu.helpers.run('mf2005 freyberg.nam 1>freyberg.nam.stdout 2>freyberg.nam.stderr')\n",
      "2018-03-07 08:45:48.292157 starting: setting up 'template/arr_org' dir\n",
      "2018-03-07 08:45:48.292330 finished: setting up 'template/arr_org' dir took: 0:00:00.000173\n",
      "2018-03-07 08:45:48.292395 starting: setting up 'template/arr_mlt' dir\n",
      "2018-03-07 08:45:48.292530 finished: setting up 'template/arr_mlt' dir took: 0:00:00.000135\n",
      "2018-03-07 08:45:48.292705 starting: setting up 'template/bc_org' dir\n",
      "2018-03-07 08:45:48.292833 finished: setting up 'template/bc_org' dir took: 0:00:00.000128\n",
      "2018-03-07 08:45:48.292892 starting: processing bc_props\n",
      "2018-03-07 08:45:48.295041 starting: processing bc_prop_dict\n",
      "2018-03-07 08:45:48.342536 forward_run line:pyemu.helpers.apply_bc_pars()\n",
      "\n",
      "2018-03-07 08:45:48.456473 starting: writing grid tpl:sy1.dat_gr.tpl\n",
      "2018-03-07 08:45:48.466210 finished: writing grid tpl:sy1.dat_gr.tpl took: 0:00:00.009737\n",
      "2018-03-07 08:45:48.468061 starting: writing grid tpl:vka0.dat_gr.tpl\n",
      "2018-03-07 08:45:48.477708 finished: writing grid tpl:vka0.dat_gr.tpl took: 0:00:00.009647\n",
      "2018-03-07 08:45:48.480037 starting: writing grid tpl:hk0.dat_gr.tpl\n",
      "2018-03-07 08:45:48.489743 finished: writing grid tpl:hk0.dat_gr.tpl took: 0:00:00.009706\n",
      "2018-03-07 08:45:48.491892 starting: writing grid tpl:hk1.dat_gr.tpl\n",
      "2018-03-07 08:45:48.501680 finished: writing grid tpl:hk1.dat_gr.tpl took: 0:00:00.009788\n",
      "2018-03-07 08:45:48.504054 starting: writing grid tpl:hk2.dat_gr.tpl\n",
      "2018-03-07 08:45:48.513411 finished: writing grid tpl:hk2.dat_gr.tpl took: 0:00:00.009357\n",
      "2018-03-07 08:45:48.515276 starting: writing zone tpl:ss0.dat_zn.tpl\n",
      "2018-03-07 08:45:48.519165 finished: writing zone tpl:ss0.dat_zn.tpl took: 0:00:00.003889\n",
      "2018-03-07 08:45:48.521371 starting: writing zone tpl:rech1.dat_zn.tpl\n",
      "2018-03-07 08:45:48.525105 finished: writing zone tpl:rech1.dat_zn.tpl took: 0:00:00.003734\n",
      "2018-03-07 08:45:48.527986 starting: writing zone tpl:rech2.dat_zn.tpl\n",
      "2018-03-07 08:45:48.532221 finished: writing zone tpl:rech2.dat_zn.tpl took: 0:00:00.004235\n",
      "2018-03-07 08:45:48.534238 starting: writing const tpl:rech3.dat_cn.tpl\n",
      "2018-03-07 08:45:48.538192 finished: writing const tpl:rech3.dat_cn.tpl took: 0:00:00.003954\n",
      "2018-03-07 08:45:48.541000 starting: writing const tpl:rech4.dat_cn.tpl\n",
      "2018-03-07 08:45:48.545903 finished: writing const tpl:rech4.dat_cn.tpl took: 0:00:00.004903\n",
      "2018-03-07 08:45:48.549050 starting: writing const tpl:rech5.dat_cn.tpl\n",
      "2018-03-07 08:45:48.554886 finished: writing const tpl:rech5.dat_cn.tpl took: 0:00:00.005836\n",
      "2018-03-07 08:45:48.557149 starting: writing const tpl:hk3.dat_cn.tpl\n",
      "2018-03-07 08:45:48.561664 finished: writing const tpl:hk3.dat_cn.tpl took: 0:00:00.004515\n",
      "2018-03-07 08:45:48.564467 starting: writing const tpl:ss1.dat_cn.tpl\n",
      "2018-03-07 08:45:48.570240 finished: writing const tpl:ss1.dat_cn.tpl took: 0:00:00.005773\n",
      "2018-03-07 08:45:48.574194 starting: writing const tpl:hk4.dat_cn.tpl\n",
      "2018-03-07 08:45:48.580680 finished: writing const tpl:hk4.dat_cn.tpl took: 0:00:00.006486\n",
      "2018-03-07 08:45:48.584468 starting: writing const tpl:ss2.dat_cn.tpl\n",
      "2018-03-07 08:45:48.589410 finished: writing const tpl:ss2.dat_cn.tpl took: 0:00:00.004942\n",
      "2018-03-07 08:45:48.592536 starting: writing const tpl:hk5.dat_cn.tpl\n",
      "2018-03-07 08:45:48.596953 finished: writing const tpl:hk5.dat_cn.tpl took: 0:00:00.004417\n",
      "2018-03-07 08:45:48.599310 starting: writing const tpl:ss3.dat_cn.tpl\n",
      "2018-03-07 08:45:48.603598 finished: writing const tpl:ss3.dat_cn.tpl took: 0:00:00.004288\n",
      "2018-03-07 08:45:48.613170 starting: setting up pilot point process\n",
      "2018-03-07 08:45:48.613304 WARNING: pp_geostruct is None, using ExpVario with contribution=1 and a=(pp_space*max(delr,delc))\n",
      "2018-03-07 08:45:48.615281 pp_dict: {0: ['sy0', 'rech0']}\n",
      "2018-03-07 08:45:48.615351 starting: calling setup_pilot_point_grid()\n"
     ]
    },
    {
     "name": "stdout",
     "output_type": "stream",
     "text": [
      "2018-03-07 08:45:48.762024 88 pilot point parameters created\n",
      "2018-03-07 08:45:48.762383 pilot point 'pargp':sy0,rech0\n",
      "2018-03-07 08:45:48.762423 finished: calling setup_pilot_point_grid() took: 0:00:00.147072\n",
      "2018-03-07 08:45:48.764252 starting: calculating factors for k=0\n",
      "2018-03-07 08:45:48.764484 saving krige variance file:template/pp_k0.var.dat\n",
      "2018-03-07 08:45:48.764529 saving krige factors file:template/pp_k0.fac\n",
      "starting interp point loop for 800 points\n",
      "took 2.212168 seconds\n",
      "2018-03-07 08:45:51.030320 finished: calculating factors for k=0 took: 0:00:02.266068\n",
      "2018-03-07 08:45:51.031313 starting: processing pp_prefix:sy0\n",
      "2018-03-07 08:45:51.042059 starting: processing pp_prefix:rech0\n",
      "2018-03-07 08:45:51.076298 finished: setting up pilot point process took: 0:00:02.463128\n",
      "2018-03-07 08:45:51.076620 starting: setting up grid process\n",
      "2018-03-07 08:45:51.076691 WARNING: grid_geostruct is None, using ExpVario with contribution=1 and a=(max(delc,delr)*10\n",
      "2018-03-07 08:45:51.076799 finished: setting up grid process took: 0:00:00.000179\n",
      "2018-03-07 08:45:51.079373 starting: save test mlt array arr_mlt/sy0.dat_pp\n",
      "2018-03-07 08:45:51.082385 finished: save test mlt array arr_mlt/sy0.dat_pp took: 0:00:00.003012\n",
      "2018-03-07 08:45:51.083655 starting: save test mlt array arr_mlt/rech0.dat_pp\n",
      "2018-03-07 08:45:51.086701 finished: save test mlt array arr_mlt/rech0.dat_pp took: 0:00:00.003046\n",
      "2018-03-07 08:45:51.087784 starting: save test mlt array arr_mlt/sy1.dat_gr\n",
      "2018-03-07 08:45:51.091512 finished: save test mlt array arr_mlt/sy1.dat_gr took: 0:00:00.003728\n",
      "2018-03-07 08:45:51.092590 starting: save test mlt array arr_mlt/vka0.dat_gr\n",
      "2018-03-07 08:45:51.095869 finished: save test mlt array arr_mlt/vka0.dat_gr took: 0:00:00.003279\n",
      "2018-03-07 08:45:51.096893 starting: save test mlt array arr_mlt/hk0.dat_gr\n",
      "2018-03-07 08:45:51.099727 finished: save test mlt array arr_mlt/hk0.dat_gr took: 0:00:00.002834\n",
      "2018-03-07 08:45:51.100658 starting: save test mlt array arr_mlt/hk1.dat_gr\n",
      "2018-03-07 08:45:51.103362 finished: save test mlt array arr_mlt/hk1.dat_gr took: 0:00:00.002704\n",
      "2018-03-07 08:45:51.104260 starting: save test mlt array arr_mlt/hk2.dat_gr\n",
      "2018-03-07 08:45:51.106613 finished: save test mlt array arr_mlt/hk2.dat_gr took: 0:00:00.002353\n",
      "2018-03-07 08:45:51.107400 starting: save test mlt array arr_mlt/ss0.dat_zn\n",
      "2018-03-07 08:45:51.109870 finished: save test mlt array arr_mlt/ss0.dat_zn took: 0:00:00.002470\n",
      "2018-03-07 08:45:51.111048 starting: save test mlt array arr_mlt/rech1.dat_zn\n",
      "2018-03-07 08:45:51.113561 finished: save test mlt array arr_mlt/rech1.dat_zn took: 0:00:00.002513\n",
      "2018-03-07 08:45:51.114405 starting: save test mlt array arr_mlt/rech2.dat_zn\n",
      "2018-03-07 08:45:51.116444 finished: save test mlt array arr_mlt/rech2.dat_zn took: 0:00:00.002039\n",
      "2018-03-07 08:45:51.117373 starting: save test mlt array arr_mlt/rech3.dat_cn\n",
      "2018-03-07 08:45:51.120057 finished: save test mlt array arr_mlt/rech3.dat_cn took: 0:00:00.002684\n",
      "2018-03-07 08:45:51.121152 starting: save test mlt array arr_mlt/rech4.dat_cn\n",
      "2018-03-07 08:45:51.123739 finished: save test mlt array arr_mlt/rech4.dat_cn took: 0:00:00.002587\n",
      "2018-03-07 08:45:51.124813 starting: save test mlt array arr_mlt/rech5.dat_cn\n",
      "2018-03-07 08:45:51.127968 finished: save test mlt array arr_mlt/rech5.dat_cn took: 0:00:00.003155\n",
      "2018-03-07 08:45:51.129089 starting: save test mlt array arr_mlt/hk3.dat_cn\n",
      "2018-03-07 08:45:51.131764 finished: save test mlt array arr_mlt/hk3.dat_cn took: 0:00:00.002675\n",
      "2018-03-07 08:45:51.132914 starting: save test mlt array arr_mlt/ss1.dat_cn\n",
      "2018-03-07 08:45:51.136163 finished: save test mlt array arr_mlt/ss1.dat_cn took: 0:00:00.003249\n",
      "2018-03-07 08:45:51.137182 starting: save test mlt array arr_mlt/hk4.dat_cn\n",
      "2018-03-07 08:45:51.140049 finished: save test mlt array arr_mlt/hk4.dat_cn took: 0:00:00.002867\n",
      "2018-03-07 08:45:51.141126 starting: save test mlt array arr_mlt/ss2.dat_cn\n",
      "2018-03-07 08:45:51.144518 finished: save test mlt array arr_mlt/ss2.dat_cn took: 0:00:00.003392\n",
      "2018-03-07 08:45:51.145922 starting: save test mlt array arr_mlt/hk5.dat_cn\n",
      "2018-03-07 08:45:51.149244 finished: save test mlt array arr_mlt/hk5.dat_cn took: 0:00:00.003322\n",
      "2018-03-07 08:45:51.150564 starting: save test mlt array arr_mlt/ss3.dat_cn\n",
      "2018-03-07 08:45:51.153839 finished: save test mlt array arr_mlt/ss3.dat_cn took: 0:00:00.003275\n",
      "arr_mlt/sy0.dat_pp 0.9999999864000001 1.0 1e-10\n"
     ]
    },
    {
     "name": "stderr",
     "output_type": "stream",
     "text": [
      "/Users/jeremyw/Dev/pyemu/pyemu/utils/gw_utils.py:250: UserWarning: pp_file_to_dataframe has moved to pp_utils\n",
      "  warnings.warn(\"pp_file_to_dataframe has moved to pp_utils\")\n"
     ]
    },
    {
     "name": "stdout",
     "output_type": "stream",
     "text": [
      "arr_mlt/rech0.dat_pp 0.9999999864000001 1.0 1e-10\n",
      "arr_mlt/rech0.dat_pp 0.9999999864000001 1.0 1e-10\n",
      "arr_mlt/rech0.dat_pp 0.9999999864000001 1.0 1e-10\n",
      "2018-03-07 08:45:51.288514 forward_run line:pyemu.helpers.apply_array_pars()\n",
      "\n"
     ]
    },
    {
     "ename": "AssertionError",
     "evalue": "can't find sfr package...",
     "output_type": "error",
     "traceback": [
      "\u001b[0;31m---------------------------------------------------------------------------\u001b[0m",
      "\u001b[0;31mAssertionError\u001b[0m                            Traceback (most recent call last)",
      "\u001b[0;32m<ipython-input-10-5abe9f6f98f4>\u001b[0m in \u001b[0;36m<module>\u001b[0;34m()\u001b[0m\n\u001b[1;32m      4\u001b[0m                                           \u001b[0mconst_props\u001b[0m\u001b[0;34m=\u001b[0m\u001b[0mconst_props\u001b[0m\u001b[0;34m,\u001b[0m\u001b[0mk_zone_dict\u001b[0m\u001b[0;34m=\u001b[0m\u001b[0mk_zone_dict\u001b[0m\u001b[0;34m,\u001b[0m\u001b[0;34m\u001b[0m\u001b[0m\n\u001b[1;32m      5\u001b[0m                                           \u001b[0mremove_existing\u001b[0m\u001b[0;34m=\u001b[0m\u001b[0;32mTrue\u001b[0m\u001b[0;34m,\u001b[0m\u001b[0mpp_space\u001b[0m\u001b[0;34m=\u001b[0m\u001b[0;36m4\u001b[0m\u001b[0;34m,\u001b[0m\u001b[0msfr_pars\u001b[0m\u001b[0;34m=\u001b[0m\u001b[0;32mTrue\u001b[0m\u001b[0;34m,\u001b[0m\u001b[0;34m\u001b[0m\u001b[0m\n\u001b[0;32m----> 6\u001b[0;31m                                           sfr_obs=True,hds_kperk=hds_kperk)\n\u001b[0m",
      "\u001b[0;32m~/Dev/pyemu/pyemu/utils/helpers.py\u001b[0m in \u001b[0;36m__init__\u001b[0;34m(self, model, new_model_ws, org_model_ws, pp_props, const_props, bc_props, grid_props, grid_geostruct, pp_space, zone_props, pp_geostruct, par_bounds_dict, sfr_pars, bc_geostruct, remove_existing, k_zone_dict, mflist_waterbudget, mfhyd, hds_kperk, use_pp_zones, obssim_smp_pairs, external_tpl_in_pairs, external_ins_out_pairs, extra_pre_cmds, extra_model_cmds, extra_post_cmds, tmp_files, model_exe_name, build_prior, sfr_obs, all_wells)\u001b[0m\n\u001b[1;32m   1195\u001b[0m \u001b[0;34m\u001b[0m\u001b[0m\n\u001b[1;32m   1196\u001b[0m         \u001b[0;32mif\u001b[0m \u001b[0msfr_pars\u001b[0m\u001b[0;34m:\u001b[0m\u001b[0;34m\u001b[0m\u001b[0m\n\u001b[0;32m-> 1197\u001b[0;31m             \u001b[0mself\u001b[0m\u001b[0;34m.\u001b[0m\u001b[0msetup_sfr_pars\u001b[0m\u001b[0;34m(\u001b[0m\u001b[0;34m)\u001b[0m\u001b[0;34m\u001b[0m\u001b[0m\n\u001b[0m\u001b[1;32m   1198\u001b[0m         \u001b[0mself\u001b[0m\u001b[0;34m.\u001b[0m\u001b[0msetup_observations\u001b[0m\u001b[0;34m(\u001b[0m\u001b[0;34m)\u001b[0m\u001b[0;34m\u001b[0m\u001b[0m\n\u001b[1;32m   1199\u001b[0m         \u001b[0mself\u001b[0m\u001b[0;34m.\u001b[0m\u001b[0mbuild_pst\u001b[0m\u001b[0;34m(\u001b[0m\u001b[0;34m)\u001b[0m\u001b[0;34m\u001b[0m\u001b[0m\n",
      "\u001b[0;32m~/Dev/pyemu/pyemu/utils/helpers.py\u001b[0m in \u001b[0;36msetup_sfr_pars\u001b[0;34m(self)\u001b[0m\n\u001b[1;32m   1242\u001b[0m     \u001b[0;32mdef\u001b[0m \u001b[0msetup_sfr_pars\u001b[0m\u001b[0;34m(\u001b[0m\u001b[0mself\u001b[0m\u001b[0;34m)\u001b[0m\u001b[0;34m:\u001b[0m\u001b[0;34m\u001b[0m\u001b[0m\n\u001b[1;32m   1243\u001b[0m         \u001b[0;34m\"\"\"setup multiplier parameters for sfr segment data\"\"\"\u001b[0m\u001b[0;34m\u001b[0m\u001b[0m\n\u001b[0;32m-> 1244\u001b[0;31m         \u001b[0;32massert\u001b[0m \u001b[0mself\u001b[0m\u001b[0;34m.\u001b[0m\u001b[0mm\u001b[0m\u001b[0;34m.\u001b[0m\u001b[0msfr\u001b[0m \u001b[0;32mis\u001b[0m \u001b[0;32mnot\u001b[0m \u001b[0;32mNone\u001b[0m\u001b[0;34m,\u001b[0m\u001b[0;34m\"can't find sfr package...\"\u001b[0m\u001b[0;34m\u001b[0m\u001b[0m\n\u001b[0m\u001b[1;32m   1245\u001b[0m         \u001b[0mdf\u001b[0m \u001b[0;34m=\u001b[0m \u001b[0mpyemu\u001b[0m\u001b[0;34m.\u001b[0m\u001b[0mgw_utils\u001b[0m\u001b[0;34m.\u001b[0m\u001b[0msetup_sfr_seg_parameters\u001b[0m\u001b[0;34m(\u001b[0m\u001b[0mself\u001b[0m\u001b[0;34m.\u001b[0m\u001b[0mm\u001b[0m\u001b[0;34m.\u001b[0m\u001b[0mnamefile\u001b[0m\u001b[0;34m,\u001b[0m\u001b[0mself\u001b[0m\u001b[0;34m.\u001b[0m\u001b[0mm\u001b[0m\u001b[0;34m.\u001b[0m\u001b[0mmodel_ws\u001b[0m\u001b[0;34m)\u001b[0m\u001b[0;34m\u001b[0m\u001b[0m\n\u001b[1;32m   1246\u001b[0m         \u001b[0mself\u001b[0m\u001b[0;34m.\u001b[0m\u001b[0mpar_dfs\u001b[0m\u001b[0;34m[\u001b[0m\u001b[0;34m\"sfr\"\u001b[0m\u001b[0;34m]\u001b[0m \u001b[0;34m=\u001b[0m \u001b[0mdf\u001b[0m\u001b[0;34m\u001b[0m\u001b[0m\n",
      "\u001b[0;31mAssertionError\u001b[0m: can't find sfr package..."
     ]
    }
   ],
   "source": [
    "mfp_boss = pyemu.helpers.PstFromFlopyModel(nam_file,new_model_ws,org_model_ws=temp_model_ws,\n",
    "                                          pp_props=pp_props,bc_props=bc_props,\n",
    "                                          zone_props=zone_props,grid_props=grid_props,\n",
    "                                          const_props=const_props,k_zone_dict=k_zone_dict,\n",
    "                                          remove_existing=True,pp_space=4,sfr_pars=True,\n",
    "                                          sfr_obs=True,hds_kperk=hds_kperk)"
   ]
  },
  {
   "cell_type": "markdown",
   "metadata": {},
   "source": [
    "The ``mpf_boss`` instance containts a ``pyemu.Pst`` object (its already been saved to a file, but you may want to manipulate it more)"
   ]
  },
  {
   "cell_type": "code",
   "execution_count": null,
   "metadata": {},
   "outputs": [],
   "source": [
    "pst = mfp_boss.pst"
   ]
  },
  {
   "cell_type": "code",
   "execution_count": null,
   "metadata": {},
   "outputs": [],
   "source": [
    "pst.npar,pst.nobs"
   ]
  },
  {
   "cell_type": "markdown",
   "metadata": {},
   "source": [
    "That was crazy easy - this used to take me weeks to get a PEST interface setup with level of complexity"
   ]
  },
  {
   "cell_type": "code",
   "execution_count": null,
   "metadata": {},
   "outputs": [],
   "source": [
    "pst.template_files"
   ]
  },
  {
   "cell_type": "code",
   "execution_count": null,
   "metadata": {},
   "outputs": [],
   "source": [
    "pst.instruction_files"
   ]
  },
  {
   "cell_type": "markdown",
   "metadata": {},
   "source": [
    "Lets look at that important prior covariance matrix"
   ]
  },
  {
   "cell_type": "code",
   "execution_count": null,
   "metadata": {},
   "outputs": [],
   "source": [
    "cov = pyemu.Cov.from_ascii(os.path.join(new_model_ws,m.name+\".pst.prior.cov\"))"
   ]
  },
  {
   "cell_type": "code",
   "execution_count": null,
   "metadata": {},
   "outputs": [],
   "source": [
    "cov = cov.x\n",
    "cov[cov==0] = np.NaN\n",
    "plt.imshow(cov)"
   ]
  },
  {
   "cell_type": "markdown",
   "metadata": {},
   "source": [
    "### adjusting parameter bounds\n",
    "Let's say you don't like the parameter bounds in the new control file (note you can pass a par_bounds arg to the constructor)."
   ]
  },
  {
   "cell_type": "code",
   "execution_count": null,
   "metadata": {},
   "outputs": [],
   "source": [
    "pst.parameter_data"
   ]
  },
  {
   "cell_type": "markdown",
   "metadata": {},
   "source": [
    "Let's change the ``welflux`` pars"
   ]
  },
  {
   "cell_type": "code",
   "execution_count": null,
   "metadata": {},
   "outputs": [],
   "source": [
    "par = pst.parameter_data #get a ref to the parameter data dataframe\n",
    "wpars = par.pargp==\"welflux\"\n",
    "par.loc[wpars]\n"
   ]
  },
  {
   "cell_type": "code",
   "execution_count": null,
   "metadata": {},
   "outputs": [],
   "source": [
    "par.loc[wpars,\"parubnd\"] = 1.1\n",
    "par.loc[wpars,\"parlbnd\"] = 0.9\n",
    "pst.parameter_data"
   ]
  },
  {
   "cell_type": "code",
   "execution_count": null,
   "metadata": {},
   "outputs": [],
   "source": [
    "# now we need to rebuild the prior parameter covariance matrix\n",
    "mfp_boss.build_prior()"
   ]
  },
  {
   "cell_type": "markdown",
   "metadata": {},
   "source": [
    "# Boom!"
   ]
  },
  {
   "cell_type": "code",
   "execution_count": null,
   "metadata": {},
   "outputs": [],
   "source": []
  }
 ],
 "metadata": {
  "anaconda-cloud": {},
  "kernelspec": {
   "display_name": "Python 3",
   "language": "python",
   "name": "python3"
  },
  "language_info": {
   "codemirror_mode": {
    "name": "ipython",
    "version": 3
   },
   "file_extension": ".py",
   "mimetype": "text/x-python",
   "name": "python",
   "nbconvert_exporter": "python",
   "pygments_lexer": "ipython3",
   "version": "3.5.4"
  }
 },
 "nbformat": 4,
 "nbformat_minor": 1
}
