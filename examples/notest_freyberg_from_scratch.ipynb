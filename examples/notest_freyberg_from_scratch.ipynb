{
 "cells": [
  {
   "cell_type": "code",
   "execution_count": 1,
   "metadata": {
    "collapsed": true
   },
   "outputs": [],
   "source": [
    "%matplotlib inline\n",
    "import os\n",
    "import numpy as np\n",
    "import matplotlib.pyplot as plt\n",
    "import pandas as pd\n",
    "import flopy\n",
    "import pyemu"
   ]
  },
  {
   "cell_type": "code",
   "execution_count": 2,
   "metadata": {
    "collapsed": true
   },
   "outputs": [],
   "source": [
    "m = flopy.modflow.Modflow(\"freyberg\",version=\"mfnwt\",exe_name=\"mfnwt\")"
   ]
  },
  {
   "cell_type": "code",
   "execution_count": 7,
   "metadata": {},
   "outputs": [
    {
     "name": "stdout",
     "output_type": "stream",
     "text": [
      "WARNING: unit 11 of package DIS already in use\n",
      "****Warning -- two packages of the same type:  <class 'flopy.modflow.mfdis.ModflowDis'> <class 'flopy.modflow.mfdis.ModflowDis'>\n",
      "replacing existing Package...\n"
     ]
    }
   ],
   "source": [
    "dis = flopy.modflow.ModflowDis(m,nlay=3,nrow=40,ncol=20,nper=2,\n",
    "                               perlen=[1.0,180.0],top=35,\n",
    "                               botm=[32.5,30,os.path.join(\"freyberg_data\",\"botm.ref\")],\n",
    "                               delr=250.0,delc=250.0)"
   ]
  },
  {
   "cell_type": "code",
   "execution_count": 8,
   "metadata": {
    "collapsed": true
   },
   "outputs": [],
   "source": [
    "bas = flopy.modflow.ModflowBas(m,ibound=os.path.join(\"freyberg_data\",\"ibound.ref\"),strt=35.)"
   ]
  },
  {
   "cell_type": "code",
   "execution_count": 9,
   "metadata": {
    "collapsed": true
   },
   "outputs": [],
   "source": [
    "upw = flopy.modflow.ModflowUpw(m,hk=5.0,ss=0.0001,sy=0.01)"
   ]
  },
  {
   "cell_type": "code",
   "execution_count": 10,
   "metadata": {
    "collapsed": true
   },
   "outputs": [],
   "source": [
    "nwt = flopy.modflow.ModflowNwt(m)"
   ]
  },
  {
   "cell_type": "code",
   "execution_count": 11,
   "metadata": {
    "collapsed": true
   },
   "outputs": [],
   "source": [
    "oc = flopy.modflow.ModflowOc(m,stress_period_data=None)"
   ]
  },
  {
   "cell_type": "code",
   "execution_count": 16,
   "metadata": {},
   "outputs": [
    {
     "name": "stdout",
     "output_type": "stream",
     "text": [
      "[[2, 9, 16, -500], [2, 11, 13, -500], [2, 20, 14, -500], [2, 26, 10, -50], [2, 29, 6, -50], [2, 34, 12, -500]]\n",
      "[[2, 9, 16, -625.0], [2, 11, 13, -625.0], [2, 20, 14, -625.0], [2, 26, 10, -62.5], [2, 29, 6, -62.5], [2, 34, 12, -625.0]]\n"
     ]
    }
   ],
   "source": [
    "wel_i = [9,11,20,26,29,34]\n",
    "wel_j = [16,13,14,10,6,12]\n",
    "wel_flux = [-500,-500,-500,-50,-50,-500]\n",
    "sp0,sp1 = [],[]\n",
    "for i,j,f in zip(wel_i,wel_j,wel_flux):\n",
    "    sp0.append([2,i,j,f])\n",
    "    sp1.append([2,i,j,f*1.25])#more pumping in second stress period\n",
    "wel = flopy.modflow.ModflowWel(m,stress_period_data={0:sp0,1:sp1})\n",
    "\n"
   ]
  },
  {
   "cell_type": "code",
   "execution_count": 37,
   "metadata": {},
   "outputs": [
    {
     "name": "stdout",
     "output_type": "stream",
     "text": [
      "(numpy.record, [('node', '<i8'), ('k', '<i8'), ('i', '<i8'), ('j', '<i8'), ('iseg', '<i8'), ('ireach', '<i8'), ('rchlen', '<f4'), ('strtop', '<f4'), ('slope', '<f4'), ('strthick', '<f4'), ('strhc1', '<f4'), ('thts', '<f4'), ('thti', '<f4'), ('eps', '<f4'), ('uhc', '<f4'), ('reachID', '<i8'), ('outreach', '<i8')])\n",
      "(numpy.record, [('nseg', '<i8'), ('icalc', '<i8'), ('outseg', '<i8'), ('iupseg', '<i8'), ('iprior', '<i8'), ('nstrpts', '<i8'), ('flow', '<f4'), ('runoff', '<f4'), ('etsw', '<f4'), ('pptsw', '<f4'), ('roughch', '<f4'), ('roughbk', '<f4'), ('cdpth', '<f4'), ('fdpth', '<f4'), ('awdth', '<f4'), ('bwdth', '<f4'), ('hcond1', '<f4'), ('thickm1', '<f4'), ('elevup', '<f4'), ('width1', '<f4'), ('depth1', '<f4'), ('thts1', '<f4'), ('thti1', '<f4'), ('eps1', '<f4'), ('uhc1', '<f4'), ('hcond2', '<f4'), ('thickm2', '<f4'), ('elevdn', '<f4'), ('width2', '<f4'), ('depth2', '<f4'), ('thts2', '<f4'), ('thti2', '<f4'), ('eps2', '<f4'), ('uhc2', '<f4')])\n"
     ]
    }
   ],
   "source": [
    "sfr_j = 15\n",
    "reach_data = flopy.modflow.ModflowSfr2.get_empty_reach_data(m.nrow)\n",
    "seg_data = flopy.modflow.ModflowSfr2.get_empty_segment_data(m.nrow)\n",
    "print(reach_data.dtype)\n",
    "print(seg_data.dtype)\n",
    "top_slice = m.dis.top.array[:,sfr_j]\n",
    "for i in range(m.nrow):\n",
    "    reach_data[i][\"k\"] = 0\n",
    "    reach_data[i][\"i\"] = i\n",
    "    reach_data[i]['j'] = sfr_j\n",
    "    reach_data[i][\"iseg\"] = i + 1\n",
    "    reach_data[i][\"ireach\"] = i + 1\n",
    "    reach_data[i][\"rchlen\"] = 250.0\n",
    "    seg_data[i][\"nseg\"] = i + 1\n",
    "    seg_data[i][\"icalc\"] = 1\n",
    "    seg_data[i][\"outseg\"] = i + 2\n",
    "    seg_data[i][\"hcond1\"] = 0.1\n",
    "    seg_data[i][\"hcond2\"] = 0.1\n",
    "    seg_data[i][\"width1\"] = 10.0\n",
    "    seg_data[i][\"width2\"] = 10.0\n",
    "    seg_data[i][\"elevup\"] = top_slice[i]+0.1\n",
    "    seg_data[i][\"elevdn\"] = top_slice[i]-0.1\n",
    "    seg_data[i][\"thickm1\"] = 1.0\n",
    "    seg_data[i][\"thickm2\"] = 1.0\n",
    "    seg_data[i][\"roughch\"] = 0.1\n",
    "    #seg_data.append(i+1,1,i+2,0,0)\n",
    "    \n"
   ]
  },
  {
   "cell_type": "code",
   "execution_count": 38,
   "metadata": {},
   "outputs": [
    {
     "name": "stdout",
     "output_type": "stream",
     "text": [
      "WARNING: unit 17 of package SFR already in use\n",
      "****Warning -- two packages of the same type:  <class 'flopy.modflow.mfsfr2.ModflowSfr2'> <class 'flopy.modflow.mfsfr2.ModflowSfr2'>\n",
      "replacing existing Package...\n"
     ]
    },
    {
     "name": "stderr",
     "output_type": "stream",
     "text": [
      "/Users/jeremyw/miniconda3/lib/python3.6/site-packages/numpy/core/records.py:507: FutureWarning: Numpy has detected that you may be viewing or writing to an array returned by selecting multiple fields in a structured array. \n",
      "\n",
      "This code may break in numpy 1.13 because this will return a view instead of a copy -- see release notes for details.\n",
      "  return obj.view(dtype=(self.dtype.type, obj.dtype))\n"
     ]
    }
   ],
   "source": [
    "sfr = flopy.modflow.ModflowSfr2(m,reach_data=reach_data,segment_data=seg_data)"
   ]
  },
  {
   "cell_type": "code",
   "execution_count": 39,
   "metadata": {},
   "outputs": [
    {
     "name": "stdout",
     "output_type": "stream",
     "text": [
      "\n",
      "changing model workspace...\n",
      "   freyberg_setup\n"
     ]
    },
    {
     "name": "stderr",
     "output_type": "stream",
     "text": [
      "/Users/jeremyw/miniconda3/lib/python3.6/site-packages/numpy/core/records.py:507: FutureWarning: Numpy has detected that you may be viewing or writing to an array returned by selecting multiple fields in a structured array. \n",
      "\n",
      "This code may break in numpy 1.13 because this will return a view instead of a copy -- see release notes for details.\n",
      "  return obj.view(dtype=(self.dtype.type, obj.dtype))\n"
     ]
    }
   ],
   "source": [
    "m.model_ws = \"freyberg_setup\"\n",
    "m.write_input()"
   ]
  },
  {
   "cell_type": "code",
   "execution_count": 40,
   "metadata": {},
   "outputs": [
    {
     "name": "stdout",
     "output_type": "stream",
     "text": [
      "FloPy is using the following executable to run the model: /Users/jeremyw/bin/mfnwt\n",
      "\n",
      "                                  MODFLOW-NWT-SWR1 \n",
      "    U.S. GEOLOGICAL SURVEY MODULAR FINITE-DIFFERENCE GROUNDWATER-FLOW MODEL\n",
      "                             WITH NEWTON FORMULATION\n",
      "                             Version 1.1.3, 8/01/2017                        \n",
      "                    BASED ON MODFLOW-2005 Version 1.11.0 08/08/2013                       \n",
      "\n",
      "                    SWR1 Version 1.04.0 09/15/2016                       \n",
      "\n",
      " Using NAME file: freyberg.nam \n",
      " Run start date and time (yyyy/mm/dd hh:mm:ss): 2018/01/02 21:31:50\n",
      "\n",
      " Solving:  Stress period:     1    Time step:     1    Groundwater-Flow Eqn.\n",
      " Solving:  Stress period:     2    Time step:     1    Groundwater-Flow Eqn.\n",
      " Run end date and time (yyyy/mm/dd hh:mm:ss): 2018/01/02 21:31:50\n",
      " Elapsed run time:  0.081 Seconds\n",
      "\n",
      "  Normal termination of simulation\n"
     ]
    },
    {
     "data": {
      "text/plain": [
       "(True, [])"
      ]
     },
     "execution_count": 40,
     "metadata": {},
     "output_type": "execute_result"
    }
   ],
   "source": [
    "m.run_model()"
   ]
  },
  {
   "cell_type": "code",
   "execution_count": null,
   "metadata": {
    "collapsed": true
   },
   "outputs": [],
   "source": []
  }
 ],
 "metadata": {
  "kernelspec": {
   "display_name": "Python 3",
   "language": "python",
   "name": "python3"
  },
  "language_info": {
   "codemirror_mode": {
    "name": "ipython",
    "version": 3
   },
   "file_extension": ".py",
   "mimetype": "text/x-python",
   "name": "python",
   "nbconvert_exporter": "python",
   "pygments_lexer": "ipython3",
   "version": "3.6.1"
  }
 },
 "nbformat": 4,
 "nbformat_minor": 2
}
