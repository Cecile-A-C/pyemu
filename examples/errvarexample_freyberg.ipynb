{
 "cells": [
  {
   "cell_type": "code",
   "execution_count": 4,
   "metadata": {
    "collapsed": true
   },
   "outputs": [],
   "source": [
    "%matplotlib inline\n",
    "from __future__ import print_function\n",
    "import os\n",
    "import numpy as np\n",
    "import pandas as pd\n",
    "from matplotlib.patches import Rectangle as rect\n",
    "import matplotlib.pyplot as plt\n",
    "import warnings\n",
    "warnings.filterwarnings(\"ignore\", message=\"ModflowDis.sr is deprecated. use Modflow.sr\")\n",
    "from mpl_toolkits.axes_grid1 import make_axes_locatable\n",
    "import matplotlib as mpl"
   ]
  },
  {
   "cell_type": "markdown",
   "metadata": {},
   "source": [
    "##Model background\n",
    "Here is an example based on the model of Freyberg, 1988.  The synthetic model is a 2-dimensional MODFLOW model with 1 layer,  40 rows, and 20 columns.  The model has 2 stress periods: an initial steady-state stress period used for calibration, and a 5-year transient stress period.  The calibration period uses the recharge and well flux of Freyberg, 1988; the last stress period use 25% less recharge and 25% more pumping.\n",
    "\n",
    "The inverse problem has 761 parameters: hydraulic conductivity of each active model cell, calibration and forecast period recharge multipliers, storage and specific yield, calibration and forecast well flux for each of the six wells, and river bed conductance for each 40 cells with river-type boundary conditions.  The inverse problem has 13 head obseravtions, measured at the end of the steady-state calibration period.  The forecasts of interest include the sw-gw exchange flux during both stress periods (observations named ```sw_gw_0``` and ``sw_gw_1``), and the water level in well cell 6 located in at row 28 column 5 at the end of the stress periods (observations named ```or28c05_0``` and ```or28c05_1```).  The forecasts are included in the Jacobian matrix as zero-weight observations. The model files, pest control file and previously-calculated jacobian matrix are in the `freyberg/` folder\n",
    "\n",
    "\n",
    "Freyberg, David L. \"AN EXERCISE IN GROUND‐WATER MODEL CALIBRATION AND PREDICTION.\" Groundwater 26.3 (1988): 350-360."
   ]
  },
  {
   "cell_type": "code",
   "execution_count": 5,
   "metadata": {
    "collapsed": false
   },
   "outputs": [
    {
     "name": "stdout",
     "output_type": "stream",
     "text": [
      "WARNING: unit 51 of package ['OC', 'DATA(BINARY)', 'DATA(BINARY)', 'DATA(BINARY)'] already in use\n"
     ]
    },
    {
     "data": {
      "image/png": "[encoded data removed]",
      "text/plain": [
       "<matplotlib.figure.Figure at 0x10a755290>"
      ]
     },
     "metadata": {},
     "output_type": "display_data"
    }
   ],
   "source": [
    "import flopy\n",
    "\n",
    "# load the model\n",
    "model_ws = os.path.join(\"Freyberg\",\"extra_crispy\")\n",
    "ml = flopy.modflow.Modflow.load(\"freyberg.nam\",model_ws=model_ws)\n",
    "\n",
    "# plot some model attributes\n",
    "fig = plt.figure(figsize=(6,6))\n",
    "ax = plt.subplot(111,aspect=\"equal\")\n",
    "ml.upw.hk.plot(axes=[ax],colorbar=\"K m/d\",alpha=0.3)\n",
    "ml.wel.stress_period_data.plot(axes=[ax])\n",
    "ml.riv.stress_period_data.plot(axes=[ax])\n",
    "\n",
    "# plot obs locations\n",
    "obs = pd.read_csv(os.path.join(\"freyberg\",\"misc\",\"obs_rowcol.dat\"),delim_whitespace=True)\n",
    "obs_x = [ml.sr.xcentergrid[r-1,c-1] for r,c in obs.loc[:,[\"row\",\"col\"]].values]\n",
    "obs_y = [ml.sr.ycentergrid[r-1,c-1] for r,c in obs.loc[:,[\"row\",\"col\"]].values]\n",
    "ax.scatter(obs_x,obs_y,marker='.',label=\"obs\")\n",
    "\n",
    "#plot names on the pumping well locations\n",
    "wel_data = ml.wel.stress_period_data[0]\n",
    "wel_x = ml.sr.xcentergrid[wel_data[\"i\"],wel_data[\"j\"]]\n",
    "wel_y = ml.sr.ycentergrid[wel_data[\"i\"],wel_data[\"j\"]]\n",
    "for i,(x,y) in enumerate(zip(wel_x,wel_y)):\n",
    "    ax.text(x,y,\"{0}\".format(i+1),ha=\"center\",va=\"center\")\n",
    "\n",
    "ax.set_ylabel(\"y\")\n",
    "ax.set_xlabel(\"x\")\n",
    "\n",
    "ax.add_patch(rect((0,0),0,0,label=\"well\",ec=\"none\",fc=\"r\"))\n",
    "ax.add_patch(rect((0,0),0,0,label=\"river\",ec=\"none\",fc=\"g\"))\n",
    "\n",
    "ax.legend(bbox_to_anchor=(1.5,1.0),frameon=False)\n",
    "plt.savefig(\"domain.pdf\")"
   ]
  },
  {
   "cell_type": "markdown",
   "metadata": {},
   "source": [
    "##Using `pyemu`"
   ]
  },
  {
   "cell_type": "code",
   "execution_count": 6,
   "metadata": {
    "collapsed": true
   },
   "outputs": [],
   "source": [
    "import pyemu"
   ]
  },
  {
   "cell_type": "markdown",
   "metadata": {},
   "source": [
    "First create a linear_analysis object.  We will use `ErrVar`  derived type, which replicates the behavior of the `PREDVAR` suite of PEST as well as `ident_par` utility.  We pass it the name of the jacobian matrix file.  Since we don't pass an explicit argument for `parcov` or `obscov`, `pyemu` attempts to build them from the parameter bounds and observation weights in a pest control file (.pst) with the same base case name as the jacobian.  Since we are interested in forecast uncertainty as well as parameter uncertainty, we also pass the names of the forecast sensitivity vectors we are interested in, which are stored in the jacobian as well.  Note that the `forecasts` argument can be a mixed list of observation names, other jacobian files or PEST-compatible ASCII matrix files.  Remember you can pass a filename to the `verbose` argument to write log file.\n",
    "\n",
    "Since most groundwater model history-matching analyses focus on adjusting hetergeneous hydraulic properties and not boundary condition elements, let's identify the well flux and recharge parameters as `omitted` in the error variance analysis.  We can conceptually think of this action as excluding these parameters from the history-matching process. Later we will explicitly calculate the penalty for not adjusting these parameters."
   ]
  },
  {
   "cell_type": "code",
   "execution_count": 7,
   "metadata": {
    "collapsed": false
   },
   "outputs": [
    {
     "name": "stdout",
     "output_type": "stream",
     "text": [
      "observations, parameters found in jacobian: (1408, 747)\n"
     ]
    }
   ],
   "source": [
    "# get the list of forecast names from the pest++ argument in the pest control file\n",
    "jco = os.path.join(\"freyberg\",\"freyberg.jcb\")\n",
    "pst = pyemu.Pst(jco.replace(\"jcb\",\"pst\"))\n",
    "omitted = [pname for pname in pst.par_names if pname.startswith(\"wf\") or pname.startswith(\"rch\")]\n",
    "forecasts = pst.pestpp_options[\"forecasts\"].split(',')\n",
    "la = pyemu.ErrVar(jco=jco, forecasts=forecasts,verbose=False,omitted_parameters=omitted)\n",
    "print(\"observations, parameters found in jacobian:\",la.jco.shape)"
   ]
  },
  {
   "cell_type": "markdown",
   "metadata": {},
   "source": [
    "#Parameter identifiability\n",
    "The `errvar` dervied type exposes a method to get a `pandas` dataframe of parameter identifiability information.  Recall that parameter identifiability is expressed as $d_i = \\Sigma(\\mathbf{V}_{1i})^2$, where $d_i$ is the parameter identifiability, which ranges from 0 (not identified by the data) to 1 (full identified by the data), and $\\mathbf{V}_1$ are the right singular vectors corresonding to non-(numerically) zero singular values.  First let's look at the singular spectrum of $\\mathbf{Q}^{\\frac{1}{2}}\\mathbf{J}$, where $\\mathbf{Q}$ is the cofactor matrix and $\\mathbf{J}$ is the jacobian:"
   ]
  },
  {
   "cell_type": "code",
   "execution_count": 8,
   "metadata": {
    "collapsed": true
   },
   "outputs": [],
   "source": [
    "s = la.qhalfx.s"
   ]
  },
  {
   "cell_type": "code",
   "execution_count": 9,
   "metadata": {
    "collapsed": false
   },
   "outputs": [
    {
     "data": {
      "image/png": "[encoded data removed]",
      "text/plain": [
       "<matplotlib.figure.Figure at 0x10a736390>"
      ]
     },
     "metadata": {},
     "output_type": "display_data"
    }
   ],
   "source": [
    "import pylab as plt\n",
    "figure = plt.figure(figsize=(10, 5))\n",
    "ax = plt.subplot(111)\n",
    "ax.plot(s.x)\n",
    "ax.set_title(\"singular spectrum\")\n",
    "ax.set_ylabel(\"power\")\n",
    "ax.set_xlabel(\"singular value\")\n",
    "ax.set_xlim(0,20)\n",
    "plt.show()"
   ]
  },
  {
   "cell_type": "markdown",
   "metadata": {},
   "source": [
    "We see that the singluar spectrum decays rapidly (not uncommon) and that we can really only support about 13 right singular vectors even though we have 700+ parameters in the inverse problem.  \n",
    "\n",
    "Let's get the identifiability dataframe at 13 singular vectors:"
   ]
  },
  {
   "cell_type": "code",
   "execution_count": 10,
   "metadata": {
    "collapsed": false
   },
   "outputs": [
    {
     "name": "stderr",
     "output_type": "stream",
     "text": [
      "/Users/jwhite/anaconda/lib/python2.7/site-packages/IPython/kernel/__main__.py:2: FutureWarning: sort(columns=....) is deprecated, use sort_values(by=.....)\n",
      "  from IPython.kernel.zmq import kernelapp as app\n"
     ]
    },
    {
     "data": {
      "text/html": [
       "<div>\n",
       "<table border=\"1\" class=\"dataframe\">\n",
       "  <thead>\n",
       "    <tr style=\"text-align: right;\">\n",
       "      <th></th>\n",
       "      <th>right_sing_vec_1</th>\n",
       "      <th>right_sing_vec_2</th>\n",
       "      <th>right_sing_vec_3</th>\n",
       "      <th>right_sing_vec_4</th>\n",
       "      <th>right_sing_vec_5</th>\n",
       "      <th>right_sing_vec_6</th>\n",
       "      <th>right_sing_vec_7</th>\n",
       "      <th>right_sing_vec_8</th>\n",
       "      <th>right_sing_vec_9</th>\n",
       "      <th>right_sing_vec_10</th>\n",
       "      <th>right_sing_vec_11</th>\n",
       "      <th>right_sing_vec_12</th>\n",
       "      <th>right_sing_vec_13</th>\n",
       "      <th>ident</th>\n",
       "    </tr>\n",
       "  </thead>\n",
       "  <tbody>\n",
       "    <tr>\n",
       "      <th>hkr30c15</th>\n",
       "      <td>3.290900e-07</td>\n",
       "      <td>7.044375e-06</td>\n",
       "      <td>2.479020e-06</td>\n",
       "      <td>1.140011e-04</td>\n",
       "      <td>5.082595e-06</td>\n",
       "      <td>4.144797e-04</td>\n",
       "      <td>2.914886e-05</td>\n",
       "      <td>0.000325</td>\n",
       "      <td>0.157959</td>\n",
       "      <td>1.404472e-04</td>\n",
       "      <td>0.143139</td>\n",
       "      <td>1.370276e-02</td>\n",
       "      <td>1.826426e-04</td>\n",
       "      <td>0.316021</td>\n",
       "    </tr>\n",
       "    <tr>\n",
       "      <th>hkr03c11</th>\n",
       "      <td>5.003303e-02</td>\n",
       "      <td>1.404578e-02</td>\n",
       "      <td>1.739226e-02</td>\n",
       "      <td>2.993984e-05</td>\n",
       "      <td>4.063808e-05</td>\n",
       "      <td>1.548729e-06</td>\n",
       "      <td>7.199231e-09</td>\n",
       "      <td>0.000181</td>\n",
       "      <td>0.000013</td>\n",
       "      <td>1.845528e-01</td>\n",
       "      <td>0.000079</td>\n",
       "      <td>4.467137e-05</td>\n",
       "      <td>7.423482e-04</td>\n",
       "      <td>0.267156</td>\n",
       "    </tr>\n",
       "    <tr>\n",
       "      <th>hkr34c09</th>\n",
       "      <td>7.345083e-04</td>\n",
       "      <td>9.125997e-03</td>\n",
       "      <td>1.716865e-03</td>\n",
       "      <td>7.862148e-02</td>\n",
       "      <td>1.256701e-01</td>\n",
       "      <td>2.240252e-02</td>\n",
       "      <td>1.716067e-02</td>\n",
       "      <td>0.000011</td>\n",
       "      <td>0.000034</td>\n",
       "      <td>1.218779e-05</td>\n",
       "      <td>0.000035</td>\n",
       "      <td>3.552695e-06</td>\n",
       "      <td>5.335394e-08</td>\n",
       "      <td>0.255528</td>\n",
       "    </tr>\n",
       "    <tr>\n",
       "      <th>hkr04c10</th>\n",
       "      <td>6.392467e-02</td>\n",
       "      <td>1.736472e-02</td>\n",
       "      <td>1.887143e-02</td>\n",
       "      <td>3.450696e-05</td>\n",
       "      <td>6.174547e-05</td>\n",
       "      <td>1.370228e-06</td>\n",
       "      <td>1.016931e-04</td>\n",
       "      <td>0.002219</td>\n",
       "      <td>0.000054</td>\n",
       "      <td>1.491807e-01</td>\n",
       "      <td>0.000036</td>\n",
       "      <td>9.585028e-06</td>\n",
       "      <td>2.037913e-05</td>\n",
       "      <td>0.251880</td>\n",
       "    </tr>\n",
       "    <tr>\n",
       "      <th>hkr22c12</th>\n",
       "      <td>7.338922e-04</td>\n",
       "      <td>7.121903e-03</td>\n",
       "      <td>2.094718e-03</td>\n",
       "      <td>2.357636e-02</td>\n",
       "      <td>8.307662e-02</td>\n",
       "      <td>1.218885e-03</td>\n",
       "      <td>7.865360e-02</td>\n",
       "      <td>0.024846</td>\n",
       "      <td>0.001072</td>\n",
       "      <td>4.587448e-05</td>\n",
       "      <td>0.000250</td>\n",
       "      <td>7.825051e-04</td>\n",
       "      <td>3.000407e-05</td>\n",
       "      <td>0.223503</td>\n",
       "    </tr>\n",
       "    <tr>\n",
       "      <th>hkr25c06</th>\n",
       "      <td>6.255760e-03</td>\n",
       "      <td>3.622798e-02</td>\n",
       "      <td>8.721402e-04</td>\n",
       "      <td>1.046226e-01</td>\n",
       "      <td>1.543280e-02</td>\n",
       "      <td>1.869279e-03</td>\n",
       "      <td>5.109957e-02</td>\n",
       "      <td>0.000181</td>\n",
       "      <td>0.000003</td>\n",
       "      <td>2.053997e-06</td>\n",
       "      <td>0.000002</td>\n",
       "      <td>6.854118e-07</td>\n",
       "      <td>3.246756e-07</td>\n",
       "      <td>0.216569</td>\n",
       "    </tr>\n",
       "    <tr>\n",
       "      <th>hkr35c12</th>\n",
       "      <td>1.611155e-04</td>\n",
       "      <td>1.577611e-03</td>\n",
       "      <td>2.415478e-04</td>\n",
       "      <td>8.132104e-03</td>\n",
       "      <td>4.097179e-04</td>\n",
       "      <td>1.943214e-01</td>\n",
       "      <td>7.026843e-05</td>\n",
       "      <td>0.000066</td>\n",
       "      <td>0.001226</td>\n",
       "      <td>2.254672e-06</td>\n",
       "      <td>0.000595</td>\n",
       "      <td>3.565904e-05</td>\n",
       "      <td>7.077702e-07</td>\n",
       "      <td>0.206839</td>\n",
       "    </tr>\n",
       "    <tr>\n",
       "      <th>hkr35c10</th>\n",
       "      <td>8.196639e-05</td>\n",
       "      <td>1.008543e-03</td>\n",
       "      <td>1.565779e-04</td>\n",
       "      <td>3.927183e-03</td>\n",
       "      <td>1.947728e-02</td>\n",
       "      <td>1.588248e-01</td>\n",
       "      <td>3.140667e-03</td>\n",
       "      <td>0.000001</td>\n",
       "      <td>0.000499</td>\n",
       "      <td>3.390147e-07</td>\n",
       "      <td>0.000237</td>\n",
       "      <td>1.067324e-05</td>\n",
       "      <td>1.649054e-07</td>\n",
       "      <td>0.187366</td>\n",
       "    </tr>\n",
       "    <tr>\n",
       "      <th>hkr04c16</th>\n",
       "      <td>1.876654e-07</td>\n",
       "      <td>9.328463e-08</td>\n",
       "      <td>2.221951e-07</td>\n",
       "      <td>2.703059e-12</td>\n",
       "      <td>1.173842e-08</td>\n",
       "      <td>1.221827e-09</td>\n",
       "      <td>1.348791e-07</td>\n",
       "      <td>0.000006</td>\n",
       "      <td>0.000047</td>\n",
       "      <td>7.769099e-05</td>\n",
       "      <td>0.000595</td>\n",
       "      <td>1.033121e-02</td>\n",
       "      <td>1.672190e-01</td>\n",
       "      <td>0.178277</td>\n",
       "    </tr>\n",
       "    <tr>\n",
       "      <th>hkr03c15</th>\n",
       "      <td>1.888557e-07</td>\n",
       "      <td>9.070880e-08</td>\n",
       "      <td>2.262869e-07</td>\n",
       "      <td>6.054070e-10</td>\n",
       "      <td>2.804157e-08</td>\n",
       "      <td>1.102138e-09</td>\n",
       "      <td>2.113285e-07</td>\n",
       "      <td>0.000009</td>\n",
       "      <td>0.000068</td>\n",
       "      <td>7.629373e-05</td>\n",
       "      <td>0.000746</td>\n",
       "      <td>1.121317e-02</td>\n",
       "      <td>1.657981e-01</td>\n",
       "      <td>0.177912</td>\n",
       "    </tr>\n",
       "  </tbody>\n",
       "</table>\n",
       "</div>"
      ],
      "text/plain": [
       "          right_sing_vec_1  right_sing_vec_2  right_sing_vec_3  \\\n",
       "hkr30c15      3.290900e-07      7.044375e-06      2.479020e-06   \n",
       "hkr03c11      5.003303e-02      1.404578e-02      1.739226e-02   \n",
       "hkr34c09      7.345083e-04      9.125997e-03      1.716865e-03   \n",
       "hkr04c10      6.392467e-02      1.736472e-02      1.887143e-02   \n",
       "hkr22c12      7.338922e-04      7.121903e-03      2.094718e-03   \n",
       "hkr25c06      6.255760e-03      3.622798e-02      8.721402e-04   \n",
       "hkr35c12      1.611155e-04      1.577611e-03      2.415478e-04   \n",
       "hkr35c10      8.196639e-05      1.008543e-03      1.565779e-04   \n",
       "hkr04c16      1.876654e-07      9.328463e-08      2.221951e-07   \n",
       "hkr03c15      1.888557e-07      9.070880e-08      2.262869e-07   \n",
       "\n",
       "          right_sing_vec_4  right_sing_vec_5  right_sing_vec_6  \\\n",
       "hkr30c15      1.140011e-04      5.082595e-06      4.144797e-04   \n",
       "hkr03c11      2.993984e-05      4.063808e-05      1.548729e-06   \n",
       "hkr34c09      7.862148e-02      1.256701e-01      2.240252e-02   \n",
       "hkr04c10      3.450696e-05      6.174547e-05      1.370228e-06   \n",
       "hkr22c12      2.357636e-02      8.307662e-02      1.218885e-03   \n",
       "hkr25c06      1.046226e-01      1.543280e-02      1.869279e-03   \n",
       "hkr35c12      8.132104e-03      4.097179e-04      1.943214e-01   \n",
       "hkr35c10      3.927183e-03      1.947728e-02      1.588248e-01   \n",
       "hkr04c16      2.703059e-12      1.173842e-08      1.221827e-09   \n",
       "hkr03c15      6.054070e-10      2.804157e-08      1.102138e-09   \n",
       "\n",
       "          right_sing_vec_7  right_sing_vec_8  right_sing_vec_9  \\\n",
       "hkr30c15      2.914886e-05          0.000325          0.157959   \n",
       "hkr03c11      7.199231e-09          0.000181          0.000013   \n",
       "hkr34c09      1.716067e-02          0.000011          0.000034   \n",
       "hkr04c10      1.016931e-04          0.002219          0.000054   \n",
       "hkr22c12      7.865360e-02          0.024846          0.001072   \n",
       "hkr25c06      5.109957e-02          0.000181          0.000003   \n",
       "hkr35c12      7.026843e-05          0.000066          0.001226   \n",
       "hkr35c10      3.140667e-03          0.000001          0.000499   \n",
       "hkr04c16      1.348791e-07          0.000006          0.000047   \n",
       "hkr03c15      2.113285e-07          0.000009          0.000068   \n",
       "\n",
       "          right_sing_vec_10  right_sing_vec_11  right_sing_vec_12  \\\n",
       "hkr30c15       1.404472e-04           0.143139       1.370276e-02   \n",
       "hkr03c11       1.845528e-01           0.000079       4.467137e-05   \n",
       "hkr34c09       1.218779e-05           0.000035       3.552695e-06   \n",
       "hkr04c10       1.491807e-01           0.000036       9.585028e-06   \n",
       "hkr22c12       4.587448e-05           0.000250       7.825051e-04   \n",
       "hkr25c06       2.053997e-06           0.000002       6.854118e-07   \n",
       "hkr35c12       2.254672e-06           0.000595       3.565904e-05   \n",
       "hkr35c10       3.390147e-07           0.000237       1.067324e-05   \n",
       "hkr04c16       7.769099e-05           0.000595       1.033121e-02   \n",
       "hkr03c15       7.629373e-05           0.000746       1.121317e-02   \n",
       "\n",
       "          right_sing_vec_13     ident  \n",
       "hkr30c15       1.826426e-04  0.316021  \n",
       "hkr03c11       7.423482e-04  0.267156  \n",
       "hkr34c09       5.335394e-08  0.255528  \n",
       "hkr04c10       2.037913e-05  0.251880  \n",
       "hkr22c12       3.000407e-05  0.223503  \n",
       "hkr25c06       3.246756e-07  0.216569  \n",
       "hkr35c12       7.077702e-07  0.206839  \n",
       "hkr35c10       1.649054e-07  0.187366  \n",
       "hkr04c16       1.672190e-01  0.178277  \n",
       "hkr03c15       1.657981e-01  0.177912  "
      ]
     },
     "execution_count": 10,
     "metadata": {},
     "output_type": "execute_result"
    }
   ],
   "source": [
    "ident_df = la.get_identifiability_dataframe(13) # the method is passed the number of singular vectors to include in V_1\n",
    "ident_df.sort(\"ident\",ascending=False).iloc[0:10]"
   ]
  },
  {
   "cell_type": "markdown",
   "metadata": {},
   "source": [
    "Plot the indentifiability:"
   ]
  },
  {
   "cell_type": "code",
   "execution_count": 11,
   "metadata": {
    "collapsed": false
   },
   "outputs": [
    {
     "name": "stderr",
     "output_type": "stream",
     "text": [
      "/Users/jwhite/anaconda/lib/python2.7/site-packages/IPython/kernel/__main__.py:1: FutureWarning: sort(columns=....) is deprecated, use sort_values(by=.....)\n",
      "  if __name__ == '__main__':\n"
     ]
    },
    {
     "data": {
      "text/plain": [
       "<matplotlib.text.Text at 0x10b9e02d0>"
      ]
     },
     "execution_count": 11,
     "metadata": {},
     "output_type": "execute_result"
    },
    {
     "data": {
      "image/png": "[encoded data removed]",
      "text/plain": [
       "<matplotlib.figure.Figure at 0x10a927510>"
      ]
     },
     "metadata": {},
     "output_type": "display_data"
    }
   ],
   "source": [
    "ax = ident_df.sort(\"ident\",ascending=False).iloc[0:20].loc[:,\"ident\"].plot(kind=\"bar\",figsize=(10,10))\n",
    "ax.set_ylabel(\"identifiability\")"
   ]
  },
  {
   "cell_type": "markdown",
   "metadata": {},
   "source": [
    "#Forecast error variance \n",
    "\n",
    "Now let's explore the error variance of the forecasts we are interested in.  We will use an extended version of the forecast error variance equation:   \n",
    "\n",
    "$\\sigma_{s - \\hat{s}}^2 = \\underbrace{\\textbf{y}_i^T({\\bf{I}} - {\\textbf{R}})\\boldsymbol{\\Sigma}_{{\\boldsymbol{\\theta}}_i}({\\textbf{I}} - {\\textbf{R}})^T\\textbf{y}_i}_{1} + \\underbrace{{\\textbf{y}}_i^T{\\bf{G}}\\boldsymbol{\\Sigma}_{\\mathbf{\\epsilon}}{\\textbf{G}}^T{\\textbf{y}}_i}_{2} + \\underbrace{{\\bf{p}}\\boldsymbol{\\Sigma}_{{\\boldsymbol{\\theta}}_o}{\\bf{p}}^T}_{3}$\n",
    "\n",
    "Where term 1 is the null-space contribution, term 2 is the solution space contribution and term 3 is the model error term (the penalty for not adjusting uncertain parameters).  Remember the well flux and recharge parameters that we marked as omitted?  The consequences of that action can now be explicitly evaluated.  See Moore and Doherty (2005) and White and other (2014) for more explanation of these terms.  Note that if you don't have any `omitted_parameters`, the only terms 1 and 2 contribute to error variance\n",
    "\n",
    "First we need to create a list (or numpy ndarray) of the singular values we want to test.  Since we have $\\lt13$ data, we only need to test up to $13$ singular values because that is where the action is:"
   ]
  },
  {
   "cell_type": "code",
   "execution_count": 12,
   "metadata": {
    "collapsed": true
   },
   "outputs": [],
   "source": [
    "sing_vals = np.arange(14)"
   ]
  },
  {
   "cell_type": "markdown",
   "metadata": {},
   "source": [
    "The `ErrVar` derived type exposes a method to get a multi-index pandas dataframe with each of the terms of the error variance equation:"
   ]
  },
  {
   "cell_type": "code",
   "execution_count": 13,
   "metadata": {
    "collapsed": false
   },
   "outputs": [
    {
     "data": {
      "text/html": [
       "<div>\n",
       "<table border=\"1\" class=\"dataframe\">\n",
       "  <thead>\n",
       "    <tr>\n",
       "      <th></th>\n",
       "      <th colspan=\"4\" halign=\"left\">first</th>\n",
       "      <th colspan=\"4\" halign=\"left\">second</th>\n",
       "      <th colspan=\"4\" halign=\"left\">third</th>\n",
       "    </tr>\n",
       "    <tr>\n",
       "      <th></th>\n",
       "      <th>or28c05_0</th>\n",
       "      <th>or28c05_1</th>\n",
       "      <th>sw_gw_0</th>\n",
       "      <th>sw_gw_1</th>\n",
       "      <th>or28c05_0</th>\n",
       "      <th>or28c05_1</th>\n",
       "      <th>sw_gw_0</th>\n",
       "      <th>sw_gw_1</th>\n",
       "      <th>or28c05_0</th>\n",
       "      <th>or28c05_1</th>\n",
       "      <th>sw_gw_0</th>\n",
       "      <th>sw_gw_1</th>\n",
       "    </tr>\n",
       "  </thead>\n",
       "  <tbody>\n",
       "    <tr>\n",
       "      <th>0</th>\n",
       "      <td>0.303632</td>\n",
       "      <td>0.744522</td>\n",
       "      <td>2346.665821</td>\n",
       "      <td>93125.784926</td>\n",
       "      <td>0.000000</td>\n",
       "      <td>0.000000</td>\n",
       "      <td>0.000000</td>\n",
       "      <td>0.000000</td>\n",
       "      <td>0.097391</td>\n",
       "      <td>0.711779</td>\n",
       "      <td>77287.368771</td>\n",
       "      <td>528004.087309</td>\n",
       "    </tr>\n",
       "    <tr>\n",
       "      <th>1</th>\n",
       "      <td>0.273260</td>\n",
       "      <td>0.728780</td>\n",
       "      <td>2303.549610</td>\n",
       "      <td>93110.827506</td>\n",
       "      <td>0.000004</td>\n",
       "      <td>0.000002</td>\n",
       "      <td>0.005339</td>\n",
       "      <td>0.001852</td>\n",
       "      <td>0.036958</td>\n",
       "      <td>0.706655</td>\n",
       "      <td>79803.910763</td>\n",
       "      <td>527856.831388</td>\n",
       "    </tr>\n",
       "    <tr>\n",
       "      <th>2</th>\n",
       "      <td>0.120244</td>\n",
       "      <td>0.648132</td>\n",
       "      <td>2102.765303</td>\n",
       "      <td>93068.907674</td>\n",
       "      <td>0.000031</td>\n",
       "      <td>0.000016</td>\n",
       "      <td>0.041015</td>\n",
       "      <td>0.009300</td>\n",
       "      <td>0.000324</td>\n",
       "      <td>0.728382</td>\n",
       "      <td>83589.846855</td>\n",
       "      <td>528026.436736</td>\n",
       "    </tr>\n",
       "    <tr>\n",
       "      <th>3</th>\n",
       "      <td>0.112220</td>\n",
       "      <td>0.643836</td>\n",
       "      <td>2089.014733</td>\n",
       "      <td>93064.556546</td>\n",
       "      <td>0.000033</td>\n",
       "      <td>0.000017</td>\n",
       "      <td>0.044716</td>\n",
       "      <td>0.010472</td>\n",
       "      <td>0.000641</td>\n",
       "      <td>0.725615</td>\n",
       "      <td>83277.644444</td>\n",
       "      <td>528008.469992</td>\n",
       "    </tr>\n",
       "    <tr>\n",
       "      <th>4</th>\n",
       "      <td>0.111891</td>\n",
       "      <td>0.643685</td>\n",
       "      <td>1983.078837</td>\n",
       "      <td>92997.985538</td>\n",
       "      <td>0.000033</td>\n",
       "      <td>0.000018</td>\n",
       "      <td>0.102688</td>\n",
       "      <td>0.046902</td>\n",
       "      <td>0.000790</td>\n",
       "      <td>0.724935</td>\n",
       "      <td>84472.068866</td>\n",
       "      <td>528106.372047</td>\n",
       "    </tr>\n",
       "    <tr>\n",
       "      <th>5</th>\n",
       "      <td>0.111617</td>\n",
       "      <td>0.643552</td>\n",
       "      <td>1954.419189</td>\n",
       "      <td>92889.842807</td>\n",
       "      <td>0.000033</td>\n",
       "      <td>0.000018</td>\n",
       "      <td>0.121333</td>\n",
       "      <td>0.117257</td>\n",
       "      <td>0.000761</td>\n",
       "      <td>0.725061</td>\n",
       "      <td>84344.766476</td>\n",
       "      <td>528081.019959</td>\n",
       "    </tr>\n",
       "    <tr>\n",
       "      <th>6</th>\n",
       "      <td>0.110798</td>\n",
       "      <td>0.642345</td>\n",
       "      <td>1711.734073</td>\n",
       "      <td>92816.789339</td>\n",
       "      <td>0.000034</td>\n",
       "      <td>0.000019</td>\n",
       "      <td>0.302842</td>\n",
       "      <td>0.171895</td>\n",
       "      <td>0.000994</td>\n",
       "      <td>0.723539</td>\n",
       "      <td>85827.045559</td>\n",
       "      <td>528168.889888</td>\n",
       "    </tr>\n",
       "    <tr>\n",
       "      <th>7</th>\n",
       "      <td>0.103989</td>\n",
       "      <td>0.635574</td>\n",
       "      <td>1711.318522</td>\n",
       "      <td>92816.498975</td>\n",
       "      <td>0.000040</td>\n",
       "      <td>0.000024</td>\n",
       "      <td>0.303194</td>\n",
       "      <td>0.172140</td>\n",
       "      <td>0.001633</td>\n",
       "      <td>0.720947</td>\n",
       "      <td>85874.613359</td>\n",
       "      <td>528173.174691</td>\n",
       "    </tr>\n",
       "    <tr>\n",
       "      <th>8</th>\n",
       "      <td>0.103973</td>\n",
       "      <td>0.635573</td>\n",
       "      <td>1711.256559</td>\n",
       "      <td>92812.101557</td>\n",
       "      <td>0.000040</td>\n",
       "      <td>0.000024</td>\n",
       "      <td>0.303280</td>\n",
       "      <td>0.178240</td>\n",
       "      <td>0.001566</td>\n",
       "      <td>0.720996</td>\n",
       "      <td>85908.151572</td>\n",
       "      <td>528143.007383</td>\n",
       "    </tr>\n",
       "    <tr>\n",
       "      <th>9</th>\n",
       "      <td>0.103970</td>\n",
       "      <td>0.635573</td>\n",
       "      <td>1711.072750</td>\n",
       "      <td>92807.664617</td>\n",
       "      <td>0.000040</td>\n",
       "      <td>0.000024</td>\n",
       "      <td>0.303549</td>\n",
       "      <td>0.184747</td>\n",
       "      <td>0.001536</td>\n",
       "      <td>0.721024</td>\n",
       "      <td>85974.258421</td>\n",
       "      <td>528108.577193</td>\n",
       "    </tr>\n",
       "  </tbody>\n",
       "</table>\n",
       "</div>"
      ],
      "text/plain": [
       "      first                                         second            \\\n",
       "  or28c05_0 or28c05_1      sw_gw_0       sw_gw_1 or28c05_0 or28c05_1   \n",
       "0  0.303632  0.744522  2346.665821  93125.784926  0.000000  0.000000   \n",
       "1  0.273260  0.728780  2303.549610  93110.827506  0.000004  0.000002   \n",
       "2  0.120244  0.648132  2102.765303  93068.907674  0.000031  0.000016   \n",
       "3  0.112220  0.643836  2089.014733  93064.556546  0.000033  0.000017   \n",
       "4  0.111891  0.643685  1983.078837  92997.985538  0.000033  0.000018   \n",
       "5  0.111617  0.643552  1954.419189  92889.842807  0.000033  0.000018   \n",
       "6  0.110798  0.642345  1711.734073  92816.789339  0.000034  0.000019   \n",
       "7  0.103989  0.635574  1711.318522  92816.498975  0.000040  0.000024   \n",
       "8  0.103973  0.635573  1711.256559  92812.101557  0.000040  0.000024   \n",
       "9  0.103970  0.635573  1711.072750  92807.664617  0.000040  0.000024   \n",
       "\n",
       "                          third                                         \n",
       "    sw_gw_0   sw_gw_1 or28c05_0 or28c05_1       sw_gw_0        sw_gw_1  \n",
       "0  0.000000  0.000000  0.097391  0.711779  77287.368771  528004.087309  \n",
       "1  0.005339  0.001852  0.036958  0.706655  79803.910763  527856.831388  \n",
       "2  0.041015  0.009300  0.000324  0.728382  83589.846855  528026.436736  \n",
       "3  0.044716  0.010472  0.000641  0.725615  83277.644444  528008.469992  \n",
       "4  0.102688  0.046902  0.000790  0.724935  84472.068866  528106.372047  \n",
       "5  0.121333  0.117257  0.000761  0.725061  84344.766476  528081.019959  \n",
       "6  0.302842  0.171895  0.000994  0.723539  85827.045559  528168.889888  \n",
       "7  0.303194  0.172140  0.001633  0.720947  85874.613359  528173.174691  \n",
       "8  0.303280  0.178240  0.001566  0.720996  85908.151572  528143.007383  \n",
       "9  0.303549  0.184747  0.001536  0.721024  85974.258421  528108.577193  "
      ]
     },
     "execution_count": 13,
     "metadata": {},
     "output_type": "execute_result"
    }
   ],
   "source": [
    "errvar_df = la.get_errvar_dataframe(sing_vals)\n",
    "errvar_df.iloc[0:10]"
   ]
  },
  {
   "cell_type": "code",
   "execution_count": 14,
   "metadata": {
    "collapsed": true
   },
   "outputs": [],
   "source": [
    "#errvar_df[[(\"first\",\"sw_gw_0\"),(\"second\",\"sw_gw_0\")]].to_latex(\"sw_gw_0.tex\")\n",
    "errvar_df[[\"first\"]].to_latex(\"sw_gw_0.tex\")"
   ]
  },
  {
   "cell_type": "markdown",
   "metadata": {},
   "source": [
    "plot the error variance components for each forecast:"
   ]
  },
  {
   "cell_type": "code",
   "execution_count": 15,
   "metadata": {
    "collapsed": false
   },
   "outputs": [
    {
     "data": {
      "image/png": "[encoded data removed]",
      "text/plain": [
       "<matplotlib.figure.Figure at 0x10ab3bf90>"
      ]
     },
     "metadata": {},
     "output_type": "display_data"
    },
    {
     "data": {
      "image/png": "[encoded data removed]",
      "text/plain": [
       "<matplotlib.figure.Figure at 0x10bb0f4d0>"
      ]
     },
     "metadata": {},
     "output_type": "display_data"
    },
    {
     "data": {
      "image/png": "[encoded data removed]",
      "text/plain": [
       "<matplotlib.figure.Figure at 0x10bcb0d10>"
      ]
     },
     "metadata": {},
     "output_type": "display_data"
    },
    {
     "data": {
      "image/png": "[encoded data removed]",
      "text/plain": [
       "<matplotlib.figure.Figure at 0x10cc07bd0>"
      ]
     },
     "metadata": {},
     "output_type": "display_data"
    }
   ],
   "source": [
    "colors = {\"first\": 'g', \"second\": 'b', \"third\": 'c'}\n",
    "max_idx = 19\n",
    "idx = sing_vals[:max_idx]\n",
    "for ipred, pred in enumerate(forecasts):\n",
    "    pred = pred.lower()\n",
    "    fig = plt.figure(figsize=(10, 10))\n",
    "    ax = plt.subplot(111)\n",
    "    ax.set_title(pred)\n",
    "    first = errvar_df[(\"first\", pred)][:max_idx]\n",
    "    second = errvar_df[(\"second\", pred)][:max_idx]\n",
    "    third = errvar_df[(\"third\", pred)][:max_idx]\n",
    "    ax.bar(idx, first, width=1.0, edgecolor=\"none\", facecolor=colors[\"first\"], label=\"first\",bottom=0.0)\n",
    "    ax.bar(idx, second, width=1.0, edgecolor=\"none\", facecolor=colors[\"second\"], label=\"second\", bottom=first)\n",
    "    ax.bar(idx, third, width=1.0, edgecolor=\"none\", facecolor=colors[\"third\"], label=\"third\", bottom=second+first)\n",
    "    ax.set_xlim(-1,max_idx+1)\n",
    "    ax.set_xticks(idx+0.5)\n",
    "    ax.set_xticklabels(idx)\n",
    "    #if ipred == 2:\n",
    "    ax.set_xlabel(\"singular value\")\n",
    "    ax.set_ylabel(\"error variance\")\n",
    "    ax.legend(loc=\"upper right\")\n",
    "plt.show()"
   ]
  },
  {
   "cell_type": "markdown",
   "metadata": {},
   "source": [
    "Here we see the trade off between getting a good fit to push down the null-space (1st) term and the penalty for overfitting (the rise of the solution space (2nd) term)).  The sum of the first two terms in the \"appearent\" error variance (e.g. the uncertainty that standard analyses would yield) without considering the contribution from the omitted parameters.  You can verify this be checking prior uncertainty from the Schur's complement notebook against the zero singular value result using only terms 1 and 2.\n",
    "\n",
    "We also see the added penalty for not adjusting the well flux and recharge parameters.  For the water level at the end of the calibration period forecast (``or28c05_0``), the fact the we have left parameters out doesn't matter.  However, for sw_gw_0, the situation is much worse: not only are we greatly underestimating uncertainty by omitting parameters, worse, calibration increases the uncertainty for this forecast because the adjustable parametres are compensating for the omitted, uncertaint parameters in ways that are damanaging to the forecast.  For the forecast period sw-gw exchange (``sw_gw_1``), calibration doesn't help or hurt - this forecast depend entirely on null space parameter components.  But treating the recharge and well pumpage as \"fixed\" (omitted) results in greatly underestimated uncertainty.     \n",
    "\n",
    "Let's check the ```errvar``` results against the results from ```schur```. This is simple with ```pyemu```, we simply  cast the ```errvar``` type to a ```schur``` type:"
   ]
  },
  {
   "cell_type": "code",
   "execution_count": 16,
   "metadata": {
    "collapsed": false
   },
   "outputs": [
    {
     "name": "stdout",
     "output_type": "stream",
     "text": [
      "forecast   errvar prior   errvar min  schur prior   schur post\n",
      "or28c05_0        0.303632     0.104009     0.303632     0.104009\n",
      "or28c05_1        0.744522     0.635596     0.744522     0.635596\n",
      "sw_gw_0       2346.665821  1711.075829      2346.67  1711.075639\n",
      "sw_gw_1      93125.784926 92807.404988      93125.8 92807.404858\n"
     ]
    }
   ],
   "source": [
    "schur = la.get(astype=pyemu.Schur)\n",
    "schur_prior = schur.prior_forecast\n",
    "schur_post = schur.posterior_forecast\n",
    "print(\"{0:10s} {1:>12s} {2:>12s} {3:>12s} {4:>12s}\"\n",
    "      .format(\"forecast\",\"errvar prior\",\"errvar min\",\n",
    "              \"schur prior\", \"schur post\"))\n",
    "for ipred, pred in enumerate(forecasts):\n",
    "    first = errvar_df[(\"first\", pred)][:max_idx]\n",
    "    second = errvar_df[(\"second\", pred)][:max_idx]  \n",
    "    min_ev = np.min(first + second)\n",
    "    prior_ev = first[0] + second[0]\n",
    "    prior_sh = schur_prior[pred]\n",
    "    post_sh = schur_post[pred]\n",
    "    print(\"{0:12s} {1:12.6f} {2:12.6f} {3:12.6} {4:12.6f}\"\n",
    "          .format(pred,prior_ev,min_ev,prior_sh,post_sh))"
   ]
  },
  {
   "cell_type": "markdown",
   "metadata": {},
   "source": [
    "We see that the prior from ```schur``` class matches the two-term ```errvar``` result at zero singular values.  We also see, as expected, the posterior from ```schur``` is slightly lower than the two-term ```errvar``` result.  This shows us that the \"appearent\" uncertainty in these predictions, as found through application of Bayes equation, is being under estimated because if the ill effects of the omitted parameters."
   ]
  },
  {
   "cell_type": "code",
   "execution_count": null,
   "metadata": {
    "collapsed": true
   },
   "outputs": [],
   "source": []
  }
 ],
 "metadata": {
  "kernelspec": {
   "display_name": "Python 2",
   "language": "python",
   "name": "python2"
  },
  "language_info": {
   "codemirror_mode": {
    "name": "ipython",
    "version": 2
   },
   "file_extension": ".py",
   "mimetype": "text/x-python",
   "name": "python",
   "nbconvert_exporter": "python",
   "pygments_lexer": "ipython2",
   "version": "2.7.11"
  }
 },
 "nbformat": 4,
 "nbformat_minor": 0
}
