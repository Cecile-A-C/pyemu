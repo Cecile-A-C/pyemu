{
 "cells": [
  {
   "cell_type": "code",
   "execution_count": 1,
   "metadata": {
    "collapsed": true
   },
   "outputs": [],
   "source": [
    "%matplotlib inline\n",
    "from __future__ import print_function\n",
    "import os\n",
    "import numpy as np\n",
    "import pandas as pd\n",
    "from matplotlib.patches import Rectangle as rect\n",
    "import matplotlib.pyplot as plt\n",
    "import warnings\n",
    "warnings.filterwarnings(\"ignore\", \n",
    "    message=\"ModflowDis.sr is deprecated. use Modflow.sr\")\n",
    "from mpl_toolkits.axes_grid1 import make_axes_locatable\n",
    "import matplotlib as mpl"
   ]
  },
  {
   "cell_type": "markdown",
   "metadata": {},
   "source": [
    "## Model background\n",
    "Here is an example based on the model of Freyberg, 1988.  The synthetic model is a 2-dimensional MODFLOW model with 1 layer,  40 rows, and 20 columns.  The model has 2 stress periods: an initial steady-state stress period used for calibration, and a 5-year transient stress period.  The calibration period uses the recharge and well flux of Freyberg, 1988; the last stress period use 25% less recharge and 25% more pumping.\n",
    "\n",
    "The inverse problem has 761 parameters: hydraulic conductivity of each active model cell, calibration and forecast period recharge multipliers, storage and specific yield, calibration and forecast well flux for each of the six wells, and river bed conductance for each 40 cells with river-type boundary conditions.  The inverse problem has 12 head obseravtions, measured at the end of the steady-state calibration period.  The forecasts of interest include the sw-gw exchange flux during both stress periods (observations named ```sw_gw_0``` and ``sw_gw_1``), and the water level in well cell 6 located in at row 28 column 5 at the end of the stress periods (observations named ```or28c05_0``` and ```or28c05_1```).  The forecasts are included in the Jacobian matrix as zero-weight observations. The model files, pest control file and previously-calculated jacobian matrix are in the `freyberg/` folder\n",
    "\n",
    "\n",
    "Freyberg, David L. \"AN EXERCISE IN GROUND‐WATER MODEL CALIBRATION AND PREDICTION.\" Groundwater 26.3 (1988): 350-360."
   ]
  },
  {
   "cell_type": "code",
   "execution_count": 2,
   "metadata": {
    "collapsed": false
   },
   "outputs": [
    {
     "data": {
      "image/png": "[encoded data removed]",
      "text/plain": [
       "<matplotlib.figure.Figure at 0x116573518>"
      ]
     },
     "metadata": {},
     "output_type": "display_data"
    }
   ],
   "source": [
    "import flopy\n",
    "\n",
    "# load the model\n",
    "model_ws = os.path.join(\"Freyberg\",\"extra_crispy\")\n",
    "ml = flopy.modflow.Modflow.load(\"freyberg.nam\",model_ws=model_ws)\n",
    "\n",
    "# plot some model attributes\n",
    "fig = plt.figure(figsize=(6,6))\n",
    "ax = plt.subplot(111,aspect=\"equal\")\n",
    "ml.upw.hk.plot(axes=[ax],colorbar=\"K m/d\",alpha=0.3)\n",
    "ml.wel.stress_period_data.plot(axes=[ax])\n",
    "ml.riv.stress_period_data.plot(axes=[ax])\n",
    "\n",
    "# plot obs locations\n",
    "obs = pd.read_csv(os.path.join(\"freyberg\",\"misc\",\"obs_rowcol.dat\"),\n",
    "                  delim_whitespace=True)\n",
    "obs_x = [ml.sr.xcentergrid[r-1,c-1] for r,c in obs.loc[:,[\"row\",\"col\"]].values]\n",
    "obs_y = [ml.sr.ycentergrid[r-1,c-1] for r,c in obs.loc[:,[\"row\",\"col\"]].values]\n",
    "ax.scatter(obs_x,obs_y,marker='.',label=\"obs\")\n",
    "\n",
    "#plot names on the pumping well locations\n",
    "wel_data = ml.wel.stress_period_data[0]\n",
    "wel_x = ml.sr.xcentergrid[wel_data[\"i\"],wel_data[\"j\"]]\n",
    "wel_y = ml.sr.ycentergrid[wel_data[\"i\"],wel_data[\"j\"]]\n",
    "for i,(x,y) in enumerate(zip(wel_x,wel_y)):\n",
    "    ax.text(x,y,\"{0}\".format(i+1),ha=\"center\",va=\"center\")\n",
    "\n",
    "ax.set_ylabel(\"y\")\n",
    "ax.set_xlabel(\"x\")\n",
    "\n",
    "ax.add_patch(rect((0,0),0,0,label=\"well\",ec=\"none\",fc=\"r\"))\n",
    "ax.add_patch(rect((0,0),0,0,label=\"river\",ec=\"none\",fc=\"g\"))\n",
    "\n",
    "ax.legend(bbox_to_anchor=(1.5,1.0),frameon=False)\n",
    "plt.savefig(\"domain.pdf\")"
   ]
  },
  {
   "cell_type": "markdown",
   "metadata": {},
   "source": [
    "## Using `pyemu`"
   ]
  },
  {
   "cell_type": "code",
   "execution_count": 3,
   "metadata": {
    "collapsed": true
   },
   "outputs": [],
   "source": [
    "import pyemu"
   ]
  },
  {
   "cell_type": "markdown",
   "metadata": {},
   "source": [
    "First create a linear_analysis object.  We will use `ErrVar`  derived type, which replicates the behavior of the `PREDVAR` suite of PEST as well as `ident_par` utility.  We pass it the name of the jacobian matrix file.  Since we don't pass an explicit argument for `parcov` or `obscov`, `pyemu` attempts to build them from the parameter bounds and observation weights in a pest control file (.pst) with the same base case name as the jacobian.  Since we are interested in forecast uncertainty as well as parameter uncertainty, we also pass the names of the forecast sensitivity vectors we are interested in, which are stored in the jacobian as well.  Note that the `forecasts` argument can be a mixed list of observation names, other jacobian files or PEST-compatible ASCII matrix files.  Remember you can pass a filename to the `verbose` argument to write log file.\n",
    "\n",
    "Since most groundwater model history-matching analyses focus on adjusting hetergeneous hydraulic properties and not boundary condition elements, let's identify the well flux and recharge parameters as `omitted` in the error variance analysis.  We can conceptually think of this action as excluding these parameters from the history-matching process. Later we will explicitly calculate the penalty for not adjusting these parameters."
   ]
  },
  {
   "cell_type": "code",
   "execution_count": 4,
   "metadata": {
    "collapsed": false
   },
   "outputs": [
    {
     "name": "stdout",
     "output_type": "stream",
     "text": [
      "observations, parameters found in jacobian: (704, 747)\n"
     ]
    }
   ],
   "source": [
    "# get the list of forecast names from the pest++ argument\n",
    "# in the pest control file\n",
    "jco = os.path.join(\"freyberg\",\"freyberg.jcb\")\n",
    "pst = pyemu.Pst(jco.replace(\"jcb\",\"pst\"))\n",
    "omitted = [pname for pname in pst.par_names if \\\n",
    "           pname.startswith(\"wf\") or pname.startswith(\"rch\")]\n",
    "forecasts = pst.pestpp_options[\"forecasts\"].split(',')\n",
    "la = pyemu.ErrVar(jco=jco,verbose=\"errvar_freyberg.log\",\n",
    "                  omitted_parameters=omitted)\n",
    "print(\"observations, parameters found in jacobian:\",la.jco.shape)"
   ]
  },
  {
   "cell_type": "markdown",
   "metadata": {},
   "source": [
    "# Parameter identifiability\n",
    "The `errvar` dervied type exposes a method to get a `pandas` dataframe of parameter identifiability information.  Recall that parameter identifiability is expressed as $d_i = \\Sigma(\\mathbf{V}_{1i})^2$, where $d_i$ is the parameter identifiability, which ranges from 0 (not identified by the data) to 1 (full identified by the data), and $\\mathbf{V}_1$ are the right singular vectors corresonding to non-(numerically) zero singular values.  First let's look at the singular spectrum of $\\mathbf{Q}^{\\frac{1}{2}}\\mathbf{J}$, where $\\mathbf{Q}$ is the cofactor matrix and $\\mathbf{J}$ is the jacobian:"
   ]
  },
  {
   "cell_type": "code",
   "execution_count": 5,
   "metadata": {
    "collapsed": false
   },
   "outputs": [],
   "source": [
    "s = la.qhalfx.s"
   ]
  },
  {
   "cell_type": "code",
   "execution_count": 6,
   "metadata": {
    "collapsed": false
   },
   "outputs": [
    {
     "data": {
      "image/png": "[encoded data removed]",
      "text/plain": [
       "<matplotlib.figure.Figure at 0x11a3d6c88>"
      ]
     },
     "metadata": {},
     "output_type": "display_data"
    }
   ],
   "source": [
    "import pylab as plt\n",
    "figure = plt.figure(figsize=(10, 5))\n",
    "ax = plt.subplot(111)\n",
    "ax.plot(s.x)\n",
    "ax.set_title(\"singular spectrum\")\n",
    "ax.set_ylabel(\"power\")\n",
    "ax.set_xlabel(\"singular value\")\n",
    "ax.set_xlim(0,20)\n",
    "plt.show()"
   ]
  },
  {
   "cell_type": "markdown",
   "metadata": {},
   "source": [
    "We see that the singluar spectrum decays rapidly (not uncommon) and that we can really only support about 12 right singular vectors even though we have 700+ parameters in the inverse problem.  \n",
    "\n",
    "Let's get the identifiability dataframe at 12 singular vectors:"
   ]
  },
  {
   "cell_type": "code",
   "execution_count": 7,
   "metadata": {
    "collapsed": false
   },
   "outputs": [
    {
     "name": "stderr",
     "output_type": "stream",
     "text": [
      "/Users/jwhite/anaconda/lib/python3.5/site-packages/ipykernel/__main__.py:3: FutureWarning: sort(columns=....) is deprecated, use sort_values(by=.....)\n",
      "  app.launch_new_instance()\n"
     ]
    },
    {
     "data": {
      "text/html": [
       "<div>\n",
       "<table border=\"1\" class=\"dataframe\">\n",
       "  <thead>\n",
       "    <tr style=\"text-align: right;\">\n",
       "      <th></th>\n",
       "      <th>right_sing_vec_1</th>\n",
       "      <th>right_sing_vec_2</th>\n",
       "      <th>right_sing_vec_3</th>\n",
       "      <th>right_sing_vec_4</th>\n",
       "      <th>right_sing_vec_5</th>\n",
       "      <th>right_sing_vec_6</th>\n",
       "      <th>right_sing_vec_7</th>\n",
       "      <th>right_sing_vec_8</th>\n",
       "      <th>right_sing_vec_9</th>\n",
       "      <th>right_sing_vec_10</th>\n",
       "      <th>right_sing_vec_11</th>\n",
       "      <th>right_sing_vec_12</th>\n",
       "      <th>ident</th>\n",
       "    </tr>\n",
       "  </thead>\n",
       "  <tbody>\n",
       "    <tr>\n",
       "      <th>hkr30c15</th>\n",
       "      <td>3.166611e-07</td>\n",
       "      <td>8.174517e-06</td>\n",
       "      <td>1.148832e-04</td>\n",
       "      <td>3.791305e-06</td>\n",
       "      <td>4.162027e-04</td>\n",
       "      <td>2.920211e-05</td>\n",
       "      <td>0.000312</td>\n",
       "      <td>0.157966</td>\n",
       "      <td>1.535600e-04</td>\n",
       "      <td>0.143130</td>\n",
       "      <td>1.370435e-02</td>\n",
       "      <td>1.826393e-04</td>\n",
       "      <td>0.316021</td>\n",
       "    </tr>\n",
       "    <tr>\n",
       "      <th>hkr03c11</th>\n",
       "      <td>7.387509e-02</td>\n",
       "      <td>5.384317e-03</td>\n",
       "      <td>1.563092e-05</td>\n",
       "      <td>3.263432e-06</td>\n",
       "      <td>6.993039e-08</td>\n",
       "      <td>3.858914e-07</td>\n",
       "      <td>0.000271</td>\n",
       "      <td>0.000016</td>\n",
       "      <td>1.864741e-01</td>\n",
       "      <td>0.000087</td>\n",
       "      <td>4.355656e-05</td>\n",
       "      <td>7.427537e-04</td>\n",
       "      <td>0.266914</td>\n",
       "    </tr>\n",
       "    <tr>\n",
       "      <th>hkr34c09</th>\n",
       "      <td>5.380664e-04</td>\n",
       "      <td>1.044749e-02</td>\n",
       "      <td>7.571905e-02</td>\n",
       "      <td>1.288416e-01</td>\n",
       "      <td>2.271382e-02</td>\n",
       "      <td>1.716731e-02</td>\n",
       "      <td>0.000011</td>\n",
       "      <td>0.000034</td>\n",
       "      <td>1.173230e-05</td>\n",
       "      <td>0.000035</td>\n",
       "      <td>3.578772e-06</td>\n",
       "      <td>5.461963e-08</td>\n",
       "      <td>0.255523</td>\n",
       "    </tr>\n",
       "    <tr>\n",
       "      <th>hkr04c10</th>\n",
       "      <td>9.252799e-02</td>\n",
       "      <td>6.727379e-03</td>\n",
       "      <td>3.528366e-06</td>\n",
       "      <td>1.999631e-05</td>\n",
       "      <td>3.425899e-08</td>\n",
       "      <td>9.396064e-05</td>\n",
       "      <td>0.002246</td>\n",
       "      <td>0.000055</td>\n",
       "      <td>1.461497e-01</td>\n",
       "      <td>0.000042</td>\n",
       "      <td>7.540809e-06</td>\n",
       "      <td>2.142541e-05</td>\n",
       "      <td>0.247895</td>\n",
       "    </tr>\n",
       "    <tr>\n",
       "      <th>hkr22c12</th>\n",
       "      <td>6.136991e-04</td>\n",
       "      <td>8.347154e-03</td>\n",
       "      <td>2.617500e-02</td>\n",
       "      <td>8.158107e-02</td>\n",
       "      <td>1.095896e-03</td>\n",
       "      <td>7.830010e-02</td>\n",
       "      <td>0.025063</td>\n",
       "      <td>0.001078</td>\n",
       "      <td>3.596556e-05</td>\n",
       "      <td>0.000249</td>\n",
       "      <td>7.852045e-04</td>\n",
       "      <td>3.020249e-05</td>\n",
       "      <td>0.223355</td>\n",
       "    </tr>\n",
       "    <tr>\n",
       "      <th>hkr25c06</th>\n",
       "      <td>3.501033e-03</td>\n",
       "      <td>4.065834e-02</td>\n",
       "      <td>1.051907e-01</td>\n",
       "      <td>1.348417e-02</td>\n",
       "      <td>1.663367e-03</td>\n",
       "      <td>5.145010e-02</td>\n",
       "      <td>0.000154</td>\n",
       "      <td>0.000003</td>\n",
       "      <td>6.804377e-07</td>\n",
       "      <td>0.000003</td>\n",
       "      <td>5.383279e-07</td>\n",
       "      <td>2.857959e-07</td>\n",
       "      <td>0.216109</td>\n",
       "    </tr>\n",
       "    <tr>\n",
       "      <th>hkr35c12</th>\n",
       "      <td>1.166314e-04</td>\n",
       "      <td>1.810491e-03</td>\n",
       "      <td>7.863807e-03</td>\n",
       "      <td>5.822837e-04</td>\n",
       "      <td>1.944518e-01</td>\n",
       "      <td>6.399520e-05</td>\n",
       "      <td>0.000070</td>\n",
       "      <td>0.001227</td>\n",
       "      <td>1.274995e-06</td>\n",
       "      <td>0.000594</td>\n",
       "      <td>3.588170e-05</td>\n",
       "      <td>7.194233e-07</td>\n",
       "      <td>0.206818</td>\n",
       "    </tr>\n",
       "    <tr>\n",
       "      <th>hkr35c10</th>\n",
       "      <td>5.282756e-05</td>\n",
       "      <td>1.142425e-03</td>\n",
       "      <td>3.813508e-03</td>\n",
       "      <td>1.922685e-02</td>\n",
       "      <td>1.592644e-01</td>\n",
       "      <td>3.109583e-03</td>\n",
       "      <td>0.000002</td>\n",
       "      <td>0.000500</td>\n",
       "      <td>7.066986e-07</td>\n",
       "      <td>0.000237</td>\n",
       "      <td>1.074445e-05</td>\n",
       "      <td>1.681440e-07</td>\n",
       "      <td>0.187360</td>\n",
       "    </tr>\n",
       "    <tr>\n",
       "      <th>hkr04c16</th>\n",
       "      <td>3.617223e-07</td>\n",
       "      <td>3.615686e-08</td>\n",
       "      <td>3.591207e-09</td>\n",
       "      <td>1.975753e-08</td>\n",
       "      <td>2.155676e-09</td>\n",
       "      <td>1.393513e-07</td>\n",
       "      <td>0.000007</td>\n",
       "      <td>0.000047</td>\n",
       "      <td>7.701659e-05</td>\n",
       "      <td>0.000596</td>\n",
       "      <td>1.033084e-02</td>\n",
       "      <td>1.672193e-01</td>\n",
       "      <td>0.178277</td>\n",
       "    </tr>\n",
       "    <tr>\n",
       "      <th>hkr03c15</th>\n",
       "      <td>3.636806e-07</td>\n",
       "      <td>3.436517e-08</td>\n",
       "      <td>7.657491e-09</td>\n",
       "      <td>3.963778e-08</td>\n",
       "      <td>1.963746e-09</td>\n",
       "      <td>2.168016e-07</td>\n",
       "      <td>0.000009</td>\n",
       "      <td>0.000068</td>\n",
       "      <td>7.551133e-05</td>\n",
       "      <td>0.000747</td>\n",
       "      <td>1.121278e-02</td>\n",
       "      <td>1.657984e-01</td>\n",
       "      <td>0.177912</td>\n",
       "    </tr>\n",
       "  </tbody>\n",
       "</table>\n",
       "</div>"
      ],
      "text/plain": [
       "          right_sing_vec_1  right_sing_vec_2  right_sing_vec_3  \\\n",
       "hkr30c15      3.166611e-07      8.174517e-06      1.148832e-04   \n",
       "hkr03c11      7.387509e-02      5.384317e-03      1.563092e-05   \n",
       "hkr34c09      5.380664e-04      1.044749e-02      7.571905e-02   \n",
       "hkr04c10      9.252799e-02      6.727379e-03      3.528366e-06   \n",
       "hkr22c12      6.136991e-04      8.347154e-03      2.617500e-02   \n",
       "hkr25c06      3.501033e-03      4.065834e-02      1.051907e-01   \n",
       "hkr35c12      1.166314e-04      1.810491e-03      7.863807e-03   \n",
       "hkr35c10      5.282756e-05      1.142425e-03      3.813508e-03   \n",
       "hkr04c16      3.617223e-07      3.615686e-08      3.591207e-09   \n",
       "hkr03c15      3.636806e-07      3.436517e-08      7.657491e-09   \n",
       "\n",
       "          right_sing_vec_4  right_sing_vec_5  right_sing_vec_6  \\\n",
       "hkr30c15      3.791305e-06      4.162027e-04      2.920211e-05   \n",
       "hkr03c11      3.263432e-06      6.993039e-08      3.858914e-07   \n",
       "hkr34c09      1.288416e-01      2.271382e-02      1.716731e-02   \n",
       "hkr04c10      1.999631e-05      3.425899e-08      9.396064e-05   \n",
       "hkr22c12      8.158107e-02      1.095896e-03      7.830010e-02   \n",
       "hkr25c06      1.348417e-02      1.663367e-03      5.145010e-02   \n",
       "hkr35c12      5.822837e-04      1.944518e-01      6.399520e-05   \n",
       "hkr35c10      1.922685e-02      1.592644e-01      3.109583e-03   \n",
       "hkr04c16      1.975753e-08      2.155676e-09      1.393513e-07   \n",
       "hkr03c15      3.963778e-08      1.963746e-09      2.168016e-07   \n",
       "\n",
       "          right_sing_vec_7  right_sing_vec_8  right_sing_vec_9  \\\n",
       "hkr30c15          0.000312          0.157966      1.535600e-04   \n",
       "hkr03c11          0.000271          0.000016      1.864741e-01   \n",
       "hkr34c09          0.000011          0.000034      1.173230e-05   \n",
       "hkr04c10          0.002246          0.000055      1.461497e-01   \n",
       "hkr22c12          0.025063          0.001078      3.596556e-05   \n",
       "hkr25c06          0.000154          0.000003      6.804377e-07   \n",
       "hkr35c12          0.000070          0.001227      1.274995e-06   \n",
       "hkr35c10          0.000002          0.000500      7.066986e-07   \n",
       "hkr04c16          0.000007          0.000047      7.701659e-05   \n",
       "hkr03c15          0.000009          0.000068      7.551133e-05   \n",
       "\n",
       "          right_sing_vec_10  right_sing_vec_11  right_sing_vec_12     ident  \n",
       "hkr30c15           0.143130       1.370435e-02       1.826393e-04  0.316021  \n",
       "hkr03c11           0.000087       4.355656e-05       7.427537e-04  0.266914  \n",
       "hkr34c09           0.000035       3.578772e-06       5.461963e-08  0.255523  \n",
       "hkr04c10           0.000042       7.540809e-06       2.142541e-05  0.247895  \n",
       "hkr22c12           0.000249       7.852045e-04       3.020249e-05  0.223355  \n",
       "hkr25c06           0.000003       5.383279e-07       2.857959e-07  0.216109  \n",
       "hkr35c12           0.000594       3.588170e-05       7.194233e-07  0.206818  \n",
       "hkr35c10           0.000237       1.074445e-05       1.681440e-07  0.187360  \n",
       "hkr04c16           0.000596       1.033084e-02       1.672193e-01  0.178277  \n",
       "hkr03c15           0.000747       1.121278e-02       1.657984e-01  0.177912  "
      ]
     },
     "execution_count": 7,
     "metadata": {},
     "output_type": "execute_result"
    }
   ],
   "source": [
    "# the method is passed the number of singular vectors to include in V_1\n",
    "ident_df = la.get_identifiability_dataframe(12) \n",
    "ident_df.sort(\"ident\",ascending=False).iloc[0:10]"
   ]
  },
  {
   "cell_type": "markdown",
   "metadata": {},
   "source": [
    "Plot the indentifiability:"
   ]
  },
  {
   "cell_type": "code",
   "execution_count": 8,
   "metadata": {
    "collapsed": false
   },
   "outputs": [
    {
     "name": "stderr",
     "output_type": "stream",
     "text": [
      "/Users/jwhite/anaconda/lib/python3.5/site-packages/ipykernel/__main__.py:1: FutureWarning: sort(columns=....) is deprecated, use sort_values(by=.....)\n",
      "  if __name__ == '__main__':\n"
     ]
    },
    {
     "data": {
      "text/plain": [
       "<matplotlib.text.Text at 0x11a43deb8>"
      ]
     },
     "execution_count": 8,
     "metadata": {},
     "output_type": "execute_result"
    },
    {
     "data": {
      "image/png": "[encoded data removed]",
      "text/plain": [
       "<matplotlib.figure.Figure at 0x118f94278>"
      ]
     },
     "metadata": {},
     "output_type": "display_data"
    }
   ],
   "source": [
    "ax = ident_df.sort(\"ident\",ascending=False).iloc[0:20].\\\n",
    "     loc[:,\"ident\"].plot(kind=\"bar\",figsize=(10,10))\n",
    "ax.set_ylabel(\"identifiability\")"
   ]
  },
  {
   "cell_type": "markdown",
   "metadata": {},
   "source": [
    "# Forecast error variance \n",
    "\n",
    "Now let's explore the error variance of the forecasts we are interested in.  We will use an extended version of the forecast error variance equation:   \n",
    "\n",
    "$\\sigma_{s - \\hat{s}}^2 = \\underbrace{\\textbf{y}_i^T({\\bf{I}} - {\\textbf{R}})\\boldsymbol{\\Sigma}_{{\\boldsymbol{\\theta}}_i}({\\textbf{I}} - {\\textbf{R}})^T\\textbf{y}_i}_{1} + \\underbrace{{\\textbf{y}}_i^T{\\bf{G}}\\boldsymbol{\\Sigma}_{\\mathbf{\\epsilon}}{\\textbf{G}}^T{\\textbf{y}}_i}_{2} + \\underbrace{{\\bf{p}}\\boldsymbol{\\Sigma}_{{\\boldsymbol{\\theta}}_o}{\\bf{p}}^T}_{3}$\n",
    "\n",
    "Where term 1 is the null-space contribution, term 2 is the solution space contribution and term 3 is the model error term (the penalty for not adjusting uncertain parameters).  Remember the well flux and recharge parameters that we marked as omitted?  The consequences of that action can now be explicitly evaluated.  See Moore and Doherty (2005) and White and other (2014) for more explanation of these terms.  Note that if you don't have any `omitted_parameters`, the only terms 1 and 2 contribute to error variance\n",
    "\n",
    "First we need to create a list (or numpy ndarray) of the singular values we want to test.  Since we have 12 data, we only need to test up to $13$ singular values because that is where the action is:"
   ]
  },
  {
   "cell_type": "code",
   "execution_count": 9,
   "metadata": {
    "collapsed": true
   },
   "outputs": [],
   "source": [
    "sing_vals = np.arange(13)"
   ]
  },
  {
   "cell_type": "markdown",
   "metadata": {},
   "source": [
    "The `ErrVar` derived type exposes a method to get a multi-index pandas dataframe with each of the terms of the error variance equation:"
   ]
  },
  {
   "cell_type": "code",
   "execution_count": 10,
   "metadata": {
    "collapsed": false
   },
   "outputs": [
    {
     "data": {
      "text/html": [
       "<div>\n",
       "<table border=\"1\" class=\"dataframe\">\n",
       "  <thead>\n",
       "    <tr>\n",
       "      <th></th>\n",
       "      <th colspan=\"4\" halign=\"left\">first</th>\n",
       "      <th colspan=\"4\" halign=\"left\">second</th>\n",
       "      <th colspan=\"4\" halign=\"left\">third</th>\n",
       "    </tr>\n",
       "    <tr>\n",
       "      <th></th>\n",
       "      <th>or28c05_0</th>\n",
       "      <th>or28c05_1</th>\n",
       "      <th>sw_gw_0</th>\n",
       "      <th>sw_gw_1</th>\n",
       "      <th>or28c05_0</th>\n",
       "      <th>or28c05_1</th>\n",
       "      <th>sw_gw_0</th>\n",
       "      <th>sw_gw_1</th>\n",
       "      <th>or28c05_0</th>\n",
       "      <th>or28c05_1</th>\n",
       "      <th>sw_gw_0</th>\n",
       "      <th>sw_gw_1</th>\n",
       "    </tr>\n",
       "  </thead>\n",
       "  <tbody>\n",
       "    <tr>\n",
       "      <th>0</th>\n",
       "      <td>0.303632</td>\n",
       "      <td>0.744522</td>\n",
       "      <td>2346.665821</td>\n",
       "      <td>93125.784926</td>\n",
       "      <td>0.000000</td>\n",
       "      <td>0.000000</td>\n",
       "      <td>0.000000</td>\n",
       "      <td>0.000000</td>\n",
       "      <td>0.097391</td>\n",
       "      <td>0.028892</td>\n",
       "      <td>77287.368771</td>\n",
       "      <td>18422.570689</td>\n",
       "    </tr>\n",
       "    <tr>\n",
       "      <th>1</th>\n",
       "      <td>0.286190</td>\n",
       "      <td>0.735479</td>\n",
       "      <td>2320.763341</td>\n",
       "      <td>93111.468642</td>\n",
       "      <td>0.000003</td>\n",
       "      <td>0.000001</td>\n",
       "      <td>0.003789</td>\n",
       "      <td>0.002094</td>\n",
       "      <td>0.060875</td>\n",
       "      <td>0.024235</td>\n",
       "      <td>78685.159995</td>\n",
       "      <td>18317.519593</td>\n",
       "    </tr>\n",
       "    <tr>\n",
       "      <th>2</th>\n",
       "      <td>0.112759</td>\n",
       "      <td>0.644095</td>\n",
       "      <td>2091.267000</td>\n",
       "      <td>93072.383387</td>\n",
       "      <td>0.000034</td>\n",
       "      <td>0.000018</td>\n",
       "      <td>0.044894</td>\n",
       "      <td>0.009095</td>\n",
       "      <td>0.001243</td>\n",
       "      <td>0.040499</td>\n",
       "      <td>83074.013715</td>\n",
       "      <td>18501.598821</td>\n",
       "    </tr>\n",
       "    <tr>\n",
       "      <th>3</th>\n",
       "      <td>0.112481</td>\n",
       "      <td>0.643973</td>\n",
       "      <td>1988.328320</td>\n",
       "      <td>93005.539544</td>\n",
       "      <td>0.000034</td>\n",
       "      <td>0.000018</td>\n",
       "      <td>0.100812</td>\n",
       "      <td>0.045405</td>\n",
       "      <td>0.001409</td>\n",
       "      <td>0.040046</td>\n",
       "      <td>83991.198667</td>\n",
       "      <td>18580.773147</td>\n",
       "    </tr>\n",
       "    <tr>\n",
       "      <th>4</th>\n",
       "      <td>0.112188</td>\n",
       "      <td>0.643828</td>\n",
       "      <td>1956.305907</td>\n",
       "      <td>92895.692286</td>\n",
       "      <td>0.000034</td>\n",
       "      <td>0.000018</td>\n",
       "      <td>0.121600</td>\n",
       "      <td>0.116718</td>\n",
       "      <td>0.001395</td>\n",
       "      <td>0.040083</td>\n",
       "      <td>83948.186043</td>\n",
       "      <td>18572.818586</td>\n",
       "    </tr>\n",
       "    <tr>\n",
       "      <th>5</th>\n",
       "      <td>0.111377</td>\n",
       "      <td>0.642628</td>\n",
       "      <td>1713.097707</td>\n",
       "      <td>92823.789675</td>\n",
       "      <td>0.000035</td>\n",
       "      <td>0.000019</td>\n",
       "      <td>0.303456</td>\n",
       "      <td>0.170482</td>\n",
       "      <td>0.001749</td>\n",
       "      <td>0.038579</td>\n",
       "      <td>85506.951644</td>\n",
       "      <td>18668.036457</td>\n",
       "    </tr>\n",
       "    <tr>\n",
       "      <th>6</th>\n",
       "      <td>0.104556</td>\n",
       "      <td>0.635848</td>\n",
       "      <td>1712.675425</td>\n",
       "      <td>92823.463404</td>\n",
       "      <td>0.000040</td>\n",
       "      <td>0.000024</td>\n",
       "      <td>0.303812</td>\n",
       "      <td>0.170757</td>\n",
       "      <td>0.002600</td>\n",
       "      <td>0.036227</td>\n",
       "      <td>85553.358127</td>\n",
       "      <td>18672.613994</td>\n",
       "    </tr>\n",
       "    <tr>\n",
       "      <th>7</th>\n",
       "      <td>0.104542</td>\n",
       "      <td>0.635847</td>\n",
       "      <td>1712.623036</td>\n",
       "      <td>92819.347027</td>\n",
       "      <td>0.000040</td>\n",
       "      <td>0.000024</td>\n",
       "      <td>0.303885</td>\n",
       "      <td>0.176465</td>\n",
       "      <td>0.002523</td>\n",
       "      <td>0.036261</td>\n",
       "      <td>85582.579244</td>\n",
       "      <td>18643.796811</td>\n",
       "    </tr>\n",
       "    <tr>\n",
       "      <th>8</th>\n",
       "      <td>0.104540</td>\n",
       "      <td>0.635847</td>\n",
       "      <td>1712.436907</td>\n",
       "      <td>92814.867720</td>\n",
       "      <td>0.000040</td>\n",
       "      <td>0.000024</td>\n",
       "      <td>0.304158</td>\n",
       "      <td>0.183033</td>\n",
       "      <td>0.002482</td>\n",
       "      <td>0.036289</td>\n",
       "      <td>85649.379181</td>\n",
       "      <td>18607.521865</td>\n",
       "    </tr>\n",
       "    <tr>\n",
       "      <th>9</th>\n",
       "      <td>0.104540</td>\n",
       "      <td>0.635847</td>\n",
       "      <td>1712.427939</td>\n",
       "      <td>92814.858862</td>\n",
       "      <td>0.000040</td>\n",
       "      <td>0.000024</td>\n",
       "      <td>0.304174</td>\n",
       "      <td>0.183049</td>\n",
       "      <td>0.002481</td>\n",
       "      <td>0.036284</td>\n",
       "      <td>85652.894796</td>\n",
       "      <td>18607.904214</td>\n",
       "    </tr>\n",
       "  </tbody>\n",
       "</table>\n",
       "</div>"
      ],
      "text/plain": [
       "      first                                         second            \\\n",
       "  or28c05_0 or28c05_1      sw_gw_0       sw_gw_1 or28c05_0 or28c05_1   \n",
       "0  0.303632  0.744522  2346.665821  93125.784926  0.000000  0.000000   \n",
       "1  0.286190  0.735479  2320.763341  93111.468642  0.000003  0.000001   \n",
       "2  0.112759  0.644095  2091.267000  93072.383387  0.000034  0.000018   \n",
       "3  0.112481  0.643973  1988.328320  93005.539544  0.000034  0.000018   \n",
       "4  0.112188  0.643828  1956.305907  92895.692286  0.000034  0.000018   \n",
       "5  0.111377  0.642628  1713.097707  92823.789675  0.000035  0.000019   \n",
       "6  0.104556  0.635848  1712.675425  92823.463404  0.000040  0.000024   \n",
       "7  0.104542  0.635847  1712.623036  92819.347027  0.000040  0.000024   \n",
       "8  0.104540  0.635847  1712.436907  92814.867720  0.000040  0.000024   \n",
       "9  0.104540  0.635847  1712.427939  92814.858862  0.000040  0.000024   \n",
       "\n",
       "                          third                                        \n",
       "    sw_gw_0   sw_gw_1 or28c05_0 or28c05_1       sw_gw_0       sw_gw_1  \n",
       "0  0.000000  0.000000  0.097391  0.028892  77287.368771  18422.570689  \n",
       "1  0.003789  0.002094  0.060875  0.024235  78685.159995  18317.519593  \n",
       "2  0.044894  0.009095  0.001243  0.040499  83074.013715  18501.598821  \n",
       "3  0.100812  0.045405  0.001409  0.040046  83991.198667  18580.773147  \n",
       "4  0.121600  0.116718  0.001395  0.040083  83948.186043  18572.818586  \n",
       "5  0.303456  0.170482  0.001749  0.038579  85506.951644  18668.036457  \n",
       "6  0.303812  0.170757  0.002600  0.036227  85553.358127  18672.613994  \n",
       "7  0.303885  0.176465  0.002523  0.036261  85582.579244  18643.796811  \n",
       "8  0.304158  0.183033  0.002482  0.036289  85649.379181  18607.521865  \n",
       "9  0.304174  0.183049  0.002481  0.036284  85652.894796  18607.904214  "
      ]
     },
     "execution_count": 10,
     "metadata": {},
     "output_type": "execute_result"
    }
   ],
   "source": [
    "errvar_df = la.get_errvar_dataframe(sing_vals)\n",
    "errvar_df.iloc[0:10]"
   ]
  },
  {
   "cell_type": "code",
   "execution_count": 11,
   "metadata": {
    "collapsed": true
   },
   "outputs": [],
   "source": [
    "errvar_df[[\"first\"]].to_latex(\"sw_gw_0.tex\")"
   ]
  },
  {
   "cell_type": "markdown",
   "metadata": {},
   "source": [
    "plot the error variance components for each forecast:"
   ]
  },
  {
   "cell_type": "code",
   "execution_count": 12,
   "metadata": {
    "collapsed": false,
    "scrolled": false
   },
   "outputs": [
    {
     "data": {
      "image/png": "[encoded data removed]",
      "text/plain": [
       "<matplotlib.figure.Figure at 0x11a95d630>"
      ]
     },
     "metadata": {},
     "output_type": "display_data"
    },
    {
     "data": {
      "image/png": "[encoded data removed]",
      "text/plain": [
       "<matplotlib.figure.Figure at 0x11afc75c0>"
      ]
     },
     "metadata": {},
     "output_type": "display_data"
    },
    {
     "data": {
      "image/png": "[encoded data removed]",
      "text/plain": [
       "<matplotlib.figure.Figure at 0x123203d68>"
      ]
     },
     "metadata": {},
     "output_type": "display_data"
    },
    {
     "data": {
      "image/png": "[encoded data removed]",
      "text/plain": [
       "<matplotlib.figure.Figure at 0x1232e2a58>"
      ]
     },
     "metadata": {},
     "output_type": "display_data"
    }
   ],
   "source": [
    "colors = {\"first\": 'g', \"second\": 'b', \"third\": 'c'}\n",
    "max_idx = 19\n",
    "idx = sing_vals[:max_idx]\n",
    "for ipred, pred in enumerate(forecasts):\n",
    "    pred = pred.lower()\n",
    "    fig = plt.figure(figsize=(10, 10))\n",
    "    ax = plt.subplot(111)\n",
    "    ax.set_title(pred)\n",
    "    first = errvar_df[(\"first\", pred)][:max_idx]\n",
    "    second = errvar_df[(\"second\", pred)][:max_idx]\n",
    "    third = errvar_df[(\"third\", pred)][:max_idx]\n",
    "    ax.bar(idx, first, width=1.0, edgecolor=\"none\", \n",
    "           facecolor=colors[\"first\"], label=\"first\",bottom=0.0)\n",
    "    ax.bar(idx, second, width=1.0, edgecolor=\"none\", \n",
    "           facecolor=colors[\"second\"], label=\"second\", bottom=first)\n",
    "    ax.bar(idx, third, width=1.0, edgecolor=\"none\", \n",
    "           facecolor=colors[\"third\"], label=\"third\", \n",
    "           bottom=second+first)\n",
    "    ax.set_xlim(-1,max_idx+1)\n",
    "    ax.set_xticks(idx+0.5)\n",
    "    ax.set_xticklabels(idx)\n",
    "    #if ipred == 2:\n",
    "    ax.set_xlabel(\"singular value\")\n",
    "    ax.set_ylabel(\"error variance\")\n",
    "    ax.legend(loc=\"upper right\")\n",
    "plt.show()"
   ]
  },
  {
   "cell_type": "markdown",
   "metadata": {},
   "source": [
    "Here we see the trade off between getting a good fit to push down the null-space (1st) term and the penalty for overfitting (the rise of the solution space (2nd) term)).  The sum of the first two terms in the \"appearent\" error variance (e.g. the uncertainty that standard analyses would yield) without considering the contribution from the omitted parameters.  You can verify this by checking prior uncertainty from the Schur's complement notebook against the zero singular value result using only terms 1 and 2. Note that the top of the green bar is the limit of traditional uncertainty/error variance analysis: accounting for parameter and observation\n",
    "\n",
    "We also see the added penalty for not adjusting the well flux and recharge parameters.  For the water level at the end of the calibration period forecast (``or28c05_0``), the fact the we have left parameters out doesn't matter - the parameter compensation associated with fixing uncertain model inputs can be \"calibrated out\" beyond 2 singular values.  For the water level forecast during forecast period (``or28c05_1``), the penalty for fixed parameters persists -it s nearly constant over the range of singular values.  \n",
    "\n",
    "For ``sw_gw_0``, the situation is much worse: not only are we greatly underestimating uncertainty by omitting parameters, worse, calibration increases the uncertainty for this forecast because the adjustable parametres are compensating for the omitted, uncertaint parameters in ways that are damanaging to the forecast. \n",
    "\n",
    "For the forecast period sw-gw exchange (``sw_gw_1``), calibration doesn't help or hurt - this forecast depend entirely on null space parameter components.  But treating the recharge and well pumpage as \"fixed\" (omitted) results in greatly underestimated uncertainty.     \n",
    "\n",
    "Let's check the ```errvar``` results against the results from ```schur```. This is simple with ```pyemu```, we simply  cast the ```errvar``` type to a ```schur``` type:"
   ]
  },
  {
   "cell_type": "code",
   "execution_count": 13,
   "metadata": {
    "collapsed": false
   },
   "outputs": [
    {
     "name": "stdout",
     "output_type": "stream",
     "text": [
      "forecast   errvar prior   errvar min  schur prior   schur post\n",
      "or28c05_0        0.303632     0.104580     0.303632     0.104580\n",
      "or28c05_1        0.744522     0.635871     0.744522     0.635871\n",
      "sw_gw_0       2346.665821  1712.432492      2346.67  1712.432302\n",
      "sw_gw_1      93125.784926 92814.664135      93125.8 92814.664006\n"
     ]
    }
   ],
   "source": [
    "schur = la.get(astype=pyemu.Schur)\n",
    "schur_prior = schur.prior_forecast\n",
    "schur_post = schur.posterior_forecast\n",
    "print(\"{0:10s} {1:>12s} {2:>12s} {3:>12s} {4:>12s}\"\n",
    "      .format(\"forecast\",\"errvar prior\",\"errvar min\",\n",
    "              \"schur prior\", \"schur post\"))\n",
    "for ipred, pred in enumerate(forecasts):\n",
    "    first = errvar_df[(\"first\", pred)][:max_idx]\n",
    "    second = errvar_df[(\"second\", pred)][:max_idx]  \n",
    "    min_ev = np.min(first + second)\n",
    "    prior_ev = first[0] + second[0]\n",
    "    prior_sh = schur_prior[pred]\n",
    "    post_sh = schur_post[pred]\n",
    "    print(\"{0:12s} {1:12.6f} {2:12.6f} {3:12.6} {4:12.6f}\"\n",
    "          .format(pred,prior_ev,min_ev,prior_sh,post_sh))"
   ]
  },
  {
   "cell_type": "markdown",
   "metadata": {},
   "source": [
    "We see that the prior from ```schur``` class matches the two-term ```errvar``` result at zero singular values.  We also see, as expected, the posterior from ```schur``` is slightly lower than the two-term ```errvar``` result.  This shows us that the \"appearent\" uncertainty in these predictions, as found through application of Bayes equation, is being under estimated because if the ill effects of the omitted parameters."
   ]
  },
  {
   "cell_type": "code",
   "execution_count": null,
   "metadata": {
    "collapsed": true
   },
   "outputs": [],
   "source": []
  }
 ],
 "metadata": {
  "anaconda-cloud": {},
  "kernelspec": {
   "display_name": "Python [Root]",
   "language": "python",
   "name": "Python [Root]"
  },
  "language_info": {
   "codemirror_mode": {
    "name": "ipython",
    "version": 3
   },
   "file_extension": ".py",
   "mimetype": "text/x-python",
   "name": "python",
   "nbconvert_exporter": "python",
   "pygments_lexer": "ipython3",
   "version": "3.5.2"
  }
 },
 "nbformat": 4,
 "nbformat_minor": 0
}
