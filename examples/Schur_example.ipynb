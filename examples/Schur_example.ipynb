{
 "metadata": {
  "name": "",
  "signature": "sha256:c08743ae55642c7d851ef9a6b8517aff73c891f0db938abeba436f3f463bc68f"
 },
 "nbformat": 3,
 "nbformat_minor": 0,
 "worksheets": [
  {
   "cells": [
    {
     "cell_type": "markdown",
     "metadata": {},
     "source": [
      "##Model background\n",
      "Here is an example based on the henry saltwater intrusion problem.  The synthetic model is a 2-dimensional SEAWAT model (X-Z domain) with 1 row, 120 columns and 20 layers.  The left boundary is a specified flux of freshwater, the right boundary is a specified head and concentration saltwater boundary.  The model has two stress periods: an initial steady state (calibration) period, then a transient period with less flux (prediction).  \n",
      "\n",
      "![henry domain](domain.png)"
     ]
    },
    {
     "cell_type": "markdown",
     "metadata": {},
     "source": [
      "The inverse problem includes 601 parameters (600 hydraulic conductivity pilot points and 1 specified flux rate) and 36 obseravtions (21 heads and 15 concentrations) measured at the end of the steady state calibration period.  Predictions of head and concentration are also available at each observation location at the end of the transient prediction period.  The predictions we will focus on predicting concentrations at location 13, 10, and 05 at the end of the transient stress period.  I previously calculated the jacobian matrix, which is in the `henry/` folder, along with the pest control file.\n"
     ]
    },
    {
     "cell_type": "markdown",
     "metadata": {},
     "source": [
      "##Using `pyemu`"
     ]
    },
    {
     "cell_type": "code",
     "collapsed": false,
     "input": [
      "%pylab inline\n",
      "import os\n",
      "import numpy as np\n",
      "import pyemu\n",
      "reload(pyemu)"
     ],
     "language": "python",
     "metadata": {},
     "outputs": [
      {
       "output_type": "stream",
       "stream": "stdout",
       "text": [
        "Populating the interactive namespace from numpy and matplotlib\n"
       ]
      },
      {
       "metadata": {},
       "output_type": "pyout",
       "prompt_number": 1,
       "text": [
        "<module 'pyemu' from '/Users/jwhite/anaconda/lib/python2.7/site-packages/pyemu.pyc'>"
       ]
      }
     ],
     "prompt_number": 1
    },
    {
     "cell_type": "markdown",
     "metadata": {},
     "source": [
      "First create a linear_analysis object.  We will use `schur`  derived type, which replicates the behavior of the `PREDUNC` suite of PEST.  We pass it the name of the jacobian matrix file.  Since we don't pass an explicit argument for `parcov` or `obscov`, `pyemu` attempts to build them from the parameter bounds and observation weights in a pest control file (.pst) with the same base case name as the jacobian.  Since we are interested in predictive uncertainty as well as parameter uncertainty, we also pass the names of the prediction sensitivity vectors we are interested in, which are stored in the jacobian as well.  Note that the `predictions` argument can be a mixed list of observation names, other jacobian files or PEST-compatible ASCII matrix files."
     ]
    },
    {
     "cell_type": "code",
     "collapsed": false,
     "input": [
      "predictions = [\"C_obs13_2\",\"c_obs10_2\",\"c_obs05_2\"]\n",
      "la = pyemu.schur(jco=os.path.join(\"henry\", \"pest.jco\"), predictions=predictions)"
     ],
     "language": "python",
     "metadata": {},
     "outputs": [
      {
       "output_type": "stream",
       "stream": "stdout",
       "text": [
        "2015-03-05 14:41:01.998196 starting: pre-loading base components\n",
        "2015-03-05 14:41:01.998308 starting: loading jco: henry/pest.jco\n",
        "2015-03-05 14:41:02.006111 finished: loading jco: henry/pest.jco took: 0:00:00.007803\n",
        "2015-03-05 14:41:02.006170 starting: loading pst: henry/pest.pst\n",
        "2015-03-05 14:41:02.036651 finished: loading pst: henry/pest.pst took: 0:00:00.030481\n",
        "2015-03-05 14:41:02.036712 starting: loading parcov\n",
        "2015-03-05 14:41:02.130121 finished: loading parcov took: 0:00:00.093409\n"
       ]
      },
      {
       "output_type": "stream",
       "stream": "stdout",
       "text": [
        "2015-03-05 14:41:02.130599 starting: loading obscov\n",
        "2015-03-05 14:41:02.149777 finished: loading obscov took: 0:00:00.019178\n",
        "2015-03-05 14:41:02.149832 starting: loading predictions\n",
        "2015-03-05 14:41:02.174531 finished: loading predictions took: 0:00:00.024699\n",
        "2015-03-05 14:41:02.174601 finished: pre-loading base components took: 0:00:00.176405\n",
        "2015-03-05 14:41:02.174623 starting: dropping prior information\n",
        "2015-03-05 14:41:02.174689 starting: removing 601 prior info from jco, pst, and obs cov\n",
        "2015-03-05 14:41:02.197877 finished: removing 601 prior info from jco, pst, and obs cov took: 0:00:00.023188\n"
       ]
      },
      {
       "output_type": "stream",
       "stream": "stdout",
       "text": [
        "2015-03-05 14:41:02.198250 finished: dropping prior information took: 0:00:00.023627\n",
        "2015-03-05 14:41:02.198272 starting: scaling obscov by residual phi components\n",
        "2015-03-05 14:41:02.226907 finished: scaling obscov by residual phi components took: 0:00:00.028635\n"
       ]
      }
     ],
     "prompt_number": 2
    },
    {
     "cell_type": "markdown",
     "metadata": {},
     "source": [
      "The screen output can be redirected to a log file by passing a file name to the `verbose` keyword argument.  Or screen output can be stopped by passing `False` to the `verbose` argument"
     ]
    },
    {
     "cell_type": "code",
     "collapsed": false,
     "input": [
      "la = pyemu.schur(jco=os.path.join(\"henry\", \"pest.jco\"), predictions=predictions,verbose=False)"
     ],
     "language": "python",
     "metadata": {},
     "outputs": [],
     "prompt_number": 3
    },
    {
     "cell_type": "markdown",
     "metadata": {},
     "source": [
      "We can inspect the parcov and obscov attributes by saving them to files.  We can save them PEST-compatible ASCII or binary matrices (`.to_ascii()` or `.to_binary()`), PEST-compatible uncertainty files (`.to_uncfile()`), or simply as numpy ASCII arrays (`numpy.savetxt()`).  In fact, all matrix and covariance objects (including the predictions) have these methods.  \n"
     ]
    },
    {
     "cell_type": "code",
     "collapsed": false,
     "input": [
      "la.parcov.to_uncfile(os.path.join(\"henry\", \"parcov.unc\"), covmat_file=os.path.join(\"henry\",\"parcov.mat\"))"
     ],
     "language": "python",
     "metadata": {},
     "outputs": [],
     "prompt_number": 4
    },
    {
     "cell_type": "markdown",
     "metadata": {},
     "source": [
      "When saving an uncertainty file, if the covariance object is diagonal (`self.isdiagonal == True`), then you can force the uncertainty file to use standard deviation blocks instead of covariance matrix blocks by explicitly passing `covmat_file` as `None`:"
     ]
    },
    {
     "cell_type": "code",
     "collapsed": false,
     "input": [
      "la.obscov.to_uncfile(os.path.join(\"henry\", \"obscov.unc\"), covmat_file=None)"
     ],
     "language": "python",
     "metadata": {},
     "outputs": [],
     "prompt_number": 5
    },
    {
     "cell_type": "markdown",
     "metadata": {},
     "source": [
      "##Posterior parameter uncertainty analysis\n",
      "Let's calculate and save the posterior parameter covariance matrix:"
     ]
    },
    {
     "cell_type": "code",
     "collapsed": false,
     "input": [
      "la.posterior_parameter.to_ascii(os.path.join(\"henry\", \"posterior.mat\"))"
     ],
     "language": "python",
     "metadata": {},
     "outputs": [],
     "prompt_number": 6
    },
    {
     "cell_type": "markdown",
     "metadata": {},
     "source": [
      "You can open this file in a text editor to examine.  The diagonal of this matrix is the posterior variance of each parameter. Since we already calculated the posterior parameter covariance matrix, additional calls to the `posterior_parameter` decorated method only require access:\n"
     ]
    },
    {
     "cell_type": "code",
     "collapsed": false,
     "input": [
      "la.posterior_parameter.to_dataframe() #look so nice in the notebook"
     ],
     "language": "python",
     "metadata": {},
     "outputs": [
      {
       "html": [
        "<div style=\"max-height:1000px;max-width:1500px;overflow:auto;\">\n",
        "<table border=\"1\" class=\"dataframe\">\n",
        "  <thead>\n",
        "    <tr style=\"text-align: right;\">\n",
        "      <th></th>\n",
        "      <th>mult1</th>\n",
        "      <th>kr01c01</th>\n",
        "      <th>kr01c02</th>\n",
        "      <th>kr01c03</th>\n",
        "      <th>kr01c04</th>\n",
        "      <th>kr01c05</th>\n",
        "      <th>kr01c06</th>\n",
        "      <th>kr01c07</th>\n",
        "      <th>kr01c08</th>\n",
        "      <th>kr01c09</th>\n",
        "      <th>...</th>\n",
        "      <th>kr10c51</th>\n",
        "      <th>kr10c52</th>\n",
        "      <th>kr10c53</th>\n",
        "      <th>kr10c54</th>\n",
        "      <th>kr10c55</th>\n",
        "      <th>kr10c56</th>\n",
        "      <th>kr10c57</th>\n",
        "      <th>kr10c58</th>\n",
        "      <th>kr10c59</th>\n",
        "      <th>kr10c60</th>\n",
        "    </tr>\n",
        "  </thead>\n",
        "  <tbody>\n",
        "    <tr>\n",
        "      <th>mult1</th>\n",
        "      <td> 1.795714e-03</td>\n",
        "      <td> 0.00</td>\n",
        "      <td> 0.00</td>\n",
        "      <td> 4.893124e-68</td>\n",
        "      <td> 4.893124e-68</td>\n",
        "      <td> 4.821303e-68</td>\n",
        "      <td> 4.173729e-50</td>\n",
        "      <td> 4.173729e-50</td>\n",
        "      <td>-9.510478e-40</td>\n",
        "      <td>-9.510478e-40</td>\n",
        "      <td>...</td>\n",
        "      <td> 9.812626e-04</td>\n",
        "      <td> 8.395643e-04</td>\n",
        "      <td> 6.149931e-04</td>\n",
        "      <td> 3.466081e-04</td>\n",
        "      <td> 1.646148e-04</td>\n",
        "      <td> 8.465517e-05</td>\n",
        "      <td>-5.928168e-06</td>\n",
        "      <td>-7.130584e-05</td>\n",
        "      <td>-1.100314e-04</td>\n",
        "      <td>-9.446230e-05</td>\n",
        "    </tr>\n",
        "    <tr>\n",
        "      <th>kr01c01</th>\n",
        "      <td> 0.000000e+00</td>\n",
        "      <td> 0.25</td>\n",
        "      <td> 0.00</td>\n",
        "      <td> 0.000000e+00</td>\n",
        "      <td> 0.000000e+00</td>\n",
        "      <td> 0.000000e+00</td>\n",
        "      <td> 0.000000e+00</td>\n",
        "      <td> 0.000000e+00</td>\n",
        "      <td> 0.000000e+00</td>\n",
        "      <td> 0.000000e+00</td>\n",
        "      <td>...</td>\n",
        "      <td>-0.000000e+00</td>\n",
        "      <td> 0.000000e+00</td>\n",
        "      <td>-0.000000e+00</td>\n",
        "      <td> 0.000000e+00</td>\n",
        "      <td>-0.000000e+00</td>\n",
        "      <td> 0.000000e+00</td>\n",
        "      <td>-0.000000e+00</td>\n",
        "      <td> 0.000000e+00</td>\n",
        "      <td>-0.000000e+00</td>\n",
        "      <td> 0.000000e+00</td>\n",
        "    </tr>\n",
        "    <tr>\n",
        "      <th>kr01c02</th>\n",
        "      <td> 0.000000e+00</td>\n",
        "      <td> 0.00</td>\n",
        "      <td> 0.25</td>\n",
        "      <td> 0.000000e+00</td>\n",
        "      <td> 0.000000e+00</td>\n",
        "      <td> 0.000000e+00</td>\n",
        "      <td> 0.000000e+00</td>\n",
        "      <td> 0.000000e+00</td>\n",
        "      <td> 0.000000e+00</td>\n",
        "      <td> 0.000000e+00</td>\n",
        "      <td>...</td>\n",
        "      <td>-0.000000e+00</td>\n",
        "      <td> 0.000000e+00</td>\n",
        "      <td>-0.000000e+00</td>\n",
        "      <td> 0.000000e+00</td>\n",
        "      <td>-0.000000e+00</td>\n",
        "      <td> 0.000000e+00</td>\n",
        "      <td>-0.000000e+00</td>\n",
        "      <td> 0.000000e+00</td>\n",
        "      <td>-0.000000e+00</td>\n",
        "      <td> 0.000000e+00</td>\n",
        "    </tr>\n",
        "    <tr>\n",
        "      <th>kr01c03</th>\n",
        "      <td> 4.893124e-68</td>\n",
        "      <td> 0.00</td>\n",
        "      <td> 0.00</td>\n",
        "      <td> 2.500000e-01</td>\n",
        "      <td>-4.924010e-72</td>\n",
        "      <td>-4.924025e-72</td>\n",
        "      <td>-9.232507e-72</td>\n",
        "      <td>-9.232538e-72</td>\n",
        "      <td>-1.354103e-71</td>\n",
        "      <td>-1.846506e-71</td>\n",
        "      <td>...</td>\n",
        "      <td> 3.904380e-67</td>\n",
        "      <td> 3.746483e-67</td>\n",
        "      <td> 2.974874e-67</td>\n",
        "      <td> 8.645118e-68</td>\n",
        "      <td>-4.338425e-68</td>\n",
        "      <td>-6.024574e-68</td>\n",
        "      <td>-9.039347e-68</td>\n",
        "      <td>-1.051997e-67</td>\n",
        "      <td>-1.130614e-67</td>\n",
        "      <td>-8.716317e-68</td>\n",
        "    </tr>\n",
        "    <tr>\n",
        "      <th>kr01c04</th>\n",
        "      <td> 4.893124e-68</td>\n",
        "      <td> 0.00</td>\n",
        "      <td> 0.00</td>\n",
        "      <td>-4.924010e-72</td>\n",
        "      <td> 2.500000e-01</td>\n",
        "      <td>-4.924025e-72</td>\n",
        "      <td>-9.232507e-72</td>\n",
        "      <td>-9.232538e-72</td>\n",
        "      <td>-1.354103e-71</td>\n",
        "      <td>-1.846506e-71</td>\n",
        "      <td>...</td>\n",
        "      <td> 3.904380e-67</td>\n",
        "      <td> 3.746483e-67</td>\n",
        "      <td> 2.974874e-67</td>\n",
        "      <td> 8.645118e-68</td>\n",
        "      <td>-4.338425e-68</td>\n",
        "      <td>-6.024574e-68</td>\n",
        "      <td>-9.039347e-68</td>\n",
        "      <td>-1.051997e-67</td>\n",
        "      <td>-1.130614e-67</td>\n",
        "      <td>-8.716317e-68</td>\n",
        "    </tr>\n",
        "    <tr>\n",
        "      <th>kr01c05</th>\n",
        "      <td> 4.821303e-68</td>\n",
        "      <td> 0.00</td>\n",
        "      <td> 0.00</td>\n",
        "      <td>-4.924025e-72</td>\n",
        "      <td>-4.924025e-72</td>\n",
        "      <td> 2.500000e-01</td>\n",
        "      <td>-9.294849e-72</td>\n",
        "      <td>-9.294895e-72</td>\n",
        "      <td>-1.360340e-71</td>\n",
        "      <td>-1.852745e-71</td>\n",
        "      <td>...</td>\n",
        "      <td> 3.880761e-67</td>\n",
        "      <td> 3.716155e-67</td>\n",
        "      <td> 2.944353e-67</td>\n",
        "      <td> 8.544413e-68</td>\n",
        "      <td>-4.282933e-68</td>\n",
        "      <td>-5.937861e-68</td>\n",
        "      <td>-8.903005e-68</td>\n",
        "      <td>-1.035970e-67</td>\n",
        "      <td>-1.113415e-67</td>\n",
        "      <td>-8.584017e-68</td>\n",
        "    </tr>\n",
        "    <tr>\n",
        "      <th>kr01c06</th>\n",
        "      <td> 4.173729e-50</td>\n",
        "      <td> 0.00</td>\n",
        "      <td> 0.00</td>\n",
        "      <td>-9.232507e-72</td>\n",
        "      <td>-9.232507e-72</td>\n",
        "      <td>-9.294849e-72</td>\n",
        "      <td> 2.500000e-01</td>\n",
        "      <td>-4.923979e-54</td>\n",
        "      <td>-4.923979e-54</td>\n",
        "      <td>-4.923979e-54</td>\n",
        "      <td>...</td>\n",
        "      <td> 4.681859e-49</td>\n",
        "      <td> 4.423047e-49</td>\n",
        "      <td> 3.330180e-49</td>\n",
        "      <td> 8.750685e-50</td>\n",
        "      <td>-4.600948e-50</td>\n",
        "      <td>-5.118242e-50</td>\n",
        "      <td>-7.118637e-50</td>\n",
        "      <td>-8.096903e-50</td>\n",
        "      <td>-8.734316e-50</td>\n",
        "      <td>-6.777083e-50</td>\n",
        "    </tr>\n",
        "    <tr>\n",
        "      <th>kr01c07</th>\n",
        "      <td> 4.173729e-50</td>\n",
        "      <td> 0.00</td>\n",
        "      <td> 0.00</td>\n",
        "      <td>-9.232538e-72</td>\n",
        "      <td>-9.232538e-72</td>\n",
        "      <td>-9.294895e-72</td>\n",
        "      <td>-4.923979e-54</td>\n",
        "      <td> 2.500000e-01</td>\n",
        "      <td>-4.923979e-54</td>\n",
        "      <td>-4.923979e-54</td>\n",
        "      <td>...</td>\n",
        "      <td> 4.681859e-49</td>\n",
        "      <td> 4.423047e-49</td>\n",
        "      <td> 3.330180e-49</td>\n",
        "      <td> 8.750685e-50</td>\n",
        "      <td>-4.600948e-50</td>\n",
        "      <td>-5.118242e-50</td>\n",
        "      <td>-7.118637e-50</td>\n",
        "      <td>-8.096903e-50</td>\n",
        "      <td>-8.734316e-50</td>\n",
        "      <td>-6.777083e-50</td>\n",
        "    </tr>\n",
        "    <tr>\n",
        "      <th>kr01c08</th>\n",
        "      <td>-9.510478e-40</td>\n",
        "      <td> 0.00</td>\n",
        "      <td> 0.00</td>\n",
        "      <td>-1.354103e-71</td>\n",
        "      <td>-1.354103e-71</td>\n",
        "      <td>-1.360340e-71</td>\n",
        "      <td>-4.923979e-54</td>\n",
        "      <td>-4.923979e-54</td>\n",
        "      <td> 2.500000e-01</td>\n",
        "      <td>-7.693717e-44</td>\n",
        "      <td>...</td>\n",
        "      <td> 3.817485e-40</td>\n",
        "      <td>-8.046519e-40</td>\n",
        "      <td>-1.964839e-39</td>\n",
        "      <td>-3.682447e-40</td>\n",
        "      <td> 1.073045e-39</td>\n",
        "      <td> 1.392246e-39</td>\n",
        "      <td> 1.989054e-39</td>\n",
        "      <td> 2.198186e-39</td>\n",
        "      <td> 2.288419e-39</td>\n",
        "      <td> 1.741916e-39</td>\n",
        "    </tr>\n",
        "    <tr>\n",
        "      <th>kr01c09</th>\n",
        "      <td>-9.510478e-40</td>\n",
        "      <td> 0.00</td>\n",
        "      <td> 0.00</td>\n",
        "      <td>-1.846506e-71</td>\n",
        "      <td>-1.846506e-71</td>\n",
        "      <td>-1.852745e-71</td>\n",
        "      <td>-4.923979e-54</td>\n",
        "      <td>-4.923979e-54</td>\n",
        "      <td>-7.693717e-44</td>\n",
        "      <td> 2.500000e-01</td>\n",
        "      <td>...</td>\n",
        "      <td> 3.817485e-40</td>\n",
        "      <td>-8.046519e-40</td>\n",
        "      <td>-1.964839e-39</td>\n",
        "      <td>-3.682447e-40</td>\n",
        "      <td> 1.073045e-39</td>\n",
        "      <td> 1.392246e-39</td>\n",
        "      <td> 1.989054e-39</td>\n",
        "      <td> 2.198186e-39</td>\n",
        "      <td> 2.288419e-39</td>\n",
        "      <td> 1.741916e-39</td>\n",
        "    </tr>\n",
        "    <tr>\n",
        "      <th>kr01c10</th>\n",
        "      <td> 1.147096e-32</td>\n",
        "      <td> 0.00</td>\n",
        "      <td> 0.00</td>\n",
        "      <td>-2.277359e-71</td>\n",
        "      <td>-2.277359e-71</td>\n",
        "      <td>-2.289832e-71</td>\n",
        "      <td>-4.923979e-54</td>\n",
        "      <td>-4.923979e-54</td>\n",
        "      <td>-7.693717e-44</td>\n",
        "      <td>-7.693717e-44</td>\n",
        "      <td>...</td>\n",
        "      <td> 2.240896e-31</td>\n",
        "      <td> 2.076730e-31</td>\n",
        "      <td> 1.494868e-31</td>\n",
        "      <td> 3.729610e-32</td>\n",
        "      <td>-1.844587e-32</td>\n",
        "      <td>-1.768726e-32</td>\n",
        "      <td>-2.275912e-32</td>\n",
        "      <td>-2.509475e-32</td>\n",
        "      <td>-2.708348e-32</td>\n",
        "      <td>-2.112802e-32</td>\n",
        "    </tr>\n",
        "    <tr>\n",
        "      <th>kr01c11</th>\n",
        "      <td> 1.147096e-32</td>\n",
        "      <td> 0.00</td>\n",
        "      <td> 0.00</td>\n",
        "      <td>-3.200611e-71</td>\n",
        "      <td>-3.200611e-71</td>\n",
        "      <td>-3.213087e-71</td>\n",
        "      <td>-9.847958e-54</td>\n",
        "      <td>-9.847958e-54</td>\n",
        "      <td>-7.693717e-44</td>\n",
        "      <td>-7.693717e-44</td>\n",
        "      <td>...</td>\n",
        "      <td> 2.240896e-31</td>\n",
        "      <td> 2.076730e-31</td>\n",
        "      <td> 1.494868e-31</td>\n",
        "      <td> 3.729610e-32</td>\n",
        "      <td>-1.844587e-32</td>\n",
        "      <td>-1.768726e-32</td>\n",
        "      <td>-2.275912e-32</td>\n",
        "      <td>-2.509475e-32</td>\n",
        "      <td>-2.708348e-32</td>\n",
        "      <td>-2.112802e-32</td>\n",
        "    </tr>\n",
        "    <tr>\n",
        "      <th>kr01c12</th>\n",
        "      <td> 1.147096e-32</td>\n",
        "      <td> 0.00</td>\n",
        "      <td> 0.00</td>\n",
        "      <td>-4.062314e-71</td>\n",
        "      <td>-4.062314e-71</td>\n",
        "      <td>-4.074793e-71</td>\n",
        "      <td>-9.847958e-54</td>\n",
        "      <td>-9.847958e-54</td>\n",
        "      <td>-7.693717e-44</td>\n",
        "      <td>-7.693717e-44</td>\n",
        "      <td>...</td>\n",
        "      <td> 2.240896e-31</td>\n",
        "      <td> 2.076730e-31</td>\n",
        "      <td> 1.494868e-31</td>\n",
        "      <td> 3.729610e-32</td>\n",
        "      <td>-1.844587e-32</td>\n",
        "      <td>-1.768726e-32</td>\n",
        "      <td>-2.275912e-32</td>\n",
        "      <td>-2.509475e-32</td>\n",
        "      <td>-2.708348e-32</td>\n",
        "      <td>-2.112802e-32</td>\n",
        "    </tr>\n",
        "    <tr>\n",
        "      <th>kr01c13</th>\n",
        "      <td> 1.147096e-32</td>\n",
        "      <td> 0.00</td>\n",
        "      <td> 0.00</td>\n",
        "      <td>-5.908818e-71</td>\n",
        "      <td>-5.908818e-71</td>\n",
        "      <td>-5.921303e-71</td>\n",
        "      <td>-1.477194e-53</td>\n",
        "      <td>-1.477194e-53</td>\n",
        "      <td>-1.538743e-43</td>\n",
        "      <td>-1.538743e-43</td>\n",
        "      <td>...</td>\n",
        "      <td> 2.240896e-31</td>\n",
        "      <td> 2.076730e-31</td>\n",
        "      <td> 1.494868e-31</td>\n",
        "      <td> 3.729610e-32</td>\n",
        "      <td>-1.844587e-32</td>\n",
        "      <td>-1.768726e-32</td>\n",
        "      <td>-2.275912e-32</td>\n",
        "      <td>-2.509475e-32</td>\n",
        "      <td>-2.708348e-32</td>\n",
        "      <td>-2.112802e-32</td>\n",
        "    </tr>\n",
        "    <tr>\n",
        "      <th>kr01c14</th>\n",
        "      <td> 1.147096e-32</td>\n",
        "      <td> 0.00</td>\n",
        "      <td> 0.00</td>\n",
        "      <td>-7.693777e-71</td>\n",
        "      <td>-7.693777e-71</td>\n",
        "      <td>-7.713196e-71</td>\n",
        "      <td>-1.969592e-53</td>\n",
        "      <td>-1.969592e-53</td>\n",
        "      <td>-2.308115e-43</td>\n",
        "      <td>-2.308115e-43</td>\n",
        "      <td>...</td>\n",
        "      <td> 2.240896e-31</td>\n",
        "      <td> 2.076730e-31</td>\n",
        "      <td> 1.494868e-31</td>\n",
        "      <td> 3.729610e-32</td>\n",
        "      <td>-1.844587e-32</td>\n",
        "      <td>-1.768726e-32</td>\n",
        "      <td>-2.275912e-32</td>\n",
        "      <td>-2.509474e-32</td>\n",
        "      <td>-2.708348e-32</td>\n",
        "      <td>-2.112801e-32</td>\n",
        "    </tr>\n",
        "    <tr>\n",
        "      <th>kr01c15</th>\n",
        "      <td> 2.064773e-32</td>\n",
        "      <td> 0.00</td>\n",
        "      <td> 0.00</td>\n",
        "      <td>-1.089439e-70</td>\n",
        "      <td>-1.089439e-70</td>\n",
        "      <td>-1.092005e-70</td>\n",
        "      <td>-2.954387e-53</td>\n",
        "      <td>-2.954387e-53</td>\n",
        "      <td>-3.077487e-43</td>\n",
        "      <td>-3.077487e-43</td>\n",
        "      <td>...</td>\n",
        "      <td> 4.033613e-31</td>\n",
        "      <td> 3.738114e-31</td>\n",
        "      <td> 2.690763e-31</td>\n",
        "      <td> 6.713298e-32</td>\n",
        "      <td>-3.320257e-32</td>\n",
        "      <td>-3.183707e-32</td>\n",
        "      <td>-4.096642e-32</td>\n",
        "      <td>-4.517054e-32</td>\n",
        "      <td>-4.875026e-32</td>\n",
        "      <td>-3.803043e-32</td>\n",
        "    </tr>\n",
        "    <tr>\n",
        "      <th>kr01c16</th>\n",
        "      <td> 1.034512e-07</td>\n",
        "      <td> 0.00</td>\n",
        "      <td> 0.00</td>\n",
        "      <td>-1.510664e-70</td>\n",
        "      <td>-1.510664e-70</td>\n",
        "      <td>-1.514480e-70</td>\n",
        "      <td>-3.684062e-53</td>\n",
        "      <td>-3.684062e-53</td>\n",
        "      <td>-5.921106e-43</td>\n",
        "      <td>-5.921106e-43</td>\n",
        "      <td>...</td>\n",
        "      <td>-1.985689e-07</td>\n",
        "      <td>-1.924661e-07</td>\n",
        "      <td>-1.597097e-07</td>\n",
        "      <td>-5.764621e-08</td>\n",
        "      <td> 1.417442e-07</td>\n",
        "      <td> 3.082455e-07</td>\n",
        "      <td> 3.149417e-07</td>\n",
        "      <td> 2.621969e-07</td>\n",
        "      <td> 2.149999e-07</td>\n",
        "      <td> 1.385328e-07</td>\n",
        "    </tr>\n",
        "    <tr>\n",
        "      <th>kr01c17</th>\n",
        "      <td> 1.034512e-07</td>\n",
        "      <td> 0.00</td>\n",
        "      <td> 0.00</td>\n",
        "      <td>-2.009221e-70</td>\n",
        "      <td>-2.009221e-70</td>\n",
        "      <td>-2.014285e-70</td>\n",
        "      <td>-4.668857e-53</td>\n",
        "      <td>-4.668857e-53</td>\n",
        "      <td>-7.459849e-43</td>\n",
        "      <td>-7.459849e-43</td>\n",
        "      <td>...</td>\n",
        "      <td>-1.985689e-07</td>\n",
        "      <td>-1.924661e-07</td>\n",
        "      <td>-1.597097e-07</td>\n",
        "      <td>-5.764621e-08</td>\n",
        "      <td> 1.417442e-07</td>\n",
        "      <td> 3.082455e-07</td>\n",
        "      <td> 3.149417e-07</td>\n",
        "      <td> 2.621969e-07</td>\n",
        "      <td> 2.149999e-07</td>\n",
        "      <td> 1.385328e-07</td>\n",
        "    </tr>\n",
        "    <tr>\n",
        "      <th>kr01c18</th>\n",
        "      <td> 4.519382e-07</td>\n",
        "      <td> 0.00</td>\n",
        "      <td> 0.00</td>\n",
        "      <td>-2.645368e-70</td>\n",
        "      <td>-2.645368e-70</td>\n",
        "      <td>-2.653418e-70</td>\n",
        "      <td>-5.890697e-53</td>\n",
        "      <td>-5.890697e-53</td>\n",
        "      <td>-1.383038e-42</td>\n",
        "      <td>-1.383038e-42</td>\n",
        "      <td>...</td>\n",
        "      <td>-3.582144e-07</td>\n",
        "      <td>-3.525429e-07</td>\n",
        "      <td>-3.019368e-07</td>\n",
        "      <td>-9.148482e-08</td>\n",
        "      <td> 3.475056e-07</td>\n",
        "      <td> 7.311743e-07</td>\n",
        "      <td> 7.348355e-07</td>\n",
        "      <td> 6.090851e-07</td>\n",
        "      <td> 4.885835e-07</td>\n",
        "      <td> 3.146171e-07</td>\n",
        "    </tr>\n",
        "    <tr>\n",
        "      <th>kr01c19</th>\n",
        "      <td> 1.098658e-06</td>\n",
        "      <td> 0.00</td>\n",
        "      <td> 0.00</td>\n",
        "      <td>-3.439808e-70</td>\n",
        "      <td>-3.439808e-70</td>\n",
        "      <td>-3.452896e-70</td>\n",
        "      <td>-6.548479e-53</td>\n",
        "      <td>-6.548479e-53</td>\n",
        "      <td>-2.155284e-42</td>\n",
        "      <td>-2.155284e-42</td>\n",
        "      <td>...</td>\n",
        "      <td>-3.309614e-07</td>\n",
        "      <td>-3.582320e-07</td>\n",
        "      <td>-3.334751e-07</td>\n",
        "      <td>-6.712841e-08</td>\n",
        "      <td> 5.801698e-07</td>\n",
        "      <td> 1.163759e-06</td>\n",
        "      <td> 1.148888e-06</td>\n",
        "      <td> 9.366488e-07</td>\n",
        "      <td> 7.398353e-07</td>\n",
        "      <td> 4.715746e-07</td>\n",
        "    </tr>\n",
        "    <tr>\n",
        "      <th>kr01c20</th>\n",
        "      <td> 7.488831e-07</td>\n",
        "      <td> 0.00</td>\n",
        "      <td> 0.00</td>\n",
        "      <td>-4.956253e-70</td>\n",
        "      <td>-4.956253e-70</td>\n",
        "      <td>-4.968999e-70</td>\n",
        "      <td>-1.166062e-52</td>\n",
        "      <td>-1.166062e-52</td>\n",
        "      <td>-2.331096e-42</td>\n",
        "      <td>-2.331096e-42</td>\n",
        "      <td>...</td>\n",
        "      <td>-2.064034e-07</td>\n",
        "      <td>-2.113370e-07</td>\n",
        "      <td>-1.927590e-07</td>\n",
        "      <td>-3.170872e-08</td>\n",
        "      <td> 3.740263e-07</td>\n",
        "      <td> 7.240304e-07</td>\n",
        "      <td> 7.156816e-07</td>\n",
        "      <td> 5.814498e-07</td>\n",
        "      <td> 4.594002e-07</td>\n",
        "      <td> 2.932572e-07</td>\n",
        "    </tr>\n",
        "    <tr>\n",
        "      <th>kr01c21</th>\n",
        "      <td> 7.444991e-07</td>\n",
        "      <td> 0.00</td>\n",
        "      <td> 0.00</td>\n",
        "      <td>-6.882616e-70</td>\n",
        "      <td>-6.882616e-70</td>\n",
        "      <td>-6.898214e-70</td>\n",
        "      <td>-1.693726e-52</td>\n",
        "      <td>-1.693726e-52</td>\n",
        "      <td>-2.835963e-42</td>\n",
        "      <td>-2.835963e-42</td>\n",
        "      <td>...</td>\n",
        "      <td>-2.119486e-07</td>\n",
        "      <td>-2.133356e-07</td>\n",
        "      <td>-1.910700e-07</td>\n",
        "      <td>-3.147153e-08</td>\n",
        "      <td> 3.750399e-07</td>\n",
        "      <td> 7.198783e-07</td>\n",
        "      <td> 7.116769e-07</td>\n",
        "      <td> 5.768997e-07</td>\n",
        "      <td> 4.591306e-07</td>\n",
        "      <td> 2.914047e-07</td>\n",
        "    </tr>\n",
        "    <tr>\n",
        "      <th>kr01c22</th>\n",
        "      <td> 7.394888e-07</td>\n",
        "      <td> 0.00</td>\n",
        "      <td> 0.00</td>\n",
        "      <td>-9.502714e-70</td>\n",
        "      <td>-9.502714e-70</td>\n",
        "      <td>-9.522366e-70</td>\n",
        "      <td>-2.424267e-52</td>\n",
        "      <td>-2.424267e-52</td>\n",
        "      <td>-3.500883e-42</td>\n",
        "      <td>-3.500883e-42</td>\n",
        "      <td>...</td>\n",
        "      <td>-2.182860e-07</td>\n",
        "      <td>-2.156196e-07</td>\n",
        "      <td>-1.891399e-07</td>\n",
        "      <td>-3.120046e-08</td>\n",
        "      <td> 3.761982e-07</td>\n",
        "      <td> 7.151330e-07</td>\n",
        "      <td> 7.071002e-07</td>\n",
        "      <td> 5.716996e-07</td>\n",
        "      <td> 4.588224e-07</td>\n",
        "      <td> 2.892876e-07</td>\n",
        "    </tr>\n",
        "    <tr>\n",
        "      <th>kr01c23</th>\n",
        "      <td> 2.364131e-06</td>\n",
        "      <td> 0.00</td>\n",
        "      <td> 0.00</td>\n",
        "      <td>-1.238254e-69</td>\n",
        "      <td>-1.238254e-69</td>\n",
        "      <td>-1.241470e-69</td>\n",
        "      <td>-2.806783e-52</td>\n",
        "      <td>-2.806783e-52</td>\n",
        "      <td>-6.029900e-42</td>\n",
        "      <td>-6.029900e-42</td>\n",
        "      <td>...</td>\n",
        "      <td>-9.916762e-07</td>\n",
        "      <td>-1.096284e-06</td>\n",
        "      <td>-7.661954e-07</td>\n",
        "      <td>-6.589741e-08</td>\n",
        "      <td> 1.353659e-06</td>\n",
        "      <td> 2.558472e-06</td>\n",
        "      <td> 2.531980e-06</td>\n",
        "      <td> 2.080746e-06</td>\n",
        "      <td> 1.672916e-06</td>\n",
        "      <td> 1.079352e-06</td>\n",
        "    </tr>\n",
        "    <tr>\n",
        "      <th>kr01c24</th>\n",
        "      <td> 2.746114e-06</td>\n",
        "      <td> 0.00</td>\n",
        "      <td> 0.00</td>\n",
        "      <td>-1.691439e-69</td>\n",
        "      <td>-1.691439e-69</td>\n",
        "      <td>-1.695412e-69</td>\n",
        "      <td>-3.890707e-52</td>\n",
        "      <td>-3.890707e-52</td>\n",
        "      <td>-7.691968e-42</td>\n",
        "      <td>-7.691968e-42</td>\n",
        "      <td>...</td>\n",
        "      <td>-7.073060e-07</td>\n",
        "      <td>-8.019729e-07</td>\n",
        "      <td>-5.210372e-07</td>\n",
        "      <td> 3.341595e-08</td>\n",
        "      <td> 1.216852e-06</td>\n",
        "      <td> 2.279767e-06</td>\n",
        "      <td> 2.262446e-06</td>\n",
        "      <td> 1.852845e-06</td>\n",
        "      <td> 1.494371e-06</td>\n",
        "      <td> 9.603601e-07</td>\n",
        "    </tr>\n",
        "    <tr>\n",
        "      <th>kr01c25</th>\n",
        "      <td> 4.444422e-06</td>\n",
        "      <td> 0.00</td>\n",
        "      <td> 0.00</td>\n",
        "      <td>-2.263077e-69</td>\n",
        "      <td>-2.263077e-69</td>\n",
        "      <td>-2.268348e-69</td>\n",
        "      <td>-5.151679e-52</td>\n",
        "      <td>-5.151679e-52</td>\n",
        "      <td>-1.113621e-41</td>\n",
        "      <td>-1.113621e-41</td>\n",
        "      <td>...</td>\n",
        "      <td>-1.080938e-06</td>\n",
        "      <td>-1.184732e-06</td>\n",
        "      <td>-8.781339e-07</td>\n",
        "      <td>-5.086763e-09</td>\n",
        "      <td> 2.003829e-06</td>\n",
        "      <td> 3.798541e-06</td>\n",
        "      <td> 3.752544e-06</td>\n",
        "      <td> 3.059198e-06</td>\n",
        "      <td> 2.443612e-06</td>\n",
        "      <td> 1.564835e-06</td>\n",
        "    </tr>\n",
        "    <tr>\n",
        "      <th>kr01c26</th>\n",
        "      <td> 4.783177e-06</td>\n",
        "      <td> 0.00</td>\n",
        "      <td> 0.00</td>\n",
        "      <td>-3.106461e-69</td>\n",
        "      <td>-3.106461e-69</td>\n",
        "      <td>-3.112233e-69</td>\n",
        "      <td>-7.454899e-52</td>\n",
        "      <td>-7.454899e-52</td>\n",
        "      <td>-1.425858e-41</td>\n",
        "      <td>-1.425858e-41</td>\n",
        "      <td>...</td>\n",
        "      <td>-1.065787e-06</td>\n",
        "      <td>-1.160567e-06</td>\n",
        "      <td>-8.286915e-07</td>\n",
        "      <td> 1.582880e-07</td>\n",
        "      <td> 2.445493e-06</td>\n",
        "      <td> 4.465085e-06</td>\n",
        "      <td> 4.410726e-06</td>\n",
        "      <td> 3.619190e-06</td>\n",
        "      <td> 2.926720e-06</td>\n",
        "      <td> 1.885844e-06</td>\n",
        "    </tr>\n",
        "    <tr>\n",
        "      <th>kr01c27</th>\n",
        "      <td> 7.199304e-06</td>\n",
        "      <td> 0.00</td>\n",
        "      <td> 0.00</td>\n",
        "      <td>-4.131524e-69</td>\n",
        "      <td>-4.131524e-69</td>\n",
        "      <td>-4.138126e-69</td>\n",
        "      <td>-9.883522e-52</td>\n",
        "      <td>-9.883522e-52</td>\n",
        "      <td>-1.975078e-41</td>\n",
        "      <td>-1.975078e-41</td>\n",
        "      <td>...</td>\n",
        "      <td>-6.717993e-07</td>\n",
        "      <td>-8.209019e-07</td>\n",
        "      <td>-5.893546e-07</td>\n",
        "      <td> 4.503100e-07</td>\n",
        "      <td> 3.175000e-06</td>\n",
        "      <td> 5.654675e-06</td>\n",
        "      <td> 5.553201e-06</td>\n",
        "      <td> 4.529608e-06</td>\n",
        "      <td> 3.649063e-06</td>\n",
        "      <td> 2.343870e-06</td>\n",
        "    </tr>\n",
        "    <tr>\n",
        "      <th>kr01c28</th>\n",
        "      <td> 9.017238e-06</td>\n",
        "      <td> 0.00</td>\n",
        "      <td> 0.00</td>\n",
        "      <td>-5.536919e-69</td>\n",
        "      <td>-5.536919e-69</td>\n",
        "      <td>-5.542673e-69</td>\n",
        "      <td>-1.371294e-51</td>\n",
        "      <td>-1.371294e-51</td>\n",
        "      <td>-2.614142e-41</td>\n",
        "      <td>-2.614142e-41</td>\n",
        "      <td>...</td>\n",
        "      <td>-6.254164e-07</td>\n",
        "      <td>-7.779485e-07</td>\n",
        "      <td>-5.638443e-07</td>\n",
        "      <td> 6.533573e-07</td>\n",
        "      <td> 3.982225e-06</td>\n",
        "      <td> 6.978401e-06</td>\n",
        "      <td> 6.830877e-06</td>\n",
        "      <td> 5.557679e-06</td>\n",
        "      <td> 4.474125e-06</td>\n",
        "      <td> 2.870216e-06</td>\n",
        "    </tr>\n",
        "    <tr>\n",
        "      <th>kr01c29</th>\n",
        "      <td> 1.227198e-05</td>\n",
        "      <td> 0.00</td>\n",
        "      <td> 0.00</td>\n",
        "      <td>-7.309167e-69</td>\n",
        "      <td>-7.309167e-69</td>\n",
        "      <td>-7.312430e-69</td>\n",
        "      <td>-1.842363e-51</td>\n",
        "      <td>-1.842363e-51</td>\n",
        "      <td>-3.615151e-41</td>\n",
        "      <td>-3.615151e-41</td>\n",
        "      <td>...</td>\n",
        "      <td>-7.441966e-08</td>\n",
        "      <td>-2.002139e-07</td>\n",
        "      <td>-1.110240e-07</td>\n",
        "      <td> 1.100544e-06</td>\n",
        "      <td> 4.711467e-06</td>\n",
        "      <td> 7.687328e-06</td>\n",
        "      <td> 7.374245e-06</td>\n",
        "      <td> 5.938049e-06</td>\n",
        "      <td> 4.756580e-06</td>\n",
        "      <td> 3.027447e-06</td>\n",
        "    </tr>\n",
        "    <tr>\n",
        "      <th>...</th>\n",
        "      <td>...</td>\n",
        "      <td>...</td>\n",
        "      <td>...</td>\n",
        "      <td>...</td>\n",
        "      <td>...</td>\n",
        "      <td>...</td>\n",
        "      <td>...</td>\n",
        "      <td>...</td>\n",
        "      <td>...</td>\n",
        "      <td>...</td>\n",
        "      <td>...</td>\n",
        "      <td>...</td>\n",
        "      <td>...</td>\n",
        "      <td>...</td>\n",
        "      <td>...</td>\n",
        "      <td>...</td>\n",
        "      <td>...</td>\n",
        "      <td>...</td>\n",
        "      <td>...</td>\n",
        "      <td>...</td>\n",
        "      <td>...</td>\n",
        "    </tr>\n",
        "    <tr>\n",
        "      <th>kr10c31</th>\n",
        "      <td>-2.985632e-05</td>\n",
        "      <td> 0.00</td>\n",
        "      <td> 0.00</td>\n",
        "      <td> 2.158163e-68</td>\n",
        "      <td> 2.158163e-68</td>\n",
        "      <td> 2.170612e-68</td>\n",
        "      <td> 3.686256e-51</td>\n",
        "      <td> 3.686256e-51</td>\n",
        "      <td> 7.316296e-41</td>\n",
        "      <td> 7.316296e-41</td>\n",
        "      <td>...</td>\n",
        "      <td>-3.618991e-07</td>\n",
        "      <td> 2.846845e-07</td>\n",
        "      <td> 5.583891e-07</td>\n",
        "      <td>-2.374569e-06</td>\n",
        "      <td>-1.190462e-05</td>\n",
        "      <td>-2.060088e-05</td>\n",
        "      <td>-1.985321e-05</td>\n",
        "      <td>-1.602315e-05</td>\n",
        "      <td>-1.282369e-05</td>\n",
        "      <td>-8.116502e-06</td>\n",
        "    </tr>\n",
        "    <tr>\n",
        "      <th>kr10c32</th>\n",
        "      <td>-4.790361e-05</td>\n",
        "      <td> 0.00</td>\n",
        "      <td> 0.00</td>\n",
        "      <td> 3.418081e-68</td>\n",
        "      <td> 3.418081e-68</td>\n",
        "      <td> 3.439011e-68</td>\n",
        "      <td> 4.958786e-51</td>\n",
        "      <td> 4.958786e-51</td>\n",
        "      <td> 1.060323e-40</td>\n",
        "      <td> 1.060323e-40</td>\n",
        "      <td>...</td>\n",
        "      <td>-1.162019e-06</td>\n",
        "      <td>-2.159153e-08</td>\n",
        "      <td> 6.950621e-07</td>\n",
        "      <td>-3.806109e-06</td>\n",
        "      <td>-1.883323e-05</td>\n",
        "      <td>-3.245957e-05</td>\n",
        "      <td>-3.111203e-05</td>\n",
        "      <td>-2.503794e-05</td>\n",
        "      <td>-1.995917e-05</td>\n",
        "      <td>-1.259132e-05</td>\n",
        "    </tr>\n",
        "    <tr>\n",
        "      <th>kr10c33</th>\n",
        "      <td>-8.681764e-05</td>\n",
        "      <td> 0.00</td>\n",
        "      <td> 0.00</td>\n",
        "      <td> 6.061935e-68</td>\n",
        "      <td> 6.061935e-68</td>\n",
        "      <td> 6.097133e-68</td>\n",
        "      <td> 6.479356e-51</td>\n",
        "      <td> 6.479356e-51</td>\n",
        "      <td> 1.630194e-40</td>\n",
        "      <td> 1.630194e-40</td>\n",
        "      <td>...</td>\n",
        "      <td>-2.361344e-06</td>\n",
        "      <td> 2.939230e-07</td>\n",
        "      <td> 2.034206e-06</td>\n",
        "      <td>-5.867395e-06</td>\n",
        "      <td>-3.307193e-05</td>\n",
        "      <td>-5.816232e-05</td>\n",
        "      <td>-5.563904e-05</td>\n",
        "      <td>-4.457287e-05</td>\n",
        "      <td>-3.521348e-05</td>\n",
        "      <td>-2.211994e-05</td>\n",
        "    </tr>\n",
        "    <tr>\n",
        "      <th>kr10c34</th>\n",
        "      <td>-1.639571e-04</td>\n",
        "      <td> 0.00</td>\n",
        "      <td> 0.00</td>\n",
        "      <td> 1.183752e-67</td>\n",
        "      <td> 1.183752e-67</td>\n",
        "      <td> 1.189480e-67</td>\n",
        "      <td> 8.218535e-51</td>\n",
        "      <td> 8.218535e-51</td>\n",
        "      <td> 2.602362e-40</td>\n",
        "      <td> 2.602362e-40</td>\n",
        "      <td>...</td>\n",
        "      <td>-4.401080e-06</td>\n",
        "      <td> 1.535291e-06</td>\n",
        "      <td> 5.477486e-06</td>\n",
        "      <td>-9.463242e-06</td>\n",
        "      <td>-6.143897e-05</td>\n",
        "      <td>-1.099903e-04</td>\n",
        "      <td>-1.051788e-04</td>\n",
        "      <td>-8.399779e-05</td>\n",
        "      <td>-6.586499e-05</td>\n",
        "      <td>-4.126237e-05</td>\n",
        "    </tr>\n",
        "    <tr>\n",
        "      <th>kr10c35</th>\n",
        "      <td>-6.333924e-05</td>\n",
        "      <td> 0.00</td>\n",
        "      <td> 0.00</td>\n",
        "      <td> 2.339385e-67</td>\n",
        "      <td> 2.339385e-67</td>\n",
        "      <td> 2.346789e-67</td>\n",
        "      <td> 1.665010e-50</td>\n",
        "      <td> 1.665010e-50</td>\n",
        "      <td> 2.195382e-40</td>\n",
        "      <td> 2.195382e-40</td>\n",
        "      <td>...</td>\n",
        "      <td> 6.961792e-07</td>\n",
        "      <td> 6.397755e-07</td>\n",
        "      <td>-4.901425e-07</td>\n",
        "      <td>-7.134712e-06</td>\n",
        "      <td>-2.656998e-05</td>\n",
        "      <td>-4.367988e-05</td>\n",
        "      <td>-4.165274e-05</td>\n",
        "      <td>-3.414606e-05</td>\n",
        "      <td>-2.826233e-05</td>\n",
        "      <td>-1.781791e-05</td>\n",
        "    </tr>\n",
        "    <tr>\n",
        "      <th>kr10c36</th>\n",
        "      <td> 5.816699e-04</td>\n",
        "      <td> 0.00</td>\n",
        "      <td> 0.00</td>\n",
        "      <td> 3.706158e-67</td>\n",
        "      <td> 3.706158e-67</td>\n",
        "      <td> 3.712383e-67</td>\n",
        "      <td> 4.318596e-50</td>\n",
        "      <td> 4.318596e-50</td>\n",
        "      <td>-2.598726e-40</td>\n",
        "      <td>-2.598726e-40</td>\n",
        "      <td>...</td>\n",
        "      <td> 2.970687e-05</td>\n",
        "      <td>-4.472307e-06</td>\n",
        "      <td>-3.278888e-05</td>\n",
        "      <td> 1.548848e-05</td>\n",
        "      <td> 2.036514e-04</td>\n",
        "      <td> 3.862278e-04</td>\n",
        "      <td> 3.698679e-04</td>\n",
        "      <td> 2.908129e-04</td>\n",
        "      <td> 2.201814e-04</td>\n",
        "      <td> 1.372841e-04</td>\n",
        "    </tr>\n",
        "    <tr>\n",
        "      <th>kr10c37</th>\n",
        "      <td> 6.743866e-04</td>\n",
        "      <td> 0.00</td>\n",
        "      <td> 0.00</td>\n",
        "      <td> 4.289394e-67</td>\n",
        "      <td> 4.289394e-67</td>\n",
        "      <td> 4.296190e-67</td>\n",
        "      <td> 6.134120e-50</td>\n",
        "      <td> 6.134120e-50</td>\n",
        "      <td>-2.599579e-40</td>\n",
        "      <td>-2.599579e-40</td>\n",
        "      <td>...</td>\n",
        "      <td> 3.854576e-05</td>\n",
        "      <td>-2.148013e-06</td>\n",
        "      <td>-3.666143e-05</td>\n",
        "      <td> 1.745050e-05</td>\n",
        "      <td> 2.337158e-04</td>\n",
        "      <td> 4.438891e-04</td>\n",
        "      <td> 4.248055e-04</td>\n",
        "      <td> 3.333200e-04</td>\n",
        "      <td> 2.517798e-04</td>\n",
        "      <td> 1.567492e-04</td>\n",
        "    </tr>\n",
        "    <tr>\n",
        "      <th>kr10c38</th>\n",
        "      <td> 5.750123e-04</td>\n",
        "      <td> 0.00</td>\n",
        "      <td> 0.00</td>\n",
        "      <td> 4.356857e-67</td>\n",
        "      <td> 4.356857e-67</td>\n",
        "      <td> 4.364466e-67</td>\n",
        "      <td> 9.113227e-50</td>\n",
        "      <td> 9.113227e-50</td>\n",
        "      <td>-7.045719e-41</td>\n",
        "      <td>-7.045719e-41</td>\n",
        "      <td>...</td>\n",
        "      <td> 4.438797e-05</td>\n",
        "      <td> 5.891451e-06</td>\n",
        "      <td>-2.836274e-05</td>\n",
        "      <td> 1.232272e-05</td>\n",
        "      <td> 1.911570e-04</td>\n",
        "      <td> 3.664898e-04</td>\n",
        "      <td> 3.498447e-04</td>\n",
        "      <td> 2.722507e-04</td>\n",
        "      <td> 2.034688e-04</td>\n",
        "      <td> 1.259242e-04</td>\n",
        "    </tr>\n",
        "    <tr>\n",
        "      <th>kr10c39</th>\n",
        "      <td> 4.896697e-04</td>\n",
        "      <td> 0.00</td>\n",
        "      <td> 0.00</td>\n",
        "      <td> 4.247464e-67</td>\n",
        "      <td> 4.247464e-67</td>\n",
        "      <td> 4.255276e-67</td>\n",
        "      <td> 1.589596e-49</td>\n",
        "      <td> 1.589596e-49</td>\n",
        "      <td> 1.442131e-40</td>\n",
        "      <td> 1.442131e-40</td>\n",
        "      <td>...</td>\n",
        "      <td> 6.160481e-05</td>\n",
        "      <td> 2.268874e-05</td>\n",
        "      <td>-1.442537e-05</td>\n",
        "      <td> 9.166711e-06</td>\n",
        "      <td> 1.483597e-04</td>\n",
        "      <td> 2.879864e-04</td>\n",
        "      <td> 2.730133e-04</td>\n",
        "      <td> 2.085377e-04</td>\n",
        "      <td> 1.525374e-04</td>\n",
        "      <td> 9.297802e-05</td>\n",
        "    </tr>\n",
        "    <tr>\n",
        "      <th>kr10c40</th>\n",
        "      <td> 5.348043e-04</td>\n",
        "      <td> 0.00</td>\n",
        "      <td> 0.00</td>\n",
        "      <td> 4.152645e-67</td>\n",
        "      <td> 4.152645e-67</td>\n",
        "      <td> 4.159788e-67</td>\n",
        "      <td> 2.911740e-49</td>\n",
        "      <td> 2.911740e-49</td>\n",
        "      <td> 2.459231e-40</td>\n",
        "      <td> 2.459231e-40</td>\n",
        "      <td>...</td>\n",
        "      <td> 2.883028e-05</td>\n",
        "      <td>-1.237430e-05</td>\n",
        "      <td>-4.859993e-05</td>\n",
        "      <td>-6.437500e-06</td>\n",
        "      <td> 1.762011e-04</td>\n",
        "      <td> 3.557969e-04</td>\n",
        "      <td> 3.408314e-04</td>\n",
        "      <td> 2.633653e-04</td>\n",
        "      <td> 1.944164e-04</td>\n",
        "      <td> 1.193374e-04</td>\n",
        "    </tr>\n",
        "    <tr>\n",
        "      <th>kr10c41</th>\n",
        "      <td> 9.230585e-04</td>\n",
        "      <td> 0.00</td>\n",
        "      <td> 0.00</td>\n",
        "      <td> 4.180994e-67</td>\n",
        "      <td> 4.180994e-67</td>\n",
        "      <td> 4.185596e-67</td>\n",
        "      <td> 4.383427e-49</td>\n",
        "      <td> 4.383427e-49</td>\n",
        "      <td>-5.441670e-42</td>\n",
        "      <td>-5.441670e-42</td>\n",
        "      <td>...</td>\n",
        "      <td>-1.579213e-04</td>\n",
        "      <td>-2.037777e-04</td>\n",
        "      <td>-2.233140e-04</td>\n",
        "      <td>-5.799626e-05</td>\n",
        "      <td> 4.023434e-04</td>\n",
        "      <td> 8.349452e-04</td>\n",
        "      <td> 8.168289e-04</td>\n",
        "      <td> 6.545194e-04</td>\n",
        "      <td> 5.007348e-04</td>\n",
        "      <td> 3.154636e-04</td>\n",
        "    </tr>\n",
        "    <tr>\n",
        "      <th>kr10c42</th>\n",
        "      <td> 9.743191e-04</td>\n",
        "      <td> 0.00</td>\n",
        "      <td> 0.00</td>\n",
        "      <td> 4.098088e-67</td>\n",
        "      <td> 4.098088e-67</td>\n",
        "      <td> 4.101657e-67</td>\n",
        "      <td> 5.018530e-49</td>\n",
        "      <td> 5.018530e-49</td>\n",
        "      <td> 1.673082e-40</td>\n",
        "      <td> 1.673082e-40</td>\n",
        "      <td>...</td>\n",
        "      <td>-1.911360e-04</td>\n",
        "      <td>-2.426379e-04</td>\n",
        "      <td>-2.649521e-04</td>\n",
        "      <td>-8.283533e-05</td>\n",
        "      <td> 4.229698e-04</td>\n",
        "      <td> 8.985891e-04</td>\n",
        "      <td> 8.801269e-04</td>\n",
        "      <td> 7.036974e-04</td>\n",
        "      <td> 5.359830e-04</td>\n",
        "      <td> 3.364849e-04</td>\n",
        "    </tr>\n",
        "    <tr>\n",
        "      <th>kr10c43</th>\n",
        "      <td> 9.108546e-04</td>\n",
        "      <td> 0.00</td>\n",
        "      <td> 0.00</td>\n",
        "      <td> 3.982054e-67</td>\n",
        "      <td> 3.982054e-67</td>\n",
        "      <td> 3.984976e-67</td>\n",
        "      <td> 5.111539e-49</td>\n",
        "      <td> 5.111539e-49</td>\n",
        "      <td> 5.082175e-40</td>\n",
        "      <td> 5.082175e-40</td>\n",
        "      <td>...</td>\n",
        "      <td>-1.707971e-04</td>\n",
        "      <td>-2.312184e-04</td>\n",
        "      <td>-2.657122e-04</td>\n",
        "      <td>-1.060948e-04</td>\n",
        "      <td> 3.630029e-04</td>\n",
        "      <td> 8.087210e-04</td>\n",
        "      <td> 7.908734e-04</td>\n",
        "      <td> 6.250603e-04</td>\n",
        "      <td> 4.680191e-04</td>\n",
        "      <td> 2.900019e-04</td>\n",
        "    </tr>\n",
        "    <tr>\n",
        "      <th>kr10c44</th>\n",
        "      <td> 8.647707e-04</td>\n",
        "      <td> 0.00</td>\n",
        "      <td> 0.00</td>\n",
        "      <td> 3.878611e-67</td>\n",
        "      <td> 3.878611e-67</td>\n",
        "      <td> 3.880617e-67</td>\n",
        "      <td> 5.004829e-49</td>\n",
        "      <td> 5.004829e-49</td>\n",
        "      <td> 8.509499e-40</td>\n",
        "      <td> 8.509499e-40</td>\n",
        "      <td>...</td>\n",
        "      <td>-1.554296e-04</td>\n",
        "      <td>-2.305275e-04</td>\n",
        "      <td>-2.833472e-04</td>\n",
        "      <td>-1.492810e-04</td>\n",
        "      <td> 2.855253e-04</td>\n",
        "      <td> 7.060154e-04</td>\n",
        "      <td> 6.883703e-04</td>\n",
        "      <td> 5.319382e-04</td>\n",
        "      <td> 3.839439e-04</td>\n",
        "      <td> 2.310492e-04</td>\n",
        "    </tr>\n",
        "    <tr>\n",
        "      <th>kr10c45</th>\n",
        "      <td> 8.994758e-04</td>\n",
        "      <td> 0.00</td>\n",
        "      <td> 0.00</td>\n",
        "      <td> 3.824191e-67</td>\n",
        "      <td> 3.824191e-67</td>\n",
        "      <td> 3.824541e-67</td>\n",
        "      <td> 4.891769e-49</td>\n",
        "      <td> 4.891769e-49</td>\n",
        "      <td> 1.072627e-39</td>\n",
        "      <td> 1.072627e-39</td>\n",
        "      <td>...</td>\n",
        "      <td>-3.272614e-04</td>\n",
        "      <td>-3.973601e-04</td>\n",
        "      <td>-4.422253e-04</td>\n",
        "      <td>-2.633894e-04</td>\n",
        "      <td> 2.657913e-04</td>\n",
        "      <td> 7.708329e-04</td>\n",
        "      <td> 7.586038e-04</td>\n",
        "      <td> 5.803473e-04</td>\n",
        "      <td> 4.096064e-04</td>\n",
        "      <td> 2.413189e-04</td>\n",
        "    </tr>\n",
        "    <tr>\n",
        "      <th>kr10c46</th>\n",
        "      <td> 1.119447e-03</td>\n",
        "      <td> 0.00</td>\n",
        "      <td> 0.00</td>\n",
        "      <td> 3.883528e-67</td>\n",
        "      <td> 3.883528e-67</td>\n",
        "      <td> 3.880768e-67</td>\n",
        "      <td> 4.874970e-49</td>\n",
        "      <td> 4.874970e-49</td>\n",
        "      <td> 9.669824e-40</td>\n",
        "      <td> 9.669824e-40</td>\n",
        "      <td>...</td>\n",
        "      <td>-9.567837e-04</td>\n",
        "      <td>-9.606334e-04</td>\n",
        "      <td>-9.193276e-04</td>\n",
        "      <td>-5.059454e-04</td>\n",
        "      <td> 4.530965e-04</td>\n",
        "      <td> 1.323569e-03</td>\n",
        "      <td> 1.329329e-03</td>\n",
        "      <td> 1.047498e-03</td>\n",
        "      <td> 7.718166e-04</td>\n",
        "      <td> 4.696457e-04</td>\n",
        "    </tr>\n",
        "    <tr>\n",
        "      <th>kr10c47</th>\n",
        "      <td> 1.150739e-03</td>\n",
        "      <td> 0.00</td>\n",
        "      <td> 0.00</td>\n",
        "      <td> 3.853955e-67</td>\n",
        "      <td> 3.853955e-67</td>\n",
        "      <td> 3.848871e-67</td>\n",
        "      <td> 4.780183e-49</td>\n",
        "      <td> 4.780183e-49</td>\n",
        "      <td> 1.061758e-39</td>\n",
        "      <td> 1.061758e-39</td>\n",
        "      <td>...</td>\n",
        "      <td>-1.144082e-03</td>\n",
        "      <td>-1.145490e-03</td>\n",
        "      <td>-1.110624e-03</td>\n",
        "      <td>-6.513513e-04</td>\n",
        "      <td> 4.245987e-04</td>\n",
        "      <td> 1.404060e-03</td>\n",
        "      <td> 1.415075e-03</td>\n",
        "      <td> 1.103912e-03</td>\n",
        "      <td> 7.979116e-04</td>\n",
        "      <td> 4.774424e-04</td>\n",
        "    </tr>\n",
        "    <tr>\n",
        "      <th>kr10c48</th>\n",
        "      <td> 1.106402e-03</td>\n",
        "      <td> 0.00</td>\n",
        "      <td> 0.00</td>\n",
        "      <td> 3.809761e-67</td>\n",
        "      <td> 3.809761e-67</td>\n",
        "      <td> 3.802106e-67</td>\n",
        "      <td> 4.682360e-49</td>\n",
        "      <td> 4.682360e-49</td>\n",
        "      <td> 1.160177e-39</td>\n",
        "      <td> 1.160177e-39</td>\n",
        "      <td>...</td>\n",
        "      <td>-1.122008e-03</td>\n",
        "      <td>-1.141994e-03</td>\n",
        "      <td>-1.162071e-03</td>\n",
        "      <td>-7.253974e-04</td>\n",
        "      <td> 3.729071e-04</td>\n",
        "      <td> 1.387458e-03</td>\n",
        "      <td> 1.396441e-03</td>\n",
        "      <td> 1.073515e-03</td>\n",
        "      <td> 7.561293e-04</td>\n",
        "      <td> 4.423974e-04</td>\n",
        "    </tr>\n",
        "    <tr>\n",
        "      <th>kr10c49</th>\n",
        "      <td> 1.051531e-03</td>\n",
        "      <td> 0.00</td>\n",
        "      <td> 0.00</td>\n",
        "      <td> 3.788840e-67</td>\n",
        "      <td> 3.788840e-67</td>\n",
        "      <td> 3.777661e-67</td>\n",
        "      <td> 4.617675e-49</td>\n",
        "      <td> 4.617675e-49</td>\n",
        "      <td> 1.157820e-39</td>\n",
        "      <td> 1.157820e-39</td>\n",
        "      <td>...</td>\n",
        "      <td>-1.031780e-03</td>\n",
        "      <td>-1.066381e-03</td>\n",
        "      <td>-1.170871e-03</td>\n",
        "      <td>-7.576993e-04</td>\n",
        "      <td> 3.990302e-04</td>\n",
        "      <td> 1.487015e-03</td>\n",
        "      <td> 1.490303e-03</td>\n",
        "      <td> 1.138861e-03</td>\n",
        "      <td> 7.951955e-04</td>\n",
        "      <td> 4.618905e-04</td>\n",
        "    </tr>\n",
        "    <tr>\n",
        "      <th>kr10c50</th>\n",
        "      <td> 1.002845e-03</td>\n",
        "      <td> 0.00</td>\n",
        "      <td> 0.00</td>\n",
        "      <td> 3.815676e-67</td>\n",
        "      <td> 3.815676e-67</td>\n",
        "      <td> 3.799401e-67</td>\n",
        "      <td> 4.615061e-49</td>\n",
        "      <td> 4.615061e-49</td>\n",
        "      <td> 9.815513e-40</td>\n",
        "      <td> 9.815513e-40</td>\n",
        "      <td>...</td>\n",
        "      <td>-1.346457e-03</td>\n",
        "      <td>-1.421891e-03</td>\n",
        "      <td>-1.440594e-03</td>\n",
        "      <td>-8.611301e-04</td>\n",
        "      <td> 6.001488e-04</td>\n",
        "      <td> 1.952982e-03</td>\n",
        "      <td> 1.960810e-03</td>\n",
        "      <td> 1.526633e-03</td>\n",
        "      <td> 1.102264e-03</td>\n",
        "      <td> 6.600024e-04</td>\n",
        "    </tr>\n",
        "    <tr>\n",
        "      <th>kr10c51</th>\n",
        "      <td> 9.812626e-04</td>\n",
        "      <td> 0.00</td>\n",
        "      <td> 0.00</td>\n",
        "      <td> 3.904380e-67</td>\n",
        "      <td> 3.904380e-67</td>\n",
        "      <td> 3.880761e-67</td>\n",
        "      <td> 4.681859e-49</td>\n",
        "      <td> 4.681859e-49</td>\n",
        "      <td> 3.817485e-40</td>\n",
        "      <td> 3.817485e-40</td>\n",
        "      <td>...</td>\n",
        "      <td> 2.472950e-01</td>\n",
        "      <td>-2.884330e-03</td>\n",
        "      <td>-2.374567e-03</td>\n",
        "      <td>-1.184290e-03</td>\n",
        "      <td> 1.100601e-03</td>\n",
        "      <td> 3.105803e-03</td>\n",
        "      <td> 3.147207e-03</td>\n",
        "      <td> 2.529064e-03</td>\n",
        "      <td> 1.919619e-03</td>\n",
        "      <td> 1.197786e-03</td>\n",
        "    </tr>\n",
        "    <tr>\n",
        "      <th>kr10c52</th>\n",
        "      <td> 8.395643e-04</td>\n",
        "      <td> 0.00</td>\n",
        "      <td> 0.00</td>\n",
        "      <td> 3.746483e-67</td>\n",
        "      <td> 3.746483e-67</td>\n",
        "      <td> 3.716155e-67</td>\n",
        "      <td> 4.423047e-49</td>\n",
        "      <td> 4.423047e-49</td>\n",
        "      <td>-8.046519e-40</td>\n",
        "      <td>-8.046519e-40</td>\n",
        "      <td>...</td>\n",
        "      <td>-2.884330e-03</td>\n",
        "      <td> 2.468986e-01</td>\n",
        "      <td>-2.560413e-03</td>\n",
        "      <td>-1.238538e-03</td>\n",
        "      <td> 1.349637e-03</td>\n",
        "      <td> 3.632802e-03</td>\n",
        "      <td> 3.670357e-03</td>\n",
        "      <td> 2.958140e-03</td>\n",
        "      <td> 2.259813e-03</td>\n",
        "      <td> 1.417619e-03</td>\n",
        "    </tr>\n",
        "    <tr>\n",
        "      <th>kr10c53</th>\n",
        "      <td> 6.149931e-04</td>\n",
        "      <td> 0.00</td>\n",
        "      <td> 0.00</td>\n",
        "      <td> 2.974874e-67</td>\n",
        "      <td> 2.974874e-67</td>\n",
        "      <td> 2.944353e-67</td>\n",
        "      <td> 3.330180e-49</td>\n",
        "      <td> 3.330180e-49</td>\n",
        "      <td>-1.964839e-39</td>\n",
        "      <td>-1.964839e-39</td>\n",
        "      <td>...</td>\n",
        "      <td>-2.374567e-03</td>\n",
        "      <td>-2.560413e-03</td>\n",
        "      <td> 2.478178e-01</td>\n",
        "      <td>-1.105470e-03</td>\n",
        "      <td> 1.101355e-03</td>\n",
        "      <td> 3.073958e-03</td>\n",
        "      <td> 3.100969e-03</td>\n",
        "      <td> 2.483091e-03</td>\n",
        "      <td> 1.878872e-03</td>\n",
        "      <td> 1.169967e-03</td>\n",
        "    </tr>\n",
        "    <tr>\n",
        "      <th>kr10c54</th>\n",
        "      <td> 3.466081e-04</td>\n",
        "      <td> 0.00</td>\n",
        "      <td> 0.00</td>\n",
        "      <td> 8.645118e-68</td>\n",
        "      <td> 8.645118e-68</td>\n",
        "      <td> 8.544413e-68</td>\n",
        "      <td> 8.750685e-50</td>\n",
        "      <td> 8.750685e-50</td>\n",
        "      <td>-3.682447e-40</td>\n",
        "      <td>-3.682447e-40</td>\n",
        "      <td>...</td>\n",
        "      <td>-1.184290e-03</td>\n",
        "      <td>-1.238538e-03</td>\n",
        "      <td>-1.105470e-03</td>\n",
        "      <td> 2.492337e-01</td>\n",
        "      <td>-6.479885e-05</td>\n",
        "      <td> 5.994941e-04</td>\n",
        "      <td> 6.318716e-04</td>\n",
        "      <td> 4.524452e-04</td>\n",
        "      <td> 2.706850e-04</td>\n",
        "      <td> 1.326334e-04</td>\n",
        "    </tr>\n",
        "    <tr>\n",
        "      <th>kr10c55</th>\n",
        "      <td> 1.646148e-04</td>\n",
        "      <td> 0.00</td>\n",
        "      <td> 0.00</td>\n",
        "      <td>-4.338425e-68</td>\n",
        "      <td>-4.338425e-68</td>\n",
        "      <td>-4.282933e-68</td>\n",
        "      <td>-4.600948e-50</td>\n",
        "      <td>-4.600948e-50</td>\n",
        "      <td> 1.073045e-39</td>\n",
        "      <td> 1.073045e-39</td>\n",
        "      <td>...</td>\n",
        "      <td> 1.100601e-03</td>\n",
        "      <td> 1.349637e-03</td>\n",
        "      <td> 1.101355e-03</td>\n",
        "      <td>-6.479885e-05</td>\n",
        "      <td> 2.473229e-01</td>\n",
        "      <td>-4.987617e-03</td>\n",
        "      <td>-4.930303e-03</td>\n",
        "      <td>-4.105332e-03</td>\n",
        "      <td>-3.328132e-03</td>\n",
        "      <td>-2.184402e-03</td>\n",
        "    </tr>\n",
        "    <tr>\n",
        "      <th>kr10c56</th>\n",
        "      <td> 8.465517e-05</td>\n",
        "      <td> 0.00</td>\n",
        "      <td> 0.00</td>\n",
        "      <td>-6.024574e-68</td>\n",
        "      <td>-6.024574e-68</td>\n",
        "      <td>-5.937861e-68</td>\n",
        "      <td>-5.118242e-50</td>\n",
        "      <td>-5.118242e-50</td>\n",
        "      <td> 1.392246e-39</td>\n",
        "      <td> 1.392246e-39</td>\n",
        "      <td>...</td>\n",
        "      <td> 3.105803e-03</td>\n",
        "      <td> 3.632802e-03</td>\n",
        "      <td> 3.073958e-03</td>\n",
        "      <td> 5.994941e-04</td>\n",
        "      <td>-4.987617e-03</td>\n",
        "      <td> 2.398391e-01</td>\n",
        "      <td>-1.014449e-02</td>\n",
        "      <td>-8.391293e-03</td>\n",
        "      <td>-6.724424e-03</td>\n",
        "      <td>-4.377038e-03</td>\n",
        "    </tr>\n",
        "    <tr>\n",
        "      <th>kr10c57</th>\n",
        "      <td>-5.928168e-06</td>\n",
        "      <td> 0.00</td>\n",
        "      <td> 0.00</td>\n",
        "      <td>-9.039347e-68</td>\n",
        "      <td>-9.039347e-68</td>\n",
        "      <td>-8.903005e-68</td>\n",
        "      <td>-7.118637e-50</td>\n",
        "      <td>-7.118637e-50</td>\n",
        "      <td> 1.989054e-39</td>\n",
        "      <td> 1.989054e-39</td>\n",
        "      <td>...</td>\n",
        "      <td> 3.147207e-03</td>\n",
        "      <td> 3.670357e-03</td>\n",
        "      <td> 3.100969e-03</td>\n",
        "      <td> 6.318716e-04</td>\n",
        "      <td>-4.930303e-03</td>\n",
        "      <td>-1.014449e-02</td>\n",
        "      <td> 2.398390e-01</td>\n",
        "      <td>-8.413679e-03</td>\n",
        "      <td>-6.748148e-03</td>\n",
        "      <td>-4.395084e-03</td>\n",
        "    </tr>\n",
        "    <tr>\n",
        "      <th>kr10c58</th>\n",
        "      <td>-7.130584e-05</td>\n",
        "      <td> 0.00</td>\n",
        "      <td> 0.00</td>\n",
        "      <td>-1.051997e-67</td>\n",
        "      <td>-1.051997e-67</td>\n",
        "      <td>-1.035970e-67</td>\n",
        "      <td>-8.096903e-50</td>\n",
        "      <td>-8.096903e-50</td>\n",
        "      <td> 2.198186e-39</td>\n",
        "      <td> 2.198186e-39</td>\n",
        "      <td>...</td>\n",
        "      <td> 2.529064e-03</td>\n",
        "      <td> 2.958140e-03</td>\n",
        "      <td> 2.483091e-03</td>\n",
        "      <td> 4.524452e-04</td>\n",
        "      <td>-4.105332e-03</td>\n",
        "      <td>-8.391293e-03</td>\n",
        "      <td>-8.413679e-03</td>\n",
        "      <td> 2.430199e-01</td>\n",
        "      <td>-5.612710e-03</td>\n",
        "      <td>-3.662243e-03</td>\n",
        "    </tr>\n",
        "    <tr>\n",
        "      <th>kr10c59</th>\n",
        "      <td>-1.100314e-04</td>\n",
        "      <td> 0.00</td>\n",
        "      <td> 0.00</td>\n",
        "      <td>-1.130614e-67</td>\n",
        "      <td>-1.130614e-67</td>\n",
        "      <td>-1.113415e-67</td>\n",
        "      <td>-8.734316e-50</td>\n",
        "      <td>-8.734316e-50</td>\n",
        "      <td> 2.288419e-39</td>\n",
        "      <td> 2.288419e-39</td>\n",
        "      <td>...</td>\n",
        "      <td> 1.919619e-03</td>\n",
        "      <td> 2.259813e-03</td>\n",
        "      <td> 1.878872e-03</td>\n",
        "      <td> 2.706850e-04</td>\n",
        "      <td>-3.328132e-03</td>\n",
        "      <td>-6.724424e-03</td>\n",
        "      <td>-6.748148e-03</td>\n",
        "      <td>-5.612710e-03</td>\n",
        "      <td> 2.454704e-01</td>\n",
        "      <td>-2.963214e-03</td>\n",
        "    </tr>\n",
        "    <tr>\n",
        "      <th>kr10c60</th>\n",
        "      <td>-9.446230e-05</td>\n",
        "      <td> 0.00</td>\n",
        "      <td> 0.00</td>\n",
        "      <td>-8.716317e-68</td>\n",
        "      <td>-8.716317e-68</td>\n",
        "      <td>-8.584017e-68</td>\n",
        "      <td>-6.777083e-50</td>\n",
        "      <td>-6.777083e-50</td>\n",
        "      <td> 1.741916e-39</td>\n",
        "      <td> 1.741916e-39</td>\n",
        "      <td>...</td>\n",
        "      <td> 1.197786e-03</td>\n",
        "      <td> 1.417619e-03</td>\n",
        "      <td> 1.169967e-03</td>\n",
        "      <td> 1.326334e-04</td>\n",
        "      <td>-2.184402e-03</td>\n",
        "      <td>-4.377038e-03</td>\n",
        "      <td>-4.395084e-03</td>\n",
        "      <td>-3.662243e-03</td>\n",
        "      <td>-2.963214e-03</td>\n",
        "      <td> 2.480580e-01</td>\n",
        "    </tr>\n",
        "  </tbody>\n",
        "</table>\n",
        "<p>601 rows \u00d7 601 columns</p>\n",
        "</div>"
       ],
       "metadata": {},
       "output_type": "pyout",
       "prompt_number": 7,
       "text": [
        "                mult1  kr01c01  kr01c02       kr01c03       kr01c04  \\\n",
        "mult1    1.795714e-03     0.00     0.00  4.893124e-68  4.893124e-68   \n",
        "kr01c01  0.000000e+00     0.25     0.00  0.000000e+00  0.000000e+00   \n",
        "kr01c02  0.000000e+00     0.00     0.25  0.000000e+00  0.000000e+00   \n",
        "kr01c03  4.893124e-68     0.00     0.00  2.500000e-01 -4.924010e-72   \n",
        "kr01c04  4.893124e-68     0.00     0.00 -4.924010e-72  2.500000e-01   \n",
        "kr01c05  4.821303e-68     0.00     0.00 -4.924025e-72 -4.924025e-72   \n",
        "kr01c06  4.173729e-50     0.00     0.00 -9.232507e-72 -9.232507e-72   \n",
        "kr01c07  4.173729e-50     0.00     0.00 -9.232538e-72 -9.232538e-72   \n",
        "kr01c08 -9.510478e-40     0.00     0.00 -1.354103e-71 -1.354103e-71   \n",
        "kr01c09 -9.510478e-40     0.00     0.00 -1.846506e-71 -1.846506e-71   \n",
        "kr01c10  1.147096e-32     0.00     0.00 -2.277359e-71 -2.277359e-71   \n",
        "kr01c11  1.147096e-32     0.00     0.00 -3.200611e-71 -3.200611e-71   \n",
        "kr01c12  1.147096e-32     0.00     0.00 -4.062314e-71 -4.062314e-71   \n",
        "kr01c13  1.147096e-32     0.00     0.00 -5.908818e-71 -5.908818e-71   \n",
        "kr01c14  1.147096e-32     0.00     0.00 -7.693777e-71 -7.693777e-71   \n",
        "kr01c15  2.064773e-32     0.00     0.00 -1.089439e-70 -1.089439e-70   \n",
        "kr01c16  1.034512e-07     0.00     0.00 -1.510664e-70 -1.510664e-70   \n",
        "kr01c17  1.034512e-07     0.00     0.00 -2.009221e-70 -2.009221e-70   \n",
        "kr01c18  4.519382e-07     0.00     0.00 -2.645368e-70 -2.645368e-70   \n",
        "kr01c19  1.098658e-06     0.00     0.00 -3.439808e-70 -3.439808e-70   \n",
        "kr01c20  7.488831e-07     0.00     0.00 -4.956253e-70 -4.956253e-70   \n",
        "kr01c21  7.444991e-07     0.00     0.00 -6.882616e-70 -6.882616e-70   \n",
        "kr01c22  7.394888e-07     0.00     0.00 -9.502714e-70 -9.502714e-70   \n",
        "kr01c23  2.364131e-06     0.00     0.00 -1.238254e-69 -1.238254e-69   \n",
        "kr01c24  2.746114e-06     0.00     0.00 -1.691439e-69 -1.691439e-69   \n",
        "kr01c25  4.444422e-06     0.00     0.00 -2.263077e-69 -2.263077e-69   \n",
        "kr01c26  4.783177e-06     0.00     0.00 -3.106461e-69 -3.106461e-69   \n",
        "kr01c27  7.199304e-06     0.00     0.00 -4.131524e-69 -4.131524e-69   \n",
        "kr01c28  9.017238e-06     0.00     0.00 -5.536919e-69 -5.536919e-69   \n",
        "kr01c29  1.227198e-05     0.00     0.00 -7.309167e-69 -7.309167e-69   \n",
        "...               ...      ...      ...           ...           ...   \n",
        "kr10c31 -2.985632e-05     0.00     0.00  2.158163e-68  2.158163e-68   \n",
        "kr10c32 -4.790361e-05     0.00     0.00  3.418081e-68  3.418081e-68   \n",
        "kr10c33 -8.681764e-05     0.00     0.00  6.061935e-68  6.061935e-68   \n",
        "kr10c34 -1.639571e-04     0.00     0.00  1.183752e-67  1.183752e-67   \n",
        "kr10c35 -6.333924e-05     0.00     0.00  2.339385e-67  2.339385e-67   \n",
        "kr10c36  5.816699e-04     0.00     0.00  3.706158e-67  3.706158e-67   \n",
        "kr10c37  6.743866e-04     0.00     0.00  4.289394e-67  4.289394e-67   \n",
        "kr10c38  5.750123e-04     0.00     0.00  4.356857e-67  4.356857e-67   \n",
        "kr10c39  4.896697e-04     0.00     0.00  4.247464e-67  4.247464e-67   \n",
        "kr10c40  5.348043e-04     0.00     0.00  4.152645e-67  4.152645e-67   \n",
        "kr10c41  9.230585e-04     0.00     0.00  4.180994e-67  4.180994e-67   \n",
        "kr10c42  9.743191e-04     0.00     0.00  4.098088e-67  4.098088e-67   \n",
        "kr10c43  9.108546e-04     0.00     0.00  3.982054e-67  3.982054e-67   \n",
        "kr10c44  8.647707e-04     0.00     0.00  3.878611e-67  3.878611e-67   \n",
        "kr10c45  8.994758e-04     0.00     0.00  3.824191e-67  3.824191e-67   \n",
        "kr10c46  1.119447e-03     0.00     0.00  3.883528e-67  3.883528e-67   \n",
        "kr10c47  1.150739e-03     0.00     0.00  3.853955e-67  3.853955e-67   \n",
        "kr10c48  1.106402e-03     0.00     0.00  3.809761e-67  3.809761e-67   \n",
        "kr10c49  1.051531e-03     0.00     0.00  3.788840e-67  3.788840e-67   \n",
        "kr10c50  1.002845e-03     0.00     0.00  3.815676e-67  3.815676e-67   \n",
        "kr10c51  9.812626e-04     0.00     0.00  3.904380e-67  3.904380e-67   \n",
        "kr10c52  8.395643e-04     0.00     0.00  3.746483e-67  3.746483e-67   \n",
        "kr10c53  6.149931e-04     0.00     0.00  2.974874e-67  2.974874e-67   \n",
        "kr10c54  3.466081e-04     0.00     0.00  8.645118e-68  8.645118e-68   \n",
        "kr10c55  1.646148e-04     0.00     0.00 -4.338425e-68 -4.338425e-68   \n",
        "kr10c56  8.465517e-05     0.00     0.00 -6.024574e-68 -6.024574e-68   \n",
        "kr10c57 -5.928168e-06     0.00     0.00 -9.039347e-68 -9.039347e-68   \n",
        "kr10c58 -7.130584e-05     0.00     0.00 -1.051997e-67 -1.051997e-67   \n",
        "kr10c59 -1.100314e-04     0.00     0.00 -1.130614e-67 -1.130614e-67   \n",
        "kr10c60 -9.446230e-05     0.00     0.00 -8.716317e-68 -8.716317e-68   \n",
        "\n",
        "              kr01c05       kr01c06       kr01c07       kr01c08       kr01c09  \\\n",
        "mult1    4.821303e-68  4.173729e-50  4.173729e-50 -9.510478e-40 -9.510478e-40   \n",
        "kr01c01  0.000000e+00  0.000000e+00  0.000000e+00  0.000000e+00  0.000000e+00   \n",
        "kr01c02  0.000000e+00  0.000000e+00  0.000000e+00  0.000000e+00  0.000000e+00   \n",
        "kr01c03 -4.924025e-72 -9.232507e-72 -9.232538e-72 -1.354103e-71 -1.846506e-71   \n",
        "kr01c04 -4.924025e-72 -9.232507e-72 -9.232538e-72 -1.354103e-71 -1.846506e-71   \n",
        "kr01c05  2.500000e-01 -9.294849e-72 -9.294895e-72 -1.360340e-71 -1.852745e-71   \n",
        "kr01c06 -9.294849e-72  2.500000e-01 -4.923979e-54 -4.923979e-54 -4.923979e-54   \n",
        "kr01c07 -9.294895e-72 -4.923979e-54  2.500000e-01 -4.923979e-54 -4.923979e-54   \n",
        "kr01c08 -1.360340e-71 -4.923979e-54 -4.923979e-54  2.500000e-01 -7.693717e-44   \n",
        "kr01c09 -1.852745e-71 -4.923979e-54 -4.923979e-54 -7.693717e-44  2.500000e-01   \n",
        "kr01c10 -2.289832e-71 -4.923979e-54 -4.923979e-54 -7.693717e-44 -7.693717e-44   \n",
        "kr01c11 -3.213087e-71 -9.847958e-54 -9.847958e-54 -7.693717e-44 -7.693717e-44   \n",
        "kr01c12 -4.074793e-71 -9.847958e-54 -9.847958e-54 -7.693717e-44 -7.693717e-44   \n",
        "kr01c13 -5.921303e-71 -1.477194e-53 -1.477194e-53 -1.538743e-43 -1.538743e-43   \n",
        "kr01c14 -7.713196e-71 -1.969592e-53 -1.969592e-53 -2.308115e-43 -2.308115e-43   \n",
        "kr01c15 -1.092005e-70 -2.954387e-53 -2.954387e-53 -3.077487e-43 -3.077487e-43   \n",
        "kr01c16 -1.514480e-70 -3.684062e-53 -3.684062e-53 -5.921106e-43 -5.921106e-43   \n",
        "kr01c17 -2.014285e-70 -4.668857e-53 -4.668857e-53 -7.459849e-43 -7.459849e-43   \n",
        "kr01c18 -2.653418e-70 -5.890697e-53 -5.890697e-53 -1.383038e-42 -1.383038e-42   \n",
        "kr01c19 -3.452896e-70 -6.548479e-53 -6.548479e-53 -2.155284e-42 -2.155284e-42   \n",
        "kr01c20 -4.968999e-70 -1.166062e-52 -1.166062e-52 -2.331096e-42 -2.331096e-42   \n",
        "kr01c21 -6.898214e-70 -1.693726e-52 -1.693726e-52 -2.835963e-42 -2.835963e-42   \n",
        "kr01c22 -9.522366e-70 -2.424267e-52 -2.424267e-52 -3.500883e-42 -3.500883e-42   \n",
        "kr01c23 -1.241470e-69 -2.806783e-52 -2.806783e-52 -6.029900e-42 -6.029900e-42   \n",
        "kr01c24 -1.695412e-69 -3.890707e-52 -3.890707e-52 -7.691968e-42 -7.691968e-42   \n",
        "kr01c25 -2.268348e-69 -5.151679e-52 -5.151679e-52 -1.113621e-41 -1.113621e-41   \n",
        "kr01c26 -3.112233e-69 -7.454899e-52 -7.454899e-52 -1.425858e-41 -1.425858e-41   \n",
        "kr01c27 -4.138126e-69 -9.883522e-52 -9.883522e-52 -1.975078e-41 -1.975078e-41   \n",
        "kr01c28 -5.542673e-69 -1.371294e-51 -1.371294e-51 -2.614142e-41 -2.614142e-41   \n",
        "kr01c29 -7.312430e-69 -1.842363e-51 -1.842363e-51 -3.615151e-41 -3.615151e-41   \n",
        "...               ...           ...           ...           ...           ...   \n",
        "kr10c31  2.170612e-68  3.686256e-51  3.686256e-51  7.316296e-41  7.316296e-41   \n",
        "kr10c32  3.439011e-68  4.958786e-51  4.958786e-51  1.060323e-40  1.060323e-40   \n",
        "kr10c33  6.097133e-68  6.479356e-51  6.479356e-51  1.630194e-40  1.630194e-40   \n",
        "kr10c34  1.189480e-67  8.218535e-51  8.218535e-51  2.602362e-40  2.602362e-40   \n",
        "kr10c35  2.346789e-67  1.665010e-50  1.665010e-50  2.195382e-40  2.195382e-40   \n",
        "kr10c36  3.712383e-67  4.318596e-50  4.318596e-50 -2.598726e-40 -2.598726e-40   \n",
        "kr10c37  4.296190e-67  6.134120e-50  6.134120e-50 -2.599579e-40 -2.599579e-40   \n",
        "kr10c38  4.364466e-67  9.113227e-50  9.113227e-50 -7.045719e-41 -7.045719e-41   \n",
        "kr10c39  4.255276e-67  1.589596e-49  1.589596e-49  1.442131e-40  1.442131e-40   \n",
        "kr10c40  4.159788e-67  2.911740e-49  2.911740e-49  2.459231e-40  2.459231e-40   \n",
        "kr10c41  4.185596e-67  4.383427e-49  4.383427e-49 -5.441670e-42 -5.441670e-42   \n",
        "kr10c42  4.101657e-67  5.018530e-49  5.018530e-49  1.673082e-40  1.673082e-40   \n",
        "kr10c43  3.984976e-67  5.111539e-49  5.111539e-49  5.082175e-40  5.082175e-40   \n",
        "kr10c44  3.880617e-67  5.004829e-49  5.004829e-49  8.509499e-40  8.509499e-40   \n",
        "kr10c45  3.824541e-67  4.891769e-49  4.891769e-49  1.072627e-39  1.072627e-39   \n",
        "kr10c46  3.880768e-67  4.874970e-49  4.874970e-49  9.669824e-40  9.669824e-40   \n",
        "kr10c47  3.848871e-67  4.780183e-49  4.780183e-49  1.061758e-39  1.061758e-39   \n",
        "kr10c48  3.802106e-67  4.682360e-49  4.682360e-49  1.160177e-39  1.160177e-39   \n",
        "kr10c49  3.777661e-67  4.617675e-49  4.617675e-49  1.157820e-39  1.157820e-39   \n",
        "kr10c50  3.799401e-67  4.615061e-49  4.615061e-49  9.815513e-40  9.815513e-40   \n",
        "kr10c51  3.880761e-67  4.681859e-49  4.681859e-49  3.817485e-40  3.817485e-40   \n",
        "kr10c52  3.716155e-67  4.423047e-49  4.423047e-49 -8.046519e-40 -8.046519e-40   \n",
        "kr10c53  2.944353e-67  3.330180e-49  3.330180e-49 -1.964839e-39 -1.964839e-39   \n",
        "kr10c54  8.544413e-68  8.750685e-50  8.750685e-50 -3.682447e-40 -3.682447e-40   \n",
        "kr10c55 -4.282933e-68 -4.600948e-50 -4.600948e-50  1.073045e-39  1.073045e-39   \n",
        "kr10c56 -5.937861e-68 -5.118242e-50 -5.118242e-50  1.392246e-39  1.392246e-39   \n",
        "kr10c57 -8.903005e-68 -7.118637e-50 -7.118637e-50  1.989054e-39  1.989054e-39   \n",
        "kr10c58 -1.035970e-67 -8.096903e-50 -8.096903e-50  2.198186e-39  2.198186e-39   \n",
        "kr10c59 -1.113415e-67 -8.734316e-50 -8.734316e-50  2.288419e-39  2.288419e-39   \n",
        "kr10c60 -8.584017e-68 -6.777083e-50 -6.777083e-50  1.741916e-39  1.741916e-39   \n",
        "\n",
        "             ...            kr10c51       kr10c52       kr10c53       kr10c54  \\\n",
        "mult1        ...       9.812626e-04  8.395643e-04  6.149931e-04  3.466081e-04   \n",
        "kr01c01      ...      -0.000000e+00  0.000000e+00 -0.000000e+00  0.000000e+00   \n",
        "kr01c02      ...      -0.000000e+00  0.000000e+00 -0.000000e+00  0.000000e+00   \n",
        "kr01c03      ...       3.904380e-67  3.746483e-67  2.974874e-67  8.645118e-68   \n",
        "kr01c04      ...       3.904380e-67  3.746483e-67  2.974874e-67  8.645118e-68   \n",
        "kr01c05      ...       3.880761e-67  3.716155e-67  2.944353e-67  8.544413e-68   \n",
        "kr01c06      ...       4.681859e-49  4.423047e-49  3.330180e-49  8.750685e-50   \n",
        "kr01c07      ...       4.681859e-49  4.423047e-49  3.330180e-49  8.750685e-50   \n",
        "kr01c08      ...       3.817485e-40 -8.046519e-40 -1.964839e-39 -3.682447e-40   \n",
        "kr01c09      ...       3.817485e-40 -8.046519e-40 -1.964839e-39 -3.682447e-40   \n",
        "kr01c10      ...       2.240896e-31  2.076730e-31  1.494868e-31  3.729610e-32   \n",
        "kr01c11      ...       2.240896e-31  2.076730e-31  1.494868e-31  3.729610e-32   \n",
        "kr01c12      ...       2.240896e-31  2.076730e-31  1.494868e-31  3.729610e-32   \n",
        "kr01c13      ...       2.240896e-31  2.076730e-31  1.494868e-31  3.729610e-32   \n",
        "kr01c14      ...       2.240896e-31  2.076730e-31  1.494868e-31  3.729610e-32   \n",
        "kr01c15      ...       4.033613e-31  3.738114e-31  2.690763e-31  6.713298e-32   \n",
        "kr01c16      ...      -1.985689e-07 -1.924661e-07 -1.597097e-07 -5.764621e-08   \n",
        "kr01c17      ...      -1.985689e-07 -1.924661e-07 -1.597097e-07 -5.764621e-08   \n",
        "kr01c18      ...      -3.582144e-07 -3.525429e-07 -3.019368e-07 -9.148482e-08   \n",
        "kr01c19      ...      -3.309614e-07 -3.582320e-07 -3.334751e-07 -6.712841e-08   \n",
        "kr01c20      ...      -2.064034e-07 -2.113370e-07 -1.927590e-07 -3.170872e-08   \n",
        "kr01c21      ...      -2.119486e-07 -2.133356e-07 -1.910700e-07 -3.147153e-08   \n",
        "kr01c22      ...      -2.182860e-07 -2.156196e-07 -1.891399e-07 -3.120046e-08   \n",
        "kr01c23      ...      -9.916762e-07 -1.096284e-06 -7.661954e-07 -6.589741e-08   \n",
        "kr01c24      ...      -7.073060e-07 -8.019729e-07 -5.210372e-07  3.341595e-08   \n",
        "kr01c25      ...      -1.080938e-06 -1.184732e-06 -8.781339e-07 -5.086763e-09   \n",
        "kr01c26      ...      -1.065787e-06 -1.160567e-06 -8.286915e-07  1.582880e-07   \n",
        "kr01c27      ...      -6.717993e-07 -8.209019e-07 -5.893546e-07  4.503100e-07   \n",
        "kr01c28      ...      -6.254164e-07 -7.779485e-07 -5.638443e-07  6.533573e-07   \n",
        "kr01c29      ...      -7.441966e-08 -2.002139e-07 -1.110240e-07  1.100544e-06   \n",
        "...          ...                ...           ...           ...           ...   \n",
        "kr10c31      ...      -3.618991e-07  2.846845e-07  5.583891e-07 -2.374569e-06   \n",
        "kr10c32      ...      -1.162019e-06 -2.159153e-08  6.950621e-07 -3.806109e-06   \n",
        "kr10c33      ...      -2.361344e-06  2.939230e-07  2.034206e-06 -5.867395e-06   \n",
        "kr10c34      ...      -4.401080e-06  1.535291e-06  5.477486e-06 -9.463242e-06   \n",
        "kr10c35      ...       6.961792e-07  6.397755e-07 -4.901425e-07 -7.134712e-06   \n",
        "kr10c36      ...       2.970687e-05 -4.472307e-06 -3.278888e-05  1.548848e-05   \n",
        "kr10c37      ...       3.854576e-05 -2.148013e-06 -3.666143e-05  1.745050e-05   \n",
        "kr10c38      ...       4.438797e-05  5.891451e-06 -2.836274e-05  1.232272e-05   \n",
        "kr10c39      ...       6.160481e-05  2.268874e-05 -1.442537e-05  9.166711e-06   \n",
        "kr10c40      ...       2.883028e-05 -1.237430e-05 -4.859993e-05 -6.437500e-06   \n",
        "kr10c41      ...      -1.579213e-04 -2.037777e-04 -2.233140e-04 -5.799626e-05   \n",
        "kr10c42      ...      -1.911360e-04 -2.426379e-04 -2.649521e-04 -8.283533e-05   \n",
        "kr10c43      ...      -1.707971e-04 -2.312184e-04 -2.657122e-04 -1.060948e-04   \n",
        "kr10c44      ...      -1.554296e-04 -2.305275e-04 -2.833472e-04 -1.492810e-04   \n",
        "kr10c45      ...      -3.272614e-04 -3.973601e-04 -4.422253e-04 -2.633894e-04   \n",
        "kr10c46      ...      -9.567837e-04 -9.606334e-04 -9.193276e-04 -5.059454e-04   \n",
        "kr10c47      ...      -1.144082e-03 -1.145490e-03 -1.110624e-03 -6.513513e-04   \n",
        "kr10c48      ...      -1.122008e-03 -1.141994e-03 -1.162071e-03 -7.253974e-04   \n",
        "kr10c49      ...      -1.031780e-03 -1.066381e-03 -1.170871e-03 -7.576993e-04   \n",
        "kr10c50      ...      -1.346457e-03 -1.421891e-03 -1.440594e-03 -8.611301e-04   \n",
        "kr10c51      ...       2.472950e-01 -2.884330e-03 -2.374567e-03 -1.184290e-03   \n",
        "kr10c52      ...      -2.884330e-03  2.468986e-01 -2.560413e-03 -1.238538e-03   \n",
        "kr10c53      ...      -2.374567e-03 -2.560413e-03  2.478178e-01 -1.105470e-03   \n",
        "kr10c54      ...      -1.184290e-03 -1.238538e-03 -1.105470e-03  2.492337e-01   \n",
        "kr10c55      ...       1.100601e-03  1.349637e-03  1.101355e-03 -6.479885e-05   \n",
        "kr10c56      ...       3.105803e-03  3.632802e-03  3.073958e-03  5.994941e-04   \n",
        "kr10c57      ...       3.147207e-03  3.670357e-03  3.100969e-03  6.318716e-04   \n",
        "kr10c58      ...       2.529064e-03  2.958140e-03  2.483091e-03  4.524452e-04   \n",
        "kr10c59      ...       1.919619e-03  2.259813e-03  1.878872e-03  2.706850e-04   \n",
        "kr10c60      ...       1.197786e-03  1.417619e-03  1.169967e-03  1.326334e-04   \n",
        "\n",
        "              kr10c55       kr10c56       kr10c57       kr10c58       kr10c59  \\\n",
        "mult1    1.646148e-04  8.465517e-05 -5.928168e-06 -7.130584e-05 -1.100314e-04   \n",
        "kr01c01 -0.000000e+00  0.000000e+00 -0.000000e+00  0.000000e+00 -0.000000e+00   \n",
        "kr01c02 -0.000000e+00  0.000000e+00 -0.000000e+00  0.000000e+00 -0.000000e+00   \n",
        "kr01c03 -4.338425e-68 -6.024574e-68 -9.039347e-68 -1.051997e-67 -1.130614e-67   \n",
        "kr01c04 -4.338425e-68 -6.024574e-68 -9.039347e-68 -1.051997e-67 -1.130614e-67   \n",
        "kr01c05 -4.282933e-68 -5.937861e-68 -8.903005e-68 -1.035970e-67 -1.113415e-67   \n",
        "kr01c06 -4.600948e-50 -5.118242e-50 -7.118637e-50 -8.096903e-50 -8.734316e-50   \n",
        "kr01c07 -4.600948e-50 -5.118242e-50 -7.118637e-50 -8.096903e-50 -8.734316e-50   \n",
        "kr01c08  1.073045e-39  1.392246e-39  1.989054e-39  2.198186e-39  2.288419e-39   \n",
        "kr01c09  1.073045e-39  1.392246e-39  1.989054e-39  2.198186e-39  2.288419e-39   \n",
        "kr01c10 -1.844587e-32 -1.768726e-32 -2.275912e-32 -2.509475e-32 -2.708348e-32   \n",
        "kr01c11 -1.844587e-32 -1.768726e-32 -2.275912e-32 -2.509475e-32 -2.708348e-32   \n",
        "kr01c12 -1.844587e-32 -1.768726e-32 -2.275912e-32 -2.509475e-32 -2.708348e-32   \n",
        "kr01c13 -1.844587e-32 -1.768726e-32 -2.275912e-32 -2.509475e-32 -2.708348e-32   \n",
        "kr01c14 -1.844587e-32 -1.768726e-32 -2.275912e-32 -2.509474e-32 -2.708348e-32   \n",
        "kr01c15 -3.320257e-32 -3.183707e-32 -4.096642e-32 -4.517054e-32 -4.875026e-32   \n",
        "kr01c16  1.417442e-07  3.082455e-07  3.149417e-07  2.621969e-07  2.149999e-07   \n",
        "kr01c17  1.417442e-07  3.082455e-07  3.149417e-07  2.621969e-07  2.149999e-07   \n",
        "kr01c18  3.475056e-07  7.311743e-07  7.348355e-07  6.090851e-07  4.885835e-07   \n",
        "kr01c19  5.801698e-07  1.163759e-06  1.148888e-06  9.366488e-07  7.398353e-07   \n",
        "kr01c20  3.740263e-07  7.240304e-07  7.156816e-07  5.814498e-07  4.594002e-07   \n",
        "kr01c21  3.750399e-07  7.198783e-07  7.116769e-07  5.768997e-07  4.591306e-07   \n",
        "kr01c22  3.761982e-07  7.151330e-07  7.071002e-07  5.716996e-07  4.588224e-07   \n",
        "kr01c23  1.353659e-06  2.558472e-06  2.531980e-06  2.080746e-06  1.672916e-06   \n",
        "kr01c24  1.216852e-06  2.279767e-06  2.262446e-06  1.852845e-06  1.494371e-06   \n",
        "kr01c25  2.003829e-06  3.798541e-06  3.752544e-06  3.059198e-06  2.443612e-06   \n",
        "kr01c26  2.445493e-06  4.465085e-06  4.410726e-06  3.619190e-06  2.926720e-06   \n",
        "kr01c27  3.175000e-06  5.654675e-06  5.553201e-06  4.529608e-06  3.649063e-06   \n",
        "kr01c28  3.982225e-06  6.978401e-06  6.830877e-06  5.557679e-06  4.474125e-06   \n",
        "kr01c29  4.711467e-06  7.687328e-06  7.374245e-06  5.938049e-06  4.756580e-06   \n",
        "...               ...           ...           ...           ...           ...   \n",
        "kr10c31 -1.190462e-05 -2.060088e-05 -1.985321e-05 -1.602315e-05 -1.282369e-05   \n",
        "kr10c32 -1.883323e-05 -3.245957e-05 -3.111203e-05 -2.503794e-05 -1.995917e-05   \n",
        "kr10c33 -3.307193e-05 -5.816232e-05 -5.563904e-05 -4.457287e-05 -3.521348e-05   \n",
        "kr10c34 -6.143897e-05 -1.099903e-04 -1.051788e-04 -8.399779e-05 -6.586499e-05   \n",
        "kr10c35 -2.656998e-05 -4.367988e-05 -4.165274e-05 -3.414606e-05 -2.826233e-05   \n",
        "kr10c36  2.036514e-04  3.862278e-04  3.698679e-04  2.908129e-04  2.201814e-04   \n",
        "kr10c37  2.337158e-04  4.438891e-04  4.248055e-04  3.333200e-04  2.517798e-04   \n",
        "kr10c38  1.911570e-04  3.664898e-04  3.498447e-04  2.722507e-04  2.034688e-04   \n",
        "kr10c39  1.483597e-04  2.879864e-04  2.730133e-04  2.085377e-04  1.525374e-04   \n",
        "kr10c40  1.762011e-04  3.557969e-04  3.408314e-04  2.633653e-04  1.944164e-04   \n",
        "kr10c41  4.023434e-04  8.349452e-04  8.168289e-04  6.545194e-04  5.007348e-04   \n",
        "kr10c42  4.229698e-04  8.985891e-04  8.801269e-04  7.036974e-04  5.359830e-04   \n",
        "kr10c43  3.630029e-04  8.087210e-04  7.908734e-04  6.250603e-04  4.680191e-04   \n",
        "kr10c44  2.855253e-04  7.060154e-04  6.883703e-04  5.319382e-04  3.839439e-04   \n",
        "kr10c45  2.657913e-04  7.708329e-04  7.586038e-04  5.803473e-04  4.096064e-04   \n",
        "kr10c46  4.530965e-04  1.323569e-03  1.329329e-03  1.047498e-03  7.718166e-04   \n",
        "kr10c47  4.245987e-04  1.404060e-03  1.415075e-03  1.103912e-03  7.979116e-04   \n",
        "kr10c48  3.729071e-04  1.387458e-03  1.396441e-03  1.073515e-03  7.561293e-04   \n",
        "kr10c49  3.990302e-04  1.487015e-03  1.490303e-03  1.138861e-03  7.951955e-04   \n",
        "kr10c50  6.001488e-04  1.952982e-03  1.960810e-03  1.526633e-03  1.102264e-03   \n",
        "kr10c51  1.100601e-03  3.105803e-03  3.147207e-03  2.529064e-03  1.919619e-03   \n",
        "kr10c52  1.349637e-03  3.632802e-03  3.670357e-03  2.958140e-03  2.259813e-03   \n",
        "kr10c53  1.101355e-03  3.073958e-03  3.100969e-03  2.483091e-03  1.878872e-03   \n",
        "kr10c54 -6.479885e-05  5.994941e-04  6.318716e-04  4.524452e-04  2.706850e-04   \n",
        "kr10c55  2.473229e-01 -4.987617e-03 -4.930303e-03 -4.105332e-03 -3.328132e-03   \n",
        "kr10c56 -4.987617e-03  2.398391e-01 -1.014449e-02 -8.391293e-03 -6.724424e-03   \n",
        "kr10c57 -4.930303e-03 -1.014449e-02  2.398390e-01 -8.413679e-03 -6.748148e-03   \n",
        "kr10c58 -4.105332e-03 -8.391293e-03 -8.413679e-03  2.430199e-01 -5.612710e-03   \n",
        "kr10c59 -3.328132e-03 -6.724424e-03 -6.748148e-03 -5.612710e-03  2.454704e-01   \n",
        "kr10c60 -2.184402e-03 -4.377038e-03 -4.395084e-03 -3.662243e-03 -2.963214e-03   \n",
        "\n",
        "              kr10c60  \n",
        "mult1   -9.446230e-05  \n",
        "kr01c01  0.000000e+00  \n",
        "kr01c02  0.000000e+00  \n",
        "kr01c03 -8.716317e-68  \n",
        "kr01c04 -8.716317e-68  \n",
        "kr01c05 -8.584017e-68  \n",
        "kr01c06 -6.777083e-50  \n",
        "kr01c07 -6.777083e-50  \n",
        "kr01c08  1.741916e-39  \n",
        "kr01c09  1.741916e-39  \n",
        "kr01c10 -2.112802e-32  \n",
        "kr01c11 -2.112802e-32  \n",
        "kr01c12 -2.112802e-32  \n",
        "kr01c13 -2.112802e-32  \n",
        "kr01c14 -2.112801e-32  \n",
        "kr01c15 -3.803043e-32  \n",
        "kr01c16  1.385328e-07  \n",
        "kr01c17  1.385328e-07  \n",
        "kr01c18  3.146171e-07  \n",
        "kr01c19  4.715746e-07  \n",
        "kr01c20  2.932572e-07  \n",
        "kr01c21  2.914047e-07  \n",
        "kr01c22  2.892876e-07  \n",
        "kr01c23  1.079352e-06  \n",
        "kr01c24  9.603601e-07  \n",
        "kr01c25  1.564835e-06  \n",
        "kr01c26  1.885844e-06  \n",
        "kr01c27  2.343870e-06  \n",
        "kr01c28  2.870216e-06  \n",
        "kr01c29  3.027447e-06  \n",
        "...               ...  \n",
        "kr10c31 -8.116502e-06  \n",
        "kr10c32 -1.259132e-05  \n",
        "kr10c33 -2.211994e-05  \n",
        "kr10c34 -4.126237e-05  \n",
        "kr10c35 -1.781791e-05  \n",
        "kr10c36  1.372841e-04  \n",
        "kr10c37  1.567492e-04  \n",
        "kr10c38  1.259242e-04  \n",
        "kr10c39  9.297802e-05  \n",
        "kr10c40  1.193374e-04  \n",
        "kr10c41  3.154636e-04  \n",
        "kr10c42  3.364849e-04  \n",
        "kr10c43  2.900019e-04  \n",
        "kr10c44  2.310492e-04  \n",
        "kr10c45  2.413189e-04  \n",
        "kr10c46  4.696457e-04  \n",
        "kr10c47  4.774424e-04  \n",
        "kr10c48  4.423974e-04  \n",
        "kr10c49  4.618905e-04  \n",
        "kr10c50  6.600024e-04  \n",
        "kr10c51  1.197786e-03  \n",
        "kr10c52  1.417619e-03  \n",
        "kr10c53  1.169967e-03  \n",
        "kr10c54  1.326334e-04  \n",
        "kr10c55 -2.184402e-03  \n",
        "kr10c56 -4.377038e-03  \n",
        "kr10c57 -4.395084e-03  \n",
        "kr10c58 -3.662243e-03  \n",
        "kr10c59 -2.963214e-03  \n",
        "kr10c60  2.480580e-01  \n",
        "\n",
        "[601 rows x 601 columns]"
       ]
      }
     ],
     "prompt_number": 7
    },
    {
     "cell_type": "markdown",
     "metadata": {},
     "source": [
      "##Prior prediction uncertainty\n",
      "Let's examine the prior variance of the predictions:"
     ]
    },
    {
     "cell_type": "code",
     "collapsed": false,
     "input": [
      "prior = la.prior_prediction\n",
      "print prior # dict keyed on prediction name\n"
     ],
     "language": "python",
     "metadata": {},
     "outputs": [
      {
       "output_type": "stream",
       "stream": "stdout",
       "text": [
        "{'c_obs13_2': 0.094347172779057645, 'c_obs10_2': 0.02255775353497215, 'c_obs05_2': 0.0018659784874096807}\n"
       ]
      }
     ],
     "prompt_number": 8
    },
    {
     "cell_type": "markdown",
     "metadata": {},
     "source": [
      "##Posterior prediction uncertainty\n",
      "Now, let's calculate the posterior uncertainty (variance) of each prediction:"
     ]
    },
    {
     "cell_type": "code",
     "collapsed": false,
     "input": [
      "post = la.posterior_prediction\n",
      "print post # a dict keyed on prediction name"
     ],
     "language": "python",
     "metadata": {},
     "outputs": [
      {
       "output_type": "stream",
       "stream": "stdout",
       "text": [
        "{'c_obs13_2': 0.023792451370921525, 'c_obs10_2': 0.0088767487442861677, 'c_obs05_2': 0.00066667573526317807}\n"
       ]
      }
     ],
     "prompt_number": 9
    },
    {
     "cell_type": "markdown",
     "metadata": {},
     "source": [
      "That's it - we have completed linear-based uncertainty analysis for a model with 601 parameters!  We can see that the data we have provide atleast some conditioning to each of these predictions, indicating that the history-matching process is valuable:"
     ]
    },
    {
     "cell_type": "code",
     "collapsed": false,
     "input": [
      "print \"prediction\",\"percent_uncertainty_reduction\"\n",
      "for pname in prior.keys():\n",
      "    uncert_reduction = 100.0 * ((prior[pname] - post[pname]) / prior[pname])\n",
      "    print pname,uncert_reduction"
     ],
     "language": "python",
     "metadata": {},
     "outputs": [
      {
       "output_type": "stream",
       "stream": "stdout",
       "text": [
        "prediction percent_uncertainty_reduction\n",
        "c_obs13_2 74.7820197785\n",
        "c_obs10_2 60.6487909777\n",
        "c_obs05_2 64.272056738\n"
       ]
      }
     ],
     "prompt_number": 10
    },
    {
     "cell_type": "markdown",
     "metadata": {},
     "source": [
      "##Data worth\n",
      "Now, let's try to identify which observations are most important to reducing the posterior uncertainty (e.g.the predictive worth of every observation).  In `pyemu`, we define predictive worth as $100.0 * \\frac{\\text{new var} - \\text{base var}}{\\text{new var}}$, where \"base var\" is the predictive variance using all the observations and \"new var\" is the predictive variance with some observations left out.\n",
      "\n",
      "First, lets see if the heads or the concentrations are more important.  We'll use `pandas` to get the names of the observations in each group:"
     ]
    },
    {
     "cell_type": "code",
     "collapsed": false,
     "input": [
      "head_names, conc_names = [], []\n",
      "for obs_name in la.jco.obs_names:\n",
      "    if obs_name.startswith('c'):\n",
      "        conc_names.append(obs_name)\n",
      "    elif obs_name.startswith('h'):\n",
      "        head_names.append(obs_name)"
     ],
     "language": "python",
     "metadata": {},
     "outputs": [],
     "prompt_number": 11
    },
    {
     "cell_type": "markdown",
     "metadata": {},
     "source": [
      "Now let's get the worth of heads:"
     ]
    },
    {
     "cell_type": "code",
     "collapsed": false,
     "input": [
      "print la.importance_of_observations(head_names)"
     ],
     "language": "python",
     "metadata": {},
     "outputs": [
      {
       "output_type": "stream",
       "stream": "stdout",
       "text": [
        "{'c_obs13_2': 10.788495121912311, 'c_obs10_2': 22.834407532741938, 'c_obs05_2': 19.467043686501611}\n"
       ]
      }
     ],
     "prompt_number": 12
    },
    {
     "cell_type": "markdown",
     "metadata": {},
     "source": [
      "And now the worth of the concentrations:"
     ]
    },
    {
     "cell_type": "code",
     "collapsed": false,
     "input": [
      "print la.importance_of_observations(conc_names)"
     ],
     "language": "python",
     "metadata": {},
     "outputs": [
      {
       "output_type": "stream",
       "stream": "stdout",
       "text": [
        "{'c_obs13_2': 2.4939645245646656, 'c_obs10_2': 6.045991840431129, 'c_obs05_2': 5.7388587100739787}\n"
       ]
      }
     ],
     "prompt_number": 13
    },
    {
     "cell_type": "markdown",
     "metadata": {},
     "source": [
      "So, it looks like the heads and concentrations are both important for reducing the posterior uncertainty of the predictions.  Let's look at the importance of each individual observation with respect to reducting posterior predictive uncertainty.  Note the observations with an `_2` are actually predictions but are carried in the pest control file as observations with zero weight. Thats why those observations don't reduce uncertainty.  "
     ]
    },
    {
     "cell_type": "code",
     "collapsed": false,
     "input": [
      "# create a structure to hold the results\n",
      "results = {}\n",
      "for pname in predictions:\n",
      "    results[pname.lower()] = []\n",
      "# cycle through all of the obs    \n",
      "for oname in la.jco.obs_names:\n",
      "    r = la.importance_of_observations(oname)\n",
      "    print oname,r\n",
      "    for pname,value in r.iteritems():\n",
      "        results[pname].append(value)\n"
     ],
     "language": "python",
     "metadata": {},
     "outputs": [
      {
       "output_type": "stream",
       "stream": "stdout",
       "text": [
        "h_obs01_1 {'c_obs13_2': -0.1597817753669927, 'c_obs10_2': 0.13931929169855353, 'c_obs05_2': -0.21701559392752995}\n",
        "h_obs01_2"
       ]
      },
      {
       "output_type": "stream",
       "stream": "stdout",
       "text": [
        " {'c_obs13_2': 0.0, 'c_obs10_2': 3.9084658717943828e-14, 'c_obs05_2': 0.0}\n",
        "h_obs02_1"
       ]
      },
      {
       "output_type": "stream",
       "stream": "stdout",
       "text": [
        " {'c_obs13_2': 0.057925640606965367, 'c_obs10_2': 0.35737108742754847, 'c_obs05_2': 0.27821351145667128}\n",
        "h_obs02_2"
       ]
      },
      {
       "output_type": "stream",
       "stream": "stdout",
       "text": [
        " {'c_obs13_2': 0.0, 'c_obs10_2': 1.9542329358971917e-14, 'c_obs05_2': 3.2525622731941865e-14}\n",
        "h_obs03_1"
       ]
      },
      {
       "output_type": "stream",
       "stream": "stdout",
       "text": [
        " {'c_obs13_2': 0.071444009160045771, 'c_obs10_2': -0.22972937966377779, 'c_obs05_2': -0.20111855807590451}\n",
        "h_obs03_2"
       ]
      },
      {
       "output_type": "stream",
       "stream": "stdout",
       "text": [
        " {'c_obs13_2': 0.0, 'c_obs10_2': 1.9542329358971917e-14, 'c_obs05_2': 0.0}\n",
        "h_obs04_1"
       ]
      },
      {
       "output_type": "stream",
       "stream": "stdout",
       "text": [
        " {'c_obs13_2': 0.22762971413129093, 'c_obs10_2': 0.26782981913578746, 'c_obs05_2': 0.11921652121084619}\n",
        "h_obs04_2"
       ]
      },
      {
       "output_type": "stream",
       "stream": "stdout",
       "text": [
        " {'c_obs13_2': 0.0, 'c_obs10_2': 1.9542329358971917e-14, 'c_obs05_2': 0.0}\n",
        "h_obs05_1"
       ]
      },
      {
       "output_type": "stream",
       "stream": "stdout",
       "text": [
        " {'c_obs13_2': 0.60379204829007038, 'c_obs10_2': 2.9474382826259977, 'c_obs05_2': 4.090294513744535}\n",
        "h_obs05_2"
       ]
      },
      {
       "output_type": "stream",
       "stream": "stdout",
       "text": [
        " {'c_obs13_2': 0.0, 'c_obs10_2': 1.9542329358971917e-14, 'c_obs05_2': 0.0}\n",
        "h_obs06_1"
       ]
      },
      {
       "output_type": "stream",
       "stream": "stdout",
       "text": [
        " {'c_obs13_2': -0.045059805999717241, 'c_obs10_2': 0.54236180109814824, 'c_obs05_2': 0.15055989800779546}\n",
        "h_obs06_2"
       ]
      },
      {
       "output_type": "stream",
       "stream": "stdout",
       "text": [
        " {'c_obs13_2': 0.0, 'c_obs10_2': 1.9542329358971917e-14, 'c_obs05_2': 0.0}\n",
        "h_obs07_1"
       ]
      },
      {
       "output_type": "stream",
       "stream": "stdout",
       "text": [
        " {'c_obs13_2': -0.41455301034404635, 'c_obs10_2': -1.2401132646835205, 'c_obs05_2': -1.1511733844962397}\n",
        "h_obs07_2"
       ]
      },
      {
       "output_type": "stream",
       "stream": "stdout",
       "text": [
        " {'c_obs13_2': 0.0, 'c_obs10_2': 3.9084658717943828e-14, 'c_obs05_2': 0.0}\n",
        "h_obs08_1"
       ]
      },
      {
       "output_type": "stream",
       "stream": "stdout",
       "text": [
        " {'c_obs13_2': 0.078130211419450188, 'c_obs10_2': -0.31421450877398793, 'c_obs05_2': -0.27260993591563226}\n",
        "h_obs08_2"
       ]
      },
      {
       "output_type": "stream",
       "stream": "stdout",
       "text": [
        " {'c_obs13_2': 0.0, 'c_obs10_2': 3.9084658717943828e-14, 'c_obs05_2': 0.0}\n",
        "h_obs09_1"
       ]
      },
      {
       "output_type": "stream",
       "stream": "stdout",
       "text": [
        " {'c_obs13_2': 0.24603897921296075, 'c_obs10_2': 0.54897309409361505, 'c_obs05_2': 0.47930554007637155}\n",
        "h_obs09_2"
       ]
      },
      {
       "output_type": "stream",
       "stream": "stdout",
       "text": [
        " {'c_obs13_2': 0.0, 'c_obs10_2': 1.9542329358971917e-14, 'c_obs05_2': 0.0}\n",
        "h_obs10_1"
       ]
      },
      {
       "output_type": "stream",
       "stream": "stdout",
       "text": [
        " {'c_obs13_2': 0.34831512303372442, 'c_obs10_2': 2.9973438263286711, 'c_obs05_2': 1.5213828103032174}\n",
        "h_obs10_2"
       ]
      },
      {
       "output_type": "stream",
       "stream": "stdout",
       "text": [
        " {'c_obs13_2': 0.0, 'c_obs10_2': 3.9084658717943828e-14, 'c_obs05_2': 0.0}\n",
        "h_obs11_1"
       ]
      },
      {
       "output_type": "stream",
       "stream": "stdout",
       "text": [
        " {'c_obs13_2': 0.2423172798926741, 'c_obs10_2': 1.529505386754106, 'c_obs05_2': 1.0401789954230247}\n",
        "h_obs11_2"
       ]
      },
      {
       "output_type": "stream",
       "stream": "stdout",
       "text": [
        " {'c_obs13_2': 0.0, 'c_obs10_2': 3.9084658717943828e-14, 'c_obs05_2': 0.0}\n",
        "h_obs12_1"
       ]
      },
      {
       "output_type": "stream",
       "stream": "stdout",
       "text": [
        " {'c_obs13_2': -0.34686399311459698, 'c_obs10_2': -1.0937558579019706, 'c_obs05_2': -1.0204046224514745}\n",
        "h_obs12_2"
       ]
      },
      {
       "output_type": "stream",
       "stream": "stdout",
       "text": [
        " {'c_obs13_2': 0.0, 'c_obs10_2': 3.9084658717943828e-14, 'c_obs05_2': 0.0}\n",
        "h_obs13_1"
       ]
      },
      {
       "output_type": "stream",
       "stream": "stdout",
       "text": [
        " {'c_obs13_2': 0.81836916432005669, 'c_obs10_2': 0.73223559551176964, 'c_obs05_2': 0.66518973132739034}\n",
        "h_obs13_2"
       ]
      },
      {
       "output_type": "stream",
       "stream": "stdout",
       "text": [
        " {'c_obs13_2': 0.0, 'c_obs10_2': 3.9084658717943828e-14, 'c_obs05_2': 0.0}\n",
        "h_obs14_1"
       ]
      },
      {
       "output_type": "stream",
       "stream": "stdout",
       "text": [
        " {'c_obs13_2': -0.88894169802456213, 'c_obs10_2': -3.0138855680981953, 'c_obs05_2': -2.694421498563869}\n",
        "h_obs14_2"
       ]
      },
      {
       "output_type": "stream",
       "stream": "stdout",
       "text": [
        " {'c_obs13_2': 0.0, 'c_obs10_2': 1.9542329358971917e-14, 'c_obs05_2': 1.6262811365970936e-14}\n",
        "h_obs15_1"
       ]
      },
      {
       "output_type": "stream",
       "stream": "stdout",
       "text": [
        " {'c_obs13_2': 2.6851591415380143, 'c_obs10_2': 8.0975802985998424, 'c_obs05_2': 7.0866479338092283}\n",
        "h_obs15_2"
       ]
      },
      {
       "output_type": "stream",
       "stream": "stdout",
       "text": [
        " {'c_obs13_2': 0.0, 'c_obs10_2': 1.9542329358971917e-14, 'c_obs05_2': 0.0}\n",
        "h_obs16_1"
       ]
      },
      {
       "output_type": "stream",
       "stream": "stdout",
       "text": [
        " {'c_obs13_2': 0.35210403042877886, 'c_obs10_2': 0.9990474651842538, 'c_obs05_2': 1.0407655900962596}\n",
        "h_obs16_2"
       ]
      },
      {
       "output_type": "stream",
       "stream": "stdout",
       "text": [
        " {'c_obs13_2': 0.0, 'c_obs10_2': 1.9542329358971917e-14, 'c_obs05_2': 0.0}\n",
        "h_obs17_1"
       ]
      },
      {
       "output_type": "stream",
       "stream": "stdout",
       "text": [
        " {'c_obs13_2': 0.40955100550114948, 'c_obs10_2': 1.194828495801175, 'c_obs05_2': 1.2139887538984313}\n",
        "h_obs17_2"
       ]
      },
      {
       "output_type": "stream",
       "stream": "stdout",
       "text": [
        " {'c_obs13_2': 0.0, 'c_obs10_2': 1.9542329358971917e-14, 'c_obs05_2': 1.6262811365970936e-14}\n",
        "h_obs18_1"
       ]
      },
      {
       "output_type": "stream",
       "stream": "stdout",
       "text": [
        " {'c_obs13_2': 0.40633892816167921, 'c_obs10_2': 1.1843782609165261, 'c_obs05_2': 1.2047057289609306}\n",
        "h_obs18_2"
       ]
      },
      {
       "output_type": "stream",
       "stream": "stdout",
       "text": [
        " {'c_obs13_2': 0.0, 'c_obs10_2': 1.9542329358971917e-14, 'c_obs05_2': 1.6262811365970936e-14}\n",
        "h_obs19_1"
       ]
      },
      {
       "output_type": "stream",
       "stream": "stdout",
       "text": [
        " {'c_obs13_2': 0.40277976416022182, 'c_obs10_2': 1.1732159522510339, 'c_obs05_2': 1.1946751712465378}\n",
        "h_obs19_2"
       ]
      },
      {
       "output_type": "stream",
       "stream": "stdout",
       "text": [
        " {'c_obs13_2': 0.0, 'c_obs10_2': 1.9542329358971917e-14, 'c_obs05_2': 0.0}\n",
        "h_obs20_1"
       ]
      },
      {
       "output_type": "stream",
       "stream": "stdout",
       "text": [
        " {'c_obs13_2': 0.40753884419275294, 'c_obs10_2': 1.1893723713405868, 'c_obs05_2': 1.208813174419276}\n",
        "h_obs20_2"
       ]
      },
      {
       "output_type": "stream",
       "stream": "stdout",
       "text": [
        " {'c_obs13_2': 0.0, 'c_obs10_2': 1.9542329358971917e-14, 'c_obs05_2': 0.0}\n",
        "h_obs21_1"
       ]
      },
      {
       "output_type": "stream",
       "stream": "stdout",
       "text": [
        " {'c_obs13_2': 0.14273006190077275, 'c_obs10_2': 0.29790043132246974, 'c_obs05_2': 0.4195476717110217}\n",
        "h_obs21_2"
       ]
      },
      {
       "output_type": "stream",
       "stream": "stdout",
       "text": [
        " {'c_obs13_2': 0.0, 'c_obs10_2': 1.9542329358971917e-14, 'c_obs05_2': 0.0}\n",
        "c_obs01_1"
       ]
      },
      {
       "output_type": "stream",
       "stream": "stdout",
       "text": [
        " {'c_obs13_2': 0.12121990468869258, 'c_obs10_2': 0.30438604397674202, 'c_obs05_2': 0.2886409390186111}\n",
        "c_obs01_2"
       ]
      },
      {
       "output_type": "stream",
       "stream": "stdout",
       "text": [
        " {'c_obs13_2': 0.0, 'c_obs10_2': 1.9542329358971917e-14, 'c_obs05_2': 0.0}\n",
        "c_obs02_1"
       ]
      },
      {
       "output_type": "stream",
       "stream": "stdout",
       "text": [
        " {'c_obs13_2': 0.12121990468869258, 'c_obs10_2': 0.30438604397674202, 'c_obs05_2': 0.2886409390186111}\n",
        "c_obs02_2"
       ]
      },
      {
       "output_type": "stream",
       "stream": "stdout",
       "text": [
        " {'c_obs13_2': 0.0, 'c_obs10_2': 1.9542329358971917e-14, 'c_obs05_2': 0.0}\n",
        "c_obs03_1"
       ]
      },
      {
       "output_type": "stream",
       "stream": "stdout",
       "text": [
        " {'c_obs13_2': 0.12121990468869258, 'c_obs10_2': 0.30438604397674202, 'c_obs05_2': 0.2886409390186111}\n",
        "c_obs03_2"
       ]
      },
      {
       "output_type": "stream",
       "stream": "stdout",
       "text": [
        " {'c_obs13_2': 0.0, 'c_obs10_2': 1.9542329358971917e-14, 'c_obs05_2': 0.0}\n",
        "c_obs04_1"
       ]
      },
      {
       "output_type": "stream",
       "stream": "stdout",
       "text": [
        " {'c_obs13_2': 0.12121990354634679, 'c_obs10_2': 0.30438604111351769, 'c_obs05_2': 0.28864093630343712}\n",
        "c_obs04_2"
       ]
      },
      {
       "output_type": "stream",
       "stream": "stdout",
       "text": [
        " {'c_obs13_2': 0.0, 'c_obs10_2': 1.9542329358971917e-14, 'c_obs05_2': 0.0}\n",
        "c_obs05_1"
       ]
      },
      {
       "output_type": "stream",
       "stream": "stdout",
       "text": [
        " {'c_obs13_2': 0.11964248043995709, 'c_obs10_2': 0.2999694748636868, 'c_obs05_2': 0.28843490185679038}\n",
        "c_obs06_1"
       ]
      },
      {
       "output_type": "stream",
       "stream": "stdout",
       "text": [
        " {'c_obs13_2': 0.12121990468867802, 'c_obs10_2': 0.30438604397674202, 'c_obs05_2': 0.2886409390186111}\n",
        "c_obs06_2"
       ]
      },
      {
       "output_type": "stream",
       "stream": "stdout",
       "text": [
        " {'c_obs13_2': 0.0, 'c_obs10_2': 3.9084658717943828e-14, 'c_obs05_2': 0.0}\n",
        "c_obs07_1"
       ]
      },
      {
       "output_type": "stream",
       "stream": "stdout",
       "text": [
        " {'c_obs13_2': 0.12121990468867802, 'c_obs10_2': 0.30438604397674202, 'c_obs05_2': 0.2886409390186111}\n",
        "c_obs07_2"
       ]
      },
      {
       "output_type": "stream",
       "stream": "stdout",
       "text": [
        " {'c_obs13_2': 0.0, 'c_obs10_2': 3.9084658717943828e-14, 'c_obs05_2': 0.0}\n",
        "c_obs08_1"
       ]
      },
      {
       "output_type": "stream",
       "stream": "stdout",
       "text": [
        " {'c_obs13_2': 0.12121990468828527, 'c_obs10_2': 0.30438604397575142, 'c_obs05_2': 0.28864093901767335}\n",
        "c_obs08_2"
       ]
      },
      {
       "output_type": "stream",
       "stream": "stdout",
       "text": [
        " {'c_obs13_2': 0.0, 'c_obs10_2': 3.9084658717943828e-14, 'c_obs05_2': 0.0}\n",
        "c_obs09_1"
       ]
      },
      {
       "output_type": "stream",
       "stream": "stdout",
       "text": [
        " {'c_obs13_2': 0.095041308939062166, 'c_obs10_2': 0.23874515006793526, 'c_obs05_2': 0.22639499342877911}\n",
        "c_obs09_2"
       ]
      },
      {
       "output_type": "stream",
       "stream": "stdout",
       "text": [
        " {'c_obs13_2': 0.0, 'c_obs10_2': 3.9084658717943828e-14, 'c_obs05_2': 0.0}\n",
        "c_obs10_1"
       ]
      },
      {
       "output_type": "stream",
       "stream": "stdout",
       "text": [
        " {'c_obs13_2': -1.0882761068856193, 'c_obs10_2': -2.7912829460027844, 'c_obs05_2': -2.5087200811684469}\n",
        "c_obs11_1"
       ]
      },
      {
       "output_type": "stream",
       "stream": "stdout",
       "text": [
        " {'c_obs13_2': 0.12121990468867802, 'c_obs10_2': 0.30438604397674202, 'c_obs05_2': 0.2886409390186111}\n",
        "c_obs11_2"
       ]
      },
      {
       "output_type": "stream",
       "stream": "stdout",
       "text": [
        " {'c_obs13_2': 0.0, 'c_obs10_2': 1.9542329358971917e-14, 'c_obs05_2': 0.0}\n",
        "c_obs12_1"
       ]
      },
      {
       "output_type": "stream",
       "stream": "stdout",
       "text": [
        " {'c_obs13_2': 0.12121990468867802, 'c_obs10_2': 0.30438604397674202, 'c_obs05_2': 0.2886409390186111}\n",
        "c_obs12_2"
       ]
      },
      {
       "output_type": "stream",
       "stream": "stdout",
       "text": [
        " {'c_obs13_2': 0.0, 'c_obs10_2': 1.9542329358971917e-14, 'c_obs05_2': 0.0}\n",
        "c_obs13_1"
       ]
      },
      {
       "output_type": "stream",
       "stream": "stdout",
       "text": [
        " {'c_obs13_2': 0.12121988559928831, 'c_obs10_2': 0.30438599613034206, 'c_obs05_2': 0.28864089364672829}\n",
        "c_obs14_1"
       ]
      },
      {
       "output_type": "stream",
       "stream": "stdout",
       "text": [
        " {'c_obs13_2': -1.1692576415820308, 'c_obs10_2': -2.9941990659609745, 'c_obs05_2': -2.8401487593357722}\n",
        "c_obs14_2"
       ]
      },
      {
       "output_type": "stream",
       "stream": "stdout",
       "text": [
        " {'c_obs13_2': -1.4582133206307092e-14, 'c_obs10_2': 3.9084658717943828e-14, 'c_obs05_2': 0.0}\n",
        "c_obs15_1"
       ]
      },
      {
       "output_type": "stream",
       "stream": "stdout",
       "text": [
        " {'c_obs13_2': 2.3475087525784937, 'c_obs10_2': 5.7086983780987808, 'c_obs05_2': 5.3266548038042254}\n",
        "c_obs15_2"
       ]
      },
      {
       "output_type": "stream",
       "stream": "stdout",
       "text": [
        " {'c_obs13_2': -1.4582133206307092e-14, 'c_obs10_2': 1.9542329358971917e-14, 'c_obs05_2': 0.0}\n",
        "pd_one"
       ]
      },
      {
       "output_type": "stream",
       "stream": "stdout",
       "text": [
        " {'c_obs13_2': -1.4582133206307092e-14, 'c_obs10_2': 1.9542329358971917e-14, 'c_obs05_2': 0.0}\n",
        "pd_ten"
       ]
      },
      {
       "output_type": "stream",
       "stream": "stdout",
       "text": [
        " {'c_obs13_2': -1.4582133206307092e-14, 'c_obs10_2': 1.9542329358971917e-14, 'c_obs05_2': 0.0}\n",
        "pd_half"
       ]
      },
      {
       "output_type": "stream",
       "stream": "stdout",
       "text": [
        " {'c_obs13_2': -1.4582133206307092e-14, 'c_obs10_2': 1.9542329358971917e-14, 'c_obs05_2': 0.0}\n"
       ]
      }
     ],
     "prompt_number": 14
    },
    {
     "cell_type": "markdown",
     "metadata": {},
     "source": [
      "a simple plot of the data worth analysis"
     ]
    },
    {
     "cell_type": "code",
     "collapsed": false,
     "input": [
      "import pylab as plt\n",
      "fig = plt.figure(figsize=(20, 10))\n",
      "ax = plt.subplot(111)\n",
      "idx = np.arange(len(la.jco.obs_names))\n",
      "width = 0.2\n",
      "colors = ['g', 'b', 'c']\n",
      "for i,name in enumerate(results.keys()):\n",
      "    ax.bar(idx + (i * width), results[name], width=width, edgecolor=\"none\", facecolor=colors[i], label=name)\n",
      "ax.set_xticks(idx + 0.5)\n",
      "ax.set_xticklabels(la.jco.obs_names, rotation=90)\n",
      "ylim = ax.get_ylim()\n",
      "ax.set_ylim(0, ylim[1])\n",
      "ax.set_ylabel(\"% uncertainty reduction\")\n",
      "ax.set_xlabel(\"observation\")\n",
      "ax.legend(loc=\"upper left\")\n",
      "plt.show()"
     ],
     "language": "python",
     "metadata": {},
     "outputs": [
      {
       "metadata": {},
       "output_type": "display_data",
       "png": "[encoded data removed]",
       "text": [
        "<matplotlib.figure.Figure at 0x105b1ed90>"
       ]
      }
     ],
     "prompt_number": 15
    },
    {
     "cell_type": "markdown",
     "metadata": {},
     "source": [
      "Here we see that only a handful of observations are conditioning the prediction-sensitive parameters."
     ]
    },
    {
     "cell_type": "markdown",
     "metadata": {},
     "source": [
      "##Exploring the link between parameter uncertainty and predictive uncertainty\n",
      "Now lets determine which parameters are contributing most to the uncertainty of the predictions. This takes some time because we have to rerun the analysis with each of the 601 parameter left out, one by one..."
     ]
    },
    {
     "cell_type": "code",
     "collapsed": false,
     "input": [
      "# a structure for storing the results\n",
      "prior_results, post_results = {}, {}\n",
      "for pname in predictions:\n",
      "    prior_results[pname.lower()] = []\n",
      "    post_results[pname.lower()] = []\n",
      "\n",
      "for iname, pname in enumerate(la.jco.par_names):\n",
      "    r = la.contribution_from_parameters(pname)\n",
      "    print pname, r\n",
      "    for pred,vlist in r.iteritems():\n",
      "        prior_results[pred].append(vlist[0])\n",
      "        post_results[pred].append(vlist[1])\n",
      "    "
     ],
     "language": "python",
     "metadata": {},
     "outputs": [
      {
       "output_type": "stream",
       "stream": "stdout",
       "text": [
        "mult1 {'c_obs13_2': [64.109449491188101, 8.8581613347677184], 'c_obs10_2': [31.064461395630126, 18.421690689376373], 'c_obs05_2': [40.183290942327162, 8.3738028585458686]}\n",
        "kr01c01"
       ]
      },
      {
       "output_type": "stream",
       "stream": "stdout",
       "text": [
        " {'c_obs13_2': [0.0, 1.4582133206307092e-14], 'c_obs10_2': [-3.0760571495515257e-14, 3.9084658717943846e-14], 'c_obs05_2': [0.0, 3.2525622731941878e-14]}\n",
        "kr01c02"
       ]
      },
      {
       "output_type": "stream",
       "stream": "stdout",
       "text": [
        " {'c_obs13_2': [0.0, 1.4582133206307092e-14], 'c_obs10_2': [-3.0760571495515257e-14, 3.9084658717943846e-14], 'c_obs05_2': [0.0, 3.2525622731941878e-14]}\n",
        "kr01c03"
       ]
      },
      {
       "output_type": "stream",
       "stream": "stdout",
       "text": [
        " {'c_obs13_2': [0.0, 1.4582133206307092e-14], 'c_obs10_2': [-3.0760571495515257e-14, 3.9084658717943846e-14], 'c_obs05_2': [0.0, 3.2525622731941878e-14]}\n",
        "kr01c04"
       ]
      },
      {
       "output_type": "stream",
       "stream": "stdout",
       "text": [
        " {'c_obs13_2': [0.0, 1.4582133206307092e-14], 'c_obs10_2': [-3.0760571495515257e-14, 3.9084658717943846e-14], 'c_obs05_2': [0.0, 3.2525622731941878e-14]}\n",
        "kr01c05"
       ]
      },
      {
       "output_type": "stream",
       "stream": "stdout",
       "text": [
        " {'c_obs13_2': [0.0, 1.4582133206307092e-14], 'c_obs10_2': [-3.0760571495515257e-14, 3.9084658717943846e-14], 'c_obs05_2': [0.0, 3.2525622731941878e-14]}\n",
        "kr01c06"
       ]
      },
      {
       "output_type": "stream",
       "stream": "stdout",
       "text": [
        " {'c_obs13_2': [0.0, 1.4582133206307092e-14], 'c_obs10_2': [-3.0760571495515257e-14, 3.9084658717943846e-14], 'c_obs05_2': [0.0, 3.2525622731941878e-14]}\n",
        "kr01c07"
       ]
      },
      {
       "output_type": "stream",
       "stream": "stdout",
       "text": [
        " {'c_obs13_2': [0.0, 1.4582133206307092e-14], 'c_obs10_2': [-3.0760571495515257e-14, 3.9084658717943846e-14], 'c_obs05_2': [0.0, 3.2525622731941878e-14]}\n",
        "kr01c08"
       ]
      },
      {
       "output_type": "stream",
       "stream": "stdout",
       "text": [
        " {'c_obs13_2': [0.0, 1.4582133206307092e-14], 'c_obs10_2': [-3.0760571495515257e-14, 3.9084658717943846e-14], 'c_obs05_2': [0.0, 3.2525622731941878e-14]}\n",
        "kr01c09"
       ]
      },
      {
       "output_type": "stream",
       "stream": "stdout",
       "text": [
        " {'c_obs13_2': [0.0, 1.4582133206307092e-14], 'c_obs10_2': [-3.0760571495515257e-14, 3.9084658717943846e-14], 'c_obs05_2': [0.0, 3.2525622731941878e-14]}\n",
        "kr01c10"
       ]
      },
      {
       "output_type": "stream",
       "stream": "stdout",
       "text": [
        " {'c_obs13_2': [0.0, 1.4582133206307092e-14], 'c_obs10_2': [-3.0760571495515257e-14, 3.9084658717943846e-14], 'c_obs05_2': [0.0, 3.2525622731941878e-14]}\n",
        "kr01c11"
       ]
      },
      {
       "output_type": "stream",
       "stream": "stdout",
       "text": [
        " {'c_obs13_2': [0.0, 1.4582133206307092e-14], 'c_obs10_2': [-3.0760571495515257e-14, 3.9084658717943846e-14], 'c_obs05_2': [0.0, 3.2525622731941878e-14]}\n",
        "kr01c12"
       ]
      },
      {
       "output_type": "stream",
       "stream": "stdout",
       "text": [
        " {'c_obs13_2': [0.0, 1.4582133206307092e-14], 'c_obs10_2': [-3.0760571495515257e-14, 3.9084658717943846e-14], 'c_obs05_2': [0.0, 3.2525622731941878e-14]}\n",
        "kr01c13"
       ]
      },
      {
       "output_type": "stream",
       "stream": "stdout",
       "text": [
        " {'c_obs13_2': [0.0, 1.4582133206307092e-14], 'c_obs10_2': [-3.0760571495515257e-14, 3.9084658717943846e-14], 'c_obs05_2': [0.0, 3.2525622731941878e-14]}\n",
        "kr01c14"
       ]
      },
      {
       "output_type": "stream",
       "stream": "stdout",
       "text": [
        " {'c_obs13_2': [0.0, 1.4582133206307092e-14], 'c_obs10_2': [-3.0760571495515257e-14, 3.9084658717943846e-14], 'c_obs05_2': [0.0, 3.2525622731941878e-14]}\n",
        "kr01c15"
       ]
      },
      {
       "output_type": "stream",
       "stream": "stdout",
       "text": [
        " {'c_obs13_2': [0.0, 1.4582133206307092e-14], 'c_obs10_2': [-3.0760571495515257e-14, 3.9084658717943846e-14], 'c_obs05_2': [0.0, 3.2525622731941878e-14]}\n",
        "kr01c16"
       ]
      },
      {
       "output_type": "stream",
       "stream": "stdout",
       "text": [
        " {'c_obs13_2': [0.0, 6.8018360340819426e-10], 'c_obs10_2': [-3.0760571495515257e-14, 9.3803180923065226e-13], 'c_obs05_2': [0.0, 2.1548225059911492e-11]}\n",
        "kr01c17"
       ]
      },
      {
       "output_type": "stream",
       "stream": "stdout",
       "text": [
        " {'c_obs13_2': [0.0, 6.8018360340819426e-10], 'c_obs10_2': [-3.0760571495515257e-14, 9.3803180923065226e-13], 'c_obs05_2': [0.0, 2.1548225059911492e-11]}\n",
        "kr01c18"
       ]
      },
      {
       "output_type": "stream",
       "stream": "stdout",
       "text": [
        " {'c_obs13_2': [0.0, 2.1591764638578909e-09], 'c_obs10_2': [-3.0760571495515257e-14, 2.0370533277205151e-09], 'c_obs05_2': [0.0, 1.6890068000356438e-09]}\n",
        "kr01c19"
       ]
      },
      {
       "output_type": "stream",
       "stream": "stdout",
       "text": [
        " {'c_obs13_2': [0.0, 3.3165603764424846e-10], 'c_obs10_2': [-3.0760571495515257e-14, 2.253582337017924e-08], 'c_obs05_2': [0.0, 1.4008769447836e-08]}\n",
        "kr01c20"
       ]
      },
      {
       "output_type": "stream",
       "stream": "stdout",
       "text": [
        " {'c_obs13_2': [0.0, 9.6212914895214187e-11], 'c_obs10_2': [-3.0760571495515257e-14, 1.1245555260302956e-08], 'c_obs05_2': [0.0, 6.7007336414982734e-09]}\n",
        "kr01c21"
       ]
      },
      {
       "output_type": "stream",
       "stream": "stdout",
       "text": [
        " {'c_obs13_2': [6.8839420437819681e-10, 1.6122589758221369e-09], 'c_obs10_2': [-3.0760571495515257e-14, 1.1046594805099264e-08], 'c_obs05_2': [0.0, 6.5731193607094995e-09]}\n",
        "kr01c22"
       ]
      },
      {
       "output_type": "stream",
       "stream": "stdout",
       "text": [
        " {'c_obs13_2': [6.8839420437819681e-10, 1.4092319351907234e-09], 'c_obs10_2': [-3.0760571495515257e-14, 1.0821389001566471e-08], 'c_obs05_2': [0.0, 6.4287543842137761e-09]}\n",
        "kr01c23"
       ]
      },
      {
       "output_type": "stream",
       "stream": "stdout",
       "text": [
        " {'c_obs13_2': [6.8839420437819681e-10, 4.7826626311378052e-09], 'c_obs10_2': [-3.0760571495515257e-14, 1.0290738544385883e-07], 'c_obs05_2': [0.0, 5.4643160029341909e-08]}\n",
        "kr01c24"
       ]
      },
      {
       "output_type": "stream",
       "stream": "stdout",
       "text": [
        " {'c_obs13_2': [3.160994395992858e-09, 2.2263519768993855e-08], 'c_obs10_2': [-3.0760571495515257e-14, 1.3263019357074038e-07], 'c_obs05_2': [0.0, 6.4710572091389401e-08]}\n",
        "kr01c25"
       ]
      },
      {
       "output_type": "stream",
       "stream": "stdout",
       "text": [
        " {'c_obs13_2': [3.160994395992858e-09, 1.8001045575724643e-08], 'c_obs10_2': [-3.0760571495515257e-14, 3.7938336945473524e-07], 'c_obs05_2': [0.0, 1.9980694955655106e-07]}\n",
        "kr01c26"
       ]
      },
      {
       "output_type": "stream",
       "stream": "stdout",
       "text": [
        " {'c_obs13_2': [3.160994395992858e-09, 1.4746050965679188e-08], 'c_obs10_2': [-3.0760571495515257e-14, 4.0209861095075925e-07], 'c_obs05_2': [0.0, 2.0568167874596029e-07]}\n",
        "kr01c27"
       ]
      },
      {
       "output_type": "stream",
       "stream": "stdout",
       "text": [
        " {'c_obs13_2': [3.160994395992858e-09, 5.3105358532061218e-08], 'c_obs10_2': [-3.0760571495515257e-14, 1.0794464752715441e-06], 'c_obs05_2': [6.3930317224522253e-09, 8.1907512837097153e-07]}\n",
        "kr01c28"
       ]
      },
      {
       "output_type": "stream",
       "stream": "stdout",
       "text": [
        " {'c_obs13_2': [6.7996725908571243e-09, 1.0887328334839526e-07], 'c_obs10_2': [-3.0760571495515257e-14, 1.7516001252450195e-06], 'c_obs05_2': [6.3930317224522253e-09, 1.2240923953488517e-06]}\n",
        "kr01c29"
       ]
      },
      {
       "output_type": "stream",
       "stream": "stdout",
       "text": [
        " {'c_obs13_2': [1.2644021711805046e-08, 1.397918241321278e-07], 'c_obs10_2': [-3.0760571495515257e-14, 2.7809650431370805e-06], 'c_obs05_2': [6.3930317224522253e-09, 1.737352885664402e-06]}\n",
        "kr01c30"
       ]
      },
      {
       "output_type": "stream",
       "stream": "stdout",
       "text": [
        " {'c_obs13_2': [1.9232954478599638e-08, 2.3095223402122145e-07], 'c_obs10_2': [-3.0760571495515257e-14, 4.7169280898245224e-06], 'c_obs05_2': [6.3930317224522253e-09, 2.7374075231363512e-06]}\n",
        "kr01c31"
       ]
      },
      {
       "output_type": "stream",
       "stream": "stdout",
       "text": [
        " {'c_obs13_2': [3.7988254576883611e-08, 5.0590711948819865e-07], 'c_obs10_2': [-3.0760571495515257e-14, 1.0208252443648575e-05], 'c_obs05_2': [3.4806544780248901e-08, 6.6510982727100434e-06]}\n",
        "kr01c32"
       ]
      },
      {
       "output_type": "stream",
       "stream": "stdout",
       "text": [
        " {'c_obs13_2': [6.3065543467153295e-08, 9.2138219205882545e-07], 'c_obs10_2': [-3.0760571495515257e-14, 2.1270621387075155e-05], 'c_obs05_2': [3.4806544780248901e-08, 1.2636016400734406e-05]}\n",
        "kr01c33"
       ]
      },
      {
       "output_type": "stream",
       "stream": "stdout",
       "text": [
        " {'c_obs13_2': [1.3218616117003918e-07, 3.1793191423937386e-06], 'c_obs10_2': [-3.0760571495515257e-14, 5.5985751861235089e-05], 'c_obs05_2': [8.5950845042810839e-08, 3.3279847265415593e-05]}\n",
        "kr01c34"
       ]
      },
      {
       "output_type": "stream",
       "stream": "stdout",
       "text": [
        " {'c_obs13_2': [2.2304044297315147e-07, 1.241156344471458e-05], 'c_obs10_2': [-3.0760571495515257e-14, 0.0002052114603693401], 'c_obs05_2': [1.3922615587952353e-07, 0.00011884263938185678]}\n"
       ]
      },
      {
       "ename": "KeyboardInterrupt",
       "evalue": "",
       "output_type": "pyerr",
       "traceback": [
        "\u001b[0;31m---------------------------------------------------------------------------\u001b[0m\n\u001b[0;31mKeyboardInterrupt\u001b[0m                         Traceback (most recent call last)",
        "\u001b[0;32m<ipython-input-16-e6a426018c43>\u001b[0m in \u001b[0;36m<module>\u001b[0;34m()\u001b[0m\n\u001b[1;32m      6\u001b[0m \u001b[0;34m\u001b[0m\u001b[0m\n\u001b[1;32m      7\u001b[0m \u001b[0;32mfor\u001b[0m \u001b[0miname\u001b[0m\u001b[0;34m,\u001b[0m \u001b[0mpname\u001b[0m \u001b[0;32min\u001b[0m \u001b[0menumerate\u001b[0m\u001b[0;34m(\u001b[0m\u001b[0mla\u001b[0m\u001b[0;34m.\u001b[0m\u001b[0mjco\u001b[0m\u001b[0;34m.\u001b[0m\u001b[0mpar_names\u001b[0m\u001b[0;34m)\u001b[0m\u001b[0;34m:\u001b[0m\u001b[0;34m\u001b[0m\u001b[0m\n\u001b[0;32m----> 8\u001b[0;31m     \u001b[0mr\u001b[0m \u001b[0;34m=\u001b[0m \u001b[0mla\u001b[0m\u001b[0;34m.\u001b[0m\u001b[0mcontribution_from_parameters\u001b[0m\u001b[0;34m(\u001b[0m\u001b[0mpname\u001b[0m\u001b[0;34m)\u001b[0m\u001b[0;34m\u001b[0m\u001b[0m\n\u001b[0m\u001b[1;32m      9\u001b[0m     \u001b[0;32mprint\u001b[0m \u001b[0mpname\u001b[0m\u001b[0;34m,\u001b[0m \u001b[0mr\u001b[0m\u001b[0;34m\u001b[0m\u001b[0m\n\u001b[1;32m     10\u001b[0m     \u001b[0;32mfor\u001b[0m \u001b[0mpred\u001b[0m\u001b[0;34m,\u001b[0m\u001b[0mvlist\u001b[0m \u001b[0;32min\u001b[0m \u001b[0mr\u001b[0m\u001b[0;34m.\u001b[0m\u001b[0miteritems\u001b[0m\u001b[0;34m(\u001b[0m\u001b[0;34m)\u001b[0m\u001b[0;34m:\u001b[0m\u001b[0;34m\u001b[0m\u001b[0m\n",
        "\u001b[0;32m/Users/jwhite/anaconda/lib/python2.7/site-packages/pyemu.pyc\u001b[0m in \u001b[0;36mcontribution_from_parameters\u001b[0;34m(self, parameter_names)\u001b[0m\n\u001b[1;32m    901\u001b[0m         \u001b[0mbprior\u001b[0m\u001b[0;34m,\u001b[0m\u001b[0mbpost\u001b[0m \u001b[0;34m=\u001b[0m \u001b[0mself\u001b[0m\u001b[0;34m.\u001b[0m\u001b[0mprior_prediction\u001b[0m\u001b[0;34m,\u001b[0m \u001b[0mself\u001b[0m\u001b[0;34m.\u001b[0m\u001b[0mposterior_prediction\u001b[0m\u001b[0;34m\u001b[0m\u001b[0m\n\u001b[1;32m    902\u001b[0m         \u001b[0;31m#get the prior and posterior for the conditioned case\u001b[0m\u001b[0;34m\u001b[0m\u001b[0;34m\u001b[0m\u001b[0m\n\u001b[0;32m--> 903\u001b[0;31m         \u001b[0mcprior\u001b[0m\u001b[0;34m,\u001b[0m\u001b[0mcpost\u001b[0m \u001b[0;34m=\u001b[0m \u001b[0mla_cond\u001b[0m\u001b[0;34m.\u001b[0m\u001b[0mprior_prediction\u001b[0m\u001b[0;34m,\u001b[0m \u001b[0mla_cond\u001b[0m\u001b[0;34m.\u001b[0m\u001b[0mposterior_prediction\u001b[0m\u001b[0;34m\u001b[0m\u001b[0m\n\u001b[0m\u001b[1;32m    904\u001b[0m \u001b[0;34m\u001b[0m\u001b[0m\n\u001b[1;32m    905\u001b[0m         \u001b[0;31m# pack the results into a dict{pred_name:[prior_%_reduction,\u001b[0m\u001b[0;34m\u001b[0m\u001b[0;34m\u001b[0m\u001b[0m\n",
        "\u001b[0;32m/Users/jwhite/anaconda/lib/python2.7/site-packages/pyemu.pyc\u001b[0m in \u001b[0;36mprior_prediction\u001b[0;34m(self)\u001b[0m\n\u001b[1;32m    560\u001b[0m                 \u001b[0mpred_dict\u001b[0m \u001b[0;34m=\u001b[0m \u001b[0;34m{\u001b[0m\u001b[0;34m}\u001b[0m\u001b[0;34m\u001b[0m\u001b[0m\n\u001b[1;32m    561\u001b[0m                 \u001b[0;32mfor\u001b[0m \u001b[0mprediction\u001b[0m \u001b[0;32min\u001b[0m \u001b[0mself\u001b[0m\u001b[0;34m.\u001b[0m\u001b[0mpredictions\u001b[0m\u001b[0;34m:\u001b[0m\u001b[0;34m\u001b[0m\u001b[0m\n\u001b[0;32m--> 562\u001b[0;31m                     \u001b[0mvar\u001b[0m \u001b[0;34m=\u001b[0m \u001b[0;34m(\u001b[0m\u001b[0mprediction\u001b[0m\u001b[0;34m.\u001b[0m\u001b[0mT\u001b[0m \u001b[0;34m*\u001b[0m \u001b[0mself\u001b[0m\u001b[0;34m.\u001b[0m\u001b[0mparcov\u001b[0m \u001b[0;34m*\u001b[0m \u001b[0mprediction\u001b[0m\u001b[0;34m)\u001b[0m\u001b[0;34m.\u001b[0m\u001b[0mx\u001b[0m\u001b[0;34m[\u001b[0m\u001b[0;36m0\u001b[0m\u001b[0;34m,\u001b[0m \u001b[0;36m0\u001b[0m\u001b[0;34m]\u001b[0m\u001b[0;34m\u001b[0m\u001b[0m\n\u001b[0m\u001b[1;32m    563\u001b[0m                     \u001b[0mpred_dict\u001b[0m\u001b[0;34m[\u001b[0m\u001b[0mprediction\u001b[0m\u001b[0;34m.\u001b[0m\u001b[0mcol_names\u001b[0m\u001b[0;34m[\u001b[0m\u001b[0;36m0\u001b[0m\u001b[0;34m]\u001b[0m\u001b[0;34m]\u001b[0m \u001b[0;34m=\u001b[0m \u001b[0mvar\u001b[0m\u001b[0;34m\u001b[0m\u001b[0m\n\u001b[1;32m    564\u001b[0m                 \u001b[0mself\u001b[0m\u001b[0;34m.\u001b[0m\u001b[0m__prior_prediction\u001b[0m \u001b[0;34m=\u001b[0m \u001b[0mpred_dict\u001b[0m\u001b[0;34m\u001b[0m\u001b[0m\n",
        "\u001b[0;32m/Users/jwhite/anaconda/lib/python2.7/site-packages/mat_handler.pyc\u001b[0m in \u001b[0;36m__mul__\u001b[0;34m(self, other)\u001b[0m\n\u001b[1;32m    380\u001b[0m                     \u001b[0mfirst\u001b[0m \u001b[0;34m=\u001b[0m \u001b[0mself\u001b[0m\u001b[0;34m.\u001b[0m\u001b[0mget\u001b[0m\u001b[0;34m(\u001b[0m\u001b[0mrow_names\u001b[0m\u001b[0;34m=\u001b[0m\u001b[0mcommon\u001b[0m\u001b[0;34m,\u001b[0m \u001b[0mcol_names\u001b[0m\u001b[0;34m=\u001b[0m\u001b[0mcommon\u001b[0m\u001b[0;34m)\u001b[0m\u001b[0;34m\u001b[0m\u001b[0m\n\u001b[1;32m    381\u001b[0m                 \u001b[0;32melse\u001b[0m\u001b[0;34m:\u001b[0m\u001b[0;34m\u001b[0m\u001b[0m\n\u001b[0;32m--> 382\u001b[0;31m                     \u001b[0mfirst\u001b[0m \u001b[0;34m=\u001b[0m \u001b[0mself\u001b[0m\u001b[0;34m.\u001b[0m\u001b[0mget\u001b[0m\u001b[0;34m(\u001b[0m\u001b[0mrow_names\u001b[0m\u001b[0;34m=\u001b[0m\u001b[0mself\u001b[0m\u001b[0;34m.\u001b[0m\u001b[0mrow_names\u001b[0m\u001b[0;34m,\u001b[0m \u001b[0mcol_names\u001b[0m\u001b[0;34m=\u001b[0m\u001b[0mcommon\u001b[0m\u001b[0;34m)\u001b[0m\u001b[0;34m\u001b[0m\u001b[0m\n\u001b[0m\u001b[1;32m    383\u001b[0m                 \u001b[0;32mif\u001b[0m \u001b[0misinstance\u001b[0m\u001b[0;34m(\u001b[0m\u001b[0mother\u001b[0m\u001b[0;34m,\u001b[0m \u001b[0mcov\u001b[0m\u001b[0;34m)\u001b[0m\u001b[0;34m:\u001b[0m\u001b[0;34m\u001b[0m\u001b[0m\n\u001b[1;32m    384\u001b[0m                     \u001b[0msecond\u001b[0m \u001b[0;34m=\u001b[0m \u001b[0mother\u001b[0m\u001b[0;34m.\u001b[0m\u001b[0mget\u001b[0m\u001b[0;34m(\u001b[0m\u001b[0mrow_names\u001b[0m\u001b[0;34m=\u001b[0m\u001b[0mcommon\u001b[0m\u001b[0;34m,\u001b[0m \u001b[0mcol_names\u001b[0m\u001b[0;34m=\u001b[0m\u001b[0mcommon\u001b[0m\u001b[0;34m)\u001b[0m\u001b[0;34m\u001b[0m\u001b[0m\n",
        "\u001b[0;32m/Users/jwhite/anaconda/lib/python2.7/site-packages/mat_handler.pyc\u001b[0m in \u001b[0;36mget\u001b[0;34m(self, row_names, col_names, drop)\u001b[0m\n\u001b[1;32m    777\u001b[0m             \u001b[0mrow_names\u001b[0m \u001b[0;34m=\u001b[0m \u001b[0mself\u001b[0m\u001b[0;34m.\u001b[0m\u001b[0mrow_names\u001b[0m\u001b[0;34m\u001b[0m\u001b[0m\n\u001b[1;32m    778\u001b[0m         \u001b[0;32mif\u001b[0m \u001b[0mcol_names\u001b[0m \u001b[0;32mis\u001b[0m \u001b[0;32mnot\u001b[0m \u001b[0mNone\u001b[0m\u001b[0;34m:\u001b[0m\u001b[0;34m\u001b[0m\u001b[0m\n\u001b[0;32m--> 779\u001b[0;31m             \u001b[0mcol_idxs\u001b[0m \u001b[0;34m=\u001b[0m \u001b[0mself\u001b[0m\u001b[0;34m.\u001b[0m\u001b[0mindices\u001b[0m\u001b[0;34m(\u001b[0m\u001b[0mcol_names\u001b[0m\u001b[0;34m,\u001b[0m \u001b[0maxis\u001b[0m\u001b[0;34m=\u001b[0m\u001b[0;36m1\u001b[0m\u001b[0;34m)\u001b[0m\u001b[0;34m\u001b[0m\u001b[0m\n\u001b[0m\u001b[1;32m    780\u001b[0m             \u001b[0mextract\u001b[0m \u001b[0;34m=\u001b[0m \u001b[0mnp\u001b[0m\u001b[0;34m.\u001b[0m\u001b[0matleast_2d\u001b[0m\u001b[0;34m(\u001b[0m\u001b[0mextract\u001b[0m\u001b[0;34m[\u001b[0m\u001b[0;34m:\u001b[0m\u001b[0;34m,\u001b[0m \u001b[0mcol_idxs\u001b[0m\u001b[0;34m]\u001b[0m\u001b[0;34m.\u001b[0m\u001b[0mcopy\u001b[0m\u001b[0;34m(\u001b[0m\u001b[0;34m)\u001b[0m\u001b[0;34m)\u001b[0m\u001b[0;34m\u001b[0m\u001b[0m\n\u001b[1;32m    781\u001b[0m             \u001b[0;32mif\u001b[0m \u001b[0mdrop\u001b[0m\u001b[0;34m:\u001b[0m\u001b[0;34m\u001b[0m\u001b[0m\n",
        "\u001b[0;32m/Users/jwhite/anaconda/lib/python2.7/site-packages/mat_handler.pyc\u001b[0m in \u001b[0;36mindices\u001b[0;34m(self, names, axis)\u001b[0m\n\u001b[1;32m    658\u001b[0m                 \u001b[0;32mraise\u001b[0m \u001b[0mException\u001b[0m\u001b[0;34m(\u001b[0m\u001b[0;34m'matrix.indices(): name not found: '\u001b[0m \u001b[0;34m+\u001b[0m \u001b[0mname\u001b[0m\u001b[0;34m)\u001b[0m\u001b[0;34m\u001b[0m\u001b[0m\n\u001b[1;32m    659\u001b[0m             \u001b[0;32mif\u001b[0m \u001b[0mname\u001b[0m\u001b[0;34m.\u001b[0m\u001b[0mlower\u001b[0m\u001b[0;34m(\u001b[0m\u001b[0;34m)\u001b[0m \u001b[0;32min\u001b[0m \u001b[0mself\u001b[0m\u001b[0;34m.\u001b[0m\u001b[0mcol_names\u001b[0m\u001b[0;34m:\u001b[0m\u001b[0;34m\u001b[0m\u001b[0m\n\u001b[0;32m--> 660\u001b[0;31m                 \u001b[0mcol_idxs\u001b[0m\u001b[0;34m.\u001b[0m\u001b[0mappend\u001b[0m\u001b[0;34m(\u001b[0m\u001b[0mself\u001b[0m\u001b[0;34m.\u001b[0m\u001b[0mcol_names\u001b[0m\u001b[0;34m.\u001b[0m\u001b[0mindex\u001b[0m\u001b[0;34m(\u001b[0m\u001b[0mname\u001b[0m\u001b[0;34m)\u001b[0m\u001b[0;34m)\u001b[0m\u001b[0;34m\u001b[0m\u001b[0m\n\u001b[0m\u001b[1;32m    661\u001b[0m             \u001b[0;32mif\u001b[0m \u001b[0mname\u001b[0m\u001b[0;34m.\u001b[0m\u001b[0mlower\u001b[0m\u001b[0;34m(\u001b[0m\u001b[0;34m)\u001b[0m \u001b[0;32min\u001b[0m \u001b[0mself\u001b[0m\u001b[0;34m.\u001b[0m\u001b[0mrow_names\u001b[0m\u001b[0;34m:\u001b[0m\u001b[0;34m\u001b[0m\u001b[0m\n\u001b[1;32m    662\u001b[0m                 \u001b[0mrow_idxs\u001b[0m\u001b[0;34m.\u001b[0m\u001b[0mappend\u001b[0m\u001b[0;34m(\u001b[0m\u001b[0mself\u001b[0m\u001b[0;34m.\u001b[0m\u001b[0mrow_names\u001b[0m\u001b[0;34m.\u001b[0m\u001b[0mindex\u001b[0m\u001b[0;34m(\u001b[0m\u001b[0mname\u001b[0m\u001b[0;34m)\u001b[0m\u001b[0;34m)\u001b[0m\u001b[0;34m\u001b[0m\u001b[0m\n",
        "\u001b[0;31mKeyboardInterrupt\u001b[0m: "
       ]
      }
     ],
     "prompt_number": 16
    },
    {
     "cell_type": "markdown",
     "metadata": {},
     "source": [
      "a simple figure..."
     ]
    },
    {
     "cell_type": "code",
     "collapsed": false,
     "input": [
      "import pylab as plt\n",
      "fig = plt.figure(figsize=(20, 10))\n",
      "ax_pr = plt.subplot(211)\n",
      "ax_pt = plt.subplot(212)\n",
      "idx = np.arange(len(la.jco.par_names))\n",
      "width = 0.2\n",
      "colors = ['g', 'b', 'c']\n",
      "for ipred, pred in enumerate(prior_results.keys()):\n",
      "    ax_pr.bar(idx + (width * i),prior_results[pred],edgecolor=\"none\", facecolor=colors[ipred],label=pred)\n",
      "    ax_pt.bar(idx + (width * i),post_results[pred],edgecolor=\"none\", facecolor=colors[ipred])\n",
      "ax_pr.set_title(\"prior\")\n",
      "ax_pt.set_title(\"posterior\")\n",
      "ax_pr.legend(loc=\"upper left\")\n",
      "plt.show() \n",
      "\n"
     ],
     "language": "python",
     "metadata": {},
     "outputs": []
    },
    {
     "cell_type": "markdown",
     "metadata": {},
     "source": [
      "This plot doesn't mean much, but you can see some structure in the results: some predictions depend on K properties near surface while other depend on K properties near the bottom of the model domain.  Intuitively, the predictions are not sensitive to K properties near the (farfield) leftside of the domain, only to nearfield, rightside of the domain.  "
     ]
    }
   ],
   "metadata": {}
  }
 ]
}