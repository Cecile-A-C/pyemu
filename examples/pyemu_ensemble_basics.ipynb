{
 "cells": [
  {
   "cell_type": "code",
   "execution_count": 1,
   "metadata": {},
   "outputs": [],
   "source": [
    "%matplotlib inline\n",
    "import os\n",
    "import numpy as np\n",
    "import pandas as pd\n",
    "from matplotlib.patches import Rectangle as rect\n",
    "import matplotlib.pyplot as plt"
   ]
  },
  {
   "cell_type": "markdown",
   "metadata": {},
   "source": [
    "## Model background\n",
    "Here is an example based on the model of Freyberg, 1988.  The synthetic model is a 2-dimensional MODFLOW model with 1 layer,  40 rows, and 20 columns.  The model has 2 stress periods: an initial steady-state stress period used for calibration, and a 5-year transient stress period.  The calibration period uses the recharge and well flux of Freyberg, 1988; the last stress period use 25% less recharge and 25% more pumping.\n",
    "\n",
    "The inverse problem has 761 parameters: hydraulic conductivity of each active model cell, calibration and forecast period recharge multipliers, storage and specific yield, calibration and forecast well flux for each of the six wells, and river bed conductance for each 40 cells with river-type boundary conditions.  The inverse problem has 12 head obseravtions, measured at the end of the steady-state calibration period.  The forecasts of interest include the sw-gw exchange flux during both stress periods (observations named ```sw_gw_0``` and ``sw_gw_1``), and the water level in well cell 6 located in at row 28 column 5 at the end of the stress periods (observations named ```or28c05_0``` and ```or28c05_1```).  The forecasts are included in the Jacobian matrix as zero-weight observations. The model files, pest control file and previously-calculated jacobian matrix are in the `freyberg/` folder\n",
    "\n",
    "\n",
    "Freyberg, David L. \"AN EXERCISE IN GROUND‐WATER MODEL CALIBRATION AND PREDICTION.\" Groundwater 26.3 (1988): 350-360."
   ]
  },
  {
   "cell_type": "code",
   "execution_count": 2,
   "metadata": {},
   "outputs": [
    {
     "name": "stdout",
     "output_type": "stream",
     "text": [
      "flopy is installed in /Users/jwhite/Dev/flopy/flopy\n",
      "   could not parse xul in Freyberg/extra_crispy/freyberg.nam\n"
     ]
    },
    {
     "data": {
      "image/png": "[encoded data removed]",
      "text/plain": [
       "<Figure size 432x432 with 2 Axes>"
      ]
     },
     "metadata": {
      "needs_background": "light"
     },
     "output_type": "display_data"
    }
   ],
   "source": [
    "import flopy\n",
    "\n",
    "# load the model\n",
    "model_ws = os.path.join(\"Freyberg\",\"extra_crispy\")\n",
    "ml = flopy.modflow.Modflow.load(\"freyberg.nam\",model_ws=model_ws)\n",
    "\n",
    "# plot some model attributes\n",
    "fig = plt.figure(figsize=(6,6))\n",
    "ax = plt.subplot(111,aspect=\"equal\")\n",
    "ml.upw.hk.plot(axes=[ax],colorbar=\"K m/d\",alpha=0.3)\n",
    "ml.wel.stress_period_data.plot(axes=[ax])\n",
    "ml.riv.stress_period_data.plot(axes=[ax])\n",
    "\n",
    "# plot obs locations\n",
    "obs = pd.read_csv(os.path.join(\"freyberg\",\"misc\",\"obs_rowcol.dat\"),delim_whitespace=True)\n",
    "obs_x = [ml.dis.sr.xcentergrid[r-1,c-1] for r,c in obs.loc[:,[\"row\",\"col\"]].values]\n",
    "obs_y = [ml.dis.sr.ycentergrid[r-1,c-1] for r,c in obs.loc[:,[\"row\",\"col\"]].values]\n",
    "ax.scatter(obs_x,obs_y,marker='.',label=\"obs\")\n",
    "\n",
    "#plot names on the pumping well locations\n",
    "wel_data = ml.wel.stress_period_data[0]\n",
    "wel_x = ml.dis.sr.xcentergrid[wel_data[\"i\"],wel_data[\"j\"]]\n",
    "wel_y = ml.dis.sr.ycentergrid[wel_data[\"i\"],wel_data[\"j\"]]\n",
    "for i,(x,y) in enumerate(zip(wel_x,wel_y)):\n",
    "    ax.text(x,y,\"{0}\".format(i+1),ha=\"center\",va=\"center\")\n",
    "\n",
    "ax.set_ylabel(\"y\")\n",
    "ax.set_xlabel(\"x\")\n",
    "\n",
    "ax.add_patch(rect((0,0),0,0,label=\"well\",ec=\"none\",fc=\"r\"))\n",
    "ax.add_patch(rect((0,0),0,0,label=\"river\",ec=\"none\",fc=\"g\"))\n",
    "\n",
    "ax.legend(bbox_to_anchor=(1.5,1.0),frameon=False)\n",
    "plt.savefig(\"domain.pdf\")"
   ]
  },
  {
   "cell_type": "markdown",
   "metadata": {},
   "source": [
    "The plot shows the Freyberg (1988) model domain.  The colorflood is the hydraulic conductivity ($\\frac{m}{d}$).  Red and green cells coorespond to well-type and river-type boundary conditions. Blue dots indicate the locations of water levels used for calibration."
   ]
  },
  {
   "cell_type": "markdown",
   "metadata": {},
   "source": [
    "## Using `pyemu`"
   ]
  },
  {
   "cell_type": "code",
   "execution_count": 3,
   "metadata": {},
   "outputs": [],
   "source": [
    "import pyemu"
   ]
  },
  {
   "cell_type": "code",
   "execution_count": 4,
   "metadata": {},
   "outputs": [],
   "source": [
    "pst = pyemu.Pst(os.path.join(\"freyberg\",\"freyberg.pst\"))"
   ]
  },
  {
   "cell_type": "markdown",
   "metadata": {},
   "source": [
    "## Drawing from the prior\n",
    "Now we need a prior-realized ``ParameterEnsemble``, which stores a ``pandas.DataFrame`` under the hood.\n",
    "\n",
    "### ```draw```\n",
    "\n",
    "The ``ParameterEnsemble`` class has several ``draw`` type methods to generate stochastic values from (multivariate) (log) gaussian, uniform and triangular distributions.  Much of what we do is predicated on the gaussian distribution, so let's use that here.\n",
    "\n",
    "The gaussian draw accepts a `cov` arg which can be a `pyemu.Cov` instance.  If this isn't passed, then the draw method constructs a diagonal covariance matrix from the parameter bounds (assuming a certain number of standard deviations represented by the distance between the bounds - the `sigma_range` argument)"
   ]
  },
  {
   "cell_type": "code",
   "execution_count": 6,
   "metadata": {},
   "outputs": [],
   "source": [
    "pe = pyemu.ParameterEnsemble.from_gaussian_draw(pst=pst,num_reals=200)"
   ]
  },
  {
   "cell_type": "markdown",
   "metadata": {},
   "source": [
    "``draw`` also accepts a ``num_reals`` argument to specify the number of draws to make:"
   ]
  },
  {
   "cell_type": "code",
   "execution_count": 7,
   "metadata": {},
   "outputs": [
    {
     "data": {
      "text/html": [
       "<div>\n",
       "<style scoped>\n",
       "    .dataframe tbody tr th:only-of-type {\n",
       "        vertical-align: middle;\n",
       "    }\n",
       "\n",
       "    .dataframe tbody tr th {\n",
       "        vertical-align: top;\n",
       "    }\n",
       "\n",
       "    .dataframe thead th {\n",
       "        text-align: right;\n",
       "    }\n",
       "</style>\n",
       "<table border=\"1\" class=\"dataframe\">\n",
       "  <thead>\n",
       "    <tr style=\"text-align: right;\">\n",
       "      <th></th>\n",
       "      <th>rcond03</th>\n",
       "      <th>rch_1</th>\n",
       "      <th>rcond04</th>\n",
       "      <th>hkr26c02</th>\n",
       "      <th>wf5_1</th>\n",
       "      <th>hkr23c04</th>\n",
       "      <th>hkr07c12</th>\n",
       "      <th>hkr02c09</th>\n",
       "      <th>rcond39</th>\n",
       "      <th>rch_2</th>\n",
       "      <th>...</th>\n",
       "      <th>hkr38c11</th>\n",
       "      <th>hkr38c12</th>\n",
       "      <th>hkr38c15</th>\n",
       "      <th>hkr39c05</th>\n",
       "      <th>hkr39c06</th>\n",
       "      <th>hkr39c07</th>\n",
       "      <th>hkr39c09</th>\n",
       "      <th>hkr39c10</th>\n",
       "      <th>hkr39c11</th>\n",
       "      <th>hkr39c13</th>\n",
       "    </tr>\n",
       "  </thead>\n",
       "  <tbody>\n",
       "    <tr>\n",
       "      <th>0</th>\n",
       "      <td>3850.041798</td>\n",
       "      <td>1.059288</td>\n",
       "      <td>24725.280638</td>\n",
       "      <td>16.344212</td>\n",
       "      <td>61.202012</td>\n",
       "      <td>64.619151</td>\n",
       "      <td>4.376049</td>\n",
       "      <td>9.778328</td>\n",
       "      <td>756.188527</td>\n",
       "      <td>0.968386</td>\n",
       "      <td>...</td>\n",
       "      <td>26.776413</td>\n",
       "      <td>0.968301</td>\n",
       "      <td>3.982388</td>\n",
       "      <td>1.829796</td>\n",
       "      <td>10.753646</td>\n",
       "      <td>4.559278</td>\n",
       "      <td>2.081091</td>\n",
       "      <td>3.413169</td>\n",
       "      <td>11.818932</td>\n",
       "      <td>0.973054</td>\n",
       "    </tr>\n",
       "    <tr>\n",
       "      <th>1</th>\n",
       "      <td>5679.031772</td>\n",
       "      <td>0.979286</td>\n",
       "      <td>1117.059682</td>\n",
       "      <td>4.167893</td>\n",
       "      <td>66.435826</td>\n",
       "      <td>0.843256</td>\n",
       "      <td>8.703319</td>\n",
       "      <td>3.068128</td>\n",
       "      <td>3155.134138</td>\n",
       "      <td>0.977493</td>\n",
       "      <td>...</td>\n",
       "      <td>4.173789</td>\n",
       "      <td>2.093486</td>\n",
       "      <td>11.865328</td>\n",
       "      <td>1.497314</td>\n",
       "      <td>10.164273</td>\n",
       "      <td>1.344370</td>\n",
       "      <td>2.532985</td>\n",
       "      <td>2.190908</td>\n",
       "      <td>28.948483</td>\n",
       "      <td>7.850384</td>\n",
       "    </tr>\n",
       "    <tr>\n",
       "      <th>2</th>\n",
       "      <td>19323.516229</td>\n",
       "      <td>0.990455</td>\n",
       "      <td>5860.438811</td>\n",
       "      <td>2.460566</td>\n",
       "      <td>63.187423</td>\n",
       "      <td>1.274458</td>\n",
       "      <td>19.412088</td>\n",
       "      <td>1.880951</td>\n",
       "      <td>686.306698</td>\n",
       "      <td>0.896304</td>\n",
       "      <td>...</td>\n",
       "      <td>28.012200</td>\n",
       "      <td>4.701120</td>\n",
       "      <td>9.784272</td>\n",
       "      <td>3.671563</td>\n",
       "      <td>19.612848</td>\n",
       "      <td>14.268842</td>\n",
       "      <td>1.648767</td>\n",
       "      <td>8.581436</td>\n",
       "      <td>1.932648</td>\n",
       "      <td>3.664972</td>\n",
       "    </tr>\n",
       "    <tr>\n",
       "      <th>3</th>\n",
       "      <td>6979.013249</td>\n",
       "      <td>1.013682</td>\n",
       "      <td>1146.549033</td>\n",
       "      <td>27.599534</td>\n",
       "      <td>63.144562</td>\n",
       "      <td>3.182460</td>\n",
       "      <td>4.699682</td>\n",
       "      <td>17.879271</td>\n",
       "      <td>11319.712591</td>\n",
       "      <td>1.059044</td>\n",
       "      <td>...</td>\n",
       "      <td>6.087620</td>\n",
       "      <td>1.591123</td>\n",
       "      <td>3.570735</td>\n",
       "      <td>1.389313</td>\n",
       "      <td>7.665379</td>\n",
       "      <td>1.254628</td>\n",
       "      <td>24.645767</td>\n",
       "      <td>13.045324</td>\n",
       "      <td>2.569766</td>\n",
       "      <td>2.156735</td>\n",
       "    </tr>\n",
       "    <tr>\n",
       "      <th>4</th>\n",
       "      <td>7404.036556</td>\n",
       "      <td>0.981959</td>\n",
       "      <td>17635.358007</td>\n",
       "      <td>1.528375</td>\n",
       "      <td>57.557764</td>\n",
       "      <td>10.829589</td>\n",
       "      <td>9.446352</td>\n",
       "      <td>3.780603</td>\n",
       "      <td>9341.052085</td>\n",
       "      <td>1.084664</td>\n",
       "      <td>...</td>\n",
       "      <td>2.980380</td>\n",
       "      <td>2.641711</td>\n",
       "      <td>4.240446</td>\n",
       "      <td>0.999691</td>\n",
       "      <td>1.766999</td>\n",
       "      <td>5.550393</td>\n",
       "      <td>7.798069</td>\n",
       "      <td>13.724620</td>\n",
       "      <td>15.255797</td>\n",
       "      <td>3.109758</td>\n",
       "    </tr>\n",
       "  </tbody>\n",
       "</table>\n",
       "<p>5 rows × 761 columns</p>\n",
       "</div>"
      ],
      "text/plain": [
       "        rcond03     rch_1       rcond04   hkr26c02      wf5_1   hkr23c04  \\\n",
       "0   3850.041798  1.059288  24725.280638  16.344212  61.202012  64.619151   \n",
       "1   5679.031772  0.979286   1117.059682   4.167893  66.435826   0.843256   \n",
       "2  19323.516229  0.990455   5860.438811   2.460566  63.187423   1.274458   \n",
       "3   6979.013249  1.013682   1146.549033  27.599534  63.144562   3.182460   \n",
       "4   7404.036556  0.981959  17635.358007   1.528375  57.557764  10.829589   \n",
       "\n",
       "    hkr07c12   hkr02c09       rcond39     rch_2  ...   hkr38c11  hkr38c12  \\\n",
       "0   4.376049   9.778328    756.188527  0.968386  ...  26.776413  0.968301   \n",
       "1   8.703319   3.068128   3155.134138  0.977493  ...   4.173789  2.093486   \n",
       "2  19.412088   1.880951    686.306698  0.896304  ...  28.012200  4.701120   \n",
       "3   4.699682  17.879271  11319.712591  1.059044  ...   6.087620  1.591123   \n",
       "4   9.446352   3.780603   9341.052085  1.084664  ...   2.980380  2.641711   \n",
       "\n",
       "    hkr38c15  hkr39c05   hkr39c06   hkr39c07   hkr39c09   hkr39c10   hkr39c11  \\\n",
       "0   3.982388  1.829796  10.753646   4.559278   2.081091   3.413169  11.818932   \n",
       "1  11.865328  1.497314  10.164273   1.344370   2.532985   2.190908  28.948483   \n",
       "2   9.784272  3.671563  19.612848  14.268842   1.648767   8.581436   1.932648   \n",
       "3   3.570735  1.389313   7.665379   1.254628  24.645767  13.045324   2.569766   \n",
       "4   4.240446  0.999691   1.766999   5.550393   7.798069  13.724620  15.255797   \n",
       "\n",
       "   hkr39c13  \n",
       "0  0.973054  \n",
       "1  7.850384  \n",
       "2  3.664972  \n",
       "3  2.156735  \n",
       "4  3.109758  \n",
       "\n",
       "[5 rows x 761 columns]"
      ]
     },
     "execution_count": 7,
     "metadata": {},
     "output_type": "execute_result"
    }
   ],
   "source": [
    "pe.head()"
   ]
  },
  {
   "cell_type": "markdown",
   "metadata": {},
   "source": [
    "Note that these ``draw`` methods use initial parameter values in the control file (the `Pst.parameter_data.parval`1 attribute) the $\\boldsymbol{\\mu}$  (mean) prior parameter vector.  To change that, we need to update the parameter values in the control file:"
   ]
  },
  {
   "cell_type": "code",
   "execution_count": 10,
   "metadata": {},
   "outputs": [
    {
     "data": {
      "text/plain": [
       "parnme\n",
       "rcond03     4692.095500\n",
       "rch_1          1.014984\n",
       "rcond04     4648.801200\n",
       "hkr26c02       7.260034\n",
       "wf5_1         55.987200\n",
       "               ...     \n",
       "hkr39c07       5.373133\n",
       "hkr39c09       5.661253\n",
       "hkr39c10       5.369154\n",
       "hkr39c11       5.326237\n",
       "hkr39c13       5.835181\n",
       "Name: parval1, Length: 761, dtype: float64"
      ]
     },
     "execution_count": 10,
     "metadata": {},
     "output_type": "execute_result"
    }
   ],
   "source": [
    "pst.parrep(pst.filename.replace(\".pst\",\".par\"))\n",
    "pst.parameter_data.parval1"
   ]
  },
  {
   "cell_type": "code",
   "execution_count": 12,
   "metadata": {},
   "outputs": [
    {
     "data": {
      "text/html": [
       "<div>\n",
       "<style scoped>\n",
       "    .dataframe tbody tr th:only-of-type {\n",
       "        vertical-align: middle;\n",
       "    }\n",
       "\n",
       "    .dataframe tbody tr th {\n",
       "        vertical-align: top;\n",
       "    }\n",
       "\n",
       "    .dataframe thead th {\n",
       "        text-align: right;\n",
       "    }\n",
       "</style>\n",
       "<table border=\"1\" class=\"dataframe\">\n",
       "  <thead>\n",
       "    <tr style=\"text-align: right;\">\n",
       "      <th></th>\n",
       "      <th>rcond03</th>\n",
       "      <th>rch_1</th>\n",
       "      <th>rcond04</th>\n",
       "      <th>hkr26c02</th>\n",
       "      <th>wf5_1</th>\n",
       "      <th>hkr23c04</th>\n",
       "      <th>hkr07c12</th>\n",
       "      <th>hkr02c09</th>\n",
       "      <th>rcond39</th>\n",
       "      <th>rch_2</th>\n",
       "      <th>...</th>\n",
       "      <th>hkr38c11</th>\n",
       "      <th>hkr38c12</th>\n",
       "      <th>hkr38c15</th>\n",
       "      <th>hkr39c05</th>\n",
       "      <th>hkr39c06</th>\n",
       "      <th>hkr39c07</th>\n",
       "      <th>hkr39c09</th>\n",
       "      <th>hkr39c10</th>\n",
       "      <th>hkr39c11</th>\n",
       "      <th>hkr39c13</th>\n",
       "    </tr>\n",
       "  </thead>\n",
       "  <tbody>\n",
       "    <tr>\n",
       "      <th>0</th>\n",
       "      <td>2176.882603</td>\n",
       "      <td>0.969263</td>\n",
       "      <td>2606.793945</td>\n",
       "      <td>7.707606</td>\n",
       "      <td>57.521735</td>\n",
       "      <td>3.781462</td>\n",
       "      <td>15.687377</td>\n",
       "      <td>13.264552</td>\n",
       "      <td>23395.768692</td>\n",
       "      <td>0.987951</td>\n",
       "      <td>...</td>\n",
       "      <td>19.797202</td>\n",
       "      <td>17.389545</td>\n",
       "      <td>1.851688</td>\n",
       "      <td>3.727339</td>\n",
       "      <td>5.815083</td>\n",
       "      <td>0.640541</td>\n",
       "      <td>27.786222</td>\n",
       "      <td>1.118254</td>\n",
       "      <td>1.120286</td>\n",
       "      <td>6.534865</td>\n",
       "    </tr>\n",
       "    <tr>\n",
       "      <th>1</th>\n",
       "      <td>11761.178338</td>\n",
       "      <td>0.991983</td>\n",
       "      <td>1598.729164</td>\n",
       "      <td>1.084087</td>\n",
       "      <td>56.059133</td>\n",
       "      <td>39.828964</td>\n",
       "      <td>5.099432</td>\n",
       "      <td>4.777077</td>\n",
       "      <td>12577.798701</td>\n",
       "      <td>0.957714</td>\n",
       "      <td>...</td>\n",
       "      <td>10.963088</td>\n",
       "      <td>1.205452</td>\n",
       "      <td>1.877261</td>\n",
       "      <td>2.096889</td>\n",
       "      <td>12.433065</td>\n",
       "      <td>25.183439</td>\n",
       "      <td>1.193999</td>\n",
       "      <td>2.173352</td>\n",
       "      <td>16.942564</td>\n",
       "      <td>1.246484</td>\n",
       "    </tr>\n",
       "    <tr>\n",
       "      <th>2</th>\n",
       "      <td>3508.288652</td>\n",
       "      <td>1.006291</td>\n",
       "      <td>4524.293513</td>\n",
       "      <td>6.540494</td>\n",
       "      <td>53.410986</td>\n",
       "      <td>4.768998</td>\n",
       "      <td>7.061045</td>\n",
       "      <td>9.449237</td>\n",
       "      <td>5689.176229</td>\n",
       "      <td>0.975475</td>\n",
       "      <td>...</td>\n",
       "      <td>6.991687</td>\n",
       "      <td>2.107148</td>\n",
       "      <td>2.723779</td>\n",
       "      <td>11.921327</td>\n",
       "      <td>0.833199</td>\n",
       "      <td>28.060331</td>\n",
       "      <td>14.952887</td>\n",
       "      <td>1.338143</td>\n",
       "      <td>0.402727</td>\n",
       "      <td>3.239473</td>\n",
       "    </tr>\n",
       "    <tr>\n",
       "      <th>3</th>\n",
       "      <td>5528.478638</td>\n",
       "      <td>1.011919</td>\n",
       "      <td>11657.638986</td>\n",
       "      <td>2.025969</td>\n",
       "      <td>56.766127</td>\n",
       "      <td>11.506419</td>\n",
       "      <td>0.922159</td>\n",
       "      <td>57.965951</td>\n",
       "      <td>2394.122890</td>\n",
       "      <td>0.956633</td>\n",
       "      <td>...</td>\n",
       "      <td>6.807061</td>\n",
       "      <td>0.522002</td>\n",
       "      <td>1.698684</td>\n",
       "      <td>7.610594</td>\n",
       "      <td>14.709714</td>\n",
       "      <td>7.807010</td>\n",
       "      <td>1.935606</td>\n",
       "      <td>2.826518</td>\n",
       "      <td>0.976253</td>\n",
       "      <td>2.278382</td>\n",
       "    </tr>\n",
       "    <tr>\n",
       "      <th>4</th>\n",
       "      <td>7275.051052</td>\n",
       "      <td>1.077489</td>\n",
       "      <td>18081.834295</td>\n",
       "      <td>3.420678</td>\n",
       "      <td>55.865540</td>\n",
       "      <td>3.843995</td>\n",
       "      <td>6.128082</td>\n",
       "      <td>20.382558</td>\n",
       "      <td>1979.985242</td>\n",
       "      <td>1.079430</td>\n",
       "      <td>...</td>\n",
       "      <td>8.160258</td>\n",
       "      <td>5.797018</td>\n",
       "      <td>1.552637</td>\n",
       "      <td>2.219937</td>\n",
       "      <td>2.473403</td>\n",
       "      <td>1.787222</td>\n",
       "      <td>15.454637</td>\n",
       "      <td>11.013539</td>\n",
       "      <td>1.579248</td>\n",
       "      <td>0.488371</td>\n",
       "    </tr>\n",
       "  </tbody>\n",
       "</table>\n",
       "<p>5 rows × 761 columns</p>\n",
       "</div>"
      ],
      "text/plain": [
       "        rcond03     rch_1       rcond04  hkr26c02      wf5_1   hkr23c04  \\\n",
       "0   2176.882603  0.969263   2606.793945  7.707606  57.521735   3.781462   \n",
       "1  11761.178338  0.991983   1598.729164  1.084087  56.059133  39.828964   \n",
       "2   3508.288652  1.006291   4524.293513  6.540494  53.410986   4.768998   \n",
       "3   5528.478638  1.011919  11657.638986  2.025969  56.766127  11.506419   \n",
       "4   7275.051052  1.077489  18081.834295  3.420678  55.865540   3.843995   \n",
       "\n",
       "    hkr07c12   hkr02c09       rcond39     rch_2  ...   hkr38c11   hkr38c12  \\\n",
       "0  15.687377  13.264552  23395.768692  0.987951  ...  19.797202  17.389545   \n",
       "1   5.099432   4.777077  12577.798701  0.957714  ...  10.963088   1.205452   \n",
       "2   7.061045   9.449237   5689.176229  0.975475  ...   6.991687   2.107148   \n",
       "3   0.922159  57.965951   2394.122890  0.956633  ...   6.807061   0.522002   \n",
       "4   6.128082  20.382558   1979.985242  1.079430  ...   8.160258   5.797018   \n",
       "\n",
       "   hkr38c15   hkr39c05   hkr39c06   hkr39c07   hkr39c09   hkr39c10   hkr39c11  \\\n",
       "0  1.851688   3.727339   5.815083   0.640541  27.786222   1.118254   1.120286   \n",
       "1  1.877261   2.096889  12.433065  25.183439   1.193999   2.173352  16.942564   \n",
       "2  2.723779  11.921327   0.833199  28.060331  14.952887   1.338143   0.402727   \n",
       "3  1.698684   7.610594  14.709714   7.807010   1.935606   2.826518   0.976253   \n",
       "4  1.552637   2.219937   2.473403   1.787222  15.454637  11.013539   1.579248   \n",
       "\n",
       "   hkr39c13  \n",
       "0  6.534865  \n",
       "1  1.246484  \n",
       "2  3.239473  \n",
       "3  2.278382  \n",
       "4  0.488371  \n",
       "\n",
       "[5 rows x 761 columns]"
      ]
     },
     "execution_count": 12,
     "metadata": {},
     "output_type": "execute_result"
    }
   ],
   "source": [
    "pe = pyemu.ParameterEnsemble.from_gaussian_draw(pst=pst,num_reals=200)\n",
    "pe.head()"
   ]
  },
  {
   "cell_type": "markdown",
   "metadata": {},
   "source": [
    "## plotting\n",
    "\n",
    "Since ```ParameterEnsemble``` stores a ```pandas.DataFrame```, it has all the cool methods and attributes we all love.  Let's compare the results of drawing from a uniform vs a gaussian distribution.  The actual dataframe is stored under the private attribute `ParameterEnsemble._df`:"
   ]
  },
  {
   "cell_type": "code",
   "execution_count": 13,
   "metadata": {},
   "outputs": [
    {
     "data": {
      "text/plain": [
       "<matplotlib.axes._subplots.AxesSubplot at 0x7fb752a881d0>"
      ]
     },
     "execution_count": 13,
     "metadata": {},
     "output_type": "execute_result"
    },
    {
     "data": {
      "image/png": "[encoded data removed]",
      "text/plain": [
       "<Figure size 432x288 with 1 Axes>"
      ]
     },
     "metadata": {
      "needs_background": "light"
     },
     "output_type": "display_data"
    }
   ],
   "source": [
    "pe = pyemu.ParameterEnsemble.from_uniform_draw(pst=pst,num_reals=1000)\n",
    "ax = plt.subplot(111)\n",
    "pe._df.loc[:,\"rch_1\"].plot(kind=\"hist\",bins=20,ax=ax,alpha=0.5)\n",
    "pe = pyemu.ParameterEnsemble.from_gaussian_draw(pst=pst,num_reals=1000)\n",
    "pe._df.loc[:,\"rch_1\"].plot(kind=\"hist\",bins=20,ax=ax,alpha=0.5)"
   ]
  },
  {
   "cell_type": "markdown",
   "metadata": {},
   "source": [
    "The gaussian histo go beyond the parameter bound - bad times.  Luckily, `ParameterEnsemble` includes an `enforce` method to apply parameter bounds:"
   ]
  },
  {
   "cell_type": "code",
   "execution_count": 18,
   "metadata": {},
   "outputs": [
    {
     "data": {
      "text/plain": [
       "<matplotlib.axes._subplots.AxesSubplot at 0x7fb7407c63c8>"
      ]
     },
     "execution_count": 18,
     "metadata": {},
     "output_type": "execute_result"
    },
    {
     "data": {
      "image/png": "[encoded data removed]",
      "text/plain": [
       "<Figure size 432x288 with 1 Axes>"
      ]
     },
     "metadata": {
      "needs_background": "light"
     },
     "output_type": "display_data"
    }
   ],
   "source": [
    "pe = pyemu.ParameterEnsemble.from_uniform_draw(pst=pst,num_reals=1000)\n",
    "ax = plt.subplot(111)\n",
    "pe._df.loc[:,\"rch_1\"].plot(kind=\"hist\",bins=20,ax=ax,alpha=0.5)\n",
    "pe = pyemu.ParameterEnsemble.from_gaussian_draw(pst=pst,num_reals=1000)\n",
    "pe.enforce(how=\"reset\")\n",
    "pe._df.loc[:,\"rch_1\"].plot(kind=\"hist\",bins=20,ax=ax,alpha=0.5)"
   ]
  },
  {
   "cell_type": "markdown",
   "metadata": {},
   "source": [
    "## bayes linear monte carlo\n",
    "\n",
    "we can use the bayes linear posterior parameter covariance matrix (aka Schur compliment) to \"precondition\" the realizations using linear algebra so that they hopefully yield a lower phi.  The trick is we just need to pass this\n",
    "posterior covariance matrix to the draw method.  Note this covariance matrix is the second moment of the posterior (under the FOSM assumptions) and the final parameter values is the first moment (which we `parrep`'ed into the `Pst` earlier)"
   ]
  },
  {
   "cell_type": "code",
   "execution_count": 19,
   "metadata": {},
   "outputs": [
    {
     "data": {
      "text/plain": [
       "<matplotlib.axes._subplots.AxesSubplot at 0x7fb710dca9b0>"
      ]
     },
     "execution_count": 19,
     "metadata": {},
     "output_type": "execute_result"
    },
    {
     "data": {
      "image/png": "[encoded data removed]",
      "text/plain": [
       "<Figure size 432x288 with 1 Axes>"
      ]
     },
     "metadata": {
      "needs_background": "light"
     },
     "output_type": "display_data"
    }
   ],
   "source": [
    "# get the list of forecast names from the pest++ argument in the pest control file\n",
    "jco = os.path.join(\"freyberg\",\"freyberg.jcb\")\n",
    "sc = pyemu.Schur(jco=jco)\n",
    "pe_post = pyemu.ParameterEnsemble.from_gaussian_draw(pst=pst,cov=sc.posterior_parameter, num_reals=1000)\n",
    "pe_post.enforce()\n",
    "ax = plt.subplot(111)\n",
    "pe._df.loc[:,\"rch_1\"].plot(kind=\"hist\",bins=20,ax=ax,alpha=0.5)\n",
    "pe_post._df.loc[:,\"rch_1\"].plot(kind=\"hist\",bins=20,ax=ax,alpha=0.5)"
   ]
  },
  {
   "cell_type": "markdown",
   "metadata": {},
   "source": [
    "\n",
    "Now we just need to run this preconditioned ensemble to validate the FOSM assumptions (that the realizations do yield an acceptably low phi and that the relation between parameters and forecasts is linear)\n"
   ]
  },
  {
   "cell_type": "code",
   "execution_count": null,
   "metadata": {},
   "outputs": [],
   "source": []
  }
 ],
 "metadata": {
  "anaconda-cloud": {},
  "kernelspec": {
   "display_name": "Python 3",
   "language": "python",
   "name": "python3"
  },
  "language_info": {
   "codemirror_mode": {
    "name": "ipython",
    "version": 3
   },
   "file_extension": ".py",
   "mimetype": "text/x-python",
   "name": "python",
   "nbconvert_exporter": "python",
   "pygments_lexer": "ipython3",
   "version": "3.7.3"
  }
 },
 "nbformat": 4,
 "nbformat_minor": 1
}
