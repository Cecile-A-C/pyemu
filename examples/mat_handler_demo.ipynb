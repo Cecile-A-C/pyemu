{
 "cells": [
  {
   "cell_type": "markdown",
   "metadata": {},
   "source": [
    "#Mat_hanlder.py\n",
    "\n",
    "The `mat_handler.py` module contains `matrix` class, which is the backbone of `pyemu`.  The `matrix` class overloads all common mathematical operators and also uses an \"auto-align\" functionality to line up matrix objects for multiplication, addition, etc. \n",
    "\n"
   ]
  },
  {
   "cell_type": "code",
   "execution_count": null,
   "metadata": {
    "collapsed": false
   },
   "outputs": [],
   "source": [
    "from __future__ import print_function\n",
    "import os\n",
    "import numpy as np\n",
    "from mat_handler import matrix, cov"
   ]
  },
  {
   "cell_type": "markdown",
   "metadata": {},
   "source": [
    "Here is the most basic instantiation of the `matrix` class:"
   ]
  },
  {
   "cell_type": "code",
   "execution_count": null,
   "metadata": {
    "collapsed": false
   },
   "outputs": [],
   "source": [
    "m = matrix()"
   ]
  },
  {
   "cell_type": "markdown",
   "metadata": {},
   "source": [
    "Here we will generate a `matrix` object with a random ndarray"
   ]
  },
  {
   "cell_type": "code",
   "execution_count": null,
   "metadata": {
    "collapsed": false
   },
   "outputs": [],
   "source": [
    "a = np.random.random((5, 5))\n",
    "row_names = []\n",
    "[row_names.append(\"row_{0:02d}\".format(i)) for i in range(5)]\n",
    "col_names = []\n",
    "[col_names.append(\"col_{0:02d}\".format(i)) for i in range(5)]\n",
    "m = matrix(x=a, row_names=row_names, col_names=col_names)\n",
    "print(m)"
   ]
  },
  {
   "cell_type": "markdown",
   "metadata": {},
   "source": [
    "#File I/O with `matrix`\n",
    "`matrix` supports several PEST-compatible I/O routines as well as some others:"
   ]
  },
  {
   "cell_type": "code",
   "execution_count": null,
   "metadata": {
    "collapsed": false
   },
   "outputs": [],
   "source": [
    "ascii_name = \"mat_test.mat\"\n",
    "m.to_ascii(ascii_name)\n",
    "m2 = matrix()\n",
    "m2.from_ascii(ascii_name)\n",
    "print(m2)"
   ]
  },
  {
   "cell_type": "code",
   "execution_count": null,
   "metadata": {
    "collapsed": false
   },
   "outputs": [],
   "source": [
    "bin_name = \"mat_test.bin\"\n",
    "m.to_binary(bin_name)\n",
    "m3 = matrix()\n",
    "m3.from_binary(bin_name)\n",
    "print(m3)"
   ]
  },
  {
   "cell_type": "markdown",
   "metadata": {},
   "source": [
    "`matrix` also implements a `to_dataframe()` and a `to_sparse`, which return `pandas dataframe` and a `scipy.sparse` (compressed sparse row) objects, respectively:"
   ]
  },
  {
   "cell_type": "code",
   "execution_count": null,
   "metadata": {
    "collapsed": false
   },
   "outputs": [],
   "source": [
    "print(type(m.to_dataframe()))\n",
    "print(type(m.to_sparse()))\n",
    "m.to_dataframe() #looks really nice in the notebook!"
   ]
  },
  {
   "cell_type": "markdown",
   "metadata": {},
   "source": [
    "#Convience methods of `matrix`\n",
    "\n",
    "several cool things are implemented in `matrix` and accessed through `@property` decorated methods.  For example, the SVD components of a `matrix` object are simply accessed by name.  The SVD routine is called on demand and the components are cast to `matrix` objects, all opaque to the user:"
   ]
  },
  {
   "cell_type": "code",
   "execution_count": null,
   "metadata": {
    "collapsed": false
   },
   "outputs": [],
   "source": [
    "print(m.s) #the singular values of m cast into a matrix object.  the SVD() is called on demand...\n",
    "m.s.to_ascii(\"test_sv.mat\") #save the singular values to a PEST-compatible ASCII file"
   ]
  },
  {
   "cell_type": "code",
   "execution_count": null,
   "metadata": {
    "collapsed": false
   },
   "outputs": [],
   "source": [
    "m.v.to_ascii(\"test_v.mat\") #the right singular vectors of m.\n",
    "m.u.to_dataframe()# a data frame of the left singular vectors of m"
   ]
  },
  {
   "cell_type": "markdown",
   "metadata": {},
   "source": [
    "The matrix inverse operation is accessed the same way, but requires a square matrix:"
   ]
  },
  {
   "cell_type": "code",
   "execution_count": null,
   "metadata": {
    "collapsed": false
   },
   "outputs": [],
   "source": [
    "m.inv.to_dataframe()"
   ]
  },
  {
   "cell_type": "markdown",
   "metadata": {},
   "source": [
    "#Manipulating `matrix` shape\n",
    "`matrix` has lots of functionality to support getting submatrices by row and col names:"
   ]
  },
  {
   "cell_type": "code",
   "execution_count": null,
   "metadata": {
    "collapsed": false
   },
   "outputs": [],
   "source": [
    "\n",
    "print(m.get(row_names=\"row_00\",col_names=[\"col_01\",\"col_03\"]))"
   ]
  },
  {
   "cell_type": "markdown",
   "metadata": {},
   "source": [
    "`extract()` calls `get()` then `drop()`:"
   ]
  },
  {
   "cell_type": "code",
   "execution_count": null,
   "metadata": {
    "collapsed": false
   },
   "outputs": [],
   "source": [
    "from copy import deepcopy\n",
    "m_copy = deepcopy(m)\n",
    "sub_m = m_copy.extract(row_names=\"row_00\",col_names=[\"col_01\",\"col_03\"])\n",
    "m_copy.to_dataframe()\n",
    "sub_m.to_dataframe()"
   ]
  },
  {
   "cell_type": "markdown",
   "metadata": {},
   "source": [
    "#Operator overloading\n",
    "The operator overloading uses the auto-align functionality as well as the `isdiagonal` flag for super easy linear algebra.  The \"inner join\" of the two objects is found and the rows and cols are aligned appropriately:"
   ]
  },
  {
   "cell_type": "code",
   "execution_count": null,
   "metadata": {
    "collapsed": false
   },
   "outputs": [],
   "source": [
    "#a new matrix object that is not \"aligned\" with m\n",
    "row_names = [\"row_03\",\"row_02\",\"row_00\"]\n",
    "col_names = [\"col_01\",\"col_10\",\"col_100\"]\n",
    "m_mix = matrix(x=np.random.random((3,3)),row_names=row_names,col_names=col_names)\n",
    "m_mix.to_dataframe()\n"
   ]
  },
  {
   "cell_type": "code",
   "execution_count": null,
   "metadata": {
    "collapsed": false
   },
   "outputs": [],
   "source": [
    "m.to_dataframe()"
   ]
  },
  {
   "cell_type": "code",
   "execution_count": null,
   "metadata": {
    "collapsed": false
   },
   "outputs": [],
   "source": [
    "prod = m * m_mix.T\n",
    "prod.to_dataframe()"
   ]
  },
  {
   "cell_type": "code",
   "execution_count": null,
   "metadata": {
    "collapsed": false
   },
   "outputs": [],
   "source": [
    "prod2 = m_mix.T * m\n",
    "prod2.to_dataframe()"
   ]
  },
  {
   "cell_type": "code",
   "execution_count": null,
   "metadata": {
    "collapsed": false
   },
   "outputs": [],
   "source": [
    "(m_mix + m).to_dataframe()"
   ]
  },
  {
   "cell_type": "markdown",
   "metadata": {},
   "source": [
    "#The `cov` derived type\n",
    "The `cov` type of `mat_handler` is designed specifically to handle covariance matrices.  It makes some assumptions, such as the symmetry (and accordingly that row_names == col_names). "
   ]
  },
  {
   "cell_type": "code",
   "execution_count": null,
   "metadata": {
    "collapsed": false
   },
   "outputs": [],
   "source": [
    "c = cov(m.newx,m.row_names)"
   ]
  },
  {
   "cell_type": "markdown",
   "metadata": {},
   "source": [
    "The `cov` class supports several additional I/O routines, including the PEST uncertainty file (.unc):"
   ]
  },
  {
   "cell_type": "code",
   "execution_count": null,
   "metadata": {
    "collapsed": false
   },
   "outputs": [],
   "source": [
    "c.to_uncfile(\"test.unc\")"
   ]
  },
  {
   "cell_type": "code",
   "execution_count": null,
   "metadata": {
    "collapsed": false
   },
   "outputs": [],
   "source": [
    "c1 = cov()\n",
    "c1.from_uncfile(\"test.unc\")\n",
    "print(c1)"
   ]
  },
  {
   "cell_type": "markdown",
   "metadata": {},
   "source": [
    "We can also build `cov` objects implied by pest control file parameter bounds or observation weights:"
   ]
  },
  {
   "cell_type": "code",
   "execution_count": null,
   "metadata": {
    "collapsed": false
   },
   "outputs": [],
   "source": [
    "parcov = cov()\n",
    "parcov.from_parbounds(os.path.join(\"henry\",\"pest.pst\"))\n",
    "obscov = cov()\n",
    "obscov.from_obsweights(os.path.join(\"henry\",\"pest.pst\"))"
   ]
  },
  {
   "cell_type": "code",
   "execution_count": null,
   "metadata": {
    "collapsed": false
   },
   "outputs": [],
   "source": [
    "parcov.to_dataframe() #to_dataframe for diagonal types builds a full matrix dataframe - can be costly"
   ]
  },
  {
   "cell_type": "code",
   "execution_count": null,
   "metadata": {
    "collapsed": false
   },
   "outputs": [],
   "source": [
    "obscov.to_dataframe()# notice the zero-weight obs have been assigned a really large uncertainty"
   ]
  },
  {
   "cell_type": "code",
   "execution_count": null,
   "metadata": {
    "collapsed": false
   },
   "outputs": [],
   "source": []
  },
  {
   "cell_type": "code",
   "execution_count": null,
   "metadata": {
    "collapsed": false
   },
   "outputs": [],
   "source": []
  }
 ],
 "metadata": {
  "kernelspec": {
   "display_name": "Python 2",
   "language": "python",
   "name": "python2"
  },
  "language_info": {
   "codemirror_mode": {
    "name": "ipython",
    "version": 2
   },
   "file_extension": ".py",
   "mimetype": "text/x-python",
   "name": "python",
   "nbconvert_exporter": "python",
   "pygments_lexer": "ipython2",
   "version": "2.7.9"
  }
 },
 "nbformat": 4,
 "nbformat_minor": 0
}
