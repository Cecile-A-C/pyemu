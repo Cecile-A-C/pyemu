{
 "metadata": {
  "name": "",
  "signature": "sha256:e5b2355a26827beff6c0bd9e52dae81a3e8fc6a2f0c378602f6879bc9f3e09f1"
 },
 "nbformat": 3,
 "nbformat_minor": 0,
 "worksheets": [
  {
   "cells": [
    {
     "cell_type": "markdown",
     "metadata": {},
     "source": [
      "#pst_handler.py\n",
      "\n",
      "The `pst_handler` module contains the `pst` class for dealing with pest control files.  It relies heavily on `pandas` to deal with tabular sections, such as parameters, observations, and prior information.  "
     ]
    },
    {
     "cell_type": "code",
     "collapsed": false,
     "input": [
      "import os\n",
      "import numpy as np\n",
      "import pst_handler as ph"
     ],
     "language": "python",
     "metadata": {},
     "outputs": []
    },
    {
     "cell_type": "markdown",
     "metadata": {},
     "source": [
      "We need to pass the name of a pest control file to instantiate:"
     ]
    },
    {
     "cell_type": "code",
     "collapsed": false,
     "input": [
      "pst_name = os.path.join(\"henry\",\"pest.pst\")\n",
      "p = ph.pst(pst_name)"
     ],
     "language": "python",
     "metadata": {},
     "outputs": []
    },
    {
     "cell_type": "markdown",
     "metadata": {},
     "source": [
      "p.parameter_data"
     ]
    },
    {
     "cell_type": "markdown",
     "metadata": {},
     "source": [
      "All of the relevant parts of the pest control file are attributes of the `pst` class with the same name:\n",
      "\n"
     ]
    },
    {
     "cell_type": "code",
     "collapsed": false,
     "input": [
      "p.parameter_data"
     ],
     "language": "python",
     "metadata": {},
     "outputs": []
    },
    {
     "cell_type": "code",
     "collapsed": false,
     "input": [
      "p.observation_data"
     ],
     "language": "python",
     "metadata": {},
     "outputs": []
    },
    {
     "cell_type": "code",
     "collapsed": false,
     "input": [
      "p.prior_information"
     ],
     "language": "python",
     "metadata": {},
     "outputs": []
    },
    {
     "cell_type": "markdown",
     "metadata": {},
     "source": [
      "A residual file (`.rei` or `res`) can also be passed to the `resfile` argument at instantiation to enable some simple residual analysis and weight adjustments.  If the residual file is in the same directory as the pest control file and has the same base name, it will be accessed automatically:\n"
     ]
    },
    {
     "cell_type": "code",
     "collapsed": false,
     "input": [
      "p.res"
     ],
     "language": "python",
     "metadata": {},
     "outputs": []
    },
    {
     "cell_type": "markdown",
     "metadata": {},
     "source": [
      "The `pst` class has some `@decorated` convience methods related to the residuals:"
     ]
    },
    {
     "cell_type": "code",
     "collapsed": false,
     "input": [
      "print p.phi,p.phi_components"
     ],
     "language": "python",
     "metadata": {},
     "outputs": []
    },
    {
     "cell_type": "markdown",
     "metadata": {},
     "source": [
      "Some additional `@decorated` convience methods:"
     ]
    },
    {
     "cell_type": "code",
     "collapsed": false,
     "input": [
      "print p.npar,p.nobs,p.nprior"
     ],
     "language": "python",
     "metadata": {},
     "outputs": []
    },
    {
     "cell_type": "code",
     "collapsed": false,
     "input": [
      "print p.par_groups,p.obs_groups"
     ],
     "language": "python",
     "metadata": {},
     "outputs": []
    },
    {
     "cell_type": "code",
     "collapsed": false,
     "input": [
      "print type(p.par_names)\n",
      "print type(p.obs_names)"
     ],
     "language": "python",
     "metadata": {},
     "outputs": []
    },
    {
     "cell_type": "markdown",
     "metadata": {},
     "source": [
      "The `pst` class also exposes a method to get a new `pst` instance with a subset of parameters and or obseravtions.  Note this method does not propogate prior information to the new instance:"
     ]
    },
    {
     "cell_type": "code",
     "collapsed": false,
     "input": [
      "pnew = p.get(p.par_names[:10],p.obs_names[-10:])\n",
      "print pnew.prior_information"
     ],
     "language": "python",
     "metadata": {},
     "outputs": []
    },
    {
     "cell_type": "markdown",
     "metadata": {},
     "source": [
      "You can also write a pest control file with altered parameters, observations, and/or prior information:"
     ]
    },
    {
     "cell_type": "code",
     "collapsed": false,
     "input": [
      "pnew.write(\"test.pst\")"
     ],
     "language": "python",
     "metadata": {},
     "outputs": []
    },
    {
     "cell_type": "markdown",
     "metadata": {},
     "source": [
      "Some other methods in `pst` include:"
     ]
    },
    {
     "cell_type": "code",
     "collapsed": false,
     "input": [
      "# add preferred value regularization with weights proportional to parameter bounds\n",
      "pnew.zero_order_tikhonov()\n",
      "pnew.prior_information"
     ],
     "language": "python",
     "metadata": {},
     "outputs": []
    },
    {
     "cell_type": "code",
     "collapsed": false,
     "input": [
      "# add preferred value regularization with unity weights\n",
      "pnew.zero_order_tikhonov(parbounds=False)\n",
      "pnew.prior_information"
     ],
     "language": "python",
     "metadata": {},
     "outputs": []
    },
    {
     "cell_type": "code",
     "collapsed": false,
     "input": [
      "# adjust observation weights to account for residual phi components\n",
      "#pnew = p.get()\n",
      "print p.phi, p.nnz_obs, p.phi_components\n",
      "p.adjust_weights_resfile()\n",
      "print p.phi, p.nnz_obs, p.phi_components"
     ],
     "language": "python",
     "metadata": {},
     "outputs": []
    },
    {
     "cell_type": "code",
     "collapsed": false,
     "input": [],
     "language": "python",
     "metadata": {},
     "outputs": []
    }
   ],
   "metadata": {}
  }
 ]
}