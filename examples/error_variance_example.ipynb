{
 "metadata": {
  "name": "",
  "signature": "sha256:76ff4d32883477f137bf3f58c0514f029a3c0fcab756e7a98579b0f6e0cdae71"
 },
 "nbformat": 3,
 "nbformat_minor": 0,
 "worksheets": [
  {
   "cells": [
    {
     "cell_type": "markdown",
     "metadata": {},
     "source": [
      "##Model background\n",
      "Here is an example based on the henry saltwater intrusion problem.  The synthetic model is a 2-dimensional SEAWAT model (X-Z domain) with 1 row, 120 columns and 20 layers.  The left boundary is a specified flux of freshwater, the right boundary is a specified head and concentration saltwater boundary.  The model has two stress periods: an initial steady state (calibration) period, then a transient period with less flux (prediction).  \n",
      "\n",
      "![henry domain](domain.png)"
     ]
    },
    {
     "cell_type": "markdown",
     "metadata": {},
     "source": [
      "The inverse problem includes 601 parameters (600 hydraulic conductivity pilot points and 1 specified flux rate) and 36 obseravtions (21 heads and 15 concentrations) measured at the end of the steady state calibration period.  Predictions of head and concentration are also available at each observation location at the end of the transient prediction period.  The predictions we will focus on predicting concentrations at location 13, 10, and 05 at the end of the transient stress period.  I previously calculated the jacobian matrix, which is in the `henry/` folder, along with the pest control file.\n"
     ]
    },
    {
     "cell_type": "markdown",
     "metadata": {},
     "source": [
      "##Using `pyemu`"
     ]
    },
    {
     "cell_type": "code",
     "collapsed": false,
     "input": [
      "%pylab inline\n",
      "import os\n",
      "import sys\n",
      "import numpy as np\n",
      "import pyemu\n",
      "reload(pyemu)"
     ],
     "language": "python",
     "metadata": {},
     "outputs": [
      {
       "output_type": "stream",
       "stream": "stdout",
       "text": [
        "Populating the interactive namespace from numpy and matplotlib\n"
       ]
      },
      {
       "metadata": {},
       "output_type": "pyout",
       "prompt_number": 1,
       "text": [
        "<module 'pyemu' from '/Users/jwhite/anaconda/lib/python2.7/site-packages/pyemu.pyc'>"
       ]
      }
     ],
     "prompt_number": 1
    },
    {
     "cell_type": "markdown",
     "metadata": {},
     "source": [
      "First create a linear_analysis object.  We will use `err_var`  derived type, which replicates the behavior of the `PREDVAR` suite of PEST as well as `ident_par` utility.  We pass it the name of the jacobian matrix file.  Since we don't pass an explicit argument for `parcov` or `obscov`, `pyemu` attempts to build them from the parameter bounds and observation weights in a pest control file (.pst) with the same base case name as the jacobian.  Since we are interested in predictive uncertainty as well as parameter uncertainty, we also pass the names of the prediction sensitivity vectors we are interested in, which are stored in the jacobian as well.  Note that the `predictions` argument can be a mixed list of observation names, other jacobian files or PEST-compatible ASCII matrix files.  Remember you can pass a filename to the `verbose` argument to write log file.\n",
      "\n",
      "Since most groundwater model history-matching analyses focus on adjusting hetergeneous hydraulic properties and not boundary condition elements, let's identify the `mult1` parameter as `omitted` in the error variance analysis.  We can conceptually think of this action as excluding the `mult1` parameter from the history-matching process. Later we will explicitly calculate the penalty for not adjusting this parameter"
     ]
    },
    {
     "cell_type": "code",
     "collapsed": false,
     "input": [
      "predictions = [\"C_obs13_2\",\"c_obs10_2\",\"c_obs05_2\"]\n",
      "la = pyemu.errvar(jco=os.path.join(\"henry\", \"pest.jco\"), predictions=predictions, omitted_parameters=\"mult1\")\n",
      "print la.jco.shape #without the omitted parameter or the prior info"
     ],
     "language": "python",
     "metadata": {},
     "outputs": [
      {
       "output_type": "stream",
       "stream": "stdout",
       "text": [
        "2015-03-05 16:08:07.064784 starting: pre-loading base components\n",
        "2015-03-05 16:08:07.064854 starting: loading jco: henry/pest.jco\n",
        "2015-03-05 16:08:07.069054 finished: loading jco: henry/pest.jco took: 0:00:00.004200\n",
        "2015-03-05 16:08:07.069095 starting: loading pst: henry/pest.pst\n",
        "2015-03-05 16:08:07.077489 finished: loading pst: henry/pest.pst took: 0:00:00.008394\n",
        "2015-03-05 16:08:07.077529 starting: loading parcov\n",
        "2015-03-05 16:08:07.151687 finished: loading parcov took: 0:00:00.074158\n"
       ]
      },
      {
       "output_type": "stream",
       "stream": "stdout",
       "text": [
        "2015-03-05 16:08:07.152073 starting: loading obscov\n",
        "2015-03-05 16:08:07.167952 finished: loading obscov took: 0:00:00.015879\n",
        "2015-03-05 16:08:07.167991 starting: loading predictions\n",
        "2015-03-05 16:08:07.188427 finished: loading predictions took: 0:00:00.020436\n",
        "2015-03-05 16:08:07.188478 finished: pre-loading base components took: 0:00:00.123694\n",
        "2015-03-05 16:08:07.188496 starting: dropping prior information\n",
        "2015-03-05 16:08:07.188551 starting: removing 601 prior info from jco, pst, and obs cov\n",
        "2015-03-05 16:08:07.212439 finished: removing 601 prior info from jco, pst, and obs cov took: 0:00:00.023888\n"
       ]
      },
      {
       "output_type": "stream",
       "stream": "stdout",
       "text": [
        "2015-03-05 16:08:07.212797 finished: dropping prior information took: 0:00:00.024301\n",
        "2015-03-05 16:08:07.212852 starting: pre-loading omitted components\n",
        "2015-03-05 16:08:07.214300 finished: pre-loading omitted components took: 0:00:00.001448\n",
        "(72, 600)\n"
       ]
      }
     ],
     "prompt_number": 4
    },
    {
     "cell_type": "markdown",
     "metadata": {},
     "source": [
      "#Parameter identifiability\n",
      "The `errvar` dervied type exposes a method to get a `pandas` dataframe of parameter identifiability information.  Recall that parameter identifiability is expressed as $d_i = \\Sigma(\\mathbf{V}_{1i})^2$, where $d_i$ is the parameter identifiability, which ranges from 0 (not identified by the data) to 1 (full identified by the data), and $\\mathbf{V}_1$ are the right singular vectors corresonding to non-(numerically) zero singular values.  First let's look at the singular spectrum of $\\mathbf{Q}^{\\frac{1}{2}}\\mathbf{J}$, where $\\mathbf{Q}$ is the cofactor matrix and $\\mathbf{J}$ is the jacobian:"
     ]
    },
    {
     "cell_type": "code",
     "collapsed": false,
     "input": [
      "s = la.qhalfx.s"
     ],
     "language": "python",
     "metadata": {},
     "outputs": [
      {
       "output_type": "stream",
       "stream": "stdout",
       "text": [
        "2015-03-05 14:54:51.707723 starting: qhalf\n",
        "2015-03-05 14:54:51.708184 finished: qhalf took: 0:00:00.000461\n"
       ]
      }
     ],
     "prompt_number": 39
    },
    {
     "cell_type": "code",
     "collapsed": false,
     "input": [
      "import pylab as plt\n",
      "figure = plt.figure(figsize=(10, 5))\n",
      "ax = plt.subplot(111)\n",
      "ax.plot(s.x)\n",
      "ax.set_title(\"singular spectrum\")\n",
      "ax.set_ylabel(\"power\")\n",
      "ax.set_xlabel(\"singular value\")\n",
      "ax.set_xlim(0,20)\n",
      "plt.show()"
     ],
     "language": "python",
     "metadata": {},
     "outputs": [
      {
       "metadata": {},
       "output_type": "display_data",
       "png": "[encoded data removed]",
       "text": [
        "<matplotlib.figure.Figure at 0x10dc98050>"
       ]
      }
     ],
     "prompt_number": 40
    },
    {
     "cell_type": "markdown",
     "metadata": {},
     "source": [
      "We see that the singluar spectrum decays rapidly (not uncommon) and that we can really only support about 15 right singular vectors.  Let's get the identifiability dataframe at 15 singular vectors:"
     ]
    },
    {
     "cell_type": "code",
     "collapsed": false,
     "input": [
      "ident_df = la.get_identifiability_dataframe(15) # the method is passed the number of singular vectors to include in V_1"
     ],
     "language": "python",
     "metadata": {},
     "outputs": [],
     "prompt_number": 41
    },
    {
     "cell_type": "markdown",
     "metadata": {},
     "source": [
      "Plot the indentifiability:"
     ]
    },
    {
     "cell_type": "code",
     "collapsed": false,
     "input": [
      "#print ident_df[\"right_sing_vec_1\"].values\n",
      "idx = np.arange(len(la.jco.col_names))\n",
      "width = 0.4\n",
      "fig = plt.figure(figsize=(20, 10))\n",
      "ax = plt.subplot(111)\n",
      "ax.bar(idx[:500],ident_df[\"ident\"].values[:500],width=width,facecolor='g',edgecolor=\"none\")\n",
      "#for ising in xrange(5):\n",
      "ax.set_xlim(-1,602)    \n",
      "plt.show()\n",
      "    "
     ],
     "language": "python",
     "metadata": {},
     "outputs": [
      {
       "metadata": {},
       "output_type": "display_data",
       "png": "[encoded data removed]",
       "text": [
        "<matplotlib.figure.Figure at 0x10e103350>"
       ]
      }
     ],
     "prompt_number": 42
    },
    {
     "cell_type": "markdown",
     "metadata": {},
     "source": [
      "As expected in a highly parameterized inversion, we have \"spread out\" the identifiability to many individual hydraulic conductivity parameters."
     ]
    },
    {
     "cell_type": "markdown",
     "metadata": {},
     "source": [
      "#Predictive error variance \n",
      "\n",
      "Now let's explore the error variance of the predictions we are interested in.  We will use an extended version of the predictive error variance equation:   \n",
      "\n",
      "$\\sigma_{s - \\hat{s}}^2 = \\underbrace{\\textbf{y}_i^T({\\bf{I}} - {\\textbf{R}})\\boldsymbol{\\Sigma}_{{\\boldsymbol{\\theta}}_i}({\\textbf{I}} - {\\textbf{R}})^T\\textbf{y}_i}_{1} + \\underbrace{{\\textbf{y}}_i^T{\\bf{G}}\\boldsymbol{\\Sigma}_{\\mathbf{\\epsilon}}{\\textbf{G}}^T{\\textbf{y}}_i}_{2} + \\underbrace{{\\bf{p}}\\boldsymbol{\\Sigma}_{{\\boldsymbol{\\theta}}_o}{\\bf{p}}^T}_{3}$\n",
      "\n",
      "Where term 1 is the null-space contribution, term 2 is the solution space contribution and term 3 is the model error term (the penalty for not adjusting uncertain parameters).  Remember the `mult1` parameter that we marked as omitted?  The consequences of that action can now be explicitly evaluated.  See Moore and Doherty (2005) and White and other (2014) for more explanation of these terms.  Note that if you don't have any `omitted_parameters`, the only terms 1 and 2 contribute to error variance\n",
      "\n",
      "First we need to create a list (or numpy ndarray) of the singular values we want to test.  Since we have $\\lt40$ data, we only need to test up to $40$ singular values because that is where the action is:"
     ]
    },
    {
     "cell_type": "code",
     "collapsed": false,
     "input": [
      "sing_vals = np.arange(40)"
     ],
     "language": "python",
     "metadata": {},
     "outputs": [],
     "prompt_number": 43
    },
    {
     "cell_type": "markdown",
     "metadata": {},
     "source": [
      "The `errvar` derived type exposes a convience method to get a multi-index pandas dataframe with each of the terms of the error variance equation:"
     ]
    },
    {
     "cell_type": "code",
     "collapsed": false,
     "input": [
      "errvar_df = la.get_errvar_dataframe(sing_vals)\n",
      "print errvar_df.index\n",
      "print errvar_df.columns"
     ],
     "language": "python",
     "metadata": {},
     "outputs": [
      {
       "output_type": "stream",
       "stream": "stdout",
       "text": [
        "2015-03-05 14:54:57.165167 starting: calc first term parameter @0\n",
        "2015-03-05 14:54:57.214042 finished: calc first term parameter @0 took: 0:00:00.048875\n",
        "2015-03-05 14:54:57.214449 starting: calc second term prediction @0\n",
        "2015-03-05 14:54:57.221357 finished: calc second term prediction @0 took: 0:00:00.006908\n"
       ]
      },
      {
       "output_type": "stream",
       "stream": "stdout",
       "text": [
        "2015-03-05 14:54:57.222198 starting: calc third term prediction @0\n",
        "2015-03-05 14:54:57.225138 finished: calc third term prediction @0 took: 0:00:00.002940\n",
        "2015-03-05 14:54:57.225270 starting: calc first term parameter @1\n",
        "2015-03-05 14:54:57.304814 finished: calc first term parameter @1 took: 0:00:00.079544\n"
       ]
      },
      {
       "output_type": "stream",
       "stream": "stdout",
       "text": [
        "2015-03-05 14:54:57.305513 starting: calc second term prediction @1\n",
        "2015-03-05 14:54:57.305883 starting: calc G @1\n",
        "2015-03-05 14:54:57.311184 finished: calc G @1 took: 0:00:00.005301\n",
        "2015-03-05 14:54:57.319067 finished: calc second term prediction @1 took: 0:00:00.013554\n",
        "2015-03-05 14:54:57.319513 starting: calc third term prediction @1\n",
        "2015-03-05 14:54:57.322371 finished: calc third term prediction @1 took: 0:00:00.002858\n",
        "2015-03-05 14:54:57.322461 starting: calc first term parameter @2\n",
        "2015-03-05 14:54:57.359212 finished: calc first term parameter @2 took: 0:00:00.036751\n"
       ]
      },
      {
       "output_type": "stream",
       "stream": "stdout",
       "text": [
        "2015-03-05 14:54:57.359988 starting: calc second term prediction @2\n",
        "2015-03-05 14:54:57.360379 starting: calc G @2\n",
        "2015-03-05 14:54:57.365732 finished: calc G @2 took: 0:00:00.005353\n",
        "2015-03-05 14:54:57.371364 finished: calc second term prediction @2 took: 0:00:00.011376\n",
        "2015-03-05 14:54:57.371914 starting: calc third term prediction @2\n",
        "2015-03-05 14:54:57.374874 finished: calc third term prediction @2 took: 0:00:00.002960\n",
        "2015-03-05 14:54:57.375008 starting: calc first term parameter @3\n",
        "2015-03-05 14:54:57.416860 finished: calc first term parameter @3 took: 0:00:00.041852\n"
       ]
      },
      {
       "output_type": "stream",
       "stream": "stdout",
       "text": [
        "2015-03-05 14:54:57.417987 starting: calc second term prediction @3\n",
        "2015-03-05 14:54:57.418538 starting: calc G @3\n",
        "2015-03-05 14:54:57.426627 finished: calc G @3 took: 0:00:00.008089\n",
        "2015-03-05 14:54:57.434401 finished: calc second term prediction @3 took: 0:00:00.016414\n",
        "2015-03-05 14:54:57.434954 starting: calc third term prediction @3\n",
        "2015-03-05 14:54:57.437190 finished: calc third term prediction @3 took: 0:00:00.002236\n",
        "2015-03-05 14:54:57.437314 starting: calc first term parameter @4\n",
        "2015-03-05 14:54:57.487164 finished: calc first term parameter @4 took: 0:00:00.049850\n"
       ]
      },
      {
       "output_type": "stream",
       "stream": "stdout",
       "text": [
        "2015-03-05 14:54:57.487908 starting: calc second term prediction @4\n",
        "2015-03-05 14:54:57.488301 starting: calc G @4\n",
        "2015-03-05 14:54:57.494311 finished: calc G @4 took: 0:00:00.006010\n",
        "2015-03-05 14:54:57.500176 finished: calc second term prediction @4 took: 0:00:00.012268\n",
        "2015-03-05 14:54:57.500554 starting: calc third term prediction @4\n",
        "2015-03-05 14:54:57.502541 finished: calc third term prediction @4 took: 0:00:00.001987\n",
        "2015-03-05 14:54:57.502637 starting: calc first term parameter @5\n",
        "2015-03-05 14:54:57.539305 finished: calc first term parameter @5 took: 0:00:00.036668\n"
       ]
      },
      {
       "output_type": "stream",
       "stream": "stdout",
       "text": [
        "2015-03-05 14:54:57.540232 starting: calc second term prediction @5\n",
        "2015-03-05 14:54:57.540692 starting: calc G @5\n",
        "2015-03-05 14:54:57.546815 finished: calc G @5 took: 0:00:00.006123\n",
        "2015-03-05 14:54:57.552775 finished: calc second term prediction @5 took: 0:00:00.012543\n",
        "2015-03-05 14:54:57.553301 starting: calc third term prediction @5\n",
        "2015-03-05 14:54:57.555907 finished: calc third term prediction @5 took: 0:00:00.002606\n",
        "2015-03-05 14:54:57.556013 starting: calc first term parameter @6\n",
        "2015-03-05 14:54:57.594346 finished: calc first term parameter @6 took: 0:00:00.038333\n"
       ]
      },
      {
       "output_type": "stream",
       "stream": "stdout",
       "text": [
        "2015-03-05 14:54:57.595191 starting: calc second term prediction @6\n",
        "2015-03-05 14:54:57.595658 starting: calc G @6\n",
        "2015-03-05 14:54:57.602244 finished: calc G @6 took: 0:00:00.006586\n",
        "2015-03-05 14:54:57.612063 finished: calc second term prediction @6 took: 0:00:00.016872\n",
        "2015-03-05 14:54:57.612619 starting: calc third term prediction @6\n",
        "2015-03-05 14:54:57.615537 finished: calc third term prediction @6 took: 0:00:00.002918\n",
        "2015-03-05 14:54:57.615658 starting: calc first term parameter @7\n",
        "2015-03-05 14:54:57.684318 finished: calc first term parameter @7 took: 0:00:00.068660\n"
       ]
      },
      {
       "output_type": "stream",
       "stream": "stdout",
       "text": [
        "2015-03-05 14:54:57.694635 starting: calc second term prediction @7\n",
        "2015-03-05 14:54:57.695264 starting: calc G @7\n",
        "2015-03-05 14:54:57.703487 finished: calc G @7 took: 0:00:00.008223\n",
        "2015-03-05 14:54:57.710893 finished: calc second term prediction @7 took: 0:00:00.016258\n",
        "2015-03-05 14:54:57.711325 starting: calc third term prediction @7\n",
        "2015-03-05 14:54:57.714227 finished: calc third term prediction @7 took: 0:00:00.002902\n",
        "2015-03-05 14:54:57.714337 starting: calc first term parameter @8\n",
        "2015-03-05 14:54:57.755238 finished: calc first term parameter @8 took: 0:00:00.040901\n"
       ]
      },
      {
       "output_type": "stream",
       "stream": "stdout",
       "text": [
        "2015-03-05 14:54:57.756234 starting: calc second term prediction @8\n",
        "2015-03-05 14:54:57.756740 starting: calc G @8\n",
        "2015-03-05 14:54:57.765102 finished: calc G @8 took: 0:00:00.008362\n",
        "2015-03-05 14:54:57.772564 finished: calc second term prediction @8 took: 0:00:00.016330\n",
        "2015-03-05 14:54:57.773022 starting: calc third term prediction @8\n",
        "2015-03-05 14:54:57.775251 finished: calc third term prediction @8 took: 0:00:00.002229\n",
        "2015-03-05 14:54:57.775355 starting: calc first term parameter @9\n",
        "2015-03-05 14:54:57.813361 finished: calc first term parameter @9 took: 0:00:00.038006\n"
       ]
      },
      {
       "output_type": "stream",
       "stream": "stdout",
       "text": [
        "2015-03-05 14:54:57.814234 starting: calc second term prediction @9\n",
        "2015-03-05 14:54:57.814753 starting: calc G @9\n",
        "2015-03-05 14:54:57.822629 finished: calc G @9 took: 0:00:00.007876\n",
        "2015-03-05 14:54:57.830155 finished: calc second term prediction @9 took: 0:00:00.015921\n",
        "2015-03-05 14:54:57.830685 starting: calc third term prediction @9\n",
        "2015-03-05 14:54:57.833243 finished: calc third term prediction @9 took: 0:00:00.002558\n",
        "2015-03-05 14:54:57.833302 starting: calc first term parameter @10\n",
        "2015-03-05 14:54:57.869748 finished: calc first term parameter @10 took: 0:00:00.036446\n"
       ]
      },
      {
       "output_type": "stream",
       "stream": "stdout",
       "text": [
        "2015-03-05 14:54:57.870473 starting: calc second term prediction @10\n",
        "2015-03-05 14:54:57.870845 starting: calc G @10\n",
        "2015-03-05 14:54:57.901047 finished: calc G @10 took: 0:00:00.030202\n",
        "2015-03-05 14:54:57.907930 finished: calc second term prediction @10 took: 0:00:00.037457\n",
        "2015-03-05 14:54:57.908349 starting: calc third term prediction @10\n",
        "2015-03-05 14:54:57.911146 finished: calc third term prediction @10 took: 0:00:00.002797\n",
        "2015-03-05 14:54:57.911251 starting: calc first term parameter @11\n",
        "2015-03-05 14:54:57.948099 finished: calc first term parameter @11 took: 0:00:00.036848\n"
       ]
      },
      {
       "output_type": "stream",
       "stream": "stdout",
       "text": [
        "2015-03-05 14:54:57.948885 starting: calc second term prediction @11\n",
        "2015-03-05 14:54:57.949264 starting: calc G @11\n",
        "2015-03-05 14:54:57.955170 finished: calc G @11 took: 0:00:00.005906\n",
        "2015-03-05 14:54:57.961051 finished: calc second term prediction @11 took: 0:00:00.012166\n",
        "2015-03-05 14:54:57.961584 starting: calc third term prediction @11\n",
        "2015-03-05 14:54:57.964047 finished: calc third term prediction @11 took: 0:00:00.002463\n",
        "2015-03-05 14:54:57.964120 starting: calc first term parameter @12\n",
        "2015-03-05 14:54:58.002112 finished: calc first term parameter @12 took: 0:00:00.037992\n"
       ]
      },
      {
       "output_type": "stream",
       "stream": "stdout",
       "text": [
        "2015-03-05 14:54:58.002959 starting: calc second term prediction @12\n",
        "2015-03-05 14:54:58.003478 starting: calc G @12\n",
        "2015-03-05 14:54:58.014504 finished: calc G @12 took: 0:00:00.011026\n",
        "2015-03-05 14:54:58.021080 finished: calc second term prediction @12 took: 0:00:00.018121\n",
        "2015-03-05 14:54:58.021483 starting: calc third term prediction @12\n",
        "2015-03-05 14:54:58.023469 finished: calc third term prediction @12 took: 0:00:00.001986\n",
        "2015-03-05 14:54:58.023554 starting: calc first term parameter @13\n",
        "2015-03-05 14:54:58.061950 finished: calc first term parameter @13 took: 0:00:00.038396\n"
       ]
      },
      {
       "output_type": "stream",
       "stream": "stdout",
       "text": [
        "2015-03-05 14:54:58.062733 starting: calc second term prediction @13\n",
        "2015-03-05 14:54:58.063050 starting: calc G @13\n",
        "2015-03-05 14:54:58.071397 finished: calc G @13 took: 0:00:00.008347\n",
        "2015-03-05 14:54:58.079628 finished: calc second term prediction @13 took: 0:00:00.016895\n",
        "2015-03-05 14:54:58.080023 starting: calc third term prediction @13\n",
        "2015-03-05 14:54:58.081856 finished: calc third term prediction @13 took: 0:00:00.001833\n",
        "2015-03-05 14:54:58.081925 starting: calc first term parameter @14\n",
        "2015-03-05 14:54:58.124620 finished: calc first term parameter @14 took: 0:00:00.042695\n"
       ]
      },
      {
       "output_type": "stream",
       "stream": "stdout",
       "text": [
        "2015-03-05 14:54:58.125664 starting: calc second term prediction @14\n",
        "2015-03-05 14:54:58.126178 starting: calc G @14\n",
        "2015-03-05 14:54:58.135261 finished: calc G @14 took: 0:00:00.009083\n",
        "2015-03-05 14:54:58.143367 finished: calc second term prediction @14 took: 0:00:00.017703\n",
        "2015-03-05 14:54:58.143812 starting: calc third term prediction @14\n",
        "2015-03-05 14:54:58.145445 finished: calc third term prediction @14 took: 0:00:00.001633\n",
        "2015-03-05 14:54:58.145500 starting: calc first term parameter @15\n",
        "2015-03-05 14:54:58.185852 finished: calc first term parameter @15 took: 0:00:00.040352\n"
       ]
      },
      {
       "output_type": "stream",
       "stream": "stdout",
       "text": [
        "2015-03-05 14:54:58.186767 starting: calc second term prediction @15\n",
        "2015-03-05 14:54:58.187270 starting: calc G @15\n",
        "2015-03-05 14:54:58.195714 finished: calc G @15 took: 0:00:00.008444\n",
        "2015-03-05 14:54:58.214805 finished: calc second term prediction @15 took: 0:00:00.028038\n",
        "2015-03-05 14:54:58.215282 starting: calc third term prediction @15\n",
        "2015-03-05 14:54:58.217897 finished: calc third term prediction @15 took: 0:00:00.002615\n",
        "2015-03-05 14:54:58.218010 starting: calc first term parameter @16\n",
        "2015-03-05 14:54:58.258963 finished: calc first term parameter @16 took: 0:00:00.040953\n"
       ]
      },
      {
       "output_type": "stream",
       "stream": "stdout",
       "text": [
        "2015-03-05 14:54:58.259736 starting: calc second term prediction @16\n",
        "2015-03-05 14:54:58.260068 starting: calc G @16\n",
        "2015-03-05 14:54:58.266146 finished: calc G @16 took: 0:00:00.006078\n",
        "2015-03-05 14:54:58.272426 finished: calc second term prediction @16 took: 0:00:00.012690\n",
        "2015-03-05 14:54:58.272794 starting: calc third term prediction @16\n",
        "2015-03-05 14:54:58.274576 finished: calc third term prediction @16 took: 0:00:00.001782\n",
        "2015-03-05 14:54:58.274652 starting: calc first term parameter @17\n",
        "2015-03-05 14:54:58.310707 finished: calc first term parameter @17 took: 0:00:00.036055\n"
       ]
      },
      {
       "output_type": "stream",
       "stream": "stdout",
       "text": [
        "2015-03-05 14:54:58.311612 starting: calc second term prediction @17\n",
        "2015-03-05 14:54:58.312084 starting: calc G @17\n",
        "2015-03-05 14:54:58.319953 finished: calc G @17 took: 0:00:00.007869\n",
        "2015-03-05 14:54:58.336622 finished: calc second term prediction @17 took: 0:00:00.025010\n",
        "2015-03-05 14:54:58.337065 starting: calc third term prediction @17\n",
        "2015-03-05 14:54:58.338995 finished: calc third term prediction @17 took: 0:00:00.001930\n",
        "2015-03-05 14:54:58.339059 starting: calc first term parameter @18\n",
        "2015-03-05 14:54:58.379119 finished: calc first term parameter @18 took: 0:00:00.040060\n"
       ]
      },
      {
       "output_type": "stream",
       "stream": "stdout",
       "text": [
        "2015-03-05 14:54:58.379916 starting: calc second term prediction @18\n",
        "2015-03-05 14:54:58.380264 starting: calc G @18\n",
        "2015-03-05 14:54:58.386534 finished: calc G @18 took: 0:00:00.006270\n",
        "2015-03-05 14:54:58.396713 finished: calc second term prediction @18 took: 0:00:00.016797\n",
        "2015-03-05 14:54:58.397257 starting: calc third term prediction @18\n",
        "2015-03-05 14:54:58.400340 finished: calc third term prediction @18 took: 0:00:00.003083\n",
        "2015-03-05 14:54:58.400466 starting: calc first term parameter @19\n",
        "2015-03-05 14:54:58.485227 finished: calc first term parameter @19 took: 0:00:00.084761\n"
       ]
      },
      {
       "output_type": "stream",
       "stream": "stdout",
       "text": [
        "2015-03-05 14:54:58.486229 starting: calc second term prediction @19\n",
        "2015-03-05 14:54:58.486690 starting: calc G @19\n",
        "2015-03-05 14:54:58.494767 finished: calc G @19 took: 0:00:00.008077\n",
        "2015-03-05 14:54:58.500501 finished: calc second term prediction @19 took: 0:00:00.014272\n",
        "2015-03-05 14:54:58.500858 starting: calc third term prediction @19\n",
        "2015-03-05 14:54:58.502652 finished: calc third term prediction @19 took: 0:00:00.001794\n",
        "2015-03-05 14:54:58.502727 starting: calc first term parameter @20\n",
        "2015-03-05 14:54:58.540196 finished: calc first term parameter @20 took: 0:00:00.037469\n"
       ]
      },
      {
       "output_type": "stream",
       "stream": "stdout",
       "text": [
        "2015-03-05 14:54:58.541074 starting: calc second term prediction @20\n",
        "2015-03-05 14:54:58.541531 starting: calc G @20\n",
        "2015-03-05 14:54:58.549101 finished: calc G @20 took: 0:00:00.007570\n",
        "2015-03-05 14:54:58.569444 finished: calc second term prediction @20 took: 0:00:00.028370\n",
        "2015-03-05 14:54:58.569897 starting: calc third term prediction @20\n",
        "2015-03-05 14:54:58.571541 finished: calc third term prediction @20 took: 0:00:00.001644\n",
        "2015-03-05 14:54:58.571596 starting: calc first term parameter @21\n",
        "2015-03-05 14:54:58.609385 finished: calc first term parameter @21 took: 0:00:00.037789\n"
       ]
      },
      {
       "output_type": "stream",
       "stream": "stdout",
       "text": [
        "2015-03-05 14:54:58.610240 starting: calc second term prediction @21\n",
        "2015-03-05 14:54:58.610788 starting: calc G @21\n",
        "2015-03-05 14:54:58.617793 finished: calc G @21 took: 0:00:00.007005\n",
        "2015-03-05 14:54:58.624758 finished: calc second term prediction @21 took: 0:00:00.014518\n",
        "2015-03-05 14:54:58.625292 starting: calc third term prediction @21\n",
        "2015-03-05 14:54:58.627852 finished: calc third term prediction @21 took: 0:00:00.002560\n",
        "2015-03-05 14:54:58.627941 starting: calc first term parameter @22\n",
        "2015-03-05 14:54:58.666185 finished: calc first term parameter @22 took: 0:00:00.038244\n"
       ]
      },
      {
       "output_type": "stream",
       "stream": "stdout",
       "text": [
        "2015-03-05 14:54:58.667004 starting: calc second term prediction @22\n",
        "2015-03-05 14:54:58.667410 starting: calc G @22\n",
        "2015-03-05 14:54:58.675259 finished: calc G @22 took: 0:00:00.007849\n",
        "2015-03-05 14:54:58.682688 finished: calc second term prediction @22 took: 0:00:00.015684\n",
        "2015-03-05 14:54:58.683202 starting: calc third term prediction @22\n",
        "2015-03-05 14:54:58.686241 finished: calc third term prediction @22 took: 0:00:00.003039\n",
        "2015-03-05 14:54:58.686343 starting: calc first term parameter @23\n",
        "2015-03-05 14:54:58.723948 finished: calc first term parameter @23 took: 0:00:00.037605\n"
       ]
      },
      {
       "output_type": "stream",
       "stream": "stdout",
       "text": [
        "2015-03-05 14:54:58.725004 starting: calc second term prediction @23\n",
        "2015-03-05 14:54:58.725490 starting: calc G @23\n",
        "2015-03-05 14:54:58.732096 finished: calc G @23 took: 0:00:00.006606\n",
        "2015-03-05 14:54:58.738590 finished: calc second term prediction @23 took: 0:00:00.013586\n",
        "2015-03-05 14:54:58.739033 starting: calc third term prediction @23\n",
        "2015-03-05 14:54:58.741243 finished: calc third term prediction @23 took: 0:00:00.002210\n",
        "2015-03-05 14:54:58.741347 starting: calc first term parameter @24\n",
        "2015-03-05 14:54:58.777453 finished: calc first term parameter @24 took: 0:00:00.036106\n"
       ]
      },
      {
       "output_type": "stream",
       "stream": "stdout",
       "text": [
        "2015-03-05 14:54:58.778207 starting: calc second term prediction @24\n",
        "2015-03-05 14:54:58.778619 starting: calc G @24\n",
        "2015-03-05 14:54:58.786881 finished: calc G @24 took: 0:00:00.008262\n",
        "2015-03-05 14:54:58.794494 finished: calc second term prediction @24 took: 0:00:00.016287\n",
        "2015-03-05 14:54:58.795008 starting: calc third term prediction @24\n",
        "2015-03-05 14:54:58.797882 finished: calc third term prediction @24 took: 0:00:00.002874\n",
        "2015-03-05 14:54:58.797995 starting: calc first term parameter @25\n",
        "2015-03-05 14:54:58.861831 finished: calc first term parameter @25 took: 0:00:00.063836\n"
       ]
      },
      {
       "output_type": "stream",
       "stream": "stdout",
       "text": [
        "2015-03-05 14:54:58.862672 starting: calc second term prediction @25\n",
        "2015-03-05 14:54:58.863127 starting: calc G @25\n",
        "2015-03-05 14:54:58.871974 finished: calc G @25 took: 0:00:00.008847\n",
        "2015-03-05 14:54:58.880474 finished: calc second term prediction @25 took: 0:00:00.017802\n",
        "2015-03-05 14:54:58.880918 starting: calc third term prediction @25\n",
        "2015-03-05 14:54:58.883380 finished: calc third term prediction @25 took: 0:00:00.002462\n",
        "2015-03-05 14:54:58.883459 starting: calc first term parameter @26\n",
        "2015-03-05 14:54:58.922601 finished: calc first term parameter @26 took: 0:00:00.039142\n"
       ]
      },
      {
       "output_type": "stream",
       "stream": "stdout",
       "text": [
        "2015-03-05 14:54:58.923428 starting: calc second term prediction @26\n",
        "2015-03-05 14:54:58.923829 starting: calc G @26\n",
        "2015-03-05 14:54:58.931937 finished: calc G @26 took: 0:00:00.008108\n",
        "2015-03-05 14:54:58.938539 finished: calc second term prediction @26 took: 0:00:00.015111\n",
        "2015-03-05 14:54:58.938968 starting: calc third term prediction @26\n",
        "2015-03-05 14:54:58.940625 finished: calc third term prediction @26 took: 0:00:00.001657\n",
        "2015-03-05 14:54:58.940683 starting: calc first term parameter @27\n",
        "2015-03-05 14:54:58.980482 finished: calc first term parameter @27 took: 0:00:00.039799\n"
       ]
      },
      {
       "output_type": "stream",
       "stream": "stdout",
       "text": [
        "2015-03-05 14:54:58.981434 starting: calc second term prediction @27\n",
        "2015-03-05 14:54:58.981941 starting: calc G @27\n",
        "2015-03-05 14:54:58.990162 finished: calc G @27 took: 0:00:00.008221\n",
        "2015-03-05 14:54:58.998241 finished: calc second term prediction @27 took: 0:00:00.016807\n",
        "2015-03-05 14:54:58.998770 starting: calc third term prediction @27\n",
        "2015-03-05 14:54:59.002000 finished: calc third term prediction @27 took: 0:00:00.003230\n",
        "2015-03-05 14:54:59.002138 starting: calc first term parameter @28\n",
        "2015-03-05 14:54:59.046823 finished: calc first term parameter @28 took: 0:00:00.044685\n"
       ]
      },
      {
       "output_type": "stream",
       "stream": "stdout",
       "text": [
        "2015-03-05 14:54:59.047679 starting: calc second term prediction @28\n",
        "2015-03-05 14:54:59.048137 starting: calc G @28\n",
        "2015-03-05 14:54:59.056655 finished: calc G @28 took: 0:00:00.008518\n",
        "2015-03-05 14:54:59.065142 finished: calc second term prediction @28 took: 0:00:00.017463\n",
        "2015-03-05 14:54:59.065641 starting: calc third term prediction @28\n",
        "2015-03-05 14:54:59.077401 finished: calc third term prediction @28 took: 0:00:00.011760\n",
        "2015-03-05 14:54:59.079044 starting: calc first term parameter @29\n",
        "2015-03-05 14:54:59.124666 finished: calc first term parameter @29 took: 0:00:00.045622\n"
       ]
      },
      {
       "output_type": "stream",
       "stream": "stdout",
       "text": [
        "2015-03-05 14:54:59.125554 starting: calc second term prediction @29\n",
        "2015-03-05 14:54:59.126139 starting: calc G @29\n",
        "2015-03-05 14:54:59.135695 finished: calc G @29 took: 0:00:00.009556\n",
        "2015-03-05 14:54:59.143916 finished: calc second term prediction @29 took: 0:00:00.018362\n",
        "2015-03-05 14:54:59.144505 starting: calc third term prediction @29\n",
        "2015-03-05 14:54:59.146310 finished: calc third term prediction @29 took: 0:00:00.001805\n",
        "2015-03-05 14:54:59.146401 starting: calc first term parameter @30\n",
        "2015-03-05 14:54:59.261209 finished: calc first term parameter @30 took: 0:00:00.114808\n"
       ]
      },
      {
       "output_type": "stream",
       "stream": "stdout",
       "text": [
        "2015-03-05 14:54:59.261956 starting: calc second term prediction @30\n",
        "2015-03-05 14:54:59.262272 starting: calc G @30\n",
        "2015-03-05 14:54:59.269308 finished: calc G @30 took: 0:00:00.007036\n",
        "2015-03-05 14:54:59.276805 finished: calc second term prediction @30 took: 0:00:00.014849\n",
        "2015-03-05 14:54:59.277240 starting: calc third term prediction @30\n",
        "2015-03-05 14:54:59.278955 finished: calc third term prediction @30 took: 0:00:00.001715\n",
        "2015-03-05 14:54:59.279018 starting: calc first term parameter @31\n",
        "2015-03-05 14:54:59.322849 finished: calc first term parameter @31 took: 0:00:00.043831\n"
       ]
      },
      {
       "output_type": "stream",
       "stream": "stdout",
       "text": [
        "2015-03-05 14:54:59.323708 starting: calc second term prediction @31\n",
        "2015-03-05 14:54:59.324212 starting: calc G @31\n",
        "2015-03-05 14:54:59.331275 finished: calc G @31 took: 0:00:00.007063\n",
        "2015-03-05 14:54:59.337426 finished: calc second term prediction @31 took: 0:00:00.013718\n",
        "2015-03-05 14:54:59.337796 starting: calc third term prediction @31\n",
        "2015-03-05 14:54:59.339446 finished: calc third term prediction @31 took: 0:00:00.001650\n",
        "2015-03-05 14:54:59.339515 starting: calc first term parameter @32\n",
        "2015-03-05 14:54:59.376618 finished: calc first term parameter @32 took: 0:00:00.037103\n"
       ]
      },
      {
       "output_type": "stream",
       "stream": "stdout",
       "text": [
        "2015-03-05 14:54:59.377389 starting: calc second term prediction @32\n",
        "2015-03-05 14:54:59.377701 starting: calc G @32\n",
        "2015-03-05 14:54:59.383745 finished: calc G @32 took: 0:00:00.006044\n",
        "2015-03-05 14:54:59.390265 finished: calc second term prediction @32 took: 0:00:00.012876\n",
        "2015-03-05 14:54:59.390815 starting: calc third term prediction @32\n",
        "2015-03-05 14:54:59.393662 finished: calc third term prediction @32 took: 0:00:00.002847\n",
        "2015-03-05 14:54:59.393763 starting: calc first term parameter @33\n",
        "2015-03-05 14:54:59.429983 finished: calc first term parameter @33 took: 0:00:00.036220\n"
       ]
      },
      {
       "output_type": "stream",
       "stream": "stdout",
       "text": [
        "2015-03-05 14:54:59.430775 starting: calc second term prediction @33\n",
        "2015-03-05 14:54:59.431165 starting: calc G @33\n",
        "2015-03-05 14:54:59.437842 finished: calc G @33 took: 0:00:00.006677\n",
        "2015-03-05 14:54:59.443612 finished: calc second term prediction @33 took: 0:00:00.012837\n",
        "2015-03-05 14:54:59.444001 starting: calc third term prediction @33\n",
        "2015-03-05 14:54:59.446471 finished: calc third term prediction @33 took: 0:00:00.002470\n",
        "2015-03-05 14:54:59.446569 starting: calc first term parameter @34\n",
        "2015-03-05 14:54:59.488469 finished: calc first term parameter @34 took: 0:00:00.041900\n"
       ]
      },
      {
       "output_type": "stream",
       "stream": "stdout",
       "text": [
        "2015-03-05 14:54:59.489439 starting: calc second term prediction @34\n",
        "2015-03-05 14:54:59.489959 starting: calc G @34\n",
        "2015-03-05 14:54:59.499894 finished: calc G @34 took: 0:00:00.009935\n",
        "2015-03-05 14:54:59.508714 finished: calc second term prediction @34 took: 0:00:00.019275\n",
        "2015-03-05 14:54:59.509255 starting: calc third term prediction @34\n",
        "2015-03-05 14:54:59.512203 finished: calc third term prediction @34 took: 0:00:00.002948\n",
        "2015-03-05 14:54:59.512319 starting: calc first term parameter @35\n",
        "2015-03-05 14:54:59.564754 finished: calc first term parameter @35 took: 0:00:00.052435\n"
       ]
      },
      {
       "output_type": "stream",
       "stream": "stdout",
       "text": [
        "2015-03-05 14:54:59.565633 starting: calc second term prediction @35\n",
        "2015-03-05 14:54:59.566038 starting: calc G @35\n",
        "2015-03-05 14:54:59.591841 finished: calc G @35 took: 0:00:00.025803\n",
        "2015-03-05 14:54:59.600057 finished: calc second term prediction @35 took: 0:00:00.034424\n",
        "2015-03-05 14:54:59.600592 starting: calc third term prediction @35\n",
        "2015-03-05 14:54:59.603263 finished: calc third term prediction @35 took: 0:00:00.002671\n",
        "2015-03-05 14:54:59.603347 starting: calc first term parameter @36\n",
        "2015-03-05 14:54:59.638591 finished: calc first term parameter @36 took: 0:00:00.035244\n"
       ]
      },
      {
       "output_type": "stream",
       "stream": "stdout",
       "text": [
        "2015-03-05 14:54:59.639356 starting: calc second term prediction @36\n",
        "2015-03-05 14:54:59.639687 starting: calc G @36\n",
        "2015-03-05 14:54:59.646300 finished: calc G @36 took: 0:00:00.006613\n",
        "2015-03-05 14:54:59.652805 finished: calc second term prediction @36 took: 0:00:00.013449\n",
        "2015-03-05 14:54:59.653219 starting: calc third term prediction @36\n",
        "2015-03-05 14:54:59.654982 finished: calc third term prediction @36 took: 0:00:00.001763\n",
        "2015-03-05 14:54:59.655040 starting: calc first term parameter @37\n",
        "2015-03-05 14:54:59.689453 finished: calc first term parameter @37 took: 0:00:00.034413\n"
       ]
      },
      {
       "output_type": "stream",
       "stream": "stdout",
       "text": [
        "2015-03-05 14:54:59.690164 starting: calc second term prediction @37\n",
        "2015-03-05 14:54:59.690376 starting: calc third term prediction @37\n",
        "2015-03-05 14:54:59.690554 starting: calc first term parameter @38\n",
        "2015-03-05 14:54:59.735502 finished: calc first term parameter @38 took: 0:00:00.044948\n",
        "2015-03-05 14:54:59.736031 starting: calc second term prediction @38\n",
        "2015-03-05 14:54:59.736343 starting: calc third term prediction @38\n",
        "2015-03-05 14:54:59.736610 starting: calc first term parameter @39\n",
        "2015-03-05 14:54:59.775808 finished: calc first term parameter @39 took: 0:00:00.039198\n"
       ]
      },
      {
       "output_type": "stream",
       "stream": "stdout",
       "text": [
        "2015-03-05 14:54:59.776759 starting: calc second term prediction @39\n",
        "2015-03-05 14:54:59.777081 starting: calc third term prediction @39\n",
        "Int64Index([0, 1, 2, 3, 4, 5, 6, 7, 8, 9, 10, 11, 12, 13, 14, 15, 16, 17, 18, 19, 20, 21, 22, 23, 24, 25, 26, 27, 28, 29, 30, 31, 32, 33, 34, 35, 36, 37, 38, 39], dtype='int64')\n",
        "                 \n",
        "first   c_obs05_2\n",
        "        c_obs10_2\n",
        "        c_obs13_2\n",
        "second  c_obs05_2\n",
        "        c_obs10_2\n",
        "        c_obs13_2\n",
        "third   c_obs05_2\n",
        "        c_obs10_2\n",
        "        c_obs13_2\n"
       ]
      }
     ],
     "prompt_number": 44
    },
    {
     "cell_type": "markdown",
     "metadata": {},
     "source": [
      "plot the error variance components for each prediction:"
     ]
    },
    {
     "cell_type": "code",
     "collapsed": false,
     "input": [
      "fig = plt.figure(figsize=(20, 20))\n",
      "ax_1, ax_2, ax_3 = plt.subplot(311), plt.subplot(312), plt.subplot(313)\n",
      "axes = [ax_1,ax_2,ax_3]\n",
      "\n",
      "colors = {\"first\": 'g', \"second\": 'b', \"third\": 'c'}\n",
      "max_idx = 19\n",
      "idx = sing_vals[:max_idx]\n",
      "for ipred, pred in enumerate(predictions):\n",
      "    pred = pred.lower()\n",
      "    ax = axes[ipred]\n",
      "    ax.set_title(pred)\n",
      "    first = errvar_df[(\"first\", pred)][:max_idx]\n",
      "    second = errvar_df[(\"second\", pred)][:max_idx]\n",
      "    third = errvar_df[(\"third\", pred)][:max_idx]\n",
      "    ax.bar(idx, first, width=1.0, edgecolor=\"none\", facecolor=colors[\"first\"], label=\"first\",bottom=0.0)\n",
      "    ax.bar(idx, second, width=1.0, edgecolor=\"none\", facecolor=colors[\"second\"], label=\"second\", bottom=first)\n",
      "    ax.bar(idx, third, width=1.0, edgecolor=\"none\", facecolor=colors[\"third\"], label=\"third\", bottom=second+first)\n",
      "    ax.set_xlim(-1,max_idx+1)\n",
      "    ax.set_xticks(idx+0.5)\n",
      "    ax.set_xticklabels(idx)\n",
      "    ax.set_xlabel(\"singular value\")\n",
      "    ax.set_ylabel(\"error variance\")\n",
      "    ax.legend(loc=\"upper left\")\n",
      "    \n",
      "plt.show()\n"
     ],
     "language": "python",
     "metadata": {},
     "outputs": [
      {
       "metadata": {},
       "output_type": "display_data",
       "png": "[encoded data removed]",
       "text": [
        "<matplotlib.figure.Figure at 0x10e1bea10>"
       ]
      }
     ],
     "prompt_number": 45
    },
    {
     "cell_type": "markdown",
     "metadata": {},
     "source": [
      "Here we see the trade off between getting a good fit to push down the null-space (1st) term and the penalty for overfitting (the rise of the solution space (2nd) term)).  The sum of the first two terms in the \"appearent\" error variance without considering the contribution from the omitted parameters.  \n",
      "\n",
      "We also see the added penalty for not adjusting the `mult1` parameter (3rd term).  The ability to predict concentrations at location `c_obs13` has been completely compromised by not adjusting `mult1` during calibration - the error variance function is monotically increasing.  However, for predictions `c_obs10_2` and `c_obs05_02`, the model error induced by the omitted `mult1` parameter can be compensated for, but only when more than 2 singular values are used, implying that more parameter components are needed \"localized\" the parameter compensation away from the prediction-sensitive parameters. \n",
      "\n",
      "Notice how the shape of the trade off is different for each of the three predictions, implying that we should calibrate the model differently for each prediction.  Note that the error variance at 0 singular values is the prior uncertainty of the prediction."
     ]
    },
    {
     "cell_type": "code",
     "collapsed": false,
     "input": [],
     "language": "python",
     "metadata": {},
     "outputs": []
    }
   ],
   "metadata": {}
  }
 ]
}