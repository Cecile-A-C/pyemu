{
 "cells": [
  {
   "cell_type": "markdown",
   "metadata": {},
   "source": [
    "# Freyberg Model Schur Complement Example\n",
    "This example uses a synthetic model (described below) to illustrate the `pyemu` capabilities of the Schur complement for calculating posterior covariance.\n",
    "\n",
    "Note that, in addition to `pyemu`, this notebook relies on `flopy`. `flopy` can be obtained (along with installation instructions) at https://github.com/modflowpy/flopy."
   ]
  },
  {
   "cell_type": "code",
   "execution_count": 1,
   "metadata": {
    "collapsed": false
   },
   "outputs": [],
   "source": [
    "%matplotlib inline\n",
    "from __future__ import print_function\n",
    "import os\n",
    "import numpy as np\n",
    "import pandas as pd\n",
    "from matplotlib.patches import Rectangle as rect\n",
    "import matplotlib.pyplot as plt"
   ]
  },
  {
   "cell_type": "markdown",
   "metadata": {},
   "source": [
    "## Model background\n",
    "This example is based on the synthetic classroom model of Freyberg(1988).  The  model is a 2-dimensional MODFLOW model with 1 layer,  40 rows, and 20 columns.  The model has 2 stress periods: an initial steady-state stress period used for calibration, and a 5-year transient stress period.  The calibration period uses the recharge and well flux of Freyberg(1988); the last stress period use 25% less recharge and 25% more pumping to represent future conditions for a forecast period.\n",
    "\n",
    "The inverse problem has 761 parameters: hydraulic conductivity of each active model cell, calibration and forecast period recharge multipliers, storage and specific yield, calibration and forecast well flux for each of the six wells, and river bed conductance for each 40 cells with river-type boundary conditions.  The inverse problem has 13 head obseravtions, measured at the end of the steady-state calibration period.  The forecasts of interest include the sw-gw exchange flux during both stress periods (observations named ```sw_gw_0``` and ``sw_gw_1``), and the water level in well cell 6 located in at row 28 column 5 at the end of the stress periods (observations named ```or28c05_0``` and ```or28c05_1```).  The forecasts are included in the Jacobian matrix as zero-weight observations. The model files, pest control file and previously-calculated jacobian matrix are in the `freyberg/` folder\n",
    "\n",
    "\n",
    "Freyberg, David L. \"AN EXERCISE IN GROUND‐WATER MODEL CALIBRATION AND PREDICTION.\" Groundwater 26.3 (1988): 350-360."
   ]
  },
  {
   "cell_type": "code",
   "execution_count": 2,
   "metadata": {
    "collapsed": false
   },
   "outputs": [
    {
     "name": "stdout",
     "output_type": "stream",
     "text": [
      "  ...load method not completed. default nwt file created.\n",
      "WARNING: unit 51 of package ['OC', 'DATA(BINARY)', 'DATA(BINARY)', 'DATA(BINARY)'] already in use\n"
     ]
    },
    {
     "name": "stderr",
     "output_type": "stream",
     "text": [
      "/Users/jwhite/anaconda/lib/python2.7/site-packages/matplotlib/collections.py:590: FutureWarning: elementwise comparison failed; returning scalar instead, but in the future will perform elementwise comparison\n",
      "  if self._edgecolors == str('face'):\n"
     ]
    },
    {
     "data": {
      "image/png": "[encoded data removed]",
      "text/plain": [
       "<matplotlib.figure.Figure at 0x109fedf10>"
      ]
     },
     "metadata": {},
     "output_type": "display_data"
    }
   ],
   "source": [
    "import flopy\n",
    "\n",
    "# load the model\n",
    "model_ws = os.path.join(\"Freyberg\",\"extra_crispy\")\n",
    "ml = flopy.modflow.Modflow.load(\"freyberg\",model_ws=model_ws)\n",
    "\n",
    "# plot some model attributes\n",
    "fig = plt.figure(figsize=(6,6))\n",
    "ax = plt.subplot(111,aspect=\"equal\")\n",
    "ml.upw.hk.plot(axes=[ax],colorbar=\"K m/d\",alpha=0.3)\n",
    "ml.wel.stress_period_data.plot(axes=[ax])\n",
    "ml.riv.stress_period_data.plot(axes=[ax])\n",
    "\n",
    "# plot obs locations\n",
    "obs = pd.read_csv(os.path.join(\"freyberg\",\"misc\",\"obs_rowcol.dat\"),delim_whitespace=True)\n",
    "obs_x = [ml.dis.sr.xcentergrid[r-1,c-1] for r,c in obs.loc[:,[\"row\",\"col\"]].values]\n",
    "obs_y = [ml.dis.sr.ycentergrid[r-1,c-1] for r,c in obs.loc[:,[\"row\",\"col\"]].values]\n",
    "ax.scatter(obs_x,obs_y,marker='.',label=\"obs\")\n",
    "\n",
    "#plot names on the pumping well locations\n",
    "wel_data = ml.wel.stress_period_data[0]\n",
    "wel_x = ml.dis.sr.xcentergrid[wel_data[\"i\"],wel_data[\"j\"]]\n",
    "wel_y = ml.dis.sr.ycentergrid[wel_data[\"i\"],wel_data[\"j\"]]\n",
    "for i,(x,y) in enumerate(zip(wel_x,wel_y)):\n",
    "    ax.text(x,y,\"{0}\".format(i+1),ha=\"center\",va=\"center\")\n",
    "\n",
    "ax.set_ylabel(\"y\")\n",
    "ax.set_xlabel(\"x\")\n",
    "\n",
    "ax.add_patch(rect((0,0),0,0,label=\"well\",ec=\"none\",fc=\"r\"))\n",
    "ax.add_patch(rect((0,0),0,0,label=\"river\",ec=\"none\",fc=\"g\"))\n",
    "\n",
    "ax.legend(bbox_to_anchor=(1.5,1.0),frameon=False)\n",
    "plt.savefig(\"domain.pdf\")"
   ]
  },
  {
   "cell_type": "markdown",
   "metadata": {},
   "source": [
    "The plot shows the Freyberg (1988) model domain.  The colorflood is the hydraulic conductivity ($\\frac{m}{d}$).  Red and green cells coorespond to well-type and river-type boundary conditions. Blue dots the locations of water levels used for calibration."
   ]
  },
  {
   "cell_type": "markdown",
   "metadata": {},
   "source": [
    "## Using `pyemu`"
   ]
  },
  {
   "cell_type": "code",
   "execution_count": 3,
   "metadata": {
    "collapsed": false
   },
   "outputs": [],
   "source": [
    "import pyemu"
   ]
  },
  {
   "cell_type": "markdown",
   "metadata": {},
   "source": [
    "First create a linear_analysis object.  We will use the `schur`  derived type, which replicates the behavior of the `PREDUNC` suite of PEST.  We pass it the name of the Jacobian matrix file.  Since we don't pass an explicit argument for `parcov` or `obscov`, `pyemu` attempts to build them from the parameter bounds and observation weights in a pest control file (.pst) with the same base case name as the Jacobian.  This assumes that the bounds represent the mean value + and - 2 times the standard deviation.\n",
    "\n",
    "Since we are interested in forecast uncertainty as well as parameter uncertainty, we also pass the names of the forecast sensitivity vectors we are interested in, which are stored in the Jacobian as well.  Note that the `forecasts` argument can be a mixed list of observation names, other Jacobian files or PEST-compatible ASCII matrix files."
   ]
  },
  {
   "cell_type": "code",
   "execution_count": 4,
   "metadata": {
    "collapsed": false
   },
   "outputs": [
    {
     "name": "stdout",
     "output_type": "stream",
     "text": [
      "observations,parameters in Jacobian: (2115, 761)\n"
     ]
    }
   ],
   "source": [
    "# get the list of forecast names from the pest++ argument in the pest control file\n",
    "jco = os.path.join(\"freyberg\",\"freyberg.jcb\") # just set the path and filename for the jco file\n",
    "pst = pyemu.Pst(jco.replace(\"jcb\",\"pst\"))     # use the jco name with extention \"pst\" for the control file\n",
    "la = pyemu.Schur(jco=jco, forecasts=pst.pestpp_options[\"forecasts\"].split(','),verbose=False)\n",
    "print(\"observations,parameters in Jacobian:\",la.jco.shape)\n"
   ]
  },
  {
   "cell_type": "markdown",
   "metadata": {},
   "source": [
    "##  Parameter uncertainty analysis\n",
    "Let's calculate and save the posterior parameter covariance matrix:"
   ]
  },
  {
   "cell_type": "code",
   "execution_count": 5,
   "metadata": {
    "collapsed": false
   },
   "outputs": [],
   "source": [
    "la.posterior_parameter.to_ascii(jco+\"_post.cov\") #writes posterior covariance to a text file"
   ]
  },
  {
   "cell_type": "markdown",
   "metadata": {},
   "source": [
    "You can open this file in a text editor to examine.  The diagonal of this matrix is the posterior variance of each parameter. Since we already calculated the posterior parameter covariance matrix, additional calls to the `posterior_parameter` decorated methods only require access--they do not recalculate the matrix:\n"
   ]
  },
  {
   "cell_type": "code",
   "execution_count": 6,
   "metadata": {
    "collapsed": false,
    "scrolled": true
   },
   "outputs": [
    {
     "name": "stderr",
     "output_type": "stream",
     "text": [
      "/Users/jwhite/anaconda/lib/python2.7/site-packages/IPython/kernel/__main__.py:1: FutureWarning: sort(....) is deprecated, use sort_index(.....)\n",
      "  if __name__ == '__main__':\n"
     ]
    },
    {
     "data": {
      "text/html": [
       "<div>\n",
       "<table border=\"1\" class=\"dataframe\">\n",
       "  <thead>\n",
       "    <tr style=\"text-align: right;\">\n",
       "      <th></th>\n",
       "      <th>hkr00c00</th>\n",
       "      <th>hkr00c01</th>\n",
       "      <th>hkr00c02</th>\n",
       "    </tr>\n",
       "  </thead>\n",
       "  <tbody>\n",
       "    <tr>\n",
       "      <th>hkr00c00</th>\n",
       "      <td>2.499965e-01</td>\n",
       "      <td>-8.837002e-07</td>\n",
       "      <td>-0.000005</td>\n",
       "    </tr>\n",
       "    <tr>\n",
       "      <th>hkr00c01</th>\n",
       "      <td>-8.837002e-07</td>\n",
       "      <td>2.499910e-01</td>\n",
       "      <td>-0.000021</td>\n",
       "    </tr>\n",
       "    <tr>\n",
       "      <th>hkr00c02</th>\n",
       "      <td>-4.635569e-06</td>\n",
       "      <td>-2.085084e-05</td>\n",
       "      <td>0.249947</td>\n",
       "    </tr>\n",
       "  </tbody>\n",
       "</table>\n",
       "</div>"
      ],
      "text/plain": [
       "              hkr00c00      hkr00c01  hkr00c02\n",
       "hkr00c00  2.499965e-01 -8.837002e-07 -0.000005\n",
       "hkr00c01 -8.837002e-07  2.499910e-01 -0.000021\n",
       "hkr00c02 -4.635569e-06 -2.085084e-05  0.249947"
      ]
     },
     "execution_count": 6,
     "metadata": {},
     "output_type": "execute_result"
    }
   ],
   "source": [
    "la.posterior_parameter.to_dataframe().sort().sort(axis=1).iloc[0:3,0:3] #look so nice in the notebook"
   ]
  },
  {
   "cell_type": "markdown",
   "metadata": {},
   "source": [
    "We can see the posterior variance of each parameter along the diagonal of this matrix. Now, let's make a simple plot of prior vs posterior uncertainty for the 761 parameters. The ``.get_parameters_summary()`` method is the easy way:"
   ]
  },
  {
   "cell_type": "code",
   "execution_count": 7,
   "metadata": {
    "collapsed": false,
    "scrolled": true
   },
   "outputs": [
    {
     "data": {
      "text/html": [
       "<div>\n",
       "<table border=\"1\" class=\"dataframe\">\n",
       "  <thead>\n",
       "    <tr style=\"text-align: right;\">\n",
       "      <th></th>\n",
       "      <th>percent_reduction</th>\n",
       "      <th>post_var</th>\n",
       "      <th>prior_var</th>\n",
       "    </tr>\n",
       "  </thead>\n",
       "  <tbody>\n",
       "    <tr>\n",
       "      <th>rch_1</th>\n",
       "      <td>49.884568</td>\n",
       "      <td>0.000238</td>\n",
       "      <td>0.000475</td>\n",
       "    </tr>\n",
       "    <tr>\n",
       "      <th>hkr30c15</th>\n",
       "      <td>31.278933</td>\n",
       "      <td>0.171803</td>\n",
       "      <td>0.250000</td>\n",
       "    </tr>\n",
       "    <tr>\n",
       "      <th>hkr03c11</th>\n",
       "      <td>26.494859</td>\n",
       "      <td>0.183763</td>\n",
       "      <td>0.250000</td>\n",
       "    </tr>\n",
       "    <tr>\n",
       "      <th>hkr34c09</th>\n",
       "      <td>25.096673</td>\n",
       "      <td>0.187258</td>\n",
       "      <td>0.250000</td>\n",
       "    </tr>\n",
       "    <tr>\n",
       "      <th>hkr04c10</th>\n",
       "      <td>24.712660</td>\n",
       "      <td>0.188218</td>\n",
       "      <td>0.250000</td>\n",
       "    </tr>\n",
       "    <tr>\n",
       "      <th>hkr22c12</th>\n",
       "      <td>22.009284</td>\n",
       "      <td>0.194977</td>\n",
       "      <td>0.250000</td>\n",
       "    </tr>\n",
       "    <tr>\n",
       "      <th>hkr25c06</th>\n",
       "      <td>21.114649</td>\n",
       "      <td>0.197213</td>\n",
       "      <td>0.250000</td>\n",
       "    </tr>\n",
       "    <tr>\n",
       "      <th>hkr35c12</th>\n",
       "      <td>19.869449</td>\n",
       "      <td>0.200326</td>\n",
       "      <td>0.250000</td>\n",
       "    </tr>\n",
       "    <tr>\n",
       "      <th>hkr35c10</th>\n",
       "      <td>18.608329</td>\n",
       "      <td>0.203479</td>\n",
       "      <td>0.250000</td>\n",
       "    </tr>\n",
       "    <tr>\n",
       "      <th>hkr04c16</th>\n",
       "      <td>17.240172</td>\n",
       "      <td>0.206900</td>\n",
       "      <td>0.250000</td>\n",
       "    </tr>\n",
       "  </tbody>\n",
       "</table>\n",
       "</div>"
      ],
      "text/plain": [
       "          percent_reduction  post_var  prior_var\n",
       "rch_1             49.884568  0.000238   0.000475\n",
       "hkr30c15          31.278933  0.171803   0.250000\n",
       "hkr03c11          26.494859  0.183763   0.250000\n",
       "hkr34c09          25.096673  0.187258   0.250000\n",
       "hkr04c10          24.712660  0.188218   0.250000\n",
       "hkr22c12          22.009284  0.194977   0.250000\n",
       "hkr25c06          21.114649  0.197213   0.250000\n",
       "hkr35c12          19.869449  0.200326   0.250000\n",
       "hkr35c10          18.608329  0.203479   0.250000\n",
       "hkr04c16          17.240172  0.206900   0.250000"
      ]
     },
     "execution_count": 7,
     "metadata": {},
     "output_type": "execute_result"
    },
    {
     "data": {
      "image/png": "[encoded data removed]",
      "text/plain": [
       "<matplotlib.figure.Figure at 0x10b3d08d0>"
      ]
     },
     "metadata": {},
     "output_type": "display_data"
    }
   ],
   "source": [
    "#get the parameter uncertainty dataframe and sort it\n",
    "par_sum = la.get_parameter_summary().sort_values(\"percent_reduction\",ascending=False)\n",
    "#make a bar plot of the percent reduction ((prior - posterior) / prior) for the first 20 parameters \n",
    "par_sum.loc[par_sum.index[:20],\"percent_reduction\"].plot(kind=\"bar\",figsize=(10,4),edgecolor=\"none\")\n",
    "#echo the first 10 entries\n",
    "par_sum.iloc[0:10,:]"
   ]
  },
  {
   "cell_type": "code",
   "execution_count": 8,
   "metadata": {
    "collapsed": false
   },
   "outputs": [
    {
     "data": {
      "text/plain": [
       "<matplotlib.text.Text at 0x10b97dd50>"
      ]
     },
     "execution_count": 8,
     "metadata": {},
     "output_type": "execute_result"
    },
    {
     "data": {
      "image/png": "[encoded data removed]",
      "text/plain": [
       "<matplotlib.figure.Figure at 0x10b735ad0>"
      ]
     },
     "metadata": {},
     "output_type": "display_data"
    }
   ],
   "source": [
    "# we can plot up the top 10 percent reductions\n",
    "par_sum.iloc[0:10,:]['percent_reduction'].plot(kind='bar')\n",
    "plt.title('Percent Reduction')"
   ]
  },
  {
   "cell_type": "code",
   "execution_count": 9,
   "metadata": {
    "collapsed": false
   },
   "outputs": [
    {
     "data": {
      "text/plain": [
       "<matplotlib.axes._subplots.AxesSubplot at 0x10b9709d0>"
      ]
     },
     "execution_count": 9,
     "metadata": {},
     "output_type": "execute_result"
    },
    {
     "data": {
      "image/png": "[encoded data removed]",
      "text/plain": [
       "<matplotlib.figure.Figure at 0x10b97d450>"
      ]
     },
     "metadata": {},
     "output_type": "display_data"
    }
   ],
   "source": [
    "# we can plot up the prior and posterior variance of the top 10 percent reductions\n",
    "par_sum.iloc[0:10,:][['prior_var','post_var']].plot(kind='bar')"
   ]
  },
  {
   "cell_type": "markdown",
   "metadata": {},
   "source": [
    "We can see that calibrating the model to the 13 water levels reduces the uncertainty of the calibration period recharge parameter (`rch_0`) by 50%.  Additionally, the hydraulic conductivity of many model cell is also reduced.  "
   ]
  },
  {
   "cell_type": "markdown",
   "metadata": {},
   "source": [
    "Now lets look at the other end of the parameter uncertainty summary -- the values with the _least_ amount of uncertainty reduction.  Note that calling ``get_parameter_summary()`` again results in no additional computation "
   ]
  },
  {
   "cell_type": "code",
   "execution_count": 10,
   "metadata": {
    "collapsed": false
   },
   "outputs": [
    {
     "data": {
      "text/html": [
       "<div>\n",
       "<table border=\"1\" class=\"dataframe\">\n",
       "  <thead>\n",
       "    <tr style=\"text-align: right;\">\n",
       "      <th></th>\n",
       "      <th>percent_reduction</th>\n",
       "      <th>post_var</th>\n",
       "      <th>prior_var</th>\n",
       "    </tr>\n",
       "  </thead>\n",
       "  <tbody>\n",
       "    <tr>\n",
       "      <th>hkr39c14</th>\n",
       "      <td>0.000000e+00</td>\n",
       "      <td>0.250000</td>\n",
       "      <td>0.250000</td>\n",
       "    </tr>\n",
       "    <tr>\n",
       "      <th>hkr01c19</th>\n",
       "      <td>0.000000e+00</td>\n",
       "      <td>0.250000</td>\n",
       "      <td>0.250000</td>\n",
       "    </tr>\n",
       "    <tr>\n",
       "      <th>hkr00c19</th>\n",
       "      <td>0.000000e+00</td>\n",
       "      <td>0.250000</td>\n",
       "      <td>0.250000</td>\n",
       "    </tr>\n",
       "    <tr>\n",
       "      <th>wf6_2</th>\n",
       "      <td>0.000000e+00</td>\n",
       "      <td>0.014228</td>\n",
       "      <td>0.014228</td>\n",
       "    </tr>\n",
       "    <tr>\n",
       "      <th>wf5_2</th>\n",
       "      <td>0.000000e+00</td>\n",
       "      <td>0.014228</td>\n",
       "      <td>0.014228</td>\n",
       "    </tr>\n",
       "    <tr>\n",
       "      <th>wf3_2</th>\n",
       "      <td>0.000000e+00</td>\n",
       "      <td>0.014228</td>\n",
       "      <td>0.014228</td>\n",
       "    </tr>\n",
       "    <tr>\n",
       "      <th>wf2_2</th>\n",
       "      <td>0.000000e+00</td>\n",
       "      <td>0.014228</td>\n",
       "      <td>0.014228</td>\n",
       "    </tr>\n",
       "    <tr>\n",
       "      <th>wf1_2</th>\n",
       "      <td>0.000000e+00</td>\n",
       "      <td>0.014228</td>\n",
       "      <td>0.014228</td>\n",
       "    </tr>\n",
       "    <tr>\n",
       "      <th>sy</th>\n",
       "      <td>0.000000e+00</td>\n",
       "      <td>0.250000</td>\n",
       "      <td>0.250000</td>\n",
       "    </tr>\n",
       "    <tr>\n",
       "      <th>ss</th>\n",
       "      <td>0.000000e+00</td>\n",
       "      <td>0.250000</td>\n",
       "      <td>0.250000</td>\n",
       "    </tr>\n",
       "    <tr>\n",
       "      <th>rcond39</th>\n",
       "      <td>0.000000e+00</td>\n",
       "      <td>0.250000</td>\n",
       "      <td>0.250000</td>\n",
       "    </tr>\n",
       "    <tr>\n",
       "      <th>rcond19</th>\n",
       "      <td>0.000000e+00</td>\n",
       "      <td>0.250000</td>\n",
       "      <td>0.250000</td>\n",
       "    </tr>\n",
       "    <tr>\n",
       "      <th>wf4_2</th>\n",
       "      <td>0.000000e+00</td>\n",
       "      <td>0.014228</td>\n",
       "      <td>0.014228</td>\n",
       "    </tr>\n",
       "    <tr>\n",
       "      <th>rch_2</th>\n",
       "      <td>1.110223e-14</td>\n",
       "      <td>0.014228</td>\n",
       "      <td>0.014228</td>\n",
       "    </tr>\n",
       "    <tr>\n",
       "      <th>hkr11c00</th>\n",
       "      <td>4.759765e-04</td>\n",
       "      <td>0.249999</td>\n",
       "      <td>0.250000</td>\n",
       "    </tr>\n",
       "    <tr>\n",
       "      <th>rcond08</th>\n",
       "      <td>4.759765e-04</td>\n",
       "      <td>0.249999</td>\n",
       "      <td>0.250000</td>\n",
       "    </tr>\n",
       "    <tr>\n",
       "      <th>rcond38</th>\n",
       "      <td>9.725019e-04</td>\n",
       "      <td>0.249998</td>\n",
       "      <td>0.250000</td>\n",
       "    </tr>\n",
       "    <tr>\n",
       "      <th>rcond37</th>\n",
       "      <td>9.725019e-04</td>\n",
       "      <td>0.249998</td>\n",
       "      <td>0.250000</td>\n",
       "    </tr>\n",
       "    <tr>\n",
       "      <th>hkr00c00</th>\n",
       "      <td>1.408011e-03</td>\n",
       "      <td>0.249996</td>\n",
       "      <td>0.250000</td>\n",
       "    </tr>\n",
       "    <tr>\n",
       "      <th>hkr01c00</th>\n",
       "      <td>1.717443e-03</td>\n",
       "      <td>0.249996</td>\n",
       "      <td>0.250000</td>\n",
       "    </tr>\n",
       "  </tbody>\n",
       "</table>\n",
       "</div>"
      ],
      "text/plain": [
       "          percent_reduction  post_var  prior_var\n",
       "hkr39c14       0.000000e+00  0.250000   0.250000\n",
       "hkr01c19       0.000000e+00  0.250000   0.250000\n",
       "hkr00c19       0.000000e+00  0.250000   0.250000\n",
       "wf6_2          0.000000e+00  0.014228   0.014228\n",
       "wf5_2          0.000000e+00  0.014228   0.014228\n",
       "wf3_2          0.000000e+00  0.014228   0.014228\n",
       "wf2_2          0.000000e+00  0.014228   0.014228\n",
       "wf1_2          0.000000e+00  0.014228   0.014228\n",
       "sy             0.000000e+00  0.250000   0.250000\n",
       "ss             0.000000e+00  0.250000   0.250000\n",
       "rcond39        0.000000e+00  0.250000   0.250000\n",
       "rcond19        0.000000e+00  0.250000   0.250000\n",
       "wf4_2          0.000000e+00  0.014228   0.014228\n",
       "rch_2          1.110223e-14  0.014228   0.014228\n",
       "hkr11c00       4.759765e-04  0.249999   0.250000\n",
       "rcond08        4.759765e-04  0.249999   0.250000\n",
       "rcond38        9.725019e-04  0.249998   0.250000\n",
       "rcond37        9.725019e-04  0.249998   0.250000\n",
       "hkr00c00       1.408011e-03  0.249996   0.250000\n",
       "hkr01c00       1.717443e-03  0.249996   0.250000"
      ]
     },
     "execution_count": 10,
     "metadata": {},
     "output_type": "execute_result"
    },
    {
     "data": {
      "image/png": "[encoded data removed]",
      "text/plain": [
       "<matplotlib.figure.Figure at 0x10a0b3950>"
      ]
     },
     "metadata": {},
     "output_type": "display_data"
    }
   ],
   "source": [
    "# sort in increasing order\n",
    "par_sum = la.get_parameter_summary().sort_values(\"percent_reduction\")\n",
    "# plot the first 20\n",
    "par_sum.loc[par_sum.index[:20],\"percent_reduction\"].plot(kind=\"bar\",figsize=(10,4),edgecolor=\"none\")\n",
    "#echo the first 10 \n",
    "par_sum.iloc[0:20,:]"
   ]
  },
  {
   "cell_type": "markdown",
   "metadata": {},
   "source": [
    "We see that several parameters are uneffected by calibration - these are mostly parameters that represent forecast period uncertainty (parameters that end with ```_2```), but there are also some hydraulic conductivities that are uninformed by the 13 water level observations"
   ]
  },
  {
   "cell_type": "markdown",
   "metadata": {},
   "source": [
    "We can also make a map of uncertainty reduction for the hydraulic conductivity parameters using some ```flopy``` action"
   ]
  },
  {
   "cell_type": "code",
   "execution_count": 11,
   "metadata": {
    "collapsed": false
   },
   "outputs": [
    {
     "data": {
      "text/plain": [
       "<matplotlib.collections.PathCollection at 0x10e38c210>"
      ]
     },
     "execution_count": 11,
     "metadata": {},
     "output_type": "execute_result"
    },
    {
     "data": {
      "image/png": "[encoded data removed]",
      "text/plain": [
       "<matplotlib.figure.Figure at 0x10ba17050>"
      ]
     },
     "metadata": {},
     "output_type": "display_data"
    }
   ],
   "source": [
    "hk_pars = par_sum.loc[par_sum.groupby(lambda x:\"hk\" in x).groups[True],:]\n",
    "hk_pars.loc[:,\"names\"] = hk_pars.index\n",
    "names = hk_pars.names\n",
    "hk_pars.loc[:,\"i\"] = names.apply(lambda x: int(x[3:5]))\n",
    "hk_pars.loc[:,\"j\"] = names.apply(lambda x: int(x[6:8]))\n",
    "unc_array = np.zeros_like(ml.upw.hk[0].array) - 1\n",
    "for i,j,unc in zip(hk_pars.i,hk_pars.j,hk_pars.percent_reduction):\n",
    "    unc_array[i,j] = unc \n",
    "unc_array[unc_array == -1] = np.NaN\n",
    "\n",
    "# plot some model attributes\n",
    "fig = plt.figure(figsize=(10,10))\n",
    "ax = plt.subplot(111,aspect=\"equal\")\n",
    "cb = ax.imshow(unc_array,interpolation=\"none\",alpha=0.5,extent=ml.dis.sr.get_extent())\n",
    "plt.colorbar(cb,label=\"percent uncertainty reduction\")\n",
    "#ml.wel.stress_period_data.plot(axes=[ax])\n",
    "ml.riv.stress_period_data.plot(axes=[ax])\n",
    "\n",
    "# plot obs locations\n",
    "obs = pd.read_csv(os.path.join(\"freyberg\",\"misc\",\"obs_rowcol.dat\"),delim_whitespace=True)\n",
    "obs_x = [ml.dis.sr.xcentergrid[r-1,c-1] for r,c in obs.loc[:,[\"row\",\"col\"]].values]\n",
    "obs_y = [ml.dis.sr.ycentergrid[r-1,c-1] for r,c in obs.loc[:,[\"row\",\"col\"]].values]\n",
    "ax.scatter(obs_x,obs_y,marker='.')\n",
    "\n"
   ]
  },
  {
   "cell_type": "markdown",
   "metadata": {},
   "source": [
    "As you might expect, most of the information in the observations is flowing to the hydraulic conductivity parameters near observations themselves. Areas farther from the observations experience less reduction in uncertainty due to calibration. "
   ]
  },
  {
   "cell_type": "markdown",
   "metadata": {},
   "source": [
    "## Forecast uncertainty\n",
    "Now let's examine the prior and posterior variance of the forecasts. The uncertainty in parameters directly impacts the uncertainty of forecasts made with the model. "
   ]
  },
  {
   "cell_type": "code",
   "execution_count": 12,
   "metadata": {
    "collapsed": false
   },
   "outputs": [
    {
     "data": {
      "image/png": "[encoded data removed]",
      "text/plain": [
       "<matplotlib.figure.Figure at 0x10b5116d0>"
      ]
     },
     "metadata": {},
     "output_type": "display_data"
    }
   ],
   "source": [
    "# get the forecast summary then make a bar chart of the percent_reduction column\n",
    "fig = plt.figure(figsize=(4,4))\n",
    "ax = plt.subplot(111)\n",
    "ax = la.get_forecast_summary().percent_reduction.plot(kind='bar',ax=ax,grid=True)\n",
    "ax.set_ylabel(\"percent uncertainy\\nreduction from calibration\")\n",
    "ax.set_xlabel(\"forecast\")\n",
    "plt.tight_layout()\n",
    "plt.savefig(\"forecast_sum.pdf\")"
   ]
  },
  {
   "cell_type": "markdown",
   "metadata": {},
   "source": [
    "Notice the spread on the uncertainty reduction: some forecasts benefit more from calibration than others.  For example, ```or28c05_0```, the calibration-period water level forecast, benefits from calibration since its uncertainty is reduced by 75%, while ```sw_gw_1```, the forecast-period surface-water groundwater exchange forecast does not benefit from calibration - its uncertainty is unchanged by calibration"
   ]
  },
  {
   "cell_type": "markdown",
   "metadata": {},
   "source": [
    "## Data worth--evaluating the value of existing observations\n",
    "Now, let's try to identify which observations are most important to reducing the posterior uncertainty (e.g.the forecast worth of every observation).  We simply recalculate Schur's complement without some observations and see how the posterior forecast uncertainty increases\n",
    "\n",
    "```get_removed_obs_group_importance()``` is a thin wrapper that calls the underlying ```get_removed_obs_importance()``` method using the observation groups in the pest control file and stacks the results into a ```pandas DataFrame```.  This method tests how important non-zero weight observations are for reducing forecast uncertainty\n",
    "\n",
    "This call will test all of the non-forecast, non-zero weight observations in the PEST data set to see which ones are most important \n"
   ]
  },
  {
   "cell_type": "code",
   "execution_count": 14,
   "metadata": {
    "collapsed": false
   },
   "outputs": [
    {
     "data": {
      "text/html": [
       "<div>\n",
       "<table border=\"1\" class=\"dataframe\">\n",
       "  <thead>\n",
       "    <tr style=\"text-align: right;\">\n",
       "      <th></th>\n",
       "      <th>or28c05_0</th>\n",
       "      <th>or28c05_1</th>\n",
       "      <th>sw_gw_0</th>\n",
       "      <th>sw_gw_1</th>\n",
       "    </tr>\n",
       "  </thead>\n",
       "  <tbody>\n",
       "    <tr>\n",
       "      <th>base</th>\n",
       "      <td>0.104901</td>\n",
       "      <td>1.349353</td>\n",
       "      <td>45266.951772</td>\n",
       "      <td>620442.618112</td>\n",
       "    </tr>\n",
       "    <tr>\n",
       "      <th>head_cal</th>\n",
       "      <td>0.401023</td>\n",
       "      <td>1.456301</td>\n",
       "      <td>79634.034592</td>\n",
       "      <td>621129.872236</td>\n",
       "    </tr>\n",
       "    <tr>\n",
       "      <th>forecast</th>\n",
       "      <td>0.104901</td>\n",
       "      <td>1.349353</td>\n",
       "      <td>45266.951772</td>\n",
       "      <td>620442.618112</td>\n",
       "    </tr>\n",
       "  </tbody>\n",
       "</table>\n",
       "</div>"
      ],
      "text/plain": [
       "          or28c05_0  or28c05_1       sw_gw_0        sw_gw_1\n",
       "base       0.104901   1.349353  45266.951772  620442.618112\n",
       "head_cal   0.401023   1.456301  79634.034592  621129.872236\n",
       "forecast   0.104901   1.349353  45266.951772  620442.618112"
      ]
     },
     "execution_count": 14,
     "metadata": {},
     "output_type": "execute_result"
    }
   ],
   "source": [
    "la.get_removed_obs_group_importance()"
   ]
  },
  {
   "cell_type": "markdown",
   "metadata": {},
   "source": [
    "First let's determine which observations are calibration observations. These are the ones with nonzero weight, accessed from the `pst` object as the `nnz_obs_names` property, which returns a list. We can make it into a dictionary and see that, as expected, it has 13 entries."
   ]
  },
  {
   "cell_type": "code",
   "execution_count": 15,
   "metadata": {
    "collapsed": false
   },
   "outputs": [
    {
     "name": "stdout",
     "output_type": "stream",
     "text": [
      "13\n"
     ]
    }
   ],
   "source": [
    "obs_dict = dict(zip(pst.nnz_obs_names,pst.nnz_obs_names))\n",
    "print(len(obs_dict))\n"
   ]
  },
  {
   "cell_type": "markdown",
   "metadata": {
    "collapsed": false
   },
   "source": [
    "Now we can pass that dictionary to the `la.get_importance_dataframe` method to return the importance of those 13 observations into a dataframe we'll call `df_worth`"
   ]
  },
  {
   "cell_type": "code",
   "execution_count": 16,
   "metadata": {
    "collapsed": false
   },
   "outputs": [],
   "source": [
    "df_worth= la.get_removed_obs_importance(obs_dict)"
   ]
  },
  {
   "cell_type": "code",
   "execution_count": 17,
   "metadata": {
    "collapsed": false
   },
   "outputs": [
    {
     "data": {
      "text/html": [
       "<div>\n",
       "<table border=\"1\" class=\"dataframe\">\n",
       "  <thead>\n",
       "    <tr style=\"text-align: right;\">\n",
       "      <th></th>\n",
       "      <th>or28c05_0</th>\n",
       "      <th>or28c05_1</th>\n",
       "      <th>sw_gw_0</th>\n",
       "      <th>sw_gw_1</th>\n",
       "    </tr>\n",
       "  </thead>\n",
       "  <tbody>\n",
       "    <tr>\n",
       "      <th>base</th>\n",
       "      <td>0.104901</td>\n",
       "      <td>1.349353</td>\n",
       "      <td>45266.951772</td>\n",
       "      <td>620442.618112</td>\n",
       "    </tr>\n",
       "    <tr>\n",
       "      <th>or16c17_0</th>\n",
       "      <td>0.104912</td>\n",
       "      <td>1.349494</td>\n",
       "      <td>46009.162975</td>\n",
       "      <td>620457.760006</td>\n",
       "    </tr>\n",
       "    <tr>\n",
       "      <th>or03c16_0</th>\n",
       "      <td>0.104919</td>\n",
       "      <td>1.349542</td>\n",
       "      <td>46517.650426</td>\n",
       "      <td>620459.380623</td>\n",
       "    </tr>\n",
       "    <tr>\n",
       "      <th>or23c17_0</th>\n",
       "      <td>0.104907</td>\n",
       "      <td>1.349489</td>\n",
       "      <td>45890.127094</td>\n",
       "      <td>620456.396643</td>\n",
       "    </tr>\n",
       "    <tr>\n",
       "      <th>or35c11_0</th>\n",
       "      <td>0.104953</td>\n",
       "      <td>1.350356</td>\n",
       "      <td>45383.665748</td>\n",
       "      <td>620476.801860</td>\n",
       "    </tr>\n",
       "    <tr>\n",
       "      <th>or27c07_0</th>\n",
       "      <td>0.153058</td>\n",
       "      <td>1.378501</td>\n",
       "      <td>45476.473772</td>\n",
       "      <td>620448.729766</td>\n",
       "    </tr>\n",
       "    <tr>\n",
       "      <th>or03c10_0</th>\n",
       "      <td>0.104901</td>\n",
       "      <td>1.349353</td>\n",
       "      <td>45267.631429</td>\n",
       "      <td>620444.798848</td>\n",
       "    </tr>\n",
       "    <tr>\n",
       "      <th>or22c11_0</th>\n",
       "      <td>0.104907</td>\n",
       "      <td>1.349639</td>\n",
       "      <td>45438.014277</td>\n",
       "      <td>620456.475235</td>\n",
       "    </tr>\n",
       "    <tr>\n",
       "      <th>or14c11_0</th>\n",
       "      <td>0.104914</td>\n",
       "      <td>1.349704</td>\n",
       "      <td>46344.283861</td>\n",
       "      <td>620478.500585</td>\n",
       "    </tr>\n",
       "    <tr>\n",
       "      <th>or30c16_0</th>\n",
       "      <td>0.104913</td>\n",
       "      <td>1.349405</td>\n",
       "      <td>45486.605342</td>\n",
       "      <td>620449.437222</td>\n",
       "    </tr>\n",
       "    <tr>\n",
       "      <th>or10c02_0</th>\n",
       "      <td>0.106080</td>\n",
       "      <td>1.349520</td>\n",
       "      <td>50438.518215</td>\n",
       "      <td>620553.778164</td>\n",
       "    </tr>\n",
       "    <tr>\n",
       "      <th>or04c09_0</th>\n",
       "      <td>0.104901</td>\n",
       "      <td>1.349380</td>\n",
       "      <td>45376.309284</td>\n",
       "      <td>620446.560354</td>\n",
       "    </tr>\n",
       "    <tr>\n",
       "      <th>or25c05_0</th>\n",
       "      <td>0.139213</td>\n",
       "      <td>1.361276</td>\n",
       "      <td>45859.283606</td>\n",
       "      <td>620452.111319</td>\n",
       "    </tr>\n",
       "    <tr>\n",
       "      <th>or34c08_0</th>\n",
       "      <td>0.105463</td>\n",
       "      <td>1.349361</td>\n",
       "      <td>45546.665830</td>\n",
       "      <td>620550.423439</td>\n",
       "    </tr>\n",
       "  </tbody>\n",
       "</table>\n",
       "</div>"
      ],
      "text/plain": [
       "           or28c05_0  or28c05_1       sw_gw_0        sw_gw_1\n",
       "base        0.104901   1.349353  45266.951772  620442.618112\n",
       "or16c17_0   0.104912   1.349494  46009.162975  620457.760006\n",
       "or03c16_0   0.104919   1.349542  46517.650426  620459.380623\n",
       "or23c17_0   0.104907   1.349489  45890.127094  620456.396643\n",
       "or35c11_0   0.104953   1.350356  45383.665748  620476.801860\n",
       "or27c07_0   0.153058   1.378501  45476.473772  620448.729766\n",
       "or03c10_0   0.104901   1.349353  45267.631429  620444.798848\n",
       "or22c11_0   0.104907   1.349639  45438.014277  620456.475235\n",
       "or14c11_0   0.104914   1.349704  46344.283861  620478.500585\n",
       "or30c16_0   0.104913   1.349405  45486.605342  620449.437222\n",
       "or10c02_0   0.106080   1.349520  50438.518215  620553.778164\n",
       "or04c09_0   0.104901   1.349380  45376.309284  620446.560354\n",
       "or25c05_0   0.139213   1.361276  45859.283606  620452.111319\n",
       "or34c08_0   0.105463   1.349361  45546.665830  620550.423439"
      ]
     },
     "execution_count": 17,
     "metadata": {},
     "output_type": "execute_result"
    }
   ],
   "source": [
    "df_worth"
   ]
  },
  {
   "cell_type": "markdown",
   "metadata": {},
   "source": [
    "The ```base``` row contains the results of the Schur's complement calculation using all observations.  The increase in posterior forecast uncertainty for each of the 13 water level observations (e.g. or17c17 is the observation in row 18 column 18) show how much forecast uncertainty increases when that particular observation is not used in history matching.  So we see again that each forecast depends on the observations differently.\n",
    "\n",
    "We can normalize the importance to the maximum importance value to create a metric of data worth which will be between 0 and 100%. Then we can also determine which observation has the highest data worth with respect to each forecast and also report how much reduction in uncertainty it is responsible for (e.g. how much does forecast uncertainty increase if that data point is not used for history matching)\n",
    "\n"
   ]
  },
  {
   "cell_type": "code",
   "execution_count": 18,
   "metadata": {
    "collapsed": false
   },
   "outputs": [
    {
     "data": {
      "text/html": [
       "<div>\n",
       "<table border=\"1\" class=\"dataframe\">\n",
       "  <thead>\n",
       "    <tr style=\"text-align: right;\">\n",
       "      <th></th>\n",
       "      <th>or28c05_0</th>\n",
       "      <th>or28c05_1</th>\n",
       "      <th>sw_gw_0</th>\n",
       "      <th>sw_gw_1</th>\n",
       "    </tr>\n",
       "  </thead>\n",
       "  <tbody>\n",
       "    <tr>\n",
       "      <th>most important observation</th>\n",
       "      <td>or27c07_0</td>\n",
       "      <td>or27c07_0</td>\n",
       "      <td>or10c02_0</td>\n",
       "      <td>or10c02_0</td>\n",
       "    </tr>\n",
       "    <tr>\n",
       "      <th>percent increase when left out</th>\n",
       "      <td>45.9074</td>\n",
       "      <td>2.16014</td>\n",
       "      <td>11.4246</td>\n",
       "      <td>0.0179163</td>\n",
       "    </tr>\n",
       "  </tbody>\n",
       "</table>\n",
       "</div>"
      ],
      "text/plain": [
       "                                or28c05_0  or28c05_1    sw_gw_0    sw_gw_1\n",
       "most important observation      or27c07_0  or27c07_0  or10c02_0  or10c02_0\n",
       "percent increase when left out    45.9074    2.16014    11.4246  0.0179163"
      ]
     },
     "execution_count": 18,
     "metadata": {},
     "output_type": "execute_result"
    }
   ],
   "source": [
    "# a little processing of df_worth\n",
    "df_base = df_worth.loc[\"base\",:].copy()\n",
    "df_imax = df_worth.apply(lambda x:x-df_base,axis=1).idxmax()\n",
    "df_max = 100.0 * (df_worth.apply(lambda x:x-df_base,axis=1).max() / df_base)\n",
    "df_par = pd.DataFrame([df_imax,df_max],index=[\"most important observation\",\"percent increase when left out\"])\n",
    "df_par"
   ]
  },
  {
   "cell_type": "markdown",
   "metadata": {},
   "source": [
    "We see that observation ```or27c07_0``` is the most important for the water level forecasts (```or28c05_0``` and ```or28c05_1```), while observation ```or10c02_0``` is the most important for the surface water groundwater exchange forecasts (```sw_gw_0``` and ```sw_gw_1```). Also, observation ```or10c02_0```) results ina much greater increase in uncertainty for forecast ```sw_gw_0``` than it does for ```sw_gw_1```."
   ]
  },
  {
   "cell_type": "markdown",
   "metadata": {},
   "source": [
    "## Data worth--evaluating the potential value of new observations\n",
    "A potential water-level observation for each active model cell was also \"carried\" in the PEST control file.  This means we can run this same analysis to find the best next place to collect a new water level.  This takes a little longer because it is rerunning the schur's complement calculations many times, so this section can be skipped."
   ]
  },
  {
   "cell_type": "markdown",
   "metadata": {},
   "source": [
    "### Define the potential observation locations\n",
    "First we need a list of the observations with zero weight and that start with `\"or\"`--- (these are the synthetic proposed locations)"
   ]
  },
  {
   "cell_type": "code",
   "execution_count": 19,
   "metadata": {
    "collapsed": false
   },
   "outputs": [
    {
     "name": "stdout",
     "output_type": "stream",
     "text": [
      "2119\n",
      "2102\n"
     ]
    }
   ],
   "source": [
    "new_obs_list = [i[1].obsnme for i in pst.observation_data.iterrows() \n",
    "                if i[1].weight==0 and i[1].obsnme[0:2] =='or' ]\n",
    "print (len(pst.observation_data))\n",
    "print (len(new_obs_list))\n",
    "new_obs_dict = dict(zip(new_obs_list,new_obs_list))"
   ]
  },
  {
   "cell_type": "code",
   "execution_count": null,
   "metadata": {
    "collapsed": false
   },
   "outputs": [],
   "source": [
    "df_worth_new= la.get_added_obs_importance(base_obslist=la.pst.nnz_obs_names,obslist_dict=new_obs_dict,reset_zero_weights=True)"
   ]
  },
  {
   "cell_type": "code",
   "execution_count": null,
   "metadata": {
    "collapsed": true
   },
   "outputs": [],
   "source": [
    "df_worth_new.head()"
   ]
  },
  {
   "cell_type": "code",
   "execution_count": null,
   "metadata": {
    "collapsed": true
   },
   "outputs": [],
   "source": [
    "hk_pars = par_sum.loc[par_sum.groupby(lambda x:\"hk\" in x).groups[True],:]\n",
    "hk_pars.loc[:,\"names\"] = hk_pars.index\n",
    "names = hk_pars.names\n",
    "hk_pars.loc[:,\"i\"] = names.apply(lambda x: int(x[3:5]))\n",
    "hk_pars.loc[:,\"j\"] = names.apply(lambda x: int(x[6:8]))\n",
    "unc_array = np.zeros_like(ml.upw.hk[0].array) - 1\n",
    "for i,j,unc in zip(hk_pars.i,hk_pars.j,hk_pars.percent_reduction):\n",
    "    unc_array[i,j] = unc \n",
    "unc_array[unc_array == -1] = np.NaN\n",
    "\n",
    "# plot some model attributes\n",
    "fig = plt.figure(figsize=(10,10))\n",
    "ax = plt.subplot(111,aspect=\"equal\")\n",
    "cb = ax.imshow(unc_array,interpolation=\"none\",alpha=0.5,extent=ml.dis.sr.get_extent())\n",
    "plt.colorbar(cb,label=\"percent uncertainty reduction\")\n",
    "#ml.wel.stress_period_data.plot(axes=[ax])\n",
    "ml.riv.stress_period_data.plot(axes=[ax])\n",
    "\n",
    "# plot obs locations\n",
    "obs = pd.read_csv(os.path.join(\"freyberg\",\"misc\",\"obs_rowcol.dat\"),delim_whitespace=True)\n",
    "obs_x = [ml.dis.sr.xcentergrid[r-1,c-1] for r,c in obs.loc[:,[\"row\",\"col\"]].values]\n",
    "obs_y = [ml.dis.sr.ycentergrid[r-1,c-1] for r,c in obs.loc[:,[\"row\",\"col\"]].values]\n",
    "ax.scatter(obs_x,obs_y,marker='.')"
   ]
  },
  {
   "cell_type": "markdown",
   "metadata": {
    "collapsed": true
   },
   "source": [
    "## Parameter contribution to uncertainty\n",
    "Lets look at which parameters are contributing most to forecast uncertainty.  for demostration purposes, lets group the parameters by parameter group name."
   ]
  },
  {
   "cell_type": "code",
   "execution_count": 22,
   "metadata": {
    "collapsed": false
   },
   "outputs": [
    {
     "data": {
      "text/html": [
       "<div>\n",
       "<table border=\"1\" class=\"dataframe\">\n",
       "  <thead>\n",
       "    <tr>\n",
       "      <th></th>\n",
       "      <th colspan=\"3\" halign=\"left\">or28c05_0</th>\n",
       "      <th colspan=\"3\" halign=\"left\">or28c05_1</th>\n",
       "      <th colspan=\"3\" halign=\"left\">sw_gw_0</th>\n",
       "      <th colspan=\"3\" halign=\"left\">sw_gw_1</th>\n",
       "    </tr>\n",
       "    <tr>\n",
       "      <th></th>\n",
       "      <th>percent_reduce</th>\n",
       "      <th>post</th>\n",
       "      <th>prior</th>\n",
       "      <th>percent_reduce</th>\n",
       "      <th>post</th>\n",
       "      <th>prior</th>\n",
       "      <th>percent_reduce</th>\n",
       "      <th>post</th>\n",
       "      <th>prior</th>\n",
       "      <th>percent_reduce</th>\n",
       "      <th>post</th>\n",
       "      <th>prior</th>\n",
       "    </tr>\n",
       "  </thead>\n",
       "  <tbody>\n",
       "    <tr>\n",
       "      <th>base</th>\n",
       "      <td>73.841701</td>\n",
       "      <td>0.104901</td>\n",
       "      <td>0.401023</td>\n",
       "      <td>7.343810</td>\n",
       "      <td>1.349353</td>\n",
       "      <td>1.456301</td>\n",
       "      <td>43.156275</td>\n",
       "      <td>45266.951772</td>\n",
       "      <td>79634.034592</td>\n",
       "      <td>0.110646</td>\n",
       "      <td>620442.618112</td>\n",
       "      <td>621129.872236</td>\n",
       "    </tr>\n",
       "    <tr>\n",
       "      <th>rch</th>\n",
       "      <td>65.768008</td>\n",
       "      <td>0.104280</td>\n",
       "      <td>0.304629</td>\n",
       "      <td>13.592741</td>\n",
       "      <td>0.692060</td>\n",
       "      <td>0.800928</td>\n",
       "      <td>12.301504</td>\n",
       "      <td>3900.047023</td>\n",
       "      <td>4447.108198</td>\n",
       "      <td>0.168021</td>\n",
       "      <td>185502.204821</td>\n",
       "      <td>185814.411201</td>\n",
       "    </tr>\n",
       "    <tr>\n",
       "      <th>rcond</th>\n",
       "      <td>73.841795</td>\n",
       "      <td>0.104897</td>\n",
       "      <td>0.401010</td>\n",
       "      <td>7.344041</td>\n",
       "      <td>1.349350</td>\n",
       "      <td>1.456301</td>\n",
       "      <td>43.177485</td>\n",
       "      <td>45244.828949</td>\n",
       "      <td>79624.827130</td>\n",
       "      <td>0.110633</td>\n",
       "      <td>620437.848843</td>\n",
       "      <td>621125.016889</td>\n",
       "    </tr>\n",
       "    <tr>\n",
       "      <th>storage</th>\n",
       "      <td>73.841701</td>\n",
       "      <td>0.104901</td>\n",
       "      <td>0.401023</td>\n",
       "      <td>11.868901</td>\n",
       "      <td>0.794129</td>\n",
       "      <td>0.901077</td>\n",
       "      <td>43.156275</td>\n",
       "      <td>45266.951772</td>\n",
       "      <td>79634.034592</td>\n",
       "      <td>0.129891</td>\n",
       "      <td>528412.812692</td>\n",
       "      <td>529100.066815</td>\n",
       "    </tr>\n",
       "    <tr>\n",
       "      <th>welflux</th>\n",
       "      <td>73.841291</td>\n",
       "      <td>0.104642</td>\n",
       "      <td>0.400026</td>\n",
       "      <td>7.641788</td>\n",
       "      <td>1.292918</td>\n",
       "      <td>1.399895</td>\n",
       "      <td>43.743394</td>\n",
       "      <td>43617.767683</td>\n",
       "      <td>77533.592215</td>\n",
       "      <td>0.130449</td>\n",
       "      <td>527751.898672</td>\n",
       "      <td>528441.245961</td>\n",
       "    </tr>\n",
       "    <tr>\n",
       "      <th>hk</th>\n",
       "      <td>99.749734</td>\n",
       "      <td>0.000244</td>\n",
       "      <td>0.097405</td>\n",
       "      <td>0.419918</td>\n",
       "      <td>1.261683</td>\n",
       "      <td>1.267003</td>\n",
       "      <td>98.743279</td>\n",
       "      <td>971.402233</td>\n",
       "      <td>77296.576233</td>\n",
       "      <td>0.134450</td>\n",
       "      <td>619205.103398</td>\n",
       "      <td>620038.748077</td>\n",
       "    </tr>\n",
       "  </tbody>\n",
       "</table>\n",
       "</div>"
      ],
      "text/plain": [
       "             or28c05_0                          or28c05_1                      \\\n",
       "        percent_reduce      post     prior percent_reduce      post     prior   \n",
       "base         73.841701  0.104901  0.401023       7.343810  1.349353  1.456301   \n",
       "rch          65.768008  0.104280  0.304629      13.592741  0.692060  0.800928   \n",
       "rcond        73.841795  0.104897  0.401010       7.344041  1.349350  1.456301   \n",
       "storage      73.841701  0.104901  0.401023      11.868901  0.794129  0.901077   \n",
       "welflux      73.841291  0.104642  0.400026       7.641788  1.292918  1.399895   \n",
       "hk           99.749734  0.000244  0.097405       0.419918  1.261683  1.267003   \n",
       "\n",
       "               sw_gw_0                                    sw_gw_1  \\\n",
       "        percent_reduce          post         prior percent_reduce   \n",
       "base         43.156275  45266.951772  79634.034592       0.110646   \n",
       "rch          12.301504   3900.047023   4447.108198       0.168021   \n",
       "rcond        43.177485  45244.828949  79624.827130       0.110633   \n",
       "storage      43.156275  45266.951772  79634.034592       0.129891   \n",
       "welflux      43.743394  43617.767683  77533.592215       0.130449   \n",
       "hk           98.743279    971.402233  77296.576233       0.134450   \n",
       "\n",
       "                                       \n",
       "                  post          prior  \n",
       "base     620442.618112  621129.872236  \n",
       "rch      185502.204821  185814.411201  \n",
       "rcond    620437.848843  621125.016889  \n",
       "storage  528412.812692  529100.066815  \n",
       "welflux  527751.898672  528441.245961  \n",
       "hk       619205.103398  620038.748077  "
      ]
     },
     "execution_count": 22,
     "metadata": {},
     "output_type": "execute_result"
    }
   ],
   "source": [
    "df = la.get_par_group_contribution()\n",
    "df"
   ]
  },
  {
   "cell_type": "code",
   "execution_count": 23,
   "metadata": {
    "collapsed": false
   },
   "outputs": [
    {
     "data": {
      "text/plain": [
       "<matplotlib.axes._subplots.AxesSubplot at 0x10d8a0110>"
      ]
     },
     "execution_count": 23,
     "metadata": {},
     "output_type": "execute_result"
    },
    {
     "data": {
      "image/png": "[encoded data removed]",
      "text/plain": [
       "<matplotlib.figure.Figure at 0x10d8a0a90>"
      ]
     },
     "metadata": {},
     "output_type": "display_data"
    }
   ],
   "source": [
    "#select out the posterior column\n",
    "df_reduce = df.xs(\"post\",axis=1,level=1)\n",
    "#calc the percent reduction in posterior\n",
    "df_percent = 100.0 * (df_reduce.loc[\"base\",:]-df_reduce)/df_reduce.loc[\"base\",:]\n",
    "#drop the base column\n",
    "df_percent = df_percent.iloc[1:,:]\n",
    "#transpose and plot\n",
    "df_percent.T.plot(kind=\"bar\")"
   ]
  },
  {
   "cell_type": "markdown",
   "metadata": {},
   "source": [
    "We see some interesting results here.  The sw-gw flux during calibration (sw_gw_0) is influenced by both recharge and hk uncertainty, but the forecast period sw-gw flux is influenced most by forecast period recharge uncertainty.  unfortunately, model calibration does not tell us about forecast period forcing, so calibration doesn't help with this forecast.  For the water level forecasts (```or28c05_0 and or28c05_1```), the results are similar: the forecast of water level at the end of the calibration period benefits most from hk knowledge, while the forecast period water level is most by recharge and storage.  Let's do this same analysis, but now group the parameters differently:"
   ]
  },
  {
   "cell_type": "code",
   "execution_count": 25,
   "metadata": {
    "collapsed": false,
    "scrolled": false
   },
   "outputs": [],
   "source": [
    "pnames = la.pst.par_names\n",
    "fore_names = [pname for pname in pnames if pname.endswith(\"_2\")]\n",
    "props = [pname for pname in pnames if pname[:2] in [\"hk\",\"ss\",\"sy\",\"rc\"] and \"rch\" not in pname]\n",
    "cal_names = [pname for pname in pnames if pname.endswith(\"_1\")]\n",
    "pdict = {'forecast forcing':fore_names,\"properties\":props,\"calibration forcing\":cal_names}\n",
    "df = la.get_par_contribution(pdict)"
   ]
  },
  {
   "cell_type": "code",
   "execution_count": 26,
   "metadata": {
    "collapsed": false
   },
   "outputs": [
    {
     "data": {
      "text/plain": [
       "<matplotlib.axes._subplots.AxesSubplot at 0x104c91590>"
      ]
     },
     "execution_count": 26,
     "metadata": {},
     "output_type": "execute_result"
    },
    {
     "data": {
      "image/png": "[encoded data removed]",
      "text/plain": [
       "<matplotlib.figure.Figure at 0x10d8a0cd0>"
      ]
     },
     "metadata": {},
     "output_type": "display_data"
    }
   ],
   "source": [
    "#select out the posterior column\n",
    "df_reduce = df.xs(\"post\",axis=1,level=1)\n",
    "#calc the percent reduction in posterior\n",
    "df_percent = 100.0 * (df_reduce.loc[\"base\",:]-df_reduce)/df_reduce.loc[\"base\",:]\n",
    "#drop the base column\n",
    "df_percent = df_percent.iloc[1:,:]\n",
    "#transpose and plot\n",
    "df_percent.T.plot(kind=\"bar\")"
   ]
  },
  {
   "cell_type": "code",
   "execution_count": null,
   "metadata": {
    "collapsed": true
   },
   "outputs": [],
   "source": []
  }
 ],
 "metadata": {
  "kernelspec": {
   "display_name": "Python 2",
   "language": "python",
   "name": "python2"
  },
  "language_info": {
   "codemirror_mode": {
    "name": "ipython",
    "version": 2
   },
   "file_extension": ".py",
   "mimetype": "text/x-python",
   "name": "python",
   "nbconvert_exporter": "python",
   "pygments_lexer": "ipython2",
   "version": "2.7.11"
  }
 },
 "nbformat": 4,
 "nbformat_minor": 0
}
