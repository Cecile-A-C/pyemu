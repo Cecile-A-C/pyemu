{
 "cells": [
  {
   "cell_type": "code",
   "execution_count": 18,
   "metadata": {
    "collapsed": false
   },
   "outputs": [],
   "source": [
    "%matplotlib inline\n",
    "from __future__ import print_function\n",
    "import os\n",
    "import numpy as np\n",
    "import pandas as pd\n",
    "import matplotlib.pyplot as plt"
   ]
  },
  {
   "cell_type": "markdown",
   "metadata": {},
   "source": [
    "##Model background\n",
    "Here is an example based on the model of Freyberg, 1988.  The synthetic model is a 2-dimensional MODFLOW model (X-Z domain) with 1 layer,  40 rows, and 20 columns.  The model has 2 stress periods: an initial steady-state stress period used for calibration, and a 5-year transient stress period.  THe calibration period uses the recharge and well flux of Freyberg, 1988; the last stress period use 25% less recharge and 25% more pumping.\n",
    "\n",
    "The inverse problem has 761 parameters: hydraulic conductivity of each active model cell, calibration and forecast period recharge multipliers, storage and specific yeild, well flux for each of the six wells, and river bed conductance for each river-type boundary.  The inverse problem has 13 head obseravtions, measured at the end of the steady-state calibration period.  The forecasts of interest include the sw-gw exchange flux during both stress periods, the water level in well cell at row 28 column 5 at the end of the stress periods.  The forecasts are included in the Jacobian matrix as zero-weight observations. The model files, pest control file and previously-calculated jacobian matrix are in the `freyberg/` folder\n",
    "\n",
    "\n",
    "Freyberg, David L. \"AN EXERCISE IN GROUND‐WATER MODEL CALIBRATION AND PREDICTION.\" Groundwater 26.3 (1988): 350-360."
   ]
  },
  {
   "cell_type": "code",
   "execution_count": 90,
   "metadata": {
    "collapsed": false
   },
   "outputs": [
    {
     "name": "stdout",
     "output_type": "stream",
     "text": [
      "  ...load method not completed. default nwt file created.\n"
     ]
    },
    {
     "data": {
      "text/plain": [
       "<function matplotlib.pyplot.show>"
      ]
     },
     "execution_count": 90,
     "metadata": {},
     "output_type": "execute_result"
    },
    {
     "data": {
      "image/png": "[encoded data removed]",
      "text/plain": [
       "<matplotlib.figure.Figure at 0x10ac28850>"
      ]
     },
     "metadata": {},
     "output_type": "display_data"
    }
   ],
   "source": [
    "import flopy\n",
    "\n",
    "# load the model\n",
    "model_ws = os.path.join(\"Freyberg\",\"extra_crispy\")\n",
    "ml = flopy.modflow.Modflow.load(\"freyberg\",model_ws=model_ws)\n",
    "\n",
    "# plot some model attributes\n",
    "fig = plt.figure(figsize=(10,10))\n",
    "ax = plt.subplot(111,aspect=\"equal\")\n",
    "ml.upw.hk.plot(axes=[ax],colorbar=\"hk m/d\",alpha=0.3)\n",
    "ml.wel.stress_period_data.plot(axes=[ax])\n",
    "ml.riv.stress_period_data.plot(axes=[ax])\n",
    "\n",
    "# plot obs locations\n",
    "obs = pd.read_csv(os.path.join(\"freyberg\",\"misc\",\"obs_rowcol.dat\"),delim_whitespace=True)\n",
    "obs_x = [ml.dis.sr.xcentergrid[r-1,c-1] for r,c in obs.loc[:,[\"row\",\"col\"]].values]\n",
    "obs_y = [ml.dis.sr.ycentergrid[r-1,c-1] for r,c in obs.loc[:,[\"row\",\"col\"]].values]\n",
    "ax.scatter(obs_x,obs_y,marker='.')\n",
    "\n",
    "plt.show\n"
   ]
  },
  {
   "cell_type": "markdown",
   "metadata": {},
   "source": [
    "The plot shows the Freyberg (1988) model domain.  The colorflood is the hydraulic conductivity ($\\frac{m}{d}$).  Red and green cells coorespond to well-type and river-type boundary conditions. Blue dots and blue 'x' are the locations of water levels used for calibration and the starting point of the particle used for the travel time forecast,respectively."
   ]
  },
  {
   "cell_type": "markdown",
   "metadata": {},
   "source": [
    "##Using `pyemu`"
   ]
  },
  {
   "cell_type": "code",
   "execution_count": 91,
   "metadata": {
    "collapsed": false
   },
   "outputs": [],
   "source": [
    "import pyemu"
   ]
  },
  {
   "cell_type": "markdown",
   "metadata": {},
   "source": [
    "First create a linear_analysis object.  We will use `schur`  derived type, which replicates the behavior of the `PREDUNC` suite of PEST.  We pass it the name of the jacobian matrix file.  Since we don't pass an explicit argument for `parcov` or `obscov`, `pyemu` attempts to build them from the parameter bounds and observation weights in a pest control file (.pst) with the same base case name as the jacobian.  Since we are interested in forecast uncertainty as well as parameter uncertainty, we also pass the names of the forecast sensitivity vectors we are interested in, which are stored in the jacobian as well.  Note that the `forecasts` argument can be a mixed list of observation names, other jacobian files or PEST-compatible ASCII matrix files."
   ]
  },
  {
   "cell_type": "code",
   "execution_count": 92,
   "metadata": {
    "collapsed": false
   },
   "outputs": [
    {
     "name": "stdout",
     "output_type": "stream",
     "text": [
      "2015-11-27 13:26:12.475369 starting: pre-loading base components\n",
      "\n",
      "2015-11-27 13:26:12.475436 starting: loading jco: freyberg/freyberg.jcb\n",
      "\n",
      "2015-11-27 13:26:12.514592 finished: loading jco: freyberg/freyberg.jcb took: 0:00:00.039156\n",
      "\n",
      "2015-11-27 13:26:12.514689 starting: loading pst: freyberg/freyberg.pst\n",
      "\n",
      "2015-11-27 13:26:12.565963 finished: loading pst: freyberg/freyberg.pst took: 0:00:00.051274\n",
      "\n",
      "2015-11-27 13:26:12.566291 starting: loading parcov\n",
      "\n",
      "2015-11-27 13:26:12.664697 finished: loading parcov took: 0:00:00.098406\n",
      "\n",
      "2015-11-27 13:26:12.665074 starting: loading obscov\n",
      "\n",
      "2015-11-27 13:26:12.813782 finished: loading obscov took: 0:00:00.148708\n",
      "\n",
      "2015-11-27 13:26:12.814214 starting: loading forecasts\n",
      "\n",
      "2015-11-27 13:26:12.837876 finished: loading forecasts took: 0:00:00.023662\n",
      "\n",
      "2015-11-27 13:26:12.837926 finished: pre-loading base components took: 0:00:00.362557\n",
      "\n",
      "2015-11-27 13:26:12.837941 starting: dropping prior information\n",
      "\n",
      "2015-11-27 13:26:12.838737 starting: removing 761 prior info from jco, pst, and obs cov\n",
      "\n",
      "2015-11-27 13:26:13.108742 starting: removing 761 prior info from jco and pst\n",
      "\n",
      "2015-11-27 13:26:13.109129 finished: dropping prior information took: 0:00:00.271188\n",
      "\n"
     ]
    }
   ],
   "source": [
    "# get the list of forecast names from the pest++ argument in the pest control file\n",
    "jco = os.path.join(\"freyberg\",\"freyberg.jcb\")\n",
    "pst = pyemu.Pst(jco.replace(\"jcb\",\"pst\"))\n",
    "la = pyemu.Schur(jco=jco, forecasts=pst.pestpp_options[\"forecasts\"].split(','),verbose=True)\n"
   ]
  },
  {
   "cell_type": "markdown",
   "metadata": {},
   "source": [
    "We can inspect the parcov and obscov attributes by saving them to files.  We can save them PEST-compatible ASCII or binary matrices (`.to_ascii()` or `.to_binary()`), PEST-compatible uncertainty files (`.to_uncfile()`), or simply as numpy ASCII arrays (`numpy.savetxt()`).  In fact, all matrix and covariance objects (including the forecasts) have these methods.  \n"
   ]
  },
  {
   "cell_type": "code",
   "execution_count": 93,
   "metadata": {
    "collapsed": false
   },
   "outputs": [],
   "source": [
    "la.parcov.to_uncfile(jco+\"_prior.unc\", covmat_file=None)"
   ]
  },
  {
   "cell_type": "markdown",
   "metadata": {},
   "source": [
    "##Posterior parameter uncertainty analysis\n",
    "Let's calculate and save the posterior parameter covariance matrix:"
   ]
  },
  {
   "cell_type": "code",
   "execution_count": 94,
   "metadata": {
    "collapsed": false
   },
   "outputs": [
    {
     "name": "stdout",
     "output_type": "stream",
     "text": [
      "2015-11-27 13:26:18.191987 starting: Schur's complement\n",
      "\n",
      "2015-11-27 13:26:18.192067 starting: xtqx\n",
      "\n",
      "2015-11-27 13:26:18.252080 finished: xtqx took: 0:00:00.060013\n",
      "\n",
      "2015-11-27 13:26:18.277291 finished: Schur's complement took: 0:00:00.085304\n",
      "\n"
     ]
    }
   ],
   "source": [
    "la.posterior_parameter.to_ascii(jco+\"_post.cov\")"
   ]
  },
  {
   "cell_type": "markdown",
   "metadata": {},
   "source": [
    "You can open this file in a text editor to examine.  The diagonal of this matrix is the posterior variance of each parameter. Since we already calculated the posterior parameter covariance matrix, additional calls to the `posterior_parameter` decorated method only require access:\n"
   ]
  },
  {
   "cell_type": "code",
   "execution_count": 95,
   "metadata": {
    "collapsed": false,
    "scrolled": true
   },
   "outputs": [
    {
     "data": {
      "text/html": [
       "<div>\n",
       "<table border=\"1\" class=\"dataframe\">\n",
       "  <thead>\n",
       "    <tr style=\"text-align: right;\">\n",
       "      <th></th>\n",
       "      <th>hkr00c00</th>\n",
       "      <th>hkr00c01</th>\n",
       "      <th>hkr00c02</th>\n",
       "    </tr>\n",
       "  </thead>\n",
       "  <tbody>\n",
       "    <tr>\n",
       "      <th>hkr00c00</th>\n",
       "      <td>2.499965e-01</td>\n",
       "      <td>-8.837002e-07</td>\n",
       "      <td>-0.000005</td>\n",
       "    </tr>\n",
       "    <tr>\n",
       "      <th>hkr00c01</th>\n",
       "      <td>-8.837002e-07</td>\n",
       "      <td>2.499910e-01</td>\n",
       "      <td>-0.000021</td>\n",
       "    </tr>\n",
       "    <tr>\n",
       "      <th>hkr00c02</th>\n",
       "      <td>-4.635569e-06</td>\n",
       "      <td>-2.085084e-05</td>\n",
       "      <td>0.249947</td>\n",
       "    </tr>\n",
       "  </tbody>\n",
       "</table>\n",
       "</div>"
      ],
      "text/plain": [
       "              hkr00c00      hkr00c01  hkr00c02\n",
       "hkr00c00  2.499965e-01 -8.837002e-07 -0.000005\n",
       "hkr00c01 -8.837002e-07  2.499910e-01 -0.000021\n",
       "hkr00c02 -4.635569e-06 -2.085084e-05  0.249947"
      ]
     },
     "execution_count": 95,
     "metadata": {},
     "output_type": "execute_result"
    }
   ],
   "source": [
    "la.posterior_parameter.to_dataframe().sort().sort(axis=1).iloc[0:3,0:3] #look so nice in the notebook"
   ]
  },
  {
   "cell_type": "markdown",
   "metadata": {},
   "source": [
    "We can see the posterior variance of each parameter along the diagonal of this matrix. Now, let's make a simple plot of prior vs posterior uncertainty for the 600 pilot point parameters"
   ]
  },
  {
   "cell_type": "code",
   "execution_count": 96,
   "metadata": {
    "collapsed": false,
    "scrolled": true
   },
   "outputs": [
    {
     "data": {
      "text/html": [
       "<div>\n",
       "<table border=\"1\" class=\"dataframe\">\n",
       "  <thead>\n",
       "    <tr style=\"text-align: right;\">\n",
       "      <th></th>\n",
       "      <th>percent_reduction</th>\n",
       "      <th>post_var</th>\n",
       "      <th>prior_var</th>\n",
       "    </tr>\n",
       "  </thead>\n",
       "  <tbody>\n",
       "    <tr>\n",
       "      <th>rch_1</th>\n",
       "      <td>49.884568</td>\n",
       "      <td>0.000238</td>\n",
       "      <td>0.000475</td>\n",
       "    </tr>\n",
       "    <tr>\n",
       "      <th>hkr30c15</th>\n",
       "      <td>31.278933</td>\n",
       "      <td>0.171803</td>\n",
       "      <td>0.250000</td>\n",
       "    </tr>\n",
       "    <tr>\n",
       "      <th>hkr03c11</th>\n",
       "      <td>26.494859</td>\n",
       "      <td>0.183763</td>\n",
       "      <td>0.250000</td>\n",
       "    </tr>\n",
       "    <tr>\n",
       "      <th>hkr34c09</th>\n",
       "      <td>25.096673</td>\n",
       "      <td>0.187258</td>\n",
       "      <td>0.250000</td>\n",
       "    </tr>\n",
       "    <tr>\n",
       "      <th>hkr04c10</th>\n",
       "      <td>24.712660</td>\n",
       "      <td>0.188218</td>\n",
       "      <td>0.250000</td>\n",
       "    </tr>\n",
       "    <tr>\n",
       "      <th>hkr22c12</th>\n",
       "      <td>22.009284</td>\n",
       "      <td>0.194977</td>\n",
       "      <td>0.250000</td>\n",
       "    </tr>\n",
       "    <tr>\n",
       "      <th>hkr25c06</th>\n",
       "      <td>21.114649</td>\n",
       "      <td>0.197213</td>\n",
       "      <td>0.250000</td>\n",
       "    </tr>\n",
       "    <tr>\n",
       "      <th>hkr35c12</th>\n",
       "      <td>19.869449</td>\n",
       "      <td>0.200326</td>\n",
       "      <td>0.250000</td>\n",
       "    </tr>\n",
       "    <tr>\n",
       "      <th>hkr35c10</th>\n",
       "      <td>18.608329</td>\n",
       "      <td>0.203479</td>\n",
       "      <td>0.250000</td>\n",
       "    </tr>\n",
       "    <tr>\n",
       "      <th>hkr04c16</th>\n",
       "      <td>17.240172</td>\n",
       "      <td>0.206900</td>\n",
       "      <td>0.250000</td>\n",
       "    </tr>\n",
       "  </tbody>\n",
       "</table>\n",
       "</div>"
      ],
      "text/plain": [
       "          percent_reduction  post_var  prior_var\n",
       "rch_1             49.884568  0.000238   0.000475\n",
       "hkr30c15          31.278933  0.171803   0.250000\n",
       "hkr03c11          26.494859  0.183763   0.250000\n",
       "hkr34c09          25.096673  0.187258   0.250000\n",
       "hkr04c10          24.712660  0.188218   0.250000\n",
       "hkr22c12          22.009284  0.194977   0.250000\n",
       "hkr25c06          21.114649  0.197213   0.250000\n",
       "hkr35c12          19.869449  0.200326   0.250000\n",
       "hkr35c10          18.608329  0.203479   0.250000\n",
       "hkr04c16          17.240172  0.206900   0.250000"
      ]
     },
     "execution_count": 96,
     "metadata": {},
     "output_type": "execute_result"
    },
    {
     "data": {
      "image/png": "[encoded data removed]",
      "text/plain": [
       "<matplotlib.figure.Figure at 0x10cccfe90>"
      ]
     },
     "metadata": {},
     "output_type": "display_data"
    }
   ],
   "source": [
    "par_sum = la.get_parameter_summary().sort(\"percent_reduction\",ascending=False)\n",
    "par_sum.loc[par_sum.index[:20],\"percent_reduction\"].plot(kind=\"bar\",figsize=(10,4),edgecolor=\"none\")\n",
    "par_sum.iloc[0:10,:]"
   ]
  },
  {
   "cell_type": "markdown",
   "metadata": {},
   "source": [
    "We can see that calibrating the model to the 13 water levels reduces the uncertainty of the calibration period recharge by 50%.  Additionally, the hydraulic conductivity of many model cell is also reduced "
   ]
  },
  {
   "cell_type": "code",
   "execution_count": 97,
   "metadata": {
    "collapsed": false
   },
   "outputs": [
    {
     "data": {
      "text/html": [
       "<div>\n",
       "<table border=\"1\" class=\"dataframe\">\n",
       "  <thead>\n",
       "    <tr style=\"text-align: right;\">\n",
       "      <th></th>\n",
       "      <th>percent_reduction</th>\n",
       "      <th>post_var</th>\n",
       "      <th>prior_var</th>\n",
       "    </tr>\n",
       "  </thead>\n",
       "  <tbody>\n",
       "    <tr>\n",
       "      <th>hkr39c14</th>\n",
       "      <td>0</td>\n",
       "      <td>0.250000</td>\n",
       "      <td>0.250000</td>\n",
       "    </tr>\n",
       "    <tr>\n",
       "      <th>hkr01c19</th>\n",
       "      <td>0</td>\n",
       "      <td>0.250000</td>\n",
       "      <td>0.250000</td>\n",
       "    </tr>\n",
       "    <tr>\n",
       "      <th>hkr00c19</th>\n",
       "      <td>0</td>\n",
       "      <td>0.250000</td>\n",
       "      <td>0.250000</td>\n",
       "    </tr>\n",
       "    <tr>\n",
       "      <th>wf6_2</th>\n",
       "      <td>0</td>\n",
       "      <td>0.014228</td>\n",
       "      <td>0.014228</td>\n",
       "    </tr>\n",
       "    <tr>\n",
       "      <th>wf5_2</th>\n",
       "      <td>0</td>\n",
       "      <td>0.014228</td>\n",
       "      <td>0.014228</td>\n",
       "    </tr>\n",
       "    <tr>\n",
       "      <th>wf3_2</th>\n",
       "      <td>0</td>\n",
       "      <td>0.014228</td>\n",
       "      <td>0.014228</td>\n",
       "    </tr>\n",
       "    <tr>\n",
       "      <th>wf2_2</th>\n",
       "      <td>0</td>\n",
       "      <td>0.014228</td>\n",
       "      <td>0.014228</td>\n",
       "    </tr>\n",
       "    <tr>\n",
       "      <th>wf1_2</th>\n",
       "      <td>0</td>\n",
       "      <td>0.014228</td>\n",
       "      <td>0.014228</td>\n",
       "    </tr>\n",
       "    <tr>\n",
       "      <th>sy</th>\n",
       "      <td>0</td>\n",
       "      <td>0.250000</td>\n",
       "      <td>0.250000</td>\n",
       "    </tr>\n",
       "    <tr>\n",
       "      <th>ss</th>\n",
       "      <td>0</td>\n",
       "      <td>0.250000</td>\n",
       "      <td>0.250000</td>\n",
       "    </tr>\n",
       "  </tbody>\n",
       "</table>\n",
       "</div>"
      ],
      "text/plain": [
       "          percent_reduction  post_var  prior_var\n",
       "hkr39c14                  0  0.250000   0.250000\n",
       "hkr01c19                  0  0.250000   0.250000\n",
       "hkr00c19                  0  0.250000   0.250000\n",
       "wf6_2                     0  0.014228   0.014228\n",
       "wf5_2                     0  0.014228   0.014228\n",
       "wf3_2                     0  0.014228   0.014228\n",
       "wf2_2                     0  0.014228   0.014228\n",
       "wf1_2                     0  0.014228   0.014228\n",
       "sy                        0  0.250000   0.250000\n",
       "ss                        0  0.250000   0.250000"
      ]
     },
     "execution_count": 97,
     "metadata": {},
     "output_type": "execute_result"
    },
    {
     "data": {
      "image/png": "[encoded data removed]",
      "text/plain": [
       "<matplotlib.figure.Figure at 0x10c768490>"
      ]
     },
     "metadata": {},
     "output_type": "display_data"
    }
   ],
   "source": [
    "par_sum = la.get_parameter_summary().sort(\"percent_reduction\")\n",
    "par_sum.loc[par_sum.index[:20],\"percent_reduction\"].plot(kind=\"bar\",figsize=(10,4),edgecolor=\"none\")\n",
    "par_sum.iloc[0:10,:]"
   ]
  },
  {
   "cell_type": "markdown",
   "metadata": {},
   "source": [
    "We see that several parameters are uneffected by calibration - these are mostly parameters that represent forecast period uncertainty (parameters that end with ```_2```), but there are also some hydraulic conductivities that are uninformed by the 13 observations"
   ]
  },
  {
   "cell_type": "markdown",
   "metadata": {},
   "source": [
    "We can also make a map of uncertainty reduction for the hydraulic conductivity parameters  "
   ]
  },
  {
   "cell_type": "code",
   "execution_count": 99,
   "metadata": {
    "collapsed": false
   },
   "outputs": [
    {
     "data": {
      "text/plain": [
       "<matplotlib.collections.PathCollection at 0x10bf61450>"
      ]
     },
     "execution_count": 99,
     "metadata": {},
     "output_type": "execute_result"
    },
    {
     "data": {
      "image/png": "[encoded data removed]",
      "text/plain": [
       "<matplotlib.figure.Figure at 0x10c7680d0>"
      ]
     },
     "metadata": {},
     "output_type": "display_data"
    }
   ],
   "source": [
    "hk_pars = par_sum.loc[par_sum.groupby(lambda x:\"hk\" in x).groups[True],:]\n",
    "hk_pars.loc[:,\"names\"] = hk_pars.index\n",
    "names = hk_pars.names\n",
    "hk_pars.loc[:,\"i\"] = names.apply(lambda x: int(x[3:5]))\n",
    "hk_pars.loc[:,\"j\"] = names.apply(lambda x: int(x[6:8]))\n",
    "unc_array = np.zeros_like(ml.upw.hk[0].array) - 1\n",
    "for i,j,unc in zip(hk_pars.i,hk_pars.j,hk_pars.percent_reduction):\n",
    "    unc_array[i,j] = unc \n",
    "\n",
    "unc_array[unc_array == -1] = np.NaN\n",
    "\n",
    "# plot some model attributes\n",
    "fig = plt.figure(figsize=(10,10))\n",
    "ax = plt.subplot(111,aspect=\"equal\")\n",
    "cb = ax.imshow(unc_array,interpolation=\"none\",alpha=0.5,extent=ml.dis.sr.get_extent())\n",
    "plt.colorbar(cb,label=\"percent uncertainty reduction\")\n",
    "#ml.wel.stress_period_data.plot(axes=[ax])\n",
    "ml.riv.stress_period_data.plot(axes=[ax])\n",
    "\n",
    "# plot obs locations\n",
    "obs = pd.read_csv(os.path.join(\"freyberg\",\"misc\",\"obs_rowcol.dat\"),delim_whitespace=True)\n",
    "obs_x = [ml.dis.sr.xcentergrid[r-1,c-1] for r,c in obs.loc[:,[\"row\",\"col\"]].values]\n",
    "obs_y = [ml.dis.sr.ycentergrid[r-1,c-1] for r,c in obs.loc[:,[\"row\",\"col\"]].values]\n",
    "ax.scatter(obs_x,obs_y,marker='.')\n",
    "\n"
   ]
  },
  {
   "cell_type": "markdown",
   "metadata": {},
   "source": [
    "As you might expect, most of the information in the observations is flowing to the hydraulic conductivity parameters near observations themselves."
   ]
  },
  {
   "cell_type": "markdown",
   "metadata": {},
   "source": [
    "##Forecast uncertainty\n",
    "Now let's examine the prior and posterior variance of the forecasts:"
   ]
  },
  {
   "cell_type": "code",
   "execution_count": 107,
   "metadata": {
    "collapsed": false
   },
   "outputs": [
    {
     "data": {
      "text/plain": [
       "<matplotlib.text.Text at 0x10c38ed90>"
      ]
     },
     "execution_count": 107,
     "metadata": {},
     "output_type": "execute_result"
    },
    {
     "data": {
      "image/png": "[encoded data removed]",
      "text/plain": [
       "<matplotlib.figure.Figure at 0x10d2e66d0>"
      ]
     },
     "metadata": {},
     "output_type": "display_data"
    }
   ],
   "source": [
    "ax = la.get_forecast_summary().percent_reduction.plot(kind='bar')\n",
    "ax.set_ylabel(\"percent uncertainy reduction from calibration\")"
   ]
  },
  {
   "cell_type": "markdown",
   "metadata": {},
   "source": [
    "Notice the spread on the uncertainty reduction: some forecasts benefit more from calibration than others."
   ]
  },
  {
   "cell_type": "markdown",
   "metadata": {},
   "source": [
    "##Data worth\n",
    "Now, let's try to identify which observations are most important to reducing the posterior uncertainty (e.g.the forecast worth of every observation).  We simply recalculate Schur's complement without some observations and see how the posterior forecast uncertainty increases\n",
    "\n",
    "```importance_of_obesrvation_groups()``` is a thin wrapper that calls the underlying ```importance_of_observations()``` method using the observation groups in the pest control file and stacks the results into a ```pandas DataFrame```.  \n",
    "\n",
    "This call will test all of the non-forecast observations in the PEST data set to see which ones are most important \n"
   ]
  },
  {
   "cell_type": "markdown",
   "metadata": {},
   "source": [
    "```base``` row are the results of Schur's complement calculation using all observations.  The increase in posterior forecast uncertainty for each of the 13 water level obseravtions (e.g. or17c17 is the observation in row 18 column 18) show how much forecast uncertainty increases when that particular observation is not used in history matching.  So we see again that each forecast depends of the observations differently\n",
    "\n",
    "A water-level obseravtion for each active model cell was also \"carried\" in the pest control file.  This means we can run this same analysis to find the best next place to collect a new water level.  This takes a little longer because it is rerunning the schur's complement calculations many times, so here we'll just use the 13 observations:"
   ]
  },
  {
   "cell_type": "code",
   "execution_count": 108,
   "metadata": {
    "collapsed": false
   },
   "outputs": [
    {
     "name": "stdout",
     "output_type": "stream",
     "text": [
      "13\n"
     ]
    }
   ],
   "source": [
    "obs_dict = dict(zip(pst.nnz_obs_names,pst.nnz_obs_names))\n",
    "print(len(obs_dict))"
   ]
  },
  {
   "cell_type": "code",
   "execution_count": 109,
   "metadata": {
    "collapsed": false
   },
   "outputs": [
    {
     "name": "stdout",
     "output_type": "stream",
     "text": [
      "2015-11-27 13:31:06.104392 starting: calculating importance of observations\n",
      "\n",
      "2015-11-27 13:31:06.104477 starting: calculating contribution from: or16c17_0\n",
      "\n",
      "\n",
      "2015-11-27 13:31:07.368287 finished: calculating contribution from: or16c17_0\n",
      " took: 0:00:01.263810\n",
      "\n",
      "2015-11-27 13:31:07.368661 starting: calculating contribution from: or03c16_0\n",
      "\n",
      "\n",
      "2015-11-27 13:31:08.624376 finished: calculating contribution from: or03c16_0\n",
      " took: 0:00:01.255715\n",
      "\n",
      "2015-11-27 13:31:08.624742 starting: calculating contribution from: or23c17_0\n",
      "\n",
      "\n",
      "2015-11-27 13:31:09.871866 finished: calculating contribution from: or23c17_0\n",
      " took: 0:00:01.247124\n",
      "\n",
      "2015-11-27 13:31:09.872225 starting: calculating contribution from: or35c11_0\n",
      "\n",
      "\n",
      "2015-11-27 13:31:11.090277 finished: calculating contribution from: or35c11_0\n",
      " took: 0:00:01.218052\n",
      "\n",
      "2015-11-27 13:31:11.090646 starting: calculating contribution from: or27c07_0\n",
      "\n",
      "\n",
      "2015-11-27 13:31:12.336350 finished: calculating contribution from: or27c07_0\n",
      " took: 0:00:01.245704\n",
      "\n",
      "2015-11-27 13:31:12.336753 starting: calculating contribution from: or03c10_0\n",
      "\n",
      "\n",
      "2015-11-27 13:31:13.592531 finished: calculating contribution from: or03c10_0\n",
      " took: 0:00:01.255778\n",
      "\n",
      "2015-11-27 13:31:13.592937 starting: calculating contribution from: or22c11_0\n",
      "\n",
      "\n",
      "2015-11-27 13:31:14.837479 finished: calculating contribution from: or22c11_0\n",
      " took: 0:00:01.244542\n",
      "\n",
      "2015-11-27 13:31:14.837879 starting: calculating contribution from: or14c11_0\n",
      "\n",
      "\n",
      "2015-11-27 13:31:16.054968 finished: calculating contribution from: or14c11_0\n",
      " took: 0:00:01.217089\n",
      "\n",
      "2015-11-27 13:31:16.055338 starting: calculating contribution from: or30c16_0\n",
      "\n",
      "\n",
      "2015-11-27 13:31:17.344536 finished: calculating contribution from: or30c16_0\n",
      " took: 0:00:01.289198\n",
      "\n",
      "2015-11-27 13:31:17.344909 starting: calculating contribution from: or10c02_0\n",
      "\n",
      "\n",
      "2015-11-27 13:31:18.564621 finished: calculating contribution from: or10c02_0\n",
      " took: 0:00:01.219712\n",
      "\n",
      "2015-11-27 13:31:18.564981 starting: calculating contribution from: or04c09_0\n",
      "\n",
      "\n",
      "2015-11-27 13:31:19.850146 finished: calculating contribution from: or04c09_0\n",
      " took: 0:00:01.285165\n",
      "\n",
      "2015-11-27 13:31:19.850521 starting: calculating contribution from: or25c05_0\n",
      "\n",
      "\n",
      "2015-11-27 13:31:21.364757 finished: calculating contribution from: or25c05_0\n",
      " took: 0:00:01.514236\n",
      "\n",
      "2015-11-27 13:31:21.365130 starting: calculating contribution from: or34c08_0\n",
      "\n",
      "\n",
      "2015-11-27 13:31:22.795201 finished: calculating contribution from: or34c08_0\n",
      " took: 0:00:01.430071\n",
      "\n",
      "2015-11-27 13:31:22.796464 finished: calculating importance of observations took: 0:00:16.692072\n",
      "\n"
     ]
    }
   ],
   "source": [
    "df_worth= la.get_importance_dataframe(obs_dict)"
   ]
  },
  {
   "cell_type": "code",
   "execution_count": 110,
   "metadata": {
    "collapsed": false
   },
   "outputs": [
    {
     "data": {
      "text/html": [
       "<div>\n",
       "<table border=\"1\" class=\"dataframe\">\n",
       "  <thead>\n",
       "    <tr style=\"text-align: right;\">\n",
       "      <th></th>\n",
       "      <th>or28c05_0</th>\n",
       "      <th>or28c05_1</th>\n",
       "      <th>sw_gw_0</th>\n",
       "      <th>sw_gw_1</th>\n",
       "    </tr>\n",
       "  </thead>\n",
       "  <tbody>\n",
       "    <tr>\n",
       "      <th>base</th>\n",
       "      <td>0.104901</td>\n",
       "      <td>1.349353</td>\n",
       "      <td>45266.951772</td>\n",
       "      <td>620442.618112</td>\n",
       "    </tr>\n",
       "    <tr>\n",
       "      <th>or16c17_0</th>\n",
       "      <td>0.104912</td>\n",
       "      <td>1.349494</td>\n",
       "      <td>46009.162975</td>\n",
       "      <td>620457.760006</td>\n",
       "    </tr>\n",
       "    <tr>\n",
       "      <th>or03c16_0</th>\n",
       "      <td>0.104919</td>\n",
       "      <td>1.349542</td>\n",
       "      <td>46517.650426</td>\n",
       "      <td>620459.380623</td>\n",
       "    </tr>\n",
       "    <tr>\n",
       "      <th>or23c17_0</th>\n",
       "      <td>0.104907</td>\n",
       "      <td>1.349489</td>\n",
       "      <td>45890.127094</td>\n",
       "      <td>620456.396643</td>\n",
       "    </tr>\n",
       "    <tr>\n",
       "      <th>or35c11_0</th>\n",
       "      <td>0.104953</td>\n",
       "      <td>1.350356</td>\n",
       "      <td>45383.665748</td>\n",
       "      <td>620476.801860</td>\n",
       "    </tr>\n",
       "    <tr>\n",
       "      <th>or27c07_0</th>\n",
       "      <td>0.153058</td>\n",
       "      <td>1.378501</td>\n",
       "      <td>45476.473772</td>\n",
       "      <td>620448.729766</td>\n",
       "    </tr>\n",
       "    <tr>\n",
       "      <th>or03c10_0</th>\n",
       "      <td>0.104901</td>\n",
       "      <td>1.349353</td>\n",
       "      <td>45267.631429</td>\n",
       "      <td>620444.798848</td>\n",
       "    </tr>\n",
       "    <tr>\n",
       "      <th>or22c11_0</th>\n",
       "      <td>0.104907</td>\n",
       "      <td>1.349639</td>\n",
       "      <td>45438.014277</td>\n",
       "      <td>620456.475235</td>\n",
       "    </tr>\n",
       "    <tr>\n",
       "      <th>or14c11_0</th>\n",
       "      <td>0.104914</td>\n",
       "      <td>1.349704</td>\n",
       "      <td>46344.283861</td>\n",
       "      <td>620478.500585</td>\n",
       "    </tr>\n",
       "    <tr>\n",
       "      <th>or30c16_0</th>\n",
       "      <td>0.104913</td>\n",
       "      <td>1.349405</td>\n",
       "      <td>45486.605342</td>\n",
       "      <td>620449.437222</td>\n",
       "    </tr>\n",
       "    <tr>\n",
       "      <th>or10c02_0</th>\n",
       "      <td>0.106080</td>\n",
       "      <td>1.349520</td>\n",
       "      <td>50438.518215</td>\n",
       "      <td>620553.778164</td>\n",
       "    </tr>\n",
       "    <tr>\n",
       "      <th>or04c09_0</th>\n",
       "      <td>0.104901</td>\n",
       "      <td>1.349380</td>\n",
       "      <td>45376.309284</td>\n",
       "      <td>620446.560354</td>\n",
       "    </tr>\n",
       "    <tr>\n",
       "      <th>or25c05_0</th>\n",
       "      <td>0.139213</td>\n",
       "      <td>1.361276</td>\n",
       "      <td>45859.283606</td>\n",
       "      <td>620452.111319</td>\n",
       "    </tr>\n",
       "    <tr>\n",
       "      <th>or34c08_0</th>\n",
       "      <td>0.105463</td>\n",
       "      <td>1.349361</td>\n",
       "      <td>45546.665830</td>\n",
       "      <td>620550.423439</td>\n",
       "    </tr>\n",
       "  </tbody>\n",
       "</table>\n",
       "</div>"
      ],
      "text/plain": [
       "           or28c05_0  or28c05_1       sw_gw_0        sw_gw_1\n",
       "base        0.104901   1.349353  45266.951772  620442.618112\n",
       "or16c17_0   0.104912   1.349494  46009.162975  620457.760006\n",
       "or03c16_0   0.104919   1.349542  46517.650426  620459.380623\n",
       "or23c17_0   0.104907   1.349489  45890.127094  620456.396643\n",
       "or35c11_0   0.104953   1.350356  45383.665748  620476.801860\n",
       "or27c07_0   0.153058   1.378501  45476.473772  620448.729766\n",
       "or03c10_0   0.104901   1.349353  45267.631429  620444.798848\n",
       "or22c11_0   0.104907   1.349639  45438.014277  620456.475235\n",
       "or14c11_0   0.104914   1.349704  46344.283861  620478.500585\n",
       "or30c16_0   0.104913   1.349405  45486.605342  620449.437222\n",
       "or10c02_0   0.106080   1.349520  50438.518215  620553.778164\n",
       "or04c09_0   0.104901   1.349380  45376.309284  620446.560354\n",
       "or25c05_0   0.139213   1.361276  45859.283606  620452.111319\n",
       "or34c08_0   0.105463   1.349361  45546.665830  620550.423439"
      ]
     },
     "execution_count": 110,
     "metadata": {},
     "output_type": "execute_result"
    }
   ],
   "source": [
    "df_worth"
   ]
  },
  {
   "cell_type": "code",
   "execution_count": 111,
   "metadata": {
    "collapsed": false
   },
   "outputs": [
    {
     "data": {
      "text/html": [
       "<div>\n",
       "<table border=\"1\" class=\"dataframe\">\n",
       "  <thead>\n",
       "    <tr style=\"text-align: right;\">\n",
       "      <th></th>\n",
       "      <th>or28c05_0</th>\n",
       "      <th>or28c05_1</th>\n",
       "      <th>sw_gw_0</th>\n",
       "      <th>sw_gw_1</th>\n",
       "    </tr>\n",
       "  </thead>\n",
       "  <tbody>\n",
       "    <tr>\n",
       "      <th>most important observation</th>\n",
       "      <td>or27c07_0</td>\n",
       "      <td>or27c07_0</td>\n",
       "      <td>or10c02_0</td>\n",
       "      <td>or10c02_0</td>\n",
       "    </tr>\n",
       "    <tr>\n",
       "      <th>percent increase when left out</th>\n",
       "      <td>45.90741</td>\n",
       "      <td>2.160142</td>\n",
       "      <td>11.4246</td>\n",
       "      <td>0.01791625</td>\n",
       "    </tr>\n",
       "  </tbody>\n",
       "</table>\n",
       "</div>"
      ],
      "text/plain": [
       "                                or28c05_0  or28c05_1    sw_gw_0     sw_gw_1\n",
       "most important observation      or27c07_0  or27c07_0  or10c02_0   or10c02_0\n",
       "percent increase when left out   45.90741   2.160142    11.4246  0.01791625"
      ]
     },
     "execution_count": 111,
     "metadata": {},
     "output_type": "execute_result"
    }
   ],
   "source": [
    "# a little processing of df_worth\n",
    "df_base = df_worth.loc[\"base\",:].copy()\n",
    "df_imax = df_worth.apply(lambda x:x-df_base,axis=1).idxmax()\n",
    "df_max = 100.0 * (df_worth.apply(lambda x:x-df_base,axis=1).max() / df_base)\n",
    "df_par = pd.DataFrame([df_imax,df_max],index=[\"most important observation\",\"percent increase when left out\"])\n",
    "df_par"
   ]
  },
  {
   "cell_type": "markdown",
   "metadata": {},
   "source": [
    "We see that observation ```or27c07_0``` is the most important for the water level forecasts (```or28c05_0``` and ```or28c05_1```), while observation ```or10c02_0``` is the most important for the surface water groundwater exchange forecasts (```sw_gw_0``` an ```sw_gw_1```)"
   ]
  },
  {
   "cell_type": "markdown",
   "metadata": {
    "collapsed": true
   },
   "source": [
    "##parameter contribution to uncertainty\n",
    "Lets look at which parameters are contributing most to forecast uncertainty.  for demostration purposes, lets group the parameters by parameter group name."
   ]
  },
  {
   "cell_type": "code",
   "execution_count": 141,
   "metadata": {
    "collapsed": false
   },
   "outputs": [
    {
     "name": "stdout",
     "output_type": "stream",
     "text": [
      "2015-11-27 13:45:50.236691 starting: calculating contribution from parameters\n",
      "\n",
      "2015-11-27 13:45:50.236792 starting: calculating contribution from: ['rch_1', 'rch_2']\n",
      "\n",
      "\n",
      "2015-11-27 13:45:52.350599 finished: calculating contribution from: ['rch_1', 'rch_2']\n",
      " took: 0:00:02.113807\n",
      "\n",
      "2015-11-27 13:45:52.351016 starting: calculating contribution from: ['rcond00', 'rcond01', 'rcond02', 'rcond03', 'rcond04', 'rcond05', 'rcond06', 'rcond07', 'rcond08', 'rcond09', 'rcond10', 'rcond11', 'rcond12', 'rcond13', 'rcond14', 'rcond15', 'rcond16', 'rcond17', 'rcond18', 'rcond19', 'rcond20', 'rcond21', 'rcond22', 'rcond23', 'rcond24', 'rcond25', 'rcond26', 'rcond27', 'rcond28', 'rcond29', 'rcond30', 'rcond31', 'rcond32', 'rcond33', 'rcond34', 'rcond35', 'rcond36', 'rcond37', 'rcond38', 'rcond39']\n",
      "\n",
      "\n",
      "2015-11-27 13:45:54.319026 finished: calculating contribution from: ['rcond00', 'rcond01', 'rcond02', 'rcond03', 'rcond04', 'rcond05', 'rcond06', 'rcond07', 'rcond08', 'rcond09', 'rcond10', 'rcond11', 'rcond12', 'rcond13', 'rcond14', 'rcond15', 'rcond16', 'rcond17', 'rcond18', 'rcond19', 'rcond20', 'rcond21', 'rcond22', 'rcond23', 'rcond24', 'rcond25', 'rcond26', 'rcond27', 'rcond28', 'rcond29', 'rcond30', 'rcond31', 'rcond32', 'rcond33', 'rcond34', 'rcond35', 'rcond36', 'rcond37', 'rcond38', 'rcond39']\n",
      " took: 0:00:01.968010\n",
      "\n",
      "2015-11-27 13:45:54.319449 starting: calculating contribution from: ['ss', 'sy']\n",
      "\n",
      "\n",
      "2015-11-27 13:45:56.419521 finished: calculating contribution from: ['ss', 'sy']\n",
      " took: 0:00:02.100072\n",
      "\n",
      "2015-11-27 13:45:56.419898 starting: calculating contribution from: ['wf1_1', 'wf2_1', 'wf3_1', 'wf4_1', 'wf5_1', 'wf6_1', 'wf1_2', 'wf2_2', 'wf3_2', 'wf4_2', 'wf5_2', 'wf6_2']\n",
      "\n",
      "\n",
      "2015-11-27 13:45:58.480148 finished: calculating contribution from: ['wf1_1', 'wf2_1', 'wf3_1', 'wf4_1', 'wf5_1', 'wf6_1', 'wf1_2', 'wf2_2', 'wf3_2', 'wf4_2', 'wf5_2', 'wf6_2']\n",
      " took: 0:00:02.060250\n",
      "\n",
      "2015-11-27 13:45:58.480626 starting: calculating contribution from: ['hkr00c00', 'hkr00c01', 'hkr00c02', 'hkr00c03', 'hkr00c04', 'hkr00c05', 'hkr00c06', 'hkr00c07', 'hkr00c08', 'hkr00c09', 'hkr00c10', 'hkr00c11', 'hkr00c12', 'hkr00c13', 'hkr00c14', 'hkr00c15', 'hkr00c16', 'hkr00c17', 'hkr00c18', 'hkr00c19', 'hkr01c00', 'hkr01c01', 'hkr01c02', 'hkr01c03', 'hkr01c04', 'hkr01c05', 'hkr01c06', 'hkr01c07', 'hkr01c08', 'hkr01c09', 'hkr01c10', 'hkr01c11', 'hkr01c12', 'hkr01c13', 'hkr01c14', 'hkr01c15', 'hkr01c16', 'hkr01c17', 'hkr01c18', 'hkr01c19', 'hkr02c00', 'hkr02c01', 'hkr02c02', 'hkr02c03', 'hkr02c04', 'hkr02c05', 'hkr02c06', 'hkr02c07', 'hkr02c08', 'hkr02c09', 'hkr02c10', 'hkr02c11', 'hkr02c12', 'hkr02c13', 'hkr02c14', 'hkr02c15', 'hkr02c16', 'hkr02c17', 'hkr02c18', 'hkr02c19', 'hkr03c00', 'hkr03c01', 'hkr03c02', 'hkr03c03', 'hkr03c04', 'hkr03c05', 'hkr03c06', 'hkr03c07', 'hkr03c08', 'hkr03c09', 'hkr03c10', 'hkr03c11', 'hkr03c12', 'hkr03c13', 'hkr03c14', 'hkr03c15', 'hkr03c16', 'hkr03c17', 'hkr03c18', 'hkr03c19', 'hkr04c00', 'hkr04c01', 'hkr04c02', 'hkr04c03', 'hkr04c04', 'hkr04c05', 'hkr04c06', 'hkr04c07', 'hkr04c08', 'hkr04c09', 'hkr04c10', 'hkr04c11', 'hkr04c12', 'hkr04c13', 'hkr04c14', 'hkr04c15', 'hkr04c16', 'hkr04c17', 'hkr04c18', 'hkr04c19', 'hkr05c00', 'hkr05c01', 'hkr05c02', 'hkr05c03', 'hkr05c04', 'hkr05c05', 'hkr05c06', 'hkr05c07', 'hkr05c08', 'hkr05c09', 'hkr05c10', 'hkr05c11', 'hkr05c12', 'hkr05c13', 'hkr05c14', 'hkr05c15', 'hkr05c16', 'hkr05c17', 'hkr05c18', 'hkr05c19', 'hkr06c00', 'hkr06c01', 'hkr06c02', 'hkr06c03', 'hkr06c04', 'hkr06c05', 'hkr06c06', 'hkr06c07', 'hkr06c08', 'hkr06c09', 'hkr06c10', 'hkr06c11', 'hkr06c12', 'hkr06c13', 'hkr06c14', 'hkr06c15', 'hkr06c16', 'hkr06c17', 'hkr06c18', 'hkr06c19', 'hkr07c00', 'hkr07c01', 'hkr07c02', 'hkr07c03', 'hkr07c04', 'hkr07c05', 'hkr07c06', 'hkr07c07', 'hkr07c08', 'hkr07c09', 'hkr07c10', 'hkr07c11', 'hkr07c12', 'hkr07c13', 'hkr07c14', 'hkr07c15', 'hkr07c16', 'hkr07c17', 'hkr07c18', 'hkr07c19', 'hkr08c00', 'hkr08c01', 'hkr08c02', 'hkr08c03', 'hkr08c07', 'hkr08c08', 'hkr08c09', 'hkr08c10', 'hkr08c11', 'hkr08c12', 'hkr08c13', 'hkr08c14', 'hkr08c15', 'hkr08c16', 'hkr08c17', 'hkr08c18', 'hkr08c19', 'hkr09c00', 'hkr09c01', 'hkr09c02', 'hkr09c03', 'hkr09c08', 'hkr09c09', 'hkr09c10', 'hkr09c11', 'hkr09c12', 'hkr09c13', 'hkr09c14', 'hkr09c15', 'hkr09c16', 'hkr09c17', 'hkr09c18', 'hkr09c19', 'hkr10c00', 'hkr10c01', 'hkr10c02', 'hkr10c03', 'hkr10c08', 'hkr10c09', 'hkr10c10', 'hkr10c11', 'hkr10c12', 'hkr10c13', 'hkr10c14', 'hkr10c15', 'hkr10c16', 'hkr10c17', 'hkr10c18', 'hkr10c19', 'hkr11c00', 'hkr11c01', 'hkr11c02', 'hkr11c03', 'hkr11c08', 'hkr11c09', 'hkr11c10', 'hkr11c11', 'hkr11c12', 'hkr11c13', 'hkr11c14', 'hkr11c15', 'hkr11c16', 'hkr11c17', 'hkr11c18', 'hkr11c19', 'hkr12c00', 'hkr12c01', 'hkr12c02', 'hkr12c03', 'hkr12c08', 'hkr12c09', 'hkr12c10', 'hkr12c11', 'hkr12c12', 'hkr12c13', 'hkr12c14', 'hkr12c15', 'hkr12c16', 'hkr12c17', 'hkr12c18', 'hkr12c19', 'hkr13c00', 'hkr13c01', 'hkr13c02', 'hkr13c03', 'hkr13c08', 'hkr13c09', 'hkr13c10', 'hkr13c11', 'hkr13c12', 'hkr13c13', 'hkr13c14', 'hkr13c15', 'hkr13c16', 'hkr13c17', 'hkr13c18', 'hkr13c19', 'hkr14c00', 'hkr14c01', 'hkr14c02', 'hkr14c03', 'hkr14c08', 'hkr14c09', 'hkr14c10', 'hkr14c11', 'hkr14c12', 'hkr14c13', 'hkr14c14', 'hkr14c15', 'hkr14c16', 'hkr14c17', 'hkr14c18', 'hkr14c19', 'hkr15c00', 'hkr15c01', 'hkr15c02', 'hkr15c03', 'hkr15c08', 'hkr15c09', 'hkr15c10', 'hkr15c11', 'hkr15c12', 'hkr15c13', 'hkr15c14', 'hkr15c15', 'hkr15c16', 'hkr15c17', 'hkr15c18', 'hkr15c19', 'hkr16c00', 'hkr16c01', 'hkr16c02', 'hkr16c03', 'hkr16c08', 'hkr16c09', 'hkr16c10', 'hkr16c11', 'hkr16c12', 'hkr16c13', 'hkr16c14', 'hkr16c15', 'hkr16c16', 'hkr16c17', 'hkr16c18', 'hkr16c19', 'hkr17c00', 'hkr17c01', 'hkr17c02', 'hkr17c03', 'hkr17c08', 'hkr17c09', 'hkr17c10', 'hkr17c11', 'hkr17c12', 'hkr17c13', 'hkr17c14', 'hkr17c15', 'hkr17c16', 'hkr17c17', 'hkr17c18', 'hkr17c19', 'hkr18c00', 'hkr18c01', 'hkr18c02', 'hkr18c03', 'hkr18c08', 'hkr18c09', 'hkr18c10', 'hkr18c11', 'hkr18c12', 'hkr18c13', 'hkr18c14', 'hkr18c15', 'hkr18c16', 'hkr18c17', 'hkr18c18', 'hkr18c19', 'hkr19c00', 'hkr19c01', 'hkr19c02', 'hkr19c03', 'hkr19c08', 'hkr19c09', 'hkr19c10', 'hkr19c11', 'hkr19c12', 'hkr19c13', 'hkr19c14', 'hkr19c15', 'hkr19c16', 'hkr19c17', 'hkr19c18', 'hkr19c19', 'hkr20c00', 'hkr20c01', 'hkr20c02', 'hkr20c03', 'hkr20c08', 'hkr20c09', 'hkr20c10', 'hkr20c11', 'hkr20c12', 'hkr20c13', 'hkr20c14', 'hkr20c15', 'hkr20c16', 'hkr20c17', 'hkr20c18', 'hkr20c19', 'hkr21c00', 'hkr21c01', 'hkr21c02', 'hkr21c03', 'hkr21c06', 'hkr21c07', 'hkr21c08', 'hkr21c09', 'hkr21c10', 'hkr21c11', 'hkr21c12', 'hkr21c13', 'hkr21c14', 'hkr21c15', 'hkr21c16', 'hkr21c17', 'hkr21c18', 'hkr21c19', 'hkr22c00', 'hkr22c01', 'hkr22c02', 'hkr22c03', 'hkr22c04', 'hkr22c06', 'hkr22c07', 'hkr22c08', 'hkr22c09', 'hkr22c10', 'hkr22c11', 'hkr22c12', 'hkr22c13', 'hkr22c14', 'hkr22c15', 'hkr22c16', 'hkr22c17', 'hkr22c18', 'hkr22c19', 'hkr23c00', 'hkr23c01', 'hkr23c02', 'hkr23c03', 'hkr23c04', 'hkr23c05', 'hkr23c06', 'hkr23c07', 'hkr23c08', 'hkr23c09', 'hkr23c10', 'hkr23c11', 'hkr23c12', 'hkr23c13', 'hkr23c14', 'hkr23c15', 'hkr23c16', 'hkr23c17', 'hkr23c18', 'hkr23c19', 'hkr24c00', 'hkr24c01', 'hkr24c02', 'hkr24c03', 'hkr24c04', 'hkr24c05', 'hkr24c06', 'hkr24c07', 'hkr24c08', 'hkr24c09', 'hkr24c10', 'hkr24c11', 'hkr24c12', 'hkr24c13', 'hkr24c14', 'hkr24c15', 'hkr24c16', 'hkr24c17', 'hkr24c18', 'hkr24c19', 'hkr25c00', 'hkr25c01', 'hkr25c02', 'hkr25c03', 'hkr25c04', 'hkr25c05', 'hkr25c06', 'hkr25c07', 'hkr25c08', 'hkr25c09', 'hkr25c10', 'hkr25c11', 'hkr25c12', 'hkr25c13', 'hkr25c14', 'hkr25c15', 'hkr25c16', 'hkr25c17', 'hkr25c18', 'hkr25c19', 'hkr26c00', 'hkr26c01', 'hkr26c02', 'hkr26c03', 'hkr26c04', 'hkr26c05', 'hkr26c06', 'hkr26c07', 'hkr26c08', 'hkr26c09', 'hkr26c10', 'hkr26c11', 'hkr26c12', 'hkr26c13', 'hkr26c14', 'hkr26c15', 'hkr26c16', 'hkr26c17', 'hkr26c18', 'hkr26c19', 'hkr27c00', 'hkr27c01', 'hkr27c02', 'hkr27c03', 'hkr27c04', 'hkr27c05', 'hkr27c06', 'hkr27c07', 'hkr27c08', 'hkr27c09', 'hkr27c10', 'hkr27c11', 'hkr27c12', 'hkr27c13', 'hkr27c14', 'hkr27c15', 'hkr27c16', 'hkr27c17', 'hkr27c18', 'hkr27c19', 'hkr28c00', 'hkr28c01', 'hkr28c02', 'hkr28c03', 'hkr28c04', 'hkr28c05', 'hkr28c06', 'hkr28c07', 'hkr28c08', 'hkr28c09', 'hkr28c10', 'hkr28c11', 'hkr28c12', 'hkr28c13', 'hkr28c14', 'hkr28c15', 'hkr28c16', 'hkr28c17', 'hkr28c18', 'hkr28c19', 'hkr29c00', 'hkr29c01', 'hkr29c02', 'hkr29c03', 'hkr29c04', 'hkr29c05', 'hkr29c06', 'hkr29c07', 'hkr29c08', 'hkr29c09', 'hkr29c10', 'hkr29c11', 'hkr29c12', 'hkr29c13', 'hkr29c14', 'hkr29c15', 'hkr29c16', 'hkr29c17', 'hkr29c18', 'hkr29c19', 'hkr30c00', 'hkr30c01', 'hkr30c02', 'hkr30c03', 'hkr30c04', 'hkr30c05', 'hkr30c06', 'hkr30c07', 'hkr30c08', 'hkr30c09', 'hkr30c10', 'hkr30c11', 'hkr30c12', 'hkr30c13', 'hkr30c14', 'hkr30c15', 'hkr30c16', 'hkr30c17', 'hkr30c18', 'hkr30c19', 'hkr31c00', 'hkr31c01', 'hkr31c02', 'hkr31c03', 'hkr31c04', 'hkr31c05', 'hkr31c06', 'hkr31c07', 'hkr31c08', 'hkr31c09', 'hkr31c10', 'hkr31c11', 'hkr31c12', 'hkr31c13', 'hkr31c14', 'hkr31c15', 'hkr31c16', 'hkr31c17', 'hkr31c18', 'hkr31c19', 'hkr32c01', 'hkr32c02', 'hkr32c03', 'hkr32c04', 'hkr32c05', 'hkr32c06', 'hkr32c07', 'hkr32c08', 'hkr32c09', 'hkr32c10', 'hkr32c11', 'hkr32c12', 'hkr32c13', 'hkr32c14', 'hkr32c15', 'hkr32c16', 'hkr32c17', 'hkr32c18', 'hkr32c19', 'hkr33c02', 'hkr33c03', 'hkr33c04', 'hkr33c05', 'hkr33c06', 'hkr33c07', 'hkr33c08', 'hkr33c09', 'hkr33c10', 'hkr33c11', 'hkr33c12', 'hkr33c13', 'hkr33c14', 'hkr33c15', 'hkr33c16', 'hkr33c17', 'hkr33c18', 'hkr33c19', 'hkr34c03', 'hkr34c04', 'hkr34c05', 'hkr34c06', 'hkr34c07', 'hkr34c08', 'hkr34c09', 'hkr34c10', 'hkr34c11', 'hkr34c12', 'hkr34c13', 'hkr34c14', 'hkr34c15', 'hkr34c16', 'hkr34c17', 'hkr34c18', 'hkr34c19', 'hkr35c04', 'hkr35c05', 'hkr35c06', 'hkr35c07', 'hkr35c08', 'hkr35c09', 'hkr35c10', 'hkr35c11', 'hkr35c12', 'hkr35c13', 'hkr35c14', 'hkr35c15', 'hkr35c16', 'hkr35c17', 'hkr35c18', 'hkr36c04', 'hkr36c05', 'hkr36c06', 'hkr36c07', 'hkr36c08', 'hkr36c09', 'hkr36c10', 'hkr36c11', 'hkr36c12', 'hkr36c13', 'hkr36c14', 'hkr36c15', 'hkr36c16', 'hkr36c17', 'hkr36c18', 'hkr37c05', 'hkr37c06', 'hkr37c07', 'hkr37c08', 'hkr37c09', 'hkr37c10', 'hkr37c11', 'hkr37c12', 'hkr37c13', 'hkr37c14', 'hkr37c15', 'hkr37c16', 'hkr37c17', 'hkr38c05', 'hkr38c06', 'hkr38c07', 'hkr38c08', 'hkr38c09', 'hkr38c10', 'hkr38c11', 'hkr38c12', 'hkr38c13', 'hkr38c14', 'hkr38c15', 'hkr38c16', 'hkr39c05', 'hkr39c06', 'hkr39c07', 'hkr39c08', 'hkr39c09', 'hkr39c10', 'hkr39c11', 'hkr39c12', 'hkr39c13', 'hkr39c14']\n",
      "\n",
      "\n",
      "2015-11-27 13:45:58.897083 finished: calculating contribution from: ['hkr00c00', 'hkr00c01', 'hkr00c02', 'hkr00c03', 'hkr00c04', 'hkr00c05', 'hkr00c06', 'hkr00c07', 'hkr00c08', 'hkr00c09', 'hkr00c10', 'hkr00c11', 'hkr00c12', 'hkr00c13', 'hkr00c14', 'hkr00c15', 'hkr00c16', 'hkr00c17', 'hkr00c18', 'hkr00c19', 'hkr01c00', 'hkr01c01', 'hkr01c02', 'hkr01c03', 'hkr01c04', 'hkr01c05', 'hkr01c06', 'hkr01c07', 'hkr01c08', 'hkr01c09', 'hkr01c10', 'hkr01c11', 'hkr01c12', 'hkr01c13', 'hkr01c14', 'hkr01c15', 'hkr01c16', 'hkr01c17', 'hkr01c18', 'hkr01c19', 'hkr02c00', 'hkr02c01', 'hkr02c02', 'hkr02c03', 'hkr02c04', 'hkr02c05', 'hkr02c06', 'hkr02c07', 'hkr02c08', 'hkr02c09', 'hkr02c10', 'hkr02c11', 'hkr02c12', 'hkr02c13', 'hkr02c14', 'hkr02c15', 'hkr02c16', 'hkr02c17', 'hkr02c18', 'hkr02c19', 'hkr03c00', 'hkr03c01', 'hkr03c02', 'hkr03c03', 'hkr03c04', 'hkr03c05', 'hkr03c06', 'hkr03c07', 'hkr03c08', 'hkr03c09', 'hkr03c10', 'hkr03c11', 'hkr03c12', 'hkr03c13', 'hkr03c14', 'hkr03c15', 'hkr03c16', 'hkr03c17', 'hkr03c18', 'hkr03c19', 'hkr04c00', 'hkr04c01', 'hkr04c02', 'hkr04c03', 'hkr04c04', 'hkr04c05', 'hkr04c06', 'hkr04c07', 'hkr04c08', 'hkr04c09', 'hkr04c10', 'hkr04c11', 'hkr04c12', 'hkr04c13', 'hkr04c14', 'hkr04c15', 'hkr04c16', 'hkr04c17', 'hkr04c18', 'hkr04c19', 'hkr05c00', 'hkr05c01', 'hkr05c02', 'hkr05c03', 'hkr05c04', 'hkr05c05', 'hkr05c06', 'hkr05c07', 'hkr05c08', 'hkr05c09', 'hkr05c10', 'hkr05c11', 'hkr05c12', 'hkr05c13', 'hkr05c14', 'hkr05c15', 'hkr05c16', 'hkr05c17', 'hkr05c18', 'hkr05c19', 'hkr06c00', 'hkr06c01', 'hkr06c02', 'hkr06c03', 'hkr06c04', 'hkr06c05', 'hkr06c06', 'hkr06c07', 'hkr06c08', 'hkr06c09', 'hkr06c10', 'hkr06c11', 'hkr06c12', 'hkr06c13', 'hkr06c14', 'hkr06c15', 'hkr06c16', 'hkr06c17', 'hkr06c18', 'hkr06c19', 'hkr07c00', 'hkr07c01', 'hkr07c02', 'hkr07c03', 'hkr07c04', 'hkr07c05', 'hkr07c06', 'hkr07c07', 'hkr07c08', 'hkr07c09', 'hkr07c10', 'hkr07c11', 'hkr07c12', 'hkr07c13', 'hkr07c14', 'hkr07c15', 'hkr07c16', 'hkr07c17', 'hkr07c18', 'hkr07c19', 'hkr08c00', 'hkr08c01', 'hkr08c02', 'hkr08c03', 'hkr08c07', 'hkr08c08', 'hkr08c09', 'hkr08c10', 'hkr08c11', 'hkr08c12', 'hkr08c13', 'hkr08c14', 'hkr08c15', 'hkr08c16', 'hkr08c17', 'hkr08c18', 'hkr08c19', 'hkr09c00', 'hkr09c01', 'hkr09c02', 'hkr09c03', 'hkr09c08', 'hkr09c09', 'hkr09c10', 'hkr09c11', 'hkr09c12', 'hkr09c13', 'hkr09c14', 'hkr09c15', 'hkr09c16', 'hkr09c17', 'hkr09c18', 'hkr09c19', 'hkr10c00', 'hkr10c01', 'hkr10c02', 'hkr10c03', 'hkr10c08', 'hkr10c09', 'hkr10c10', 'hkr10c11', 'hkr10c12', 'hkr10c13', 'hkr10c14', 'hkr10c15', 'hkr10c16', 'hkr10c17', 'hkr10c18', 'hkr10c19', 'hkr11c00', 'hkr11c01', 'hkr11c02', 'hkr11c03', 'hkr11c08', 'hkr11c09', 'hkr11c10', 'hkr11c11', 'hkr11c12', 'hkr11c13', 'hkr11c14', 'hkr11c15', 'hkr11c16', 'hkr11c17', 'hkr11c18', 'hkr11c19', 'hkr12c00', 'hkr12c01', 'hkr12c02', 'hkr12c03', 'hkr12c08', 'hkr12c09', 'hkr12c10', 'hkr12c11', 'hkr12c12', 'hkr12c13', 'hkr12c14', 'hkr12c15', 'hkr12c16', 'hkr12c17', 'hkr12c18', 'hkr12c19', 'hkr13c00', 'hkr13c01', 'hkr13c02', 'hkr13c03', 'hkr13c08', 'hkr13c09', 'hkr13c10', 'hkr13c11', 'hkr13c12', 'hkr13c13', 'hkr13c14', 'hkr13c15', 'hkr13c16', 'hkr13c17', 'hkr13c18', 'hkr13c19', 'hkr14c00', 'hkr14c01', 'hkr14c02', 'hkr14c03', 'hkr14c08', 'hkr14c09', 'hkr14c10', 'hkr14c11', 'hkr14c12', 'hkr14c13', 'hkr14c14', 'hkr14c15', 'hkr14c16', 'hkr14c17', 'hkr14c18', 'hkr14c19', 'hkr15c00', 'hkr15c01', 'hkr15c02', 'hkr15c03', 'hkr15c08', 'hkr15c09', 'hkr15c10', 'hkr15c11', 'hkr15c12', 'hkr15c13', 'hkr15c14', 'hkr15c15', 'hkr15c16', 'hkr15c17', 'hkr15c18', 'hkr15c19', 'hkr16c00', 'hkr16c01', 'hkr16c02', 'hkr16c03', 'hkr16c08', 'hkr16c09', 'hkr16c10', 'hkr16c11', 'hkr16c12', 'hkr16c13', 'hkr16c14', 'hkr16c15', 'hkr16c16', 'hkr16c17', 'hkr16c18', 'hkr16c19', 'hkr17c00', 'hkr17c01', 'hkr17c02', 'hkr17c03', 'hkr17c08', 'hkr17c09', 'hkr17c10', 'hkr17c11', 'hkr17c12', 'hkr17c13', 'hkr17c14', 'hkr17c15', 'hkr17c16', 'hkr17c17', 'hkr17c18', 'hkr17c19', 'hkr18c00', 'hkr18c01', 'hkr18c02', 'hkr18c03', 'hkr18c08', 'hkr18c09', 'hkr18c10', 'hkr18c11', 'hkr18c12', 'hkr18c13', 'hkr18c14', 'hkr18c15', 'hkr18c16', 'hkr18c17', 'hkr18c18', 'hkr18c19', 'hkr19c00', 'hkr19c01', 'hkr19c02', 'hkr19c03', 'hkr19c08', 'hkr19c09', 'hkr19c10', 'hkr19c11', 'hkr19c12', 'hkr19c13', 'hkr19c14', 'hkr19c15', 'hkr19c16', 'hkr19c17', 'hkr19c18', 'hkr19c19', 'hkr20c00', 'hkr20c01', 'hkr20c02', 'hkr20c03', 'hkr20c08', 'hkr20c09', 'hkr20c10', 'hkr20c11', 'hkr20c12', 'hkr20c13', 'hkr20c14', 'hkr20c15', 'hkr20c16', 'hkr20c17', 'hkr20c18', 'hkr20c19', 'hkr21c00', 'hkr21c01', 'hkr21c02', 'hkr21c03', 'hkr21c06', 'hkr21c07', 'hkr21c08', 'hkr21c09', 'hkr21c10', 'hkr21c11', 'hkr21c12', 'hkr21c13', 'hkr21c14', 'hkr21c15', 'hkr21c16', 'hkr21c17', 'hkr21c18', 'hkr21c19', 'hkr22c00', 'hkr22c01', 'hkr22c02', 'hkr22c03', 'hkr22c04', 'hkr22c06', 'hkr22c07', 'hkr22c08', 'hkr22c09', 'hkr22c10', 'hkr22c11', 'hkr22c12', 'hkr22c13', 'hkr22c14', 'hkr22c15', 'hkr22c16', 'hkr22c17', 'hkr22c18', 'hkr22c19', 'hkr23c00', 'hkr23c01', 'hkr23c02', 'hkr23c03', 'hkr23c04', 'hkr23c05', 'hkr23c06', 'hkr23c07', 'hkr23c08', 'hkr23c09', 'hkr23c10', 'hkr23c11', 'hkr23c12', 'hkr23c13', 'hkr23c14', 'hkr23c15', 'hkr23c16', 'hkr23c17', 'hkr23c18', 'hkr23c19', 'hkr24c00', 'hkr24c01', 'hkr24c02', 'hkr24c03', 'hkr24c04', 'hkr24c05', 'hkr24c06', 'hkr24c07', 'hkr24c08', 'hkr24c09', 'hkr24c10', 'hkr24c11', 'hkr24c12', 'hkr24c13', 'hkr24c14', 'hkr24c15', 'hkr24c16', 'hkr24c17', 'hkr24c18', 'hkr24c19', 'hkr25c00', 'hkr25c01', 'hkr25c02', 'hkr25c03', 'hkr25c04', 'hkr25c05', 'hkr25c06', 'hkr25c07', 'hkr25c08', 'hkr25c09', 'hkr25c10', 'hkr25c11', 'hkr25c12', 'hkr25c13', 'hkr25c14', 'hkr25c15', 'hkr25c16', 'hkr25c17', 'hkr25c18', 'hkr25c19', 'hkr26c00', 'hkr26c01', 'hkr26c02', 'hkr26c03', 'hkr26c04', 'hkr26c05', 'hkr26c06', 'hkr26c07', 'hkr26c08', 'hkr26c09', 'hkr26c10', 'hkr26c11', 'hkr26c12', 'hkr26c13', 'hkr26c14', 'hkr26c15', 'hkr26c16', 'hkr26c17', 'hkr26c18', 'hkr26c19', 'hkr27c00', 'hkr27c01', 'hkr27c02', 'hkr27c03', 'hkr27c04', 'hkr27c05', 'hkr27c06', 'hkr27c07', 'hkr27c08', 'hkr27c09', 'hkr27c10', 'hkr27c11', 'hkr27c12', 'hkr27c13', 'hkr27c14', 'hkr27c15', 'hkr27c16', 'hkr27c17', 'hkr27c18', 'hkr27c19', 'hkr28c00', 'hkr28c01', 'hkr28c02', 'hkr28c03', 'hkr28c04', 'hkr28c05', 'hkr28c06', 'hkr28c07', 'hkr28c08', 'hkr28c09', 'hkr28c10', 'hkr28c11', 'hkr28c12', 'hkr28c13', 'hkr28c14', 'hkr28c15', 'hkr28c16', 'hkr28c17', 'hkr28c18', 'hkr28c19', 'hkr29c00', 'hkr29c01', 'hkr29c02', 'hkr29c03', 'hkr29c04', 'hkr29c05', 'hkr29c06', 'hkr29c07', 'hkr29c08', 'hkr29c09', 'hkr29c10', 'hkr29c11', 'hkr29c12', 'hkr29c13', 'hkr29c14', 'hkr29c15', 'hkr29c16', 'hkr29c17', 'hkr29c18', 'hkr29c19', 'hkr30c00', 'hkr30c01', 'hkr30c02', 'hkr30c03', 'hkr30c04', 'hkr30c05', 'hkr30c06', 'hkr30c07', 'hkr30c08', 'hkr30c09', 'hkr30c10', 'hkr30c11', 'hkr30c12', 'hkr30c13', 'hkr30c14', 'hkr30c15', 'hkr30c16', 'hkr30c17', 'hkr30c18', 'hkr30c19', 'hkr31c00', 'hkr31c01', 'hkr31c02', 'hkr31c03', 'hkr31c04', 'hkr31c05', 'hkr31c06', 'hkr31c07', 'hkr31c08', 'hkr31c09', 'hkr31c10', 'hkr31c11', 'hkr31c12', 'hkr31c13', 'hkr31c14', 'hkr31c15', 'hkr31c16', 'hkr31c17', 'hkr31c18', 'hkr31c19', 'hkr32c01', 'hkr32c02', 'hkr32c03', 'hkr32c04', 'hkr32c05', 'hkr32c06', 'hkr32c07', 'hkr32c08', 'hkr32c09', 'hkr32c10', 'hkr32c11', 'hkr32c12', 'hkr32c13', 'hkr32c14', 'hkr32c15', 'hkr32c16', 'hkr32c17', 'hkr32c18', 'hkr32c19', 'hkr33c02', 'hkr33c03', 'hkr33c04', 'hkr33c05', 'hkr33c06', 'hkr33c07', 'hkr33c08', 'hkr33c09', 'hkr33c10', 'hkr33c11', 'hkr33c12', 'hkr33c13', 'hkr33c14', 'hkr33c15', 'hkr33c16', 'hkr33c17', 'hkr33c18', 'hkr33c19', 'hkr34c03', 'hkr34c04', 'hkr34c05', 'hkr34c06', 'hkr34c07', 'hkr34c08', 'hkr34c09', 'hkr34c10', 'hkr34c11', 'hkr34c12', 'hkr34c13', 'hkr34c14', 'hkr34c15', 'hkr34c16', 'hkr34c17', 'hkr34c18', 'hkr34c19', 'hkr35c04', 'hkr35c05', 'hkr35c06', 'hkr35c07', 'hkr35c08', 'hkr35c09', 'hkr35c10', 'hkr35c11', 'hkr35c12', 'hkr35c13', 'hkr35c14', 'hkr35c15', 'hkr35c16', 'hkr35c17', 'hkr35c18', 'hkr36c04', 'hkr36c05', 'hkr36c06', 'hkr36c07', 'hkr36c08', 'hkr36c09', 'hkr36c10', 'hkr36c11', 'hkr36c12', 'hkr36c13', 'hkr36c14', 'hkr36c15', 'hkr36c16', 'hkr36c17', 'hkr36c18', 'hkr37c05', 'hkr37c06', 'hkr37c07', 'hkr37c08', 'hkr37c09', 'hkr37c10', 'hkr37c11', 'hkr37c12', 'hkr37c13', 'hkr37c14', 'hkr37c15', 'hkr37c16', 'hkr37c17', 'hkr38c05', 'hkr38c06', 'hkr38c07', 'hkr38c08', 'hkr38c09', 'hkr38c10', 'hkr38c11', 'hkr38c12', 'hkr38c13', 'hkr38c14', 'hkr38c15', 'hkr38c16', 'hkr39c05', 'hkr39c06', 'hkr39c07', 'hkr39c08', 'hkr39c09', 'hkr39c10', 'hkr39c11', 'hkr39c12', 'hkr39c13', 'hkr39c14']\n",
      " took: 0:00:00.416457\n",
      "\n",
      "2015-11-27 13:45:58.898853 finished: calculating contribution from parameters took: 0:00:08.662162\n",
      "\n"
     ]
    }
   ],
   "source": [
    "df = la.get_contribution_dataframe_groups()"
   ]
  },
  {
   "cell_type": "code",
   "execution_count": 142,
   "metadata": {
    "collapsed": false
   },
   "outputs": [
    {
     "data": {
      "text/plain": [
       "<matplotlib.axes._subplots.AxesSubplot at 0x110d735d0>"
      ]
     },
     "execution_count": 142,
     "metadata": {},
     "output_type": "execute_result"
    },
    {
     "data": {
      "image/png": "[encoded data removed]",
      "text/plain": [
       "<matplotlib.figure.Figure at 0x110d65fd0>"
      ]
     },
     "metadata": {},
     "output_type": "display_data"
    }
   ],
   "source": [
    "#select out the posterior column\n",
    "df_reduce = df.xs(\"post\",axis=1,level=1)\n",
    "#calc the percent reduction in posterior\n",
    "df_percent = 100.0 * (df_reduce.loc[\"base\",:]-df_reduce)/df_reduce.loc[\"base\",:]\n",
    "#drop the base column\n",
    "df_percent = df_percent.iloc[1:,:]\n",
    "#transpose and plot\n",
    "df_percent.T.plot(kind=\"bar\")"
   ]
  },
  {
   "cell_type": "markdown",
   "metadata": {},
   "source": [
    "We see some interesting results here.  The sw-gw flux during calibration (sw_gw_0) is influenced by both recharge and hk uncertainty, but the forecast period sw-gw flux is influenced most by forecast period recharge uncertainty.  unfortunately, model calibration does not tell us about forecast period forcing, so calibration doesn't help with this forecast.  For the water level forecasts (```or28c05_0 and or28c05_1```), the results are similar: the forecast of water level at the end of the calibration period benefits most from hk knowledge, while the forecast period water level is most by recharge and storage.  Let's do this same analysis, but now group the parameters differently:"
   ]
  },
  {
   "cell_type": "code",
   "execution_count": 143,
   "metadata": {
    "collapsed": false,
    "scrolled": false
   },
   "outputs": [
    {
     "name": "stdout",
     "output_type": "stream",
     "text": [
      "2015-11-27 13:49:54.944258 starting: calculating contribution from parameters\n",
      "\n",
      "2015-11-27 13:49:54.944369 starting: calculating contribution from: ['rch_1', 'wf1_1', 'wf2_1', 'wf3_1', 'wf4_1', 'wf5_1', 'wf6_1']\n",
      "\n",
      "\n",
      "2015-11-27 13:49:57.171676 finished: calculating contribution from: ['rch_1', 'wf1_1', 'wf2_1', 'wf3_1', 'wf4_1', 'wf5_1', 'wf6_1']\n",
      " took: 0:00:02.227307\n",
      "\n",
      "2015-11-27 13:49:57.172116 starting: calculating contribution from: ['rcond00', 'rcond01', 'rcond02', 'rcond03', 'rcond04', 'rcond05', 'rcond06', 'rcond07', 'rcond08', 'rcond09', 'rcond10', 'rcond11', 'rcond12', 'rcond13', 'rcond14', 'rcond15', 'rcond16', 'rcond17', 'rcond18', 'rcond19', 'rcond20', 'rcond21', 'rcond22', 'rcond23', 'rcond24', 'rcond25', 'rcond26', 'rcond27', 'rcond28', 'rcond29', 'rcond30', 'rcond31', 'rcond32', 'rcond33', 'rcond34', 'rcond35', 'rcond36', 'rcond37', 'rcond38', 'rcond39', 'ss', 'sy', 'hkr00c00', 'hkr00c01', 'hkr00c02', 'hkr00c03', 'hkr00c04', 'hkr00c05', 'hkr00c06', 'hkr00c07', 'hkr00c08', 'hkr00c09', 'hkr00c10', 'hkr00c11', 'hkr00c12', 'hkr00c13', 'hkr00c14', 'hkr00c15', 'hkr00c16', 'hkr00c17', 'hkr00c18', 'hkr00c19', 'hkr01c00', 'hkr01c01', 'hkr01c02', 'hkr01c03', 'hkr01c04', 'hkr01c05', 'hkr01c06', 'hkr01c07', 'hkr01c08', 'hkr01c09', 'hkr01c10', 'hkr01c11', 'hkr01c12', 'hkr01c13', 'hkr01c14', 'hkr01c15', 'hkr01c16', 'hkr01c17', 'hkr01c18', 'hkr01c19', 'hkr02c00', 'hkr02c01', 'hkr02c02', 'hkr02c03', 'hkr02c04', 'hkr02c05', 'hkr02c06', 'hkr02c07', 'hkr02c08', 'hkr02c09', 'hkr02c10', 'hkr02c11', 'hkr02c12', 'hkr02c13', 'hkr02c14', 'hkr02c15', 'hkr02c16', 'hkr02c17', 'hkr02c18', 'hkr02c19', 'hkr03c00', 'hkr03c01', 'hkr03c02', 'hkr03c03', 'hkr03c04', 'hkr03c05', 'hkr03c06', 'hkr03c07', 'hkr03c08', 'hkr03c09', 'hkr03c10', 'hkr03c11', 'hkr03c12', 'hkr03c13', 'hkr03c14', 'hkr03c15', 'hkr03c16', 'hkr03c17', 'hkr03c18', 'hkr03c19', 'hkr04c00', 'hkr04c01', 'hkr04c02', 'hkr04c03', 'hkr04c04', 'hkr04c05', 'hkr04c06', 'hkr04c07', 'hkr04c08', 'hkr04c09', 'hkr04c10', 'hkr04c11', 'hkr04c12', 'hkr04c13', 'hkr04c14', 'hkr04c15', 'hkr04c16', 'hkr04c17', 'hkr04c18', 'hkr04c19', 'hkr05c00', 'hkr05c01', 'hkr05c02', 'hkr05c03', 'hkr05c04', 'hkr05c05', 'hkr05c06', 'hkr05c07', 'hkr05c08', 'hkr05c09', 'hkr05c10', 'hkr05c11', 'hkr05c12', 'hkr05c13', 'hkr05c14', 'hkr05c15', 'hkr05c16', 'hkr05c17', 'hkr05c18', 'hkr05c19', 'hkr06c00', 'hkr06c01', 'hkr06c02', 'hkr06c03', 'hkr06c04', 'hkr06c05', 'hkr06c06', 'hkr06c07', 'hkr06c08', 'hkr06c09', 'hkr06c10', 'hkr06c11', 'hkr06c12', 'hkr06c13', 'hkr06c14', 'hkr06c15', 'hkr06c16', 'hkr06c17', 'hkr06c18', 'hkr06c19', 'hkr07c00', 'hkr07c01', 'hkr07c02', 'hkr07c03', 'hkr07c04', 'hkr07c05', 'hkr07c06', 'hkr07c07', 'hkr07c08', 'hkr07c09', 'hkr07c10', 'hkr07c11', 'hkr07c12', 'hkr07c13', 'hkr07c14', 'hkr07c15', 'hkr07c16', 'hkr07c17', 'hkr07c18', 'hkr07c19', 'hkr08c00', 'hkr08c01', 'hkr08c02', 'hkr08c03', 'hkr08c07', 'hkr08c08', 'hkr08c09', 'hkr08c10', 'hkr08c11', 'hkr08c12', 'hkr08c13', 'hkr08c14', 'hkr08c15', 'hkr08c16', 'hkr08c17', 'hkr08c18', 'hkr08c19', 'hkr09c00', 'hkr09c01', 'hkr09c02', 'hkr09c03', 'hkr09c08', 'hkr09c09', 'hkr09c10', 'hkr09c11', 'hkr09c12', 'hkr09c13', 'hkr09c14', 'hkr09c15', 'hkr09c16', 'hkr09c17', 'hkr09c18', 'hkr09c19', 'hkr10c00', 'hkr10c01', 'hkr10c02', 'hkr10c03', 'hkr10c08', 'hkr10c09', 'hkr10c10', 'hkr10c11', 'hkr10c12', 'hkr10c13', 'hkr10c14', 'hkr10c15', 'hkr10c16', 'hkr10c17', 'hkr10c18', 'hkr10c19', 'hkr11c00', 'hkr11c01', 'hkr11c02', 'hkr11c03', 'hkr11c08', 'hkr11c09', 'hkr11c10', 'hkr11c11', 'hkr11c12', 'hkr11c13', 'hkr11c14', 'hkr11c15', 'hkr11c16', 'hkr11c17', 'hkr11c18', 'hkr11c19', 'hkr12c00', 'hkr12c01', 'hkr12c02', 'hkr12c03', 'hkr12c08', 'hkr12c09', 'hkr12c10', 'hkr12c11', 'hkr12c12', 'hkr12c13', 'hkr12c14', 'hkr12c15', 'hkr12c16', 'hkr12c17', 'hkr12c18', 'hkr12c19', 'hkr13c00', 'hkr13c01', 'hkr13c02', 'hkr13c03', 'hkr13c08', 'hkr13c09', 'hkr13c10', 'hkr13c11', 'hkr13c12', 'hkr13c13', 'hkr13c14', 'hkr13c15', 'hkr13c16', 'hkr13c17', 'hkr13c18', 'hkr13c19', 'hkr14c00', 'hkr14c01', 'hkr14c02', 'hkr14c03', 'hkr14c08', 'hkr14c09', 'hkr14c10', 'hkr14c11', 'hkr14c12', 'hkr14c13', 'hkr14c14', 'hkr14c15', 'hkr14c16', 'hkr14c17', 'hkr14c18', 'hkr14c19', 'hkr15c00', 'hkr15c01', 'hkr15c02', 'hkr15c03', 'hkr15c08', 'hkr15c09', 'hkr15c10', 'hkr15c11', 'hkr15c12', 'hkr15c13', 'hkr15c14', 'hkr15c15', 'hkr15c16', 'hkr15c17', 'hkr15c18', 'hkr15c19', 'hkr16c00', 'hkr16c01', 'hkr16c02', 'hkr16c03', 'hkr16c08', 'hkr16c09', 'hkr16c10', 'hkr16c11', 'hkr16c12', 'hkr16c13', 'hkr16c14', 'hkr16c15', 'hkr16c16', 'hkr16c17', 'hkr16c18', 'hkr16c19', 'hkr17c00', 'hkr17c01', 'hkr17c02', 'hkr17c03', 'hkr17c08', 'hkr17c09', 'hkr17c10', 'hkr17c11', 'hkr17c12', 'hkr17c13', 'hkr17c14', 'hkr17c15', 'hkr17c16', 'hkr17c17', 'hkr17c18', 'hkr17c19', 'hkr18c00', 'hkr18c01', 'hkr18c02', 'hkr18c03', 'hkr18c08', 'hkr18c09', 'hkr18c10', 'hkr18c11', 'hkr18c12', 'hkr18c13', 'hkr18c14', 'hkr18c15', 'hkr18c16', 'hkr18c17', 'hkr18c18', 'hkr18c19', 'hkr19c00', 'hkr19c01', 'hkr19c02', 'hkr19c03', 'hkr19c08', 'hkr19c09', 'hkr19c10', 'hkr19c11', 'hkr19c12', 'hkr19c13', 'hkr19c14', 'hkr19c15', 'hkr19c16', 'hkr19c17', 'hkr19c18', 'hkr19c19', 'hkr20c00', 'hkr20c01', 'hkr20c02', 'hkr20c03', 'hkr20c08', 'hkr20c09', 'hkr20c10', 'hkr20c11', 'hkr20c12', 'hkr20c13', 'hkr20c14', 'hkr20c15', 'hkr20c16', 'hkr20c17', 'hkr20c18', 'hkr20c19', 'hkr21c00', 'hkr21c01', 'hkr21c02', 'hkr21c03', 'hkr21c06', 'hkr21c07', 'hkr21c08', 'hkr21c09', 'hkr21c10', 'hkr21c11', 'hkr21c12', 'hkr21c13', 'hkr21c14', 'hkr21c15', 'hkr21c16', 'hkr21c17', 'hkr21c18', 'hkr21c19', 'hkr22c00', 'hkr22c01', 'hkr22c02', 'hkr22c03', 'hkr22c04', 'hkr22c06', 'hkr22c07', 'hkr22c08', 'hkr22c09', 'hkr22c10', 'hkr22c11', 'hkr22c12', 'hkr22c13', 'hkr22c14', 'hkr22c15', 'hkr22c16', 'hkr22c17', 'hkr22c18', 'hkr22c19', 'hkr23c00', 'hkr23c01', 'hkr23c02', 'hkr23c03', 'hkr23c04', 'hkr23c05', 'hkr23c06', 'hkr23c07', 'hkr23c08', 'hkr23c09', 'hkr23c10', 'hkr23c11', 'hkr23c12', 'hkr23c13', 'hkr23c14', 'hkr23c15', 'hkr23c16', 'hkr23c17', 'hkr23c18', 'hkr23c19', 'hkr24c00', 'hkr24c01', 'hkr24c02', 'hkr24c03', 'hkr24c04', 'hkr24c05', 'hkr24c06', 'hkr24c07', 'hkr24c08', 'hkr24c09', 'hkr24c10', 'hkr24c11', 'hkr24c12', 'hkr24c13', 'hkr24c14', 'hkr24c15', 'hkr24c16', 'hkr24c17', 'hkr24c18', 'hkr24c19', 'hkr25c00', 'hkr25c01', 'hkr25c02', 'hkr25c03', 'hkr25c04', 'hkr25c05', 'hkr25c06', 'hkr25c07', 'hkr25c08', 'hkr25c09', 'hkr25c10', 'hkr25c11', 'hkr25c12', 'hkr25c13', 'hkr25c14', 'hkr25c15', 'hkr25c16', 'hkr25c17', 'hkr25c18', 'hkr25c19', 'hkr26c00', 'hkr26c01', 'hkr26c02', 'hkr26c03', 'hkr26c04', 'hkr26c05', 'hkr26c06', 'hkr26c07', 'hkr26c08', 'hkr26c09', 'hkr26c10', 'hkr26c11', 'hkr26c12', 'hkr26c13', 'hkr26c14', 'hkr26c15', 'hkr26c16', 'hkr26c17', 'hkr26c18', 'hkr26c19', 'hkr27c00', 'hkr27c01', 'hkr27c02', 'hkr27c03', 'hkr27c04', 'hkr27c05', 'hkr27c06', 'hkr27c07', 'hkr27c08', 'hkr27c09', 'hkr27c10', 'hkr27c11', 'hkr27c12', 'hkr27c13', 'hkr27c14', 'hkr27c15', 'hkr27c16', 'hkr27c17', 'hkr27c18', 'hkr27c19', 'hkr28c00', 'hkr28c01', 'hkr28c02', 'hkr28c03', 'hkr28c04', 'hkr28c05', 'hkr28c06', 'hkr28c07', 'hkr28c08', 'hkr28c09', 'hkr28c10', 'hkr28c11', 'hkr28c12', 'hkr28c13', 'hkr28c14', 'hkr28c15', 'hkr28c16', 'hkr28c17', 'hkr28c18', 'hkr28c19', 'hkr29c00', 'hkr29c01', 'hkr29c02', 'hkr29c03', 'hkr29c04', 'hkr29c05', 'hkr29c06', 'hkr29c07', 'hkr29c08', 'hkr29c09', 'hkr29c10', 'hkr29c11', 'hkr29c12', 'hkr29c13', 'hkr29c14', 'hkr29c15', 'hkr29c16', 'hkr29c17', 'hkr29c18', 'hkr29c19', 'hkr30c00', 'hkr30c01', 'hkr30c02', 'hkr30c03', 'hkr30c04', 'hkr30c05', 'hkr30c06', 'hkr30c07', 'hkr30c08', 'hkr30c09', 'hkr30c10', 'hkr30c11', 'hkr30c12', 'hkr30c13', 'hkr30c14', 'hkr30c15', 'hkr30c16', 'hkr30c17', 'hkr30c18', 'hkr30c19', 'hkr31c00', 'hkr31c01', 'hkr31c02', 'hkr31c03', 'hkr31c04', 'hkr31c05', 'hkr31c06', 'hkr31c07', 'hkr31c08', 'hkr31c09', 'hkr31c10', 'hkr31c11', 'hkr31c12', 'hkr31c13', 'hkr31c14', 'hkr31c15', 'hkr31c16', 'hkr31c17', 'hkr31c18', 'hkr31c19', 'hkr32c01', 'hkr32c02', 'hkr32c03', 'hkr32c04', 'hkr32c05', 'hkr32c06', 'hkr32c07', 'hkr32c08', 'hkr32c09', 'hkr32c10', 'hkr32c11', 'hkr32c12', 'hkr32c13', 'hkr32c14', 'hkr32c15', 'hkr32c16', 'hkr32c17', 'hkr32c18', 'hkr32c19', 'hkr33c02', 'hkr33c03', 'hkr33c04', 'hkr33c05', 'hkr33c06', 'hkr33c07', 'hkr33c08', 'hkr33c09', 'hkr33c10', 'hkr33c11', 'hkr33c12', 'hkr33c13', 'hkr33c14', 'hkr33c15', 'hkr33c16', 'hkr33c17', 'hkr33c18', 'hkr33c19', 'hkr34c03', 'hkr34c04', 'hkr34c05', 'hkr34c06', 'hkr34c07', 'hkr34c08', 'hkr34c09', 'hkr34c10', 'hkr34c11', 'hkr34c12', 'hkr34c13', 'hkr34c14', 'hkr34c15', 'hkr34c16', 'hkr34c17', 'hkr34c18', 'hkr34c19', 'hkr35c04', 'hkr35c05', 'hkr35c06', 'hkr35c07', 'hkr35c08', 'hkr35c09', 'hkr35c10', 'hkr35c11', 'hkr35c12', 'hkr35c13', 'hkr35c14', 'hkr35c15', 'hkr35c16', 'hkr35c17', 'hkr35c18', 'hkr36c04', 'hkr36c05', 'hkr36c06', 'hkr36c07', 'hkr36c08', 'hkr36c09', 'hkr36c10', 'hkr36c11', 'hkr36c12', 'hkr36c13', 'hkr36c14', 'hkr36c15', 'hkr36c16', 'hkr36c17', 'hkr36c18', 'hkr37c05', 'hkr37c06', 'hkr37c07', 'hkr37c08', 'hkr37c09', 'hkr37c10', 'hkr37c11', 'hkr37c12', 'hkr37c13', 'hkr37c14', 'hkr37c15', 'hkr37c16', 'hkr37c17', 'hkr38c05', 'hkr38c06', 'hkr38c07', 'hkr38c08', 'hkr38c09', 'hkr38c10', 'hkr38c11', 'hkr38c12', 'hkr38c13', 'hkr38c14', 'hkr38c15', 'hkr38c16', 'hkr39c05', 'hkr39c06', 'hkr39c07', 'hkr39c08', 'hkr39c09', 'hkr39c10', 'hkr39c11', 'hkr39c12', 'hkr39c13', 'hkr39c14']\n",
      "\n",
      "\n",
      "2015-11-27 13:49:57.640370 finished: calculating contribution from: ['rcond00', 'rcond01', 'rcond02', 'rcond03', 'rcond04', 'rcond05', 'rcond06', 'rcond07', 'rcond08', 'rcond09', 'rcond10', 'rcond11', 'rcond12', 'rcond13', 'rcond14', 'rcond15', 'rcond16', 'rcond17', 'rcond18', 'rcond19', 'rcond20', 'rcond21', 'rcond22', 'rcond23', 'rcond24', 'rcond25', 'rcond26', 'rcond27', 'rcond28', 'rcond29', 'rcond30', 'rcond31', 'rcond32', 'rcond33', 'rcond34', 'rcond35', 'rcond36', 'rcond37', 'rcond38', 'rcond39', 'ss', 'sy', 'hkr00c00', 'hkr00c01', 'hkr00c02', 'hkr00c03', 'hkr00c04', 'hkr00c05', 'hkr00c06', 'hkr00c07', 'hkr00c08', 'hkr00c09', 'hkr00c10', 'hkr00c11', 'hkr00c12', 'hkr00c13', 'hkr00c14', 'hkr00c15', 'hkr00c16', 'hkr00c17', 'hkr00c18', 'hkr00c19', 'hkr01c00', 'hkr01c01', 'hkr01c02', 'hkr01c03', 'hkr01c04', 'hkr01c05', 'hkr01c06', 'hkr01c07', 'hkr01c08', 'hkr01c09', 'hkr01c10', 'hkr01c11', 'hkr01c12', 'hkr01c13', 'hkr01c14', 'hkr01c15', 'hkr01c16', 'hkr01c17', 'hkr01c18', 'hkr01c19', 'hkr02c00', 'hkr02c01', 'hkr02c02', 'hkr02c03', 'hkr02c04', 'hkr02c05', 'hkr02c06', 'hkr02c07', 'hkr02c08', 'hkr02c09', 'hkr02c10', 'hkr02c11', 'hkr02c12', 'hkr02c13', 'hkr02c14', 'hkr02c15', 'hkr02c16', 'hkr02c17', 'hkr02c18', 'hkr02c19', 'hkr03c00', 'hkr03c01', 'hkr03c02', 'hkr03c03', 'hkr03c04', 'hkr03c05', 'hkr03c06', 'hkr03c07', 'hkr03c08', 'hkr03c09', 'hkr03c10', 'hkr03c11', 'hkr03c12', 'hkr03c13', 'hkr03c14', 'hkr03c15', 'hkr03c16', 'hkr03c17', 'hkr03c18', 'hkr03c19', 'hkr04c00', 'hkr04c01', 'hkr04c02', 'hkr04c03', 'hkr04c04', 'hkr04c05', 'hkr04c06', 'hkr04c07', 'hkr04c08', 'hkr04c09', 'hkr04c10', 'hkr04c11', 'hkr04c12', 'hkr04c13', 'hkr04c14', 'hkr04c15', 'hkr04c16', 'hkr04c17', 'hkr04c18', 'hkr04c19', 'hkr05c00', 'hkr05c01', 'hkr05c02', 'hkr05c03', 'hkr05c04', 'hkr05c05', 'hkr05c06', 'hkr05c07', 'hkr05c08', 'hkr05c09', 'hkr05c10', 'hkr05c11', 'hkr05c12', 'hkr05c13', 'hkr05c14', 'hkr05c15', 'hkr05c16', 'hkr05c17', 'hkr05c18', 'hkr05c19', 'hkr06c00', 'hkr06c01', 'hkr06c02', 'hkr06c03', 'hkr06c04', 'hkr06c05', 'hkr06c06', 'hkr06c07', 'hkr06c08', 'hkr06c09', 'hkr06c10', 'hkr06c11', 'hkr06c12', 'hkr06c13', 'hkr06c14', 'hkr06c15', 'hkr06c16', 'hkr06c17', 'hkr06c18', 'hkr06c19', 'hkr07c00', 'hkr07c01', 'hkr07c02', 'hkr07c03', 'hkr07c04', 'hkr07c05', 'hkr07c06', 'hkr07c07', 'hkr07c08', 'hkr07c09', 'hkr07c10', 'hkr07c11', 'hkr07c12', 'hkr07c13', 'hkr07c14', 'hkr07c15', 'hkr07c16', 'hkr07c17', 'hkr07c18', 'hkr07c19', 'hkr08c00', 'hkr08c01', 'hkr08c02', 'hkr08c03', 'hkr08c07', 'hkr08c08', 'hkr08c09', 'hkr08c10', 'hkr08c11', 'hkr08c12', 'hkr08c13', 'hkr08c14', 'hkr08c15', 'hkr08c16', 'hkr08c17', 'hkr08c18', 'hkr08c19', 'hkr09c00', 'hkr09c01', 'hkr09c02', 'hkr09c03', 'hkr09c08', 'hkr09c09', 'hkr09c10', 'hkr09c11', 'hkr09c12', 'hkr09c13', 'hkr09c14', 'hkr09c15', 'hkr09c16', 'hkr09c17', 'hkr09c18', 'hkr09c19', 'hkr10c00', 'hkr10c01', 'hkr10c02', 'hkr10c03', 'hkr10c08', 'hkr10c09', 'hkr10c10', 'hkr10c11', 'hkr10c12', 'hkr10c13', 'hkr10c14', 'hkr10c15', 'hkr10c16', 'hkr10c17', 'hkr10c18', 'hkr10c19', 'hkr11c00', 'hkr11c01', 'hkr11c02', 'hkr11c03', 'hkr11c08', 'hkr11c09', 'hkr11c10', 'hkr11c11', 'hkr11c12', 'hkr11c13', 'hkr11c14', 'hkr11c15', 'hkr11c16', 'hkr11c17', 'hkr11c18', 'hkr11c19', 'hkr12c00', 'hkr12c01', 'hkr12c02', 'hkr12c03', 'hkr12c08', 'hkr12c09', 'hkr12c10', 'hkr12c11', 'hkr12c12', 'hkr12c13', 'hkr12c14', 'hkr12c15', 'hkr12c16', 'hkr12c17', 'hkr12c18', 'hkr12c19', 'hkr13c00', 'hkr13c01', 'hkr13c02', 'hkr13c03', 'hkr13c08', 'hkr13c09', 'hkr13c10', 'hkr13c11', 'hkr13c12', 'hkr13c13', 'hkr13c14', 'hkr13c15', 'hkr13c16', 'hkr13c17', 'hkr13c18', 'hkr13c19', 'hkr14c00', 'hkr14c01', 'hkr14c02', 'hkr14c03', 'hkr14c08', 'hkr14c09', 'hkr14c10', 'hkr14c11', 'hkr14c12', 'hkr14c13', 'hkr14c14', 'hkr14c15', 'hkr14c16', 'hkr14c17', 'hkr14c18', 'hkr14c19', 'hkr15c00', 'hkr15c01', 'hkr15c02', 'hkr15c03', 'hkr15c08', 'hkr15c09', 'hkr15c10', 'hkr15c11', 'hkr15c12', 'hkr15c13', 'hkr15c14', 'hkr15c15', 'hkr15c16', 'hkr15c17', 'hkr15c18', 'hkr15c19', 'hkr16c00', 'hkr16c01', 'hkr16c02', 'hkr16c03', 'hkr16c08', 'hkr16c09', 'hkr16c10', 'hkr16c11', 'hkr16c12', 'hkr16c13', 'hkr16c14', 'hkr16c15', 'hkr16c16', 'hkr16c17', 'hkr16c18', 'hkr16c19', 'hkr17c00', 'hkr17c01', 'hkr17c02', 'hkr17c03', 'hkr17c08', 'hkr17c09', 'hkr17c10', 'hkr17c11', 'hkr17c12', 'hkr17c13', 'hkr17c14', 'hkr17c15', 'hkr17c16', 'hkr17c17', 'hkr17c18', 'hkr17c19', 'hkr18c00', 'hkr18c01', 'hkr18c02', 'hkr18c03', 'hkr18c08', 'hkr18c09', 'hkr18c10', 'hkr18c11', 'hkr18c12', 'hkr18c13', 'hkr18c14', 'hkr18c15', 'hkr18c16', 'hkr18c17', 'hkr18c18', 'hkr18c19', 'hkr19c00', 'hkr19c01', 'hkr19c02', 'hkr19c03', 'hkr19c08', 'hkr19c09', 'hkr19c10', 'hkr19c11', 'hkr19c12', 'hkr19c13', 'hkr19c14', 'hkr19c15', 'hkr19c16', 'hkr19c17', 'hkr19c18', 'hkr19c19', 'hkr20c00', 'hkr20c01', 'hkr20c02', 'hkr20c03', 'hkr20c08', 'hkr20c09', 'hkr20c10', 'hkr20c11', 'hkr20c12', 'hkr20c13', 'hkr20c14', 'hkr20c15', 'hkr20c16', 'hkr20c17', 'hkr20c18', 'hkr20c19', 'hkr21c00', 'hkr21c01', 'hkr21c02', 'hkr21c03', 'hkr21c06', 'hkr21c07', 'hkr21c08', 'hkr21c09', 'hkr21c10', 'hkr21c11', 'hkr21c12', 'hkr21c13', 'hkr21c14', 'hkr21c15', 'hkr21c16', 'hkr21c17', 'hkr21c18', 'hkr21c19', 'hkr22c00', 'hkr22c01', 'hkr22c02', 'hkr22c03', 'hkr22c04', 'hkr22c06', 'hkr22c07', 'hkr22c08', 'hkr22c09', 'hkr22c10', 'hkr22c11', 'hkr22c12', 'hkr22c13', 'hkr22c14', 'hkr22c15', 'hkr22c16', 'hkr22c17', 'hkr22c18', 'hkr22c19', 'hkr23c00', 'hkr23c01', 'hkr23c02', 'hkr23c03', 'hkr23c04', 'hkr23c05', 'hkr23c06', 'hkr23c07', 'hkr23c08', 'hkr23c09', 'hkr23c10', 'hkr23c11', 'hkr23c12', 'hkr23c13', 'hkr23c14', 'hkr23c15', 'hkr23c16', 'hkr23c17', 'hkr23c18', 'hkr23c19', 'hkr24c00', 'hkr24c01', 'hkr24c02', 'hkr24c03', 'hkr24c04', 'hkr24c05', 'hkr24c06', 'hkr24c07', 'hkr24c08', 'hkr24c09', 'hkr24c10', 'hkr24c11', 'hkr24c12', 'hkr24c13', 'hkr24c14', 'hkr24c15', 'hkr24c16', 'hkr24c17', 'hkr24c18', 'hkr24c19', 'hkr25c00', 'hkr25c01', 'hkr25c02', 'hkr25c03', 'hkr25c04', 'hkr25c05', 'hkr25c06', 'hkr25c07', 'hkr25c08', 'hkr25c09', 'hkr25c10', 'hkr25c11', 'hkr25c12', 'hkr25c13', 'hkr25c14', 'hkr25c15', 'hkr25c16', 'hkr25c17', 'hkr25c18', 'hkr25c19', 'hkr26c00', 'hkr26c01', 'hkr26c02', 'hkr26c03', 'hkr26c04', 'hkr26c05', 'hkr26c06', 'hkr26c07', 'hkr26c08', 'hkr26c09', 'hkr26c10', 'hkr26c11', 'hkr26c12', 'hkr26c13', 'hkr26c14', 'hkr26c15', 'hkr26c16', 'hkr26c17', 'hkr26c18', 'hkr26c19', 'hkr27c00', 'hkr27c01', 'hkr27c02', 'hkr27c03', 'hkr27c04', 'hkr27c05', 'hkr27c06', 'hkr27c07', 'hkr27c08', 'hkr27c09', 'hkr27c10', 'hkr27c11', 'hkr27c12', 'hkr27c13', 'hkr27c14', 'hkr27c15', 'hkr27c16', 'hkr27c17', 'hkr27c18', 'hkr27c19', 'hkr28c00', 'hkr28c01', 'hkr28c02', 'hkr28c03', 'hkr28c04', 'hkr28c05', 'hkr28c06', 'hkr28c07', 'hkr28c08', 'hkr28c09', 'hkr28c10', 'hkr28c11', 'hkr28c12', 'hkr28c13', 'hkr28c14', 'hkr28c15', 'hkr28c16', 'hkr28c17', 'hkr28c18', 'hkr28c19', 'hkr29c00', 'hkr29c01', 'hkr29c02', 'hkr29c03', 'hkr29c04', 'hkr29c05', 'hkr29c06', 'hkr29c07', 'hkr29c08', 'hkr29c09', 'hkr29c10', 'hkr29c11', 'hkr29c12', 'hkr29c13', 'hkr29c14', 'hkr29c15', 'hkr29c16', 'hkr29c17', 'hkr29c18', 'hkr29c19', 'hkr30c00', 'hkr30c01', 'hkr30c02', 'hkr30c03', 'hkr30c04', 'hkr30c05', 'hkr30c06', 'hkr30c07', 'hkr30c08', 'hkr30c09', 'hkr30c10', 'hkr30c11', 'hkr30c12', 'hkr30c13', 'hkr30c14', 'hkr30c15', 'hkr30c16', 'hkr30c17', 'hkr30c18', 'hkr30c19', 'hkr31c00', 'hkr31c01', 'hkr31c02', 'hkr31c03', 'hkr31c04', 'hkr31c05', 'hkr31c06', 'hkr31c07', 'hkr31c08', 'hkr31c09', 'hkr31c10', 'hkr31c11', 'hkr31c12', 'hkr31c13', 'hkr31c14', 'hkr31c15', 'hkr31c16', 'hkr31c17', 'hkr31c18', 'hkr31c19', 'hkr32c01', 'hkr32c02', 'hkr32c03', 'hkr32c04', 'hkr32c05', 'hkr32c06', 'hkr32c07', 'hkr32c08', 'hkr32c09', 'hkr32c10', 'hkr32c11', 'hkr32c12', 'hkr32c13', 'hkr32c14', 'hkr32c15', 'hkr32c16', 'hkr32c17', 'hkr32c18', 'hkr32c19', 'hkr33c02', 'hkr33c03', 'hkr33c04', 'hkr33c05', 'hkr33c06', 'hkr33c07', 'hkr33c08', 'hkr33c09', 'hkr33c10', 'hkr33c11', 'hkr33c12', 'hkr33c13', 'hkr33c14', 'hkr33c15', 'hkr33c16', 'hkr33c17', 'hkr33c18', 'hkr33c19', 'hkr34c03', 'hkr34c04', 'hkr34c05', 'hkr34c06', 'hkr34c07', 'hkr34c08', 'hkr34c09', 'hkr34c10', 'hkr34c11', 'hkr34c12', 'hkr34c13', 'hkr34c14', 'hkr34c15', 'hkr34c16', 'hkr34c17', 'hkr34c18', 'hkr34c19', 'hkr35c04', 'hkr35c05', 'hkr35c06', 'hkr35c07', 'hkr35c08', 'hkr35c09', 'hkr35c10', 'hkr35c11', 'hkr35c12', 'hkr35c13', 'hkr35c14', 'hkr35c15', 'hkr35c16', 'hkr35c17', 'hkr35c18', 'hkr36c04', 'hkr36c05', 'hkr36c06', 'hkr36c07', 'hkr36c08', 'hkr36c09', 'hkr36c10', 'hkr36c11', 'hkr36c12', 'hkr36c13', 'hkr36c14', 'hkr36c15', 'hkr36c16', 'hkr36c17', 'hkr36c18', 'hkr37c05', 'hkr37c06', 'hkr37c07', 'hkr37c08', 'hkr37c09', 'hkr37c10', 'hkr37c11', 'hkr37c12', 'hkr37c13', 'hkr37c14', 'hkr37c15', 'hkr37c16', 'hkr37c17', 'hkr38c05', 'hkr38c06', 'hkr38c07', 'hkr38c08', 'hkr38c09', 'hkr38c10', 'hkr38c11', 'hkr38c12', 'hkr38c13', 'hkr38c14', 'hkr38c15', 'hkr38c16', 'hkr39c05', 'hkr39c06', 'hkr39c07', 'hkr39c08', 'hkr39c09', 'hkr39c10', 'hkr39c11', 'hkr39c12', 'hkr39c13', 'hkr39c14']\n",
      " took: 0:00:00.468254\n",
      "\n",
      "2015-11-27 13:49:57.641033 starting: calculating contribution from: ['rch_2', 'wf1_2', 'wf2_2', 'wf3_2', 'wf4_2', 'wf5_2', 'wf6_2']\n",
      "\n",
      "\n",
      "2015-11-27 13:49:59.761759 finished: calculating contribution from: ['rch_2', 'wf1_2', 'wf2_2', 'wf3_2', 'wf4_2', 'wf5_2', 'wf6_2']\n",
      " took: 0:00:02.120726\n",
      "\n",
      "2015-11-27 13:49:59.763481 finished: calculating contribution from parameters took: 0:00:04.819223\n",
      "\n"
     ]
    }
   ],
   "source": [
    "pnames = la.pst.par_names\n",
    "fore_names = [pname for pname in pnames if pname.endswith(\"_2\")]\n",
    "props = [pname for pname in pnames if pname[:2] in [\"hk\",\"ss\",\"sy\",\"rc\"] and \"rch\" not in pname]\n",
    "cal_names = [pname for pname in pnames if pname.endswith(\"_1\")]\n",
    "pdict = {'forecast forcing':fore_names,\"properties\":props,\"calibration forcing\":cal_names}\n",
    "df = la.get_contribution_dataframe(pdict)"
   ]
  },
  {
   "cell_type": "code",
   "execution_count": 145,
   "metadata": {
    "collapsed": false
   },
   "outputs": [
    {
     "data": {
      "text/plain": [
       "<matplotlib.axes._subplots.AxesSubplot at 0x10c57c610>"
      ]
     },
     "execution_count": 145,
     "metadata": {},
     "output_type": "execute_result"
    },
    {
     "data": {
      "image/png": "[encoded data removed]",
      "text/plain": [
       "<matplotlib.figure.Figure at 0x10cde36d0>"
      ]
     },
     "metadata": {},
     "output_type": "display_data"
    }
   ],
   "source": [
    "#select out the posterior column\n",
    "df_reduce = df.xs(\"post\",axis=1,level=1)\n",
    "#calc the percent reduction in posterior\n",
    "df_percent = 100.0 * (df_reduce.loc[\"base\",:]-df_reduce)/df_reduce.loc[\"base\",:]\n",
    "#drop the base column\n",
    "df_percent = df_percent.iloc[1:,:]\n",
    "#transpose and plot\n",
    "df_percent.T.plot(kind=\"bar\")"
   ]
  },
  {
   "cell_type": "code",
   "execution_count": null,
   "metadata": {
    "collapsed": true
   },
   "outputs": [],
   "source": []
  }
 ],
 "metadata": {
  "kernelspec": {
   "display_name": "Python 2",
   "language": "python",
   "name": "python2"
  },
  "language_info": {
   "codemirror_mode": {
    "name": "ipython",
    "version": 2
   },
   "file_extension": ".py",
   "mimetype": "text/x-python",
   "name": "python",
   "nbconvert_exporter": "python",
   "pygments_lexer": "ipython2",
   "version": "2.7.10"
  }
 },
 "nbformat": 4,
 "nbformat_minor": 0
}
