{
 "cells": [
  {
   "cell_type": "code",
   "execution_count": 1,
   "metadata": {
    "collapsed": false
   },
   "outputs": [],
   "source": [
    "%matplotlib inline\n",
    "from __future__ import print_function\n",
    "import os\n",
    "import numpy as np\n",
    "import pandas as pd\n",
    "import matplotlib.pyplot as plt"
   ]
  },
  {
   "cell_type": "markdown",
   "metadata": {},
   "source": [
    "##Model background\n",
    "Here is an example based on the model of Freyberg, 1988.  The synthetic model is a 2-dimensional MODFLOW model (X-Z domain) with 1 layer,  40 rows, and 20 columns.  The model has 3 stress periods: an initial steady-state stress period used for calibration, a 5-year transient stress period and a final steady-state stress period.  THe calibration period uses the recharge and well flux of Freyberg, 1988; the last two stress periods use 25% less recharge and 25% more pumping.\n",
    "\n",
    "The inverse problem has 703 parameters: hydraulic conductivity of each active model cell, calibration and forecast period recharge multipliers, storage and specific yeild, well flux for each of the six wells, and river bed conductance for each river-type boundary.  The inverse problem has 13 head obseravtions, measured at the end of the steady-state calibration period.  The forecasts of interest include the sw-gw exchange flux during all three stress periods, the water level in each of the well cells at the end of the stress periods and the travel time from a point near the left edge of the model domain to a boundary condition (see figure).  The forecasts are included in the Jacobian matrix as zero-weight observations. The model files, pest control file and previously-calculated jacobian matrix are in the `freyberg/` folder\n",
    "\n",
    "\n",
    "Freyberg, David L. \"AN EXERCISE IN GROUND‐WATER MODEL CALIBRATION AND PREDICTION.\" Groundwater 26.3 (1988): 350-360."
   ]
  },
  {
   "cell_type": "code",
   "execution_count": 2,
   "metadata": {
    "collapsed": false
   },
   "outputs": [
    {
     "name": "stdout",
     "output_type": "stream",
     "text": [
      "  ...load method not completed. default nwt file created.\n"
     ]
    },
    {
     "data": {
      "text/plain": [
       "<function matplotlib.pyplot.show>"
      ]
     },
     "execution_count": 2,
     "metadata": {},
     "output_type": "execute_result"
    },
    {
     "data": {
      "image/png": "[encoded data removed]",
      "text/plain": [
       "<matplotlib.figure.Figure at 0xad51748>"
      ]
     },
     "metadata": {},
     "output_type": "display_data"
    }
   ],
   "source": [
    "import flopy\n",
    "\n",
    "# load the model\n",
    "model_ws = os.path.join(\"Freyberg\",\"extra_crispy\")\n",
    "ml = flopy.modflow.Modflow.load(\"freyberg\",model_ws=model_ws)\n",
    "\n",
    "# plot some model attributes\n",
    "fig = plt.figure(figsize=(10,10))\n",
    "ax = plt.subplot(111,aspect=\"equal\")\n",
    "ml.upw.hk.plot(axes=[ax],colorbar=True,alpha=0.3)\n",
    "ml.wel.stress_period_data.plot(axes=[ax])\n",
    "ml.riv.stress_period_data.plot(axes=[ax])\n",
    "\n",
    "# plot obs locations\n",
    "obs = pd.read_csv(os.path.join(\"freyberg\",\"misc\",\"obs_rowcol.dat\"),delim_whitespace=True)\n",
    "obs_x = [ml.dis.sr.xcentergrid[r-1,c-1] for r,c in obs.loc[:,[\"row\",\"col\"]].values]\n",
    "obs_y = [ml.dis.sr.ycentergrid[r-1,c-1] for r,c in obs.loc[:,[\"row\",\"col\"]].values]\n",
    "ax.scatter(obs_x,obs_y,marker='.')\n",
    "\n",
    "\n",
    "# plot particle starting location\n",
    "loc_line = open(os.path.join(model_ws,ml.name+\".locations\"),'r').readlines()[-1].strip().split()\n",
    "r,c = int(loc_line[4]),int(loc_line[5])\n",
    "x,y = ml.dis.sr.xcentergrid[r-1,c-1],ml.dis.sr.ycentergrid[r-1,c-1]\n",
    "ax.scatter([x],[y],marker='x',s=70,lw=3)\n",
    "\n",
    "plt.show\n"
   ]
  },
  {
   "cell_type": "markdown",
   "metadata": {},
   "source": [
    "The plot shows the Freyberg (1988) model domain.  The colorflood is the hydraulic conductivity ($\\frac{m}{d}$).  Red and green cells coorespond to well-type and river-type boundary conditions. Blue dots and blue 'x' are the locations of water levels used for calibration and the starting point of the particle used for the travel time forecast,respectively."
   ]
  },
  {
   "cell_type": "markdown",
   "metadata": {},
   "source": [
    "##Using `pyemu`"
   ]
  },
  {
   "cell_type": "code",
   "execution_count": 3,
   "metadata": {
    "collapsed": false
   },
   "outputs": [],
   "source": [
    "import pyemu"
   ]
  },
  {
   "cell_type": "markdown",
   "metadata": {},
   "source": [
    "First create a linear_analysis object.  We will use `schur`  derived type, which replicates the behavior of the `PREDUNC` suite of PEST.  We pass it the name of the jacobian matrix file.  Since we don't pass an explicit argument for `parcov` or `obscov`, `pyemu` attempts to build them from the parameter bounds and observation weights in a pest control file (.pst) with the same base case name as the jacobian.  Since we are interested in forecast uncertainty as well as parameter uncertainty, we also pass the names of the forecast sensitivity vectors we are interested in, which are stored in the jacobian as well.  Note that the `forecasts` argument can be a mixed list of observation names, other jacobian files or PEST-compatible ASCII matrix files."
   ]
  },
  {
   "cell_type": "code",
   "execution_count": 44,
   "metadata": {
    "collapsed": false
   },
   "outputs": [
    {
     "name": "stdout",
     "output_type": "stream",
     "text": [
      "2015-11-03 14:41:00.718000 starting: pre-loading base components\n",
      "\n",
      "2015-11-03 14:41:00.718000 starting: loading jco: freyberg\\freyberg.jcb\n",
      "\n",
      "2015-11-03 14:41:00.804000 finished: loading jco: freyberg\\freyberg.jcb took: 0:00:00.086000\n",
      "\n",
      "2015-11-03 14:41:00.804000 starting: loading pst: freyberg\\freyberg.pst\n",
      "\n",
      "2015-11-03 14:41:00.961000 finished: loading pst: freyberg\\freyberg.pst took: 0:00:00.157000\n",
      "\n",
      "2015-11-03 14:41:00.961000 starting: loading parcov\n",
      "\n",
      "2015-11-03 14:41:01.309000 finished: loading parcov took: 0:00:00.348000\n",
      "\n",
      "2015-11-03 14:41:01.309000 starting: loading obscov\n",
      "\n",
      "2015-11-03 14:41:01.902000 finished: loading obscov took: 0:00:00.593000\n",
      "\n",
      "2015-11-03 14:41:01.902000 starting: loading forecasts\n",
      "\n",
      "2015-11-03 14:41:01.981000 finished: loading forecasts took: 0:00:00.079000\n",
      "\n",
      "2015-11-03 14:41:01.981000 finished: pre-loading base components took: 0:00:01.263000\n",
      "\n",
      "2015-11-03 14:41:01.981000 starting: dropping prior information\n",
      "\n",
      "2015-11-03 14:41:01.981000 starting: removing 761 prior info from jco, pst, and obs cov\n",
      "\n",
      "2015-11-03 14:41:03.334000 starting: removing 761 prior info from jco and pst\n",
      "\n",
      "2015-11-03 14:41:03.334000 finished: dropping prior information took: 0:00:01.353000\n",
      "\n"
     ]
    }
   ],
   "source": [
    "# get the list of forecast names from the pest++ argument in the pest control file\n",
    "jco = os.path.join(\"freyberg\",\"freyberg.jcb\")\n",
    "pst = pyemu.Pst(jco.replace(\"jcb\",\"pst\"))\n",
    "forecast_arg = [arg for arg in pst.pestpp_lines[0].split('++') if \"forecast\" in arg ][0]\n",
    "forecasts = forecast_arg.replace(\"forecasts(\",'').replace(')','').split(',')\n",
    "la = pyemu.Schur(jco=jco, forecasts=forecasts,verbose=True)\n"
   ]
  },
  {
   "cell_type": "markdown",
   "metadata": {},
   "source": [
    "We can inspect the parcov and obscov attributes by saving them to files.  We can save them PEST-compatible ASCII or binary matrices (`.to_ascii()` or `.to_binary()`), PEST-compatible uncertainty files (`.to_uncfile()`), or simply as numpy ASCII arrays (`numpy.savetxt()`).  In fact, all matrix and covariance objects (including the forecasts) have these methods.  \n"
   ]
  },
  {
   "cell_type": "code",
   "execution_count": 8,
   "metadata": {
    "collapsed": false
   },
   "outputs": [],
   "source": [
    "la.parcov.to_uncfile(jco+\"_prior.unc\", covmat_file=None)"
   ]
  },
  {
   "cell_type": "markdown",
   "metadata": {},
   "source": [
    "##Posterior parameter uncertainty analysis\n",
    "Let's calculate and save the posterior parameter covariance matrix:"
   ]
  },
  {
   "cell_type": "code",
   "execution_count": 9,
   "metadata": {
    "collapsed": false
   },
   "outputs": [],
   "source": [
    "la.posterior_parameter.to_ascii(jco+\"_post.cov\")"
   ]
  },
  {
   "cell_type": "markdown",
   "metadata": {},
   "source": [
    "You can open this file in a text editor to examine.  The diagonal of this matrix is the posterior variance of each parameter. Since we already calculated the posterior parameter covariance matrix, additional calls to the `posterior_parameter` decorated method only require access:\n"
   ]
  },
  {
   "cell_type": "code",
   "execution_count": 10,
   "metadata": {
    "collapsed": false,
    "scrolled": true
   },
   "outputs": [
    {
     "data": {
      "text/html": [
       "<div>\n",
       "<table border=\"1\" class=\"dataframe\">\n",
       "  <thead>\n",
       "    <tr style=\"text-align: right;\">\n",
       "      <th></th>\n",
       "      <th>hkr00c00</th>\n",
       "      <th>hkr00c01</th>\n",
       "      <th>hkr00c02</th>\n",
       "    </tr>\n",
       "  </thead>\n",
       "  <tbody>\n",
       "    <tr>\n",
       "      <th>hkr00c00</th>\n",
       "      <td>2.499965e-01</td>\n",
       "      <td>-8.837002e-07</td>\n",
       "      <td>-0.000005</td>\n",
       "    </tr>\n",
       "    <tr>\n",
       "      <th>hkr00c01</th>\n",
       "      <td>-8.837002e-07</td>\n",
       "      <td>2.499910e-01</td>\n",
       "      <td>-0.000021</td>\n",
       "    </tr>\n",
       "    <tr>\n",
       "      <th>hkr00c02</th>\n",
       "      <td>-4.635569e-06</td>\n",
       "      <td>-2.085084e-05</td>\n",
       "      <td>0.249947</td>\n",
       "    </tr>\n",
       "  </tbody>\n",
       "</table>\n",
       "</div>"
      ],
      "text/plain": [
       "              hkr00c00      hkr00c01  hkr00c02\n",
       "hkr00c00  2.499965e-01 -8.837002e-07 -0.000005\n",
       "hkr00c01 -8.837002e-07  2.499910e-01 -0.000021\n",
       "hkr00c02 -4.635569e-06 -2.085084e-05  0.249947"
      ]
     },
     "execution_count": 10,
     "metadata": {},
     "output_type": "execute_result"
    }
   ],
   "source": [
    "la.posterior_parameter.to_dataframe().sort().sort(axis=1).iloc[0:3,0:3] #look so nice in the notebook"
   ]
  },
  {
   "cell_type": "markdown",
   "metadata": {},
   "source": [
    "We can see the posterior variance of each parameter along the diagonal of this matrix. Now, let's make a simple plot of prior vs posterior uncertainty for the 600 pilot point parameters"
   ]
  },
  {
   "cell_type": "code",
   "execution_count": 11,
   "metadata": {
    "collapsed": false,
    "scrolled": true
   },
   "outputs": [
    {
     "data": {
      "text/html": [
       "<div>\n",
       "<table border=\"1\" class=\"dataframe\">\n",
       "  <thead>\n",
       "    <tr style=\"text-align: right;\">\n",
       "      <th></th>\n",
       "      <th>percent_reduction</th>\n",
       "      <th>post_var</th>\n",
       "      <th>prior_var</th>\n",
       "    </tr>\n",
       "  </thead>\n",
       "  <tbody>\n",
       "    <tr>\n",
       "      <th>rch_1</th>\n",
       "      <td>49.884568</td>\n",
       "      <td>0.000238</td>\n",
       "      <td>0.000475</td>\n",
       "    </tr>\n",
       "    <tr>\n",
       "      <th>hkr30c15</th>\n",
       "      <td>31.278933</td>\n",
       "      <td>0.171803</td>\n",
       "      <td>0.250000</td>\n",
       "    </tr>\n",
       "    <tr>\n",
       "      <th>hkr03c11</th>\n",
       "      <td>26.494859</td>\n",
       "      <td>0.183763</td>\n",
       "      <td>0.250000</td>\n",
       "    </tr>\n",
       "    <tr>\n",
       "      <th>hkr34c09</th>\n",
       "      <td>25.096673</td>\n",
       "      <td>0.187258</td>\n",
       "      <td>0.250000</td>\n",
       "    </tr>\n",
       "    <tr>\n",
       "      <th>hkr04c10</th>\n",
       "      <td>24.712660</td>\n",
       "      <td>0.188218</td>\n",
       "      <td>0.250000</td>\n",
       "    </tr>\n",
       "    <tr>\n",
       "      <th>hkr22c12</th>\n",
       "      <td>22.009284</td>\n",
       "      <td>0.194977</td>\n",
       "      <td>0.250000</td>\n",
       "    </tr>\n",
       "    <tr>\n",
       "      <th>hkr25c06</th>\n",
       "      <td>21.114649</td>\n",
       "      <td>0.197213</td>\n",
       "      <td>0.250000</td>\n",
       "    </tr>\n",
       "    <tr>\n",
       "      <th>hkr35c12</th>\n",
       "      <td>19.869449</td>\n",
       "      <td>0.200326</td>\n",
       "      <td>0.250000</td>\n",
       "    </tr>\n",
       "    <tr>\n",
       "      <th>hkr35c10</th>\n",
       "      <td>18.608329</td>\n",
       "      <td>0.203479</td>\n",
       "      <td>0.250000</td>\n",
       "    </tr>\n",
       "    <tr>\n",
       "      <th>hkr04c16</th>\n",
       "      <td>17.240172</td>\n",
       "      <td>0.206900</td>\n",
       "      <td>0.250000</td>\n",
       "    </tr>\n",
       "  </tbody>\n",
       "</table>\n",
       "</div>"
      ],
      "text/plain": [
       "          percent_reduction  post_var  prior_var\n",
       "rch_1             49.884568  0.000238   0.000475\n",
       "hkr30c15          31.278933  0.171803   0.250000\n",
       "hkr03c11          26.494859  0.183763   0.250000\n",
       "hkr34c09          25.096673  0.187258   0.250000\n",
       "hkr04c10          24.712660  0.188218   0.250000\n",
       "hkr22c12          22.009284  0.194977   0.250000\n",
       "hkr25c06          21.114649  0.197213   0.250000\n",
       "hkr35c12          19.869449  0.200326   0.250000\n",
       "hkr35c10          18.608329  0.203479   0.250000\n",
       "hkr04c16          17.240172  0.206900   0.250000"
      ]
     },
     "execution_count": 11,
     "metadata": {},
     "output_type": "execute_result"
    },
    {
     "data": {
      "image/png": "[encoded data removed]",
      "text/plain": [
       "<matplotlib.figure.Figure at 0xb63e2b0>"
      ]
     },
     "metadata": {},
     "output_type": "display_data"
    }
   ],
   "source": [
    "par_sum = la.get_parameter_summary().sort(\"percent_reduction\",ascending=False)\n",
    "par_sum.loc[par_sum.index[:20],\"percent_reduction\"].plot(kind=\"bar\",figsize=(10,4),edgecolor=\"none\")\n",
    "par_sum.iloc[0:10,:]"
   ]
  },
  {
   "cell_type": "markdown",
   "metadata": {},
   "source": [
    "We can see that calibrating the model to the 13 water levels reduces the uncertainty of the calibration period recharge by 50%.  Additionally, the hydraulic conductivity of many model cell is also reduced.  "
   ]
  },
  {
   "cell_type": "code",
   "execution_count": 12,
   "metadata": {
    "collapsed": false
   },
   "outputs": [
    {
     "data": {
      "text/html": [
       "<div>\n",
       "<table border=\"1\" class=\"dataframe\">\n",
       "  <thead>\n",
       "    <tr style=\"text-align: right;\">\n",
       "      <th></th>\n",
       "      <th>percent_reduction</th>\n",
       "      <th>post_var</th>\n",
       "      <th>prior_var</th>\n",
       "    </tr>\n",
       "  </thead>\n",
       "  <tbody>\n",
       "    <tr>\n",
       "      <th>hkr39c14</th>\n",
       "      <td>0</td>\n",
       "      <td>0.250000</td>\n",
       "      <td>0.250000</td>\n",
       "    </tr>\n",
       "    <tr>\n",
       "      <th>hkr01c19</th>\n",
       "      <td>0</td>\n",
       "      <td>0.250000</td>\n",
       "      <td>0.250000</td>\n",
       "    </tr>\n",
       "    <tr>\n",
       "      <th>hkr00c19</th>\n",
       "      <td>0</td>\n",
       "      <td>0.250000</td>\n",
       "      <td>0.250000</td>\n",
       "    </tr>\n",
       "    <tr>\n",
       "      <th>wf6_2</th>\n",
       "      <td>0</td>\n",
       "      <td>0.014228</td>\n",
       "      <td>0.014228</td>\n",
       "    </tr>\n",
       "    <tr>\n",
       "      <th>wf5_2</th>\n",
       "      <td>0</td>\n",
       "      <td>0.014228</td>\n",
       "      <td>0.014228</td>\n",
       "    </tr>\n",
       "    <tr>\n",
       "      <th>wf3_2</th>\n",
       "      <td>0</td>\n",
       "      <td>0.014228</td>\n",
       "      <td>0.014228</td>\n",
       "    </tr>\n",
       "    <tr>\n",
       "      <th>wf2_2</th>\n",
       "      <td>0</td>\n",
       "      <td>0.014228</td>\n",
       "      <td>0.014228</td>\n",
       "    </tr>\n",
       "    <tr>\n",
       "      <th>wf1_2</th>\n",
       "      <td>0</td>\n",
       "      <td>0.014228</td>\n",
       "      <td>0.014228</td>\n",
       "    </tr>\n",
       "    <tr>\n",
       "      <th>sy</th>\n",
       "      <td>0</td>\n",
       "      <td>0.250000</td>\n",
       "      <td>0.250000</td>\n",
       "    </tr>\n",
       "    <tr>\n",
       "      <th>ss</th>\n",
       "      <td>0</td>\n",
       "      <td>0.250000</td>\n",
       "      <td>0.250000</td>\n",
       "    </tr>\n",
       "  </tbody>\n",
       "</table>\n",
       "</div>"
      ],
      "text/plain": [
       "          percent_reduction  post_var  prior_var\n",
       "hkr39c14                  0  0.250000   0.250000\n",
       "hkr01c19                  0  0.250000   0.250000\n",
       "hkr00c19                  0  0.250000   0.250000\n",
       "wf6_2                     0  0.014228   0.014228\n",
       "wf5_2                     0  0.014228   0.014228\n",
       "wf3_2                     0  0.014228   0.014228\n",
       "wf2_2                     0  0.014228   0.014228\n",
       "wf1_2                     0  0.014228   0.014228\n",
       "sy                        0  0.250000   0.250000\n",
       "ss                        0  0.250000   0.250000"
      ]
     },
     "execution_count": 12,
     "metadata": {},
     "output_type": "execute_result"
    },
    {
     "data": {
      "image/png": "[encoded data removed]",
      "text/plain": [
       "<matplotlib.figure.Figure at 0xb618550>"
      ]
     },
     "metadata": {},
     "output_type": "display_data"
    }
   ],
   "source": [
    "par_sum = la.get_parameter_summary().sort(\"percent_reduction\")\n",
    "par_sum.loc[par_sum.index[:20],\"percent_reduction\"].plot(kind=\"bar\",figsize=(10,4),edgecolor=\"none\")\n",
    "par_sum.iloc[0:10,:]"
   ]
  },
  {
   "cell_type": "markdown",
   "metadata": {},
   "source": [
    "We see that several parameters are uneffected by calibration - these are mostly parameters that represent forecast period uncertainty, but there are also some hydraulic conductivities"
   ]
  },
  {
   "cell_type": "markdown",
   "metadata": {},
   "source": [
    "We can also make a map of uncertainty reduction for the hydraulic conductivity parameters  "
   ]
  },
  {
   "cell_type": "code",
   "execution_count": 28,
   "metadata": {
    "collapsed": false
   },
   "outputs": [
    {
     "data": {
      "text/plain": [
       "<matplotlib.collections.PathCollection at 0x14d8a9e8>"
      ]
     },
     "execution_count": 28,
     "metadata": {},
     "output_type": "execute_result"
    },
    {
     "data": {
      "image/png": "[encoded data removed]",
      "text/plain": [
       "<matplotlib.figure.Figure at 0x1459d358>"
      ]
     },
     "metadata": {},
     "output_type": "display_data"
    }
   ],
   "source": [
    "hk_pars = par_sum.loc[par_sum.groupby(lambda x:\"hk\" in x).groups[True],:]\n",
    "hk_pars.loc[:,\"names\"] = hk_pars.index\n",
    "names = hk_pars.names\n",
    "hk_pars.loc[:,\"i\"] = names.apply(lambda x: int(x[3:5]))\n",
    "hk_pars.loc[:,\"j\"] = names.apply(lambda x: int(x[6:8]))\n",
    "unc_array = np.zeros_like(ml.upw.hk[0].array) - 1\n",
    "for i,j,unc in zip(hk_pars.i,hk_pars.j,hk_pars.percent_reduction):\n",
    "    unc_array[i,j] = unc \n",
    "\n",
    "unc_array[unc_array == -1] = np.NaN\n",
    "\n",
    "# plot some model attributes\n",
    "fig = plt.figure(figsize=(10,10))\n",
    "ax = plt.subplot(111,aspect=\"equal\")\n",
    "cb = ax.imshow(unc_array,interpolation=\"none\",alpha=0.5,extent=ml.dis.sr.get_extent())\n",
    "plt.colorbar(cb,label=\"percent uncertainty reduction\")\n",
    "#ml.wel.stress_period_data.plot(axes=[ax])\n",
    "ml.riv.stress_period_data.plot(axes=[ax])\n",
    "\n",
    "# plot obs locations\n",
    "obs = pd.read_csv(os.path.join(\"freyberg\",\"misc\",\"obs_rowcol.dat\"),delim_whitespace=True)\n",
    "obs_x = [ml.dis.sr.xcentergrid[r-1,c-1] for r,c in obs.loc[:,[\"row\",\"col\"]].values]\n",
    "obs_y = [ml.dis.sr.ycentergrid[r-1,c-1] for r,c in obs.loc[:,[\"row\",\"col\"]].values]\n",
    "ax.scatter(obs_x,obs_y,marker='.')\n",
    "\n",
    "\n",
    "# plot particle starting location\n",
    "loc_line = open(os.path.join(model_ws,ml.name+\".locations\"),'r').readlines()[-1].strip().split()\n",
    "r,c = int(loc_line[4]),int(loc_line[5])\n",
    "x,y = ml.dis.sr.xcentergrid[r-1,c-1],ml.dis.sr.ycentergrid[r-1,c-1]\n",
    "ax.scatter([x],[y],marker='x',s=70,lw=3)\n",
    "\n"
   ]
  },
  {
   "cell_type": "markdown",
   "metadata": {},
   "source": [
    "As you might expect, most of the information in the observations is flowing to the hydraulic conductivity parameters near observations themselves."
   ]
  },
  {
   "cell_type": "raw",
   "metadata": {},
   "source": [
    "##Prior forecast uncertainty\n",
    "Now let's examine the prior variance of the forecasts:"
   ]
  },
  {
   "cell_type": "code",
   "execution_count": 29,
   "metadata": {
    "collapsed": false
   },
   "outputs": [
    {
     "name": "stdout",
     "output_type": "stream",
     "text": [
      "{'sw_gw_1': 621129.87223585823, 'sw_gw_0': 79634.034592213429, 'travel_time': 37167977.009689406, 'sw_gw_2': 662931.00537485955}\n"
     ]
    }
   ],
   "source": [
    "prior = la.prior_forecast\n",
    "print(prior) # dict keyed on forecast name\n"
   ]
  },
  {
   "cell_type": "markdown",
   "metadata": {},
   "source": [
    "Sometimes, it is more intuitive to think in terms of standard deviation, which in this case has units of ```meters``` and can be thought of as the \"+/-\" around the model-predicted distance from the left edge of the domain to the three saltwater concentration contours"
   ]
  },
  {
   "cell_type": "code",
   "execution_count": 30,
   "metadata": {
    "collapsed": false
   },
   "outputs": [
    {
     "name": "stdout",
     "output_type": "stream",
     "text": [
      "sw_gw_1 788.117930411\n",
      "sw_gw_0 282.195029354\n",
      "travel_time 6096.55451954\n",
      "sw_gw_2 814.205751254\n"
     ]
    }
   ],
   "source": [
    "for pname,var in la.prior_forecast.items():\n",
    "    print(pname,np.sqrt(var))"
   ]
  },
  {
   "cell_type": "markdown",
   "metadata": {},
   "source": [
    "##Posterior forecast uncertainty\n",
    "Now, let's calculate the posterior uncertainty (variance) of each forecast:"
   ]
  },
  {
   "cell_type": "code",
   "execution_count": 31,
   "metadata": {
    "collapsed": false
   },
   "outputs": [
    {
     "name": "stdout",
     "output_type": "stream",
     "text": [
      "sw_gw_1 787.681800039\n",
      "sw_gw_0 212.760315313\n",
      "travel_time 5778.42430856\n",
      "sw_gw_2 814.005679926\n"
     ]
    }
   ],
   "source": [
    "post = la.posterior_forecast\n",
    "for pname,var in post.items():\n",
    "    print(pname,np.sqrt(var))"
   ]
  },
  {
   "cell_type": "markdown",
   "metadata": {},
   "source": [
    "That's it - we have completed linear-based uncertainty analysis for a model with 603 parameters and we completed it before actual inversion so we can estimate the worth of continuing and actually completing the expense inversion process!  We can see that the data we have provide atleast some conditioning to each of these forecasts, indicating that the history-matching process is valuable:"
   ]
  },
  {
   "cell_type": "code",
   "execution_count": 32,
   "metadata": {
    "collapsed": false
   },
   "outputs": [
    {
     "data": {
      "text/html": [
       "<div>\n",
       "<table border=\"1\" class=\"dataframe\">\n",
       "  <thead>\n",
       "    <tr style=\"text-align: right;\">\n",
       "      <th></th>\n",
       "      <th>percent_reduction</th>\n",
       "      <th>post_var</th>\n",
       "      <th>prior_var</th>\n",
       "    </tr>\n",
       "  </thead>\n",
       "  <tbody>\n",
       "    <tr>\n",
       "      <th>sw_gw_1</th>\n",
       "      <td>0.110646</td>\n",
       "      <td>620442.618112</td>\n",
       "      <td>621129.872236</td>\n",
       "    </tr>\n",
       "    <tr>\n",
       "      <th>sw_gw_0</th>\n",
       "      <td>43.156275</td>\n",
       "      <td>45266.951772</td>\n",
       "      <td>79634.034592</td>\n",
       "    </tr>\n",
       "    <tr>\n",
       "      <th>travel_time</th>\n",
       "      <td>10.164098</td>\n",
       "      <td>33390187.489795</td>\n",
       "      <td>37167977.009689</td>\n",
       "    </tr>\n",
       "    <tr>\n",
       "      <th>sw_gw_2</th>\n",
       "      <td>0.049139</td>\n",
       "      <td>662605.246952</td>\n",
       "      <td>662931.005375</td>\n",
       "    </tr>\n",
       "  </tbody>\n",
       "</table>\n",
       "</div>"
      ],
      "text/plain": [
       "             percent_reduction         post_var        prior_var\n",
       "sw_gw_1               0.110646    620442.618112    621129.872236\n",
       "sw_gw_0              43.156275     45266.951772     79634.034592\n",
       "travel_time          10.164098  33390187.489795  37167977.009689\n",
       "sw_gw_2               0.049139    662605.246952    662931.005375"
      ]
     },
     "execution_count": 32,
     "metadata": {},
     "output_type": "execute_result"
    }
   ],
   "source": [
    "la.get_forecast_summary()"
   ]
  },
  {
   "cell_type": "markdown",
   "metadata": {},
   "source": [
    "Notice the spread on the uncertainty reduction: some forecasts benefit more from calibration than others."
   ]
  },
  {
   "cell_type": "markdown",
   "metadata": {},
   "source": [
    "##Data worth\n",
    "Now, let's try to identify which observations are most important to reducing the posterior uncertainty (e.g.the forecast worth of every observation).  We simply recalculate Schur's complement without some observations and see how the posterior forecast uncertainty increases\n",
    "\n",
    "\n",
    "```importance_of_obesrvation_groups()``` is a thin wrapper that calls the underlying ```importance_of_observations()``` method using the observation groups in the pest control file and stacks the results into a ```pandas DataFrame```.  \n",
    "\n",
    "lets see if the heads or the concentrations are more important:"
   ]
  },
  {
   "cell_type": "code",
   "execution_count": 38,
   "metadata": {
    "collapsed": false
   },
   "outputs": [
    {
     "data": {
      "text/html": [
       "<div>\n",
       "<table border=\"1\" class=\"dataframe\">\n",
       "  <thead>\n",
       "    <tr style=\"text-align: right;\">\n",
       "      <th></th>\n",
       "      <th>sw_gw_0</th>\n",
       "      <th>sw_gw_1</th>\n",
       "      <th>sw_gw_2</th>\n",
       "      <th>travel_time</th>\n",
       "    </tr>\n",
       "  </thead>\n",
       "  <tbody>\n",
       "    <tr>\n",
       "      <th>base</th>\n",
       "      <td>45266.951772</td>\n",
       "      <td>620442.618112</td>\n",
       "      <td>662605.246952</td>\n",
       "      <td>33390187.489795</td>\n",
       "    </tr>\n",
       "    <tr>\n",
       "      <th>or16c17_0</th>\n",
       "      <td>46009.162975</td>\n",
       "      <td>620457.760006</td>\n",
       "      <td>662606.092583</td>\n",
       "      <td>33396927.483500</td>\n",
       "    </tr>\n",
       "    <tr>\n",
       "      <th>or03c16_0</th>\n",
       "      <td>46517.650426</td>\n",
       "      <td>620459.380623</td>\n",
       "      <td>662606.426544</td>\n",
       "      <td>33404360.463137</td>\n",
       "    </tr>\n",
       "    <tr>\n",
       "      <th>or23c17_0</th>\n",
       "      <td>45890.127094</td>\n",
       "      <td>620456.396643</td>\n",
       "      <td>662606.023268</td>\n",
       "      <td>33417313.961082</td>\n",
       "    </tr>\n",
       "    <tr>\n",
       "      <th>or35c11_0</th>\n",
       "      <td>45383.665749</td>\n",
       "      <td>620476.801860</td>\n",
       "      <td>662667.701620</td>\n",
       "      <td>34327687.706588</td>\n",
       "    </tr>\n",
       "    <tr>\n",
       "      <th>or27c07_0</th>\n",
       "      <td>45476.473772</td>\n",
       "      <td>620448.729766</td>\n",
       "      <td>662605.251329</td>\n",
       "      <td>33413482.170579</td>\n",
       "    </tr>\n",
       "    <tr>\n",
       "      <th>or03c10_0</th>\n",
       "      <td>45267.631429</td>\n",
       "      <td>620444.798848</td>\n",
       "      <td>662605.256627</td>\n",
       "      <td>33390547.000153</td>\n",
       "    </tr>\n",
       "    <tr>\n",
       "      <th>or22c11_0</th>\n",
       "      <td>45438.014277</td>\n",
       "      <td>620456.475235</td>\n",
       "      <td>662606.306210</td>\n",
       "      <td>33501835.948813</td>\n",
       "    </tr>\n",
       "    <tr>\n",
       "      <th>or14c11_0</th>\n",
       "      <td>46344.283861</td>\n",
       "      <td>620478.500585</td>\n",
       "      <td>662606.403687</td>\n",
       "      <td>33394980.342488</td>\n",
       "    </tr>\n",
       "    <tr>\n",
       "      <th>or30c16_0</th>\n",
       "      <td>45486.605342</td>\n",
       "      <td>620449.437222</td>\n",
       "      <td>662605.519723</td>\n",
       "      <td>35262109.304061</td>\n",
       "    </tr>\n",
       "    <tr>\n",
       "      <th>or10c02_0</th>\n",
       "      <td>50438.518215</td>\n",
       "      <td>620553.778164</td>\n",
       "      <td>662610.044877</td>\n",
       "      <td>33399073.389769</td>\n",
       "    </tr>\n",
       "    <tr>\n",
       "      <th>or04c09_0</th>\n",
       "      <td>45376.309284</td>\n",
       "      <td>620446.560354</td>\n",
       "      <td>662605.332361</td>\n",
       "      <td>33394611.781711</td>\n",
       "    </tr>\n",
       "    <tr>\n",
       "      <th>or25c05_0</th>\n",
       "      <td>45859.283606</td>\n",
       "      <td>620452.111319</td>\n",
       "      <td>662605.267165</td>\n",
       "      <td>33397091.703633</td>\n",
       "    </tr>\n",
       "    <tr>\n",
       "      <th>or34c08_0</th>\n",
       "      <td>45546.665830</td>\n",
       "      <td>620550.423439</td>\n",
       "      <td>662809.666584</td>\n",
       "      <td>33598271.735989</td>\n",
       "    </tr>\n",
       "  </tbody>\n",
       "</table>\n",
       "</div>"
      ],
      "text/plain": [
       "                sw_gw_0        sw_gw_1        sw_gw_2      travel_time\n",
       "base       45266.951772  620442.618112  662605.246952  33390187.489795\n",
       "or16c17_0  46009.162975  620457.760006  662606.092583  33396927.483500\n",
       "or03c16_0  46517.650426  620459.380623  662606.426544  33404360.463137\n",
       "or23c17_0  45890.127094  620456.396643  662606.023268  33417313.961082\n",
       "or35c11_0  45383.665749  620476.801860  662667.701620  34327687.706588\n",
       "or27c07_0  45476.473772  620448.729766  662605.251329  33413482.170579\n",
       "or03c10_0  45267.631429  620444.798848  662605.256627  33390547.000153\n",
       "or22c11_0  45438.014277  620456.475235  662606.306210  33501835.948813\n",
       "or14c11_0  46344.283861  620478.500585  662606.403687  33394980.342488\n",
       "or30c16_0  45486.605342  620449.437222  662605.519723  35262109.304061\n",
       "or10c02_0  50438.518215  620553.778164  662610.044877  33399073.389769\n",
       "or04c09_0  45376.309284  620446.560354  662605.332361  33394611.781711\n",
       "or25c05_0  45859.283606  620452.111319  662605.267165  33397091.703633\n",
       "or34c08_0  45546.665830  620550.423439  662809.666584  33598271.735989"
      ]
     },
     "execution_count": 38,
     "metadata": {},
     "output_type": "execute_result"
    }
   ],
   "source": [
    "df = la.get_importance_dataframe()\n",
    "df"
   ]
  },
  {
   "cell_type": "markdown",
   "metadata": {},
   "source": [
    "```base``` row are the results of Schur's complement calculation using all observations.  The increase in posterior forecast uncertainty for each of the 13 water level obseravtions (e.g. or17c17 is the observation in row 18 column 18) show how much forecast uncertainty increases when that particular observation is not used in history matching.  So we see again that each forecast depends of the observations differently\n",
    "\n",
    "A water-level obseravtion for each active model cell was also \"carried\" in the pest control file.  This means we can run this same analysis to find the best next place to collect a new water level.  This takes a little longer because it is rerunning the schur's complement calculations many times:"
   ]
  },
  {
   "cell_type": "code",
   "execution_count": 45,
   "metadata": {
    "collapsed": false
   },
   "outputs": [
    {
     "name": "stdout",
     "output_type": "stream",
     "text": [
      "2115\n"
     ]
    }
   ],
   "source": [
    "obs_dict = {}\n",
    "for oname in la.pst.obs_names:\n",
    "    if oname.startswith(\"o\") and oname not in obs.name:\n",
    "        obs_dict[oname] = oname\n",
    "print(len(obs_dict))"
   ]
  },
  {
   "cell_type": "code",
   "execution_count": 46,
   "metadata": {
    "collapsed": false
   },
   "outputs": [
    {
     "name": "stdout",
     "output_type": "stream",
     "text": [
      "2015-11-03 14:41:18.067000 starting: calculating importance of observations\n",
      "\n",
      "2015-11-03 14:41:18.067000 starting: propagating posterior to predictions\n",
      "\n",
      "2015-11-03 14:41:18.067000 starting: Schur's complement\n",
      "\n",
      "2015-11-03 14:41:18.422000 starting: xtqx\n",
      "\n",
      "2015-11-03 14:41:18.735000 finished: xtqx took: 0:00:00.313000\n",
      "\n",
      "2015-11-03 14:41:18.907000 finished: Schur's complement took: 0:00:00.840000\n",
      "\n",
      "2015-11-03 14:41:18.922000 finished: propagating posterior to predictions took: 0:00:00.855000\n",
      "\n",
      "2015-11-03 14:41:18.922000 starting: calculating contribution from: or13c14_1\n",
      "\n",
      "\n",
      "2015-11-03 14:41:24.817000 finished: calculating contribution from: or13c14_1\n",
      " took: 0:00:05.895000\n",
      "\n",
      "2015-11-03 14:41:24.817000 starting: calculating contribution from: or13c14_0\n",
      "\n",
      "\n",
      "2015-11-03 14:41:30.579000 finished: calculating contribution from: or13c14_0\n",
      " took: 0:00:05.762000\n",
      "\n",
      "2015-11-03 14:41:30.594000 starting: calculating contribution from: or13c14_2\n",
      "\n",
      "\n",
      "2015-11-03 14:41:36.478000 finished: calculating contribution from: or13c14_2\n",
      " took: 0:00:05.884000\n",
      "\n",
      "2015-11-03 14:41:36.478000 starting: calculating contribution from: or18c02_1\n",
      "\n",
      "\n",
      "2015-11-03 14:41:42.399000 finished: calculating contribution from: or18c02_1\n",
      " took: 0:00:05.921000\n",
      "\n",
      "2015-11-03 14:41:42.399000 starting: calculating contribution from: or18c02_0\n",
      "\n",
      "\n",
      "2015-11-03 14:41:48.220000 finished: calculating contribution from: or18c02_0\n",
      " took: 0:00:05.821000\n",
      "\n",
      "2015-11-03 14:41:48.220000 starting: calculating contribution from: or18c02_2\n",
      "\n",
      "\n",
      "2015-11-03 14:41:54.106000 finished: calculating contribution from: or18c02_2\n",
      " took: 0:00:05.886000\n",
      "\n",
      "2015-11-03 14:41:54.106000 starting: calculating contribution from: or06c14_2\n",
      "\n",
      "\n",
      "2015-11-03 14:41:59.882000 finished: calculating contribution from: or06c14_2\n",
      " took: 0:00:05.776000\n",
      "\n",
      "2015-11-03 14:41:59.882000 starting: calculating contribution from: or06c14_1\n",
      "\n",
      "\n",
      "2015-11-03 14:42:05.634000 finished: calculating contribution from: or06c14_1\n",
      " took: 0:00:05.752000\n",
      "\n",
      "2015-11-03 14:42:05.634000 starting: calculating contribution from: or06c14_0\n",
      "\n",
      "\n",
      "2015-11-03 14:42:11.797000 finished: calculating contribution from: or06c14_0\n",
      " took: 0:00:06.163000\n",
      "\n",
      "2015-11-03 14:42:11.813000 starting: calculating contribution from: or15c01_1\n",
      "\n",
      "\n",
      "2015-11-03 14:42:17.678000 finished: calculating contribution from: or15c01_1\n",
      " took: 0:00:05.865000\n",
      "\n",
      "2015-11-03 14:42:17.678000 starting: calculating contribution from: or13c16_2\n",
      "\n",
      "\n",
      "2015-11-03 14:42:23.539000 finished: calculating contribution from: or13c16_2\n",
      " took: 0:00:05.861000\n",
      "\n",
      "2015-11-03 14:42:23.539000 starting: calculating contribution from: or13c16_1\n",
      "\n",
      "\n",
      "2015-11-03 14:42:29.213000 finished: calculating contribution from: or13c16_1\n",
      " took: 0:00:05.674000\n",
      "\n",
      "2015-11-03 14:42:29.213000 starting: calculating contribution from: or13c16_0\n",
      "\n",
      "\n"
     ]
    },
    {
     "ename": "KeyboardInterrupt",
     "evalue": "",
     "output_type": "error",
     "traceback": [
      "\u001b[1;31m---------------------------------------------------------------------------\u001b[0m",
      "\u001b[1;31mKeyboardInterrupt\u001b[0m                         Traceback (most recent call last)",
      "\u001b[1;32m<ipython-input-46-95dded545f0d>\u001b[0m in \u001b[0;36m<module>\u001b[1;34m()\u001b[0m\n\u001b[1;32m----> 1\u001b[1;33m \u001b[0mdf_full\u001b[0m \u001b[1;33m=\u001b[0m \u001b[0mla\u001b[0m\u001b[1;33m.\u001b[0m\u001b[0mget_importance_dataframe\u001b[0m\u001b[1;33m(\u001b[0m\u001b[0mobs_dict\u001b[0m\u001b[1;33m)\u001b[0m\u001b[1;33m\u001b[0m\u001b[0m\n\u001b[0m",
      "\u001b[1;32mD:\\Home\\git\\pyemu\\pyemu\\sc.pyc\u001b[0m in \u001b[0;36mget_importance_dataframe\u001b[1;34m(self, obslist_dict)\u001b[0m\n\u001b[0;32m    316\u001b[0m             \u001b[0mnames\u001b[0m\u001b[1;33m.\u001b[0m\u001b[0mappend\u001b[0m\u001b[1;33m(\u001b[0m\u001b[0mcase_name\u001b[0m\u001b[1;33m)\u001b[0m\u001b[1;33m\u001b[0m\u001b[0m\n\u001b[0;32m    317\u001b[0m             \u001b[0mself\u001b[0m\u001b[1;33m.\u001b[0m\u001b[0mlog\u001b[0m\u001b[1;33m(\u001b[0m\u001b[1;34m\"calculating contribution from: \"\u001b[0m \u001b[1;33m+\u001b[0m \u001b[0mstr\u001b[0m\u001b[1;33m(\u001b[0m\u001b[0mobs_list\u001b[0m\u001b[1;33m)\u001b[0m \u001b[1;33m+\u001b[0m \u001b[1;34m'\\n'\u001b[0m\u001b[1;33m)\u001b[0m\u001b[1;33m\u001b[0m\u001b[0m\n\u001b[1;32m--> 318\u001b[1;33m             \u001b[0mcase_post\u001b[0m \u001b[1;33m=\u001b[0m \u001b[0mself\u001b[0m\u001b[1;33m.\u001b[0m\u001b[0m__importance_of_observations\u001b[0m\u001b[1;33m(\u001b[0m\u001b[0mobs_list\u001b[0m\u001b[1;33m)\u001b[0m\u001b[1;33m\u001b[0m\u001b[0m\n\u001b[0m\u001b[0;32m    319\u001b[0m             \u001b[0mself\u001b[0m\u001b[1;33m.\u001b[0m\u001b[0mlog\u001b[0m\u001b[1;33m(\u001b[0m\u001b[1;34m\"calculating contribution from: \"\u001b[0m \u001b[1;33m+\u001b[0m \u001b[0mstr\u001b[0m\u001b[1;33m(\u001b[0m\u001b[0mobs_list\u001b[0m\u001b[1;33m)\u001b[0m \u001b[1;33m+\u001b[0m \u001b[1;34m'\\n'\u001b[0m\u001b[1;33m)\u001b[0m\u001b[1;33m\u001b[0m\u001b[0m\n\u001b[0;32m    320\u001b[0m             \u001b[1;32mfor\u001b[0m \u001b[0mforecast\u001b[0m\u001b[1;33m,\u001b[0m\u001b[0mpt\u001b[0m \u001b[1;32min\u001b[0m \u001b[0mcase_post\u001b[0m\u001b[1;33m.\u001b[0m\u001b[0mitems\u001b[0m\u001b[1;33m(\u001b[0m\u001b[1;33m)\u001b[0m\u001b[1;33m:\u001b[0m\u001b[1;33m\u001b[0m\u001b[0m\n",
      "\u001b[1;32mD:\\Home\\git\\pyemu\\pyemu\\sc.pyc\u001b[0m in \u001b[0;36m__importance_of_observations\u001b[1;34m(self, observation_names)\u001b[0m\n\u001b[0;32m    277\u001b[0m \u001b[1;33m\u001b[0m\u001b[0m\n\u001b[0;32m    278\u001b[0m         la_reduced = self.get(par_names=self.jco.col_names,\n\u001b[1;32m--> 279\u001b[1;33m                               obs_names=keep_names)\n\u001b[0m\u001b[0;32m    280\u001b[0m         \u001b[1;32mreturn\u001b[0m \u001b[0mla_reduced\u001b[0m\u001b[1;33m.\u001b[0m\u001b[0mposterior_prediction\u001b[0m\u001b[1;33m\u001b[0m\u001b[0m\n\u001b[0;32m    281\u001b[0m         \u001b[1;31m#rpost = la_reduced.posterior_prediction\u001b[0m\u001b[1;33m\u001b[0m\u001b[1;33m\u001b[0m\u001b[0m\n",
      "\u001b[1;32mD:\\Home\\git\\pyemu\\pyemu\\la.pyc\u001b[0m in \u001b[0;36mget\u001b[1;34m(self, par_names, obs_names, astype)\u001b[0m\n\u001b[0;32m    740\u001b[0m             \u001b[0mnew_preds\u001b[0m \u001b[1;33m=\u001b[0m \u001b[0mNone\u001b[0m\u001b[1;33m\u001b[0m\u001b[0m\n\u001b[0;32m    741\u001b[0m         \u001b[1;32mif\u001b[0m \u001b[0mself\u001b[0m\u001b[1;33m.\u001b[0m\u001b[0mjco_arg\u001b[0m \u001b[1;32mis\u001b[0m \u001b[1;32mnot\u001b[0m \u001b[0mNone\u001b[0m\u001b[1;33m:\u001b[0m\u001b[1;33m\u001b[0m\u001b[0m\n\u001b[1;32m--> 742\u001b[1;33m             \u001b[0mnew_jco\u001b[0m \u001b[1;33m=\u001b[0m \u001b[0mself\u001b[0m\u001b[1;33m.\u001b[0m\u001b[0mjco\u001b[0m\u001b[1;33m.\u001b[0m\u001b[0mget\u001b[0m\u001b[1;33m(\u001b[0m\u001b[0mrow_names\u001b[0m\u001b[1;33m=\u001b[0m\u001b[0mobs_names\u001b[0m\u001b[1;33m,\u001b[0m \u001b[0mcol_names\u001b[0m\u001b[1;33m=\u001b[0m\u001b[0mpar_names\u001b[0m\u001b[1;33m)\u001b[0m\u001b[1;33m\u001b[0m\u001b[0m\n\u001b[0m\u001b[0;32m    743\u001b[0m         \u001b[1;32melse\u001b[0m\u001b[1;33m:\u001b[0m\u001b[1;33m\u001b[0m\u001b[0m\n\u001b[0;32m    744\u001b[0m             \u001b[0mnew_jco\u001b[0m \u001b[1;33m=\u001b[0m \u001b[0mNone\u001b[0m\u001b[1;33m\u001b[0m\u001b[0m\n",
      "\u001b[1;32mD:\\Home\\git\\pyemu\\pyemu\\mat\\mat_handler.pyc\u001b[0m in \u001b[0;36mget\u001b[1;34m(self, row_names, col_names, drop)\u001b[0m\n\u001b[0;32m    788\u001b[0m             \u001b[0mrow_names\u001b[0m \u001b[1;33m=\u001b[0m \u001b[0mself\u001b[0m\u001b[1;33m.\u001b[0m\u001b[0mrow_names\u001b[0m\u001b[1;33m\u001b[0m\u001b[0m\n\u001b[0;32m    789\u001b[0m         \u001b[1;32mif\u001b[0m \u001b[0mcol_names\u001b[0m \u001b[1;32mis\u001b[0m \u001b[1;32mnot\u001b[0m \u001b[0mNone\u001b[0m\u001b[1;33m:\u001b[0m\u001b[1;33m\u001b[0m\u001b[0m\n\u001b[1;32m--> 790\u001b[1;33m             \u001b[0mcol_idxs\u001b[0m \u001b[1;33m=\u001b[0m \u001b[0mself\u001b[0m\u001b[1;33m.\u001b[0m\u001b[0mindices\u001b[0m\u001b[1;33m(\u001b[0m\u001b[0mcol_names\u001b[0m\u001b[1;33m,\u001b[0m \u001b[0maxis\u001b[0m\u001b[1;33m=\u001b[0m\u001b[1;36m1\u001b[0m\u001b[1;33m)\u001b[0m\u001b[1;33m\u001b[0m\u001b[0m\n\u001b[0m\u001b[0;32m    791\u001b[0m             \u001b[0mextract\u001b[0m \u001b[1;33m=\u001b[0m \u001b[0mnp\u001b[0m\u001b[1;33m.\u001b[0m\u001b[0matleast_2d\u001b[0m\u001b[1;33m(\u001b[0m\u001b[0mextract\u001b[0m\u001b[1;33m[\u001b[0m\u001b[1;33m:\u001b[0m\u001b[1;33m,\u001b[0m \u001b[0mcol_idxs\u001b[0m\u001b[1;33m]\u001b[0m\u001b[1;33m.\u001b[0m\u001b[0mcopy\u001b[0m\u001b[1;33m(\u001b[0m\u001b[1;33m)\u001b[0m\u001b[1;33m)\u001b[0m\u001b[1;33m\u001b[0m\u001b[0m\n\u001b[0;32m    792\u001b[0m             \u001b[1;32mif\u001b[0m \u001b[0mdrop\u001b[0m\u001b[1;33m:\u001b[0m\u001b[1;33m\u001b[0m\u001b[0m\n",
      "\u001b[1;32mD:\\Home\\git\\pyemu\\pyemu\\mat\\mat_handler.pyc\u001b[0m in \u001b[0;36mindices\u001b[1;34m(self, names, axis)\u001b[0m\n\u001b[0;32m    665\u001b[0m         \u001b[0mrow_idxs\u001b[0m\u001b[1;33m,\u001b[0m \u001b[0mcol_idxs\u001b[0m \u001b[1;33m=\u001b[0m \u001b[1;33m[\u001b[0m\u001b[1;33m]\u001b[0m\u001b[1;33m,\u001b[0m \u001b[1;33m[\u001b[0m\u001b[1;33m]\u001b[0m\u001b[1;33m\u001b[0m\u001b[0m\n\u001b[0;32m    666\u001b[0m         \u001b[1;32mfor\u001b[0m \u001b[0mname\u001b[0m \u001b[1;32min\u001b[0m \u001b[0mnames\u001b[0m\u001b[1;33m:\u001b[0m\u001b[1;33m\u001b[0m\u001b[0m\n\u001b[1;32m--> 667\u001b[1;33m             \u001b[1;32mif\u001b[0m \u001b[0mname\u001b[0m\u001b[1;33m.\u001b[0m\u001b[0mlower\u001b[0m\u001b[1;33m(\u001b[0m\u001b[1;33m)\u001b[0m \u001b[1;32mnot\u001b[0m \u001b[1;32min\u001b[0m \u001b[0mself\u001b[0m\u001b[1;33m.\u001b[0m\u001b[0mcol_names\u001b[0m\u001b[0;31m \u001b[0m\u001b[0;31m\\\u001b[0m\u001b[1;33m\u001b[0m\u001b[0m\n\u001b[0m\u001b[0;32m    668\u001b[0m                     \u001b[1;32mand\u001b[0m \u001b[0mname\u001b[0m\u001b[1;33m.\u001b[0m\u001b[0mlower\u001b[0m\u001b[1;33m(\u001b[0m\u001b[1;33m)\u001b[0m \u001b[1;32mnot\u001b[0m \u001b[1;32min\u001b[0m \u001b[0mself\u001b[0m\u001b[1;33m.\u001b[0m\u001b[0mrow_names\u001b[0m\u001b[1;33m:\u001b[0m\u001b[1;33m\u001b[0m\u001b[0m\n\u001b[0;32m    669\u001b[0m                 \u001b[1;32mraise\u001b[0m \u001b[0mException\u001b[0m\u001b[1;33m(\u001b[0m\u001b[1;34m'Matrix.indices(): name not found: '\u001b[0m \u001b[1;33m+\u001b[0m \u001b[0mname\u001b[0m\u001b[1;33m)\u001b[0m\u001b[1;33m\u001b[0m\u001b[0m\n",
      "\u001b[1;31mKeyboardInterrupt\u001b[0m: "
     ]
    }
   ],
   "source": [
    "df_full = la.get_importance_dataframe(obs_dict)"
   ]
  },
  {
   "cell_type": "markdown",
   "metadata": {
    "collapsed": true
   },
   "source": [
    "##parameter contribution to uncertainty\n",
    "Lets look at which parameters are contributing most to forecast uncertainty.  for demostration purposes, lets group the parameters by parameter group name."
   ]
  },
  {
   "cell_type": "code",
   "execution_count": 47,
   "metadata": {
    "collapsed": false
   },
   "outputs": [
    {
     "name": "stdout",
     "output_type": "stream",
     "text": [
      "2015-11-03 14:43:41.260000 starting: calculating contribution from parameters\n",
      "\n",
      "2015-11-03 14:43:41.260000 starting: propagating prior to predictions\n",
      "\n",
      "2015-11-03 14:43:41.308000 finished: propagating prior to predictions took: 0:00:00.048000\n",
      "\n",
      "2015-11-03 14:43:41.308000 starting: calculating contribution from: ['rch_1', 'rch_2']\n",
      "\n",
      "\n",
      "2015-11-03 14:43:50.658000 finished: calculating contribution from: ['rch_1', 'rch_2']\n",
      " took: 0:00:09.350000\n",
      "\n",
      "2015-11-03 14:43:50.658000 starting: calculating contribution from: ['rcond00', 'rcond01', 'rcond02', 'rcond03', 'rcond04', 'rcond05', 'rcond06', 'rcond07', 'rcond08', 'rcond09', 'rcond10', 'rcond11', 'rcond12', 'rcond13', 'rcond14', 'rcond15', 'rcond16', 'rcond17', 'rcond18', 'rcond19', 'rcond20', 'rcond21', 'rcond22', 'rcond23', 'rcond24', 'rcond25', 'rcond26', 'rcond27', 'rcond28', 'rcond29', 'rcond30', 'rcond31', 'rcond32', 'rcond33', 'rcond34', 'rcond35', 'rcond36', 'rcond37', 'rcond38', 'rcond39']\n",
      "\n",
      "\n",
      "2015-11-03 14:43:59.583000 finished: calculating contribution from: ['rcond00', 'rcond01', 'rcond02', 'rcond03', 'rcond04', 'rcond05', 'rcond06', 'rcond07', 'rcond08', 'rcond09', 'rcond10', 'rcond11', 'rcond12', 'rcond13', 'rcond14', 'rcond15', 'rcond16', 'rcond17', 'rcond18', 'rcond19', 'rcond20', 'rcond21', 'rcond22', 'rcond23', 'rcond24', 'rcond25', 'rcond26', 'rcond27', 'rcond28', 'rcond29', 'rcond30', 'rcond31', 'rcond32', 'rcond33', 'rcond34', 'rcond35', 'rcond36', 'rcond37', 'rcond38', 'rcond39']\n",
      " took: 0:00:08.925000\n",
      "\n",
      "2015-11-03 14:43:59.583000 starting: calculating contribution from: ['ss', 'sy']\n",
      "\n",
      "\n",
      "2015-11-03 14:44:09.529000 finished: calculating contribution from: ['ss', 'sy']\n",
      " took: 0:00:09.946000\n",
      "\n",
      "2015-11-03 14:44:09.531000 starting: calculating contribution from: ['wf1_1', 'wf2_1', 'wf3_1', 'wf4_1', 'wf5_1', 'wf6_1', 'wf1_2', 'wf2_2', 'wf3_2', 'wf4_2', 'wf5_2', 'wf6_2']\n",
      "\n",
      "\n",
      "2015-11-03 14:44:19.381000 finished: calculating contribution from: ['wf1_1', 'wf2_1', 'wf3_1', 'wf4_1', 'wf5_1', 'wf6_1', 'wf1_2', 'wf2_2', 'wf3_2', 'wf4_2', 'wf5_2', 'wf6_2']\n",
      " took: 0:00:09.850000\n",
      "\n",
      "2015-11-03 14:44:19.381000 starting: calculating contribution from: ['hkr00c00', 'hkr00c01', 'hkr00c02', 'hkr00c03', 'hkr00c04', 'hkr00c05', 'hkr00c06', 'hkr00c07', 'hkr00c08', 'hkr00c09', 'hkr00c10', 'hkr00c11', 'hkr00c12', 'hkr00c13', 'hkr00c14', 'hkr00c15', 'hkr00c16', 'hkr00c17', 'hkr00c18', 'hkr00c19', 'hkr01c00', 'hkr01c01', 'hkr01c02', 'hkr01c03', 'hkr01c04', 'hkr01c05', 'hkr01c06', 'hkr01c07', 'hkr01c08', 'hkr01c09', 'hkr01c10', 'hkr01c11', 'hkr01c12', 'hkr01c13', 'hkr01c14', 'hkr01c15', 'hkr01c16', 'hkr01c17', 'hkr01c18', 'hkr01c19', 'hkr02c00', 'hkr02c01', 'hkr02c02', 'hkr02c03', 'hkr02c04', 'hkr02c05', 'hkr02c06', 'hkr02c07', 'hkr02c08', 'hkr02c09', 'hkr02c10', 'hkr02c11', 'hkr02c12', 'hkr02c13', 'hkr02c14', 'hkr02c15', 'hkr02c16', 'hkr02c17', 'hkr02c18', 'hkr02c19', 'hkr03c00', 'hkr03c01', 'hkr03c02', 'hkr03c03', 'hkr03c04', 'hkr03c05', 'hkr03c06', 'hkr03c07', 'hkr03c08', 'hkr03c09', 'hkr03c10', 'hkr03c11', 'hkr03c12', 'hkr03c13', 'hkr03c14', 'hkr03c15', 'hkr03c16', 'hkr03c17', 'hkr03c18', 'hkr03c19', 'hkr04c00', 'hkr04c01', 'hkr04c02', 'hkr04c03', 'hkr04c04', 'hkr04c05', 'hkr04c06', 'hkr04c07', 'hkr04c08', 'hkr04c09', 'hkr04c10', 'hkr04c11', 'hkr04c12', 'hkr04c13', 'hkr04c14', 'hkr04c15', 'hkr04c16', 'hkr04c17', 'hkr04c18', 'hkr04c19', 'hkr05c00', 'hkr05c01', 'hkr05c02', 'hkr05c03', 'hkr05c04', 'hkr05c05', 'hkr05c06', 'hkr05c07', 'hkr05c08', 'hkr05c09', 'hkr05c10', 'hkr05c11', 'hkr05c12', 'hkr05c13', 'hkr05c14', 'hkr05c15', 'hkr05c16', 'hkr05c17', 'hkr05c18', 'hkr05c19', 'hkr06c00', 'hkr06c01', 'hkr06c02', 'hkr06c03', 'hkr06c04', 'hkr06c05', 'hkr06c06', 'hkr06c07', 'hkr06c08', 'hkr06c09', 'hkr06c10', 'hkr06c11', 'hkr06c12', 'hkr06c13', 'hkr06c14', 'hkr06c15', 'hkr06c16', 'hkr06c17', 'hkr06c18', 'hkr06c19', 'hkr07c00', 'hkr07c01', 'hkr07c02', 'hkr07c03', 'hkr07c04', 'hkr07c05', 'hkr07c06', 'hkr07c07', 'hkr07c08', 'hkr07c09', 'hkr07c10', 'hkr07c11', 'hkr07c12', 'hkr07c13', 'hkr07c14', 'hkr07c15', 'hkr07c16', 'hkr07c17', 'hkr07c18', 'hkr07c19', 'hkr08c00', 'hkr08c01', 'hkr08c02', 'hkr08c03', 'hkr08c07', 'hkr08c08', 'hkr08c09', 'hkr08c10', 'hkr08c11', 'hkr08c12', 'hkr08c13', 'hkr08c14', 'hkr08c15', 'hkr08c16', 'hkr08c17', 'hkr08c18', 'hkr08c19', 'hkr09c00', 'hkr09c01', 'hkr09c02', 'hkr09c03', 'hkr09c08', 'hkr09c09', 'hkr09c10', 'hkr09c11', 'hkr09c12', 'hkr09c13', 'hkr09c14', 'hkr09c15', 'hkr09c16', 'hkr09c17', 'hkr09c18', 'hkr09c19', 'hkr10c00', 'hkr10c01', 'hkr10c02', 'hkr10c03', 'hkr10c08', 'hkr10c09', 'hkr10c10', 'hkr10c11', 'hkr10c12', 'hkr10c13', 'hkr10c14', 'hkr10c15', 'hkr10c16', 'hkr10c17', 'hkr10c18', 'hkr10c19', 'hkr11c00', 'hkr11c01', 'hkr11c02', 'hkr11c03', 'hkr11c08', 'hkr11c09', 'hkr11c10', 'hkr11c11', 'hkr11c12', 'hkr11c13', 'hkr11c14', 'hkr11c15', 'hkr11c16', 'hkr11c17', 'hkr11c18', 'hkr11c19', 'hkr12c00', 'hkr12c01', 'hkr12c02', 'hkr12c03', 'hkr12c08', 'hkr12c09', 'hkr12c10', 'hkr12c11', 'hkr12c12', 'hkr12c13', 'hkr12c14', 'hkr12c15', 'hkr12c16', 'hkr12c17', 'hkr12c18', 'hkr12c19', 'hkr13c00', 'hkr13c01', 'hkr13c02', 'hkr13c03', 'hkr13c08', 'hkr13c09', 'hkr13c10', 'hkr13c11', 'hkr13c12', 'hkr13c13', 'hkr13c14', 'hkr13c15', 'hkr13c16', 'hkr13c17', 'hkr13c18', 'hkr13c19', 'hkr14c00', 'hkr14c01', 'hkr14c02', 'hkr14c03', 'hkr14c08', 'hkr14c09', 'hkr14c10', 'hkr14c11', 'hkr14c12', 'hkr14c13', 'hkr14c14', 'hkr14c15', 'hkr14c16', 'hkr14c17', 'hkr14c18', 'hkr14c19', 'hkr15c00', 'hkr15c01', 'hkr15c02', 'hkr15c03', 'hkr15c08', 'hkr15c09', 'hkr15c10', 'hkr15c11', 'hkr15c12', 'hkr15c13', 'hkr15c14', 'hkr15c15', 'hkr15c16', 'hkr15c17', 'hkr15c18', 'hkr15c19', 'hkr16c00', 'hkr16c01', 'hkr16c02', 'hkr16c03', 'hkr16c08', 'hkr16c09', 'hkr16c10', 'hkr16c11', 'hkr16c12', 'hkr16c13', 'hkr16c14', 'hkr16c15', 'hkr16c16', 'hkr16c17', 'hkr16c18', 'hkr16c19', 'hkr17c00', 'hkr17c01', 'hkr17c02', 'hkr17c03', 'hkr17c08', 'hkr17c09', 'hkr17c10', 'hkr17c11', 'hkr17c12', 'hkr17c13', 'hkr17c14', 'hkr17c15', 'hkr17c16', 'hkr17c17', 'hkr17c18', 'hkr17c19', 'hkr18c00', 'hkr18c01', 'hkr18c02', 'hkr18c03', 'hkr18c08', 'hkr18c09', 'hkr18c10', 'hkr18c11', 'hkr18c12', 'hkr18c13', 'hkr18c14', 'hkr18c15', 'hkr18c16', 'hkr18c17', 'hkr18c18', 'hkr18c19', 'hkr19c00', 'hkr19c01', 'hkr19c02', 'hkr19c03', 'hkr19c08', 'hkr19c09', 'hkr19c10', 'hkr19c11', 'hkr19c12', 'hkr19c13', 'hkr19c14', 'hkr19c15', 'hkr19c16', 'hkr19c17', 'hkr19c18', 'hkr19c19', 'hkr20c00', 'hkr20c01', 'hkr20c02', 'hkr20c03', 'hkr20c08', 'hkr20c09', 'hkr20c10', 'hkr20c11', 'hkr20c12', 'hkr20c13', 'hkr20c14', 'hkr20c15', 'hkr20c16', 'hkr20c17', 'hkr20c18', 'hkr20c19', 'hkr21c00', 'hkr21c01', 'hkr21c02', 'hkr21c03', 'hkr21c06', 'hkr21c07', 'hkr21c08', 'hkr21c09', 'hkr21c10', 'hkr21c11', 'hkr21c12', 'hkr21c13', 'hkr21c14', 'hkr21c15', 'hkr21c16', 'hkr21c17', 'hkr21c18', 'hkr21c19', 'hkr22c00', 'hkr22c01', 'hkr22c02', 'hkr22c03', 'hkr22c04', 'hkr22c06', 'hkr22c07', 'hkr22c08', 'hkr22c09', 'hkr22c10', 'hkr22c11', 'hkr22c12', 'hkr22c13', 'hkr22c14', 'hkr22c15', 'hkr22c16', 'hkr22c17', 'hkr22c18', 'hkr22c19', 'hkr23c00', 'hkr23c01', 'hkr23c02', 'hkr23c03', 'hkr23c04', 'hkr23c05', 'hkr23c06', 'hkr23c07', 'hkr23c08', 'hkr23c09', 'hkr23c10', 'hkr23c11', 'hkr23c12', 'hkr23c13', 'hkr23c14', 'hkr23c15', 'hkr23c16', 'hkr23c17', 'hkr23c18', 'hkr23c19', 'hkr24c00', 'hkr24c01', 'hkr24c02', 'hkr24c03', 'hkr24c04', 'hkr24c05', 'hkr24c06', 'hkr24c07', 'hkr24c08', 'hkr24c09', 'hkr24c10', 'hkr24c11', 'hkr24c12', 'hkr24c13', 'hkr24c14', 'hkr24c15', 'hkr24c16', 'hkr24c17', 'hkr24c18', 'hkr24c19', 'hkr25c00', 'hkr25c01', 'hkr25c02', 'hkr25c03', 'hkr25c04', 'hkr25c05', 'hkr25c06', 'hkr25c07', 'hkr25c08', 'hkr25c09', 'hkr25c10', 'hkr25c11', 'hkr25c12', 'hkr25c13', 'hkr25c14', 'hkr25c15', 'hkr25c16', 'hkr25c17', 'hkr25c18', 'hkr25c19', 'hkr26c00', 'hkr26c01', 'hkr26c02', 'hkr26c03', 'hkr26c04', 'hkr26c05', 'hkr26c06', 'hkr26c07', 'hkr26c08', 'hkr26c09', 'hkr26c10', 'hkr26c11', 'hkr26c12', 'hkr26c13', 'hkr26c14', 'hkr26c15', 'hkr26c16', 'hkr26c17', 'hkr26c18', 'hkr26c19', 'hkr27c00', 'hkr27c01', 'hkr27c02', 'hkr27c03', 'hkr27c04', 'hkr27c05', 'hkr27c06', 'hkr27c07', 'hkr27c08', 'hkr27c09', 'hkr27c10', 'hkr27c11', 'hkr27c12', 'hkr27c13', 'hkr27c14', 'hkr27c15', 'hkr27c16', 'hkr27c17', 'hkr27c18', 'hkr27c19', 'hkr28c00', 'hkr28c01', 'hkr28c02', 'hkr28c03', 'hkr28c04', 'hkr28c05', 'hkr28c06', 'hkr28c07', 'hkr28c08', 'hkr28c09', 'hkr28c10', 'hkr28c11', 'hkr28c12', 'hkr28c13', 'hkr28c14', 'hkr28c15', 'hkr28c16', 'hkr28c17', 'hkr28c18', 'hkr28c19', 'hkr29c00', 'hkr29c01', 'hkr29c02', 'hkr29c03', 'hkr29c04', 'hkr29c05', 'hkr29c06', 'hkr29c07', 'hkr29c08', 'hkr29c09', 'hkr29c10', 'hkr29c11', 'hkr29c12', 'hkr29c13', 'hkr29c14', 'hkr29c15', 'hkr29c16', 'hkr29c17', 'hkr29c18', 'hkr29c19', 'hkr30c00', 'hkr30c01', 'hkr30c02', 'hkr30c03', 'hkr30c04', 'hkr30c05', 'hkr30c06', 'hkr30c07', 'hkr30c08', 'hkr30c09', 'hkr30c10', 'hkr30c11', 'hkr30c12', 'hkr30c13', 'hkr30c14', 'hkr30c15', 'hkr30c16', 'hkr30c17', 'hkr30c18', 'hkr30c19', 'hkr31c00', 'hkr31c01', 'hkr31c02', 'hkr31c03', 'hkr31c04', 'hkr31c05', 'hkr31c06', 'hkr31c07', 'hkr31c08', 'hkr31c09', 'hkr31c10', 'hkr31c11', 'hkr31c12', 'hkr31c13', 'hkr31c14', 'hkr31c15', 'hkr31c16', 'hkr31c17', 'hkr31c18', 'hkr31c19', 'hkr32c01', 'hkr32c02', 'hkr32c03', 'hkr32c04', 'hkr32c05', 'hkr32c06', 'hkr32c07', 'hkr32c08', 'hkr32c09', 'hkr32c10', 'hkr32c11', 'hkr32c12', 'hkr32c13', 'hkr32c14', 'hkr32c15', 'hkr32c16', 'hkr32c17', 'hkr32c18', 'hkr32c19', 'hkr33c02', 'hkr33c03', 'hkr33c04', 'hkr33c05', 'hkr33c06', 'hkr33c07', 'hkr33c08', 'hkr33c09', 'hkr33c10', 'hkr33c11', 'hkr33c12', 'hkr33c13', 'hkr33c14', 'hkr33c15', 'hkr33c16', 'hkr33c17', 'hkr33c18', 'hkr33c19', 'hkr34c03', 'hkr34c04', 'hkr34c05', 'hkr34c06', 'hkr34c07', 'hkr34c08', 'hkr34c09', 'hkr34c10', 'hkr34c11', 'hkr34c12', 'hkr34c13', 'hkr34c14', 'hkr34c15', 'hkr34c16', 'hkr34c17', 'hkr34c18', 'hkr34c19', 'hkr35c04', 'hkr35c05', 'hkr35c06', 'hkr35c07', 'hkr35c08', 'hkr35c09', 'hkr35c10', 'hkr35c11', 'hkr35c12', 'hkr35c13', 'hkr35c14', 'hkr35c15', 'hkr35c16', 'hkr35c17', 'hkr35c18', 'hkr36c04', 'hkr36c05', 'hkr36c06', 'hkr36c07', 'hkr36c08', 'hkr36c09', 'hkr36c10', 'hkr36c11', 'hkr36c12', 'hkr36c13', 'hkr36c14', 'hkr36c15', 'hkr36c16', 'hkr36c17', 'hkr36c18', 'hkr37c05', 'hkr37c06', 'hkr37c07', 'hkr37c08', 'hkr37c09', 'hkr37c10', 'hkr37c11', 'hkr37c12', 'hkr37c13', 'hkr37c14', 'hkr37c15', 'hkr37c16', 'hkr37c17', 'hkr38c05', 'hkr38c06', 'hkr38c07', 'hkr38c08', 'hkr38c09', 'hkr38c10', 'hkr38c11', 'hkr38c12', 'hkr38c13', 'hkr38c14', 'hkr38c15', 'hkr38c16', 'hkr39c05', 'hkr39c06', 'hkr39c07', 'hkr39c08', 'hkr39c09', 'hkr39c10', 'hkr39c11', 'hkr39c12', 'hkr39c13', 'hkr39c14']\n",
      "\n",
      "\n",
      "2015-11-03 14:44:21.490000 finished: calculating contribution from: ['hkr00c00', 'hkr00c01', 'hkr00c02', 'hkr00c03', 'hkr00c04', 'hkr00c05', 'hkr00c06', 'hkr00c07', 'hkr00c08', 'hkr00c09', 'hkr00c10', 'hkr00c11', 'hkr00c12', 'hkr00c13', 'hkr00c14', 'hkr00c15', 'hkr00c16', 'hkr00c17', 'hkr00c18', 'hkr00c19', 'hkr01c00', 'hkr01c01', 'hkr01c02', 'hkr01c03', 'hkr01c04', 'hkr01c05', 'hkr01c06', 'hkr01c07', 'hkr01c08', 'hkr01c09', 'hkr01c10', 'hkr01c11', 'hkr01c12', 'hkr01c13', 'hkr01c14', 'hkr01c15', 'hkr01c16', 'hkr01c17', 'hkr01c18', 'hkr01c19', 'hkr02c00', 'hkr02c01', 'hkr02c02', 'hkr02c03', 'hkr02c04', 'hkr02c05', 'hkr02c06', 'hkr02c07', 'hkr02c08', 'hkr02c09', 'hkr02c10', 'hkr02c11', 'hkr02c12', 'hkr02c13', 'hkr02c14', 'hkr02c15', 'hkr02c16', 'hkr02c17', 'hkr02c18', 'hkr02c19', 'hkr03c00', 'hkr03c01', 'hkr03c02', 'hkr03c03', 'hkr03c04', 'hkr03c05', 'hkr03c06', 'hkr03c07', 'hkr03c08', 'hkr03c09', 'hkr03c10', 'hkr03c11', 'hkr03c12', 'hkr03c13', 'hkr03c14', 'hkr03c15', 'hkr03c16', 'hkr03c17', 'hkr03c18', 'hkr03c19', 'hkr04c00', 'hkr04c01', 'hkr04c02', 'hkr04c03', 'hkr04c04', 'hkr04c05', 'hkr04c06', 'hkr04c07', 'hkr04c08', 'hkr04c09', 'hkr04c10', 'hkr04c11', 'hkr04c12', 'hkr04c13', 'hkr04c14', 'hkr04c15', 'hkr04c16', 'hkr04c17', 'hkr04c18', 'hkr04c19', 'hkr05c00', 'hkr05c01', 'hkr05c02', 'hkr05c03', 'hkr05c04', 'hkr05c05', 'hkr05c06', 'hkr05c07', 'hkr05c08', 'hkr05c09', 'hkr05c10', 'hkr05c11', 'hkr05c12', 'hkr05c13', 'hkr05c14', 'hkr05c15', 'hkr05c16', 'hkr05c17', 'hkr05c18', 'hkr05c19', 'hkr06c00', 'hkr06c01', 'hkr06c02', 'hkr06c03', 'hkr06c04', 'hkr06c05', 'hkr06c06', 'hkr06c07', 'hkr06c08', 'hkr06c09', 'hkr06c10', 'hkr06c11', 'hkr06c12', 'hkr06c13', 'hkr06c14', 'hkr06c15', 'hkr06c16', 'hkr06c17', 'hkr06c18', 'hkr06c19', 'hkr07c00', 'hkr07c01', 'hkr07c02', 'hkr07c03', 'hkr07c04', 'hkr07c05', 'hkr07c06', 'hkr07c07', 'hkr07c08', 'hkr07c09', 'hkr07c10', 'hkr07c11', 'hkr07c12', 'hkr07c13', 'hkr07c14', 'hkr07c15', 'hkr07c16', 'hkr07c17', 'hkr07c18', 'hkr07c19', 'hkr08c00', 'hkr08c01', 'hkr08c02', 'hkr08c03', 'hkr08c07', 'hkr08c08', 'hkr08c09', 'hkr08c10', 'hkr08c11', 'hkr08c12', 'hkr08c13', 'hkr08c14', 'hkr08c15', 'hkr08c16', 'hkr08c17', 'hkr08c18', 'hkr08c19', 'hkr09c00', 'hkr09c01', 'hkr09c02', 'hkr09c03', 'hkr09c08', 'hkr09c09', 'hkr09c10', 'hkr09c11', 'hkr09c12', 'hkr09c13', 'hkr09c14', 'hkr09c15', 'hkr09c16', 'hkr09c17', 'hkr09c18', 'hkr09c19', 'hkr10c00', 'hkr10c01', 'hkr10c02', 'hkr10c03', 'hkr10c08', 'hkr10c09', 'hkr10c10', 'hkr10c11', 'hkr10c12', 'hkr10c13', 'hkr10c14', 'hkr10c15', 'hkr10c16', 'hkr10c17', 'hkr10c18', 'hkr10c19', 'hkr11c00', 'hkr11c01', 'hkr11c02', 'hkr11c03', 'hkr11c08', 'hkr11c09', 'hkr11c10', 'hkr11c11', 'hkr11c12', 'hkr11c13', 'hkr11c14', 'hkr11c15', 'hkr11c16', 'hkr11c17', 'hkr11c18', 'hkr11c19', 'hkr12c00', 'hkr12c01', 'hkr12c02', 'hkr12c03', 'hkr12c08', 'hkr12c09', 'hkr12c10', 'hkr12c11', 'hkr12c12', 'hkr12c13', 'hkr12c14', 'hkr12c15', 'hkr12c16', 'hkr12c17', 'hkr12c18', 'hkr12c19', 'hkr13c00', 'hkr13c01', 'hkr13c02', 'hkr13c03', 'hkr13c08', 'hkr13c09', 'hkr13c10', 'hkr13c11', 'hkr13c12', 'hkr13c13', 'hkr13c14', 'hkr13c15', 'hkr13c16', 'hkr13c17', 'hkr13c18', 'hkr13c19', 'hkr14c00', 'hkr14c01', 'hkr14c02', 'hkr14c03', 'hkr14c08', 'hkr14c09', 'hkr14c10', 'hkr14c11', 'hkr14c12', 'hkr14c13', 'hkr14c14', 'hkr14c15', 'hkr14c16', 'hkr14c17', 'hkr14c18', 'hkr14c19', 'hkr15c00', 'hkr15c01', 'hkr15c02', 'hkr15c03', 'hkr15c08', 'hkr15c09', 'hkr15c10', 'hkr15c11', 'hkr15c12', 'hkr15c13', 'hkr15c14', 'hkr15c15', 'hkr15c16', 'hkr15c17', 'hkr15c18', 'hkr15c19', 'hkr16c00', 'hkr16c01', 'hkr16c02', 'hkr16c03', 'hkr16c08', 'hkr16c09', 'hkr16c10', 'hkr16c11', 'hkr16c12', 'hkr16c13', 'hkr16c14', 'hkr16c15', 'hkr16c16', 'hkr16c17', 'hkr16c18', 'hkr16c19', 'hkr17c00', 'hkr17c01', 'hkr17c02', 'hkr17c03', 'hkr17c08', 'hkr17c09', 'hkr17c10', 'hkr17c11', 'hkr17c12', 'hkr17c13', 'hkr17c14', 'hkr17c15', 'hkr17c16', 'hkr17c17', 'hkr17c18', 'hkr17c19', 'hkr18c00', 'hkr18c01', 'hkr18c02', 'hkr18c03', 'hkr18c08', 'hkr18c09', 'hkr18c10', 'hkr18c11', 'hkr18c12', 'hkr18c13', 'hkr18c14', 'hkr18c15', 'hkr18c16', 'hkr18c17', 'hkr18c18', 'hkr18c19', 'hkr19c00', 'hkr19c01', 'hkr19c02', 'hkr19c03', 'hkr19c08', 'hkr19c09', 'hkr19c10', 'hkr19c11', 'hkr19c12', 'hkr19c13', 'hkr19c14', 'hkr19c15', 'hkr19c16', 'hkr19c17', 'hkr19c18', 'hkr19c19', 'hkr20c00', 'hkr20c01', 'hkr20c02', 'hkr20c03', 'hkr20c08', 'hkr20c09', 'hkr20c10', 'hkr20c11', 'hkr20c12', 'hkr20c13', 'hkr20c14', 'hkr20c15', 'hkr20c16', 'hkr20c17', 'hkr20c18', 'hkr20c19', 'hkr21c00', 'hkr21c01', 'hkr21c02', 'hkr21c03', 'hkr21c06', 'hkr21c07', 'hkr21c08', 'hkr21c09', 'hkr21c10', 'hkr21c11', 'hkr21c12', 'hkr21c13', 'hkr21c14', 'hkr21c15', 'hkr21c16', 'hkr21c17', 'hkr21c18', 'hkr21c19', 'hkr22c00', 'hkr22c01', 'hkr22c02', 'hkr22c03', 'hkr22c04', 'hkr22c06', 'hkr22c07', 'hkr22c08', 'hkr22c09', 'hkr22c10', 'hkr22c11', 'hkr22c12', 'hkr22c13', 'hkr22c14', 'hkr22c15', 'hkr22c16', 'hkr22c17', 'hkr22c18', 'hkr22c19', 'hkr23c00', 'hkr23c01', 'hkr23c02', 'hkr23c03', 'hkr23c04', 'hkr23c05', 'hkr23c06', 'hkr23c07', 'hkr23c08', 'hkr23c09', 'hkr23c10', 'hkr23c11', 'hkr23c12', 'hkr23c13', 'hkr23c14', 'hkr23c15', 'hkr23c16', 'hkr23c17', 'hkr23c18', 'hkr23c19', 'hkr24c00', 'hkr24c01', 'hkr24c02', 'hkr24c03', 'hkr24c04', 'hkr24c05', 'hkr24c06', 'hkr24c07', 'hkr24c08', 'hkr24c09', 'hkr24c10', 'hkr24c11', 'hkr24c12', 'hkr24c13', 'hkr24c14', 'hkr24c15', 'hkr24c16', 'hkr24c17', 'hkr24c18', 'hkr24c19', 'hkr25c00', 'hkr25c01', 'hkr25c02', 'hkr25c03', 'hkr25c04', 'hkr25c05', 'hkr25c06', 'hkr25c07', 'hkr25c08', 'hkr25c09', 'hkr25c10', 'hkr25c11', 'hkr25c12', 'hkr25c13', 'hkr25c14', 'hkr25c15', 'hkr25c16', 'hkr25c17', 'hkr25c18', 'hkr25c19', 'hkr26c00', 'hkr26c01', 'hkr26c02', 'hkr26c03', 'hkr26c04', 'hkr26c05', 'hkr26c06', 'hkr26c07', 'hkr26c08', 'hkr26c09', 'hkr26c10', 'hkr26c11', 'hkr26c12', 'hkr26c13', 'hkr26c14', 'hkr26c15', 'hkr26c16', 'hkr26c17', 'hkr26c18', 'hkr26c19', 'hkr27c00', 'hkr27c01', 'hkr27c02', 'hkr27c03', 'hkr27c04', 'hkr27c05', 'hkr27c06', 'hkr27c07', 'hkr27c08', 'hkr27c09', 'hkr27c10', 'hkr27c11', 'hkr27c12', 'hkr27c13', 'hkr27c14', 'hkr27c15', 'hkr27c16', 'hkr27c17', 'hkr27c18', 'hkr27c19', 'hkr28c00', 'hkr28c01', 'hkr28c02', 'hkr28c03', 'hkr28c04', 'hkr28c05', 'hkr28c06', 'hkr28c07', 'hkr28c08', 'hkr28c09', 'hkr28c10', 'hkr28c11', 'hkr28c12', 'hkr28c13', 'hkr28c14', 'hkr28c15', 'hkr28c16', 'hkr28c17', 'hkr28c18', 'hkr28c19', 'hkr29c00', 'hkr29c01', 'hkr29c02', 'hkr29c03', 'hkr29c04', 'hkr29c05', 'hkr29c06', 'hkr29c07', 'hkr29c08', 'hkr29c09', 'hkr29c10', 'hkr29c11', 'hkr29c12', 'hkr29c13', 'hkr29c14', 'hkr29c15', 'hkr29c16', 'hkr29c17', 'hkr29c18', 'hkr29c19', 'hkr30c00', 'hkr30c01', 'hkr30c02', 'hkr30c03', 'hkr30c04', 'hkr30c05', 'hkr30c06', 'hkr30c07', 'hkr30c08', 'hkr30c09', 'hkr30c10', 'hkr30c11', 'hkr30c12', 'hkr30c13', 'hkr30c14', 'hkr30c15', 'hkr30c16', 'hkr30c17', 'hkr30c18', 'hkr30c19', 'hkr31c00', 'hkr31c01', 'hkr31c02', 'hkr31c03', 'hkr31c04', 'hkr31c05', 'hkr31c06', 'hkr31c07', 'hkr31c08', 'hkr31c09', 'hkr31c10', 'hkr31c11', 'hkr31c12', 'hkr31c13', 'hkr31c14', 'hkr31c15', 'hkr31c16', 'hkr31c17', 'hkr31c18', 'hkr31c19', 'hkr32c01', 'hkr32c02', 'hkr32c03', 'hkr32c04', 'hkr32c05', 'hkr32c06', 'hkr32c07', 'hkr32c08', 'hkr32c09', 'hkr32c10', 'hkr32c11', 'hkr32c12', 'hkr32c13', 'hkr32c14', 'hkr32c15', 'hkr32c16', 'hkr32c17', 'hkr32c18', 'hkr32c19', 'hkr33c02', 'hkr33c03', 'hkr33c04', 'hkr33c05', 'hkr33c06', 'hkr33c07', 'hkr33c08', 'hkr33c09', 'hkr33c10', 'hkr33c11', 'hkr33c12', 'hkr33c13', 'hkr33c14', 'hkr33c15', 'hkr33c16', 'hkr33c17', 'hkr33c18', 'hkr33c19', 'hkr34c03', 'hkr34c04', 'hkr34c05', 'hkr34c06', 'hkr34c07', 'hkr34c08', 'hkr34c09', 'hkr34c10', 'hkr34c11', 'hkr34c12', 'hkr34c13', 'hkr34c14', 'hkr34c15', 'hkr34c16', 'hkr34c17', 'hkr34c18', 'hkr34c19', 'hkr35c04', 'hkr35c05', 'hkr35c06', 'hkr35c07', 'hkr35c08', 'hkr35c09', 'hkr35c10', 'hkr35c11', 'hkr35c12', 'hkr35c13', 'hkr35c14', 'hkr35c15', 'hkr35c16', 'hkr35c17', 'hkr35c18', 'hkr36c04', 'hkr36c05', 'hkr36c06', 'hkr36c07', 'hkr36c08', 'hkr36c09', 'hkr36c10', 'hkr36c11', 'hkr36c12', 'hkr36c13', 'hkr36c14', 'hkr36c15', 'hkr36c16', 'hkr36c17', 'hkr36c18', 'hkr37c05', 'hkr37c06', 'hkr37c07', 'hkr37c08', 'hkr37c09', 'hkr37c10', 'hkr37c11', 'hkr37c12', 'hkr37c13', 'hkr37c14', 'hkr37c15', 'hkr37c16', 'hkr37c17', 'hkr38c05', 'hkr38c06', 'hkr38c07', 'hkr38c08', 'hkr38c09', 'hkr38c10', 'hkr38c11', 'hkr38c12', 'hkr38c13', 'hkr38c14', 'hkr38c15', 'hkr38c16', 'hkr39c05', 'hkr39c06', 'hkr39c07', 'hkr39c08', 'hkr39c09', 'hkr39c10', 'hkr39c11', 'hkr39c12', 'hkr39c13', 'hkr39c14']\n",
      " took: 0:00:02.109000\n",
      "\n",
      "2015-11-03 14:44:21.490000 finished: calculating contribution from parameters took: 0:00:40.230000\n",
      "\n"
     ]
    },
    {
     "data": {
      "text/html": [
       "<div>\n",
       "<table border=\"1\" class=\"dataframe\">\n",
       "  <thead>\n",
       "    <tr>\n",
       "      <th></th>\n",
       "      <th colspan=\"3\" halign=\"left\">sw_gw_0</th>\n",
       "      <th colspan=\"3\" halign=\"left\">sw_gw_1</th>\n",
       "      <th colspan=\"3\" halign=\"left\">sw_gw_2</th>\n",
       "      <th colspan=\"3\" halign=\"left\">travel_time</th>\n",
       "    </tr>\n",
       "    <tr>\n",
       "      <th></th>\n",
       "      <th>percent_reduce</th>\n",
       "      <th>post</th>\n",
       "      <th>prior</th>\n",
       "      <th>percent_reduce</th>\n",
       "      <th>post</th>\n",
       "      <th>prior</th>\n",
       "      <th>percent_reduce</th>\n",
       "      <th>post</th>\n",
       "      <th>prior</th>\n",
       "      <th>percent_reduce</th>\n",
       "      <th>post</th>\n",
       "      <th>prior</th>\n",
       "    </tr>\n",
       "  </thead>\n",
       "  <tbody>\n",
       "    <tr>\n",
       "      <th>base</th>\n",
       "      <td>43.156275</td>\n",
       "      <td>45266.951772</td>\n",
       "      <td>79634.034592</td>\n",
       "      <td>0.110646</td>\n",
       "      <td>620442.618112</td>\n",
       "      <td>621129.872236</td>\n",
       "      <td>0.049139</td>\n",
       "      <td>662605.246952</td>\n",
       "      <td>662931.005375</td>\n",
       "      <td>10.164098</td>\n",
       "      <td>33390187.489795</td>\n",
       "      <td>37167977.009689</td>\n",
       "    </tr>\n",
       "    <tr>\n",
       "      <th>rch</th>\n",
       "      <td>12.301504</td>\n",
       "      <td>3900.047023</td>\n",
       "      <td>4447.108198</td>\n",
       "      <td>0.168021</td>\n",
       "      <td>185502.204821</td>\n",
       "      <td>185814.411201</td>\n",
       "      <td>0.369992</td>\n",
       "      <td>99058.417661</td>\n",
       "      <td>99426.286977</td>\n",
       "      <td>12.547741</td>\n",
       "      <td>29789240.591144</td>\n",
       "      <td>34063431.732342</td>\n",
       "    </tr>\n",
       "    <tr>\n",
       "      <th>rcond</th>\n",
       "      <td>43.177485</td>\n",
       "      <td>45244.828949</td>\n",
       "      <td>79624.827130</td>\n",
       "      <td>0.110633</td>\n",
       "      <td>620437.848843</td>\n",
       "      <td>621125.016889</td>\n",
       "      <td>0.049117</td>\n",
       "      <td>662600.886403</td>\n",
       "      <td>662926.494620</td>\n",
       "      <td>10.182060</td>\n",
       "      <td>33378116.795841</td>\n",
       "      <td>37161970.853476</td>\n",
       "    </tr>\n",
       "    <tr>\n",
       "      <th>storage</th>\n",
       "      <td>43.156275</td>\n",
       "      <td>45266.951772</td>\n",
       "      <td>79634.034592</td>\n",
       "      <td>0.129891</td>\n",
       "      <td>528412.812692</td>\n",
       "      <td>529100.066815</td>\n",
       "      <td>0.049139</td>\n",
       "      <td>662605.246818</td>\n",
       "      <td>662931.005241</td>\n",
       "      <td>10.164098</td>\n",
       "      <td>33390187.489795</td>\n",
       "      <td>37167977.009689</td>\n",
       "    </tr>\n",
       "    <tr>\n",
       "      <th>welflux</th>\n",
       "      <td>43.743394</td>\n",
       "      <td>43617.767683</td>\n",
       "      <td>77533.592215</td>\n",
       "      <td>0.130449</td>\n",
       "      <td>527751.898672</td>\n",
       "      <td>528441.245961</td>\n",
       "      <td>0.058322</td>\n",
       "      <td>564243.327297</td>\n",
       "      <td>564572.594781</td>\n",
       "      <td>10.282171</td>\n",
       "      <td>33132696.770939</td>\n",
       "      <td>36929891.310551</td>\n",
       "    </tr>\n",
       "    <tr>\n",
       "      <th>hk</th>\n",
       "      <td>98.743279</td>\n",
       "      <td>971.402233</td>\n",
       "      <td>77296.576233</td>\n",
       "      <td>0.134450</td>\n",
       "      <td>619205.103398</td>\n",
       "      <td>620038.748077</td>\n",
       "      <td>0.000009</td>\n",
       "      <td>661867.579093</td>\n",
       "      <td>661867.639881</td>\n",
       "      <td>0.008877</td>\n",
       "      <td>3348339.887610</td>\n",
       "      <td>3348637.132700</td>\n",
       "    </tr>\n",
       "  </tbody>\n",
       "</table>\n",
       "</div>"
      ],
      "text/plain": [
       "               sw_gw_0                                    sw_gw_1  \\\n",
       "        percent_reduce          post         prior percent_reduce   \n",
       "base         43.156275  45266.951772  79634.034592       0.110646   \n",
       "rch          12.301504   3900.047023   4447.108198       0.168021   \n",
       "rcond        43.177485  45244.828949  79624.827130       0.110633   \n",
       "storage      43.156275  45266.951772  79634.034592       0.129891   \n",
       "welflux      43.743394  43617.767683  77533.592215       0.130449   \n",
       "hk           98.743279    971.402233  77296.576233       0.134450   \n",
       "\n",
       "                                             sw_gw_2                 \\\n",
       "                  post          prior percent_reduce           post   \n",
       "base     620442.618112  621129.872236       0.049139  662605.246952   \n",
       "rch      185502.204821  185814.411201       0.369992   99058.417661   \n",
       "rcond    620437.848843  621125.016889       0.049117  662600.886403   \n",
       "storage  528412.812692  529100.066815       0.049139  662605.246818   \n",
       "welflux  527751.898672  528441.245961       0.058322  564243.327297   \n",
       "hk       619205.103398  620038.748077       0.000009  661867.579093   \n",
       "\n",
       "                          travel_time                                    \n",
       "                 prior percent_reduce             post            prior  \n",
       "base     662931.005375      10.164098  33390187.489795  37167977.009689  \n",
       "rch       99426.286977      12.547741  29789240.591144  34063431.732342  \n",
       "rcond    662926.494620      10.182060  33378116.795841  37161970.853476  \n",
       "storage  662931.005241      10.164098  33390187.489795  37167977.009689  \n",
       "welflux  564572.594781      10.282171  33132696.770939  36929891.310551  \n",
       "hk       661867.639881       0.008877   3348339.887610   3348637.132700  "
      ]
     },
     "execution_count": 47,
     "metadata": {},
     "output_type": "execute_result"
    }
   ],
   "source": [
    "df = la.get_contribution_dataframe_groups()\n",
    "df"
   ]
  },
  {
   "cell_type": "markdown",
   "metadata": {},
   "source": [
    "We see some interesting results here.  The sw-gw flux during calibration (sw_gw_0) is more influenced by recharge unceratinty, which the travel time forecast is controlled by hydraulic conductivity uncertainty.  Furthermore, the two forecast period sw-gw flux forecasts are also influenced by recharge uncertainty, but it is the recharge and water use during the forecast period (recharge parameter rch_2 and well flux parameters wf*_2) as well as storage parameters. Unfortunately these parameters are not effected by calibration.  Therefore the foreacasts that depend on these parameters show no uncertainty reduction by calibration.  So if we are most interested in sw-gw exchange under future climate and water use conditions, calibration is not doing any good."
   ]
  },
  {
   "cell_type": "code",
   "execution_count": null,
   "metadata": {
    "collapsed": true
   },
   "outputs": [],
   "source": []
  }
 ],
 "metadata": {
  "kernelspec": {
   "display_name": "Python 2",
   "language": "python",
   "name": "python2"
  },
  "language_info": {
   "codemirror_mode": {
    "name": "ipython",
    "version": 2
   },
   "file_extension": ".py",
   "mimetype": "text/x-python",
   "name": "python",
   "nbconvert_exporter": "python",
   "pygments_lexer": "ipython2",
   "version": "2.7.9"
  }
 },
 "nbformat": 4,
 "nbformat_minor": 0
}
