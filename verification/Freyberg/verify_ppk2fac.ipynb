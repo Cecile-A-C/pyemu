{
 "cells": [
  {
   "cell_type": "code",
   "execution_count": 22,
   "metadata": {
    "collapsed": false
   },
   "outputs": [],
   "source": [
    "import os\n",
    "import subprocess as sp\n",
    "import numpy as np\n",
    "import pandas as pd\n",
    "import pyemu\n",
    "import flopy"
   ]
  },
  {
   "cell_type": "code",
   "execution_count": 23,
   "metadata": {
    "collapsed": false,
    "scrolled": true
   },
   "outputs": [],
   "source": [
    "ml = flopy.modflow.Modflow.load(\"freyberg.nam\",model_ws=\"extra_crispy\",load_only=[\"UPW\"])\n",
    "ml.sr.write_gridSpec(\"grid.spc\")\n",
    "pp_df = pyemu.utils.gw_utils.setup_pilotpoints_grid(ml)\n"
   ]
  },
  {
   "cell_type": "code",
   "execution_count": 24,
   "metadata": {
    "collapsed": false
   },
   "outputs": [],
   "source": [
    "np.savetxt(\"zone.dat\",np.ones((ml.nrow,ml.ncol),dtype=np.int),fmt=\"%2d\")"
   ]
  },
  {
   "cell_type": "code",
   "execution_count": 25,
   "metadata": {
    "collapsed": false
   },
   "outputs": [
    {
     "data": {
      "text/plain": [
       "0"
      ]
     },
     "execution_count": 25,
     "metadata": {},
     "output_type": "execute_result"
    }
   ],
   "source": [
    "args = [\"grid.spc\",\"pp_00_pp.dat\",\"0.0\",\"zone.dat\",\"f\",\"structure.complex.dat\",\\\n",
    "        \"struct1\",\"o\",\"1.0e+10\",\"1\",\"10\",\"ppk2fac_fac.dat\",\"f\",\\\n",
    "        \"ppk2fac_stdev.ref\",\"reg.dat\"]\n",
    "with open(\"ppk2fac.in\",'w') as f:\n",
    "    f.write('\\n'.join(args))\n",
    "os.system(\"ppk2fac.exe < ppk2fac.in\")"
   ]
  },
  {
   "cell_type": "code",
   "execution_count": 26,
   "metadata": {
    "collapsed": false
   },
   "outputs": [],
   "source": [
    "ok = pyemu.utils.OrdinaryKrige(\"structure.complex.dat\",\"pp_00_pp.dat\")"
   ]
  },
  {
   "cell_type": "code",
   "execution_count": 27,
   "metadata": {
    "collapsed": false
   },
   "outputs": [],
   "source": [
    "df_interp = ok.calc_factors_grid(ml.sr,maxpts_interp=10)"
   ]
  },
  {
   "cell_type": "code",
   "execution_count": 28,
   "metadata": {
    "collapsed": true
   },
   "outputs": [],
   "source": [
    "ok.to_grid_factors_file(\"pyemu_factors.dat\")"
   ]
  },
  {
   "cell_type": "code",
   "execution_count": null,
   "metadata": {
    "collapsed": true
   },
   "outputs": [],
   "source": []
  },
  {
   "cell_type": "code",
   "execution_count": null,
   "metadata": {
    "collapsed": true
   },
   "outputs": [],
   "source": []
  }
 ],
 "metadata": {
  "kernelspec": {
   "display_name": "Python 3",
   "language": "python",
   "name": "python3"
  },
  "language_info": {
   "codemirror_mode": {
    "name": "ipython",
    "version": 3
   },
   "file_extension": ".py",
   "mimetype": "text/x-python",
   "name": "python",
   "nbconvert_exporter": "python",
   "pygments_lexer": "ipython3",
   "version": "3.5.1"
  }
 },
 "nbformat": 4,
 "nbformat_minor": 0
}
