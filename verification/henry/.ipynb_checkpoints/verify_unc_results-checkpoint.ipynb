{
 "metadata": {
  "name": "",
  "signature": "sha256:587b4208c7bbcfe45c783d66ae50cd33a164527e5a628fe34451186dc4cc9e32"
 },
 "nbformat": 3,
 "nbformat_minor": 0,
 "worksheets": [
  {
   "cells": [
    {
     "cell_type": "markdown",
     "metadata": {},
     "source": [
      "#verify pyEMU results with the henry problem"
     ]
    },
    {
     "cell_type": "code",
     "collapsed": false,
     "input": [
      "%pylab inline\n",
      "import os\n",
      "import numpy as np\n",
      "import pylab as ply\n",
      "import pyemu\n",
      "import pst_handler as phand\n",
      "import mat_handler as mhand"
     ],
     "language": "python",
     "metadata": {},
     "outputs": [
      {
       "output_type": "stream",
       "stream": "stdout",
       "text": [
        "Populating the interactive namespace from numpy and matplotlib\n"
       ]
      },
      {
       "output_type": "stream",
       "stream": "stderr",
       "text": [
        "WARNING: pylab import has clobbered these variables: ['f', 'pv']\n",
        "`%matplotlib` prevents importing * from pylab and numpy\n"
       ]
      }
     ],
     "prompt_number": 32
    },
    {
     "cell_type": "markdown",
     "metadata": {},
     "source": [
      "first reorder the jco"
     ]
    },
    {
     "cell_type": "code",
     "collapsed": false,
     "input": [
      "la = pyemu.schur(\"pest.jco\",verbose=False)\n",
      "la.drop_prior_information()\n",
      "jco_ord = la.jco.get(la.pst.obs_names,la.pst.par_names)\n",
      "ord_base = \"pest_ord\"\n",
      "jco_ord.to_binary(ord_base + \".jco\")  "
     ],
     "language": "python",
     "metadata": {},
     "outputs": [],
     "prompt_number": 33
    },
    {
     "cell_type": "markdown",
     "metadata": {},
     "source": [
      "scale the observation weights"
     ]
    },
    {
     "cell_type": "code",
     "collapsed": false,
     "input": [
      "print la.pst.phi,la.pst.phi_components\n",
      "la.pst.write(ord_base + \".pst\")"
     ],
     "language": "python",
     "metadata": {},
     "outputs": [
      {
       "output_type": "stream",
       "stream": "stdout",
       "text": [
        "36.0 {'pred': 0.0, 'head': 20.999999999999996, 'conc': 15.000000000000004}\n"
       ]
      }
     ],
     "prompt_number": 34
    },
    {
     "cell_type": "markdown",
     "metadata": {},
     "source": [
      "extract and save the pred vectors"
     ]
    },
    {
     "cell_type": "code",
     "collapsed": false,
     "input": [
      "pv_names = []\n",
      "predictions =  [\"pd_one\", \"pd_ten\", \"pd_half\"]\n",
      "for pred in predictions:\n",
      "    pv = jco_ord.extract(pred).T\n",
      "    pv_name = pred + \".vec\"\n",
      "    pv.to_ascii(pv_name)\n",
      "    pv_names.append(pv_name)\n",
      "    "
     ],
     "language": "python",
     "metadata": {},
     "outputs": [],
     "prompt_number": 35
    },
    {
     "cell_type": "markdown",
     "metadata": {},
     "source": [
      "save the parcov as an uncertainty file"
     ]
    },
    {
     "cell_type": "code",
     "collapsed": false,
     "input": [
      "prior_uncfile = \"pest.unc\"\n",
      "la.parcov.to_uncfile(prior_uncfile,covmat_file=None)"
     ],
     "language": "python",
     "metadata": {},
     "outputs": [],
     "prompt_number": 36
    },
    {
     "cell_type": "markdown",
     "metadata": {},
     "source": [
      "#PRECUNC7\n",
      "This is where things get ugly - in files and system calls - yuk!"
     ]
    },
    {
     "cell_type": "code",
     "collapsed": false,
     "input": [
      "post_mat = \"post.cov\"\n",
      "post_unc = \"post.unc\"\n",
      "args = [ord_base + \".pst\",\"1.0\",prior_uncfile,post_mat,post_unc,\"1\"]\n",
      "pd7_in = \"predunc7.in\"\n",
      "f = open(pd7_in,'w')\n",
      "f.write('\\n'.join(args)+'\\n')\n",
      "f.close()\n",
      "out = \"pd7.out\"\n",
      "pd7 = os.path.join(\"exe\",\"i64predunc7.exe\")\n",
      "os.system(pd7 + \" <\" + pd7_in + \" >\"+out)\n",
      "for line in open(out).readlines():\n",
      "    print line,"
     ],
     "language": "python",
     "metadata": {},
     "outputs": [
      {
       "output_type": "stream",
       "stream": "stdout",
       "text": [
        "\n",
        " PREDUNC7 Version 13.3. Watermark Numerical Computing.\n",
        "\n",
        " Enter name of PEST control file:  Enter observation reference variance: \n",
        " Enter name of prior parameter uncertainty file: \n",
        " Enter name for posterior parameter covariance matrix file:  Enter name for posterior parameter uncertainty file: \n",
        " Use which version of linear predictive uncertainty equation:-\n",
        "     if version optimized for small number of parameters   - enter 1\n",
        "     if version optimized for small number of observations - enter 2\n",
        " Enter your choice: \n",
        " - reading PEST control file pest_ord.pst....\n",
        " - file pest_ord.pst read ok.\n",
        "\n",
        " - reading Jacobian matrix file pest_ord.jco....\n",
        " - file pest_ord.jco read ok.\n",
        "\n",
        " - reading parameter uncertainty file pest.unc....\n",
        " - parameter uncertainty file pest.unc read ok.\n",
        " - forming XtC-1(e)X matrix....\n",
        " - inverting prior C(p) matrix....\n",
        " - inverting [XtC-1(e)X + C-1(p)] matrix....\n",
        " - writing file post.cov...\n",
        " - file post.cov written ok.\n",
        " - writing file post.unc...\n",
        " - file post.unc written ok.\n"
       ]
      }
     ],
     "prompt_number": 37
    },
    {
     "cell_type": "code",
     "collapsed": false,
     "input": [
      "post_pd7 = mhand.cov()\n",
      "post_pd7.from_ascii(post_mat)\n",
      "\n",
      "la_ord = pyemu.schur(jco=\"pest_ord.jco\",predictions=predictions)\n",
      "post_pyemu = la_ord.posterior_parameter\n",
      "#post_pyemu = post_pyemu.get(post_pd7.row_names)"
     ],
     "language": "python",
     "metadata": {},
     "outputs": [
      {
       "output_type": "stream",
       "stream": "stdout",
       "text": [
        "2015-01-22 14:55:46.486000 starting: pre-loading base components\n",
        "2015-01-22 14:55:46.486000 starting: loading jco: pest_ord.jco\n",
        "2015-01-22 14:55:46.502000 finished: loading jco: pest_ord.jco took: 0:00:00.016000\n",
        "2015-01-22 14:55:46.502000 starting: loading pst: pest_ord.pst\n",
        "2015-01-22 14:55:46.502000 finished: loading pst: pest_ord.pst took: 0:00:00\n",
        "2015-01-22 14:55:46.502000 starting: loading parcov\n",
        "2015-01-22 14:55:46.580000 finished: loading parcov took: 0:00:00.078000\n"
       ]
      },
      {
       "output_type": "stream",
       "stream": "stdout",
       "text": [
        "2015-01-22 14:55:46.580000 starting: loading obscov\n",
        "2015-01-22 14:55:46.581000 finished: loading obscov took: 0:00:00.001000\n",
        "2015-01-22 14:55:46.581000 starting: loading predictions\n",
        "2015-01-22 14:55:46.581000 finished: loading predictions took: 0:00:00\n",
        "2015-01-22 14:55:46.581000 finished: pre-loading base components took: 0:00:00.095000\n",
        "2015-01-22 14:55:46.581000 starting: dropping prior information\n",
        "2015-01-22 14:55:46.581000 starting: removing 0 prior info from jco, pst, and obs cov\n",
        "2015-01-22 14:55:46.581000 finished: removing 0 prior info from jco, pst, and obs cov took: 0:00:00\n",
        "2015-01-22 14:55:46.581000 finished: dropping prior information took: 0:00:00\n",
        "2015-01-22 14:55:46.581000 starting: scaling obscov by residual phi components\n",
        "2015-01-22 14:55:46.581000 WARNING: unable to a residuals file to  scale obscov with\n",
        "2015-01-22 14:55:46.581000 finished: scaling obscov by residual phi components took: 0:00:00\n",
        "2015-01-22 14:55:46.581000 starting: Schur's complement\n",
        "2015-01-22 14:55:46.623000 finished: Schur's complement took: 0:00:00.042000\n"
       ]
      }
     ],
     "prompt_number": 38
    },
    {
     "cell_type": "markdown",
     "metadata": {},
     "source": [
      "The cumulative difference between the two posterior matrices:"
     ]
    },
    {
     "cell_type": "code",
     "collapsed": false,
     "input": [
      "delta = (post_pd7 - post_pyemu).x\n",
      "(post_pd7 - post_pyemu).to_ascii(\"delta.cov\")\n",
      "print delta.sum()\n",
      "print delta.max(),delta.min()\n",
      "delta = np.ma.masked_where(np.abs(delta) < 0.0000000001,delta)\n",
      "fig = plt.figure(figsize=(10,10))\n",
      "ax = plt.subplot(111)\n",
      "ax.imshow(delta)"
     ],
     "language": "python",
     "metadata": {},
     "outputs": [
      {
       "output_type": "stream",
       "stream": "stdout",
       "text": [
        "1.12423241639e-08\n",
        "4.9608767011e-08 -4.92951207909e-08\n"
       ]
      },
      {
       "metadata": {},
       "output_type": "pyout",
       "prompt_number": 39,
       "text": [
        "<matplotlib.image.AxesImage at 0x13829a58>"
       ]
      },
      {
       "metadata": {},
       "output_type": "display_data",
       "png": "[encoded data removed]",
       "text": [
        "<matplotlib.figure.Figure at 0x13829198>"
       ]
      }
     ],
     "prompt_number": 39
    },
    {
     "cell_type": "markdown",
     "metadata": {},
     "source": [
      "#PREDUNC1"
     ]
    },
    {
     "cell_type": "code",
     "collapsed": false,
     "input": [
      "args = [ord_base + \".pst\", \"1.0\", prior_uncfile, None, \"1\"]\n",
      "pd1_in = \"predunc1.in\"\n",
      "pd1 = os.path.join(\"exe\", \"i64predunc1.exe\")\n",
      "pd1_results = {}\n",
      "for pv_name in pv_names:\n",
      "    args[3] = pv_name\n",
      "    f = open(pd1_in, 'w')\n",
      "    f.write('\\n'.join(args) + '\\n')\n",
      "    f.close()\n",
      "    out = \"predunc1\" + pv_name + \".out\"\n",
      "    os.system(pd1 + \" <\" + pd1_in + \">\" + out)\n",
      "    f = open(out,'r')\n",
      "    for line in f:\n",
      "        if \"pre-cal \" in line.lower():\n",
      "            pre_cal = float(line.strip().split()[-2])\n",
      "        elif \"post-cal \" in line.lower():\n",
      "            post_cal = float(line.strip().split()[-2])\n",
      "    f.close()        \n",
      "    pd1_results[pv_name.split('.')[0].lower()] = [pre_cal, post_cal]  \n",
      "   \n",
      "  "
     ],
     "language": "python",
     "metadata": {},
     "outputs": [],
     "prompt_number": 40
    },
    {
     "cell_type": "code",
     "collapsed": false,
     "input": [
      "pyemu_results = {}\n",
      "for pname in la_ord.prior_prediction.keys():\n",
      "    pyemu_results[pname] = [np.sqrt(la_ord.prior_prediction[pname]),np.sqrt(la_ord.posterior_prediction[pname])]"
     ],
     "language": "python",
     "metadata": {},
     "outputs": [
      {
       "output_type": "stream",
       "stream": "stdout",
       "text": [
        "2015-01-22 14:55:51.829000 starting: propagating prior to predictions\n",
        "2015-01-22 14:55:51.843000 finished: propagating prior to predictions took: 0:00:00.014000\n",
        "2015-01-22 14:55:51.843000 starting: propagating posterior to predictions\n",
        "2015-01-22 14:55:51.845000 finished: propagating posterior to predictions took: 0:00:00.002000\n"
       ]
      }
     ],
     "prompt_number": 41
    },
    {
     "cell_type": "markdown",
     "metadata": {},
     "source": [
      "compare the results:"
     ]
    },
    {
     "cell_type": "code",
     "collapsed": false,
     "input": [
      "for pname in pd1_results.keys():\n",
      "    print \"prior\",pname,pd1_results[pname][0],pyemu_results[pname][0]\n",
      "    print \"post\",pname,pd1_results[pname][1],pyemu_results[pname][1]"
     ],
     "language": "python",
     "metadata": {},
     "outputs": [
      {
       "output_type": "stream",
       "stream": "stdout",
       "text": [
        "prior pd_half 0.4289462 0.428946214245\n",
        "post pd_half 0.2455934 0.245593428845\n",
        "prior pd_ten 0.4716172 0.471617160877\n",
        "post pd_ten 0.2460301 0.246030077339\n",
        "prior pd_one 0.3582351 0.358235115851\n",
        "post pd_one 0.1778561 0.17785613006\n"
       ]
      }
     ],
     "prompt_number": 42
    },
    {
     "cell_type": "markdown",
     "metadata": {},
     "source": [
      "##PREDVAR1b"
     ]
    },
    {
     "cell_type": "code",
     "collapsed": false,
     "input": [
      "f = open(\"pred_list.dat\",'w')\n",
      "out_files = []\n",
      "for pv in pv_names:\n",
      "    out_name = pv+\".predvar1b.out\"\n",
      "    out_files.append(out_name)\n",
      "    f.write(pv+\" \"+out_name+\"\\n\")\n",
      "f.close()\n",
      "args = [\"pest_ord.pst\",\"1.0\",\"pest.unc\",\"pred_list.dat\"]\n",
      "for i in xrange(36):\n",
      "    args.append(str(i))\n",
      "args.append('')    \n",
      "args.append(\"n\")\n",
      "args.append(\"y\")\n",
      "f = open(\"predvar1b.in\", 'w')\n",
      "f.write('\\n'.join(args) + '\\n')\n",
      "f.close()\n",
      "\n",
      "os.system(\"predvar1b.exe <predvar1b.in\")\n"
     ],
     "language": "python",
     "metadata": {},
     "outputs": [
      {
       "metadata": {},
       "output_type": "pyout",
       "prompt_number": 43,
       "text": [
        "0"
       ]
      }
     ],
     "prompt_number": 43
    },
    {
     "cell_type": "code",
     "collapsed": false,
     "input": [
      "pv1b_results = {}\n",
      "for out_file in out_files:\n",
      "    pred_name = out_file.split('.')[0]\n",
      "    f = open(out_file,'r')\n",
      "    for _ in xrange(3):\n",
      "        f.readline()\n",
      "    arr = np.loadtxt(f)\n",
      "    pv1b_results[pred_name] = arr\n"
     ],
     "language": "python",
     "metadata": {},
     "outputs": [],
     "prompt_number": 44
    },
    {
     "cell_type": "markdown",
     "metadata": {},
     "source": [
      "now for pyemu"
     ]
    },
    {
     "cell_type": "code",
     "collapsed": false,
     "input": [
      "la_ord_errvar = pyemu.errvar(jco=\"pest_ord.jco\",predictions=predictions,omitted_parameters=\"mult1\",verbose=False)\n",
      "df = la_ord_errvar.get_errvar_dataframe(np.arange(36))"
     ],
     "language": "python",
     "metadata": {},
     "outputs": [],
     "prompt_number": 45
    },
    {
     "cell_type": "markdown",
     "metadata": {},
     "source": [
      "Some cheap plots to verify"
     ]
    },
    {
     "cell_type": "code",
     "collapsed": false,
     "input": [
      "fig = plt.figure(figsize=(10,10))\n",
      "max_idx = 20\n",
      "idx = np.arange(max_idx)\n",
      "for ipred,pred in enumerate(predictions):\n",
      "    arr = pv1b_results[pred][:max_idx,:]\n",
      "    first = df[(\"first\", pred)][:max_idx]\n",
      "    second = df[(\"second\", pred)][:max_idx]\n",
      "    third = df[(\"third\", pred)][:max_idx]\n",
      "    ax = plt.subplot(len(predictions),1,ipred+1)\n",
      "    ax.plot(arr[:,1],color='b',dashes=(4,4))\n",
      "    ax.plot(first,color='g')\n",
      "    ax.plot(arr[:,2],color='b',dashes=(4,4))\n",
      "    ax.plot(second,color='g')\n",
      "    ax.plot(arr[:,3],color='b',dashes=(4,4))\n",
      "    ax.plot(third,color='g')\n",
      "    \n",
      "    #break\n",
      "    \n",
      "    "
     ],
     "language": "python",
     "metadata": {},
     "outputs": [
      {
       "metadata": {},
       "output_type": "display_data",
       "png": "[encoded data removed]",
       "text": [
        "<matplotlib.figure.Figure at 0xcb2e0f0>"
       ]
      }
     ],
     "prompt_number": 47
    },
    {
     "cell_type": "code",
     "collapsed": false,
     "input": [],
     "language": "python",
     "metadata": {},
     "outputs": []
    }
   ],
   "metadata": {}
  }
 ]
}