{
 "cells": [
  {
   "cell_type": "markdown",
   "metadata": {},
   "source": [
    "#verify pyEMU results with the henry problem"
   ]
  },
  {
   "cell_type": "code",
   "execution_count": 1,
   "metadata": {
    "collapsed": false
   },
   "outputs": [
    {
     "name": "stdout",
     "output_type": "stream",
     "text": [
      "Populating the interactive namespace from numpy and matplotlib\n"
     ]
    }
   ],
   "source": [
    "%pylab inline\n",
    "import os\n",
    "import numpy as np\n",
    "import pylab as ply\n",
    "import pyemu\n",
    "import pst_handler as phand\n",
    "import mat_handler as mhand"
   ]
  },
  {
   "cell_type": "markdown",
   "metadata": {},
   "source": [
    "instaniate ```pyemu``` object and drop prior info.  Then reorder the jacobian and save as binary.  This is needed because the pest utilities require strict order between the control file and jacobian"
   ]
  },
  {
   "cell_type": "code",
   "execution_count": 2,
   "metadata": {
    "collapsed": false
   },
   "outputs": [],
   "source": [
    "la = pyemu.schur(\"pest.jco\",verbose=False)\n",
    "la.drop_prior_information()\n",
    "jco_ord = la.jco.get(la.pst.obs_names,la.pst.par_names)\n",
    "ord_base = \"pest_ord\"\n",
    "jco_ord.to_binary(ord_base + \".jco\")  "
   ]
  },
  {
   "cell_type": "markdown",
   "metadata": {},
   "source": [
    "extract and save the forecast sensitivity vectors"
   ]
  },
  {
   "cell_type": "code",
   "execution_count": 3,
   "metadata": {
    "collapsed": false
   },
   "outputs": [],
   "source": [
    "pv_names = []\n",
    "predictions =  [\"pd_ten\", \"c_obs10_2\"]\n",
    "for pred in predictions:\n",
    "    pv = jco_ord.extract(pred).T\n",
    "    pv_name = pred + \".vec\"\n",
    "    pv.to_ascii(pv_name)\n",
    "    pv_names.append(pv_name)\n",
    "    "
   ]
  },
  {
   "cell_type": "markdown",
   "metadata": {},
   "source": [
    "save the prior parameter covariance matrix as an uncertainty file"
   ]
  },
  {
   "cell_type": "code",
   "execution_count": 4,
   "metadata": {
    "collapsed": false
   },
   "outputs": [],
   "source": [
    "prior_uncfile = \"pest.unc\"\n",
    "la.parcov.to_uncfile(prior_uncfile,covmat_file=None)"
   ]
  },
  {
   "cell_type": "markdown",
   "metadata": {},
   "source": [
    "#PRECUNC7\n",
    "write a response file to feed ```stdin``` to ```predunc7```"
   ]
  },
  {
   "cell_type": "code",
   "execution_count": 5,
   "metadata": {
    "collapsed": false
   },
   "outputs": [
    {
     "name": "stdout",
     "output_type": "stream",
     "text": [
      "\n",
      " PREDUNC7 Version 13.3. Watermark Numerical Computing.\n",
      "\n",
      " Enter name of PEST control file:  Enter observation reference variance: \n",
      " Enter name of prior parameter uncertainty file: \n",
      " Enter name for posterior parameter covariance matrix file:  Enter name for posterior parameter uncertainty file: \n",
      " Use which version of linear predictive uncertainty equation:-\n",
      "     if version optimized for small number of parameters   - enter 1\n",
      "     if version optimized for small number of observations - enter 2\n",
      " Enter your choice: \n",
      " - reading PEST control file pest_ord.pst....\n",
      " - file pest_ord.pst read ok.\n",
      "\n",
      " - reading Jacobian matrix file pest_ord.jco....\n",
      " - file pest_ord.jco read ok.\n",
      "\n",
      " - reading parameter uncertainty file pest.unc....\n",
      " - parameter uncertainty file pest.unc read ok.\n",
      " - forming XtC-1(e)X matrix....\n",
      " - inverting prior C(p) matrix....\n",
      " - inverting [XtC-1(e)X + C-1(p)] matrix....\n",
      " - writing file post.cov...\n",
      " - file post.cov written ok.\n",
      " - writing file post.unc...\n",
      " - file post.unc written ok.\n"
     ]
    }
   ],
   "source": [
    "post_mat = \"post.cov\"\n",
    "post_unc = \"post.unc\"\n",
    "args = [ord_base + \".pst\",\"1.0\",prior_uncfile,\n",
    "        post_mat,post_unc,\"1\"]\n",
    "pd7_in = \"predunc7.in\"\n",
    "f = open(pd7_in,'w')\n",
    "f.write('\\n'.join(args)+'\\n')\n",
    "f.close()\n",
    "out = \"pd7.out\"\n",
    "pd7 = os.path.join(\"exe\",\"i64predunc7.exe\")\n",
    "os.system(pd7 + \" <\" + pd7_in + \" >\"+out)\n",
    "for line in open(out).readlines():\n",
    "    print line,"
   ]
  },
  {
   "cell_type": "markdown",
   "metadata": {},
   "source": [
    "load the posterior matrix written by ```predunc7```"
   ]
  },
  {
   "cell_type": "code",
   "execution_count": 6,
   "metadata": {
    "collapsed": false
   },
   "outputs": [],
   "source": [
    "post_pd7 = mhand.cov()\n",
    "post_pd7.from_ascii(post_mat)\n",
    "\n",
    "la_ord = pyemu.schur(jco=\"pest_ord.jco\",predictions=predictions)\n",
    "post_pyemu = la_ord.posterior_parameter\n",
    "#post_pyemu = post_pyemu.get(post_pd7.row_names)"
   ]
  },
  {
   "cell_type": "markdown",
   "metadata": {},
   "source": [
    "The cumulative difference between the two posterior matrices:"
   ]
  },
  {
   "cell_type": "code",
   "execution_count": 7,
   "metadata": {
    "collapsed": false
   },
   "outputs": [
    {
     "name": "stdout",
     "output_type": "stream",
     "text": [
      "1.70407837082e-06\n",
      "4.97750649586e-08 -4.98772445567e-08\n"
     ]
    }
   ],
   "source": [
    "delta = (post_pd7 - post_pyemu).x\n",
    "(post_pd7 - post_pyemu).to_ascii(\"delta.cov\")\n",
    "print delta.sum()\n",
    "print delta.max(),delta.min()"
   ]
  },
  {
   "cell_type": "markdown",
   "metadata": {},
   "source": [
    "#PREDUNC1\n",
    "write a response file to feed ```stdin```.  Then run ```predunc1``` for each forecast"
   ]
  },
  {
   "cell_type": "code",
   "execution_count": 8,
   "metadata": {
    "collapsed": false
   },
   "outputs": [],
   "source": [
    "args = [ord_base + \".pst\", \"1.0\", prior_uncfile, None, \"1\"]\n",
    "pd1_in = \"predunc1.in\"\n",
    "pd1 = os.path.join(\"exe\", \"i64predunc1.exe\")\n",
    "pd1_results = {}\n",
    "for pv_name in pv_names:\n",
    "    args[3] = pv_name\n",
    "    f = open(pd1_in, 'w')\n",
    "    f.write('\\n'.join(args) + '\\n')\n",
    "    f.close()\n",
    "    out = \"predunc1\" + pv_name + \".out\"\n",
    "    os.system(pd1 + \" <\" + pd1_in + \">\" + out)\n",
    "    f = open(out,'r')\n",
    "    for line in f:\n",
    "        if \"pre-cal \" in line.lower():\n",
    "            pre_cal = float(line.strip().split()[-2])\n",
    "        elif \"post-cal \" in line.lower():\n",
    "            post_cal = float(line.strip().split()[-2])\n",
    "    f.close()        \n",
    "    pd1_results[pv_name.split('.')[0].lower()] = [pre_cal, post_cal]  \n",
    "   \n",
    "  "
   ]
  },
  {
   "cell_type": "markdown",
   "metadata": {},
   "source": [
    "organize the ```pyemu``` results into a structure for comparison"
   ]
  },
  {
   "cell_type": "code",
   "execution_count": 9,
   "metadata": {
    "collapsed": false
   },
   "outputs": [],
   "source": [
    "pyemu_results = {}\n",
    "for pname in la_ord.prior_prediction.keys():\n",
    "    pyemu_results[pname] = [np.sqrt(la_ord.prior_prediction[pname]),\n",
    "                            np.sqrt(la_ord.posterior_prediction[pname])]"
   ]
  },
  {
   "cell_type": "markdown",
   "metadata": {},
   "source": [
    "compare the results:"
   ]
  },
  {
   "cell_type": "code",
   "execution_count": 10,
   "metadata": {
    "collapsed": false
   },
   "outputs": [
    {
     "name": "stdout",
     "output_type": "stream",
     "text": [
      "c_obs10_2\n",
      "prior c_obs10_2 0.1509421 0.150942104963\n",
      "post c_obs10_2 0.089084382 0.0890843823278\n",
      "pd_ten\n",
      "prior pd_ten 0.4716172 0.471617160877\n",
      "post pd_ten 0.2267402 0.226740171374\n"
     ]
    }
   ],
   "source": [
    "f = open(\"predunc1_textable.dat\",'w')\n",
    "for pname in pd1_results.keys():\n",
    "    print pname\n",
    "    f.write(pname+\"&{0:6.5f}&{1:6.5}&{2:6.5f}&{3:6.5f}\\\\\\n\"\\\n",
    "            .format(pd1_results[pname][0],pyemu_results[pname][0],\n",
    "                    pd1_results[pname][1],pyemu_results[pname][1]))\n",
    "    print \"prior\",pname,pd1_results[pname][0],pyemu_results[pname][0]\n",
    "    print \"post\",pname,pd1_results[pname][1],pyemu_results[pname][1]\n",
    "f.close()"
   ]
  },
  {
   "cell_type": "markdown",
   "metadata": {},
   "source": [
    "##PREDVAR1b\n",
    "write the nessecary files to run ```predvar1b```"
   ]
  },
  {
   "cell_type": "code",
   "execution_count": 11,
   "metadata": {
    "collapsed": false
   },
   "outputs": [
    {
     "data": {
      "text/plain": [
       "0"
      ]
     },
     "execution_count": 11,
     "metadata": {},
     "output_type": "execute_result"
    }
   ],
   "source": [
    "f = open(\"pred_list.dat\",'w')\n",
    "out_files = []\n",
    "for pv in pv_names:\n",
    "    out_name = pv+\".predvar1b.out\"\n",
    "    out_files.append(out_name)\n",
    "    f.write(pv+\" \"+out_name+\"\\n\")\n",
    "f.close()\n",
    "args = [\"pest_ord.pst\",\"1.0\",\"pest.unc\",\"pred_list.dat\"]\n",
    "for i in xrange(36):\n",
    "    args.append(str(i))\n",
    "args.append('')    \n",
    "args.append(\"n\")\n",
    "args.append(\"y\")\n",
    "f = open(\"predvar1b.in\", 'w')\n",
    "f.write('\\n'.join(args) + '\\n')\n",
    "f.close()\n",
    "\n",
    "os.system(\"predvar1b.exe <predvar1b.in\")\n"
   ]
  },
  {
   "cell_type": "code",
   "execution_count": 12,
   "metadata": {
    "collapsed": false
   },
   "outputs": [],
   "source": [
    "pv1b_results = {}\n",
    "for out_file in out_files:\n",
    "    pred_name = out_file.split('.')[0]\n",
    "    f = open(out_file,'r')\n",
    "    for _ in xrange(3):\n",
    "        f.readline()\n",
    "    arr = np.loadtxt(f)\n",
    "    pv1b_results[pred_name] = arr\n"
   ]
  },
  {
   "cell_type": "markdown",
   "metadata": {},
   "source": [
    "now for pyemu"
   ]
  },
  {
   "cell_type": "code",
   "execution_count": 13,
   "metadata": {
    "collapsed": false
   },
   "outputs": [
    {
     "data": {
      "text/html": [
       "<div style=\"max-height:1000px;max-width:1500px;overflow:auto;\">\n",
       "<table border=\"1\" class=\"dataframe\">\n",
       "  <thead>\n",
       "    <tr>\n",
       "      <th></th>\n",
       "      <th colspan=\"2\" halign=\"left\">first</th>\n",
       "      <th colspan=\"2\" halign=\"left\">second</th>\n",
       "      <th colspan=\"2\" halign=\"left\">third</th>\n",
       "    </tr>\n",
       "    <tr>\n",
       "      <th></th>\n",
       "      <th>c_obs10_2</th>\n",
       "      <th>pd_ten</th>\n",
       "      <th>c_obs10_2</th>\n",
       "      <th>pd_ten</th>\n",
       "      <th>c_obs10_2</th>\n",
       "      <th>pd_ten</th>\n",
       "    </tr>\n",
       "  </thead>\n",
       "  <tbody>\n",
       "    <tr>\n",
       "      <th>0 </th>\n",
       "      <td> 0.015706</td>\n",
       "      <td> 0.076700</td>\n",
       "      <td> 0.000000e+00</td>\n",
       "      <td> 0.000000e+00</td>\n",
       "      <td> 7.077577e-03</td>\n",
       "      <td> 1.457226e-01</td>\n",
       "    </tr>\n",
       "    <tr>\n",
       "      <th>1 </th>\n",
       "      <td> 0.006040</td>\n",
       "      <td> 0.046811</td>\n",
       "      <td> 8.323523e-04</td>\n",
       "      <td> 2.573705e-03</td>\n",
       "      <td> 1.155533e-01</td>\n",
       "      <td> 1.324554e-01</td>\n",
       "    </tr>\n",
       "    <tr>\n",
       "      <th>2 </th>\n",
       "      <td> 0.005905</td>\n",
       "      <td> 0.045945</td>\n",
       "      <td> 9.201068e-04</td>\n",
       "      <td> 3.138167e-03</td>\n",
       "      <td> 7.724431e-02</td>\n",
       "      <td> 2.716444e-01</td>\n",
       "    </tr>\n",
       "    <tr>\n",
       "      <th>3 </th>\n",
       "      <td> 0.004850</td>\n",
       "      <td> 0.042798</td>\n",
       "      <td> 4.135876e-03</td>\n",
       "      <td> 1.273156e-02</td>\n",
       "      <td> 2.939249e-02</td>\n",
       "      <td> 4.971922e-01</td>\n",
       "    </tr>\n",
       "    <tr>\n",
       "      <th>4 </th>\n",
       "      <td> 0.004582</td>\n",
       "      <td> 0.037457</td>\n",
       "      <td> 5.612732e-03</td>\n",
       "      <td> 4.213813e-02</td>\n",
       "      <td> 3.411090e-02</td>\n",
       "      <td> 4.173139e-01</td>\n",
       "    </tr>\n",
       "    <tr>\n",
       "      <th>5 </th>\n",
       "      <td> 0.004233</td>\n",
       "      <td> 0.031039</td>\n",
       "      <td> 8.756785e-03</td>\n",
       "      <td> 9.996844e-02</td>\n",
       "      <td> 4.180124e-02</td>\n",
       "      <td> 5.340010e-01</td>\n",
       "    </tr>\n",
       "    <tr>\n",
       "      <th>6 </th>\n",
       "      <td> 0.004156</td>\n",
       "      <td> 0.031010</td>\n",
       "      <td> 9.697704e-03</td>\n",
       "      <td> 1.003232e-01</td>\n",
       "      <td> 3.803914e-02</td>\n",
       "      <td> 5.255830e-01</td>\n",
       "    </tr>\n",
       "    <tr>\n",
       "      <th>7 </th>\n",
       "      <td> 0.004155</td>\n",
       "      <td> 0.030849</td>\n",
       "      <td> 9.728439e-03</td>\n",
       "      <td> 1.032245e-01</td>\n",
       "      <td> 3.804302e-02</td>\n",
       "      <td> 5.257229e-01</td>\n",
       "    </tr>\n",
       "    <tr>\n",
       "      <th>8 </th>\n",
       "      <td> 0.004084</td>\n",
       "      <td> 0.029342</td>\n",
       "      <td> 1.123436e-02</td>\n",
       "      <td> 1.354974e-01</td>\n",
       "      <td> 4.117493e-02</td>\n",
       "      <td> 5.798819e-01</td>\n",
       "    </tr>\n",
       "    <tr>\n",
       "      <th>9 </th>\n",
       "      <td> 0.004084</td>\n",
       "      <td> 0.029109</td>\n",
       "      <td> 1.123444e-02</td>\n",
       "      <td> 1.422348e-01</td>\n",
       "      <td> 4.117309e-02</td>\n",
       "      <td> 5.818767e-01</td>\n",
       "    </tr>\n",
       "    <tr>\n",
       "      <th>10</th>\n",
       "      <td> 0.004084</td>\n",
       "      <td> 0.028689</td>\n",
       "      <td> 1.124962e-02</td>\n",
       "      <td> 1.547092e-01</td>\n",
       "      <td> 4.127345e-02</td>\n",
       "      <td> 5.711167e-01</td>\n",
       "    </tr>\n",
       "    <tr>\n",
       "      <th>11</th>\n",
       "      <td> 0.004083</td>\n",
       "      <td> 0.027723</td>\n",
       "      <td> 1.127209e-02</td>\n",
       "      <td> 1.870549e-01</td>\n",
       "      <td> 4.113856e-02</td>\n",
       "      <td> 5.522239e-01</td>\n",
       "    </tr>\n",
       "    <tr>\n",
       "      <th>12</th>\n",
       "      <td> 0.004044</td>\n",
       "      <td> 0.027693</td>\n",
       "      <td> 1.373466e-02</td>\n",
       "      <td> 1.889087e-01</td>\n",
       "      <td> 4.167552e-02</td>\n",
       "      <td> 5.539267e-01</td>\n",
       "    </tr>\n",
       "    <tr>\n",
       "      <th>13</th>\n",
       "      <td> 0.003870</td>\n",
       "      <td> 0.027380</td>\n",
       "      <td> 2.509977e-02</td>\n",
       "      <td> 2.094440e-01</td>\n",
       "      <td> 3.828531e-02</td>\n",
       "      <td> 5.710230e-01</td>\n",
       "    </tr>\n",
       "    <tr>\n",
       "      <th>14</th>\n",
       "      <td> 0.003397</td>\n",
       "      <td> 0.023741</td>\n",
       "      <td> 5.647082e-02</td>\n",
       "      <td> 4.508064e-01</td>\n",
       "      <td> 2.912006e-02</td>\n",
       "      <td> 6.807260e-01</td>\n",
       "    </tr>\n",
       "    <tr>\n",
       "      <th>15</th>\n",
       "      <td> 0.003397</td>\n",
       "      <td> 0.023106</td>\n",
       "      <td> 5.648180e-02</td>\n",
       "      <td> 4.973744e-01</td>\n",
       "      <td> 2.909730e-02</td>\n",
       "      <td> 6.879139e-01</td>\n",
       "    </tr>\n",
       "    <tr>\n",
       "      <th>16</th>\n",
       "      <td> 0.003397</td>\n",
       "      <td> 0.022881</td>\n",
       "      <td> 5.654890e-02</td>\n",
       "      <td> 5.176496e-01</td>\n",
       "      <td> 2.918142e-02</td>\n",
       "      <td> 6.950367e-01</td>\n",
       "    </tr>\n",
       "    <tr>\n",
       "      <th>17</th>\n",
       "      <td> 0.003395</td>\n",
       "      <td> 0.022858</td>\n",
       "      <td> 5.673687e-02</td>\n",
       "      <td> 5.202939e-01</td>\n",
       "      <td> 2.930732e-02</td>\n",
       "      <td> 6.927365e-01</td>\n",
       "    </tr>\n",
       "    <tr>\n",
       "      <th>18</th>\n",
       "      <td> 0.003021</td>\n",
       "      <td> 0.022763</td>\n",
       "      <td> 1.240355e-01</td>\n",
       "      <td> 5.373727e-01</td>\n",
       "      <td> 2.907968e-02</td>\n",
       "      <td> 6.921780e-01</td>\n",
       "    </tr>\n",
       "    <tr>\n",
       "      <th>19</th>\n",
       "      <td> 0.002723</td>\n",
       "      <td> 0.022762</td>\n",
       "      <td> 3.052508e+00</td>\n",
       "      <td> 5.493474e-01</td>\n",
       "      <td> 3.142555e-02</td>\n",
       "      <td> 6.928959e-01</td>\n",
       "    </tr>\n",
       "    <tr>\n",
       "      <th>20</th>\n",
       "      <td> 0.002716</td>\n",
       "      <td> 0.022580</td>\n",
       "      <td> 4.771325e+01</td>\n",
       "      <td> 1.123392e+03</td>\n",
       "      <td> 2.520051e-02</td>\n",
       "      <td> 8.561705e-01</td>\n",
       "    </tr>\n",
       "    <tr>\n",
       "      <th>21</th>\n",
       "      <td> 0.002714</td>\n",
       "      <td> 0.022526</td>\n",
       "      <td> 6.754794e+01</td>\n",
       "      <td> 1.881534e+03</td>\n",
       "      <td> 2.583911e-02</td>\n",
       "      <td> 8.334545e-01</td>\n",
       "    </tr>\n",
       "    <tr>\n",
       "      <th>22</th>\n",
       "      <td> 0.002700</td>\n",
       "      <td> 0.022522</td>\n",
       "      <td> 3.533209e+02</td>\n",
       "      <td> 1.958512e+03</td>\n",
       "      <td> 2.141976e-02</td>\n",
       "      <td> 8.198732e-01</td>\n",
       "    </tr>\n",
       "    <tr>\n",
       "      <th>23</th>\n",
       "      <td> 0.002695</td>\n",
       "      <td> 0.022522</td>\n",
       "      <td> 5.097773e+02</td>\n",
       "      <td> 1.959862e+03</td>\n",
       "      <td> 2.053177e-02</td>\n",
       "      <td> 8.203889e-01</td>\n",
       "    </tr>\n",
       "    <tr>\n",
       "      <th>24</th>\n",
       "      <td> 0.002693</td>\n",
       "      <td> 0.022217</td>\n",
       "      <td> 6.125413e+02</td>\n",
       "      <td> 1.771097e+04</td>\n",
       "      <td> 1.952132e-02</td>\n",
       "      <td> 9.024169e-01</td>\n",
       "    </tr>\n",
       "    <tr>\n",
       "      <th>25</th>\n",
       "      <td> 0.002685</td>\n",
       "      <td> 0.014189</td>\n",
       "      <td> 2.167707e+03</td>\n",
       "      <td> 1.588460e+06</td>\n",
       "      <td> 2.133588e-02</td>\n",
       "      <td> 5.597574e-01</td>\n",
       "    </tr>\n",
       "    <tr>\n",
       "      <th>26</th>\n",
       "      <td> 0.002672</td>\n",
       "      <td> 0.013960</td>\n",
       "      <td> 4.329719e+05</td>\n",
       "      <td> 9.693323e+06</td>\n",
       "      <td> 2.360649e-02</td>\n",
       "      <td> 6.100087e-01</td>\n",
       "    </tr>\n",
       "    <tr>\n",
       "      <th>27</th>\n",
       "      <td> 0.002652</td>\n",
       "      <td> 0.013455</td>\n",
       "      <td> 7.992996e+10</td>\n",
       "      <td> 2.007430e+12</td>\n",
       "      <td> 1.542328e-02</td>\n",
       "      <td> 7.536910e-01</td>\n",
       "    </tr>\n",
       "    <tr>\n",
       "      <th>28</th>\n",
       "      <td> 0.002650</td>\n",
       "      <td> 0.006844</td>\n",
       "      <td> 1.799184e+18</td>\n",
       "      <td> 6.562896e+21</td>\n",
       "      <td> 1.150392e+14</td>\n",
       "      <td> 2.887622e+17</td>\n",
       "    </tr>\n",
       "    <tr>\n",
       "      <th>29</th>\n",
       "      <td> 0.002650</td>\n",
       "      <td> 0.006784</td>\n",
       "      <td> 1.054631e+20</td>\n",
       "      <td> 2.058308e+22</td>\n",
       "      <td> 7.271745e+16</td>\n",
       "      <td> 9.515040e+18</td>\n",
       "    </tr>\n",
       "    <tr>\n",
       "      <th>30</th>\n",
       "      <td> 0.002519</td>\n",
       "      <td> 0.004777</td>\n",
       "      <td> 9.475104e+24</td>\n",
       "      <td> 4.984723e+25</td>\n",
       "      <td> 7.113472e+26</td>\n",
       "      <td> 3.767866e+27</td>\n",
       "    </tr>\n",
       "    <tr>\n",
       "      <th>31</th>\n",
       "      <td> 0.002496</td>\n",
       "      <td> 0.004774</td>\n",
       "      <td> 2.922553e+26</td>\n",
       "      <td> 1.015110e+26</td>\n",
       "      <td> 4.483415e+27</td>\n",
       "      <td> 6.497523e+26</td>\n",
       "    </tr>\n",
       "    <tr>\n",
       "      <th>32</th>\n",
       "      <td> 0.002348</td>\n",
       "      <td> 0.004633</td>\n",
       "      <td> 3.540864e+27</td>\n",
       "      <td> 3.594508e+27</td>\n",
       "      <td> 5.481805e+25</td>\n",
       "      <td> 2.539297e+26</td>\n",
       "    </tr>\n",
       "    <tr>\n",
       "      <th>33</th>\n",
       "      <td> 0.002208</td>\n",
       "      <td> 0.004505</td>\n",
       "      <td> 6.190564e+27</td>\n",
       "      <td> 9.009335e+27</td>\n",
       "      <td> 4.192711e+29</td>\n",
       "      <td> 7.026078e+29</td>\n",
       "    </tr>\n",
       "    <tr>\n",
       "      <th>34</th>\n",
       "      <td> 0.002155</td>\n",
       "      <td> 0.004487</td>\n",
       "      <td> 1.507685e+28</td>\n",
       "      <td> 1.103374e+28</td>\n",
       "      <td> 6.278009e+28</td>\n",
       "      <td> 1.427545e+29</td>\n",
       "    </tr>\n",
       "    <tr>\n",
       "      <th>35</th>\n",
       "      <td> 0.002011</td>\n",
       "      <td> 0.004336</td>\n",
       "      <td> 9.173505e+27</td>\n",
       "      <td> 8.916057e+27</td>\n",
       "      <td> 4.114380e+26</td>\n",
       "      <td> 3.259060e+28</td>\n",
       "    </tr>\n",
       "  </tbody>\n",
       "</table>\n",
       "</div>"
      ],
      "text/plain": [
       "        first                  second                       third  \\\n",
       "    c_obs10_2    pd_ten     c_obs10_2        pd_ten     c_obs10_2   \n",
       "0    0.015706  0.076700  0.000000e+00  0.000000e+00  7.077577e-03   \n",
       "1    0.006040  0.046811  8.323523e-04  2.573705e-03  1.155533e-01   \n",
       "2    0.005905  0.045945  9.201068e-04  3.138167e-03  7.724431e-02   \n",
       "3    0.004850  0.042798  4.135876e-03  1.273156e-02  2.939249e-02   \n",
       "4    0.004582  0.037457  5.612732e-03  4.213813e-02  3.411090e-02   \n",
       "5    0.004233  0.031039  8.756785e-03  9.996844e-02  4.180124e-02   \n",
       "6    0.004156  0.031010  9.697704e-03  1.003232e-01  3.803914e-02   \n",
       "7    0.004155  0.030849  9.728439e-03  1.032245e-01  3.804302e-02   \n",
       "8    0.004084  0.029342  1.123436e-02  1.354974e-01  4.117493e-02   \n",
       "9    0.004084  0.029109  1.123444e-02  1.422348e-01  4.117309e-02   \n",
       "10   0.004084  0.028689  1.124962e-02  1.547092e-01  4.127345e-02   \n",
       "11   0.004083  0.027723  1.127209e-02  1.870549e-01  4.113856e-02   \n",
       "12   0.004044  0.027693  1.373466e-02  1.889087e-01  4.167552e-02   \n",
       "13   0.003870  0.027380  2.509977e-02  2.094440e-01  3.828531e-02   \n",
       "14   0.003397  0.023741  5.647082e-02  4.508064e-01  2.912006e-02   \n",
       "15   0.003397  0.023106  5.648180e-02  4.973744e-01  2.909730e-02   \n",
       "16   0.003397  0.022881  5.654890e-02  5.176496e-01  2.918142e-02   \n",
       "17   0.003395  0.022858  5.673687e-02  5.202939e-01  2.930732e-02   \n",
       "18   0.003021  0.022763  1.240355e-01  5.373727e-01  2.907968e-02   \n",
       "19   0.002723  0.022762  3.052508e+00  5.493474e-01  3.142555e-02   \n",
       "20   0.002716  0.022580  4.771325e+01  1.123392e+03  2.520051e-02   \n",
       "21   0.002714  0.022526  6.754794e+01  1.881534e+03  2.583911e-02   \n",
       "22   0.002700  0.022522  3.533209e+02  1.958512e+03  2.141976e-02   \n",
       "23   0.002695  0.022522  5.097773e+02  1.959862e+03  2.053177e-02   \n",
       "24   0.002693  0.022217  6.125413e+02  1.771097e+04  1.952132e-02   \n",
       "25   0.002685  0.014189  2.167707e+03  1.588460e+06  2.133588e-02   \n",
       "26   0.002672  0.013960  4.329719e+05  9.693323e+06  2.360649e-02   \n",
       "27   0.002652  0.013455  7.992996e+10  2.007430e+12  1.542328e-02   \n",
       "28   0.002650  0.006844  1.799184e+18  6.562896e+21  1.150392e+14   \n",
       "29   0.002650  0.006784  1.054631e+20  2.058308e+22  7.271745e+16   \n",
       "30   0.002519  0.004777  9.475104e+24  4.984723e+25  7.113472e+26   \n",
       "31   0.002496  0.004774  2.922553e+26  1.015110e+26  4.483415e+27   \n",
       "32   0.002348  0.004633  3.540864e+27  3.594508e+27  5.481805e+25   \n",
       "33   0.002208  0.004505  6.190564e+27  9.009335e+27  4.192711e+29   \n",
       "34   0.002155  0.004487  1.507685e+28  1.103374e+28  6.278009e+28   \n",
       "35   0.002011  0.004336  9.173505e+27  8.916057e+27  4.114380e+26   \n",
       "\n",
       "                  \n",
       "          pd_ten  \n",
       "0   1.457226e-01  \n",
       "1   1.324554e-01  \n",
       "2   2.716444e-01  \n",
       "3   4.971922e-01  \n",
       "4   4.173139e-01  \n",
       "5   5.340010e-01  \n",
       "6   5.255830e-01  \n",
       "7   5.257229e-01  \n",
       "8   5.798819e-01  \n",
       "9   5.818767e-01  \n",
       "10  5.711167e-01  \n",
       "11  5.522239e-01  \n",
       "12  5.539267e-01  \n",
       "13  5.710230e-01  \n",
       "14  6.807260e-01  \n",
       "15  6.879139e-01  \n",
       "16  6.950367e-01  \n",
       "17  6.927365e-01  \n",
       "18  6.921780e-01  \n",
       "19  6.928959e-01  \n",
       "20  8.561705e-01  \n",
       "21  8.334545e-01  \n",
       "22  8.198732e-01  \n",
       "23  8.203889e-01  \n",
       "24  9.024169e-01  \n",
       "25  5.597574e-01  \n",
       "26  6.100087e-01  \n",
       "27  7.536910e-01  \n",
       "28  2.887622e+17  \n",
       "29  9.515040e+18  \n",
       "30  3.767866e+27  \n",
       "31  6.497523e+26  \n",
       "32  2.539297e+26  \n",
       "33  7.026078e+29  \n",
       "34  1.427545e+29  \n",
       "35  3.259060e+28  "
      ]
     },
     "execution_count": 13,
     "metadata": {},
     "output_type": "execute_result"
    }
   ],
   "source": [
    "la_ord_errvar = pyemu.errvar(jco=\"pest_ord.jco\",\n",
    "                             predictions=predictions,\n",
    "                             omitted_parameters=\"mult1\",\n",
    "                             verbose=False)\n",
    "df = la_ord_errvar.get_errvar_dataframe(np.arange(36))\n",
    "df"
   ]
  },
  {
   "cell_type": "markdown",
   "metadata": {},
   "source": [
    "generate some plots to verify"
   ]
  },
  {
   "cell_type": "code",
   "execution_count": 14,
   "metadata": {
    "collapsed": false
   },
   "outputs": [
    {
     "data": {
      "image/png": "[encoded data removed]",
      "text/plain": [
       "<matplotlib.figure.Figure at 0x3988cc0>"
      ]
     },
     "metadata": {},
     "output_type": "display_data"
    }
   ],
   "source": [
    "fig = plt.figure(figsize=(6,6))\n",
    "max_idx = 15\n",
    "idx = np.arange(max_idx)\n",
    "for ipred,pred in enumerate(predictions):\n",
    "    arr = pv1b_results[pred][:max_idx,:]\n",
    "    first = df[(\"first\", pred)][:max_idx]\n",
    "    second = df[(\"second\", pred)][:max_idx]\n",
    "    third = df[(\"third\", pred)][:max_idx]\n",
    "    ax = plt.subplot(len(predictions),1,ipred+1)\n",
    "    #ax.plot(arr[:,1],color='b',dashes=(6,6),lw=4,alpha=0.5)\n",
    "    #ax.plot(first,color='b')\n",
    "    #ax.plot(arr[:,2],color='g',dashes=(6,4),lw=4,alpha=0.5)\n",
    "    #ax.plot(second,color='g')\n",
    "    #ax.plot(arr[:,3],color='r',dashes=(6,4),lw=4,alpha=0.5)\n",
    "    #ax.plot(third,color='r')\n",
    "    \n",
    "    ax.scatter(idx,arr[:,1],marker='x',s=40,color='g',\n",
    "               label=\"PREDVAR1B - first term\")\n",
    "    ax.scatter(idx,arr[:,2],marker='x',s=40,color='b',\n",
    "               label=\"PREDVAR1B - second term\")\n",
    "    ax.scatter(idx,arr[:,3],marker='x',s=40,color='r',\n",
    "               label=\"PREVAR1B - third term\")\n",
    "    ax.scatter(idx,first,marker='o',facecolor='none',\n",
    "               s=50,color='g',label='pyEMU - first term')\n",
    "   \n",
    "    ax.scatter(idx,second,marker='o',facecolor='none',\n",
    "               s=50,color='b',label=\"pyEMU - second term\")\n",
    "    \n",
    "    ax.scatter(idx,third,marker='o',facecolor='none',\n",
    "               s=50,color='r',label=\"pyEMU - third term\")\n",
    "    ax.set_ylabel(\"forecast variance\")\n",
    "    ax.set_title(\"forecast: \" + pred)\n",
    "    if ipred == len(predictions) -1:\n",
    "        ax.legend(loc=\"lower center\",bbox_to_anchor=(0.5,-0.75),\n",
    "                  scatterpoints=1,ncol=2)\n",
    "        ax.set_xlabel(\"singular values\")\n",
    "    #break\n",
    "plt.savefig(\"predvar1b_ver.eps\")    \n",
    "    "
   ]
  }
 ],
 "metadata": {
  "kernelspec": {
   "display_name": "Python 2",
   "language": "python",
   "name": "python2"
  },
  "language_info": {
   "codemirror_mode": {
    "name": "ipython",
    "version": 2
   },
   "file_extension": ".py",
   "mimetype": "text/x-python",
   "name": "python",
   "nbconvert_exporter": "python",
   "pygments_lexer": "ipython2",
   "version": "2.7.7"
  }
 },
 "nbformat": 4,
 "nbformat_minor": 0
}
