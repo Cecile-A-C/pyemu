{
 "metadata": {
  "name": "",
  "signature": "sha256:90a18e720a1be83d4c7118cbf291910ada4d0ef10898b75467add68d67476418"
 },
 "nbformat": 3,
 "nbformat_minor": 0,
 "worksheets": []
}