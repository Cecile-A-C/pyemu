{
 "metadata": {
  "name": "",
  "signature": "sha256:0ad84e2eec47d6ba8da2d9fbc40315e4decbfe2a1d66cd189311bdf892ab75eb"
 },
 "nbformat": 3,
 "nbformat_minor": 0,
 "worksheets": [
  {
   "cells": [
    {
     "cell_type": "markdown",
     "metadata": {},
     "source": [
      "#Verification of predunc, predvar1 and predvar1b"
     ]
    },
    {
     "cell_type": "code",
     "collapsed": false,
     "input": [
      "%pylab inline\n",
      "import os\n",
      "import numpy as np\n",
      "import pylab as plt\n",
      "import pyemu\n",
      "import pst_handler as phand\n",
      "import mat_handler as mhand"
     ],
     "language": "python",
     "metadata": {},
     "outputs": [
      {
       "output_type": "stream",
       "stream": "stdout",
       "text": [
        "Populating the interactive namespace from numpy and matplotlib\n"
       ]
      },
      {
       "output_type": "stream",
       "stream": "stderr",
       "text": [
        "WARNING: pylab import has clobbered these variables: ['plt']\n",
        "`%matplotlib` prevents importing * from pylab and numpy\n"
       ]
      }
     ],
     "prompt_number": 4
    },
    {
     "cell_type": "markdown",
     "metadata": {},
     "source": [
      "first run pest++ to calc an JCO"
     ]
    },
    {
     "cell_type": "code",
     "collapsed": false,
     "input": [
      "base = \"pest\"\n",
      "os.systen(\"pest++.exe <\"+base+\".pst\")"
     ],
     "language": "python",
     "metadata": {},
     "outputs": [],
     "prompt_number": 6
    },
    {
     "cell_type": "code",
     "collapsed": false,
     "input": [],
     "language": "python",
     "metadata": {},
     "outputs": []
    }
   ],
   "metadata": {}
  }
 ]
}